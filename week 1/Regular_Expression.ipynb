{
  "nbformat": 4,
  "nbformat_minor": 0,
  "metadata": {
    "colab": {
      "provenance": [],
      "collapsed_sections": [],
      "include_colab_link": true
    },
    "kernelspec": {
      "name": "python3",
      "display_name": "Python 3"
    },
    "language_info": {
      "name": "python"
    }
  },
  "cells": [
    {
      "cell_type": "markdown",
      "metadata": {
        "id": "view-in-github",
        "colab_type": "text"
      },
      "source": [
        "<a href=\"https://colab.research.google.com/github/kefasmanu/NLP-FELLOWSHIP/blob/main/week%201/Regular_Expression.ipynb\" target=\"_parent\"><img src=\"https://colab.research.google.com/assets/colab-badge.svg\" alt=\"Open In Colab\"/></a>"
      ]
    },
    {
      "cell_type": "markdown",
      "source": [
        "### Python Regex (Regular Expression or RE) | Operations"
      ],
      "metadata": {
        "id": "ao_CwAZZiLlT"
      }
    },
    {
      "cell_type": "markdown",
      "source": [
        "Regular expressions  (REs, or regexes, or regex patterns) are used to identify whether a pattern exists in a given sequence of strings or not. For example validation of Email, phone number, and passwords, etc. Python Regex is basic a tiny, highly specialized programming language embedded inside Python, which is available through the re module."
      ],
      "metadata": {
        "id": "cy27FdKRj2PS"
      }
    },
    {
      "cell_type": "code",
      "execution_count": 1,
      "metadata": {
        "id": "E0b3smJ9Qm_h",
        "colab": {
          "base_uri": "https://localhost:8080/"
        },
        "outputId": "f4240918-1fef-4105-cc83-f8b78d6f7b3e"
      },
      "outputs": [
        {
          "output_type": "stream",
          "name": "stdout",
          "text": [
            "<callable_iterator object at 0x7f917269ec10>\n"
          ]
        }
      ],
      "source": [
        "import re\n",
        "test_string = \"agcdhh8794AFER341\"\n",
        "pattern = re.compile(r\"dhh\")\n",
        "matches = pattern.finditer(test_string)\n",
        "print(matches)"
      ]
    },
    {
      "cell_type": "markdown",
      "source": [
        "# Python Regex Syntax\n",
        "In Python, regular expressions are supported by the re module. It’s required to import a module in your code to use Python Regex."
      ],
      "metadata": {
        "id": "TR_h9GBFkG7h"
      }
    },
    {
      "cell_type": "markdown",
      "source": [
        "# Simple String matching Regular Expression Example :\n",
        "Here is importing a python re module and matching the string"
      ],
      "metadata": {
        "id": "6fV25soaiRNj"
      }
    },
    {
      "cell_type": "code",
      "source": [
        "import re\n",
        "pattern = r\"NLP Fellowship\"\n",
        "sequence = \"NLP fellowship\"\n",
        "if re.match(pattern, sequence):\n",
        "  print(\"Matched!\")\n",
        "else: print(\"Not a matched!\")"
      ],
      "metadata": {
        "colab": {
          "base_uri": "https://localhost:8080/"
        },
        "id": "SjMIQv6fkcf3",
        "outputId": "2f577db2-1f72-41fe-af5b-7df4be8e0c93"
      },
      "execution_count": 4,
      "outputs": [
        {
          "output_type": "stream",
          "name": "stdout",
          "text": [
            "Not a matched!\n"
          ]
        }
      ]
    },
    {
      "cell_type": "markdown",
      "source": [
        "# Python regular expression methods"
      ],
      "metadata": {
        "id": "odsCWBszmC4b"
      }
    },
    {
      "cell_type": "code",
      "source": [
        "# Python re.match() Function Example :\n",
        "# Matching the word in a string.\n",
        "\n",
        "import re\n",
        "\n",
        "msg = \"split the string in python\"\n",
        "print(re.match(\"split\",msg))"
      ],
      "metadata": {
        "colab": {
          "base_uri": "https://localhost:8080/"
        },
        "id": "fLlhfNi3mL6H",
        "outputId": "65b2ef1f-c9d3-4c6d-e744-95c7250624fb"
      },
      "execution_count": 5,
      "outputs": [
        {
          "output_type": "stream",
          "name": "stdout",
          "text": [
            "<re.Match object; span=(0, 5), match='split'>\n"
          ]
        }
      ]
    },
    {
      "cell_type": "code",
      "source": [
        "# re.findall()\n",
        "#re.findall(pattern, \"anyvariable\")\n",
        "import re\n",
        "anyvariable= \" I am feeling so cold because it was raining in the morning, I don't drink cold water\"\n",
        "x = re.findall(\"I\",anyvariable)\n",
        "print(x)"
      ],
      "metadata": {
        "colab": {
          "base_uri": "https://localhost:8080/"
        },
        "id": "1SbZU4xpYYUk",
        "outputId": "1216a6ad-582e-4301-9d9c-782ae4db6497"
      },
      "execution_count": 6,
      "outputs": [
        {
          "output_type": "stream",
          "name": "stdout",
          "text": [
            "['I', 'I']\n"
          ]
        }
      ]
    },
    {
      "cell_type": "code",
      "source": [
        "#re.search()\n",
        "#it returns a match object of the first location of the pattern in string\n",
        "import re\n",
        "anyvariable= \" I am feeling so cold because it was raining in the morning, I don't drink cold water\"\n",
        "x = re.search(\"cold\",anyvariable)\n",
        "print(x)\n",
        "if x:\n",
        "  print(\"First location of the pattern is\",x.start())\n",
        "\n",
        "else:\n",
        "  print(\"No mtch\")\n"
      ],
      "metadata": {
        "colab": {
          "base_uri": "https://localhost:8080/"
        },
        "id": "i_BXHYDtZWCk",
        "outputId": "d47d11d8-e969-48fb-c6a3-1ea9e69862cd"
      },
      "execution_count": 7,
      "outputs": [
        {
          "output_type": "stream",
          "name": "stdout",
          "text": [
            "<re.Match object; span=(17, 21), match='cold'>\n",
            "First location of the pattern is 17\n"
          ]
        }
      ]
    },
    {
      "cell_type": "code",
      "source": [
        "# re.split\n",
        "# it returns a list where the string has been split at each match\n",
        "import re\n",
        "anyvariable= \" I am feeling so cold because it was raining in the morning, I don't drink cold water\"\n",
        "x = re.split(\"cold\",anyvariable)\n",
        "print(x)"
      ],
      "metadata": {
        "colab": {
          "base_uri": "https://localhost:8080/"
        },
        "id": "aA1s4rxPa_3D",
        "outputId": "b829db42-0e78-4897-c658-ea096cf4a81c"
      },
      "execution_count": null,
      "outputs": [
        {
          "output_type": "stream",
          "name": "stdout",
          "text": [
            "[' I am feeling so ', \" because it was raining in the morning, I don't drink \", ' water']\n"
          ]
        }
      ]
    },
    {
      "cell_type": "code",
      "source": [
        "# re.sub()\n",
        "# It replaces one or many matches with a string\n",
        "import re\n",
        "anyvariable= \" I am feeling so cold because it was raining in the morning, I don't drink cold water\"\n",
        "x = re.sub(\"cold\",\"hot\",anyvariable)\n",
        "print(x)"
      ],
      "metadata": {
        "colab": {
          "base_uri": "https://localhost:8080/"
        },
        "id": "yApkgD4acUoW",
        "outputId": "e5121b19-96e1-4e57-bc1f-0e305b0288eb"
      },
      "execution_count": null,
      "outputs": [
        {
          "output_type": "stream",
          "name": "stdout",
          "text": [
            " I am feeling so hot because it was raining in the morning, I don't drink hot water\n"
          ]
        }
      ]
    },
    {
      "cell_type": "code",
      "source": [
        "# re.sub()\n",
        "# It replaces one or many matches with a string\n",
        "import re\n",
        "anyvariable= \" I am feeling so cold because it was raining in the morning, I don't drink cold water\"\n",
        "x = re.sub(\"cold\",\"hot\",anyvariable)\n",
        "print(x)"
      ],
      "metadata": {
        "id": "mEqGAsaGdVTK"
      },
      "execution_count": null,
      "outputs": []
    },
    {
      "cell_type": "code",
      "source": [
        "any_v = \"word hello dynimite hello jhdbhsd hello suzan job sksdm hell\"\n",
        "t=re.sub(\"hello\", \"salama\", any_v)\n",
        "print(t)"
      ],
      "metadata": {
        "colab": {
          "base_uri": "https://localhost:8080/"
        },
        "id": "jkSLVHFKeKAl",
        "outputId": "4bcaa9af-c266-491a-ac33-8a5a9fde5ad4"
      },
      "execution_count": 8,
      "outputs": [
        {
          "output_type": "stream",
          "name": "stdout",
          "text": [
            "word salama dynimite salama jhdbhsd salama suzan job sksdm hell\n"
          ]
        }
      ]
    },
    {
      "cell_type": "code",
      "source": [
        "any_v = \"word hello dynimite hello jhdbhsd hello suzan job sksdm hell\"\n",
        "t=re.sub(\"hello\", \"salama\", any_v,1)\n",
        "print(t)"
      ],
      "metadata": {
        "colab": {
          "base_uri": "https://localhost:8080/"
        },
        "id": "l5XT1Ikoeewo",
        "outputId": "f62f9df0-bdf5-4c6f-eaa6-48cc9bd40a25"
      },
      "execution_count": 9,
      "outputs": [
        {
          "output_type": "stream",
          "name": "stdout",
          "text": [
            "word salama dynimite hello jhdbhsd hello suzan job sksdm hell\n"
          ]
        }
      ]
    },
    {
      "cell_type": "code",
      "source": [
        "\n",
        "## Use raw strings for the search pattern\n",
        "x = '\\tSalut'\n",
        "y = r'\\tSalut'\n",
        "print(x)\n",
        "print(y)"
      ],
      "metadata": {
        "colab": {
          "base_uri": "https://localhost:8080/"
        },
        "id": "_KXvmhuGkUGY",
        "outputId": "8943a665-6206-4c72-8b09-ac8cf056690b"
      },
      "execution_count": 10,
      "outputs": [
        {
          "output_type": "stream",
          "name": "stdout",
          "text": [
            "\tSalut\n",
            "\\tSalut\n"
          ]
        }
      ]
    },
    {
      "cell_type": "code",
      "source": [
        "matches = re.finditer(r\"dhh\",test_string)"
      ],
      "metadata": {
        "id": "3F8vDluijadm"
      },
      "execution_count": 11,
      "outputs": []
    },
    {
      "cell_type": "code",
      "source": [
        "for match in matches:\n",
        "  print(match)"
      ],
      "metadata": {
        "colab": {
          "base_uri": "https://localhost:8080/"
        },
        "id": "Bbi_kdqhj14n",
        "outputId": "57d759f5-3f0c-40c6-925b-33bb1f02efd7"
      },
      "execution_count": 12,
      "outputs": [
        {
          "output_type": "stream",
          "name": "stdout",
          "text": [
            "<re.Match object; span=(3, 6), match='dhh'>\n"
          ]
        }
      ]
    },
    {
      "cell_type": "code",
      "source": [],
      "metadata": {
        "id": "ZXI2ZYACj-bd"
      },
      "execution_count": null,
      "outputs": []
    },
    {
      "cell_type": "markdown",
      "source": [
        "\n",
        "## Modification methods\n",
        "\n",
        "\n",
        "1.   split(): Returns a list where the string has been split at each match\n",
        "2.   sub(): Replaces one or many matches with a string\n",
        "\n"
      ],
      "metadata": {
        "id": "tG6T41NvkqeN"
      }
    },
    {
      "cell_type": "code",
      "source": [
        "# finditer()\n",
        "first_string = 'nlp+fellowship/cohort1/2022'\n",
        "pattern = re.compile(r'fellow')\n",
        "matches = pattern.finditer(first_string)\n",
        "for match in matches:\n",
        "    print(match)\n",
        "    print(match.span(), match.start(), match.end())\n",
        "    print(match.group()) # returns the string\n",
        "print()"
      ],
      "metadata": {
        "colab": {
          "base_uri": "https://localhost:8080/"
        },
        "id": "8RzaZt8Nk1oJ",
        "outputId": "e4b3bdc0-a0d4-4363-e207-86f9bc179dfb"
      },
      "execution_count": 13,
      "outputs": [
        {
          "output_type": "stream",
          "name": "stdout",
          "text": [
            "<re.Match object; span=(4, 10), match='fellow'>\n",
            "(4, 10) 4 10\n",
            "fellow\n",
            "\n"
          ]
        }
      ]
    },
    {
      "cell_type": "code",
      "source": [
        "# findall()\n",
        "pattern = re.compile(r'fellow')\n",
        "matches = pattern.findall(first_string)\n",
        "for match in matches:\n",
        "    print(match)\n",
        "\n",
        "print()"
      ],
      "metadata": {
        "colab": {
          "base_uri": "https://localhost:8080/"
        },
        "id": "xiNBFTEmlJMk",
        "outputId": "7bb7fc46-3322-41a5-f7a6-f35f89957c11"
      },
      "execution_count": 14,
      "outputs": [
        {
          "output_type": "stream",
          "name": "stdout",
          "text": [
            "fellow\n",
            "\n"
          ]
        }
      ]
    },
    {
      "cell_type": "code",
      "source": [
        "# match()\n",
        "match = pattern.match(first_string)\n",
        "print(match)\n",
        "pattern = re.compile(r'fellow')\n",
        "match = pattern.match(first_string)\n",
        "print(match)\n",
        "\n",
        "print()"
      ],
      "metadata": {
        "colab": {
          "base_uri": "https://localhost:8080/"
        },
        "id": "-JmUiEIelpB1",
        "outputId": "92e3d8a4-67ff-4d29-ff5f-3f6e62abd964"
      },
      "execution_count": 15,
      "outputs": [
        {
          "output_type": "stream",
          "name": "stdout",
          "text": [
            "None\n",
            "None\n",
            "\n"
          ]
        }
      ]
    },
    {
      "cell_type": "code",
      "source": [
        "# search()\n",
        "match = pattern.search(first_string)\n",
        "print(match)"
      ],
      "metadata": {
        "colab": {
          "base_uri": "https://localhost:8080/"
        },
        "id": "S1pvnqjAl4LU",
        "outputId": "a4fe282d-df40-4ac0-dd30-5ef8d726d2a0"
      },
      "execution_count": null,
      "outputs": [
        {
          "output_type": "stream",
          "name": "stdout",
          "text": [
            "<re.Match object; span=(4, 10), match='fellow'>\n"
          ]
        }
      ]
    },
    {
      "cell_type": "markdown",
      "source": [
        "**Note:** Methods can also be used on the re module directly. Although it makes little difference, some people prefer explicitly precompiling and binding the pattern to a reusable variable."
      ],
      "metadata": {
        "id": "_qL5H1Kfmbou"
      }
    },
    {
      "cell_type": "markdown",
      "source": [
        "## Methods on a Match object\n",
        "\n",
        "\n",
        "1.   group(): Return the string matched by the RE\n",
        "2. start(): Return the starting position of the match\n",
        "3. end(): Return the ending position of the match\n",
        "4. span(): Return a tuple containing the (start, end) positions of the match\n"
      ],
      "metadata": {
        "id": "DPVur-Csm6wY"
      }
    },
    {
      "cell_type": "code",
      "source": [
        "first_string = 'nlp+fellowship/cohort1/2022'\n",
        "pattern = re.compile(r'fellowship')\n",
        "matches = pattern.finditer(first_string)\n",
        "for match in matches:\n",
        "    print(match)\n",
        "    print(match.span(), match.start(), match.end())\n",
        "    print(match.group()) # returns the substring that was matched by the RE"
      ],
      "metadata": {
        "id": "0l5ag4YTmBW3",
        "colab": {
          "base_uri": "https://localhost:8080/"
        },
        "outputId": "9dd651b0-03e4-4542-b65c-dcbcfea69c72"
      },
      "execution_count": 16,
      "outputs": [
        {
          "output_type": "stream",
          "name": "stdout",
          "text": [
            "<re.Match object; span=(4, 14), match='fellowship'>\n",
            "(4, 14) 4 14\n",
            "fellowship\n"
          ]
        }
      ]
    },
    {
      "cell_type": "markdown",
      "source": [
        "## Meta characters\n",
        "Metacharacters are characters with a special meaning:\n",
        "All meta characters: . ^ $ * + ? { } [ ] \\ | ( )\n",
        "Meta characters need need to be escaped (with ) if we actually want to search for the char."
      ],
      "metadata": {
        "id": "JRUtSAAspN5-"
      }
    },
    {
      "cell_type": "code",
      "source": [
        "# Meta characters need to be escaped with if we actually want to search for the char\n",
        "\n",
        "test_char = 'huzalabs.com'\n",
        "pattern = re.compile(r'\\.com')\n",
        "matches = pattern.finditer(test_char)\n",
        "for match in matches:\n",
        "    print(match)"
      ],
      "metadata": {
        "colab": {
          "base_uri": "https://localhost:8080/"
        },
        "id": "bSAlX6FsoLuj",
        "outputId": "fb657dac-ea33-43e3-d8b2-2233951581d6"
      },
      "execution_count": 17,
      "outputs": [
        {
          "output_type": "stream",
          "name": "stdout",
          "text": [
            "<re.Match object; span=(8, 12), match='.com'>\n"
          ]
        }
      ]
    },
    {
      "cell_type": "markdown",
      "source": [
        "## More Metacharacters / Special Sequences\n",
        "A special sequence is a \\ followed by one of the characters in the list below, and has a special meaning:\n",
        "1. \\d :Matches any decimal digit; this is equivalent to the class [0-9].\n",
        "2. \\D : Matches any non-digit character; this is equivalent to the class [^0-9].\n",
        "3. \\s : Matches any whitespace character;\n",
        "4. \\S : Matches any non-whitespace character;\n",
        "5. \\w : Matches any alphanumeric (word) character; this is equivalent to the class [a-zA-Z0-9_].\n",
        "6. \\W : Matches any non-alphanumeric character; this is equivalent to the class [^a-zA-Z0-9_].\n",
        "7. \\b Returns a match where the specified characters are at the beginning or at the end of a word r\"\\bain\" r\"ain\\b\"\n",
        "8. \\B Returns a match where the specified characters are present, but NOT at the beginning (or at the end) of a word r\"\\Bain\" r\"ain\\B\"\n",
        "9. \\A Returns a match if the specified characters are at the beginning of the string \"\\AThe\"\n",
        "10. \\Z Returns a match if the specified characters are at the end of the string \"Spain\\Z\""
      ],
      "metadata": {
        "id": "4WTInXBBpo2j"
      }
    },
    {
      "cell_type": "code",
      "source": [
        "test_char = 'Salut 2022_ is Satthe end'\n",
        "pattern = re.compile(r'\\d')\n",
        "matches = pattern.finditer(test_char)\n",
        "for match in matches:\n",
        "    print(match)\n",
        "\n",
        "print()"
      ],
      "metadata": {
        "colab": {
          "base_uri": "https://localhost:8080/"
        },
        "id": "ryZ7p_KUplMh",
        "outputId": "7c7db569-599b-472a-fe6f-f0fa89757578"
      },
      "execution_count": 18,
      "outputs": [
        {
          "output_type": "stream",
          "name": "stdout",
          "text": [
            "<re.Match object; span=(6, 7), match='2'>\n",
            "<re.Match object; span=(7, 8), match='0'>\n",
            "<re.Match object; span=(8, 9), match='2'>\n",
            "<re.Match object; span=(9, 10), match='2'>\n",
            "\n"
          ]
        }
      ]
    },
    {
      "cell_type": "code",
      "source": [
        "\n",
        "test_char = 'Salut 2022_ is Satthe end'\n",
        "pattern = re.compile(r'\\s')\n",
        "matches = pattern.finditer(test_char)\n",
        "for match in matches:\n",
        "    print(match)\n",
        "    \n",
        "print()"
      ],
      "metadata": {
        "colab": {
          "base_uri": "https://localhost:8080/"
        },
        "id": "TjpOtLYLqbNV",
        "outputId": "5d3d153c-7bf7-4cad-aebe-df42e7d1a9aa"
      },
      "execution_count": 19,
      "outputs": [
        {
          "output_type": "stream",
          "name": "stdout",
          "text": [
            "<re.Match object; span=(5, 6), match=' '>\n",
            "<re.Match object; span=(11, 12), match=' '>\n",
            "<re.Match object; span=(14, 15), match=' '>\n",
            "<re.Match object; span=(21, 22), match=' '>\n",
            "\n"
          ]
        }
      ]
    },
    {
      "cell_type": "code",
      "source": [
        "\n",
        "test_char = 'Salut 2022_ is Satthe end ^'\n",
        "pattern = re.compile(r'\\W')\n",
        "matches = pattern.finditer(test_char)\n",
        "for match in matches:\n",
        "    print(match)\n",
        "    \n",
        "print()"
      ],
      "metadata": {
        "colab": {
          "base_uri": "https://localhost:8080/"
        },
        "id": "U0Keg5LlrBhW",
        "outputId": "4454a5c3-717f-465d-af89-323caefc7831"
      },
      "execution_count": 20,
      "outputs": [
        {
          "output_type": "stream",
          "name": "stdout",
          "text": [
            "<re.Match object; span=(5, 6), match=' '>\n",
            "<re.Match object; span=(11, 12), match=' '>\n",
            "<re.Match object; span=(14, 15), match=' '>\n",
            "<re.Match object; span=(21, 22), match=' '>\n",
            "<re.Match object; span=(25, 26), match=' '>\n",
            "<re.Match object; span=(26, 27), match='^'>\n",
            "\n"
          ]
        }
      ]
    },
    {
      "cell_type": "code",
      "source": [
        "test_char = 'Salut 2022_ is Satthe end ^'\n",
        "pattern = re.compile(r'\\w')\n",
        "matches = pattern.finditer(test_char)\n",
        "for match in matches:\n",
        "    print(match)\n",
        "    \n",
        "print()"
      ],
      "metadata": {
        "colab": {
          "base_uri": "https://localhost:8080/"
        },
        "id": "Zm2pIoeikcmg",
        "outputId": "ceeaffa3-552f-497e-e6fb-6b5976324d54"
      },
      "execution_count": 21,
      "outputs": [
        {
          "output_type": "stream",
          "name": "stdout",
          "text": [
            "<re.Match object; span=(0, 1), match='S'>\n",
            "<re.Match object; span=(1, 2), match='a'>\n",
            "<re.Match object; span=(2, 3), match='l'>\n",
            "<re.Match object; span=(3, 4), match='u'>\n",
            "<re.Match object; span=(4, 5), match='t'>\n",
            "<re.Match object; span=(6, 7), match='2'>\n",
            "<re.Match object; span=(7, 8), match='0'>\n",
            "<re.Match object; span=(8, 9), match='2'>\n",
            "<re.Match object; span=(9, 10), match='2'>\n",
            "<re.Match object; span=(10, 11), match='_'>\n",
            "<re.Match object; span=(12, 13), match='i'>\n",
            "<re.Match object; span=(13, 14), match='s'>\n",
            "<re.Match object; span=(15, 16), match='S'>\n",
            "<re.Match object; span=(16, 17), match='a'>\n",
            "<re.Match object; span=(17, 18), match='t'>\n",
            "<re.Match object; span=(18, 19), match='t'>\n",
            "<re.Match object; span=(19, 20), match='h'>\n",
            "<re.Match object; span=(20, 21), match='e'>\n",
            "<re.Match object; span=(22, 23), match='e'>\n",
            "<re.Match object; span=(23, 24), match='n'>\n",
            "<re.Match object; span=(24, 25), match='d'>\n",
            "\n"
          ]
        }
      ]
    },
    {
      "cell_type": "code",
      "source": [
        "pattern = re.compile(r'\\bend')\n",
        "matches = pattern.finditer('Satthe end') # Satthe end are matches!\n",
        "for match in matches:\n",
        "    print(match)\n",
        "    \n",
        "print()"
      ],
      "metadata": {
        "colab": {
          "base_uri": "https://localhost:8080/"
        },
        "id": "hOMyOncSrGLm",
        "outputId": "88d99ca4-0f1a-493b-e11a-3424008d3814"
      },
      "execution_count": 22,
      "outputs": [
        {
          "output_type": "stream",
          "name": "stdout",
          "text": [
            "<re.Match object; span=(7, 10), match='end'>\n",
            "\n"
          ]
        }
      ]
    },
    {
      "cell_type": "code",
      "source": [
        "pattern = re.compile(r'\\ASalut')\n",
        "matches = pattern.finditer(test_char)\n",
        "for match in matches:\n",
        "    print(match)\n",
        "    \n",
        "print()"
      ],
      "metadata": {
        "colab": {
          "base_uri": "https://localhost:8080/"
        },
        "id": "245QQfhArn6O",
        "outputId": "47f7478c-7b5b-40dd-a054-b36422378305"
      },
      "execution_count": 23,
      "outputs": [
        {
          "output_type": "stream",
          "name": "stdout",
          "text": [
            "<re.Match object; span=(0, 5), match='Salut'>\n",
            "\n"
          ]
        }
      ]
    },
    {
      "cell_type": "code",
      "source": [
        "pattern = re.compile(r'2022_\\Z')\n",
        "matches = pattern.finditer(test_char)\n",
        "for match in matches:\n",
        "  print(match)\n"
      ],
      "metadata": {
        "id": "VBbj0lr5r5U3"
      },
      "execution_count": 24,
      "outputs": []
    },
    {
      "cell_type": "markdown",
      "source": [
        "## Sets\n",
        "A set is a set of characters inside a pair of square brackets [] with a special meaning. Append multiple conditions back-to back, e.g. [aA-Z]."
      ],
      "metadata": {
        "id": "rpnp9Vh7tS3y"
      }
    },
    {
      "cell_type": "code",
      "source": [
        "test_char = 'Salut 2022_'\n",
        "pattern = re.compile(r'[A-Z]')\n",
        "matches = pattern.finditer(test_char)\n",
        "for match in matches:\n",
        "    print(match)"
      ],
      "metadata": {
        "colab": {
          "base_uri": "https://localhost:8080/"
        },
        "id": "fp_H7gJmsMFH",
        "outputId": "0311460c-623b-4d56-bf87-3e93b7c21b64"
      },
      "execution_count": 28,
      "outputs": [
        {
          "output_type": "stream",
          "name": "stdout",
          "text": [
            "<re.Match object; span=(0, 1), match='S'>\n"
          ]
        }
      ]
    },
    {
      "cell_type": "code",
      "source": [
        "dates = '''\n",
        "21.05.2022\n",
        "2022.05.21\n",
        "2022-04-01\n",
        "2022-05-23\n",
        "2022-06-11\n",
        "2022-07-11\n",
        "2022-08-11\n",
        "2022/08/02\n",
        "2022_08_04\n",
        "2022_08_04\n",
        "'''\n",
        "\n",
        "print('all dates with a character in between')\n",
        "pattern = re.compile(r'\\d\\d\\d\\d.\\d\\d.\\d\\d')\n",
        "matches = pattern.finditer(dates)\n",
        "for match in matches:\n",
        "    print(match)\n",
        "print()"
      ],
      "metadata": {
        "colab": {
          "base_uri": "https://localhost:8080/"
        },
        "id": "0xzD6GUYtkfV",
        "outputId": "4e1d4437-8c45-4eb1-cd19-e6b030099d71"
      },
      "execution_count": 29,
      "outputs": [
        {
          "output_type": "stream",
          "name": "stdout",
          "text": [
            "all dates with a character in between\n",
            "<re.Match object; span=(12, 22), match='2022.05.21'>\n",
            "<re.Match object; span=(23, 33), match='2022-04-01'>\n",
            "<re.Match object; span=(34, 44), match='2022-05-23'>\n",
            "<re.Match object; span=(45, 55), match='2022-06-11'>\n",
            "<re.Match object; span=(56, 66), match='2022-07-11'>\n",
            "<re.Match object; span=(67, 77), match='2022-08-11'>\n",
            "<re.Match object; span=(78, 88), match='2022/08/02'>\n",
            "<re.Match object; span=(89, 99), match='2022_08_04'>\n",
            "<re.Match object; span=(100, 110), match='2022_08_04'>\n",
            "\n"
          ]
        }
      ]
    },
    {
      "cell_type": "code",
      "source": [
        "print('only dates with - or . in between')\n",
        "pattern = re.compile(r'\\d\\d\\d\\d[-.]\\d\\d[-.]\\d\\d') #  no escape for the . here in the set\n",
        "matches = pattern.finditer(dates)\n",
        "for match in matches:\n",
        "    print(match)"
      ],
      "metadata": {
        "colab": {
          "base_uri": "https://localhost:8080/"
        },
        "id": "GxypsD0_uIjN",
        "outputId": "e81c6181-4fd7-4fb5-ecad-fb4ea3c8de6d"
      },
      "execution_count": 30,
      "outputs": [
        {
          "output_type": "stream",
          "name": "stdout",
          "text": [
            "only dates with - or . in between\n",
            "<re.Match object; span=(12, 22), match='2022.05.21'>\n",
            "<re.Match object; span=(23, 33), match='2022-04-01'>\n",
            "<re.Match object; span=(34, 44), match='2022-05-23'>\n",
            "<re.Match object; span=(45, 55), match='2022-06-11'>\n",
            "<re.Match object; span=(56, 66), match='2022-07-11'>\n",
            "<re.Match object; span=(67, 77), match='2022-08-11'>\n"
          ]
        }
      ]
    },
    {
      "cell_type": "code",
      "source": [
        "print()\n",
        "print('only dates with - or . in between in May or June')\n",
        "pattern = re.compile(r'\\d\\d\\d\\d[-.]0[56][-.]\\d\\d')\n",
        "matches = pattern.finditer(dates)\n",
        "for match in matches:\n",
        "    print(match)"
      ],
      "metadata": {
        "colab": {
          "base_uri": "https://localhost:8080/"
        },
        "id": "bNsVBPrvuNFq",
        "outputId": "84eb1dcc-46ba-453e-a731-869a0f29bd43"
      },
      "execution_count": 31,
      "outputs": [
        {
          "output_type": "stream",
          "name": "stdout",
          "text": [
            "\n",
            "only dates with - or . in between in May or June\n",
            "<re.Match object; span=(12, 22), match='2022.05.21'>\n",
            "<re.Match object; span=(34, 44), match='2022-05-23'>\n",
            "<re.Match object; span=(45, 55), match='2022-06-11'>\n"
          ]
        }
      ]
    },
    {
      "cell_type": "code",
      "source": [
        "# a dash in a character set specifies a range if it is in between, otherwise the dash itself\n",
        "print()\n",
        "print('only dates with - or . in between in May, June, July')\n",
        "pattern = re.compile(r'\\d\\d\\d\\d[-.]0[5-7][-.]\\d\\d') #  no escape for the . here in the set\n",
        "matches = pattern.finditer(dates)\n",
        "for match in matches:\n",
        "    print(match)"
      ],
      "metadata": {
        "colab": {
          "base_uri": "https://localhost:8080/"
        },
        "id": "F2zhtBMEuTzb",
        "outputId": "92ca71ad-86ff-4c50-c7d5-84adfc756097"
      },
      "execution_count": 32,
      "outputs": [
        {
          "output_type": "stream",
          "name": "stdout",
          "text": [
            "\n",
            "only dates with - or . in between in May, June, July\n",
            "<re.Match object; span=(12, 22), match='2022.05.21'>\n",
            "<re.Match object; span=(34, 44), match='2022-05-23'>\n",
            "<re.Match object; span=(45, 55), match='2022-06-11'>\n",
            "<re.Match object; span=(56, 66), match='2022-07-11'>\n"
          ]
        }
      ]
    },
    {
      "cell_type": "markdown",
      "source": [
        "## Quantifier\n",
        "1.  * : 0 or more\n",
        "2.  + : 1 or more\n",
        "3.  ? : 0 or 1, used when a character can be optional\n",
        "4.  {4} : exact number\n",
        "5.  {4,6} : range numbers (min, max)"
      ],
      "metadata": {
        "id": "kqnJ7Z8UugnK"
      }
    },
    {
      "cell_type": "code",
      "source": [
        "my_string = 'salut_2023'\n",
        "pattern = re.compile(r'\\d*')\n",
        "matches = pattern.finditer(my_string)\n",
        "for match in matches:\n",
        "    print(match)\n",
        "\n",
        "print()"
      ],
      "metadata": {
        "colab": {
          "base_uri": "https://localhost:8080/"
        },
        "id": "_RVBfRf-uYJ6",
        "outputId": "65e170af-6ac8-476b-baa1-07a15c6b1c97"
      },
      "execution_count": 33,
      "outputs": [
        {
          "output_type": "stream",
          "name": "stdout",
          "text": [
            "<re.Match object; span=(0, 0), match=''>\n",
            "<re.Match object; span=(1, 1), match=''>\n",
            "<re.Match object; span=(2, 2), match=''>\n",
            "<re.Match object; span=(3, 3), match=''>\n",
            "<re.Match object; span=(4, 4), match=''>\n",
            "<re.Match object; span=(5, 5), match=''>\n",
            "<re.Match object; span=(6, 10), match='2023'>\n",
            "<re.Match object; span=(10, 10), match=''>\n",
            "\n"
          ]
        }
      ]
    },
    {
      "cell_type": "code",
      "source": [
        "anystring=\"hello_2022_7-5\"\n",
        "pattern = re.compile(r'_?\\d')\n",
        "matches = pattern.finditer(anystring)\n",
        "for match in matches:\n",
        "  print(match)"
      ],
      "metadata": {
        "colab": {
          "base_uri": "https://localhost:8080/"
        },
        "id": "5TFIhshEo__V",
        "outputId": "df8b63bb-923a-466d-8212-0b518239f5c9"
      },
      "execution_count": 34,
      "outputs": [
        {
          "output_type": "stream",
          "name": "stdout",
          "text": [
            "<re.Match object; span=(5, 7), match='_2'>\n",
            "<re.Match object; span=(7, 8), match='0'>\n",
            "<re.Match object; span=(8, 9), match='2'>\n",
            "<re.Match object; span=(9, 10), match='2'>\n",
            "<re.Match object; span=(10, 12), match='_7'>\n",
            "<re.Match object; span=(13, 14), match='5'>\n"
          ]
        }
      ]
    },
    {
      "cell_type": "code",
      "source": [
        "anystring=\"2022-1-20\"\n",
        "pattern = re.compile(r'\\d{4}')\n",
        "matches = pattern.finditer(anystring)\n",
        "for match in matches:\n",
        "  print(match)"
      ],
      "metadata": {
        "colab": {
          "base_uri": "https://localhost:8080/"
        },
        "id": "UHEn3i3PqCTh",
        "outputId": "f40de19d-457b-46d6-e764-abac37acaabb"
      },
      "execution_count": 35,
      "outputs": [
        {
          "output_type": "stream",
          "name": "stdout",
          "text": [
            "<re.Match object; span=(0, 4), match='2022'>\n"
          ]
        }
      ]
    },
    {
      "cell_type": "code",
      "source": [
        "pattern = re.compile(r'\\d+')\n",
        "matches = pattern.finditer(my_string)\n",
        "for match in matches:\n",
        "    print(match)\n",
        "    \n",
        "print()"
      ],
      "metadata": {
        "colab": {
          "base_uri": "https://localhost:8080/"
        },
        "id": "PEOh1BrCu8Py",
        "outputId": "41a9ffad-25a6-4fe1-c87b-cbcf114b1830"
      },
      "execution_count": 36,
      "outputs": [
        {
          "output_type": "stream",
          "name": "stdout",
          "text": [
            "<re.Match object; span=(6, 10), match='2023'>\n",
            "\n"
          ]
        }
      ]
    },
    {
      "cell_type": "code",
      "source": [
        "my_string = 'salut_2_0_2-3'\n",
        "pattern = re.compile(r'_?\\d')\n",
        "matches = pattern.finditer(my_string)\n",
        "for match in matches:\n",
        "    print(match)\n",
        "    \n",
        "print()"
      ],
      "metadata": {
        "colab": {
          "base_uri": "https://localhost:8080/"
        },
        "id": "mdBUBUadu_mF",
        "outputId": "19423c05-25fc-4de8-89c4-7028798556c4"
      },
      "execution_count": 37,
      "outputs": [
        {
          "output_type": "stream",
          "name": "stdout",
          "text": [
            "<re.Match object; span=(5, 7), match='_2'>\n",
            "<re.Match object; span=(7, 9), match='_0'>\n",
            "<re.Match object; span=(9, 11), match='_2'>\n",
            "<re.Match object; span=(12, 13), match='3'>\n",
            "\n"
          ]
        }
      ]
    },
    {
      "cell_type": "code",
      "source": [
        "my_string = '2022-04-01'\n",
        "pattern = re.compile(r'\\d{4}') # or if you need a range r'\\d{3,5}'\n",
        "matches = pattern.finditer(my_string)\n",
        "for match in matches:\n",
        "    print(match)"
      ],
      "metadata": {
        "colab": {
          "base_uri": "https://localhost:8080/"
        },
        "id": "SKsza7NrvKWy",
        "outputId": "6060aa5a-6a97-4ee3-a8c1-dfd437b982a9"
      },
      "execution_count": 38,
      "outputs": [
        {
          "output_type": "stream",
          "name": "stdout",
          "text": [
            "<re.Match object; span=(0, 4), match='2022'>\n"
          ]
        }
      ]
    },
    {
      "cell_type": "code",
      "source": [
        "my_string = '2022-04-01'\n",
        "pattern = re.compile(r'\\d{2,4}') # or if you need a range r'\\d{3,5}'\n",
        "matches = pattern.finditer(my_string)\n",
        "for match in matches:\n",
        "    print(match)"
      ],
      "metadata": {
        "colab": {
          "base_uri": "https://localhost:8080/"
        },
        "id": "PefsSHUPqZrz",
        "outputId": "79513a18-e637-48c2-ff05-20eacfb19ceb"
      },
      "execution_count": 39,
      "outputs": [
        {
          "output_type": "stream",
          "name": "stdout",
          "text": [
            "<re.Match object; span=(0, 4), match='2022'>\n",
            "<re.Match object; span=(5, 7), match='04'>\n",
            "<re.Match object; span=(8, 10), match='01'>\n"
          ]
        }
      ]
    },
    {
      "cell_type": "code",
      "source": [
        "dates = '''\n",
        "2022.04.01\n",
        "\n",
        "2022-04-01\n",
        "2022-05-23\n",
        "202-06-11\n",
        "2022-07-11\n",
        "2022-08-11\n",
        "\n",
        "2022/04/02\n",
        "\n",
        "2022_04_04\n",
        "2022_04_04\n",
        "'''\n",
        "pattern = re.compile(r'\\d{4}.\\d{2}.\\d{2}')\n",
        "matches = pattern.finditer(dates)\n",
        "for match in matches:\n",
        "    print(match)\n",
        "print()\n",
        "\n",
        "pattern = re.compile(r'\\d+.\\d+.\\d+')\n",
        "matches = pattern.finditer(dates)\n",
        "for match in matches:\n",
        "    print(match)"
      ],
      "metadata": {
        "colab": {
          "base_uri": "https://localhost:8080/"
        },
        "id": "tFmvHHWXvWQv",
        "outputId": "8549ec6b-085e-4254-d50d-c461e119d5a0"
      },
      "execution_count": 40,
      "outputs": [
        {
          "output_type": "stream",
          "name": "stdout",
          "text": [
            "<re.Match object; span=(1, 11), match='2022.04.01'>\n",
            "<re.Match object; span=(13, 23), match='2022-04-01'>\n",
            "<re.Match object; span=(24, 34), match='2022-05-23'>\n",
            "<re.Match object; span=(45, 55), match='2022-07-11'>\n",
            "<re.Match object; span=(56, 66), match='2022-08-11'>\n",
            "<re.Match object; span=(68, 78), match='2022/04/02'>\n",
            "<re.Match object; span=(80, 90), match='2022_04_04'>\n",
            "<re.Match object; span=(91, 101), match='2022_04_04'>\n",
            "\n",
            "<re.Match object; span=(1, 11), match='2022.04.01'>\n",
            "<re.Match object; span=(13, 23), match='2022-04-01'>\n",
            "<re.Match object; span=(24, 34), match='2022-05-23'>\n",
            "<re.Match object; span=(35, 44), match='202-06-11'>\n",
            "<re.Match object; span=(45, 55), match='2022-07-11'>\n",
            "<re.Match object; span=(56, 66), match='2022-08-11'>\n",
            "<re.Match object; span=(68, 78), match='2022/04/02'>\n",
            "<re.Match object; span=(80, 90), match='2022_04_04'>\n",
            "<re.Match object; span=(91, 101), match='2022_04_04'>\n"
          ]
        }
      ]
    },
    {
      "cell_type": "code",
      "source": [
        "pattern = re.compile(r'\\s*.\\s*.\\s*')\n",
        "matches = pattern.finditer(dates)\n",
        "for match in matches:\n",
        "    print(match)"
      ],
      "metadata": {
        "colab": {
          "base_uri": "https://localhost:8080/"
        },
        "id": "IkczNTAIrcSO",
        "outputId": "fcf9b0f0-9ede-4969-851d-540df1786403"
      },
      "execution_count": 41,
      "outputs": [
        {
          "output_type": "stream",
          "name": "stdout",
          "text": [
            "<re.Match object; span=(0, 3), match='\\n20'>\n",
            "<re.Match object; span=(3, 5), match='22'>\n",
            "<re.Match object; span=(5, 7), match='.0'>\n",
            "<re.Match object; span=(7, 9), match='4.'>\n",
            "<re.Match object; span=(9, 13), match='01\\n\\n'>\n",
            "<re.Match object; span=(13, 15), match='20'>\n",
            "<re.Match object; span=(15, 17), match='22'>\n",
            "<re.Match object; span=(17, 19), match='-0'>\n",
            "<re.Match object; span=(19, 21), match='4-'>\n",
            "<re.Match object; span=(21, 24), match='01\\n'>\n",
            "<re.Match object; span=(24, 26), match='20'>\n",
            "<re.Match object; span=(26, 28), match='22'>\n",
            "<re.Match object; span=(28, 30), match='-0'>\n",
            "<re.Match object; span=(30, 32), match='5-'>\n",
            "<re.Match object; span=(32, 35), match='23\\n'>\n",
            "<re.Match object; span=(35, 37), match='20'>\n",
            "<re.Match object; span=(37, 39), match='2-'>\n",
            "<re.Match object; span=(39, 41), match='06'>\n",
            "<re.Match object; span=(41, 43), match='-1'>\n",
            "<re.Match object; span=(43, 46), match='1\\n2'>\n",
            "<re.Match object; span=(46, 48), match='02'>\n",
            "<re.Match object; span=(48, 50), match='2-'>\n",
            "<re.Match object; span=(50, 52), match='07'>\n",
            "<re.Match object; span=(52, 54), match='-1'>\n",
            "<re.Match object; span=(54, 57), match='1\\n2'>\n",
            "<re.Match object; span=(57, 59), match='02'>\n",
            "<re.Match object; span=(59, 61), match='2-'>\n",
            "<re.Match object; span=(61, 63), match='08'>\n",
            "<re.Match object; span=(63, 65), match='-1'>\n",
            "<re.Match object; span=(65, 69), match='1\\n\\n2'>\n",
            "<re.Match object; span=(69, 71), match='02'>\n",
            "<re.Match object; span=(71, 73), match='2/'>\n",
            "<re.Match object; span=(73, 75), match='04'>\n",
            "<re.Match object; span=(75, 77), match='/0'>\n",
            "<re.Match object; span=(77, 81), match='2\\n\\n2'>\n",
            "<re.Match object; span=(81, 83), match='02'>\n",
            "<re.Match object; span=(83, 85), match='2_'>\n",
            "<re.Match object; span=(85, 87), match='04'>\n",
            "<re.Match object; span=(87, 89), match='_0'>\n",
            "<re.Match object; span=(89, 92), match='4\\n2'>\n",
            "<re.Match object; span=(92, 94), match='02'>\n",
            "<re.Match object; span=(94, 96), match='2_'>\n",
            "<re.Match object; span=(96, 98), match='04'>\n",
            "<re.Match object; span=(98, 100), match='_0'>\n"
          ]
        }
      ]
    },
    {
      "cell_type": "code",
      "source": [
        "my_string = 'salut_2_0_2-3'\n",
        "pattern = re.compile(r'_\\d*')\n",
        "matches = pattern.finditer(my_string)\n",
        "for match in matches:\n",
        "    print(match)\n",
        "    \n",
        "print()"
      ],
      "metadata": {
        "colab": {
          "base_uri": "https://localhost:8080/"
        },
        "id": "csE8u5IvtaSh",
        "outputId": "9085abde-9686-4223-97c5-c95518d48b1c"
      },
      "execution_count": 42,
      "outputs": [
        {
          "output_type": "stream",
          "name": "stdout",
          "text": [
            "<re.Match object; span=(5, 7), match='_2'>\n",
            "<re.Match object; span=(7, 9), match='_0'>\n",
            "<re.Match object; span=(9, 11), match='_2'>\n",
            "\n"
          ]
        }
      ]
    },
    {
      "cell_type": "code",
      "source": [
        "my_string = 'salut_2_0_2-3'\n",
        "pattern = re.compile(r'_\\d+')\n",
        "matches = pattern.finditer(my_string)\n",
        "for match in matches:\n",
        "    print(match)\n",
        "    \n",
        "print()"
      ],
      "metadata": {
        "colab": {
          "base_uri": "https://localhost:8080/"
        },
        "id": "N09X5uURtoCa",
        "outputId": "4c9bfcb2-e96a-4b07-d094-c5c19603d619"
      },
      "execution_count": 43,
      "outputs": [
        {
          "output_type": "stream",
          "name": "stdout",
          "text": [
            "<re.Match object; span=(5, 7), match='_2'>\n",
            "<re.Match object; span=(7, 9), match='_0'>\n",
            "<re.Match object; span=(9, 11), match='_2'>\n",
            "\n"
          ]
        }
      ]
    },
    {
      "cell_type": "markdown",
      "source": [
        "## Conditions\n",
        "Use the | for either or condition."
      ],
      "metadata": {
        "id": "WyL_ibIXvpPY"
      }
    },
    {
      "cell_type": "code",
      "source": [
        "my_string = \"\"\"\n",
        "Mr Christian\n",
        "Mrs Yvonne\n",
        "Mr. Tito\n",
        "Ms Justine\n",
        "Mr. T\n",
        "\"\"\"\n",
        "pattern = re.compile(r'Mr\\.?\\s\\w+')\n",
        "matches = pattern.finditer(my_string)\n",
        "for match in matches:\n",
        "    print(match)\n",
        "\n",
        "print()\n",
        "pattern = re.compile(r'(Mr|Ms|Mrs)\\.?\\s\\w+')\n",
        "matches = pattern.finditer(my_string)\n",
        "for match in matches:\n",
        "    print(match)"
      ],
      "metadata": {
        "colab": {
          "base_uri": "https://localhost:8080/"
        },
        "id": "XY2CUOWdvmHk",
        "outputId": "d9d777b8-cac7-4c43-9899-8d6495b44a75"
      },
      "execution_count": 44,
      "outputs": [
        {
          "output_type": "stream",
          "name": "stdout",
          "text": [
            "<re.Match object; span=(1, 13), match='Mr Christian'>\n",
            "<re.Match object; span=(25, 33), match='Mr. Tito'>\n",
            "<re.Match object; span=(45, 50), match='Mr. T'>\n",
            "\n",
            "<re.Match object; span=(1, 13), match='Mr Christian'>\n",
            "<re.Match object; span=(14, 24), match='Mrs Yvonne'>\n",
            "<re.Match object; span=(25, 33), match='Mr. Tito'>\n",
            "<re.Match object; span=(34, 44), match='Ms Justine'>\n",
            "<re.Match object; span=(45, 50), match='Mr. T'>\n"
          ]
        }
      ]
    },
    {
      "cell_type": "markdown",
      "source": [
        "### Grouping\n",
        "( ) is used to group substrings in the matches."
      ],
      "metadata": {
        "id": "4mWpLiwewCJR"
      }
    },
    {
      "cell_type": "code",
      "source": [
        "emails = \"\"\"\n",
        "nlpfellowship9@gMail.Com\n",
        "Nlp-fello2wship@gch.ru\n",
        "nlp-fellow3ship2022@any-domain.rw\n",
        "\"\"\"\n",
        "pattern = re.compile('[a-zA-Z-]')\n",
        "#pattern = re.compile('[a-zA-Z-]+@[a-zA-Z-]+\\.(gch|ru)')\n",
        "#pattern = re.compile('([a-zA-Z-]+)@([a-zA-Z-]+)\\.([a-zA-Z]+)')\n",
        "matches = pattern.finditer(emails)\n",
        "for match in matches:\n",
        "    print(match)\n",
        "    #print(match.group(0))\n",
        "    #print(match.group(1))\n",
        "    #print(match.group(2))\n",
        "    #print(match.group(3))"
      ],
      "metadata": {
        "colab": {
          "base_uri": "https://localhost:8080/"
        },
        "id": "S7KKMaCLv8Wp",
        "outputId": "3189bc23-40a8-4307-8111-26eb78524a3a"
      },
      "execution_count": 45,
      "outputs": [
        {
          "output_type": "stream",
          "name": "stdout",
          "text": [
            "<re.Match object; span=(1, 2), match='n'>\n",
            "<re.Match object; span=(2, 3), match='l'>\n",
            "<re.Match object; span=(3, 4), match='p'>\n",
            "<re.Match object; span=(4, 5), match='f'>\n",
            "<re.Match object; span=(5, 6), match='e'>\n",
            "<re.Match object; span=(6, 7), match='l'>\n",
            "<re.Match object; span=(7, 8), match='l'>\n",
            "<re.Match object; span=(8, 9), match='o'>\n",
            "<re.Match object; span=(9, 10), match='w'>\n",
            "<re.Match object; span=(10, 11), match='s'>\n",
            "<re.Match object; span=(11, 12), match='h'>\n",
            "<re.Match object; span=(12, 13), match='i'>\n",
            "<re.Match object; span=(13, 14), match='p'>\n",
            "<re.Match object; span=(16, 17), match='g'>\n",
            "<re.Match object; span=(17, 18), match='M'>\n",
            "<re.Match object; span=(18, 19), match='a'>\n",
            "<re.Match object; span=(19, 20), match='i'>\n",
            "<re.Match object; span=(20, 21), match='l'>\n",
            "<re.Match object; span=(22, 23), match='C'>\n",
            "<re.Match object; span=(23, 24), match='o'>\n",
            "<re.Match object; span=(24, 25), match='m'>\n",
            "<re.Match object; span=(26, 27), match='N'>\n",
            "<re.Match object; span=(27, 28), match='l'>\n",
            "<re.Match object; span=(28, 29), match='p'>\n",
            "<re.Match object; span=(29, 30), match='-'>\n",
            "<re.Match object; span=(30, 31), match='f'>\n",
            "<re.Match object; span=(31, 32), match='e'>\n",
            "<re.Match object; span=(32, 33), match='l'>\n",
            "<re.Match object; span=(33, 34), match='l'>\n",
            "<re.Match object; span=(34, 35), match='o'>\n",
            "<re.Match object; span=(36, 37), match='w'>\n",
            "<re.Match object; span=(37, 38), match='s'>\n",
            "<re.Match object; span=(38, 39), match='h'>\n",
            "<re.Match object; span=(39, 40), match='i'>\n",
            "<re.Match object; span=(40, 41), match='p'>\n",
            "<re.Match object; span=(42, 43), match='g'>\n",
            "<re.Match object; span=(43, 44), match='c'>\n",
            "<re.Match object; span=(44, 45), match='h'>\n",
            "<re.Match object; span=(46, 47), match='r'>\n",
            "<re.Match object; span=(47, 48), match='u'>\n",
            "<re.Match object; span=(49, 50), match='n'>\n",
            "<re.Match object; span=(50, 51), match='l'>\n",
            "<re.Match object; span=(51, 52), match='p'>\n",
            "<re.Match object; span=(52, 53), match='-'>\n",
            "<re.Match object; span=(53, 54), match='f'>\n",
            "<re.Match object; span=(54, 55), match='e'>\n",
            "<re.Match object; span=(55, 56), match='l'>\n",
            "<re.Match object; span=(56, 57), match='l'>\n",
            "<re.Match object; span=(57, 58), match='o'>\n",
            "<re.Match object; span=(58, 59), match='w'>\n",
            "<re.Match object; span=(60, 61), match='s'>\n",
            "<re.Match object; span=(61, 62), match='h'>\n",
            "<re.Match object; span=(62, 63), match='i'>\n",
            "<re.Match object; span=(63, 64), match='p'>\n",
            "<re.Match object; span=(69, 70), match='a'>\n",
            "<re.Match object; span=(70, 71), match='n'>\n",
            "<re.Match object; span=(71, 72), match='y'>\n",
            "<re.Match object; span=(72, 73), match='-'>\n",
            "<re.Match object; span=(73, 74), match='d'>\n",
            "<re.Match object; span=(74, 75), match='o'>\n",
            "<re.Match object; span=(75, 76), match='m'>\n",
            "<re.Match object; span=(76, 77), match='a'>\n",
            "<re.Match object; span=(77, 78), match='i'>\n",
            "<re.Match object; span=(78, 79), match='n'>\n",
            "<re.Match object; span=(80, 81), match='r'>\n",
            "<re.Match object; span=(81, 82), match='w'>\n"
          ]
        }
      ]
    },
    {
      "cell_type": "markdown",
      "source": [
        "### Modifying strings\n",
        "1. split(): Split the string into a list, splitting it wherever the RE matches\n",
        "2. sub(): Find all substrings where the RE matches, and replace them with a different string"
      ],
      "metadata": {
        "id": "pOnBzP3WwqVg"
      }
    },
    {
      "cell_type": "code",
      "source": [
        "my_string = 'abc123ABCDEF123abc'\n",
        "pattern = re.compile(r'123') #  no escape for the . here in the set\n",
        "matches = pattern.split(my_string)\n",
        "print(matches)\n",
        "\n",
        "my_string = \"hello world, this is the best NLP Fellowship in the world\"\n",
        "pattern = re.compile(r'world')\n",
        "subbed_string = pattern.sub(r'planet', my_string)\n",
        "print(subbed_string)"
      ],
      "metadata": {
        "colab": {
          "base_uri": "https://localhost:8080/"
        },
        "id": "zZc3ix_OwlJM",
        "outputId": "0d7c424d-f04e-4d96-c687-b0558efbed82"
      },
      "execution_count": 46,
      "outputs": [
        {
          "output_type": "stream",
          "name": "stdout",
          "text": [
            "['abc', 'ABCDEF', 'abc']\n",
            "hello planet, this is the best NLP Fellowship in the planet\n"
          ]
        }
      ]
    },
    {
      "cell_type": "code",
      "source": [
        "urls = \"\"\"\n",
        "http://nlpfellowship.com\n",
        "https://www.nlp-fellowship.org\n",
        "http://www.nlpf.rw\n",
        "\"\"\"\n",
        "pattern = re.compile(r'https?://(www\\.)?(\\w|-)+\\.\\w+')\n",
        "pattern = re.compile(r'https?://(www\\.)?([a-zA-Z-]+)(\\.\\w+)')\n",
        "matches = pattern.finditer(urls)\n",
        "for match in matches:\n",
        "    #print(match)\n",
        "    print(match.group()) # 0\n",
        "    #print(match.group(1))\n",
        "    #print(match.group(2))\n",
        "    print(match.group(3))\n",
        "    \n",
        "# substitute using back references to replace url + domain name\n",
        "subbed_urls = pattern.sub(r'\\2\\3', urls)\n",
        "print(subbed_urls)"
      ],
      "metadata": {
        "colab": {
          "base_uri": "https://localhost:8080/"
        },
        "id": "MHmf8PKExMrB",
        "outputId": "c8066cec-5030-49a7-d3f8-a07af5f89570"
      },
      "execution_count": 47,
      "outputs": [
        {
          "output_type": "stream",
          "name": "stdout",
          "text": [
            "http://nlpfellowship.com\n",
            ".com\n",
            "https://www.nlp-fellowship.org\n",
            ".org\n",
            "http://www.nlpf.rw\n",
            ".rw\n",
            "\n",
            "nlpfellowship.com\n",
            "nlp-fellowship.org\n",
            "nlpf.rw\n",
            "\n"
          ]
        }
      ]
    },
    {
      "cell_type": "markdown",
      "source": [
        "# Assignment"
      ],
      "metadata": {
        "id": "6qbM6sIj8xVX"
      }
    },
    {
      "cell_type": "code",
      "source": [],
      "metadata": {
        "id": "oWZTz1k681i0"
      },
      "execution_count": null,
      "outputs": []
    },
    {
      "cell_type": "markdown",
      "source": [
        "## Compilation Flags"
      ],
      "metadata": {
        "id": "S6ZHAwXZxtTR"
      }
    },
    {
      "cell_type": "code",
      "source": [],
      "metadata": {
        "id": "iaK67EsUxkey"
      },
      "execution_count": null,
      "outputs": []
    },
    {
      "cell_type": "markdown",
      "source": [
        "###Further readings\n",
        "\n",
        "1. https://www.rexegg.com/regex-quickstart.html\n",
        "2. https://docs.rackspace.com/support/how-to/regex-cheat-sheet-basics/\n",
        "3. https://dev.to/ruppysuppy/the-regular-expression-regex-cheat-sheet-you-always-wanted-1c8h"
      ],
      "metadata": {
        "id": "_7uK4XZNxxfE"
      }
    },
    {
      "cell_type": "code",
      "source": [],
      "metadata": {
        "id": "t4bJSa_SxzWa"
      },
      "execution_count": null,
      "outputs": []
    },
    {
      "cell_type": "code",
      "source": [],
      "metadata": {
        "id": "IQ7hZwX_O63c"
      },
      "execution_count": null,
      "outputs": []
    }
  ]
}