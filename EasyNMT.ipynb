{
  "nbformat": 4,
  "nbformat_minor": 0,
  "metadata": {
    "colab": {
      "provenance": [],
      "collapsed_sections": [],
      "authorship_tag": "ABX9TyPGGS4vlzvcGYGgzMNuH4cw",
      "include_colab_link": true
    },
    "kernelspec": {
      "name": "python3",
      "display_name": "Python 3"
    },
    "language_info": {
      "name": "python"
    },
    "accelerator": "GPU",
    "gpuClass": "standard"
  },
  "cells": [
    {
      "cell_type": "markdown",
      "metadata": {
        "id": "view-in-github",
        "colab_type": "text"
      },
      "source": [
        "<a href=\"https://colab.research.google.com/github/kefasmanu/NLP-FELLOWSHIP/blob/main/EasyNMT.ipynb\" target=\"_parent\"><img src=\"https://colab.research.google.com/assets/colab-badge.svg\" alt=\"Open In Colab\"/></a>"
      ]
    },
    {
      "cell_type": "code",
      "execution_count": null,
      "metadata": {
        "id": "n61W9PnaI3L7"
      },
      "outputs": [],
      "source": [
        "!pip install -u easynmt"
      ]
    },
    {
      "cell_type": "code",
      "source": [
        "!pip install -u easynmt"
      ],
      "metadata": {
        "id": "3gDQOUKdK0cX"
      },
      "execution_count": null,
      "outputs": []
    },
    {
      "cell_type": "code",
      "source": [
        "from easynmt import EasyNMT"
      ],
      "metadata": {
        "id": "o8Fd69dKLweg"
      },
      "execution_count": 2,
      "outputs": []
    },
    {
      "cell_type": "code",
      "source": [
        "#initializing the model; easnmt\n",
        "model = EasyNMT('opus-mt')"
      ],
      "metadata": {
        "id": "9DwtQ2YUMCSK"
      },
      "execution_count": 3,
      "outputs": []
    },
    {
      "cell_type": "markdown",
      "source": [
        "SENTENCES "
      ],
      "metadata": {
        "id": "IiXl_K-4M_tt"
      }
    },
    {
      "cell_type": "code",
      "source": [
        "sentences = [\n",
        "    'Jesus is Lord',\n",
        "    'The food was good and i enjoyed',\n",
        "    'I dont have anything in mind',\n",
        "    'It is a  rainy day'\n",
        "    \n",
        "]"
      ],
      "metadata": {
        "id": "y4MUY36jNEcr"
      },
      "execution_count": 14,
      "outputs": []
    },
    {
      "cell_type": "code",
      "source": [],
      "metadata": {
        "id": "sRUPYK_DOIVy"
      },
      "execution_count": 14,
      "outputs": []
    },
    {
      "cell_type": "markdown",
      "source": [
        "TRANSLATIONS"
      ],
      "metadata": {
        "id": "dd016CwxOJJY"
      }
    },
    {
      "cell_type": "code",
      "source": [
        "translations_fr = model.translate(sentences, target_lang=\"fr\")\n",
        "translations_rw = model.translate(sentences, target_lang=\"rw\")"
      ],
      "metadata": {
        "id": "cjGdY7w1OM2O"
      },
      "execution_count": 15,
      "outputs": []
    },
    {
      "cell_type": "code",
      "source": [
        "translations_rw\n"
      ],
      "metadata": {
        "colab": {
          "base_uri": "https://localhost:8080/"
        },
        "id": "WFS5laxEOibQ",
        "outputId": "62c473aa-f230-46af-c270-5af1cbec07c6"
      },
      "execution_count": 16,
      "outputs": [
        {
          "output_type": "execute_result",
          "data": {
            "text/plain": [
              "['Yesu ni Umwami',\n",
              " 'Ibyo kurya byari byiza kandi bishimishije',\n",
              " '.................................................',\n",
              " \"Ni umunsi w'imvura\"]"
            ]
          },
          "metadata": {},
          "execution_count": 16
        }
      ]
    },
    {
      "cell_type": "code",
      "source": [
        "translations_fr"
      ],
      "metadata": {
        "colab": {
          "base_uri": "https://localhost:8080/"
        },
        "id": "RGEXBpWTO2li",
        "outputId": "bb52d7c4-9c7b-4514-9721-277d43853c77"
      },
      "execution_count": 17,
      "outputs": [
        {
          "output_type": "execute_result",
          "data": {
            "text/plain": [
              "['Jésus est Seigneur',\n",
              " \"La nourriture était bonne et j'ai apprécié.\",\n",
              " \"Je n'ai rien en tête.\",\n",
              " \"C'est un jour pluvieux\"]"
            ]
          },
          "metadata": {},
          "execution_count": 17
        }
      ]
    },
    {
      "cell_type": "markdown",
      "source": [
        "Languages codes"
      ],
      "metadata": {
        "id": "aiYrq6yqWLkV"
      }
    },
    {
      "cell_type": "code",
      "source": [
        "import json"
      ],
      "metadata": {
        "id": "JtWUFlwtQK4A"
      },
      "execution_count": 18,
      "outputs": []
    },
    {
      "cell_type": "code",
      "source": [
        "with open('/content/sample_data/languagescode.json', 'r+') as file_lang:\n",
        "  content= file_lang.read()"
      ],
      "metadata": {
        "id": "GFoSYBcvTXWx"
      },
      "execution_count": 19,
      "outputs": []
    },
    {
      "cell_type": "code",
      "source": [
        "languages_json = json.loads(content)"
      ],
      "metadata": {
        "id": "D0tuzs6KUJ-h"
      },
      "execution_count": 20,
      "outputs": []
    },
    {
      "cell_type": "code",
      "source": [
        "languages_json"
      ],
      "metadata": {
        "colab": {
          "base_uri": "https://localhost:8080/"
        },
        "id": "aqYwi_svVDzH",
        "outputId": "10850631-1007-451d-a43b-dc1c78a69eaf"
      },
      "execution_count": 21,
      "outputs": [
        {
          "output_type": "execute_result",
          "data": {
            "text/plain": [
              "[{'code': 'ab', 'name': 'Abkhaz'},\n",
              " {'code': 'aa', 'name': 'Afar'},\n",
              " {'code': 'af', 'name': 'Afrikaans'},\n",
              " {'code': 'ak', 'name': 'Akan'},\n",
              " {'code': 'sq', 'name': 'Albanian'},\n",
              " {'code': 'am', 'name': 'Amharic'},\n",
              " {'code': 'ar', 'name': 'Arabic'},\n",
              " {'code': 'an', 'name': 'Aragonese'},\n",
              " {'code': 'hy', 'name': 'Armenian'},\n",
              " {'code': 'as', 'name': 'Assamese'},\n",
              " {'code': 'av', 'name': 'Avaric'},\n",
              " {'code': 'ae', 'name': 'Avestan'},\n",
              " {'code': 'ay', 'name': 'Aymara'},\n",
              " {'code': 'az', 'name': 'Azerbaijani'},\n",
              " {'code': 'bm', 'name': 'Bambara'},\n",
              " {'code': 'ba', 'name': 'Bashkir'},\n",
              " {'code': 'eu', 'name': 'Basque'},\n",
              " {'code': 'be', 'name': 'Belarusian'},\n",
              " {'code': 'bn', 'name': 'Bengali; Bangla'},\n",
              " {'code': 'bh', 'name': 'Bihari'},\n",
              " {'code': 'bi', 'name': 'Bislama'},\n",
              " {'code': 'bs', 'name': 'Bosnian'},\n",
              " {'code': 'br', 'name': 'Breton'},\n",
              " {'code': 'bg', 'name': 'Bulgarian'},\n",
              " {'code': 'my', 'name': 'Burmese'},\n",
              " {'code': 'ca', 'name': 'Catalan; Valencian'},\n",
              " {'code': 'ch', 'name': 'Chamorro'},\n",
              " {'code': 'ce', 'name': 'Chechen'},\n",
              " {'code': 'ny', 'name': 'Chichewa; Chewa; Nyanja'},\n",
              " {'code': 'zh', 'name': 'Chinese'},\n",
              " {'code': 'cv', 'name': 'Chuvash'},\n",
              " {'code': 'kw', 'name': 'Cornish'},\n",
              " {'code': 'co', 'name': 'Corsican'},\n",
              " {'code': 'cr', 'name': 'Cree'},\n",
              " {'code': 'hr', 'name': 'Croatian'},\n",
              " {'code': 'cs', 'name': 'Czech'},\n",
              " {'code': 'da', 'name': 'Danish'},\n",
              " {'code': 'dv', 'name': 'Divehi; Dhivehi; Maldivian;'},\n",
              " {'code': 'nl', 'name': 'Dutch'},\n",
              " {'code': 'dz', 'name': 'Dzongkha'},\n",
              " {'code': 'en', 'name': 'English'},\n",
              " {'code': 'eo', 'name': 'Esperanto'},\n",
              " {'code': 'et', 'name': 'Estonian'},\n",
              " {'code': 'ee', 'name': 'Ewe'},\n",
              " {'code': 'fo', 'name': 'Faroese'},\n",
              " {'code': 'fj', 'name': 'Fijian'},\n",
              " {'code': 'fi', 'name': 'Finnish'},\n",
              " {'code': 'fr', 'name': 'French'},\n",
              " {'code': 'ff', 'name': 'Fula; Fulah; Pulaar; Pular'},\n",
              " {'code': 'gl', 'name': 'Galician'},\n",
              " {'code': 'ka', 'name': 'Georgian'},\n",
              " {'code': 'de', 'name': 'German'},\n",
              " {'code': 'el', 'name': 'Greek, Modern'},\n",
              " {'code': 'gn', 'name': 'GuaranÃ\\xad'},\n",
              " {'code': 'gu', 'name': 'Gujarati'},\n",
              " {'code': 'ht', 'name': 'Haitian; Haitian Creole'},\n",
              " {'code': 'ha', 'name': 'Hausa'},\n",
              " {'code': 'he', 'name': 'Hebrew (modern)'},\n",
              " {'code': 'hz', 'name': 'Herero'},\n",
              " {'code': 'hi', 'name': 'Hindi'},\n",
              " {'code': 'ho', 'name': 'Hiri Motu'},\n",
              " {'code': 'hu', 'name': 'Hungarian'},\n",
              " {'code': 'ia', 'name': 'Interlingua'},\n",
              " {'code': 'id', 'name': 'Indonesian'},\n",
              " {'code': 'ie', 'name': 'Interlingue'},\n",
              " {'code': 'ga', 'name': 'Irish'},\n",
              " {'code': 'ig', 'name': 'Igbo'},\n",
              " {'code': 'ik', 'name': 'Inupiaq'},\n",
              " {'code': 'io', 'name': 'Ido'},\n",
              " {'code': 'is', 'name': 'Icelandic'},\n",
              " {'code': 'it', 'name': 'Italian'},\n",
              " {'code': 'iu', 'name': 'Inuktitut'},\n",
              " {'code': 'ja', 'name': 'Japanese'},\n",
              " {'code': 'jv', 'name': 'Javanese'},\n",
              " {'code': 'kl', 'name': 'Kalaallisut, Greenlandic'},\n",
              " {'code': 'kn', 'name': 'Kannada'},\n",
              " {'code': 'kr', 'name': 'Kanuri'},\n",
              " {'code': 'ks', 'name': 'Kashmiri'},\n",
              " {'code': 'kk', 'name': 'Kazakh'},\n",
              " {'code': 'km', 'name': 'Khmer'},\n",
              " {'code': 'ki', 'name': 'Kikuyu, Gikuyu'},\n",
              " {'code': 'rw', 'name': 'Kinyarwanda'},\n",
              " {'code': 'ky', 'name': 'Kyrgyz'},\n",
              " {'code': 'kv', 'name': 'Komi'},\n",
              " {'code': 'kg', 'name': 'Kongo'},\n",
              " {'code': 'ko', 'name': 'Korean'},\n",
              " {'code': 'ku', 'name': 'Kurdish'},\n",
              " {'code': 'kj', 'name': 'Kwanyama, Kuanyama'},\n",
              " {'code': 'la', 'name': 'Latin'},\n",
              " {'code': 'lb', 'name': 'Luxembourgish, Letzeburgesch'},\n",
              " {'code': 'lg', 'name': 'Ganda'},\n",
              " {'code': 'li', 'name': 'Limburgish, Limburgan, Limburger'},\n",
              " {'code': 'ln', 'name': 'Lingala'},\n",
              " {'code': 'lo', 'name': 'Lao'},\n",
              " {'code': 'lt', 'name': 'Lithuanian'},\n",
              " {'code': 'lu', 'name': 'Luba-Katanga'},\n",
              " {'code': 'lv', 'name': 'Latvian'},\n",
              " {'code': 'gv', 'name': 'Manx'},\n",
              " {'code': 'mk', 'name': 'Macedonian'},\n",
              " {'code': 'mg', 'name': 'Malagasy'},\n",
              " {'code': 'ms', 'name': 'Malay'},\n",
              " {'code': 'ml', 'name': 'Malayalam'},\n",
              " {'code': 'mt', 'name': 'Maltese'},\n",
              " {'code': 'mi', 'name': 'MÄori'},\n",
              " {'code': 'mr', 'name': 'Marathi (MarÄá¹\\xadhÄ«)'},\n",
              " {'code': 'mh', 'name': 'Marshallese'},\n",
              " {'code': 'mn', 'name': 'Mongolian'},\n",
              " {'code': 'na', 'name': 'Nauru'},\n",
              " {'code': 'nv', 'name': 'Navajo, Navaho'},\n",
              " {'code': 'nb', 'name': 'Norwegian BokmÃ¥l'},\n",
              " {'code': 'nd', 'name': 'North Ndebele'},\n",
              " {'code': 'ne', 'name': 'Nepali'},\n",
              " {'code': 'ng', 'name': 'Ndonga'},\n",
              " {'code': 'nn', 'name': 'Norwegian Nynorsk'},\n",
              " {'code': 'no', 'name': 'Norwegian'},\n",
              " {'code': 'ii', 'name': 'Nuosu'},\n",
              " {'code': 'nr', 'name': 'South Ndebele'},\n",
              " {'code': 'oc', 'name': 'Occitan'},\n",
              " {'code': 'oj', 'name': 'Ojibwe, Ojibwa'},\n",
              " {'code': 'cu',\n",
              "  'name': 'Old Church Slavonic, Church Slavic, Church Slavonic, Old Bulgarian, Old Slavonic'},\n",
              " {'code': 'om', 'name': 'Oromo'},\n",
              " {'code': 'or', 'name': 'Oriya'},\n",
              " {'code': 'os', 'name': 'Ossetian, Ossetic'},\n",
              " {'code': 'pa', 'name': 'Panjabi, Punjabi'},\n",
              " {'code': 'pi', 'name': 'PÄli'},\n",
              " {'code': 'fa', 'name': 'Persian (Farsi)'},\n",
              " {'code': 'pl', 'name': 'Polish'},\n",
              " {'code': 'ps', 'name': 'Pashto, Pushto'},\n",
              " {'code': 'pt', 'name': 'Portuguese'},\n",
              " {'code': 'qu', 'name': 'Quechua'},\n",
              " {'code': 'rm', 'name': 'Romansh'},\n",
              " {'code': 'rn', 'name': 'Kirundi'},\n",
              " {'code': 'ro', 'name': 'Romanian, [])'},\n",
              " {'code': 'ru', 'name': 'Russian'},\n",
              " {'code': 'sa', 'name': 'Sanskrit (Saá¹ská¹›ta)'},\n",
              " {'code': 'sc', 'name': 'Sardinian'},\n",
              " {'code': 'sd', 'name': 'Sindhi'},\n",
              " {'code': 'se', 'name': 'Northern Sami'},\n",
              " {'code': 'sm', 'name': 'Samoan'},\n",
              " {'code': 'sg', 'name': 'Sango'},\n",
              " {'code': 'sr', 'name': 'Serbian'},\n",
              " {'code': 'gd', 'name': 'Scottish Gaelic; Gaelic'},\n",
              " {'code': 'sn', 'name': 'Shona'},\n",
              " {'code': 'si', 'name': 'Sinhala, Sinhalese'},\n",
              " {'code': 'sk', 'name': 'Slovak'},\n",
              " {'code': 'sl', 'name': 'Slovene'},\n",
              " {'code': 'so', 'name': 'Somali'},\n",
              " {'code': 'st', 'name': 'Southern Sotho'},\n",
              " {'code': 'es', 'name': 'Spanish; Castilian'},\n",
              " {'code': 'su', 'name': 'Sundanese'},\n",
              " {'code': 'sw', 'name': 'Swahili'},\n",
              " {'code': 'ss', 'name': 'Swati'},\n",
              " {'code': 'sv', 'name': 'Swedish'},\n",
              " {'code': 'ta', 'name': 'Tamil'},\n",
              " {'code': 'te', 'name': 'Telugu'},\n",
              " {'code': 'tg', 'name': 'Tajik'},\n",
              " {'code': 'th', 'name': 'Thai'},\n",
              " {'code': 'ti', 'name': 'Tigrinya'},\n",
              " {'code': 'bo', 'name': 'Tibetan Standard, Tibetan, Central'},\n",
              " {'code': 'tk', 'name': 'Turkmen'},\n",
              " {'code': 'tl', 'name': 'Tagalog'},\n",
              " {'code': 'tn', 'name': 'Tswana'},\n",
              " {'code': 'to', 'name': 'Tonga (Tonga Islands)'},\n",
              " {'code': 'tr', 'name': 'Turkish'},\n",
              " {'code': 'ts', 'name': 'Tsonga'},\n",
              " {'code': 'tt', 'name': 'Tatar'},\n",
              " {'code': 'tw', 'name': 'Twi'},\n",
              " {'code': 'ty', 'name': 'Tahitian'},\n",
              " {'code': 'ug', 'name': 'Uyghur, Uighur'},\n",
              " {'code': 'uk', 'name': 'Ukrainian'},\n",
              " {'code': 'ur', 'name': 'Urdu'},\n",
              " {'code': 'uz', 'name': 'Uzbek'},\n",
              " {'code': 've', 'name': 'Venda'},\n",
              " {'code': 'vi', 'name': 'Vietnamese'},\n",
              " {'code': 'vo', 'name': 'VolapÃ¼k'},\n",
              " {'code': 'wa', 'name': 'Walloon'},\n",
              " {'code': 'cy', 'name': 'Welsh'},\n",
              " {'code': 'wo', 'name': 'Wolof'},\n",
              " {'code': 'fy', 'name': 'Western Frisian'},\n",
              " {'code': 'xh', 'name': 'Xhosa'},\n",
              " {'code': 'yi', 'name': 'Yiddish'},\n",
              " {'code': 'yo', 'name': 'Yoruba'},\n",
              " {'code': 'za', 'name': 'Zhuang, Chuang'},\n",
              " {'code': 'zu', 'name': 'Zulu'}]"
            ]
          },
          "metadata": {},
          "execution_count": 21
        }
      ]
    },
    {
      "cell_type": "code",
      "source": [
        "languages_json[1]['code']"
      ],
      "metadata": {
        "colab": {
          "base_uri": "https://localhost:8080/",
          "height": 35
        },
        "id": "8LhpCl1yVJBK",
        "outputId": "e9a4dba6-6aae-444d-cc35-1b1f35319b8a"
      },
      "execution_count": 22,
      "outputs": [
        {
          "output_type": "execute_result",
          "data": {
            "text/plain": [
              "'aa'"
            ],
            "application/vnd.google.colaboratory.intrinsic+json": {
              "type": "string"
            }
          },
          "metadata": {},
          "execution_count": 22
        }
      ]
    },
    {
      "cell_type": "code",
      "source": [
        "import pandas as pd\n",
        "df = pd.DataFrame()\n",
        "rw_sentences=[\n",
        "    \"umwana murizi ntakurwa urutozi\",\n",
        "    \"serupyipyinyurimpyisi yansyonyeye\",\n",
        "    \"Sakwe Sakwe! sogokuru aryoha aboze\",\n",
        "    \"amategeko y'abanebwe.\"\n",
        "    \n",
        "]\n",
        "df['rw'] = rw_sentences\n",
        "df['english']=sentences\n",
        "df"
      ],
      "metadata": {
        "id": "DrFRCtR-c1t5",
        "colab": {
          "base_uri": "https://localhost:8080/",
          "height": 175
        },
        "outputId": "e7af5979-e169-4e30-d245-395dbd17bdc8"
      },
      "execution_count": 24,
      "outputs": [
        {
          "output_type": "execute_result",
          "data": {
            "text/plain": [
              "                                   rw                          english\n",
              "0      umwana murizi ntakurwa urutozi                    Jesus is Lord\n",
              "1   serupyipyinyurimpyisi yansyonyeye  The food was good and i enjoyed\n",
              "2  Sakwe Sakwe! sogokuru aryoha aboze     I dont have anything in mind\n",
              "3               amategeko y'abanebwe.               It is a  rainy day"
            ],
            "text/html": [
              "\n",
              "  <div id=\"df-d9ba54fe-2f9b-43cd-9a33-8edf65638732\">\n",
              "    <div class=\"colab-df-container\">\n",
              "      <div>\n",
              "<style scoped>\n",
              "    .dataframe tbody tr th:only-of-type {\n",
              "        vertical-align: middle;\n",
              "    }\n",
              "\n",
              "    .dataframe tbody tr th {\n",
              "        vertical-align: top;\n",
              "    }\n",
              "\n",
              "    .dataframe thead th {\n",
              "        text-align: right;\n",
              "    }\n",
              "</style>\n",
              "<table border=\"1\" class=\"dataframe\">\n",
              "  <thead>\n",
              "    <tr style=\"text-align: right;\">\n",
              "      <th></th>\n",
              "      <th>rw</th>\n",
              "      <th>english</th>\n",
              "    </tr>\n",
              "  </thead>\n",
              "  <tbody>\n",
              "    <tr>\n",
              "      <th>0</th>\n",
              "      <td>umwana murizi ntakurwa urutozi</td>\n",
              "      <td>Jesus is Lord</td>\n",
              "    </tr>\n",
              "    <tr>\n",
              "      <th>1</th>\n",
              "      <td>serupyipyinyurimpyisi yansyonyeye</td>\n",
              "      <td>The food was good and i enjoyed</td>\n",
              "    </tr>\n",
              "    <tr>\n",
              "      <th>2</th>\n",
              "      <td>Sakwe Sakwe! sogokuru aryoha aboze</td>\n",
              "      <td>I dont have anything in mind</td>\n",
              "    </tr>\n",
              "    <tr>\n",
              "      <th>3</th>\n",
              "      <td>amategeko y'abanebwe.</td>\n",
              "      <td>It is a  rainy day</td>\n",
              "    </tr>\n",
              "  </tbody>\n",
              "</table>\n",
              "</div>\n",
              "      <button class=\"colab-df-convert\" onclick=\"convertToInteractive('df-d9ba54fe-2f9b-43cd-9a33-8edf65638732')\"\n",
              "              title=\"Convert this dataframe to an interactive table.\"\n",
              "              style=\"display:none;\">\n",
              "        \n",
              "  <svg xmlns=\"http://www.w3.org/2000/svg\" height=\"24px\"viewBox=\"0 0 24 24\"\n",
              "       width=\"24px\">\n",
              "    <path d=\"M0 0h24v24H0V0z\" fill=\"none\"/>\n",
              "    <path d=\"M18.56 5.44l.94 2.06.94-2.06 2.06-.94-2.06-.94-.94-2.06-.94 2.06-2.06.94zm-11 1L8.5 8.5l.94-2.06 2.06-.94-2.06-.94L8.5 2.5l-.94 2.06-2.06.94zm10 10l.94 2.06.94-2.06 2.06-.94-2.06-.94-.94-2.06-.94 2.06-2.06.94z\"/><path d=\"M17.41 7.96l-1.37-1.37c-.4-.4-.92-.59-1.43-.59-.52 0-1.04.2-1.43.59L10.3 9.45l-7.72 7.72c-.78.78-.78 2.05 0 2.83L4 21.41c.39.39.9.59 1.41.59.51 0 1.02-.2 1.41-.59l7.78-7.78 2.81-2.81c.8-.78.8-2.07 0-2.86zM5.41 20L4 18.59l7.72-7.72 1.47 1.35L5.41 20z\"/>\n",
              "  </svg>\n",
              "      </button>\n",
              "      \n",
              "  <style>\n",
              "    .colab-df-container {\n",
              "      display:flex;\n",
              "      flex-wrap:wrap;\n",
              "      gap: 12px;\n",
              "    }\n",
              "\n",
              "    .colab-df-convert {\n",
              "      background-color: #E8F0FE;\n",
              "      border: none;\n",
              "      border-radius: 50%;\n",
              "      cursor: pointer;\n",
              "      display: none;\n",
              "      fill: #1967D2;\n",
              "      height: 32px;\n",
              "      padding: 0 0 0 0;\n",
              "      width: 32px;\n",
              "    }\n",
              "\n",
              "    .colab-df-convert:hover {\n",
              "      background-color: #E2EBFA;\n",
              "      box-shadow: 0px 1px 2px rgba(60, 64, 67, 0.3), 0px 1px 3px 1px rgba(60, 64, 67, 0.15);\n",
              "      fill: #174EA6;\n",
              "    }\n",
              "\n",
              "    [theme=dark] .colab-df-convert {\n",
              "      background-color: #3B4455;\n",
              "      fill: #D2E3FC;\n",
              "    }\n",
              "\n",
              "    [theme=dark] .colab-df-convert:hover {\n",
              "      background-color: #434B5C;\n",
              "      box-shadow: 0px 1px 3px 1px rgba(0, 0, 0, 0.15);\n",
              "      filter: drop-shadow(0px 1px 2px rgba(0, 0, 0, 0.3));\n",
              "      fill: #FFFFFF;\n",
              "    }\n",
              "  </style>\n",
              "\n",
              "      <script>\n",
              "        const buttonEl =\n",
              "          document.querySelector('#df-d9ba54fe-2f9b-43cd-9a33-8edf65638732 button.colab-df-convert');\n",
              "        buttonEl.style.display =\n",
              "          google.colab.kernel.accessAllowed ? 'block' : 'none';\n",
              "\n",
              "        async function convertToInteractive(key) {\n",
              "          const element = document.querySelector('#df-d9ba54fe-2f9b-43cd-9a33-8edf65638732');\n",
              "          const dataTable =\n",
              "            await google.colab.kernel.invokeFunction('convertToInteractive',\n",
              "                                                     [key], {});\n",
              "          if (!dataTable) return;\n",
              "\n",
              "          const docLinkHtml = 'Like what you see? Visit the ' +\n",
              "            '<a target=\"_blank\" href=https://colab.research.google.com/notebooks/data_table.ipynb>data table notebook</a>'\n",
              "            + ' to learn more about interactive tables.';\n",
              "          element.innerHTML = '';\n",
              "          dataTable['output_type'] = 'display_data';\n",
              "          await google.colab.output.renderOutput(dataTable, element);\n",
              "          const docLink = document.createElement('div');\n",
              "          docLink.innerHTML = docLinkHtml;\n",
              "          element.appendChild(docLink);\n",
              "        }\n",
              "      </script>\n",
              "    </div>\n",
              "  </div>\n",
              "  "
            ]
          },
          "metadata": {},
          "execution_count": 24
        }
      ]
    },
    {
      "cell_type": "code",
      "source": [
        "#from urllib.error import HTTPError"
      ],
      "metadata": {
        "id": "dv7Pr7fxZ87S"
      },
      "execution_count": null,
      "outputs": []
    },
    {
      "cell_type": "code",
      "source": [
        "for language in languages_json[90:100]:\n",
        "  code=language['code']\n",
        "  try:\n",
        "    df[code]=model.translate(df['english'],source_lang='en', target_lang=code)\n",
        "\n",
        "  except:\n",
        "    pass\n",
        "  #print(code['code'])"
      ],
      "metadata": {
        "id": "5McraeK6hS0r",
        "colab": {
          "base_uri": "https://localhost:8080/"
        },
        "outputId": "beb6acca-c549-46d0-ce59-baf7e982b615"
      },
      "execution_count": 27,
      "outputs": [
        {
          "output_type": "stream",
          "name": "stderr",
          "text": [
            "/usr/local/lib/python3.7/dist-packages/transformers/generation_utils.py:1364: UserWarning: Neither `max_length` nor `max_new_tokens` has been set, `max_length` will default to 512 (`self.config.max_length`). Controlling `max_length` via the config is deprecated and `max_length` will be removed from the config in v5 of Transformers -- we recommend using `max_new_tokens` to control the maximum length of the generation.\n",
            "  UserWarning,\n"
          ]
        }
      ]
    },
    {
      "cell_type": "markdown",
      "source": [],
      "metadata": {
        "id": "pDLxm6aEWY1C"
      }
    },
    {
      "cell_type": "code",
      "source": [
        "df"
      ],
      "metadata": {
        "id": "hZa-qSPthcfN",
        "colab": {
          "base_uri": "https://localhost:8080/",
          "height": 323
        },
        "outputId": "3b745663-0a22-4d28-a1db-62b9a55fc7c8"
      },
      "execution_count": 29,
      "outputs": [
        {
          "output_type": "execute_result",
          "data": {
            "text/plain": [
              "                                   rw                          english  \\\n",
              "0      umwana murizi ntakurwa urutozi                    Jesus is Lord   \n",
              "1   serupyipyinyurimpyisi yansyonyeye  The food was good and i enjoyed   \n",
              "2  Sakwe Sakwe! sogokuru aryoha aboze     I dont have anything in mind   \n",
              "3               amategeko y'abanebwe.               It is a  rainy day   \n",
              "\n",
              "                                                  lg  \\\n",
              "0                               Yesu ye Mukama waffe   \n",
              "1      Emmere yali nnungi nnyo era ng'enyumirwa nnyo   \n",
              "2  Ndi mumalirivu okukola ekintu kyonna mu birowo...   \n",
              "3                             Olunaku olwo lwa nkuba   \n",
              "\n",
              "                                              ln  \\\n",
              "0                               Yesu azali Nkolo   \n",
              "1    Bilei ezalaki malamu mpe ezalaki kosepelisa   \n",
              "2  Nazali na likambo moko te na makanisi na ngai   \n",
              "3                          Ezali mokolo ya mbula   \n",
              "\n",
              "                                        lu                                 gv  \\\n",
              "0                          Yesu i Mfumwetu                      Buirdclaaghyn   \n",
              "1  Bidibwa byādi biyampe kadi bya nsangaji  Yn dait va phiagh erbee entreiyl:   \n",
              "2        Ndi na kintu kyo - kyonso mu ñeni              Cha nel red erbee ayn   \n",
              "3                  Dino i difuku dya mvula                Caghlaader uinnagyn   \n",
              "\n",
              "                             mk                                             mg  \n",
              "0                Исус е Господ.                              I Jesosy no Tompo  \n",
              "1  Храната беше добра и уживав.          Tsara ny sakafo ary nahafinaritra ahy  \n",
              "2            Немам ништо на ум.  Tsy manana na inona na inona ao an-tsaiko aho  \n",
              "3            Тоа е дождлив ден.                            Andro manorana izao  "
            ],
            "text/html": [
              "\n",
              "  <div id=\"df-1e6405c7-8ebc-403b-831d-6add7cb93346\">\n",
              "    <div class=\"colab-df-container\">\n",
              "      <div>\n",
              "<style scoped>\n",
              "    .dataframe tbody tr th:only-of-type {\n",
              "        vertical-align: middle;\n",
              "    }\n",
              "\n",
              "    .dataframe tbody tr th {\n",
              "        vertical-align: top;\n",
              "    }\n",
              "\n",
              "    .dataframe thead th {\n",
              "        text-align: right;\n",
              "    }\n",
              "</style>\n",
              "<table border=\"1\" class=\"dataframe\">\n",
              "  <thead>\n",
              "    <tr style=\"text-align: right;\">\n",
              "      <th></th>\n",
              "      <th>rw</th>\n",
              "      <th>english</th>\n",
              "      <th>lg</th>\n",
              "      <th>ln</th>\n",
              "      <th>lu</th>\n",
              "      <th>gv</th>\n",
              "      <th>mk</th>\n",
              "      <th>mg</th>\n",
              "    </tr>\n",
              "  </thead>\n",
              "  <tbody>\n",
              "    <tr>\n",
              "      <th>0</th>\n",
              "      <td>umwana murizi ntakurwa urutozi</td>\n",
              "      <td>Jesus is Lord</td>\n",
              "      <td>Yesu ye Mukama waffe</td>\n",
              "      <td>Yesu azali Nkolo</td>\n",
              "      <td>Yesu i Mfumwetu</td>\n",
              "      <td>Buirdclaaghyn</td>\n",
              "      <td>Исус е Господ.</td>\n",
              "      <td>I Jesosy no Tompo</td>\n",
              "    </tr>\n",
              "    <tr>\n",
              "      <th>1</th>\n",
              "      <td>serupyipyinyurimpyisi yansyonyeye</td>\n",
              "      <td>The food was good and i enjoyed</td>\n",
              "      <td>Emmere yali nnungi nnyo era ng'enyumirwa nnyo</td>\n",
              "      <td>Bilei ezalaki malamu mpe ezalaki kosepelisa</td>\n",
              "      <td>Bidibwa byādi biyampe kadi bya nsangaji</td>\n",
              "      <td>Yn dait va phiagh erbee entreiyl:</td>\n",
              "      <td>Храната беше добра и уживав.</td>\n",
              "      <td>Tsara ny sakafo ary nahafinaritra ahy</td>\n",
              "    </tr>\n",
              "    <tr>\n",
              "      <th>2</th>\n",
              "      <td>Sakwe Sakwe! sogokuru aryoha aboze</td>\n",
              "      <td>I dont have anything in mind</td>\n",
              "      <td>Ndi mumalirivu okukola ekintu kyonna mu birowo...</td>\n",
              "      <td>Nazali na likambo moko te na makanisi na ngai</td>\n",
              "      <td>Ndi na kintu kyo - kyonso mu ñeni</td>\n",
              "      <td>Cha nel red erbee ayn</td>\n",
              "      <td>Немам ништо на ум.</td>\n",
              "      <td>Tsy manana na inona na inona ao an-tsaiko aho</td>\n",
              "    </tr>\n",
              "    <tr>\n",
              "      <th>3</th>\n",
              "      <td>amategeko y'abanebwe.</td>\n",
              "      <td>It is a  rainy day</td>\n",
              "      <td>Olunaku olwo lwa nkuba</td>\n",
              "      <td>Ezali mokolo ya mbula</td>\n",
              "      <td>Dino i difuku dya mvula</td>\n",
              "      <td>Caghlaader uinnagyn</td>\n",
              "      <td>Тоа е дождлив ден.</td>\n",
              "      <td>Andro manorana izao</td>\n",
              "    </tr>\n",
              "  </tbody>\n",
              "</table>\n",
              "</div>\n",
              "      <button class=\"colab-df-convert\" onclick=\"convertToInteractive('df-1e6405c7-8ebc-403b-831d-6add7cb93346')\"\n",
              "              title=\"Convert this dataframe to an interactive table.\"\n",
              "              style=\"display:none;\">\n",
              "        \n",
              "  <svg xmlns=\"http://www.w3.org/2000/svg\" height=\"24px\"viewBox=\"0 0 24 24\"\n",
              "       width=\"24px\">\n",
              "    <path d=\"M0 0h24v24H0V0z\" fill=\"none\"/>\n",
              "    <path d=\"M18.56 5.44l.94 2.06.94-2.06 2.06-.94-2.06-.94-.94-2.06-.94 2.06-2.06.94zm-11 1L8.5 8.5l.94-2.06 2.06-.94-2.06-.94L8.5 2.5l-.94 2.06-2.06.94zm10 10l.94 2.06.94-2.06 2.06-.94-2.06-.94-.94-2.06-.94 2.06-2.06.94z\"/><path d=\"M17.41 7.96l-1.37-1.37c-.4-.4-.92-.59-1.43-.59-.52 0-1.04.2-1.43.59L10.3 9.45l-7.72 7.72c-.78.78-.78 2.05 0 2.83L4 21.41c.39.39.9.59 1.41.59.51 0 1.02-.2 1.41-.59l7.78-7.78 2.81-2.81c.8-.78.8-2.07 0-2.86zM5.41 20L4 18.59l7.72-7.72 1.47 1.35L5.41 20z\"/>\n",
              "  </svg>\n",
              "      </button>\n",
              "      \n",
              "  <style>\n",
              "    .colab-df-container {\n",
              "      display:flex;\n",
              "      flex-wrap:wrap;\n",
              "      gap: 12px;\n",
              "    }\n",
              "\n",
              "    .colab-df-convert {\n",
              "      background-color: #E8F0FE;\n",
              "      border: none;\n",
              "      border-radius: 50%;\n",
              "      cursor: pointer;\n",
              "      display: none;\n",
              "      fill: #1967D2;\n",
              "      height: 32px;\n",
              "      padding: 0 0 0 0;\n",
              "      width: 32px;\n",
              "    }\n",
              "\n",
              "    .colab-df-convert:hover {\n",
              "      background-color: #E2EBFA;\n",
              "      box-shadow: 0px 1px 2px rgba(60, 64, 67, 0.3), 0px 1px 3px 1px rgba(60, 64, 67, 0.15);\n",
              "      fill: #174EA6;\n",
              "    }\n",
              "\n",
              "    [theme=dark] .colab-df-convert {\n",
              "      background-color: #3B4455;\n",
              "      fill: #D2E3FC;\n",
              "    }\n",
              "\n",
              "    [theme=dark] .colab-df-convert:hover {\n",
              "      background-color: #434B5C;\n",
              "      box-shadow: 0px 1px 3px 1px rgba(0, 0, 0, 0.15);\n",
              "      filter: drop-shadow(0px 1px 2px rgba(0, 0, 0, 0.3));\n",
              "      fill: #FFFFFF;\n",
              "    }\n",
              "  </style>\n",
              "\n",
              "      <script>\n",
              "        const buttonEl =\n",
              "          document.querySelector('#df-1e6405c7-8ebc-403b-831d-6add7cb93346 button.colab-df-convert');\n",
              "        buttonEl.style.display =\n",
              "          google.colab.kernel.accessAllowed ? 'block' : 'none';\n",
              "\n",
              "        async function convertToInteractive(key) {\n",
              "          const element = document.querySelector('#df-1e6405c7-8ebc-403b-831d-6add7cb93346');\n",
              "          const dataTable =\n",
              "            await google.colab.kernel.invokeFunction('convertToInteractive',\n",
              "                                                     [key], {});\n",
              "          if (!dataTable) return;\n",
              "\n",
              "          const docLinkHtml = 'Like what you see? Visit the ' +\n",
              "            '<a target=\"_blank\" href=https://colab.research.google.com/notebooks/data_table.ipynb>data table notebook</a>'\n",
              "            + ' to learn more about interactive tables.';\n",
              "          element.innerHTML = '';\n",
              "          dataTable['output_type'] = 'display_data';\n",
              "          await google.colab.output.renderOutput(dataTable, element);\n",
              "          const docLink = document.createElement('div');\n",
              "          docLink.innerHTML = docLinkHtml;\n",
              "          element.appendChild(docLink);\n",
              "        }\n",
              "      </script>\n",
              "    </div>\n",
              "  </div>\n",
              "  "
            ]
          },
          "metadata": {},
          "execution_count": 29
        }
      ]
    },
    {
      "cell_type": "code",
      "source": [],
      "metadata": {
        "id": "4nY2pRAlWmGk"
      },
      "execution_count": null,
      "outputs": []
    },
    {
      "cell_type": "code",
      "source": [
        "\n"
      ],
      "metadata": {
        "id": "-pNHqTngb_k6"
      },
      "execution_count": null,
      "outputs": []
    },
    {
      "cell_type": "code",
      "source": [],
      "metadata": {
        "id": "q4G-NUtUcEVF"
      },
      "execution_count": null,
      "outputs": []
    },
    {
      "cell_type": "code",
      "source": [],
      "metadata": {
        "id": "0XWDXusEcKFR"
      },
      "execution_count": null,
      "outputs": []
    }
  ]
}