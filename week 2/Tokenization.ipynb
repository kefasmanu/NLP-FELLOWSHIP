{
  "nbformat": 4,
  "nbformat_minor": 0,
  "metadata": {
    "colab": {
      "provenance": [],
      "include_colab_link": true
    },
    "kernelspec": {
      "name": "python3",
      "display_name": "Python 3"
    },
    "language_info": {
      "name": "python"
    }
  },
  "cells": [
    {
      "cell_type": "markdown",
      "metadata": {
        "id": "view-in-github",
        "colab_type": "text"
      },
      "source": [
        "<a href=\"https://colab.research.google.com/github/kefasmanu/NLP-FELLOWSHIP/blob/main/week%202/Tokenization.ipynb\" target=\"_parent\"><img src=\"https://colab.research.google.com/assets/colab-badge.svg\" alt=\"Open In Colab\"/></a>"
      ]
    },
    {
      "cell_type": "markdown",
      "source": [
        "# Tokenization\n",
        "Transforming text to the simplest discrete element called token. The token can be word, character, sentence.\n"
      ],
      "metadata": {
        "id": "yRDNOPjvNlWx"
      }
    },
    {
      "cell_type": "code",
      "source": [
        "# Simplest form of tokenization\n",
        "text = '''Hon. Wanami Wamboka (Bumula, DAP-K): Hon. Speaker, as Members of this\n",
        "House, we must be concerned when one of us has issues around them. I want to indulge\n",
        "Members to support me because today, we are discussing Hon. Waluke and tomorrow, we\n",
        "might talk about another Member of this House. There is a very dangerous trend that is\n",
        "happening in this country. I do not understand why Hon. Waluke has been jailed for 70 years\n",
        "or pay a fine of Kshs1 billion whereas there are other people in this country who have had\n",
        "issues. As I speak, if you are aligned to a certain side in this country and you have a case in court, the case will be withdrawn. Mr. Chumo, the Managing Director of the Kenya Power\n",
        "Company, had his case withdrawn. The cases of Hon. Aisha Jumwa, Hon. former Governor of\n",
        "Samburu, Hon. Waititu, Zacharia Mbugua and Joyce Ngina among others have been\n",
        "withdrawn! I do not understand why Hon. Waluke is still facing persecution. I also do not\n",
        "understand why Hon. Kimunya’s case has resurfaced from nowhere. I want to put a case…\n",
        "'''\n",
        "\n",
        "text = text.replace('\\n', ' ')\n",
        "word_token = text.split()\n",
        "print('length of list---------', len(word_token))\n",
        "print(word_token)\n",
        "print('****************************')\n",
        "\n",
        "sentence_token =text.split('. ')\n",
        "print('length of list---------', len(sentence_token))\n",
        "print(sentence_token)\n",
        "print('****************************')\n",
        "\n",
        "character_token = list(text)\n",
        "print('length of list---------', len(character_token))\n",
        "print(character_token)\n",
        "print('****************************')"
      ],
      "metadata": {
        "colab": {
          "base_uri": "https://localhost:8080/"
        },
        "id": "hIK392zDj2NS",
        "outputId": "d5119278-244e-4d16-d312-7e5e09848d68"
      },
      "execution_count": 1,
      "outputs": [
        {
          "output_type": "stream",
          "name": "stdout",
          "text": [
            "length of list--------- 187\n",
            "['Hon.', 'Wanami', 'Wamboka', '(Bumula,', 'DAP-K):', 'Hon.', 'Speaker,', 'as', 'Members', 'of', 'this', 'House,', 'we', 'must', 'be', 'concerned', 'when', 'one', 'of', 'us', 'has', 'issues', 'around', 'them.', 'I', 'want', 'to', 'indulge', 'Members', 'to', 'support', 'me', 'because', 'today,', 'we', 'are', 'discussing', 'Hon.', 'Waluke', 'and', 'tomorrow,', 'we', 'might', 'talk', 'about', 'another', 'Member', 'of', 'this', 'House.', 'There', 'is', 'a', 'very', 'dangerous', 'trend', 'that', 'is', 'happening', 'in', 'this', 'country.', 'I', 'do', 'not', 'understand', 'why', 'Hon.', 'Waluke', 'has', 'been', 'jailed', 'for', '70', 'years', 'or', 'pay', 'a', 'fine', 'of', 'Kshs1', 'billion', 'whereas', 'there', 'are', 'other', 'people', 'in', 'this', 'country', 'who', 'have', 'had', 'issues.', 'As', 'I', 'speak,', 'if', 'you', 'are', 'aligned', 'to', 'a', 'certain', 'side', 'in', 'this', 'country', 'and', 'you', 'have', 'a', 'case', 'in', 'court,', 'the', 'case', 'will', 'be', 'withdrawn.', 'Mr.', 'Chumo,', 'the', 'Managing', 'Director', 'of', 'the', 'Kenya', 'Power', 'Company,', 'had', 'his', 'case', 'withdrawn.', 'The', 'cases', 'of', 'Hon.', 'Aisha', 'Jumwa,', 'Hon.', 'former', 'Governor', 'of', 'Samburu,', 'Hon.', 'Waititu,', 'Zacharia', 'Mbugua', 'and', 'Joyce', 'Ngina', 'among', 'others', 'have', 'been', 'withdrawn!', 'I', 'do', 'not', 'understand', 'why', 'Hon.', 'Waluke', 'is', 'still', 'facing', 'persecution.', 'I', 'also', 'do', 'not', 'understand', 'why', 'Hon.', 'Kimunya’s', 'case', 'has', 'resurfaced', 'from', 'nowhere.', 'I', 'want', 'to', 'put', 'a', 'case…']\n",
            "****************************\n",
            "length of list--------- 19\n",
            "['Hon', 'Wanami Wamboka (Bumula, DAP-K): Hon', 'Speaker, as Members of this House, we must be concerned when one of us has issues around them', 'I want to indulge Members to support me because today, we are discussing Hon', 'Waluke and tomorrow, we might talk about another Member of this House', 'There is a very dangerous trend that is happening in this country', 'I do not understand why Hon', 'Waluke has been jailed for 70 years or pay a fine of Kshs1 billion whereas there are other people in this country who have had issues', 'As I speak, if you are aligned to a certain side in this country and you have a case in court, the case will be withdrawn', 'Mr', 'Chumo, the Managing Director of the Kenya Power Company, had his case withdrawn', 'The cases of Hon', 'Aisha Jumwa, Hon', 'former Governor of Samburu, Hon', 'Waititu, Zacharia Mbugua and Joyce Ngina among others have been withdrawn! I do not understand why Hon', 'Waluke is still facing persecution', 'I also do not understand why Hon', 'Kimunya’s case has resurfaced from nowhere', 'I want to put a case… ']\n",
            "****************************\n",
            "length of list--------- 1034\n",
            "['H', 'o', 'n', '.', ' ', 'W', 'a', 'n', 'a', 'm', 'i', ' ', 'W', 'a', 'm', 'b', 'o', 'k', 'a', ' ', '(', 'B', 'u', 'm', 'u', 'l', 'a', ',', ' ', 'D', 'A', 'P', '-', 'K', ')', ':', ' ', 'H', 'o', 'n', '.', ' ', 'S', 'p', 'e', 'a', 'k', 'e', 'r', ',', ' ', 'a', 's', ' ', 'M', 'e', 'm', 'b', 'e', 'r', 's', ' ', 'o', 'f', ' ', 't', 'h', 'i', 's', ' ', 'H', 'o', 'u', 's', 'e', ',', ' ', 'w', 'e', ' ', 'm', 'u', 's', 't', ' ', 'b', 'e', ' ', 'c', 'o', 'n', 'c', 'e', 'r', 'n', 'e', 'd', ' ', 'w', 'h', 'e', 'n', ' ', 'o', 'n', 'e', ' ', 'o', 'f', ' ', 'u', 's', ' ', 'h', 'a', 's', ' ', 'i', 's', 's', 'u', 'e', 's', ' ', 'a', 'r', 'o', 'u', 'n', 'd', ' ', 't', 'h', 'e', 'm', '.', ' ', 'I', ' ', 'w', 'a', 'n', 't', ' ', 't', 'o', ' ', 'i', 'n', 'd', 'u', 'l', 'g', 'e', ' ', 'M', 'e', 'm', 'b', 'e', 'r', 's', ' ', 't', 'o', ' ', 's', 'u', 'p', 'p', 'o', 'r', 't', ' ', 'm', 'e', ' ', 'b', 'e', 'c', 'a', 'u', 's', 'e', ' ', 't', 'o', 'd', 'a', 'y', ',', ' ', 'w', 'e', ' ', 'a', 'r', 'e', ' ', 'd', 'i', 's', 'c', 'u', 's', 's', 'i', 'n', 'g', ' ', 'H', 'o', 'n', '.', ' ', 'W', 'a', 'l', 'u', 'k', 'e', ' ', 'a', 'n', 'd', ' ', 't', 'o', 'm', 'o', 'r', 'r', 'o', 'w', ',', ' ', 'w', 'e', ' ', 'm', 'i', 'g', 'h', 't', ' ', 't', 'a', 'l', 'k', ' ', 'a', 'b', 'o', 'u', 't', ' ', 'a', 'n', 'o', 't', 'h', 'e', 'r', ' ', 'M', 'e', 'm', 'b', 'e', 'r', ' ', 'o', 'f', ' ', 't', 'h', 'i', 's', ' ', 'H', 'o', 'u', 's', 'e', '.', ' ', 'T', 'h', 'e', 'r', 'e', ' ', 'i', 's', ' ', 'a', ' ', 'v', 'e', 'r', 'y', ' ', 'd', 'a', 'n', 'g', 'e', 'r', 'o', 'u', 's', ' ', 't', 'r', 'e', 'n', 'd', ' ', 't', 'h', 'a', 't', ' ', 'i', 's', ' ', 'h', 'a', 'p', 'p', 'e', 'n', 'i', 'n', 'g', ' ', 'i', 'n', ' ', 't', 'h', 'i', 's', ' ', 'c', 'o', 'u', 'n', 't', 'r', 'y', '.', ' ', 'I', ' ', 'd', 'o', ' ', 'n', 'o', 't', ' ', 'u', 'n', 'd', 'e', 'r', 's', 't', 'a', 'n', 'd', ' ', 'w', 'h', 'y', ' ', 'H', 'o', 'n', '.', ' ', 'W', 'a', 'l', 'u', 'k', 'e', ' ', 'h', 'a', 's', ' ', 'b', 'e', 'e', 'n', ' ', 'j', 'a', 'i', 'l', 'e', 'd', ' ', 'f', 'o', 'r', ' ', '7', '0', ' ', 'y', 'e', 'a', 'r', 's', ' ', 'o', 'r', ' ', 'p', 'a', 'y', ' ', 'a', ' ', 'f', 'i', 'n', 'e', ' ', 'o', 'f', ' ', 'K', 's', 'h', 's', '1', ' ', 'b', 'i', 'l', 'l', 'i', 'o', 'n', ' ', 'w', 'h', 'e', 'r', 'e', 'a', 's', ' ', 't', 'h', 'e', 'r', 'e', ' ', 'a', 'r', 'e', ' ', 'o', 't', 'h', 'e', 'r', ' ', 'p', 'e', 'o', 'p', 'l', 'e', ' ', 'i', 'n', ' ', 't', 'h', 'i', 's', ' ', 'c', 'o', 'u', 'n', 't', 'r', 'y', ' ', 'w', 'h', 'o', ' ', 'h', 'a', 'v', 'e', ' ', 'h', 'a', 'd', ' ', 'i', 's', 's', 'u', 'e', 's', '.', ' ', 'A', 's', ' ', 'I', ' ', 's', 'p', 'e', 'a', 'k', ',', ' ', 'i', 'f', ' ', 'y', 'o', 'u', ' ', 'a', 'r', 'e', ' ', 'a', 'l', 'i', 'g', 'n', 'e', 'd', ' ', 't', 'o', ' ', 'a', ' ', 'c', 'e', 'r', 't', 'a', 'i', 'n', ' ', 's', 'i', 'd', 'e', ' ', 'i', 'n', ' ', 't', 'h', 'i', 's', ' ', 'c', 'o', 'u', 'n', 't', 'r', 'y', ' ', 'a', 'n', 'd', ' ', 'y', 'o', 'u', ' ', 'h', 'a', 'v', 'e', ' ', 'a', ' ', 'c', 'a', 's', 'e', ' ', 'i', 'n', ' ', 'c', 'o', 'u', 'r', 't', ',', ' ', 't', 'h', 'e', ' ', 'c', 'a', 's', 'e', ' ', 'w', 'i', 'l', 'l', ' ', 'b', 'e', ' ', 'w', 'i', 't', 'h', 'd', 'r', 'a', 'w', 'n', '.', ' ', 'M', 'r', '.', ' ', 'C', 'h', 'u', 'm', 'o', ',', ' ', 't', 'h', 'e', ' ', 'M', 'a', 'n', 'a', 'g', 'i', 'n', 'g', ' ', 'D', 'i', 'r', 'e', 'c', 't', 'o', 'r', ' ', 'o', 'f', ' ', 't', 'h', 'e', ' ', 'K', 'e', 'n', 'y', 'a', ' ', 'P', 'o', 'w', 'e', 'r', ' ', 'C', 'o', 'm', 'p', 'a', 'n', 'y', ',', ' ', 'h', 'a', 'd', ' ', 'h', 'i', 's', ' ', 'c', 'a', 's', 'e', ' ', 'w', 'i', 't', 'h', 'd', 'r', 'a', 'w', 'n', '.', ' ', 'T', 'h', 'e', ' ', 'c', 'a', 's', 'e', 's', ' ', 'o', 'f', ' ', 'H', 'o', 'n', '.', ' ', 'A', 'i', 's', 'h', 'a', ' ', 'J', 'u', 'm', 'w', 'a', ',', ' ', 'H', 'o', 'n', '.', ' ', 'f', 'o', 'r', 'm', 'e', 'r', ' ', 'G', 'o', 'v', 'e', 'r', 'n', 'o', 'r', ' ', 'o', 'f', ' ', 'S', 'a', 'm', 'b', 'u', 'r', 'u', ',', ' ', 'H', 'o', 'n', '.', ' ', 'W', 'a', 'i', 't', 'i', 't', 'u', ',', ' ', 'Z', 'a', 'c', 'h', 'a', 'r', 'i', 'a', ' ', 'M', 'b', 'u', 'g', 'u', 'a', ' ', 'a', 'n', 'd', ' ', 'J', 'o', 'y', 'c', 'e', ' ', 'N', 'g', 'i', 'n', 'a', ' ', 'a', 'm', 'o', 'n', 'g', ' ', 'o', 't', 'h', 'e', 'r', 's', ' ', 'h', 'a', 'v', 'e', ' ', 'b', 'e', 'e', 'n', ' ', 'w', 'i', 't', 'h', 'd', 'r', 'a', 'w', 'n', '!', ' ', 'I', ' ', 'd', 'o', ' ', 'n', 'o', 't', ' ', 'u', 'n', 'd', 'e', 'r', 's', 't', 'a', 'n', 'd', ' ', 'w', 'h', 'y', ' ', 'H', 'o', 'n', '.', ' ', 'W', 'a', 'l', 'u', 'k', 'e', ' ', 'i', 's', ' ', 's', 't', 'i', 'l', 'l', ' ', 'f', 'a', 'c', 'i', 'n', 'g', ' ', 'p', 'e', 'r', 's', 'e', 'c', 'u', 't', 'i', 'o', 'n', '.', ' ', 'I', ' ', 'a', 'l', 's', 'o', ' ', 'd', 'o', ' ', 'n', 'o', 't', ' ', 'u', 'n', 'd', 'e', 'r', 's', 't', 'a', 'n', 'd', ' ', 'w', 'h', 'y', ' ', 'H', 'o', 'n', '.', ' ', 'K', 'i', 'm', 'u', 'n', 'y', 'a', '’', 's', ' ', 'c', 'a', 's', 'e', ' ', 'h', 'a', 's', ' ', 'r', 'e', 's', 'u', 'r', 'f', 'a', 'c', 'e', 'd', ' ', 'f', 'r', 'o', 'm', ' ', 'n', 'o', 'w', 'h', 'e', 'r', 'e', '.', ' ', 'I', ' ', 'w', 'a', 'n', 't', ' ', 't', 'o', ' ', 'p', 'u', 't', ' ', 'a', ' ', 'c', 'a', 's', 'e', '…', ' ']\n",
            "****************************\n"
          ]
        }
      ]
    },
    {
      "cell_type": "markdown",
      "source": [
        "## Python packages used for tokenization\n",
        "Problem with the above is we have to define what makes up a word or sentence. From the above we can see that words are placed together with full stop. In the sentence token, we can see there are only 2 sentence but because some of the \\n.\n",
        "\n",
        "There are packages that can be used to properly tokenize the text. Some of the packages we will look at are:\n",
        "\n",
        "\n",
        "*  Regex\n",
        "* NLTK\n",
        "*   Gensim\n",
        "*   Spacy\n",
        "* Keras\n",
        "* Huggingface\n",
        "\n"
      ],
      "metadata": {
        "id": "VStF_XrjmsD4"
      }
    },
    {
      "cell_type": "markdown",
      "source": [
        "## Regex\n",
        "We can use regex to indentify words or sentences. This seems better but still does not solve our problems when it comes to working with sentences.\n"
      ],
      "metadata": {
        "id": "oWMHwRdYpjBa"
      }
    },
    {
      "cell_type": "code",
      "source": [
        "import re\n",
        "\n",
        "word_tokens_re = re.findall(\"[\\w]+\", text) \n",
        "print('length of list---------', len(word_tokens_re))\n",
        "print(word_tokens_re) # does not pick punctuations. \n",
        "\n",
        "sentence_tokens_re = re.compile('[.!?] ').split(text)\n",
        "print('length of list---------', len(sentence_tokens_re))\n",
        "print(sentence_tokens_re)"
      ],
      "metadata": {
        "id": "VB8d4rjspe81",
        "colab": {
          "base_uri": "https://localhost:8080/"
        },
        "outputId": "6c68202a-d452-404c-cb65-a6c41bda52f8"
      },
      "execution_count": 2,
      "outputs": [
        {
          "output_type": "stream",
          "name": "stdout",
          "text": [
            "length of list--------- 189\n",
            "['Hon', 'Wanami', 'Wamboka', 'Bumula', 'DAP', 'K', 'Hon', 'Speaker', 'as', 'Members', 'of', 'this', 'House', 'we', 'must', 'be', 'concerned', 'when', 'one', 'of', 'us', 'has', 'issues', 'around', 'them', 'I', 'want', 'to', 'indulge', 'Members', 'to', 'support', 'me', 'because', 'today', 'we', 'are', 'discussing', 'Hon', 'Waluke', 'and', 'tomorrow', 'we', 'might', 'talk', 'about', 'another', 'Member', 'of', 'this', 'House', 'There', 'is', 'a', 'very', 'dangerous', 'trend', 'that', 'is', 'happening', 'in', 'this', 'country', 'I', 'do', 'not', 'understand', 'why', 'Hon', 'Waluke', 'has', 'been', 'jailed', 'for', '70', 'years', 'or', 'pay', 'a', 'fine', 'of', 'Kshs1', 'billion', 'whereas', 'there', 'are', 'other', 'people', 'in', 'this', 'country', 'who', 'have', 'had', 'issues', 'As', 'I', 'speak', 'if', 'you', 'are', 'aligned', 'to', 'a', 'certain', 'side', 'in', 'this', 'country', 'and', 'you', 'have', 'a', 'case', 'in', 'court', 'the', 'case', 'will', 'be', 'withdrawn', 'Mr', 'Chumo', 'the', 'Managing', 'Director', 'of', 'the', 'Kenya', 'Power', 'Company', 'had', 'his', 'case', 'withdrawn', 'The', 'cases', 'of', 'Hon', 'Aisha', 'Jumwa', 'Hon', 'former', 'Governor', 'of', 'Samburu', 'Hon', 'Waititu', 'Zacharia', 'Mbugua', 'and', 'Joyce', 'Ngina', 'among', 'others', 'have', 'been', 'withdrawn', 'I', 'do', 'not', 'understand', 'why', 'Hon', 'Waluke', 'is', 'still', 'facing', 'persecution', 'I', 'also', 'do', 'not', 'understand', 'why', 'Hon', 'Kimunya', 's', 'case', 'has', 'resurfaced', 'from', 'nowhere', 'I', 'want', 'to', 'put', 'a', 'case']\n",
            "length of list--------- 20\n",
            "['Hon', 'Wanami Wamboka (Bumula, DAP-K): Hon', 'Speaker, as Members of this House, we must be concerned when one of us has issues around them', 'I want to indulge Members to support me because today, we are discussing Hon', 'Waluke and tomorrow, we might talk about another Member of this House', 'There is a very dangerous trend that is happening in this country', 'I do not understand why Hon', 'Waluke has been jailed for 70 years or pay a fine of Kshs1 billion whereas there are other people in this country who have had issues', 'As I speak, if you are aligned to a certain side in this country and you have a case in court, the case will be withdrawn', 'Mr', 'Chumo, the Managing Director of the Kenya Power Company, had his case withdrawn', 'The cases of Hon', 'Aisha Jumwa, Hon', 'former Governor of Samburu, Hon', 'Waititu, Zacharia Mbugua and Joyce Ngina among others have been withdrawn', 'I do not understand why Hon', 'Waluke is still facing persecution', 'I also do not understand why Hon', 'Kimunya’s case has resurfaced from nowhere', 'I want to put a case… ']\n"
          ]
        }
      ]
    },
    {
      "cell_type": "markdown",
      "source": [
        "## NLTK \n",
        "Documentation - https://www.nltk.org/\n",
        "\n",
        "It stands for \n",
        "\n",
        "`!pip install nltk` to install the package\n",
        "\n",
        "`import nltk` to import the package"
      ],
      "metadata": {
        "id": "6kVpJKlnop6h"
      }
    },
    {
      "cell_type": "code",
      "source": [
        "import nltk\n",
        "nltk.download('punkt')\n",
        "from nltk.tokenize import word_tokenize,sent_tokenize\n",
        "from nltk.tokenize.punkt import  PunktSentenceTokenizer,PunktParameters\n"
      ],
      "metadata": {
        "id": "2AQm48v8pIpY",
        "colab": {
          "base_uri": "https://localhost:8080/"
        },
        "outputId": "e9d58742-6415-4dd3-dd2f-e9352696b3fc"
      },
      "execution_count": 3,
      "outputs": [
        {
          "output_type": "stream",
          "name": "stderr",
          "text": [
            "[nltk_data] Downloading package punkt to /root/nltk_data...\n",
            "[nltk_data]   Unzipping tokenizers/punkt.zip.\n"
          ]
        }
      ]
    },
    {
      "cell_type": "code",
      "source": [
        "word_token_nltk = word_tokenize(text)\n",
        "print('length of list---------', len(word_token_nltk))\n",
        "print(word_token_nltk)\n",
        "print('****************************')\n",
        "\n",
        "sentence_token_nltk =sent_tokenize(text)\n",
        "print('length of list---------', len(sentence_token))\n",
        "print(sentence_token)\n",
        "print('****************************')"
      ],
      "metadata": {
        "id": "cy-hpQdTkXjX",
        "colab": {
          "base_uri": "https://localhost:8080/"
        },
        "outputId": "ec64654a-756d-4f8f-f565-8a94014e7ae7"
      },
      "execution_count": 4,
      "outputs": [
        {
          "output_type": "stream",
          "name": "stdout",
          "text": [
            "length of list--------- 222\n",
            "['Hon', '.', 'Wanami', 'Wamboka', '(', 'Bumula', ',', 'DAP-K', ')', ':', 'Hon', '.', 'Speaker', ',', 'as', 'Members', 'of', 'this', 'House', ',', 'we', 'must', 'be', 'concerned', 'when', 'one', 'of', 'us', 'has', 'issues', 'around', 'them', '.', 'I', 'want', 'to', 'indulge', 'Members', 'to', 'support', 'me', 'because', 'today', ',', 'we', 'are', 'discussing', 'Hon', '.', 'Waluke', 'and', 'tomorrow', ',', 'we', 'might', 'talk', 'about', 'another', 'Member', 'of', 'this', 'House', '.', 'There', 'is', 'a', 'very', 'dangerous', 'trend', 'that', 'is', 'happening', 'in', 'this', 'country', '.', 'I', 'do', 'not', 'understand', 'why', 'Hon', '.', 'Waluke', 'has', 'been', 'jailed', 'for', '70', 'years', 'or', 'pay', 'a', 'fine', 'of', 'Kshs1', 'billion', 'whereas', 'there', 'are', 'other', 'people', 'in', 'this', 'country', 'who', 'have', 'had', 'issues', '.', 'As', 'I', 'speak', ',', 'if', 'you', 'are', 'aligned', 'to', 'a', 'certain', 'side', 'in', 'this', 'country', 'and', 'you', 'have', 'a', 'case', 'in', 'court', ',', 'the', 'case', 'will', 'be', 'withdrawn', '.', 'Mr.', 'Chumo', ',', 'the', 'Managing', 'Director', 'of', 'the', 'Kenya', 'Power', 'Company', ',', 'had', 'his', 'case', 'withdrawn', '.', 'The', 'cases', 'of', 'Hon', '.', 'Aisha', 'Jumwa', ',', 'Hon', '.', 'former', 'Governor', 'of', 'Samburu', ',', 'Hon', '.', 'Waititu', ',', 'Zacharia', 'Mbugua', 'and', 'Joyce', 'Ngina', 'among', 'others', 'have', 'been', 'withdrawn', '!', 'I', 'do', 'not', 'understand', 'why', 'Hon', '.', 'Waluke', 'is', 'still', 'facing', 'persecution', '.', 'I', 'also', 'do', 'not', 'understand', 'why', 'Hon', '.', 'Kimunya', '’', 's', 'case', 'has', 'resurfaced', 'from', 'nowhere', '.', 'I', 'want', 'to', 'put', 'a', 'case…']\n",
            "****************************\n",
            "length of list--------- 19\n",
            "['Hon', 'Wanami Wamboka (Bumula, DAP-K): Hon', 'Speaker, as Members of this House, we must be concerned when one of us has issues around them', 'I want to indulge Members to support me because today, we are discussing Hon', 'Waluke and tomorrow, we might talk about another Member of this House', 'There is a very dangerous trend that is happening in this country', 'I do not understand why Hon', 'Waluke has been jailed for 70 years or pay a fine of Kshs1 billion whereas there are other people in this country who have had issues', 'As I speak, if you are aligned to a certain side in this country and you have a case in court, the case will be withdrawn', 'Mr', 'Chumo, the Managing Director of the Kenya Power Company, had his case withdrawn', 'The cases of Hon', 'Aisha Jumwa, Hon', 'former Governor of Samburu, Hon', 'Waititu, Zacharia Mbugua and Joyce Ngina among others have been withdrawn! I do not understand why Hon', 'Waluke is still facing persecution', 'I also do not understand why Hon', 'Kimunya’s case has resurfaced from nowhere', 'I want to put a case… ']\n",
            "****************************\n"
          ]
        }
      ]
    },
    {
      "cell_type": "code",
      "source": [
        "# Working with abbreviations\n",
        "punkt_param = PunktParameters()\n",
        "abbreviation = ['hon', 'mr']\n",
        "punkt_param.abbrev_types = set(abbreviation)\n",
        "\n",
        "tokenizer = PunktSentenceTokenizer(punkt_param)\n",
        "sentence_token_nltk = tokenizer.tokenize(text)\n",
        "print('length of list---------', len(sentence_token_nltk))\n",
        "print(sentence_token_nltk)\n",
        "print('****************************')"
      ],
      "metadata": {
        "colab": {
          "base_uri": "https://localhost:8080/"
        },
        "id": "S_UpxpimztGu",
        "outputId": "5c7f524b-15df-4ff8-e720-e077bdaad4df"
      },
      "execution_count": 5,
      "outputs": [
        {
          "output_type": "stream",
          "name": "stdout",
          "text": [
            "length of list--------- 10\n",
            "['Hon. Wanami Wamboka (Bumula, DAP-K): Hon. Speaker, as Members of this House, we must be concerned when one of us has issues around them.', 'I want to indulge Members to support me because today, we are discussing Hon. Waluke and tomorrow, we might talk about another Member of this House.', 'There is a very dangerous trend that is happening in this country.', 'I do not understand why Hon. Waluke has been jailed for 70 years or pay a fine of Kshs1 billion whereas there are other people in this country who have had issues.', 'As I speak, if you are aligned to a certain side in this country and you have a case in court, the case will be withdrawn.', 'Mr. Chumo, the Managing Director of the Kenya Power Company, had his case withdrawn.', 'The cases of Hon. Aisha Jumwa, Hon. former Governor of Samburu, Hon. Waititu, Zacharia Mbugua and Joyce Ngina among others have been withdrawn!', 'I do not understand why Hon. Waluke is still facing persecution.', 'I also do not understand why Hon. Kimunya’s case has resurfaced from nowhere.', 'I want to put a case…']\n",
            "****************************\n"
          ]
        }
      ]
    },
    {
      "cell_type": "markdown",
      "source": [
        "### Creating your language abbreviations and adding them to the tokenizer\n",
        "You can use this exmaple: https://gist.github.com/ksopyla/f05fe2f48bbc9de895368b8a7863b5c3\n",
        "\n",
        "We can crowd source this to create our own list. This will be used in translation."
      ],
      "metadata": {
        "id": "PXsB93SJ8RHX"
      }
    },
    {
      "cell_type": "markdown",
      "source": [
        "## Gensim\n",
        "Mostly used for topic modelling. Has its own models already trained, has corpus and also utility functions we can use for tokenization.\n",
        "\n",
        "Documentation: https://radimrehurek.com/gensim/index.html\n",
        "\n",
        "`!pip install gensim` for installing the package\n"
      ],
      "metadata": {
        "id": "m7tNPeDl9TbH"
      }
    },
    {
      "cell_type": "code",
      "source": [
        "from gensim.utils import tokenize\n",
        "from gensim.summarization.textcleaner import split_sentences"
      ],
      "metadata": {
        "id": "VW1Sz_yu9SJp"
      },
      "execution_count": 6,
      "outputs": []
    },
    {
      "cell_type": "code",
      "source": [
        "word_token_gensim = list(tokenize(text))\n",
        "print('length of list---------', len(word_token_gensim))\n",
        "print(word_token_gensim)\n",
        "print('****************************')\n",
        "\n",
        "sentence_token_gensim = list(split_sentences(text))\n",
        "print('length of list---------', len(sentence_token_gensim))\n",
        "print(sentence_token_gensim)\n",
        "print('****************************')"
      ],
      "metadata": {
        "colab": {
          "base_uri": "https://localhost:8080/"
        },
        "id": "XLDx2aUK8Gf4",
        "outputId": "9cfe6228-92fa-40f6-c78a-b14637d108d4"
      },
      "execution_count": 7,
      "outputs": [
        {
          "output_type": "stream",
          "name": "stdout",
          "text": [
            "length of list--------- 188\n",
            "['Hon', 'Wanami', 'Wamboka', 'Bumula', 'DAP', 'K', 'Hon', 'Speaker', 'as', 'Members', 'of', 'this', 'House', 'we', 'must', 'be', 'concerned', 'when', 'one', 'of', 'us', 'has', 'issues', 'around', 'them', 'I', 'want', 'to', 'indulge', 'Members', 'to', 'support', 'me', 'because', 'today', 'we', 'are', 'discussing', 'Hon', 'Waluke', 'and', 'tomorrow', 'we', 'might', 'talk', 'about', 'another', 'Member', 'of', 'this', 'House', 'There', 'is', 'a', 'very', 'dangerous', 'trend', 'that', 'is', 'happening', 'in', 'this', 'country', 'I', 'do', 'not', 'understand', 'why', 'Hon', 'Waluke', 'has', 'been', 'jailed', 'for', 'years', 'or', 'pay', 'a', 'fine', 'of', 'Kshs', 'billion', 'whereas', 'there', 'are', 'other', 'people', 'in', 'this', 'country', 'who', 'have', 'had', 'issues', 'As', 'I', 'speak', 'if', 'you', 'are', 'aligned', 'to', 'a', 'certain', 'side', 'in', 'this', 'country', 'and', 'you', 'have', 'a', 'case', 'in', 'court', 'the', 'case', 'will', 'be', 'withdrawn', 'Mr', 'Chumo', 'the', 'Managing', 'Director', 'of', 'the', 'Kenya', 'Power', 'Company', 'had', 'his', 'case', 'withdrawn', 'The', 'cases', 'of', 'Hon', 'Aisha', 'Jumwa', 'Hon', 'former', 'Governor', 'of', 'Samburu', 'Hon', 'Waititu', 'Zacharia', 'Mbugua', 'and', 'Joyce', 'Ngina', 'among', 'others', 'have', 'been', 'withdrawn', 'I', 'do', 'not', 'understand', 'why', 'Hon', 'Waluke', 'is', 'still', 'facing', 'persecution', 'I', 'also', 'do', 'not', 'understand', 'why', 'Hon', 'Kimunya', 's', 'case', 'has', 'resurfaced', 'from', 'nowhere', 'I', 'want', 'to', 'put', 'a', 'case']\n",
            "****************************\n",
            "length of list--------- 10\n",
            "['Hon. Wanami Wamboka (Bumula, DAP-K): Hon. Speaker, as Members of this House, we must be concerned when one of us has issues around them.', 'I want to indulge Members to support me because today, we are discussing Hon. Waluke and tomorrow, we might talk about another Member of this House.', 'There is a very dangerous trend that is happening in this country.', 'I do not understand why Hon. Waluke has been jailed for 70 years or pay a fine of Kshs1 billion whereas there are other people in this country who have had issues.', 'As I speak, if you are aligned to a certain side in this country and you have a case in court, the case will be withdrawn.', 'Mr. Chumo, the Managing Director of the Kenya Power Company, had his case withdrawn.', 'The cases of Hon. Aisha Jumwa, Hon. former Governor of Samburu, Hon. Waititu, Zacharia Mbugua and Joyce Ngina among others have been withdrawn!', 'I do not understand why Hon. Waluke is still facing persecution.', 'I also do not understand why Hon. Kimunya’s case has resurfaced from nowhere.', 'I want to put a case… ']\n",
            "****************************\n"
          ]
        }
      ]
    },
    {
      "cell_type": "markdown",
      "source": [
        "## Spacy\n",
        "This is like the modern version of NLTK. It has most of the tools needed for NLP. It also enables people to contribute tools for their own languages.\n",
        "\n",
        "Documentation: https://spacy.io/usage/linguistic-features#tokenization\n",
        "\n",
        "Since it has multiple languages, you will have to get the vector for that language to proceed\n"
      ],
      "metadata": {
        "id": "oKopaj8cDs3p"
      }
    },
    {
      "cell_type": "code",
      "source": [
        "import spacy\n",
        "from spacy.lang.en import English\n",
        "\n",
        "nlp = spacy.load(\"en_core_web_sm\")"
      ],
      "metadata": {
        "id": "CMLtoXAmHqfl"
      },
      "execution_count": 8,
      "outputs": []
    },
    {
      "cell_type": "code",
      "source": [
        "doc = nlp(text)\n",
        "word_token_spacy = []\n",
        "for token in doc:\n",
        "  word_token_spacy.append(token.text)\n",
        "\n",
        "print('length of list---------', len(word_token_spacy))\n",
        "print(word_token_spacy)\n",
        "print('****************************')"
      ],
      "metadata": {
        "colab": {
          "base_uri": "https://localhost:8080/"
        },
        "id": "bt3cJjHUDbei",
        "outputId": "32b44b8b-6bfe-400b-dc88-1edabf89e8ca"
      },
      "execution_count": 9,
      "outputs": [
        {
          "output_type": "stream",
          "name": "stdout",
          "text": [
            "length of list--------- 223\n",
            "['Hon', '.', 'Wanami', 'Wamboka', '(', 'Bumula', ',', 'DAP', '-', 'K', '):', 'Hon', '.', 'Speaker', ',', 'as', 'Members', 'of', 'this', 'House', ',', 'we', 'must', 'be', 'concerned', 'when', 'one', 'of', 'us', 'has', 'issues', 'around', 'them', '.', 'I', 'want', 'to', 'indulge', 'Members', 'to', 'support', 'me', 'because', 'today', ',', 'we', 'are', 'discussing', 'Hon', '.', 'Waluke', 'and', 'tomorrow', ',', 'we', 'might', 'talk', 'about', 'another', 'Member', 'of', 'this', 'House', '.', 'There', 'is', 'a', 'very', 'dangerous', 'trend', 'that', 'is', 'happening', 'in', 'this', 'country', '.', 'I', 'do', 'not', 'understand', 'why', 'Hon', '.', 'Waluke', 'has', 'been', 'jailed', 'for', '70', 'years', 'or', 'pay', 'a', 'fine', 'of', 'Kshs1', 'billion', 'whereas', 'there', 'are', 'other', 'people', 'in', 'this', 'country', 'who', 'have', 'had', 'issues', '.', 'As', 'I', 'speak', ',', 'if', 'you', 'are', 'aligned', 'to', 'a', 'certain', 'side', 'in', 'this', 'country', 'and', 'you', 'have', 'a', 'case', 'in', 'court', ',', 'the', 'case', 'will', 'be', 'withdrawn', '.', 'Mr.', 'Chumo', ',', 'the', 'Managing', 'Director', 'of', 'the', 'Kenya', 'Power', 'Company', ',', 'had', 'his', 'case', 'withdrawn', '.', 'The', 'cases', 'of', 'Hon', '.', 'Aisha', 'Jumwa', ',', 'Hon', '.', 'former', 'Governor', 'of', 'Samburu', ',', 'Hon', '.', 'Waititu', ',', 'Zacharia', 'Mbugua', 'and', 'Joyce', 'Ngina', 'among', 'others', 'have', 'been', 'withdrawn', '!', 'I', 'do', 'not', 'understand', 'why', 'Hon', '.', 'Waluke', 'is', 'still', 'facing', 'persecution', '.', 'I', 'also', 'do', 'not', 'understand', 'why', 'Hon', '.', 'Kimunya', '’s', 'case', 'has', 'resurfaced', 'from', 'nowhere', '.', 'I', 'want', 'to', 'put', 'a', 'case', '…']\n",
            "****************************\n"
          ]
        }
      ]
    },
    {
      "cell_type": "code",
      "source": [
        "sent_doc = nlp(text)\n",
        "\n",
        "sentence_token_spacy = []\n",
        "for token in sent_doc.sents:\n",
        "    sentence_token_spacy.append(token.text)\n",
        "\n",
        "print('length of list---------', len(sentence_token_spacy))\n",
        "print(sentence_token_spacy)\n",
        "print('****************************')\n"
      ],
      "metadata": {
        "colab": {
          "base_uri": "https://localhost:8080/"
        },
        "id": "nJ1uzDdrHNhR",
        "outputId": "f72b5855-1a1d-48b1-b72e-0cfa8386cdf3"
      },
      "execution_count": 10,
      "outputs": [
        {
          "output_type": "stream",
          "name": "stdout",
          "text": [
            "length of list--------- 17\n",
            "['Hon.', 'Wanami Wamboka (Bumula, DAP-K): Hon. Speaker, as Members of this House, we must be concerned when one of us has issues around them.', 'I want to indulge Members to support me because today, we are discussing Hon.', 'Waluke and tomorrow, we might talk about another Member of this House.', 'There is a very dangerous trend that is happening in this country.', 'I do not understand why Hon.', 'Waluke has been jailed for 70 years or pay a fine of Kshs1 billion whereas there are other people in this country who have had issues.', 'As I speak, if you are aligned to a certain side in this country and you have a case in court, the case will be withdrawn.', 'Mr. Chumo, the Managing Director of the Kenya Power Company, had his case withdrawn.', 'The cases of Hon.', 'Aisha Jumwa, Hon.', 'former Governor of Samburu, Hon. Waititu, Zacharia Mbugua and Joyce Ngina among others have been withdrawn!', 'I do not understand why Hon.', 'Waluke is still facing persecution.', 'I also do not understand why Hon.', 'Kimunya’s case has resurfaced from nowhere.', 'I want to put a case…']\n",
            "****************************\n"
          ]
        }
      ]
    },
    {
      "cell_type": "markdown",
      "source": [
        "## Inclass Practical\n",
        "\n",
        "\n",
        "1.   Figure out how to add abbrevation in spacy\n",
        "2.   Compare all the list and see which are the sentence or words that should not be there\n",
        "3.   Pick the best tokenizer among the 5 and use it on yesterday's cleaned text data (Parlimentary data)\n",
        "\n"
      ],
      "metadata": {
        "id": "jpxAQsnKL4Gh"
      }
    },
    {
      "cell_type": "markdown",
      "source": [
        "## Assignment\n",
        "Create a function that will take text and return word tokens for the Eng-Kin dataset. For Kinyarwanda text remember the abbrevations"
      ],
      "metadata": {
        "id": "-zfWYcb5Nw2-"
      }
    },
    {
      "cell_type": "code",
      "source": [],
      "metadata": {
        "id": "gyo_2wfNJOL-"
      },
      "execution_count": null,
      "outputs": []
    }
  ]
}