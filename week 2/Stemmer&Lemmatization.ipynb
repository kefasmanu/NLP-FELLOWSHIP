{
  "nbformat": 4,
  "nbformat_minor": 0,
  "metadata": {
    "colab": {
      "provenance": [],
      "include_colab_link": true
    },
    "kernelspec": {
      "name": "python3",
      "display_name": "Python 3"
    },
    "language_info": {
      "name": "python"
    }
  },
  "cells": [
    {
      "cell_type": "markdown",
      "metadata": {
        "id": "view-in-github",
        "colab_type": "text"
      },
      "source": [
        "<a href=\"https://colab.research.google.com/github/kefasmanu/NLP-FELLOWSHIP/blob/main/week%202/Stemmer%26Lemmatization.ipynb\" target=\"_parent\"><img src=\"https://colab.research.google.com/assets/colab-badge.svg\" alt=\"Open In Colab\"/></a>"
      ]
    },
    {
      "cell_type": "markdown",
      "source": [
        "# Stemming\n",
        "*A stemming algorithm, a procedure to reduce all words with the same\n",
        "stem to a common form, is useful in many areas of computational linguistics and information-retrieval work.* ~ Lovin,1968\n",
        "\n",
        "Examples of Stemmers include:\n",
        "\n",
        "\n",
        "1.   PorterStemmer\n",
        "2.   SnowballStemmer\n",
        "3. LancasterStemmer\n",
        "4. RegexStemmer\n",
        "\n"
      ],
      "metadata": {
        "id": "in_28geDz1Gv"
      }
    },
    {
      "cell_type": "code",
      "source": [
        "import nltk\n",
        "nltk.download('wordnet')\n",
        "nltk.download('omw-1.4')\n",
        "nltk.download('punkt')\n",
        "nltk.download('averaged_perceptron_tagger')\n",
        "nltk.download('stopwords')"
      ],
      "metadata": {
        "id": "OYQ40jZx-Awx",
        "colab": {
          "base_uri": "https://localhost:8080/"
        },
        "outputId": "b7647d85-144f-4ffd-846f-542f567ebe39"
      },
      "execution_count": 1,
      "outputs": [
        {
          "output_type": "stream",
          "name": "stderr",
          "text": [
            "[nltk_data] Downloading package wordnet to /root/nltk_data...\n",
            "[nltk_data] Downloading package omw-1.4 to /root/nltk_data...\n",
            "[nltk_data] Downloading package punkt to /root/nltk_data...\n",
            "[nltk_data]   Unzipping tokenizers/punkt.zip.\n",
            "[nltk_data] Downloading package averaged_perceptron_tagger to\n",
            "[nltk_data]     /root/nltk_data...\n",
            "[nltk_data]   Unzipping taggers/averaged_perceptron_tagger.zip.\n",
            "[nltk_data] Downloading package stopwords to /root/nltk_data...\n",
            "[nltk_data]   Unzipping corpora/stopwords.zip.\n"
          ]
        },
        {
          "output_type": "execute_result",
          "data": {
            "text/plain": [
              "True"
            ]
          },
          "metadata": {},
          "execution_count": 1
        }
      ]
    },
    {
      "cell_type": "markdown",
      "source": [
        "## PorterStemmer\n",
        "Designed and built by Martin Porter in 1980\n",
        "\n",
        "Takes Five steps each with its own mapping rules. Easy and fast\n"
      ],
      "metadata": {
        "id": "pP3w12Sy0QDd"
      }
    },
    {
      "cell_type": "code",
      "execution_count": 2,
      "metadata": {
        "id": "Edofg-4JoDXD",
        "colab": {
          "base_uri": "https://localhost:8080/"
        },
        "outputId": "a9bfc0c4-199c-4ef6-c936-c8f0883483d8"
      },
      "outputs": [
        {
          "output_type": "stream",
          "name": "stdout",
          "text": [
            "friend ---> friend\n",
            "friendship ---> friendship\n",
            "friends ---> friend\n",
            "friendships ---> friendship\n",
            "generate ---> gener\n",
            "generates ---> gener\n",
            "generating ---> gener\n",
            "general ---> gener\n",
            "generally ---> gener\n",
            "generic ---> gener\n",
            "generically ---> gener\n",
            "generous ---> gener\n",
            "generously ---> gener\n",
            "went ---> went\n",
            "ate ---> ate\n"
          ]
        }
      ],
      "source": [
        "\n",
        "from nltk.stem import PorterStemmer, SnowballStemmer,LancasterStemmer,RegexpStemmer,WordNetLemmatizer\n",
        "words = [\"friend\", \"friendship\", \"friends\", \"friendships\",\"generate\",\"generates\",\"generating\",\"general\",\"generally\",\"generic\",\"generically\",\"generous\",\"generously\",\"went\",\"ate\"]\n",
        "Porter = PorterStemmer()\n",
        "\n",
        "for word in words:\n",
        "    print(word,\"--->\",Porter.stem(word))"
      ]
    },
    {
      "cell_type": "code",
      "source": [
        "new_words = [\"walk\",\"walking\",\"walked\",\"walks\"]\n",
        "for word in new_words:\n",
        "    print(word,\"--->\",Porter.stem(word))"
      ],
      "metadata": {
        "id": "oupMbnhPXUA-",
        "colab": {
          "base_uri": "https://localhost:8080/"
        },
        "outputId": "66129857-1070-4c94-9e04-5b2fc5f7ebde"
      },
      "execution_count": 3,
      "outputs": [
        {
          "output_type": "stream",
          "name": "stdout",
          "text": [
            "walk ---> walk\n",
            "walking ---> walk\n",
            "walked ---> walk\n",
            "walks ---> walk\n"
          ]
        }
      ]
    },
    {
      "cell_type": "markdown",
      "source": [
        "## SnowballStemmer/Porter2Stemmer\n",
        "Designed and built by Martin Porter\n",
        "Advancement of PorterStemmer\n",
        "\n",
        "Faster and more precise than Porter Stemmer"
      ],
      "metadata": {
        "id": "U964E_O53SMt"
      }
    },
    {
      "cell_type": "code",
      "source": [
        "snowball = SnowballStemmer(language='english')\n",
        "\n",
        "for word in words:\n",
        "    print(word,\"--->\",snowball.stem(word))"
      ],
      "metadata": {
        "id": "9_XdGLfFoSr_",
        "colab": {
          "base_uri": "https://localhost:8080/"
        },
        "outputId": "86998a48-7d34-40ef-f162-84a12c0bd4fa"
      },
      "execution_count": 4,
      "outputs": [
        {
          "output_type": "stream",
          "name": "stdout",
          "text": [
            "friend ---> friend\n",
            "friendship ---> friendship\n",
            "friends ---> friend\n",
            "friendships ---> friendship\n",
            "generate ---> generat\n",
            "generates ---> generat\n",
            "generating ---> generat\n",
            "general ---> general\n",
            "generally ---> general\n",
            "generic ---> generic\n",
            "generically ---> generic\n",
            "generous ---> generous\n",
            "generously ---> generous\n",
            "went ---> went\n",
            "ate ---> ate\n"
          ]
        }
      ]
    },
    {
      "cell_type": "markdown",
      "source": [
        "## LancasterStemmer\n",
        "Simpler\n",
        "\n",
        "Results to over stemming of words, which leads to meaningless words"
      ],
      "metadata": {
        "id": "VNRbB3oD5TIj"
      }
    },
    {
      "cell_type": "code",
      "source": [
        "lancaster = LancasterStemmer()\n",
        "\n",
        "for word in words:\n",
        "    print(word,\"--->\",lancaster.stem(word))"
      ],
      "metadata": {
        "id": "KXm57JXP27mC",
        "colab": {
          "base_uri": "https://localhost:8080/"
        },
        "outputId": "7abf255b-dfda-421b-cee9-3f73d61cedba"
      },
      "execution_count": 5,
      "outputs": [
        {
          "output_type": "stream",
          "name": "stdout",
          "text": [
            "friend ---> friend\n",
            "friendship ---> friend\n",
            "friends ---> friend\n",
            "friendships ---> friend\n",
            "generate ---> gen\n",
            "generates ---> gen\n",
            "generating ---> gen\n",
            "general ---> gen\n",
            "generally ---> gen\n",
            "generic ---> gen\n",
            "generically ---> gen\n",
            "generous ---> gen\n",
            "generously ---> gen\n",
            "went ---> went\n",
            "ate ---> at\n"
          ]
        }
      ]
    },
    {
      "cell_type": "markdown",
      "source": [
        "## RegexStemmer\n",
        "Uses regex\n",
        "\n",
        "Substring matching the regex will be discarded\n",
        "\n",
        "Worst performer"
      ],
      "metadata": {
        "id": "5B9i26p95cKI"
      }
    },
    {
      "cell_type": "code",
      "source": [
        "regex = RegexpStemmer('ing$|s$|e$|able$|lly$|ate$', min=3)\n",
        "\n",
        "for word in words:\n",
        "    print(word,\"--->\",regex.stem(word))"
      ],
      "metadata": {
        "id": "kGwXP_lk5P6c",
        "colab": {
          "base_uri": "https://localhost:8080/"
        },
        "outputId": "dd9a87e5-d45a-4d4e-e150-d66ed3db96f9"
      },
      "execution_count": 6,
      "outputs": [
        {
          "output_type": "stream",
          "name": "stdout",
          "text": [
            "friend ---> friend\n",
            "friendship ---> friendship\n",
            "friends ---> friend\n",
            "friendships ---> friendship\n",
            "generate ---> gener\n",
            "generates ---> generate\n",
            "generating ---> generat\n",
            "general ---> general\n",
            "generally ---> genera\n",
            "generic ---> generic\n",
            "generically ---> generica\n",
            "generous ---> generou\n",
            "generously ---> generously\n",
            "went ---> went\n",
            "ate ---> \n"
          ]
        }
      ]
    },
    {
      "cell_type": "markdown",
      "source": [
        "# Lemmantizing"
      ],
      "metadata": {
        "id": "CQvja1ZC9pf2"
      }
    },
    {
      "cell_type": "code",
      "source": [
        "wordnet = WordNetLemmatizer()\n",
        "lemm_word = ['The', 'striped', 'bats', 'are', 'hanging', 'on', 'their', 'feet', 'for', 'best']\n",
        "for word in lemm_word:\n",
        "    print(word,\"--->\",wordnet.lemmatize(word))"
      ],
      "metadata": {
        "id": "9gSWwpmz8ElG",
        "colab": {
          "base_uri": "https://localhost:8080/"
        },
        "outputId": "974d4573-c575-48ff-cdc2-75be37ad3467"
      },
      "execution_count": 7,
      "outputs": [
        {
          "output_type": "stream",
          "name": "stdout",
          "text": [
            "The ---> The\n",
            "striped ---> striped\n",
            "bats ---> bat\n",
            "are ---> are\n",
            "hanging ---> hanging\n",
            "on ---> on\n",
            "their ---> their\n",
            "feet ---> foot\n",
            "for ---> for\n",
            "best ---> best\n"
          ]
        }
      ]
    },
    {
      "cell_type": "code",
      "source": [
        "from gensim.utils import tokenize"
      ],
      "metadata": {
        "id": "2aGUc4uhGh-m"
      },
      "execution_count": 8,
      "outputs": []
    },
    {
      "cell_type": "code",
      "source": [
        "from nltk import  pos_tag\n",
        "text = '''President Paul Kagame has said that deliberate efforts are needed to forge private-public partnerships to bridge internet usage gaps. He was speaking during the inauguration of the Mobile World Congress 2022 which convened more than 2000 people representing 99 countries, on October 25.\n",
        "Global mobile operators, device manufacturers, technology providers, vendors, content owners, and policymakers are in Kigali to identify gaps and discuss effective measures needed to drive digital transformation in Africa. To address the usage gap –the number of people who can’t use mobile internet services while living in an area covered by broadband networks –Kagame said that neither the private nor the public sector has all that is required to cover the gap, hence, the need for partnerships. '''\n",
        "\n",
        "tokens = list(tokenize(text))\n",
        "tokens"
      ],
      "metadata": {
        "id": "k7AVlGqB93oQ",
        "colab": {
          "base_uri": "https://localhost:8080/"
        },
        "outputId": "d8aab2c1-f185-4b09-91d5-63c781cb12cb"
      },
      "execution_count": 9,
      "outputs": [
        {
          "output_type": "execute_result",
          "data": {
            "text/plain": [
              "['President',\n",
              " 'Paul',\n",
              " 'Kagame',\n",
              " 'has',\n",
              " 'said',\n",
              " 'that',\n",
              " 'deliberate',\n",
              " 'efforts',\n",
              " 'are',\n",
              " 'needed',\n",
              " 'to',\n",
              " 'forge',\n",
              " 'private',\n",
              " 'public',\n",
              " 'partnerships',\n",
              " 'to',\n",
              " 'bridge',\n",
              " 'internet',\n",
              " 'usage',\n",
              " 'gaps',\n",
              " 'He',\n",
              " 'was',\n",
              " 'speaking',\n",
              " 'during',\n",
              " 'the',\n",
              " 'inauguration',\n",
              " 'of',\n",
              " 'the',\n",
              " 'Mobile',\n",
              " 'World',\n",
              " 'Congress',\n",
              " 'which',\n",
              " 'convened',\n",
              " 'more',\n",
              " 'than',\n",
              " 'people',\n",
              " 'representing',\n",
              " 'countries',\n",
              " 'on',\n",
              " 'October',\n",
              " 'Global',\n",
              " 'mobile',\n",
              " 'operators',\n",
              " 'device',\n",
              " 'manufacturers',\n",
              " 'technology',\n",
              " 'providers',\n",
              " 'vendors',\n",
              " 'content',\n",
              " 'owners',\n",
              " 'and',\n",
              " 'policymakers',\n",
              " 'are',\n",
              " 'in',\n",
              " 'Kigali',\n",
              " 'to',\n",
              " 'identify',\n",
              " 'gaps',\n",
              " 'and',\n",
              " 'discuss',\n",
              " 'effective',\n",
              " 'measures',\n",
              " 'needed',\n",
              " 'to',\n",
              " 'drive',\n",
              " 'digital',\n",
              " 'transformation',\n",
              " 'in',\n",
              " 'Africa',\n",
              " 'To',\n",
              " 'address',\n",
              " 'the',\n",
              " 'usage',\n",
              " 'gap',\n",
              " 'the',\n",
              " 'number',\n",
              " 'of',\n",
              " 'people',\n",
              " 'who',\n",
              " 'can',\n",
              " 't',\n",
              " 'use',\n",
              " 'mobile',\n",
              " 'internet',\n",
              " 'services',\n",
              " 'while',\n",
              " 'living',\n",
              " 'in',\n",
              " 'an',\n",
              " 'area',\n",
              " 'covered',\n",
              " 'by',\n",
              " 'broadband',\n",
              " 'networks',\n",
              " 'Kagame',\n",
              " 'said',\n",
              " 'that',\n",
              " 'neither',\n",
              " 'the',\n",
              " 'private',\n",
              " 'nor',\n",
              " 'the',\n",
              " 'public',\n",
              " 'sector',\n",
              " 'has',\n",
              " 'all',\n",
              " 'that',\n",
              " 'is',\n",
              " 'required',\n",
              " 'to',\n",
              " 'cover',\n",
              " 'the',\n",
              " 'gap',\n",
              " 'hence',\n",
              " 'the',\n",
              " 'need',\n",
              " 'for',\n",
              " 'partnerships']"
            ]
          },
          "metadata": {},
          "execution_count": 9
        }
      ]
    },
    {
      "cell_type": "code",
      "source": [
        "pos_list = pos_tag(tokens)\n",
        "pos_list"
      ],
      "metadata": {
        "id": "Yl6KV33OF8zh",
        "colab": {
          "base_uri": "https://localhost:8080/"
        },
        "outputId": "424a1c94-c4dc-435f-efb4-fa400224604c"
      },
      "execution_count": 13,
      "outputs": [
        {
          "output_type": "execute_result",
          "data": {
            "text/plain": [
              "[('President', 'NNP'),\n",
              " ('Paul', 'NNP'),\n",
              " ('Kagame', 'NNP'),\n",
              " ('has', 'VBZ'),\n",
              " ('said', 'VBD'),\n",
              " ('that', 'IN'),\n",
              " ('deliberate', 'NN'),\n",
              " ('efforts', 'NNS'),\n",
              " ('are', 'VBP'),\n",
              " ('needed', 'VBN'),\n",
              " ('to', 'TO'),\n",
              " ('forge', 'VB'),\n",
              " ('private', 'JJ'),\n",
              " ('public', 'JJ'),\n",
              " ('partnerships', 'NNS'),\n",
              " ('to', 'TO'),\n",
              " ('bridge', 'VB'),\n",
              " ('internet', 'JJ'),\n",
              " ('usage', 'NN'),\n",
              " ('gaps', 'NNS'),\n",
              " ('He', 'PRP'),\n",
              " ('was', 'VBD'),\n",
              " ('speaking', 'VBG'),\n",
              " ('during', 'IN'),\n",
              " ('the', 'DT'),\n",
              " ('inauguration', 'NN'),\n",
              " ('of', 'IN'),\n",
              " ('the', 'DT'),\n",
              " ('Mobile', 'NNP'),\n",
              " ('World', 'NNP'),\n",
              " ('Congress', 'NNP'),\n",
              " ('which', 'WDT'),\n",
              " ('convened', 'VBD'),\n",
              " ('more', 'RBR'),\n",
              " ('than', 'IN'),\n",
              " ('people', 'NNS'),\n",
              " ('representing', 'VBG'),\n",
              " ('countries', 'NNS'),\n",
              " ('on', 'IN'),\n",
              " ('October', 'NNP'),\n",
              " ('Global', 'NNP'),\n",
              " ('mobile', 'NN'),\n",
              " ('operators', 'NNS'),\n",
              " ('device', 'VBP'),\n",
              " ('manufacturers', 'NNS'),\n",
              " ('technology', 'NN'),\n",
              " ('providers', 'NNS'),\n",
              " ('vendors', 'NNS'),\n",
              " ('content', 'NN'),\n",
              " ('owners', 'NNS'),\n",
              " ('and', 'CC'),\n",
              " ('policymakers', 'NNS'),\n",
              " ('are', 'VBP'),\n",
              " ('in', 'IN'),\n",
              " ('Kigali', 'NNP'),\n",
              " ('to', 'TO'),\n",
              " ('identify', 'VB'),\n",
              " ('gaps', 'NNS'),\n",
              " ('and', 'CC'),\n",
              " ('discuss', 'VB'),\n",
              " ('effective', 'JJ'),\n",
              " ('measures', 'NNS'),\n",
              " ('needed', 'VBN'),\n",
              " ('to', 'TO'),\n",
              " ('drive', 'VB'),\n",
              " ('digital', 'JJ'),\n",
              " ('transformation', 'NN'),\n",
              " ('in', 'IN'),\n",
              " ('Africa', 'NNP'),\n",
              " ('To', 'TO'),\n",
              " ('address', 'VB'),\n",
              " ('the', 'DT'),\n",
              " ('usage', 'NN'),\n",
              " ('gap', 'VBD'),\n",
              " ('the', 'DT'),\n",
              " ('number', 'NN'),\n",
              " ('of', 'IN'),\n",
              " ('people', 'NNS'),\n",
              " ('who', 'WP'),\n",
              " ('can', 'MD'),\n",
              " ('t', 'VB'),\n",
              " ('use', 'NN'),\n",
              " ('mobile', 'JJ'),\n",
              " ('internet', 'NN'),\n",
              " ('services', 'NNS'),\n",
              " ('while', 'IN'),\n",
              " ('living', 'VBG'),\n",
              " ('in', 'IN'),\n",
              " ('an', 'DT'),\n",
              " ('area', 'NN'),\n",
              " ('covered', 'VBN'),\n",
              " ('by', 'IN'),\n",
              " ('broadband', 'NN'),\n",
              " ('networks', 'NNS'),\n",
              " ('Kagame', 'NNP'),\n",
              " ('said', 'VBD'),\n",
              " ('that', 'IN'),\n",
              " ('neither', 'CC'),\n",
              " ('the', 'DT'),\n",
              " ('private', 'JJ'),\n",
              " ('nor', 'CC'),\n",
              " ('the', 'DT'),\n",
              " ('public', 'NN'),\n",
              " ('sector', 'NN'),\n",
              " ('has', 'VBZ'),\n",
              " ('all', 'DT'),\n",
              " ('that', 'WDT'),\n",
              " ('is', 'VBZ'),\n",
              " ('required', 'VBN'),\n",
              " ('to', 'TO'),\n",
              " ('cover', 'VB'),\n",
              " ('the', 'DT'),\n",
              " ('gap', 'NN'),\n",
              " ('hence', 'NN'),\n",
              " ('the', 'DT'),\n",
              " ('need', 'NN'),\n",
              " ('for', 'IN'),\n",
              " ('partnerships', 'NNS')]"
            ]
          },
          "metadata": {},
          "execution_count": 13
        }
      ]
    },
    {
      "cell_type": "code",
      "source": [
        "matched_tags = {'NNP':'n',\"VBP\":'v'}\n",
        "processed_tag = []\n",
        "for token, tag in pos_list:\n",
        "  token = wordnet.lemmatize(token,matched_tags[tag])\n",
        "  processed_tag.append(token)\n",
        "  #print(token,'-------------',tag)"
      ],
      "metadata": {
        "id": "xj3N2oK7aFZj",
        "colab": {
          "base_uri": "https://localhost:8080/",
          "height": 235
        },
        "outputId": "108a8df1-d336-46e3-d853-61f3cae03686"
      },
      "execution_count": 16,
      "outputs": [
        {
          "output_type": "error",
          "ename": "KeyError",
          "evalue": "ignored",
          "traceback": [
            "\u001b[0;31m---------------------------------------------------------------------------\u001b[0m",
            "\u001b[0;31mKeyError\u001b[0m                                  Traceback (most recent call last)",
            "\u001b[0;32m<ipython-input-16-f386b1c392c7>\u001b[0m in \u001b[0;36m<module>\u001b[0;34m\u001b[0m\n\u001b[1;32m      2\u001b[0m \u001b[0mprocessed_tag\u001b[0m \u001b[0;34m=\u001b[0m \u001b[0;34m[\u001b[0m\u001b[0;34m]\u001b[0m\u001b[0;34m\u001b[0m\u001b[0;34m\u001b[0m\u001b[0m\n\u001b[1;32m      3\u001b[0m \u001b[0;32mfor\u001b[0m \u001b[0mtoken\u001b[0m\u001b[0;34m,\u001b[0m \u001b[0mtag\u001b[0m \u001b[0;32min\u001b[0m \u001b[0mpos_list\u001b[0m\u001b[0;34m:\u001b[0m\u001b[0;34m\u001b[0m\u001b[0;34m\u001b[0m\u001b[0m\n\u001b[0;32m----> 4\u001b[0;31m   \u001b[0mtoken\u001b[0m \u001b[0;34m=\u001b[0m \u001b[0mwordnet\u001b[0m\u001b[0;34m.\u001b[0m\u001b[0mlemmatize\u001b[0m\u001b[0;34m(\u001b[0m\u001b[0mtoken\u001b[0m\u001b[0;34m,\u001b[0m\u001b[0mmatched_tags\u001b[0m\u001b[0;34m[\u001b[0m\u001b[0mtag\u001b[0m\u001b[0;34m]\u001b[0m\u001b[0;34m)\u001b[0m\u001b[0;34m\u001b[0m\u001b[0;34m\u001b[0m\u001b[0m\n\u001b[0m\u001b[1;32m      5\u001b[0m   \u001b[0mprocessed_tag\u001b[0m\u001b[0;34m.\u001b[0m\u001b[0mappend\u001b[0m\u001b[0;34m(\u001b[0m\u001b[0mtoken\u001b[0m\u001b[0;34m)\u001b[0m\u001b[0;34m\u001b[0m\u001b[0;34m\u001b[0m\u001b[0m\n\u001b[1;32m      6\u001b[0m   \u001b[0;31m#print(token,'-------------',tag)\u001b[0m\u001b[0;34m\u001b[0m\u001b[0;34m\u001b[0m\u001b[0;34m\u001b[0m\u001b[0m\n",
            "\u001b[0;31mKeyError\u001b[0m: 'VBZ'"
          ]
        }
      ]
    },
    {
      "cell_type": "code",
      "source": [
        "#print(wordnet.lemmatize('countries'))\n",
        "#pos_tag(['best'])\n",
        "print(wordnet.lemmatize('better','a'))"
      ],
      "metadata": {
        "id": "4eVyoDAUG3vO",
        "colab": {
          "base_uri": "https://localhost:8080/"
        },
        "outputId": "eabf6fd6-0192-4979-8f9d-c0aced81a82c"
      },
      "execution_count": 17,
      "outputs": [
        {
          "output_type": "stream",
          "name": "stdout",
          "text": [
            "good\n"
          ]
        }
      ]
    },
    {
      "cell_type": "markdown",
      "source": [
        "# Stopwords\n",
        "Common simple words that add little value\n",
        "\n",
        "The goal is to reduce the size of the matrix as much as possible, therefore removing common words that do not add value makes sense. An example is I, a, an\n"
      ],
      "metadata": {
        "id": "O5hRNTOBIPMf"
      }
    },
    {
      "cell_type": "code",
      "source": [
        "from nltk.corpus import stopwords\n",
        "sw = stopwords.words('english')\n",
        "print(sw)"
      ],
      "metadata": {
        "id": "pXgd4po-HVpi",
        "colab": {
          "base_uri": "https://localhost:8080/"
        },
        "outputId": "7c412c5c-f514-42c8-ab15-be3003f38d0d"
      },
      "execution_count": 18,
      "outputs": [
        {
          "output_type": "stream",
          "name": "stdout",
          "text": [
            "['i', 'me', 'my', 'myself', 'we', 'our', 'ours', 'ourselves', 'you', \"you're\", \"you've\", \"you'll\", \"you'd\", 'your', 'yours', 'yourself', 'yourselves', 'he', 'him', 'his', 'himself', 'she', \"she's\", 'her', 'hers', 'herself', 'it', \"it's\", 'its', 'itself', 'they', 'them', 'their', 'theirs', 'themselves', 'what', 'which', 'who', 'whom', 'this', 'that', \"that'll\", 'these', 'those', 'am', 'is', 'are', 'was', 'were', 'be', 'been', 'being', 'have', 'has', 'had', 'having', 'do', 'does', 'did', 'doing', 'a', 'an', 'the', 'and', 'but', 'if', 'or', 'because', 'as', 'until', 'while', 'of', 'at', 'by', 'for', 'with', 'about', 'against', 'between', 'into', 'through', 'during', 'before', 'after', 'above', 'below', 'to', 'from', 'up', 'down', 'in', 'out', 'on', 'off', 'over', 'under', 'again', 'further', 'then', 'once', 'here', 'there', 'when', 'where', 'why', 'how', 'all', 'any', 'both', 'each', 'few', 'more', 'most', 'other', 'some', 'such', 'no', 'nor', 'not', 'only', 'own', 'same', 'so', 'than', 'too', 'very', 's', 't', 'can', 'will', 'just', 'don', \"don't\", 'should', \"should've\", 'now', 'd', 'll', 'm', 'o', 're', 've', 'y', 'ain', 'aren', \"aren't\", 'couldn', \"couldn't\", 'didn', \"didn't\", 'doesn', \"doesn't\", 'hadn', \"hadn't\", 'hasn', \"hasn't\", 'haven', \"haven't\", 'isn', \"isn't\", 'ma', 'mightn', \"mightn't\", 'mustn', \"mustn't\", 'needn', \"needn't\", 'shan', \"shan't\", 'shouldn', \"shouldn't\", 'wasn', \"wasn't\", 'weren', \"weren't\", 'won', \"won't\", 'wouldn', \"wouldn't\"]\n"
          ]
        }
      ]
    },
    {
      "cell_type": "code",
      "source": [
        "len(tokens)\n",
        "\n",
        "tokens_no_sw = []\n",
        "for token in tokens:\n",
        "  if token not in sw:\n",
        "    tokens_no_sw.append(token)\n",
        "\n",
        "print(len(tokens_no_sw))"
      ],
      "metadata": {
        "id": "9W8cv2tuRrqQ",
        "colab": {
          "base_uri": "https://localhost:8080/"
        },
        "outputId": "4019912d-505f-40dd-ec27-8c9bf3175e03"
      },
      "execution_count": 19,
      "outputs": [
        {
          "output_type": "stream",
          "name": "stdout",
          "text": [
            "75\n"
          ]
        }
      ]
    },
    {
      "cell_type": "markdown",
      "source": [
        "# In-class practicls\n",
        "1. How many stop words are in NLTK, Spacy,Gensim. Compare them an select one\n",
        "2. Lemmantize the above text using a for loop\n",
        "3. Compare the Stemmers, get the best and compare in with Lemmantizer. \n",
        "4. Remove stop words from the text "
      ],
      "metadata": {
        "id": "s8DBaIAAJt1C"
      }
    },
    {
      "cell_type": "markdown",
      "source": [
        "# Assignment\n",
        "Create a function that takes the tokens, normalize the tokens and remove the stop words  "
      ],
      "metadata": {
        "id": "7B9p52D9KV_I"
      }
    },
    {
      "cell_type": "code",
      "source": [
        "\n",
        "def stemming_lem_sw (tokens):\n",
        "  new_tokens = []\n",
        "  for token in tokens:\n",
        "    token = snowball.stem(token)\n",
        "    if token not in sw:\n",
        "      new_tokens.append(token)\n",
        "\n",
        "  return new_tokens\n",
        "\n"
      ],
      "metadata": {
        "id": "zTd5zyg0I8wQ"
      },
      "execution_count": null,
      "outputs": []
    }
  ]
}