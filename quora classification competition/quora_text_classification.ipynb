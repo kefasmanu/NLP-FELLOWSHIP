{
  "cells": [
    {
      "cell_type": "markdown",
      "metadata": {
        "id": "view-in-github",
        "colab_type": "text"
      },
      "source": [
        "<a href=\"https://colab.research.google.com/github/kefasmanu/NLP-FELLOWSHIP/blob/main/quora%20classification%20competition/quora_text_classification.ipynb\" target=\"_parent\"><img src=\"https://colab.research.google.com/assets/colab-badge.svg\" alt=\"Open In Colab\"/></a>"
      ]
    },
    {
      "cell_type": "markdown",
      "metadata": {
        "id": "IVQfLMkA_-ss"
      },
      "source": [
        "# quora-text-classification\n",
        "\n",
        "Outline:\n",
        " * Dowload and explore the data\n",
        " *Apply text preprocessing techiques\n",
        " * Implement the bag of words model\n",
        " *Train ML models for text classification\n",
        " * Make predictions and submit to kaggle "
      ]
    },
    {
      "cell_type": "markdown",
      "source": [
        "## Download and Explore the Data\n",
        "\n",
        "1. Download the Data to Colab\n",
        "2. Explore the data Using Pandas\n",
        "3. Create a small working sample"
      ],
      "metadata": {
        "id": "h3QsBMsUBcOU"
      }
    },
    {
      "cell_type": "code",
      "source": [
        "!ls"
      ],
      "metadata": {
        "colab": {
          "base_uri": "https://localhost:8080/"
        },
        "id": "eaLIz-87EAq1",
        "outputId": "6d3e4b56-2824-4d73-b453-a334e800b71b"
      },
      "execution_count": 2,
      "outputs": [
        {
          "output_type": "stream",
          "name": "stdout",
          "text": [
            "kaggle.json  sample_data\n"
          ]
        }
      ]
    },
    {
      "cell_type": "code",
      "source": [
        "import os"
      ],
      "metadata": {
        "id": "rcSuzB7qFbk8"
      },
      "execution_count": 3,
      "outputs": []
    },
    {
      "cell_type": "code",
      "source": [
        "os.environ['KAGGLE_CONFIG_DIR']='.'"
      ],
      "metadata": {
        "id": "nWQvqdk3Fe0I"
      },
      "execution_count": 4,
      "outputs": []
    },
    {
      "cell_type": "code",
      "source": [
        "#!chmod 600 ./kaggle.json"
      ],
      "metadata": {
        "id": "9w1A9CRefZva"
      },
      "execution_count": 5,
      "outputs": []
    },
    {
      "cell_type": "markdown",
      "source": [],
      "metadata": {
        "id": "U7gOeh6Se_S0"
      }
    },
    {
      "cell_type": "code",
      "source": [
        "!kaggle competitions download -c quora-insincere-questions-classification -f train.csv -p data"
      ],
      "metadata": {
        "colab": {
          "base_uri": "https://localhost:8080/"
        },
        "id": "7n8YsQvmB_Eo",
        "outputId": "db508bca-fb22-418f-951b-51f5772e2ad8"
      },
      "execution_count": 6,
      "outputs": [
        {
          "output_type": "stream",
          "name": "stdout",
          "text": [
            "Warning: Your Kaggle API key is readable by other users on this system! To fix this, you can run 'chmod 600 ./kaggle.json'\n",
            "Downloading train.csv.zip to data\n",
            " 82% 45.0M/54.9M [00:01<00:00, 44.3MB/s]\n",
            "100% 54.9M/54.9M [00:01<00:00, 41.3MB/s]\n"
          ]
        }
      ]
    },
    {
      "cell_type": "code",
      "source": [
        "!kaggle competitions download -c quora-insincere-questions-classification -f test.csv -p data\n",
        "#!kaggle competitions download -c quora-insincere-questions-classification -f sample.csv -p data"
      ],
      "metadata": {
        "colab": {
          "base_uri": "https://localhost:8080/"
        },
        "id": "i2ycBnUiGZqv",
        "outputId": "7a21a76c-cf24-44e0-b84c-1a0f542702f8"
      },
      "execution_count": 7,
      "outputs": [
        {
          "output_type": "stream",
          "name": "stdout",
          "text": [
            "Warning: Your Kaggle API key is readable by other users on this system! To fix this, you can run 'chmod 600 ./kaggle.json'\n",
            "Downloading test.csv.zip to data\n",
            " 63% 10.0M/15.8M [00:00<00:00, 34.6MB/s]\n",
            "100% 15.8M/15.8M [00:00<00:00, 52.8MB/s]\n"
          ]
        }
      ]
    },
    {
      "cell_type": "code",
      "source": [],
      "metadata": {
        "id": "NVS8o1BaB_HS"
      },
      "execution_count": 7,
      "outputs": []
    },
    {
      "cell_type": "markdown",
      "source": [
        "Explore the Data Using Pandas"
      ],
      "metadata": {
        "id": "Q3G172ofGp3Y"
      }
    },
    {
      "cell_type": "code",
      "source": [
        "train_frame = 'data/train.csv.zip'\n",
        "test_frame = 'data/test.csv.zip'\n",
        "sample_frame = 'data/sample_submission.csv.zip'"
      ],
      "metadata": {
        "id": "F6rSZlLaB_LB"
      },
      "execution_count": 8,
      "outputs": []
    },
    {
      "cell_type": "code",
      "source": [
        "import pandas as pd"
      ],
      "metadata": {
        "id": "2QDCipWiHJBx"
      },
      "execution_count": 9,
      "outputs": []
    },
    {
      "cell_type": "code",
      "source": [
        "raw_df = pd.read_csv(train_frame)\n",
        "raw_df"
      ],
      "metadata": {
        "colab": {
          "base_uri": "https://localhost:8080/",
          "height": 520
        },
        "id": "5bSjpFV1HOWe",
        "outputId": "5fcb748b-522d-4419-bbe5-4a5222e94de9"
      },
      "execution_count": 10,
      "outputs": [
        {
          "output_type": "execute_result",
          "data": {
            "text/plain": [
              "                          qid  \\\n",
              "0        00002165364db923c7e6   \n",
              "1        000032939017120e6e44   \n",
              "2        0000412ca6e4628ce2cf   \n",
              "3        000042bf85aa498cd78e   \n",
              "4        0000455dfa3e01eae3af   \n",
              "...                       ...   \n",
              "1306117  ffffcc4e2331aaf1e41e   \n",
              "1306118  ffffd431801e5a2f4861   \n",
              "1306119  ffffd48fb36b63db010c   \n",
              "1306120  ffffec519fa37cf60c78   \n",
              "1306121  ffffed09fedb5088744a   \n",
              "\n",
              "                                             question_text  target  \n",
              "0        How did Quebec nationalists see their province...       0  \n",
              "1        Do you have an adopted dog, how would you enco...       0  \n",
              "2        Why does velocity affect time? Does velocity a...       0  \n",
              "3        How did Otto von Guericke used the Magdeburg h...       0  \n",
              "4        Can I convert montra helicon D to a mountain b...       0  \n",
              "...                                                    ...     ...  \n",
              "1306117  What other technical skills do you need as a c...       0  \n",
              "1306118  Does MS in ECE have good job prospects in USA ...       0  \n",
              "1306119                          Is foam insulation toxic?       0  \n",
              "1306120  How can one start a research project based on ...       0  \n",
              "1306121  Who wins in a battle between a Wolverine and a...       0  \n",
              "\n",
              "[1306122 rows x 3 columns]"
            ],
            "text/html": [
              "\n",
              "  <div id=\"df-e301b90a-e0d8-4fb3-9d44-bcaabe93968b\">\n",
              "    <div class=\"colab-df-container\">\n",
              "      <div>\n",
              "<style scoped>\n",
              "    .dataframe tbody tr th:only-of-type {\n",
              "        vertical-align: middle;\n",
              "    }\n",
              "\n",
              "    .dataframe tbody tr th {\n",
              "        vertical-align: top;\n",
              "    }\n",
              "\n",
              "    .dataframe thead th {\n",
              "        text-align: right;\n",
              "    }\n",
              "</style>\n",
              "<table border=\"1\" class=\"dataframe\">\n",
              "  <thead>\n",
              "    <tr style=\"text-align: right;\">\n",
              "      <th></th>\n",
              "      <th>qid</th>\n",
              "      <th>question_text</th>\n",
              "      <th>target</th>\n",
              "    </tr>\n",
              "  </thead>\n",
              "  <tbody>\n",
              "    <tr>\n",
              "      <th>0</th>\n",
              "      <td>00002165364db923c7e6</td>\n",
              "      <td>How did Quebec nationalists see their province...</td>\n",
              "      <td>0</td>\n",
              "    </tr>\n",
              "    <tr>\n",
              "      <th>1</th>\n",
              "      <td>000032939017120e6e44</td>\n",
              "      <td>Do you have an adopted dog, how would you enco...</td>\n",
              "      <td>0</td>\n",
              "    </tr>\n",
              "    <tr>\n",
              "      <th>2</th>\n",
              "      <td>0000412ca6e4628ce2cf</td>\n",
              "      <td>Why does velocity affect time? Does velocity a...</td>\n",
              "      <td>0</td>\n",
              "    </tr>\n",
              "    <tr>\n",
              "      <th>3</th>\n",
              "      <td>000042bf85aa498cd78e</td>\n",
              "      <td>How did Otto von Guericke used the Magdeburg h...</td>\n",
              "      <td>0</td>\n",
              "    </tr>\n",
              "    <tr>\n",
              "      <th>4</th>\n",
              "      <td>0000455dfa3e01eae3af</td>\n",
              "      <td>Can I convert montra helicon D to a mountain b...</td>\n",
              "      <td>0</td>\n",
              "    </tr>\n",
              "    <tr>\n",
              "      <th>...</th>\n",
              "      <td>...</td>\n",
              "      <td>...</td>\n",
              "      <td>...</td>\n",
              "    </tr>\n",
              "    <tr>\n",
              "      <th>1306117</th>\n",
              "      <td>ffffcc4e2331aaf1e41e</td>\n",
              "      <td>What other technical skills do you need as a c...</td>\n",
              "      <td>0</td>\n",
              "    </tr>\n",
              "    <tr>\n",
              "      <th>1306118</th>\n",
              "      <td>ffffd431801e5a2f4861</td>\n",
              "      <td>Does MS in ECE have good job prospects in USA ...</td>\n",
              "      <td>0</td>\n",
              "    </tr>\n",
              "    <tr>\n",
              "      <th>1306119</th>\n",
              "      <td>ffffd48fb36b63db010c</td>\n",
              "      <td>Is foam insulation toxic?</td>\n",
              "      <td>0</td>\n",
              "    </tr>\n",
              "    <tr>\n",
              "      <th>1306120</th>\n",
              "      <td>ffffec519fa37cf60c78</td>\n",
              "      <td>How can one start a research project based on ...</td>\n",
              "      <td>0</td>\n",
              "    </tr>\n",
              "    <tr>\n",
              "      <th>1306121</th>\n",
              "      <td>ffffed09fedb5088744a</td>\n",
              "      <td>Who wins in a battle between a Wolverine and a...</td>\n",
              "      <td>0</td>\n",
              "    </tr>\n",
              "  </tbody>\n",
              "</table>\n",
              "<p>1306122 rows × 3 columns</p>\n",
              "</div>\n",
              "      <button class=\"colab-df-convert\" onclick=\"convertToInteractive('df-e301b90a-e0d8-4fb3-9d44-bcaabe93968b')\"\n",
              "              title=\"Convert this dataframe to an interactive table.\"\n",
              "              style=\"display:none;\">\n",
              "        \n",
              "  <svg xmlns=\"http://www.w3.org/2000/svg\" height=\"24px\"viewBox=\"0 0 24 24\"\n",
              "       width=\"24px\">\n",
              "    <path d=\"M0 0h24v24H0V0z\" fill=\"none\"/>\n",
              "    <path d=\"M18.56 5.44l.94 2.06.94-2.06 2.06-.94-2.06-.94-.94-2.06-.94 2.06-2.06.94zm-11 1L8.5 8.5l.94-2.06 2.06-.94-2.06-.94L8.5 2.5l-.94 2.06-2.06.94zm10 10l.94 2.06.94-2.06 2.06-.94-2.06-.94-.94-2.06-.94 2.06-2.06.94z\"/><path d=\"M17.41 7.96l-1.37-1.37c-.4-.4-.92-.59-1.43-.59-.52 0-1.04.2-1.43.59L10.3 9.45l-7.72 7.72c-.78.78-.78 2.05 0 2.83L4 21.41c.39.39.9.59 1.41.59.51 0 1.02-.2 1.41-.59l7.78-7.78 2.81-2.81c.8-.78.8-2.07 0-2.86zM5.41 20L4 18.59l7.72-7.72 1.47 1.35L5.41 20z\"/>\n",
              "  </svg>\n",
              "      </button>\n",
              "      \n",
              "  <style>\n",
              "    .colab-df-container {\n",
              "      display:flex;\n",
              "      flex-wrap:wrap;\n",
              "      gap: 12px;\n",
              "    }\n",
              "\n",
              "    .colab-df-convert {\n",
              "      background-color: #E8F0FE;\n",
              "      border: none;\n",
              "      border-radius: 50%;\n",
              "      cursor: pointer;\n",
              "      display: none;\n",
              "      fill: #1967D2;\n",
              "      height: 32px;\n",
              "      padding: 0 0 0 0;\n",
              "      width: 32px;\n",
              "    }\n",
              "\n",
              "    .colab-df-convert:hover {\n",
              "      background-color: #E2EBFA;\n",
              "      box-shadow: 0px 1px 2px rgba(60, 64, 67, 0.3), 0px 1px 3px 1px rgba(60, 64, 67, 0.15);\n",
              "      fill: #174EA6;\n",
              "    }\n",
              "\n",
              "    [theme=dark] .colab-df-convert {\n",
              "      background-color: #3B4455;\n",
              "      fill: #D2E3FC;\n",
              "    }\n",
              "\n",
              "    [theme=dark] .colab-df-convert:hover {\n",
              "      background-color: #434B5C;\n",
              "      box-shadow: 0px 1px 3px 1px rgba(0, 0, 0, 0.15);\n",
              "      filter: drop-shadow(0px 1px 2px rgba(0, 0, 0, 0.3));\n",
              "      fill: #FFFFFF;\n",
              "    }\n",
              "  </style>\n",
              "\n",
              "      <script>\n",
              "        const buttonEl =\n",
              "          document.querySelector('#df-e301b90a-e0d8-4fb3-9d44-bcaabe93968b button.colab-df-convert');\n",
              "        buttonEl.style.display =\n",
              "          google.colab.kernel.accessAllowed ? 'block' : 'none';\n",
              "\n",
              "        async function convertToInteractive(key) {\n",
              "          const element = document.querySelector('#df-e301b90a-e0d8-4fb3-9d44-bcaabe93968b');\n",
              "          const dataTable =\n",
              "            await google.colab.kernel.invokeFunction('convertToInteractive',\n",
              "                                                     [key], {});\n",
              "          if (!dataTable) return;\n",
              "\n",
              "          const docLinkHtml = 'Like what you see? Visit the ' +\n",
              "            '<a target=\"_blank\" href=https://colab.research.google.com/notebooks/data_table.ipynb>data table notebook</a>'\n",
              "            + ' to learn more about interactive tables.';\n",
              "          element.innerHTML = '';\n",
              "          dataTable['output_type'] = 'display_data';\n",
              "          await google.colab.output.renderOutput(dataTable, element);\n",
              "          const docLink = document.createElement('div');\n",
              "          docLink.innerHTML = docLinkHtml;\n",
              "          element.appendChild(docLink);\n",
              "        }\n",
              "      </script>\n",
              "    </div>\n",
              "  </div>\n",
              "  "
            ]
          },
          "metadata": {},
          "execution_count": 10
        }
      ]
    },
    {
      "cell_type": "code",
      "source": [
        "#creating frame for sincere questions\n",
        "sincere_df = raw_df[raw_df.target==0]"
      ],
      "metadata": {
        "id": "k4b7YI5-HlwE"
      },
      "execution_count": 11,
      "outputs": []
    },
    {
      "cell_type": "code",
      "source": [
        "sincere_df.question_text.values[:10]"
      ],
      "metadata": {
        "colab": {
          "base_uri": "https://localhost:8080/"
        },
        "id": "vHMX4J_sICIc",
        "outputId": "8cf10815-0069-4bc8-b671-18c432f7f500"
      },
      "execution_count": 12,
      "outputs": [
        {
          "output_type": "execute_result",
          "data": {
            "text/plain": [
              "array(['How did Quebec nationalists see their province as a nation in the 1960s?',\n",
              "       'Do you have an adopted dog, how would you encourage people to adopt and not shop?',\n",
              "       'Why does velocity affect time? Does velocity affect space geometry?',\n",
              "       'How did Otto von Guericke used the Magdeburg hemispheres?',\n",
              "       'Can I convert montra helicon D to a mountain bike by just changing the tyres?',\n",
              "       'Is Gaza slowly becoming Auschwitz, Dachau or Treblinka for Palestinians?',\n",
              "       'Why does Quora automatically ban conservative opinions when reported, but does not do the same for liberal views?',\n",
              "       'Is it crazy if I wash or wipe my groceries off? Germs are everywhere.',\n",
              "       'Is there such a thing as dressing moderately, and if so, how is that different than dressing modestly?',\n",
              "       'Is it just me or have you ever been in this phase wherein you became ignorant to the people you once loved, completely disregarding their feelings/lives so you get to have something go your way and feel temporarily at ease. How did things change?'],\n",
              "      dtype=object)"
            ]
          },
          "metadata": {},
          "execution_count": 12
        }
      ]
    },
    {
      "cell_type": "code",
      "source": [
        "#Creating Df for the insincere questions\n",
        "insincere_df = raw_df[raw_df.target==1]\n",
        "insincere_df"
      ],
      "metadata": {
        "colab": {
          "base_uri": "https://localhost:8080/",
          "height": 468
        },
        "id": "OXD-L0bzIUbQ",
        "outputId": "76022e8f-2027-4feb-f148-9cc558b36016"
      },
      "execution_count": 13,
      "outputs": [
        {
          "output_type": "execute_result",
          "data": {
            "text/plain": [
              "                          qid  \\\n",
              "22       0000e91571b60c2fb487   \n",
              "30       00013ceca3f624b09f42   \n",
              "110      0004a7fcb2bf73076489   \n",
              "114      00052793eaa287aff1e1   \n",
              "115      000537213b01fd77b58a   \n",
              "...                       ...   \n",
              "1306093  fffeba722d9b371bd1b9   \n",
              "1306094  fffee269360dd0d3947a   \n",
              "1306099  ffff0e4ea1bb6e16feec   \n",
              "1306103  ffff3f0a2449ffe4b9ff   \n",
              "1306112  ffffa5b0fa76431c063f   \n",
              "\n",
              "                                             question_text  target  \n",
              "22       Has the United States become the largest dicta...       1  \n",
              "30       Which babies are more sweeter to their parents...       1  \n",
              "110      If blacks support school choice and mandatory ...       1  \n",
              "114      I am gay boy and I love my cousin (boy). He is...       1  \n",
              "115                   Which races have the smallest penis?       1  \n",
              "...                                                    ...     ...  \n",
              "1306093  How is it to have intimate relation with your ...       1  \n",
              "1306094  Why is it when singers have lyrics about voice...       1  \n",
              "1306099                  Do pakis smell of curry and shit?       1  \n",
              "1306103  Isn't Trump right after all? Why should the US...       1  \n",
              "1306112                Are you ashamed of being an Indian?       1  \n",
              "\n",
              "[80810 rows x 3 columns]"
            ],
            "text/html": [
              "\n",
              "  <div id=\"df-cc5025c5-5100-4566-a16c-5b5b54c51fda\">\n",
              "    <div class=\"colab-df-container\">\n",
              "      <div>\n",
              "<style scoped>\n",
              "    .dataframe tbody tr th:only-of-type {\n",
              "        vertical-align: middle;\n",
              "    }\n",
              "\n",
              "    .dataframe tbody tr th {\n",
              "        vertical-align: top;\n",
              "    }\n",
              "\n",
              "    .dataframe thead th {\n",
              "        text-align: right;\n",
              "    }\n",
              "</style>\n",
              "<table border=\"1\" class=\"dataframe\">\n",
              "  <thead>\n",
              "    <tr style=\"text-align: right;\">\n",
              "      <th></th>\n",
              "      <th>qid</th>\n",
              "      <th>question_text</th>\n",
              "      <th>target</th>\n",
              "    </tr>\n",
              "  </thead>\n",
              "  <tbody>\n",
              "    <tr>\n",
              "      <th>22</th>\n",
              "      <td>0000e91571b60c2fb487</td>\n",
              "      <td>Has the United States become the largest dicta...</td>\n",
              "      <td>1</td>\n",
              "    </tr>\n",
              "    <tr>\n",
              "      <th>30</th>\n",
              "      <td>00013ceca3f624b09f42</td>\n",
              "      <td>Which babies are more sweeter to their parents...</td>\n",
              "      <td>1</td>\n",
              "    </tr>\n",
              "    <tr>\n",
              "      <th>110</th>\n",
              "      <td>0004a7fcb2bf73076489</td>\n",
              "      <td>If blacks support school choice and mandatory ...</td>\n",
              "      <td>1</td>\n",
              "    </tr>\n",
              "    <tr>\n",
              "      <th>114</th>\n",
              "      <td>00052793eaa287aff1e1</td>\n",
              "      <td>I am gay boy and I love my cousin (boy). He is...</td>\n",
              "      <td>1</td>\n",
              "    </tr>\n",
              "    <tr>\n",
              "      <th>115</th>\n",
              "      <td>000537213b01fd77b58a</td>\n",
              "      <td>Which races have the smallest penis?</td>\n",
              "      <td>1</td>\n",
              "    </tr>\n",
              "    <tr>\n",
              "      <th>...</th>\n",
              "      <td>...</td>\n",
              "      <td>...</td>\n",
              "      <td>...</td>\n",
              "    </tr>\n",
              "    <tr>\n",
              "      <th>1306093</th>\n",
              "      <td>fffeba722d9b371bd1b9</td>\n",
              "      <td>How is it to have intimate relation with your ...</td>\n",
              "      <td>1</td>\n",
              "    </tr>\n",
              "    <tr>\n",
              "      <th>1306094</th>\n",
              "      <td>fffee269360dd0d3947a</td>\n",
              "      <td>Why is it when singers have lyrics about voice...</td>\n",
              "      <td>1</td>\n",
              "    </tr>\n",
              "    <tr>\n",
              "      <th>1306099</th>\n",
              "      <td>ffff0e4ea1bb6e16feec</td>\n",
              "      <td>Do pakis smell of curry and shit?</td>\n",
              "      <td>1</td>\n",
              "    </tr>\n",
              "    <tr>\n",
              "      <th>1306103</th>\n",
              "      <td>ffff3f0a2449ffe4b9ff</td>\n",
              "      <td>Isn't Trump right after all? Why should the US...</td>\n",
              "      <td>1</td>\n",
              "    </tr>\n",
              "    <tr>\n",
              "      <th>1306112</th>\n",
              "      <td>ffffa5b0fa76431c063f</td>\n",
              "      <td>Are you ashamed of being an Indian?</td>\n",
              "      <td>1</td>\n",
              "    </tr>\n",
              "  </tbody>\n",
              "</table>\n",
              "<p>80810 rows × 3 columns</p>\n",
              "</div>\n",
              "      <button class=\"colab-df-convert\" onclick=\"convertToInteractive('df-cc5025c5-5100-4566-a16c-5b5b54c51fda')\"\n",
              "              title=\"Convert this dataframe to an interactive table.\"\n",
              "              style=\"display:none;\">\n",
              "        \n",
              "  <svg xmlns=\"http://www.w3.org/2000/svg\" height=\"24px\"viewBox=\"0 0 24 24\"\n",
              "       width=\"24px\">\n",
              "    <path d=\"M0 0h24v24H0V0z\" fill=\"none\"/>\n",
              "    <path d=\"M18.56 5.44l.94 2.06.94-2.06 2.06-.94-2.06-.94-.94-2.06-.94 2.06-2.06.94zm-11 1L8.5 8.5l.94-2.06 2.06-.94-2.06-.94L8.5 2.5l-.94 2.06-2.06.94zm10 10l.94 2.06.94-2.06 2.06-.94-2.06-.94-.94-2.06-.94 2.06-2.06.94z\"/><path d=\"M17.41 7.96l-1.37-1.37c-.4-.4-.92-.59-1.43-.59-.52 0-1.04.2-1.43.59L10.3 9.45l-7.72 7.72c-.78.78-.78 2.05 0 2.83L4 21.41c.39.39.9.59 1.41.59.51 0 1.02-.2 1.41-.59l7.78-7.78 2.81-2.81c.8-.78.8-2.07 0-2.86zM5.41 20L4 18.59l7.72-7.72 1.47 1.35L5.41 20z\"/>\n",
              "  </svg>\n",
              "      </button>\n",
              "      \n",
              "  <style>\n",
              "    .colab-df-container {\n",
              "      display:flex;\n",
              "      flex-wrap:wrap;\n",
              "      gap: 12px;\n",
              "    }\n",
              "\n",
              "    .colab-df-convert {\n",
              "      background-color: #E8F0FE;\n",
              "      border: none;\n",
              "      border-radius: 50%;\n",
              "      cursor: pointer;\n",
              "      display: none;\n",
              "      fill: #1967D2;\n",
              "      height: 32px;\n",
              "      padding: 0 0 0 0;\n",
              "      width: 32px;\n",
              "    }\n",
              "\n",
              "    .colab-df-convert:hover {\n",
              "      background-color: #E2EBFA;\n",
              "      box-shadow: 0px 1px 2px rgba(60, 64, 67, 0.3), 0px 1px 3px 1px rgba(60, 64, 67, 0.15);\n",
              "      fill: #174EA6;\n",
              "    }\n",
              "\n",
              "    [theme=dark] .colab-df-convert {\n",
              "      background-color: #3B4455;\n",
              "      fill: #D2E3FC;\n",
              "    }\n",
              "\n",
              "    [theme=dark] .colab-df-convert:hover {\n",
              "      background-color: #434B5C;\n",
              "      box-shadow: 0px 1px 3px 1px rgba(0, 0, 0, 0.15);\n",
              "      filter: drop-shadow(0px 1px 2px rgba(0, 0, 0, 0.3));\n",
              "      fill: #FFFFFF;\n",
              "    }\n",
              "  </style>\n",
              "\n",
              "      <script>\n",
              "        const buttonEl =\n",
              "          document.querySelector('#df-cc5025c5-5100-4566-a16c-5b5b54c51fda button.colab-df-convert');\n",
              "        buttonEl.style.display =\n",
              "          google.colab.kernel.accessAllowed ? 'block' : 'none';\n",
              "\n",
              "        async function convertToInteractive(key) {\n",
              "          const element = document.querySelector('#df-cc5025c5-5100-4566-a16c-5b5b54c51fda');\n",
              "          const dataTable =\n",
              "            await google.colab.kernel.invokeFunction('convertToInteractive',\n",
              "                                                     [key], {});\n",
              "          if (!dataTable) return;\n",
              "\n",
              "          const docLinkHtml = 'Like what you see? Visit the ' +\n",
              "            '<a target=\"_blank\" href=https://colab.research.google.com/notebooks/data_table.ipynb>data table notebook</a>'\n",
              "            + ' to learn more about interactive tables.';\n",
              "          element.innerHTML = '';\n",
              "          dataTable['output_type'] = 'display_data';\n",
              "          await google.colab.output.renderOutput(dataTable, element);\n",
              "          const docLink = document.createElement('div');\n",
              "          docLink.innerHTML = docLinkHtml;\n",
              "          element.appendChild(docLink);\n",
              "        }\n",
              "      </script>\n",
              "    </div>\n",
              "  </div>\n",
              "  "
            ]
          },
          "metadata": {},
          "execution_count": 13
        }
      ]
    },
    {
      "cell_type": "code",
      "source": [
        "insincere_df.question_text.values[:10]"
      ],
      "metadata": {
        "colab": {
          "base_uri": "https://localhost:8080/"
        },
        "id": "W8SgokaEIsJv",
        "outputId": "cab7c858-bca2-4292-e7dd-47040578328b"
      },
      "execution_count": 14,
      "outputs": [
        {
          "output_type": "execute_result",
          "data": {
            "text/plain": [
              "array(['Has the United States become the largest dictatorship in the world?',\n",
              "       'Which babies are more sweeter to their parents? Dark skin babies or light skin babies?',\n",
              "       \"If blacks support school choice and mandatory sentencing for criminals why don't they vote Republican?\",\n",
              "       'I am gay boy and I love my cousin (boy). He is sexy, but I dont know what to do. He is hot, and I want to see his di**. What should I do?',\n",
              "       'Which races have the smallest penis?',\n",
              "       'Why do females find penises ugly?',\n",
              "       'How do I marry an American woman for a Green Card? How much do they charge?',\n",
              "       \"Why do Europeans say they're the superior race, when in fact it took them over 2,000 years until mid 19th century to surpass China's largest economy?\",\n",
              "       'Did Julius Caesar bring a tyrannosaurus rex on his campaigns to frighten the Celts into submission?',\n",
              "       \"In what manner has Republican backing of 'states rights' been hypocritical and what ways have they actually restricted the ability of states to make their own laws?\"],\n",
              "      dtype=object)"
            ]
          },
          "metadata": {},
          "execution_count": 14
        }
      ]
    },
    {
      "cell_type": "code",
      "source": [
        "#Checking the numbers of sincere and insincere questions\n",
        "raw_df.target.value_counts()"
      ],
      "metadata": {
        "colab": {
          "base_uri": "https://localhost:8080/"
        },
        "id": "06rKtq5YKLda",
        "outputId": "9f3e53b5-3aaa-4130-b2fa-5382be1a1288"
      },
      "execution_count": 15,
      "outputs": [
        {
          "output_type": "execute_result",
          "data": {
            "text/plain": [
              "0    1225312\n",
              "1      80810\n",
              "Name: target, dtype: int64"
            ]
          },
          "metadata": {},
          "execution_count": 15
        }
      ]
    },
    {
      "cell_type": "code",
      "source": [
        "#Checking the numbers of sincere and insincere questions\n",
        "raw_df.target.value_counts(normalize = True)"
      ],
      "metadata": {
        "colab": {
          "base_uri": "https://localhost:8080/"
        },
        "id": "ZsM1gtsWKZtl",
        "outputId": "52747e54-7ac6-41de-9a16-2250a0c9cc93"
      },
      "execution_count": 16,
      "outputs": [
        {
          "output_type": "execute_result",
          "data": {
            "text/plain": [
              "0    0.93813\n",
              "1    0.06187\n",
              "Name: target, dtype: float64"
            ]
          },
          "metadata": {},
          "execution_count": 16
        }
      ]
    },
    {
      "cell_type": "code",
      "source": [
        "#Plotting the data\n",
        "#Checking the numbers of sincere and insincere questions\n",
        "raw_df.target.value_counts(normalize = True). plot(kind='bar')"
      ],
      "metadata": {
        "colab": {
          "base_uri": "https://localhost:8080/",
          "height": 279
        },
        "id": "M5-tTqFyMq_b",
        "outputId": "52fd5ec6-ce8e-403b-fc58-0e39978e7f1d"
      },
      "execution_count": 17,
      "outputs": [
        {
          "output_type": "execute_result",
          "data": {
            "text/plain": [
              "<matplotlib.axes._subplots.AxesSubplot at 0x7fefdde8ffd0>"
            ]
          },
          "metadata": {},
          "execution_count": 17
        },
        {
          "output_type": "display_data",
          "data": {
            "text/plain": [
              "<Figure size 432x288 with 1 Axes>"
            ],
            "image/png": "[encoded data removed]"
          },
          "metadata": {
            "needs_background": "light"
          }
        }
      ]
    },
    {
      "cell_type": "code",
      "source": [
        "#Testing dataframe\n",
        "test_df = pd.read_csv(test_frame)\n",
        "test_df"
      ],
      "metadata": {
        "colab": {
          "base_uri": "https://localhost:8080/",
          "height": 424
        },
        "id": "OvqIgjnNNREH",
        "outputId": "4ad3066f-dc31-4cdc-a051-53ce1e4ecc4e"
      },
      "execution_count": 18,
      "outputs": [
        {
          "output_type": "execute_result",
          "data": {
            "text/plain": [
              "                         qid  \\\n",
              "0       0000163e3ea7c7a74cd7   \n",
              "1       00002bd4fb5d505b9161   \n",
              "2       00007756b4a147d2b0b3   \n",
              "3       000086e4b7e1c7146103   \n",
              "4       0000c4c3fbe8785a3090   \n",
              "...                      ...   \n",
              "375801  ffff7fa746bd6d6197a9   \n",
              "375802  ffffa1be31c43046ab6b   \n",
              "375803  ffffae173b6ca6bfa563   \n",
              "375804  ffffb1f7f1a008620287   \n",
              "375805  fffff85473f4699474b0   \n",
              "\n",
              "                                            question_text  \n",
              "0       Why do so many women become so rude and arroga...  \n",
              "1       When should I apply for RV college of engineer...  \n",
              "2       What is it really like to be a nurse practitio...  \n",
              "3                                  Who are entrepreneurs?  \n",
              "4        Is education really making good people nowadays?  \n",
              "...                                                   ...  \n",
              "375801  How many countries listed in gold import in in...  \n",
              "375802  Is there an alternative to dresses on formal p...  \n",
              "375803  Where I can find best friendship quotes in Tel...  \n",
              "375804        What are the causes of refraction of light?  \n",
              "375805  Climate change is a worrying topic. How much t...  \n",
              "\n",
              "[375806 rows x 2 columns]"
            ],
            "text/html": [
              "\n",
              "  <div id=\"df-98728163-479a-4b01-a798-ded008453753\">\n",
              "    <div class=\"colab-df-container\">\n",
              "      <div>\n",
              "<style scoped>\n",
              "    .dataframe tbody tr th:only-of-type {\n",
              "        vertical-align: middle;\n",
              "    }\n",
              "\n",
              "    .dataframe tbody tr th {\n",
              "        vertical-align: top;\n",
              "    }\n",
              "\n",
              "    .dataframe thead th {\n",
              "        text-align: right;\n",
              "    }\n",
              "</style>\n",
              "<table border=\"1\" class=\"dataframe\">\n",
              "  <thead>\n",
              "    <tr style=\"text-align: right;\">\n",
              "      <th></th>\n",
              "      <th>qid</th>\n",
              "      <th>question_text</th>\n",
              "    </tr>\n",
              "  </thead>\n",
              "  <tbody>\n",
              "    <tr>\n",
              "      <th>0</th>\n",
              "      <td>0000163e3ea7c7a74cd7</td>\n",
              "      <td>Why do so many women become so rude and arroga...</td>\n",
              "    </tr>\n",
              "    <tr>\n",
              "      <th>1</th>\n",
              "      <td>00002bd4fb5d505b9161</td>\n",
              "      <td>When should I apply for RV college of engineer...</td>\n",
              "    </tr>\n",
              "    <tr>\n",
              "      <th>2</th>\n",
              "      <td>00007756b4a147d2b0b3</td>\n",
              "      <td>What is it really like to be a nurse practitio...</td>\n",
              "    </tr>\n",
              "    <tr>\n",
              "      <th>3</th>\n",
              "      <td>000086e4b7e1c7146103</td>\n",
              "      <td>Who are entrepreneurs?</td>\n",
              "    </tr>\n",
              "    <tr>\n",
              "      <th>4</th>\n",
              "      <td>0000c4c3fbe8785a3090</td>\n",
              "      <td>Is education really making good people nowadays?</td>\n",
              "    </tr>\n",
              "    <tr>\n",
              "      <th>...</th>\n",
              "      <td>...</td>\n",
              "      <td>...</td>\n",
              "    </tr>\n",
              "    <tr>\n",
              "      <th>375801</th>\n",
              "      <td>ffff7fa746bd6d6197a9</td>\n",
              "      <td>How many countries listed in gold import in in...</td>\n",
              "    </tr>\n",
              "    <tr>\n",
              "      <th>375802</th>\n",
              "      <td>ffffa1be31c43046ab6b</td>\n",
              "      <td>Is there an alternative to dresses on formal p...</td>\n",
              "    </tr>\n",
              "    <tr>\n",
              "      <th>375803</th>\n",
              "      <td>ffffae173b6ca6bfa563</td>\n",
              "      <td>Where I can find best friendship quotes in Tel...</td>\n",
              "    </tr>\n",
              "    <tr>\n",
              "      <th>375804</th>\n",
              "      <td>ffffb1f7f1a008620287</td>\n",
              "      <td>What are the causes of refraction of light?</td>\n",
              "    </tr>\n",
              "    <tr>\n",
              "      <th>375805</th>\n",
              "      <td>fffff85473f4699474b0</td>\n",
              "      <td>Climate change is a worrying topic. How much t...</td>\n",
              "    </tr>\n",
              "  </tbody>\n",
              "</table>\n",
              "<p>375806 rows × 2 columns</p>\n",
              "</div>\n",
              "      <button class=\"colab-df-convert\" onclick=\"convertToInteractive('df-98728163-479a-4b01-a798-ded008453753')\"\n",
              "              title=\"Convert this dataframe to an interactive table.\"\n",
              "              style=\"display:none;\">\n",
              "        \n",
              "  <svg xmlns=\"http://www.w3.org/2000/svg\" height=\"24px\"viewBox=\"0 0 24 24\"\n",
              "       width=\"24px\">\n",
              "    <path d=\"M0 0h24v24H0V0z\" fill=\"none\"/>\n",
              "    <path d=\"M18.56 5.44l.94 2.06.94-2.06 2.06-.94-2.06-.94-.94-2.06-.94 2.06-2.06.94zm-11 1L8.5 8.5l.94-2.06 2.06-.94-2.06-.94L8.5 2.5l-.94 2.06-2.06.94zm10 10l.94 2.06.94-2.06 2.06-.94-2.06-.94-.94-2.06-.94 2.06-2.06.94z\"/><path d=\"M17.41 7.96l-1.37-1.37c-.4-.4-.92-.59-1.43-.59-.52 0-1.04.2-1.43.59L10.3 9.45l-7.72 7.72c-.78.78-.78 2.05 0 2.83L4 21.41c.39.39.9.59 1.41.59.51 0 1.02-.2 1.41-.59l7.78-7.78 2.81-2.81c.8-.78.8-2.07 0-2.86zM5.41 20L4 18.59l7.72-7.72 1.47 1.35L5.41 20z\"/>\n",
              "  </svg>\n",
              "      </button>\n",
              "      \n",
              "  <style>\n",
              "    .colab-df-container {\n",
              "      display:flex;\n",
              "      flex-wrap:wrap;\n",
              "      gap: 12px;\n",
              "    }\n",
              "\n",
              "    .colab-df-convert {\n",
              "      background-color: #E8F0FE;\n",
              "      border: none;\n",
              "      border-radius: 50%;\n",
              "      cursor: pointer;\n",
              "      display: none;\n",
              "      fill: #1967D2;\n",
              "      height: 32px;\n",
              "      padding: 0 0 0 0;\n",
              "      width: 32px;\n",
              "    }\n",
              "\n",
              "    .colab-df-convert:hover {\n",
              "      background-color: #E2EBFA;\n",
              "      box-shadow: 0px 1px 2px rgba(60, 64, 67, 0.3), 0px 1px 3px 1px rgba(60, 64, 67, 0.15);\n",
              "      fill: #174EA6;\n",
              "    }\n",
              "\n",
              "    [theme=dark] .colab-df-convert {\n",
              "      background-color: #3B4455;\n",
              "      fill: #D2E3FC;\n",
              "    }\n",
              "\n",
              "    [theme=dark] .colab-df-convert:hover {\n",
              "      background-color: #434B5C;\n",
              "      box-shadow: 0px 1px 3px 1px rgba(0, 0, 0, 0.15);\n",
              "      filter: drop-shadow(0px 1px 2px rgba(0, 0, 0, 0.3));\n",
              "      fill: #FFFFFF;\n",
              "    }\n",
              "  </style>\n",
              "\n",
              "      <script>\n",
              "        const buttonEl =\n",
              "          document.querySelector('#df-98728163-479a-4b01-a798-ded008453753 button.colab-df-convert');\n",
              "        buttonEl.style.display =\n",
              "          google.colab.kernel.accessAllowed ? 'block' : 'none';\n",
              "\n",
              "        async function convertToInteractive(key) {\n",
              "          const element = document.querySelector('#df-98728163-479a-4b01-a798-ded008453753');\n",
              "          const dataTable =\n",
              "            await google.colab.kernel.invokeFunction('convertToInteractive',\n",
              "                                                     [key], {});\n",
              "          if (!dataTable) return;\n",
              "\n",
              "          const docLinkHtml = 'Like what you see? Visit the ' +\n",
              "            '<a target=\"_blank\" href=https://colab.research.google.com/notebooks/data_table.ipynb>data table notebook</a>'\n",
              "            + ' to learn more about interactive tables.';\n",
              "          element.innerHTML = '';\n",
              "          dataTable['output_type'] = 'display_data';\n",
              "          await google.colab.output.renderOutput(dataTable, element);\n",
              "          const docLink = document.createElement('div');\n",
              "          docLink.innerHTML = docLinkHtml;\n",
              "          element.appendChild(docLink);\n",
              "        }\n",
              "      </script>\n",
              "    </div>\n",
              "  </div>\n",
              "  "
            ]
          },
          "metadata": {},
          "execution_count": 18
        }
      ]
    },
    {
      "cell_type": "code",
      "source": [],
      "metadata": {
        "id": "0oxeEKMPN4G-"
      },
      "execution_count": 18,
      "outputs": []
    },
    {
      "cell_type": "code",
      "source": [
        " #Submission CSV file\n",
        "sub_df = pd.read_csv(sample_framesample_frame)\n",
        "sub_df"
      ],
      "metadata": {
        "id": "KPgUX-x4QIDG"
      },
      "execution_count": 19,
      "outputs": []
    },
    {
      "cell_type": "markdown",
      "source": [
        "Create a working sample"
      ],
      "metadata": {
        "id": "n4jIVZU_QIYO"
      }
    },
    {
      "cell_type": "code",
      "source": [
        "SAMPLE_SIZE = 100_000"
      ],
      "metadata": {
        "id": "XswRFbcFQW_d"
      },
      "execution_count": 20,
      "outputs": []
    },
    {
      "cell_type": "code",
      "source": [
        "sample_df = raw_df.sample(SAMPLE_SIZE, random_state=42)# setting the random state  just to get the same sample every time"
      ],
      "metadata": {
        "id": "EEgmWn6JQMEr"
      },
      "execution_count": 21,
      "outputs": []
    },
    {
      "cell_type": "code",
      "source": [
        "sample_df"
      ],
      "metadata": {
        "colab": {
          "base_uri": "https://localhost:8080/",
          "height": 485
        },
        "id": "LohR5JVFQ1LB",
        "outputId": "23d957a8-7b79-4c1e-957c-a135e50a87e3"
      },
      "execution_count": 22,
      "outputs": [
        {
          "output_type": "execute_result",
          "data": {
            "text/plain": [
              "                          qid  \\\n",
              "443046   56d324bb1e2c29f43b12   \n",
              "947549   b9ad893dc78c577f8a63   \n",
              "523769   6689ebaeeb65b209a412   \n",
              "949821   ba1e2c4a0fef09671516   \n",
              "1030397  c9ea2b69bf0d74626f46   \n",
              "...                       ...   \n",
              "998930   c3c03a307a29c69971b4   \n",
              "66641    0d119aba95ee6684f506   \n",
              "90024    11a46cd148a104b271cf   \n",
              "130113   1973e6e2111a0c93193a   \n",
              "1137     0037ed037520d82393c0   \n",
              "\n",
              "                                             question_text  target  \n",
              "443046   What is the most effective classroom managemen...       0  \n",
              "947549   Can I study abroad after 10th class from Bangl...       0  \n",
              "523769         How can I make friends as a college junior?       0  \n",
              "949821   How do I download free APK Minecraft: Pocket E...       0  \n",
              "1030397  Like Kuvera, is \"Groww\" also a free online inv...       0  \n",
              "...                                                    ...     ...  \n",
              "998930   How do I research list of reliable charcoal im...       0  \n",
              "66641    What are petroleum products, and what is petro...       0  \n",
              "90024    What are some services that will let you quick...       0  \n",
              "130113   What credit card processors do online marketpl...       0  \n",
              "1137          On which number system does a computer work?       0  \n",
              "\n",
              "[100000 rows x 3 columns]"
            ],
            "text/html": [
              "\n",
              "  <div id=\"df-108e01ff-69c3-4b49-8ad8-7135c9f3ac23\">\n",
              "    <div class=\"colab-df-container\">\n",
              "      <div>\n",
              "<style scoped>\n",
              "    .dataframe tbody tr th:only-of-type {\n",
              "        vertical-align: middle;\n",
              "    }\n",
              "\n",
              "    .dataframe tbody tr th {\n",
              "        vertical-align: top;\n",
              "    }\n",
              "\n",
              "    .dataframe thead th {\n",
              "        text-align: right;\n",
              "    }\n",
              "</style>\n",
              "<table border=\"1\" class=\"dataframe\">\n",
              "  <thead>\n",
              "    <tr style=\"text-align: right;\">\n",
              "      <th></th>\n",
              "      <th>qid</th>\n",
              "      <th>question_text</th>\n",
              "      <th>target</th>\n",
              "    </tr>\n",
              "  </thead>\n",
              "  <tbody>\n",
              "    <tr>\n",
              "      <th>443046</th>\n",
              "      <td>56d324bb1e2c29f43b12</td>\n",
              "      <td>What is the most effective classroom managemen...</td>\n",
              "      <td>0</td>\n",
              "    </tr>\n",
              "    <tr>\n",
              "      <th>947549</th>\n",
              "      <td>b9ad893dc78c577f8a63</td>\n",
              "      <td>Can I study abroad after 10th class from Bangl...</td>\n",
              "      <td>0</td>\n",
              "    </tr>\n",
              "    <tr>\n",
              "      <th>523769</th>\n",
              "      <td>6689ebaeeb65b209a412</td>\n",
              "      <td>How can I make friends as a college junior?</td>\n",
              "      <td>0</td>\n",
              "    </tr>\n",
              "    <tr>\n",
              "      <th>949821</th>\n",
              "      <td>ba1e2c4a0fef09671516</td>\n",
              "      <td>How do I download free APK Minecraft: Pocket E...</td>\n",
              "      <td>0</td>\n",
              "    </tr>\n",
              "    <tr>\n",
              "      <th>1030397</th>\n",
              "      <td>c9ea2b69bf0d74626f46</td>\n",
              "      <td>Like Kuvera, is \"Groww\" also a free online inv...</td>\n",
              "      <td>0</td>\n",
              "    </tr>\n",
              "    <tr>\n",
              "      <th>...</th>\n",
              "      <td>...</td>\n",
              "      <td>...</td>\n",
              "      <td>...</td>\n",
              "    </tr>\n",
              "    <tr>\n",
              "      <th>998930</th>\n",
              "      <td>c3c03a307a29c69971b4</td>\n",
              "      <td>How do I research list of reliable charcoal im...</td>\n",
              "      <td>0</td>\n",
              "    </tr>\n",
              "    <tr>\n",
              "      <th>66641</th>\n",
              "      <td>0d119aba95ee6684f506</td>\n",
              "      <td>What are petroleum products, and what is petro...</td>\n",
              "      <td>0</td>\n",
              "    </tr>\n",
              "    <tr>\n",
              "      <th>90024</th>\n",
              "      <td>11a46cd148a104b271cf</td>\n",
              "      <td>What are some services that will let you quick...</td>\n",
              "      <td>0</td>\n",
              "    </tr>\n",
              "    <tr>\n",
              "      <th>130113</th>\n",
              "      <td>1973e6e2111a0c93193a</td>\n",
              "      <td>What credit card processors do online marketpl...</td>\n",
              "      <td>0</td>\n",
              "    </tr>\n",
              "    <tr>\n",
              "      <th>1137</th>\n",
              "      <td>0037ed037520d82393c0</td>\n",
              "      <td>On which number system does a computer work?</td>\n",
              "      <td>0</td>\n",
              "    </tr>\n",
              "  </tbody>\n",
              "</table>\n",
              "<p>100000 rows × 3 columns</p>\n",
              "</div>\n",
              "      <button class=\"colab-df-convert\" onclick=\"convertToInteractive('df-108e01ff-69c3-4b49-8ad8-7135c9f3ac23')\"\n",
              "              title=\"Convert this dataframe to an interactive table.\"\n",
              "              style=\"display:none;\">\n",
              "        \n",
              "  <svg xmlns=\"http://www.w3.org/2000/svg\" height=\"24px\"viewBox=\"0 0 24 24\"\n",
              "       width=\"24px\">\n",
              "    <path d=\"M0 0h24v24H0V0z\" fill=\"none\"/>\n",
              "    <path d=\"M18.56 5.44l.94 2.06.94-2.06 2.06-.94-2.06-.94-.94-2.06-.94 2.06-2.06.94zm-11 1L8.5 8.5l.94-2.06 2.06-.94-2.06-.94L8.5 2.5l-.94 2.06-2.06.94zm10 10l.94 2.06.94-2.06 2.06-.94-2.06-.94-.94-2.06-.94 2.06-2.06.94z\"/><path d=\"M17.41 7.96l-1.37-1.37c-.4-.4-.92-.59-1.43-.59-.52 0-1.04.2-1.43.59L10.3 9.45l-7.72 7.72c-.78.78-.78 2.05 0 2.83L4 21.41c.39.39.9.59 1.41.59.51 0 1.02-.2 1.41-.59l7.78-7.78 2.81-2.81c.8-.78.8-2.07 0-2.86zM5.41 20L4 18.59l7.72-7.72 1.47 1.35L5.41 20z\"/>\n",
              "  </svg>\n",
              "      </button>\n",
              "      \n",
              "  <style>\n",
              "    .colab-df-container {\n",
              "      display:flex;\n",
              "      flex-wrap:wrap;\n",
              "      gap: 12px;\n",
              "    }\n",
              "\n",
              "    .colab-df-convert {\n",
              "      background-color: #E8F0FE;\n",
              "      border: none;\n",
              "      border-radius: 50%;\n",
              "      cursor: pointer;\n",
              "      display: none;\n",
              "      fill: #1967D2;\n",
              "      height: 32px;\n",
              "      padding: 0 0 0 0;\n",
              "      width: 32px;\n",
              "    }\n",
              "\n",
              "    .colab-df-convert:hover {\n",
              "      background-color: #E2EBFA;\n",
              "      box-shadow: 0px 1px 2px rgba(60, 64, 67, 0.3), 0px 1px 3px 1px rgba(60, 64, 67, 0.15);\n",
              "      fill: #174EA6;\n",
              "    }\n",
              "\n",
              "    [theme=dark] .colab-df-convert {\n",
              "      background-color: #3B4455;\n",
              "      fill: #D2E3FC;\n",
              "    }\n",
              "\n",
              "    [theme=dark] .colab-df-convert:hover {\n",
              "      background-color: #434B5C;\n",
              "      box-shadow: 0px 1px 3px 1px rgba(0, 0, 0, 0.15);\n",
              "      filter: drop-shadow(0px 1px 2px rgba(0, 0, 0, 0.3));\n",
              "      fill: #FFFFFF;\n",
              "    }\n",
              "  </style>\n",
              "\n",
              "      <script>\n",
              "        const buttonEl =\n",
              "          document.querySelector('#df-108e01ff-69c3-4b49-8ad8-7135c9f3ac23 button.colab-df-convert');\n",
              "        buttonEl.style.display =\n",
              "          google.colab.kernel.accessAllowed ? 'block' : 'none';\n",
              "\n",
              "        async function convertToInteractive(key) {\n",
              "          const element = document.querySelector('#df-108e01ff-69c3-4b49-8ad8-7135c9f3ac23');\n",
              "          const dataTable =\n",
              "            await google.colab.kernel.invokeFunction('convertToInteractive',\n",
              "                                                     [key], {});\n",
              "          if (!dataTable) return;\n",
              "\n",
              "          const docLinkHtml = 'Like what you see? Visit the ' +\n",
              "            '<a target=\"_blank\" href=https://colab.research.google.com/notebooks/data_table.ipynb>data table notebook</a>'\n",
              "            + ' to learn more about interactive tables.';\n",
              "          element.innerHTML = '';\n",
              "          dataTable['output_type'] = 'display_data';\n",
              "          await google.colab.output.renderOutput(dataTable, element);\n",
              "          const docLink = document.createElement('div');\n",
              "          docLink.innerHTML = docLinkHtml;\n",
              "          element.appendChild(docLink);\n",
              "        }\n",
              "      </script>\n",
              "    </div>\n",
              "  </div>\n",
              "  "
            ]
          },
          "metadata": {},
          "execution_count": 22
        }
      ]
    },
    {
      "cell_type": "markdown",
      "source": [
        "Note, because of the imbalance, model accuracy is not always the best way of evaluating the model performance; F1 Scores could be used."
      ],
      "metadata": {
        "id": "j1qleO9DKwAE"
      }
    },
    {
      "cell_type": "markdown",
      "source": [
        "## TEXT PREPROCESSING TECHNIQUES\n",
        "1. Understand the bag of words model\n",
        "2. Tokenization\n",
        "3. Stop word removal\n",
        "4. Stemming\n"
      ],
      "metadata": {
        "id": "18QALyyEWBRH"
      }
    },
    {
      "cell_type": "markdown",
      "source": [
        "## Bag of words Intuition\n",
        "1. Create a list of all the words across all the text documents\n",
        "2. You convert each document into vector counts of each word"
      ],
      "metadata": {
        "id": "cMu7QY5HWtMb"
      }
    },
    {
      "cell_type": "markdown",
      "source": [
        "![Bag of words.JPG](data:image/jpeg;base64,/9j/4AAQSkZJRgABAQEAYABgAAD/4RDcRXhpZgAATU0AKgAAAAgABAE7AAIAAAAGAAAISodpAAQAAAABAAAIUJydAAEAAAAMAAAQyOocAAcAAAgMAAAAPgAAAAAc6gAAAAgAAAAAAAAAAAAAAAAAAAAAAAAAAAAAAAAAAAAAAAAAAAAAAAAAAAAAAAAAAAAAAAAAAAAAAAAAAAAAAAAAAAAAAAAAAAAAAAAAAAAAAAAAAAAAAAAAAAAAAAAAAAAAAAAAAAAAAAAAAAAAAAAAAAAAAAAAAAAAAAAAAAAAAAAAAAAAAAAAAAAAAAAAAAAAAAAAAAAAAAAAAAAAAAAAAAAAAAAAAAAAAAAAAAAAAAAAAAAAAAAAAAAAAAAAAAAAAAAAAAAAAAAAAAAAAAAAAAAAAAAAAAAAAAAAAAAAAAAAAAAAAAAAAAAAAAAAAAAAAAAAAAAAAAAAAAAAAAAAAAAAAAAAAAAAAAAAAAAAAAAAAAAAAAAAAAAAAAAAAAAAAAAAAAAAAAAAAAAAAAAAAAAAAAAAAAAAAAAAAAAAAAAAAAAAAAAAAAAAAAAAAAAAAAAAAAAAAAAAAAAAAAAAAAAAAAAAAAAAAAAAAAAAAAAAAAAAAAAAAAAAAAAAAAAAAAAAAAAAAAAAAAAAAAAAAAAAAAAAAAAAAAAAAAAAAAAAAAAAAAAAAAAAAAAAAAAAAAAAAAAAAAAAAAAAAAAAAAAAAAAAAAAAAAAAAAAAAAAAAAAAAAAAAAAAAAAAAAAAAAAAAAAAAAAAAAAAAAAAAAAAAAAAAAAAAAAAAAAAAAAAAAAAAAAAAAAAAAAAAAAAAAAAAAAAAAAAAAAAAAAAAAAAAAAAAAAAAAAAAAAAAAAAAAAAAAAAAAAAAAAAAAAAAAAAAAAAAAAAAAAAAAAAAAAAAAAAAAAAAAAAAAAAAAAAAAAAAAAAAAAAAAAAAAAAAAAAAAAAAAAAAAAAAAAAAAAAAAAAAAAAAAAAAAAAAAAAAAAAAAAAAAAAAAAAAAAAAAAAAAAAAAAAAAAAAAAAAAAAAAAAAAAAAAAAAAAAAAAAAAAAAAAAAAAAAAAAAAAAAAAAAAAAAAAAAAAAAAAAAAAAAAAAAAAAAAAAAAAAAAAAAAAAAAAAAAAAAAAAAAAAAAAAAAAAAAAAAAAAAAAAAAAAAAAAAAAAAAAAAAAAAAAAAAAAAAAAAAAAAAAAAAAAAAAAAAAAAAAAAAAAAAAAAAAAAAAAAAAAAAAAAAAAAAAAAAAAAAAAAAAAAAAAAAAAAAAAAAAAAAAAAAAAAAAAAAAAAAAAAAAAAAAAAAAAAAAAAAAAAAAAAAAAAAAAAAAAAAAAAAAAAAAAAAAAAAAAAAAAAAAAAAAAAAAAAAAAAAAAAAAAAAAAAAAAAAAAAAAAAAAAAAAAAAAAAAAAAAAAAAAAAAAAAAAAAAAAAAAAAAAAAAAAAAAAAAAAAAAAAAAAAAAAAAAAAAAAAAAAAAAAAAAAAAAAAAAAAAAAAAAAAAAAAAAAAAAAAAAAAAAAAAAAAAAAAAAAAAAAAAAAAAAAAAAAAAAAAAAAAAAAAAAAAAAAAAAAAAAAAAAAAAAAAAAAAAAAAAAAAAAAAAAAAAAAAAAAAAAAAAAAAAAAAAAAAAAAAAAAAAAAAAAAAAAAAAAAAAAAAAAAAAAAAAAAAAAAAAAAAAAAAAAAAAAAAAAAAAAAAAAAAAAAAAAAAAAAAAAAAAAAAAAAAAAAAAAAAAAAAAAAAAAAAAAAAAAAAAAAAAAAAAAAAAAAAAAAAAAAAAAAAAAAAAAAAAAAAAAAAAAAAAAAAAAAAAAAAAAAAAAAAAAAAAAAAAAAAAAAAAAAAAAAAAAAAAAAAAAAAAAAAAAAAAAAAAAAAAAAAAAAAAAAAAAAAAAAAAAAAAAAAAAAAAAAAAAAAAAAAAAAAAAAAAAAAAAAAAAAAAAAAAAAAAAAAAAAAAAAAAAAAAAAAAAAAAAAAAAAAAAAAAAAAAAAAAAAAAAAAAAAAAAAAAAAAAAAAAAAAAAAAAAAAAAAAAAAAAAAAAAAAAAAAAAAAAAAAAAAAAAAAAAAAAAAAAAAAAAAAAAAAAAAAAAAAAAAAAAAAAAAAAAAAAAAAAAAAAAAAAAAAAAAAAAAAAAAAAAAAAAAAAAAAAAAAAAAAAAAAAAAAAAAAAAAAAAAAAAAAAAAAAAAAAAAAAAAAAAAAAAAAAAAAAAAAAAAAAAAAAAAAAAAAAAAAAAAAAAAAAAAAAAAAAAAAAAAAAAAAAAAAAAAAAAAAAAAAAAAAAAAAAAAAAAAAAAAAAAAAAAAAAAAAAAAAAAAAAAAAAAAAAAAAAAAAAAAAAAAAAAAAAAAAAAAAAAAAAAAAAAAAAAAAAAAAAAAAAAAAAAAAAAAAAAAAAAAAAAAAAAAAAAAAAAAAAAAAAAAAAAAAAAAAAAAAAAAAAAAAAAAAAAAAAAAAAAAAAAAAAAAAAAAAAAAAAAAAAAAAAAAAAAAAAAAAAAAAAAAAAAAAAAAAAAAAAAAAAAAAAAAAAAAAAAAAAAAAAAAAAAAAAAAAAAAAAAAAAAAAAAAAAAAAAAAAAAAAAAAAAAAAAAAAAAAAAAAAAAAAAAAAAAAAAAAAAAAAAAAAAAAAAAAAAAAAAAAAAAAAAAAAAAAAAAAAAAAAAAAAAAAAAAAAAAAAAAAAAAAAAAAAAAAAAAAAAAAAAAAAAAAAAAAAAAAAAAAAAAAAAAAAAAAAAAAAAAAAAAAAAAAAAAAAAAAAAAAAAAAAAAAAAAAAAAAAAAAAAAAAAAAAAAAAAAAAAAAAAAAAAAAAAAAAAAAAAAAAAAAAAAAAAAAAAAAAAAAAAAAAAAAAAAAAAAAAAAAAAAAAEFkbWluAAAFkAMAAgAAABQAABCekAQAAgAAABQAABCykpEAAgAAAAM4OAAAkpIAAgAAAAM4OAAA6hwABwAACAwAAAiSAAAAABzqAAAACAAAAAAAAAAAAAAAAAAAAAAAAAAAAAAAAAAAAAAAAAAAAAAAAAAAAAAAAAAAAAAAAAAAAAAAAAAAAAAAAAAAAAAAAAAAAAAAAAAAAAAAAAAAAAAAAAAAAAAAAAAAAAAAAAAAAAAAAAAAAAAAAAAAAAAAAAAAAAAAAAAAAAAAAAAAAAAAAAAAAAAAAAAAAAAAAAAAAAAAAAAAAAAAAAAAAAAAAAAAAAAAAAAAAAAAAAAAAAAAAAAAAAAAAAAAAAAAAAAAAAAAAAAAAAAAAAAAAAAAAAAAAAAAAAAAAAAAAAAAAAAAAAAAAAAAAAAAAAAAAAAAAAAAAAAAAAAAAAAAAAAAAAAAAAAAAAAAAAAAAAAAAAAAAAAAAAAAAAAAAAAAAAAAAAAAAAAAAAAAAAAAAAAAAAAAAAAAAAAAAAAAAAAAAAAAAAAAAAAAAAAAAAAAAAAAAAAAAAAAAAAAAAAAAAAAAAAAAAAAAAAAAAAAAAAAAAAAAAAAAAAAAAAAAAAAAAAAAAAAAAAAAAAAAAAAAAAAAAAAAAAAAAAAAAAAAAAAAAAAAAAAAAAAAAAAAAAAAAAAAAAAAAAAAAAAAAAAAAAAAAAAAAAAAAAAAAAAAAAAAAAAAAAAAAAAAAAAAAAAAAAAAAAAAAAAAAAAAAAAAAAAAAAAAAAAAAAAAAAAAAAAAAAAAAAAAAAAAAAAAAAAAAAAAAAAAAAAAAAAAAAAAAAAAAAAAAAAAAAAAAAAAAAAAAAAAAAAAAAAAAAAAAAAAAAAAAAAAAAAAAAAAAAAAAAAAAAAAAAAAAAAAAAAAAAAAAAAAAAAAAAAAAAAAAAAAAAAAAAAAAAAAAAAAAAAAAAAAAAAAAAAAAAAAAAAAAAAAAAAAAAAAAAAAAAAAAAAAAAAAAAAAAAAAAAAAAAAAAAAAAAAAAAAAAAAAAAAAAAAAAAAAAAAAAAAAAAAAAAAAAAAAAAAAAAAAAAAAAAAAAAAAAAAAAAAAAAAAAAAAAAAAAAAAAAAAAAAAAAAAAAAAAAAAAAAAAAAAAAAAAAAAAAAAAAAAAAAAAAAAAAAAAAAAAAAAAAAAAAAAAAAAAAAAAAAAAAAAAAAAAAAAAAAAAAAAAAAAAAAAAAAAAAAAAAAAAAAAAAAAAAAAAAAAAAAAAAAAAAAAAAAAAAAAAAAAAAAAAAAAAAAAAAAAAAAAAAAAAAAAAAAAAAAAAAAAAAAAAAAAAAAAAAAAAAAAAAAAAAAAAAAAAAAAAAAAAAAAAAAAAAAAAAAAAAAAAAAAAAAAAAAAAAAAAAAAAAAAAAAAAAAAAAAAAAAAAAAAAAAAAAAAAAAAAAAAAAAAAAAAAAAAAAAAAAAAAAAAAAAAAAAAAAAAAAAAAAAAAAAAAAAAAAAAAAAAAAAAAAAAAAAAAAAAAAAAAAAAAAAAAAAAAAAAAAAAAAAAAAAAAAAAAAAAAAAAAAAAAAAAAAAAAAAAAAAAAAAAAAAAAAAAAAAAAAAAAAAAAAAAAAAAAAAAAAAAAAAAAAAAAAAAAAAAAAAAAAAAAAAAAAAAAAAAAAAAAAAAAAAAAAAAAAAAAAAAAAAAAAAAAAAAAAAAAAAAAAAAAAAAAAAAAAAAAAAAAAAAAAAAAAAAAAAAAAAAAAAAAAAAAAAAAAAAAAAAAAAAAAAAAAAAAAAAAAAAAAAAAAAAAAAAAAAAAAAAAAAAAAAAAAAAAAAAAAAAAAAAAAAAAAAAAAAAAAAAAAAAAAAAAAAAAAAAAAAAAAAAAAAAAAAAAAAAAAAAAAAAAAAAAAAAAAAAAAAAAAAAAAAAAAAAAAAAAAAAAAAAAAAAAAAAAAAAAAAAAAAAAAAAAAAAAAAAAAAAAAAAAAAAAAAAAAAAAAAAAAAAAAAAAAAAAAAAAAAAAAAAAAAAAAAAAAAAAAAAAAAAAAAAAAAAAAAAAAAAAAAAAAAAAAAAAAAAAAAAAAAAAAAAAAAAAAAAAAAAAAAAAAAAAAAAAAAAAAAAAAAAAAAAAAAAAAAAAAAAAAAAAAAAAAAAAAAAAAAAAAAAAAAAAAAAAAAAAAAAAAAAAAAAAAAAAAAAAAAAAAAAAAAAAAAAAAAAAAAAAAAAAAAAAAAAAAAAAAAAAAAAAAAAAAAAAAAAAAAAAAAAAAAAAAAAAAAAAAAAAAAAAAAAAAAAAAAAAAAAAAAAAAAAAAAAAAAAAAAAAAAAAAAAAAAAAAAAAAAAAAAAAAAAAAAAAAAAAAAAAAAAAAAAAAAAAAAAAAAAAAAAAAAAAAAAAAAAAAAAAAAAAAAAAAAAAAAAAAAAAAAAAAAAAAAAAAAAAAAAAAAAAAAAAAAAAAAAAAAAAAAAAAAAAAAAAAAAAAAAAAAAAAAAAAAAAAAAAAAAAAAAAAAAAAAAAAAAAAAAAAAAAAAAAAAAAAAAAAAAAAAAAAAAAAAAAAAAAAAAAAAAAAAAAAAAAAAAAAAAAAAAAAAAAAAAAAAAAAAAAAAAAAAAAAAAAAAAAAAAAAAAAAAAAAAAAAAAAAAAAAAAAAAAAAAAAAAAAAAAAAAAAAAAAAAAAAAAAAAAAAAAAAAAAAAAAAAAAAAAAAAAAAAAAAAAAAAAAAAAAAAAAAAAAAAAAAAAAAAAAAAAAAAAAAAAAAAAAAAAAAAAAAAAAAAAAAAAAAAAAAAAAAAAAAAAAAAAAAAAAAAAAAAAAAAAAAAAAAAAAAAAAAAAAAAAAAAAAAAAAAAAAAAAAAAAAAAAAAAAAAAAAAAMjAyMjoxMTozMCAyMzoxMTo1NgAyMDIyOjExOjMwIDIzOjExOjU2AAAAQQBkAG0AaQBuAAAA/+ELGGh0dHA6Ly9ucy5hZG9iZS5jb20veGFwLzEuMC8APD94cGFja2V0IGJlZ2luPSfvu78nIGlkPSdXNU0wTXBDZWhpSHpyZVN6TlRjemtjOWQnPz4NCjx4OnhtcG1ldGEgeG1sbnM6eD0iYWRvYmU6bnM6bWV0YS8iPjxyZGY6UkRGIHhtbG5zOnJkZj0iaHR0cDovL3d3dy53My5vcmcvMTk5OS8wMi8yMi1yZGYtc3ludGF4LW5zIyI+PHJkZjpEZXNjcmlwdGlvbiByZGY6YWJvdXQ9InV1aWQ6ZmFmNWJkZDUtYmEzZC0xMWRhLWFkMzEtZDMzZDc1MTgyZjFiIiB4bWxuczpkYz0iaHR0cDovL3B1cmwub3JnL2RjL2VsZW1lbnRzLzEuMS8iLz48cmRmOkRlc2NyaXB0aW9uIHJkZjphYm91dD0idXVpZDpmYWY1YmRkNS1iYTNkLTExZGEtYWQzMS1kMzNkNzUxODJmMWIiIHhtbG5zOnhtcD0iaHR0cDovL25zLmFkb2JlLmNvbS94YXAvMS4wLyI+PHhtcDpDcmVhdGVEYXRlPjIwMjItMTEtMzBUMjM6MTE6NTYuODc1PC94bXA6Q3JlYXRlRGF0ZT48L3JkZjpEZXNjcmlwdGlvbj48cmRmOkRlc2NyaXB0aW9uIHJkZjphYm91dD0idXVpZDpmYWY1YmRkNS1iYTNkLTExZGEtYWQzMS1kMzNkNzUxODJmMWIiIHhtbG5zOmRjPSJodHRwOi8vcHVybC5vcmcvZGMvZWxlbWVudHMvMS4xLyI+PGRjOmNyZWF0b3I+PHJkZjpTZXEgeG1sbnM6cmRmPSJodHRwOi8vd3d3LnczLm9yZy8xOTk5LzAyLzIyLXJkZi1zeW50YXgtbnMjIj48cmRmOmxpPkFkbWluPC9yZGY6bGk+PC9yZGY6U2VxPg0KCQkJPC9kYzpjcmVhdG9yPjwvcmRmOkRlc2NyaXB0aW9uPjwvcmRmOlJERj48L3g6eG1wbWV0YT4NCiAgICAgICAgICAgICAgICAgICAgICAgICAgICAgICAgICAgICAgICAgICAgICAgICAgICAgICAgICAgICAgICAgICAgICAgICAgICAgICAgICAgICAgICAgICAgICAgICAgICAKICAgICAgICAgICAgICAgICAgICAgICAgICAgICAgICAgICAgICAgICAgICAgICAgICAgICAgICAgICAgICAgICAgICAgICAgICAgICAgICAgICAgICAgICAgICAgICAgICAgIAogICAgICAgICAgICAgICAgICAgICAgICAgICAgICAgICAgICAgICAgICAgICAgICAgICAgICAgICAgICAgICAgICAgICAgICAgICAgICAgICAgICAgICAgICAgICAgICAgICAgCiAgICAgICAgICAgICAgICAgICAgICAgICAgICAgICAgICAgICAgICAgICAgICAgICAgICAgICAgICAgICAgICAgICAgICAgICAgICAgICAgICAgICAgICAgICAgICAgICAgICAKICAgICAgICAgICAgICAgICAgICAgICAgICAgICAgICAgICAgICAgICAgICAgICAgICAgICAgICAgICAgICAgICAgICAgICAgICAgICAgICAgICAgICAgICAgICAgICAgICAgIAogICAgICAgICAgICAgICAgICAgICAgICAgICAgICAgICAgICAgICAgICAgICAgICAgICAgICAgICAgICAgICAgICAgICAgICAgICAgICAgICAgICAgICAgICAgICAgICAgICAgCiAgICAgICAgICAgICAgICAgICAgICAgICAgICAgICAgICAgICAgICAgICAgICAgICAgICAgICAgICAgICAgICAgICAgICAgICAgICAgICAgICAgICAgICAgICAgICAgICAgICAKICAgICAgICAgICAgICAgICAgICAgICAgICAgICAgICAgICAgICAgICAgICAgICAgICAgICAgICAgICAgICAgICAgICAgICAgICAgICAgICAgICAgICAgICAgICAgICAgICAgIAogICAgICAgICAgICAgICAgICAgICAgICAgICAgICAgICAgICAgICAgICAgICAgICAgICAgICAgICAgICAgICAgICAgICAgICAgICAgICAgICAgICAgICAgICAgICAgICAgICAgCiAgICAgICAgICAgICAgICAgICAgICAgICAgICAgICAgICAgICAgICAgICAgICAgICAgICAgICAgICAgICAgICAgICAgICAgICAgICAgICAgICAgICAgICAgICAgICAgICAgICAKICAgICAgICAgICAgICAgICAgICAgICAgICAgICAgICAgICAgICAgICAgICAgICAgICAgICAgICAgICAgICAgICAgICAgICAgICAgICAgICAgICAgICAgICAgICAgICAgICAgIAogICAgICAgICAgICAgICAgICAgICAgICAgICAgICAgICAgICAgICAgICAgICAgICAgICAgICAgICAgICAgICAgICAgICAgICAgICAgICAgICAgICAgICAgICAgICAgICAgICAgCiAgICAgICAgICAgICAgICAgICAgICAgICAgICAgICAgICAgICAgICAgICAgICAgICAgICAgICAgICAgICAgICAgICAgICAgICAgICAgICAgICAgICAgICAgICAgICAgICAgICAKICAgICAgICAgICAgICAgICAgICAgICAgICAgICAgICAgICAgICAgICAgICAgICAgICAgICAgICAgICAgICAgICAgICAgICAgICAgICAgICAgICAgICAgICAgICAgICAgICAgIAogICAgICAgICAgICAgICAgICAgICAgICAgICAgICAgICAgICAgICAgICAgICAgICAgICAgICAgICAgICAgICAgICAgICAgICAgICAgICAgICAgICAgICAgICAgICAgICAgICAgCiAgICAgICAgICAgICAgICAgICAgICAgICAgICAgICAgICAgICAgICAgICAgICAgICAgICAgICAgICAgICAgICAgICAgICAgICAgICAgICAgICAgICAgICAgICAgICAgICAgICAKICAgICAgICAgICAgICAgICAgICAgICAgICAgICAgICAgICAgICAgICAgICAgICAgICAgICAgICAgICAgICAgICAgICAgICAgICAgICAgICAgICAgICAgICAgICAgICAgICAgIAogICAgICAgICAgICAgICAgICAgICAgICAgICAgICAgICAgICAgICAgICAgICAgICAgICAgICAgICAgICAgICAgICAgICAgICAgICAgICAgICAgICAgICAgICAgICAgICAgICAgCiAgICAgICAgICAgICAgICAgICAgICAgICAgICAgICAgICAgICAgICAgICAgICAgICAgICAgICAgICAgICAgICAgICAgICAgICAgICAgICAgICAgICAgICAgICAgICAgICAgICAKICAgICAgICAgICAgICAgICAgICAgICAgICAgICAgICAgICAgICAgICAgICAgICAgICAgICAgICAgICAgICAgICAgICAgICAgICAgICAgICAgICAgICAgICAgICAgICAgICAgIAogICAgICAgICAgICAgICAgICAgICAgICAgICAgPD94cGFja2V0IGVuZD0ndyc/Pv/bAEMABwUFBgUEBwYFBggHBwgKEQsKCQkKFQ8QDBEYFRoZGBUYFxseJyEbHSUdFxgiLiIlKCkrLCsaIC8zLyoyJyorKv/bAEMBBwgICgkKFAsLFCocGBwqKioqKioqKioqKioqKioqKioqKioqKioqKioqKioqKioqKioqKioqKioqKioqKioqKv/AABEIANIDIAMBIgACEQEDEQH/xAAfAAABBQEBAQEBAQAAAAAAAAAAAQIDBAUGBwgJCgv/xAC1EAACAQMDAgQDBQUEBAAAAX0BAgMABBEFEiExQQYTUWEHInEUMoGRoQgjQrHBFVLR8CQzYnKCCQoWFxgZGiUmJygpKjQ1Njc4OTpDREVGR0hJSlNUVVZXWFlaY2RlZmdoaWpzdHV2d3h5eoOEhYaHiImKkpOUlZaXmJmaoqOkpaanqKmqsrO0tba3uLm6wsPExcbHyMnK0tPU1dbX2Nna4eLj5OXm5+jp6vHy8/T19vf4+fr/xAAfAQADAQEBAQEBAQEBAAAAAAAAAQIDBAUGBwgJCgv/xAC1EQACAQIEBAMEBwUEBAABAncAAQIDEQQFITEGEkFRB2FxEyIygQgUQpGhscEJIzNS8BVictEKFiQ04SXxFxgZGiYnKCkqNTY3ODk6Q0RFRkdISUpTVFVWV1hZWmNkZWZnaGlqc3R1dnd4eXqCg4SFhoeIiYqSk5SVlpeYmZqio6Slpqeoqaqys7S1tre4ubrCw8TFxsfIycrS09TV1tfY2dri4+Tl5ufo6ery8/T19vf4+fr/2gAMAwEAAhEDEQA/APom706yv9n26zt7nZnZ50Svtz1xkcdBVb/hHdF/6A9h/wCAqf4Vo0UAZ3/CO6L/ANAew/8AAVP8KP8AhHdF/wCgPYf+Aqf4Uy5tYbzXNlwGZVtgQA5AB3H0NS/2JYf88m/7+v8A40AN/wCEd0X/AKA9h/4Cp/hR/wAI7ov/AEB7D/wFT/Cnf2JYf88m/wC/r/40f2JYf88m/wC/r/40AN/4R3Rf+gPYf+Aqf4Uf8I7ov/QHsP8AwFT/AAp39iWH/PJv+/r/AONH9iWH/PJv+/r/AONADf8AhHdF/wCgPYf+Aqf4Uf8ACO6L/wBAew/8BU/wp39iWH/PJv8Av6/+NH9iWH/PJv8Av6/+NADf+Ed0X/oD2H/gKn+FH/CO6L/0B7D/AMBU/wAKd/Ylh/zyb/v6/wDjR/Ylh/zyb/v6/wDjQA3/AIR3Rf8AoD2H/gKn+FH/AAjui/8AQHsP/AVP8Kd/Ylh/zyb/AL+v/jR/Ylh/zyb/AL+v/jQA3/hHdF/6A9h/4Cp/hR/wjui/9Aew/wDAVP8ACnf2JYf88m/7+v8A40f2JYf88m/7+v8A40AN/wCEd0X/AKA9h/4Cp/hR/wAI7ov/AEB7D/wFT/Cnf2JYf88m/wC/r/40f2JYf88m/wC/r/40AN/4R3Rf+gPYf+Aqf4Uf8I7ov/QHsP8AwFT/AAp39iWH/PJv+/r/AONH9iWH/PJv+/r/AONADf8AhHdF/wCgPYf+Aqf4Uf8ACO6L/wBAew/8BU/wp39iWH/PJv8Av6/+NH9iWH/PJv8Av6/+NADf+Ed0X/oD2H/gKn+FH/CPaL/0B7D/AMBU/wAKq3Wk2aahZRrG4SRn3jzX5wpI71b/ALD0/wD54t/39f8AxoAT/hHtG/6BFh/4DJ/hR/wj2jf9Aiw/8Bk/wpf7C0//AJ4t/wB/n/xoGh6eOkL/APf5/wDGgBP+Ee0b/oEWH/gMn+FH/CPaN/0CLD/wGT/Cnf2JYf8APJ/+/wA/+NH9iWH/ADyf/v8AP/jQA3/hHtG/6BFh/wCAyf4Uf8I9o3/QIsP/AAGT/Cnf2JYf88n/AO/z/wCNH9iWH/PJ/wDv8/8AjQA3/hHtG/6BFh/4DJ/hR/wj2i/9Aiw/8BU/wp39iWH/ADyf/v8AP/jR/Ylh/wA8n/7/AD/40AN/4R7Rf+gRYf8AgKn+FH/CPaL/ANAiw/8AAVP8Kd/Ylh/zyf8A7/P/AI1Um0mzXVbaIRvseKQkec/JBXHf3NAFn/hHtF/6BFh/4Cp/hR/wj2i/9Aiw/wDAVP8ACl/sSx/55P8A9/n/AMaP7Esf+eT/APf5/wDGgBP+Ee0X/oEWH/gKn+FH/CPaL/0CLD/wFT/Cl/sSx/55P/3+f/Gj+xLH/nk//f5/8aAE/wCEe0X/AKBFh/4Cp/hR/wAI9ov/AECLD/wFT/Cl/sSx/wCeT/8Af5/8aP7Esf8Ank//AH+f/GgBP+Ee0X/oEWH/AICp/hR/wj2i/wDQIsP/AAFT/Cl/sSw/55P/AN/n/wAaX+xLD/nk/wD3+f8AxoAb/wAI9ov/AECLD/wFT/Cj/hHtF/6BFh/4Cp/hTv7EsP8Ank//AH+f/Gj+xLD/AJ5P/wB/n/xoAb/wj2i/9Aiw/wDAVP8ACj/hHtF/6BFh/wCAqf4VVOk2f9trB5b+X9nL481+u4DPWrf9h2H/ADyf/v8AP/jQAn/CPaL/ANAiw/8AAVP8KP8AhHtF/wCgRYf+Aqf4U7+xLD/nk/8A3+f/ABpP7DsP+eT/APf5/wDGgBP+Ee0X/oEWH/gKn+FH/CPaL/0CLD/wFT/Cnf2JYf8APJ/+/wA/+NH9iWH/ADyf/v8AP/jQA3/hHtF/6BFh/wCAqf4Uf8I9o3/QIsP/AAGT/Cnf2JYf88n/AO/z/wCNH9iWH/PFv+/r/wCNADf+Ee0b/oEWH/gMn+FH/CPaN/0CLD/wGT/Cnf2JYf8APFv+/r/40f2JYf8APFv+/r/40AN/4R7Rv+gRYf8AgMn+FH/CPaN/0CLD/wABk/wp39iWH/PFv+/r/wCNVF0mzOsSwmN/LWBGC+a/BLMCevsKALP/AAj2jf8AQIsP/AZP8KP+Ee0b/oEWH/gMn+FO/sSw/wCeTf8Af1/8aP7EsP8Ank3/AH9f/GgBv/CPaN/0CLD/AMBk/wAKP+Ee0X/oEWH/AIDJ/hTv7EsP+eT/APf5/wDGj+xLD/nk/wD3+f8AxoAb/wAI9ov/AEB7D/wFT/Cj/hHtF/6BFh/4Cp/hS/2HYf8APJ/+/wA/+NL/AGJYf88X/wC/z/40AN/4R7Rf+gRYf+Aqf4Uf8I9ov/QIsP8AwFT/AAp39iWH/PF/+/z/AONH9iWH/PF/+/z/AONADf8AhHtF/wCgRYf+Aqf4Uf8ACPaL/wBAiw/8BU/wp39iWH/PF/8Av8/+NH9iWH/PF/8Av8/+NADf+Ee0X/oEWH/gKn+FH/CPaL/0CLD/AMBU/wAKq2+lWb6peRMjlI1j2jzX4yDnvVz+xLD/AJ5P/wB/n/xoAb/wj2i/9Aiw/wDAVP8ACj/hHtF/6BFh/wCAqf4U7+xLD/nk/wD3+f8Axo/sSw/55P8A9/n/AMaAG/8ACPaL/wBAiw/8BU/wo/4R7Rf+gRYf+Aqf4U7+xLD/AJ5P/wB/n/xo/sSw/wCeT/8Af5/8aAG/8I9ov/QIsP8AwFT/AAo/4R7Rf+gRYf8AgKn+FO/sSw/55P8A9/n/AMaP7EsP+eT/APf5/wDGgBv/AAjui/8AQHsP/AVP8KP+Ed0X/oD2H/gKn+FO/sSw/wCeT/8Af5/8aP7EsP8Ank//AH+f/GgBv/CO6L/0B7D/AMBU/wAKP+Ed0X/oD2H/AICp/hTv7EsP+eT/APf5/wDGqlrpNnJe3yPG5WORQo81+BsU+vqTQBZ/4R3Rf+gPYf8AgKn+FH/CO6L/ANAew/8AAVP8Kd/Ylh/zyf8A7/P/AI0f2JYf88n/AO/z/wCNADf+Ed0X/oD2H/gKn+FH/CO6L/0B7D/wFT/Cnf2JYf8APJ/+/wA/+NH9iWH/ADyf/v8AP/jQA3/hHdF/6A9h/wCAqf4Uf8I7ov8A0B7D/wABU/wp39iWH/PJ/wDv8/8AjR/Ylh/zyf8A7/P/AI0AN/4R3Rf+gPYf+Aqf4Uf8I7ov/QHsP/AVP8Kd/Ylh/wA8n/7/AD/40f2JYf8APJ/+/wA/+NADf+Ed0X/oD2H/AICp/hR/wjui/wDQHsP/AAFT/Cnf2JYf88n/AO/z/wCNH9i2H/PJ/wDv8/8AjQA3/hHdF/6A9h/4Cp/hR/wjui/9Aew/8BU/wqrp+lWcr3nmI52XDIv71+Bgcdauf2JYf88n/wC/z/40AN/4R3Rf+gPYf+Aqf4Uf8I7ov/QHsP8AwFT/AAp39iWH/PJ/+/z/AONH9iWH/PJ/+/z/AONADf8AhHdF/wCgPYf+Aqf4Uf8ACO6L/wBAew/8BU/wp39iWH/PJ/8Av8/+NH9iWH/PJ/8Av8/+NADf+Ed0X/oD2H/gKn+FH/CO6L/0B7D/AMBU/wAKd/Ylh/zyf/v8/wDjR/Ylh/zyf/v8/wDjQA3/AIR3Rf8AoD2H/gKn+FH/AAjui/8AQHsP/AVP8Kd/Ylh/zyf/AL/P/jR/Ylh/zyf/AL/P/jQA3/hHdF/6A9h/4Cp/hR/wjui/9Aew/wDAVP8ACnf2JYf88n/7/P8A40mjKI7ORFztS4lVcsTgBzgZNAGhRRRQBR/5mBv+vUf+hmr1UR/yMDf9eo/9DNXqACiiigAooooAKKKKACiiigAooooAKKKKACiiigAooooAKKKKAKF5/wAhbTv96T/0A1fqhef8hbTv96T/ANANReJ9QGleFdTvjfw6d9ntZHF5NGZEgIU4coOWwew69KANSs/Rdc0/xDp7XukXH2i3WaSAvsZfnRirDBAPBBGa8V0LX9Y0/wAZeEXtr/xjcW2rXRt7yXxAqJbXeYyweGLO5ORkcAYwMmqWj6frWk/CrW/GWl+K9RtLjS9RvZ7bTw6/ZCiXDbo5I8fOX+bknIyuOnIB9D0V5TZpq/xJ8VeIc+JtV0Gz0loLeztNNkEbB2hWQyykgl+WwF4GB+NVfAfjTXPEev8Agx9SvSwvNJ1D7WkXEVxJDcLGsu0cZIUn8TigD1bUdUstJtluNSuo7aJpEiVpGxud2Cqo9SSQMVarwDxXPf8AiPTNZiu9Yv1Sx8eQWlv5EwXy4yYgAOD90klfQ171awfZrSGDzZJvKRU8yVsu+BjLHuT1NAEtFFFABVGf/kOWf/XGX+aVeqjP/wAhyz/64y/zSgB2r6tZaHpNxqeqTeRaWyb5ZNpbaPXAyatLIrRh1PyldwPtXJfFc4+FPiA8f8eh6/UVhJHq3hDxN4XVvEV9q0WuM9rdw3bhlDiEuJIgB8gBXGBxg120sMqlHnUtbvTvZJmcp2djv9H1ey13SYNS0uUzWlwCY5ChXcASDwQCOQanurqGys5rq5fZDBG0kjYztVRknj2FeNaRf+IPFFr4G05vEeoWP9p2V7Je3Ns4EsnluNuCRwegz6Zq69tq/ibSPGF5J4m1G1GivPp9rbq6+WywxDc864+cvkknjGeK3eXqMrSnZfP+blJ9rdaI9W0+/t9U023v7GTzLa5iWWJ8EblYZBweRwasVgeA/wDknvh/HA/s23/9Fit+vPqRUJuK6M1i7pMKKKKzGFFFFAFA/wDIxr/16H/0MUmu67p3hrR5dV1q4+zWULIry7GbBZgi8AE8swH40p/5GJf+vU/+hiuL+O4Y/BnWBGdrmW1CtjOD9piwaAPQ6K8i1C71j4ceNET/AISHU9etrrQr6+ng1KQOPOt1Dhk2gbAckbRxXM6D4g8Zva6D4ith4uu729ngkvlvfs66XPBKRuWJd+UwCNhAye45xQB9B0V4B4x8RapI3inU9I17xbfXGlzTG2n0iBLfS7IRf8spC5/fEY+cjOewroLdtd8Y/EmOCXxLqmmadBoNlqUttp0ix+bM5YkZIOFIByO/HpQB6frmuaf4b0WfVtZuPs1lb7fNl2ltu5go4AJ6kCtCvnLxFDrPiv4DXnjvUPE+oebfyh30pZF+xpD9qCLCqYyGXAO/OSRg9a+jaACiiigAqin/ACME/wD17R/+hPV6qKf8jBP/ANe0f/oT0AJrGuafoNrDcarOYYpriO2jIRm3SSNtRcKD1J69Kv1xfxP1W+0nQNLm026ltpJdasoHaI4LRvKAy/QjivO/EeseI9K8TavqGv6v4k0u2i1I/wBn6ppipeaXBbqwAS4gU7gcZDE856e4B7xRTYpFlhSSNg6uoZWXoQe4p1ABRRRQAUUUUAFFFFAFC1/5DV//ALsX8jUmoapY6VHC+o3UVstxOlvEZGx5krnCoPUk9qjtf+Q1f/7sX8jXA/GvTDqVp4SUX97Z58SWcObSUIRvYjfyD8y4yp7EnrQB3un67p2qalqNhY3Hm3OmSrDdpsYeW7KGAyRg8EHjNaFeHxeHNQ1Hxd8SLi08T6tpa6fLC8K2MqxmWZbRSHlO3LjgfLwDk/hUufG3iHxNeeGNKkPiBoJvDcOq3v8AwjQijuZ5nbZks7DbGMZ+XqWx06AHvdFcP8LNR1+80G/t/E0d35llfPDazXwjFxLBgFPNEZK+YMkH1wDXcUAFFFFABRRRQAVRsv8AkI6j/wBdk/8ARa1eqjZf8hHUf+uyf+i1oAvUVwnjvXLnwr4t8MazcX7waFJJPZajEW/d7miLxOR6hoyM/wC1Xm3h3x14q1HS08NalqM8Wu65rFlcW00b/vILC4Tz2257Ikbr7bsUAfQlFeIrceIfEPgPxB8Qo/Fup6fd2Mt5LY6dC6i0iit2YCOSMj5ywQ5JP8Qx05n0q/1zxt48uLuXX9U0zTrLRtO1X+zrCUIskskZcoSQTsIDAjvkelAHq+ua7p3hvSn1LWbj7PaI6RtJsZsM7BFGFBPLMBWhXzpr9prOv/BW18ban4p1CebUry2muNNDr9jEbXShYkjxlSpCndnJwc5zX0XQAUUUUAFFFFAFDS/9Zff9fbf+grV+qGl/6y+/6+2/9BWuT8a6ze+FvG3hjV5L2RNCvJX0y/hZv3aPIN0MuOx3KVJ9CKAO7orxCy8ReI/Esmg241q80y28a6rezwzRECW1sIEzHFHkEKzhdxbrzmoPFmu+IfBNl4y8PWviK/vo7PTrTUbG+uZA1zbeZcLG8bSY+YHkjIyAcUAe7UVxOv6rfW3xh8IabBdSR2d3aX73ECt8shRY9pI9snFdtQAUUUUAFFFFABVHSf8Aj3n/AOvqb/0M1eqjpP8Ax7z/APX1N/6GaAL1FFFAFEf8jC3/AF6j/wBDNXqy57u3tNfJuZo4g1qMF2Az85qf+2dM/wCf+3/7+igC7RVL+2tM/wCf+2/7+ij+2tM/5/7b/v6KALtFUv7a0z/n/tv+/oo/trTP+f8Atv8Av6KALtFUv7a0z/n/ALb/AL+ij+2tM/5/7b/v6KALtFUv7a0z/n/tv+/oo/trTP8An/tv+/ooAu0VS/trTP8An/tv+/oo/trTP+f+2/7+igC7RVL+2tM/5/7b/v6KP7a0z/n/ALb/AL+igC7RVL+2tM/5/wC2/wC/oo/trTP+f+2/7+igC7RVL+2tM/5/7b/v6KP7a0z/AJ/7b/v6KALtFUv7a0z/AJ/7b/v6KP7a0z/n/tv+/ooAbef8hbTv96T/ANANO1nSLLXtGu9K1SHz7O8haKaPJG5SPUcg+4qldarYPqlgy3tuVVpCxEg4+Q1d/tnTf+f+3/7+igDkrL4SaJbajpl/calreoXekzLJYyXuoNL5AAxsUdNp4zxk4HNV1+CvhhZHRp9WksJro3dxpr37m1uJS27c8fQ4OOOh2jOcV2v9s6b/AM/9v/39FH9s6b/z/wBv/wB/RQBzev8Awy0XXtbn1YXeqaXeXcSw3r6Zetbi8RRgLIB97A4zwccZp2p/DLw/fafpFtZfbNGbRkaOxuNLuWglhRhhl3c5DY5zkk/U10X9s6b/AM/9v/39FH9s6b/z/wBv/wB/RQBysfwl8Mw+F7/QYRfJa314t88v2tjMk424kWQ8hsqDk55JrsbK2FlYW9qJZpxBEsYlnffI+Bjczd2OMk9zUH9s6b/z/wBv/wB/RR/bOm/8/wDb/wDf0UAXaKpf2zpn/P8A23/f0Un9taZ/0ELb/v6KAL1UZ/8AkOWf/XGX+aUf21pn/QQtv+/oqpNq2nHWLRxfW+0RSgnzRxyn+FAFnXdFtPEWh3Wk6iHNrdp5cojbaxHse1Y2jfD3SNF1aLUEm1C8mtoTBaC+u2mW0jIwVjB+7xxnk44rc/trTP8An/tv+/oo/trTP+f+2/7+itY1qkIOEZWTJcU3dmRpPgTR9Gl0d7IXAOjQzQ2u+XPyynL7vXkcelVdZ+Guh61qF7dTSX9sNQUC+t7S7aKK7wMAyKOpx9M9810P9taZ/wA/9t/39FH9taZ/z/23/f0VSxFaMuZSd/8Ag3/PUOWNrWH6Xp0GkaTaadabvItIVhj3tk7VGBk9zxVqqP8AbWmf8/8Abf8Af0Uf21pn/QQtv+/orFtt3ZReoqj/AG1pn/QQtv8Av6KP7a0z/oIW3/f0UgL1FUf7a0z/AKCFt/39FL/bWmf8/wDb/wDf0UANP/IxL/16n/0MVB4m8OWHi3w/Po2reabSdo2fyn2tlHVxg/VRUZ1XT/7eWT7bb7fspGfMGM7xV3+2dNIz9vt/+/ooAq33hnTtS8R2Ot3aO91YwTW8Slv3ZSXAcMvf7ornLD4Q+G9Pv7SVJtUmsbG4+02elXF88lnbSZJDJGfQkkZJAya63+2dN/5/7f8A7+ij+2dN/wCf+3/7+igDj734PeHL99QjlutYTTtRlee40uLUHS1aVuS+wd93zYzjIHHFb+jeD9N0PVf7Rs2uGuP7Pg04mWTcDFDnaen3ueT3rQ/trTP+f+2/7+ij+2tM/wCghbf9/RQBxmpfBbwxqcl0ks+rQ2NzObltNgv3S1WYnJkWPoDn8PavQapf21pn/P8A2/8A38FH9s6b/wA/9v8A9/BQBdoql/bOm/8AP/b/APfwUf2zpv8Az/2//fwUAXaop/yME/8A17R/+hPS/wBtaZ/z/wBv/wB/RVNNW0/+3JpPttvsNugDeYMZ3Px+tAEniDw7Y+JbO3ttS83y7e6iu08p9p8yNty8+mRXN3/wk8PahqN7O1xqsFnqE/2m+0u3vmjtLqQnLM8Y/vEAnBGa6z+2dN/5/wC3/wC/oo/tnTf+f+3/AO/ooAtoixxqkahUUAKoGAB6U6qX9s6b/wA/9v8A9/RR/bOm/wDP/b/9/RQBdoql/bOm/wDP/b/9/RR/bOm/8/8Ab/8Af0UAXaKpf2zpv/P/AG//AH9FH9s6Z/z/ANv/AN/RQBdoql/bWmf9BC2/7+ij+2tM/wCf+3/7+igBtr/yGr//AHYv5Gqnivwpp3jHR107VWuI0jnS4hmtZTFLDKhyrqw6EUW+q6eurXztfW4VliwfNHPBq7/bOm/8/wDbf9/RQBm6f4O03Tf7YML3Mj6yFF48su5m2xCLIPYlRyfXmsq6+Fmgz6fo8FtPqOnXOjWwtbS/sbsw3CxYwUZwPmB9CPXGMmun/tnTf+f+3/7+ij+2dN/5/wC3/wC/ooAp+GPCul+ENJaw0aKRUklaeeWaQySzyt96R3PLMfWtmqX9s6b/AM/9v/39FH9s6b/z/wBv/wB/BQBdoql/bOm/8/8Ab/8AfwUf2zpv/P8A2/8A39FAF2iqX9s6Z/0ELb/v6KP7Z0z/AJ/7f/v6KALtUbL/AJCOo/8AXZP/AEWtL/bOm/8AP/b/APf0VTtNV09b+/Zr2ABpVKkyDn92ooATxb4U0zxr4bn0TXEd7OdlZvLbawKsGBB7dPyzVceBdDXxlZeJ0t2XUbGy+wwFWwixc449QCRn0Nav9sab/wA/1v8A9/BR/bWmf8/9t/39FAHJX/wh8N6hqN3M0uqQWd/P9ovdLt7547O6kzks8Q9SATgjOBXR2HhjTtN8R3+t2iOl1fQQwSqG/dhIgQgVe3Bq1/bWmf8AP/bf9/RR/bWmf8/9t/39FAHFXPwU8L3LtGbjVorD7T9qj0yK/cWsMu7cXSPoDnPHQbjgCvQqpf21pn/P/bf9/RR/bWmf8/8Abf8Af0UAXaKpf21pn/P/AG3/AH9FH9taZ/z/ANt/39FAF2iqX9taZ/z/ANt/39FH9s6Z/wA/9t/39FADdL/1l9/19t/6Ctcl8WNI1bxT4aXwtpWjLeRaq6pPfyTKsdgFdG3lSdzHAONvcc+h6LT9W09JL3ffW43XLEZkHIwvNXTrOmf8/wDbf9/RQBkav4E0TWfDun6PNHNbxaZ5ZsJ7WUxTWrIu1WRxyDjj0qnZfDDw7baLq+n3SXWpnWlC6hd39w0txcADCgv1G3tjGK6L+2tM/wCghbf9/RR/bWmf8/8Abf8Af0UAc1oXwv0bQ/EFprYv9Y1HUbOJ4YZ9Rv2nKxsMbMHgAc4xjknOa7OqP9taZ/z/ANt/39FH9taZ/wA/9t/39FAF6iqP9taZ/wA/9t/39FH9taZ/z/23/f0UAXqKo/21pn/P/bf9/RR/bWmf8/8Abf8Af0UAXqo6T/x7z/8AX1N/6GaP7a0z/n/tv+/opujSJLZyyRMHRrmYqynII3mgDQooooAoYz4hbP8Az6j/ANDNXtq/3R+VUR/yMTf9eo/9DNXzwKAE2r/dH5UbV/uj8q4rwJ8TbDx1q+r2NpaSWv2F91tJI+Rewb2QTJwPl3IR37c1o+HfGtlrt1qtvMI7GWw1abTI0lnXdcNGFO5Rx13dOelAHSbV/uj8qNq/3R+VQ3d9aWEQkvrqG2jJ2hppAgJ9MmpDPEGjUyoDL/qxuHz8Z49eKAHbV/uj8qNq/wB0flWJ4r8W6b4Q8N32s6ixkisgvmRQkGQliAowSOufyya1XvIEsWvDKhgWMyGQMCu0DOc9KAJtq/3R+VG1f7o/KuIsfihp2pf8InJa2ri28S/aCsksqqbURRmQ7wMjJA6Z4zXZW95bXdsLi0uIp4D0licMp/EcUAS7V/uj8qNq/wB0flUNpf2l/Gz2N1Bcop2s0MgcA+hxWVq3iaHSPEukaTPF8uprO32hpAqwiJAxznrnPtirhCU3aKv/AMATdjb2r/dH5UbV/uj8qzNU1eS10lL3SrVdU3yxoqRXCICrMAWDHg4BJx3xirpvbVZ1ga5hErEqsZkG5iOoA60uSVr2C6Jtq/3R+VG1f7o/KsDWvFtppN5pdtEEvJL/AFFLBhFMMwFlY7mHP93px1roKcoSik5LcLpibV/uj8qNq/3R+Vctqnj/AE7TdU13TViea70XSzqUq71USDDkRrzndhOeOMitTw/4is9f0mwuopIo7i7s4rtrTzVaSISIGAI68ZxnFQM1dq/3R+VG1f7o/KoH1CzjvUs5LuBbpxlYGkAdh6hepqxQBn3gH9racMDG6Tt/sGr2xf7o/KqV5/yFtO/3pP8A0A1eZlRCzkKqjJJOABQAbV/uj8qNo9B+Vcf4Y+JWj+L/ABhqWi6AftcGn26Stfo37uVi5UqnHzAY+8DgnOOma7GgBNo9B+VG0eg/KlooATaPQflRtHoPypaKAE2r/dH5UbF/uj8qWigBNi/3R+VUZ1A1uzAA/wBTL290q/VGf/kOWf8A1xl/mlAF3avoPyo2r/dH5VV1XUYdI0e81G6/1NpA8z/RVJP8q53w54s1vXbm0Nz4PvNOsbmLzReS3cTBQV3LlQd3PA6cZrWNGcoOa2XmhcyTsdZtX+6Pyo2r/dH5UtFZDE2r/dH5UbV/uj8qWigBNq/3R+VG1f7o/KlooATav90flRtX+6PypaKAM8gf8JEowMfZD2/2xV/avoPyqif+RjX/AK9D/wChiptRv4dL0+W8ud3lxjkKMknOAB7k0AWNq+g/Kjav90flWTYa5JPqK2OoWElhPJH5sIdw4kUdeR0I9K16AE2r/dH5UbV/uj8qWigBNq+g/Kjav90flS0UAJtX+6Pyo2r/AHR+VLRQAmxf7o/KqKKv9vz8D/j2j7f7T1fqin/IwT/9e0f/AKE9AF3av90flRtX+6PyqpqmpRaVYNcyqz8hUjT7zsTgKPqar6drD3V9JY31m9ldJGJRGzhw6HjII9DwaANPav8AdH5UbV/uj8qWigBNq/3R+VG1f7o/KlooATav90flRtX+6PypaKAE2r/dH5UbF/uj8qWigChagHWb8YH3Yu3savbV/uj8qo2v/Iav/wDdi/kazfGPi6Lwlp1rKLK41G9v7lbOxsrfAaeZgSBuPCjAJLHgAUAdBtX+6Pyo2r/dH5VyvhfxrNrWt3ug65os2h61ZwpcNavOs6SwsSBIki8EZGDwMGuroATaPQflRtHpS0UAJtHpRtHpS0UAJsX+6Pyo2r6D8qWigBNq/wB0flVGzA/tDUBgf65P/Ra1fqjZf8hHUf8Arsv/AKLWgC7tX0H5UbV/uj8qo6rqq6ZHCFha4uLiTy4YUIBduvU9AB3pul6t/aD3EE9u1rd2zASwMwbAPIII6g0AaGxf7o/KjYvoPypaKAE2L6D8qNi+g/KlooATYvoPyo2L6D8qWigBNi+g/KjYv90flS0UAZ+mKpkvsgH/AEpuo/2Vq/sX+6Pyqjpn+svv+vpv/QVpuqat/Z8lvBBbPdXdyxEUKMFzjkkk9AKANDYv90flRsX+6PyqjpWqrqccweFre4t5PLmgcglG69R1BHQ1foATYv8AdH5UbF/uj8qWigBNi/3R+VGxf7o/KlooATYv90flSbF/ur+VOooAbsX+6v5VS0ji2n/6+pv/AEYav1R0r/j3n/6+pv8A0Y1AF6iiigCgP+Rib/r1H/oZrm/ivr8+hfD+7TTj/wATTVHXTdPQNgtPMdgx7gEt/wABrpB/yMTf9eo/9DNT3NhZ3skEl5aQXD20nmwNLGGMT9Nyk9Dz1HNAHhc+n+Jfhrqng/xBrGnaPZ6Ro8a6LeS6fdSSO9vKQA8gZFGFk+fg9Wql9h8By2XxVvPExsBrEWq3flPOy+fCoUGFoc8gmTPK8kjBr6CvbK01GzktNQtobu2lADwzxh0fnPKng8gVnzeEvDlxeR3c+gaZJcxSGVJns4y6uerA4zngc+1AHj/h2PTtZ8cQr8WltZbiPwxYPYxauR5Z3ITcvh/l8zeBk9Rg+lZfhW8gsb/wLdz3Jj8P23iPVrfS7q5c7BamIrCNzdi24DPpXvWreH9G1+OOPXdJsdSSI7o1vLZJQh9RuBxT7zRNK1HSxpuoabZ3VioAFrNArxADphSMDHagD5+8bXGk6/p3xhvrR7bUIIptKaKdMSKrooRmU+o+dcj3r3Q2OjXXgeSy023sZ9IezZIoYFVoGTaeFA+UirUHh/RrWzmtLbSLGG2njEUsMdsipIgGArKBggA4ANWrKxtNNsorPTrWG0tYRtjggjCIg9Ao4FAHzn4a0nw3q+g/CKwuILCaznnvXv412hZJ1g3Ylx1bKoCG6jAPFL4xtTokPxG0Xw/HFYaMmr6UbmCPdHBDDLEDKSI+VQkKG29uK9q1/wCH3h/WvDd9pEWmWlgt4HLTWltGjozgB3U7fvEDBPcVb8NeHl0vw7FaamkV3eyW6Q31w48xrrau3MjkZfjj5s8cUAeXeBdPOnfF6y+x3nhO1MumSfabHwykxjniBGySTqisGPDEgkE9c10nxIh0a5+IXgmDxKYfsDyXW5bggRu+xditnggtjg8Hiu40nw7ougLIuhaRY6aJjmQWdskW8++0DNT3+k6dqihdTsLW8CqVAuIVkwD1AyO+Oa6MNWVGpzu+zWm+qaJkrqx4frAsIbPxXbeHzGNBi17SjbrAf3KTmRfOWPHAGduQOM1qjQYJ7j4l69Y2Sz69ZXcy6fMBmSBhbKcx+jfMenPSvWI9E0uLTksItNs0s42DJbLAojVgcghcYyDzn1qxDaW9tJM9tbxRPO/mSsiBTI2MbmI6nAAyfSvQlmXu2iv+D8O/ry6+pn7PueJfZPBdv/wrWfwybMX02oQb2hYebMmwlzL3JD45bkEmvabLU7HUXuUsLyG5a0mMFwIpAxikHVGx0IyOKrQeGtCtrxru30bT4rlpBIZktUDlx0bOM5680zRPDtpoVxqk9qztLql617cMwUfOVVcAKAMAKPcnJJJNcmKxCrtWvpffzdyoR5TybxRZ6La/Evx/JJb2MV/J4Taa2LIgkdzHMJGTuTtADEdutVrbwvovhzQfhJqui2ENpqN1fWiXF5GuJZ1mt2aQO3VgT2PToOK9qu9E0q/vY7y/0yzubqONoknmt0d1RgQyhiMgEEgjvk1I2mWDxWsb2Vs0dmytbIYlIgKjClBj5SBwMdBXEaHy6LKW/wDCniLUNdvPCdnqS6nMbu9vzOdVtZ1k+Ty9nIxhdqqMY/GvqLSzOdIszeP5lx5Cea+wrufaMnB5HPY1Vn8MaDd6wmrXWiadNqUZBS8ktEaZcdMORkY+talAFC8/5C2nf70n/oBq86LIjI6hlYYZSMgj0qje/wDIW07/AHpP/QKv0AeeaNbwWnx61e2tYo4IYvD1okcUahVRRNJgADgCvQ6gWytUvnvUtoVu5EEbziMCRkBJClupAJPHvU9ABRRRQAUUUUAFFFFABVGf/kOWf/XGX+aVeqjP/wAhyz/64y/zSgDK+IH2H/hX+sDWGu1sGtytw1kgaVUJAJAPHA6+2a4exg0nQvH3hWLwNrNzfDUUkF/btftcI9uIiRMwJIQhgoBGOuMV60yh1KsAQRggjg1Q07QNI0iSSTSdKsrF5f8AWNbW6xl/qVAzXbQxKp0nB31vp01VtfQzlG8rmhRQKK4jQKKKKACiiigAooooAoH/AJGNf+vQ/wDoYql4wU/8I68m0ssM0UrgD+FXBP6VdP8AyMa/9eh/9DFXmAZSrAEEYIPegDnri5h1DxjpP2KZZhDDLLI0ZyArAAZI9TXRVXtbC0sQwsrWG3DnLCKMLuPvirFABRRRQAUUUUAFFFFABVFP+Rgn/wCvaP8A9Cer1UU/5GCf/r2j/wDQnoAoeKz5dnY3Lf6m3vopJT/dXJGfwyKjE8V746ha0kWVbexbzXRshSzDaM+vGa33RZI2SRQ6sMFWGQRUVrZWtjGUsraK3UnJWJAoJ/CgCeiiigAooooAKKKKACiiigCha/8AIav/APdi/kaxvH/jjTfAfh9dR1CMXE80wgs7UOqGaZug3Nwg7ljwB+AOza/8hq//AN2L+RpdT0TStajjTWdMs9QSMlkW7t0lCE8EgMDigDifhxb2d1rGo+INT8Q6XrHijUYk+0RaddJLHYwKflhjAJO0E8sep/M+iVmaZ4b0PRZ3m0bRdP0+WRdjyWlqkTMuc4JUDIz2rToAKKKKACiiigAooooAKo2X/IR1H/rsv/otavVRsv8AkI6j/wBdl/8ARa0AZ+uyLa69ol3O2y3SWSNnPCqzJhcmk0qRLvxfq1zbMJIVhhhMinILjcSM+2RW3PBFcwtDcRJLG3DI6gg/gaLe2gtYRFawxwxjokahQPwFAElFFFABRRRQAUUUUAFFFFAFDTP9Zff9fTf+grWdqsiWvjHSbm5ZY4XimhDscAOcED8cVo6Z/rL7/r6b/wBBWrVxbQXkJhuoY5o26pIoYH8DQBi6A63Ova5dwMHt3mjjR15ViqYbB71v0yGCK2hWK3iSKNfuoigAfgKfQAUUUUAFFFFABRRRQAVR0r/j3n/6+pv/AEY1Xqo6V/x7z/8AX1N/6MagC9RRRQBQH/IxN/16j/0M1y3xeuZ7PwA09r5pljvrQqkTFWf9+nyg+/T8a6kf8jE3/XqP/QzWR4/8Pah4n8KNp2kTwW92LmCeOWfO1THIr54Bz93pXVhJRjiISntdXJndxdjHfxjqkVzeaL4u0OOwmudMnu7Q2t4ZFmVF+eMttBVwCORkelZ9h431aODw7onhTw4l5JdaHDfqLq/IEMf3SrOVJY9AD3Jq7J4U8TeINYl1TxM+m20lrp1xZWFvZSO6s8y7WldmUEDgAKAcetWvC3gzUdD1vSby7mtnjsvDsWlyCNmyZVcMWGR93A+vtXa3hYx1Sbttra+v/A+Zl77Zy/jbxrruteAfEt1o+iquhwrNaC/+2FZyyna0qIB9wNkdc969W0wk6TaEnJMCZJ/3RXmmo+BPF8PhfWfCWhXGkto2oPM8NzdPIs0KysWaIqqkHkkBs9D0rrtP1DWIvG/9hyWsTaTb6RHMbpEfcLjft2Fj8pBUEgDkY5xkZyxToqlGNK272ve1lv5lQ5r3ZgeOr/VbL4neEhodr9tuZbe9VbZ5zFETtT53ODwvJ6E+lVdW8Z/2hoklr4g0aS31LTdbs7W5tYL1lUM7qY5VkABZCDnaQM4INbvi7w/4gvPFmh694bewMmlxXCSQXruomEgUbQVBx9089jjg1iy/D7XdRs7y91K6sRq+o6vZ306RFvJhht2G2NTjLHbnkgZJ7V0UpYZ06bqW0Xne/M9/KxD57uxZPxH1FdV1yR9DjTQtAnmiv783XznYm4bI8fMTwCM/xDmsjU/EPibUvEHgh9Z0ZdJtbzVFmhMF4ZDtMT/u5RgYbBzxkcHuK6aHwLJcaF4v0rVJ0EPiC9nmjeAkmJHRVGQQPmBXOOnvWWvhjxvqOpeGRrk2jpZ6DdLM72zyGS7wjIGwVwpwfu5PJPPFFOWFTbikrd7/AMu687/oNqfUvfFm8ubDw1pdxZJLLMms2hWGF9rTHf8Acz79OeKqah4x1BLLXdF8X6IlpdDR576FbK9LJcwqpDoJNoZHGRzjvkVu+PvD2p+JNDtLfRLi2try11CC8SS5BKDy23dAOe3FYN34N8S+I7rVNT8QyabbXb6PPpdha2kjvGhlHzSO7KDyQowBwPesqLoPDxVS11f16W+Q5c3NoFv421g6npnh/wANeHo7s/2Ra3zyXN8VEMT/ACkFipLMMDB785rC8a+Ndd174eatqGmaKIdAkk+zwX63ZW4IWUL52wDhCRj72ec4rsvDnhG+0jxSNSupYHgGh2unFUJLeZEWLHkfd547+1cxeeAfGUfg678F6XdaSdGaVmt7ud5BOIjJ5nlFQpGc8bs9O1b0ZYRVU0o6Nb3+fzWliZKdjtPHzvH8M9feORo3XTZiHUkFTsPIIrnvDnjPW7KPw5b+JNCWz0/Vo47azukuvNkWXy8qJlwMbwpIwTjoa63xTpM2ueDdV0m2ZFmvLOS3RpCQoZlIGcZ45rk7Pwn4s1G68PW3iefS007QJUuFeyZ2kvJUTahIZQEAyScE5NctB0XQcalt367dPmXLm5tDN03xzc6boOjWvhvQGurjVtRv7eGC4v2bY8crZYuwJ2nk47DgVpXPjXxJfNqNppPhuC4bSrdV1Rvt23bO0e5oofl+cqD1OAelJofgDVNMuvDUs9xasNJv9QuZ9jN8y3BcoF46jcM5x7Zqxd+GfFOla7rk3hSXTJLPXWEsovndXtJtmxnXaDvBABwcciui+Ec9Er73d/5v/kdiPfsaHwslkm+Ffh6SaRpXazUs7sSW68kmutrC8E6HceG/BGk6NevHJcWVuIpGiJKkj0yAf0rdrzMTKMq83HZt2+82jflVyhef8hbTv96T/wBANX6oXn/IW07/AHpP/QDV+sCgooooAKKKKACiiigAooooAKoz/wDIcs/+uMv80q9VGf8A5Dln/wBcZf5pQBeooooAKKKKACiiigAooooAKKKKAKB/5GJf+vU/+hir9UD/AMjEv/Xqf/QxV+gAooooAKKKKACiiigAooooAKop/wAjBP8A9e0f/oT1eqin/IwT/wDXtH/6E9AF6iiigAooooAKKKKACiiigAooooAoWv8AyGr/AP3Yv5Gr9ULX/kNX/wDuxfyNX6ACiiigAooooAKKKKACiiigAqjZf8hHUf8Arsv/AKLWr1UbL/kI6j/12X/0WtAF6iiigAooooAKKKKACiiigAooooAoaZ/rL7/r6b/0Fav1Q0z/AFl9/wBfTf8AoK1foAKKKKACiiigAooooAKKKKACqOk/8e8//X1N/wCjDV6qGk/8e8//AF9Tf+jDQBfooooAoD/kYm/69R/6Gav1lXFqt14gKvJMgW1BBilZD98+hqb+yIf+fm9/8C5P8aAL9FUP7Ih/5+b3/wAC5P8AGgaRCP8Al4vf/AuT/GgC/RVH+yYv+fi8/wDAqT/Gj+yYv+fi8/8AAqT/ABoAvUVR/smL/n4vP/AqT/Gk/siH/n5vf/AuT/GgC/RVD+yIf+fm9/8AAuT/ABo/siH/AJ+b3/wLk/xoAv0VQ/siH/n5vf8AwLk/xo/siH/n5vf/AALk/wAaAL9FUP7Ih/5+b3/wLk/xo/siH/n4vf8AwLk/xoAv0VQ/siH/AJ+L3/wLk/xo/siH/n4vf/AuT/GgC/RVD+yIf+fi9/8AAuT/ABo/siH/AJ+L3/wLk/xoAv0VQ/siH/n4vf8AwLk/xo/siH/n5vf/AALk/wAaAC8/5C2nf70n/oBq/WHd6XEup2C+fdnc0nJunyPk+vFXf7Ji/wCfi9/8C5P8aAL9FUP7Ih/5+b3/AMC5P8aP7Ih/5+b3/wAC5P8AGgC/RVD+yIf+fm9/8C5P8aP7Ih/5+b3/AMC5P8aAL9FUP7Ih/wCfm9/8C5P8aP7Ih/5+b3/wLk/xoAv0VQ/siH/n5vf/AALk/wAaP7Ih/wCfm9/8C5P8aAL9UZ/+Q5Z/9cZf5pSf2RD/AM/N7/4Fyf41Tm0uIaxar592cxSnJunz1Tvn3oA26KoHSIv+fm9/8CpP8aP7Kh/5+L3/AMCpP8aAL9FUP7JhH/Lxe/8AgVJ/jS/2TD/z8Xn/AIFSf40AXqKo/wBkw/8APxef+BUn+NH9kw/8/F5/4FSf40AXqKo/2TD/AM/F5/4FSf40f2TD/wA/F5/4FSf40AXqKo/2TD/z8Xn/AIFSf40f2TD/AM/F5/4FSf40AIf+RiX/AK9T/wChir9Yh0yL+3FTzrvH2YnP2l8/fHfNXP7Jixj7Ref+BUn+NAF+iqA0mL/n4vP/AALk/wAaP7Ji/wCfi8/8C5P8aAL9FUP7Ji/5+bz/AMC5P8aP7Ji/5+bz/wAC5P8AGgC/RVD+yYv+fm9/8C5P8aP7Ih/5+L3/AMC5P8aAL9FUP7Ih/wCfi9/8C5P8aP7Ih/5+L3/wLk/xoAv1RT/kYJ/+vaP/ANCek/siH/n4vf8AwLk/xqmmmRnW5k8+7wLdDn7U+fvN3z7UAbdFUP7Ih/5+L3/wLk/xo/siH/n4vf8AwLk/xoAv0VQ/siH/AJ+L3/wLk/xo/siH/n4vf/AuT/GgC/RVD+yIf+fi9/8AAuT/ABo/siH/AJ+L3/wLk/xoAv0VQ/siH/n4vf8AwLk/xo/siH/n4vf/AALk/wAaAL9FUP7Ih/5+L3/wLk/xo/siH/n4vf8AwLk/xoALX/kNX/8AuxfyNX6xLfTIm1a9Tz7vCrHyLl8ng+9Xf7Ji/wCfi8/8C5P8aAL1FUf7Ji/5+Lz/AMC5P8aP7Ji/5+Lz/wAC5P8AGgC9RVH+yYv+fi8/8C5P8aP7Ji/5+Lz/AMC5P8aAL1FUf7Ji/wCfi8/8C5P8aP7Ji/5+Lz/wLk/xoAvUVQ/siH/n4vf/AALk/wAaP7Ih/wCfm9/8C5P8aAL9UbL/AJCOo/8AXZf/AEWtJ/ZEP/Pze/8AgXJ/jVO00uI39+PPuwFlUZF04z+7U880AbdFUDpER/5eb3/wLk/xo/seH/n5vf8AwLk/xoAv0VQ/siL/AJ+b3/wLk/xpf7Ji/wCfm9/8C5P8aAL1FUf7Ji/5+b3/AMC5P8aP7Ji/5+b3/wAC5P8AGgC9RVH+yYv+fm9/8C5P8aP7Ji/5+b3/AMC5P8aAL1FUf7Ji/wCfm9/8C5P8aT+yYf8An5vf/AuT/GgA0z/WX3/X03/oK1frD0/S4mkvMz3Y23LAYunGeF681e/siH/n4vf/AALk/wAaAL1FUTpMP/Pxef8AgXJ/jSf2RD/z8Xv/AIFyf40AX6Ko/wBkxf8APxe/+Bcn+NH9kw/8/F7/AOBcn+NAF6iqH9kw/wDPxe/+Bcn+NH9kw/8APxe/+Bcn+NAF+iqH9kw/8/F7/wCBcn+NL/ZMX/Pxe/8AgXJ/jQBeqhpP/HvP/wBfU3/ow0f2TD/z8Xv/AIFyf403RYxFZyoCzBbmYZZiSfnPUnrQBo0UUUAUR/yMLf8AXqP/AEM1HrXiDSvDsNvNrd4lnFczrbxySA7TI33VJAwM46nAqQf8jC3/AF6j/wBDNReI9AsPFPh290XV4vNtLyIxyDuO4YehBAIPqBQA7XNf0vw3pv2/W7xLS23rGHcE5ZjhVAAJJPoBWiDkZrwnw1DrV9NqN/42uItSg+G6TQ2cUef9MuY0LCeQH+IR7AOvzEnr1uS6n4w0LwHonxBuvFU1+95JazXulNBGLUwXDKBHEAu5WUSD5txzjn3APaqZNMlvBJNMwSONS7sewAyTXmFt4q1p/AHxNv2v3N1o+palDYSbFzAkUKsgHGDgknnNdha3U198Mobu6kMk8+jrLI5GNzNDkn8zQBsaZqdnrOl2+o6ZOtxaXUYkhlUEB1PQ881arwTwqfEvhjwB8PtbTxPczwX97ZWEultDGLdbaZtoC4XdvAwdxJyfao7rxv4u12XXtU0mfxPHc2V7PBpdppmkpNYlYmwFmYglmYjk5G3PHpQB7/RXjniDxTqmpaxZ20+s63p07aXBctonhvT/AD7uGZxljO7Iyqo6BcjPU475em+LPGHivQfh3Zx+IJtNvNbm1CC/u4bePe6QE4O0ghXwvboTQB7pLKkELyyttjjUszHsByTUGl6nZ6zpdvqWmTrcWd1GJIZVBAdT0PPNeURL4q8UTeKoIfF13ZR+GwNPtlWCI/a5VhDSS3GVO4OT0XbgdOevX/CUhfg94ZJOANOjJJ+lAHZVRsta0/UdQv7GyullutOdY7qMA5iZl3KD9Qc8V4Lq3j7XLbTX8Q6Z4o1rVrmG/RXez0wLoojMwQxh3QM3BxvDEk/nXQ2Hh/XNZ+JfxEk0fxRdaGsFzbmJbWKNvMm+zKQ0m9SSgH8IxnJ54oA9norxnw74v8Q/Ey90HS49Wl0CKTQhql/Pp6J508hmaEIhcMEXKFs4PXFJB4y8TWt3YaHe6r9puLDxlDpE96sSqby2eF5AHAGA3QErjoPfIB7Fc3MFlay3N3NHBBChkklkYKqKBkkk8AAd6dBNHc28c8DrJFIodHU5DKRkEfhXkHxK1LU76X4gaL/aU0Nha+GY7qOOJU+8TJvBJBOGCgH26Yr0XwRaS2XgbR4Z72e9f7HG3nXAXdgqCB8oAwM4HGcDnJ5oA3aKKKAKF7/yFtO/3pP/AECr9UL3/kLad/vSf+gVdlTzIXQOyFlI3KeV9x70AU49a06bXJtGiu431G3hWeW3U5aNGJCk9hnHTrV6vKvBHhmw8KfGvXLDTWuJA+iW00891O00txK0sm6R2PVjgeg9q9VoAKKKKACiiigAooooAKoz/wDIds/+uMv80q9VGf8A5Dtn/wBcZf5pQBeqlbaxp95qd5p1rdRy3dkENzEhyYt4JXPucHirF1AbmzmgEskJljZPMibDpkYyp7EdRXnvw+0Sz8O/ETxhpumrIIIo7Jt0shd3Zo2LOzHksSSSa6KVOE6c5N6xV196X6kybTSPR6KKK5ygooooAKKKKACiiigCgf8AkYl/69D/AOhir9UD/wAjEv8A16N/6GKk1Sx/tTSbqx+1XNn9oiaP7RaSbJY8jG5G5w3oaAGWOtadqV/fWdhdxz3GnyLFdInPlOV3BSemcenSr1eY/CjRbHw74u8d6TpMTRWltf2wjRnZzzbqSSzEkkkkkn1r06gAooooAKKKKACiiigAqin/ACME3/XrH/6E9Xqop/yME3/XrH/6E9AFqeeK2gea4kWOKMbmdjgAVX0/VrHVFc6fcpP5Zw23qv4Gs7xWA9rp8UnMMuoQrKD0K5PB/ECklUR+Prbyvl8ywfzAB1AcYzQBvUUUUAFFFFABRRRQAUUUUAULX/kNX/8AuxfyNX6oWv8AyGr/AP3Yv5GovEWgQeJdGl0u9uLuC2mZfO+yTGJ5EByULDkK3Q4xkEjNAEuk61puu2stxo93HdwxTPA8kRyodDhhnvg9xxV/FedfBO0gsPBmo2dnGIre31y+iijBJ2IsxAHPoBXotABijFFFABijFFFABRRRQAVRsf8AkI6l/wBdk/8ARa1eqjZ/8hHUf+uqf+i1oAnvL23sLZri8mWGJerMabY6haalb+dYzrNHnaSvY+h9DWVrQEviTQYpRmLzZXwehZU+X+tGnAR+NdXSIAI0EDuB/f8AmGfrigDeooooAKKKKACiiigAooooAoaWcyX/AP19t/6CtXZZY4YXlmdY40Us7ucBQOpJ7CqWmffvv+vtv/QVrN8aeF7HxXoZtdWkujZwlppLaCcxJc4U4WTbyy55xkcgUAauk6tY65pUGpaTcLc2dyu+KZQQHGcZ557Vcrh/gvz8GfDX/Xn/AOzNXcUAFFFFABRRRQAUUUUAFUdK/wCPef8A6+pv/Rhq9VHSv+Pef/r6m/8ARhoAvUUUUAUR/wAjC3/XqP8A0M1eqiP+Rhb/AK9R/wChmsD4meOE+H/gqfWfKSa482OGCGTcFdmYA5Kg4wu5u2duM5NAGjpHhPT9GuNblhMsw1u6a6uo5yGXcyBSoGB8uB0Oetc5YfB/R7K6s0k1XWLzSNPn+0WWjXN0HtYHByuBjcwU9AzED3qnJ8YdG03xlf22talBb6OdPtbvT3W3laabzQ5Y7QC2AFU/dGM811WoePfDGl+G7XXrzWbddNvCBbTJmQzk9AiqCzH2AyMHNAGDrPwh0rWL7VpP7Z1qysdYcy3+nWl0EgmlK4LkbSQTgEjOCQMjHFdjBpMFv4ej0dGkNvHai1DE/NsCbc59cVB4e8TaP4q0z+0PD9/He2wcxsyAqyOOqsrAMp6cEA8iuavviRY6D461bSvEV3Da2dvb28lsVid5HLBi5IUH5Rgc4GM81rSozqtqCvZXE5KO5on4f6UfCug6B5939l0K4t7i2feu9mgOV3HGCD3wB+FZWqfCLStQvNRNvrGs6dp+rSmbUdMsroJb3Ln75IKll3fxbSM1uTeJIpdb0Iafqmnvp+pQTzYO5pLhUUENEw+XAzls/hVe1+Jng68iu5bfXrZorOETzyEMFRCcDkjBOSBtHOT0p+wqtXUX93yDmRSvvhdpsutSajo+ratoJuLaK1uodMnWNLiOJdsYOVJUhflBUg4/On6J8LdD0BtB+wTXvl+H5rqWyjeUEL9ozvVuMkDPHf1JpNE+IFr4k8fDS9EuIbnTl0xrmRjG6SpMJQu0hsEDaQeR3zXa0qtKdJqM1Z7gmnscVr3ww03WtavdRg1XVtJOpxrFqcGn3IjjvVA2jeCpwdvy5XGRXQ6BoFp4d8MWWhWjSS2lnAIEMxBZlAxzgAfpWpRWQzzST4IaPNop0WXX9fbRo3L2un/a1EVs27cCvyZbB6BywGfXmr2q/Caw1HXdW1W21/XNMm1kqL9LK5VEmRUCBcFTjgHkc/MecHFd7RQBxep/C/RrkaVJo1zfeH7vSbf7Ja3WmTBHEH/PNtwYOueeQTnnNRt8J9BPhNdEjn1COVb4akNUFxm7N4P+W5cjBbt0xjtXcUUAcPp/wq0i0OtPe6jquqT67ZfYr+e9uAzyJ8wyMKNpw2BjgADjrno/DOgjw14fttJTUL3UUthtSe+kDyleykgDgDgcdBWrRQAUUUUAUL3/AJC2nf70n/oFX6oXv/IW03/ek/8AQDV+gDIg8N2cHjG78SJJMby6s47N0LDywiMzAgYznLHv2rXoooAKKKKACiiigAooooAKoz/8h2z/AOuMv80q9VGf/kO2f/XGX+aUAXqyrHw/a2HiPVNaheU3OqLCsyswKL5alV2jHHB5rVoqlJpNLqAUUUVIBRRRQAUUUUAFFFFAFA/8jEv/AF6N/wChir9UD/yMS/8AXo3/AKGKv0AZGk+G7PRtb1nVLWSZp9ZnjmuFkYFVKRhAFAHAwO+ea16KKACiiigAooooAKKKKACqKf8AIwTf9esf/oT1eqin/IwTf9esf/oT0ASajp8GqWL2t0G2Pg5U4ZSDkEHsQar6bosen3Mty9xPd3MihDNO2SFHRRjAArSooAKKKKACiiigAooooAKKKKAKFr/yGr//AHYv5Gr9UbX/AJDV/wD7sX8jV6gDH8N+GrPwvY3NrYSTSJc3k145mYEh5XLMBgDjJ4rYoooAKKKKACiiigAooooAKo2X/IS1H/rsn/otavVRsv8AkJaj/wBdk/8ARa0ALqmlw6rbokzSRPE4kilibDxsO4NJpmkxaYspWWWeadt0s8zZZyBgfgPSr1FABRRRQAUUUUAFFFFABRRRQBQ0z799/wBfbf8AoK1cmiWeCSJ87ZFKnHoRiqemffvv+vtv/QVq/QBleGPD1p4U8M2Oh6dJNJbWMXlxvMwLkZJ5IAHf0rVoooAKKKKACiiigAooooAKo6T/AMe8/wD19Tf+jDV6qOk/8e8//X1N/wChmgC9RRRQBRH/ACMLf9eo/wDQzXIfGy0ur34Q6xFY28txKrW8pjhUsxVLiNmIA64VSfwrrx/yMLf9eo/9DNXqAPN/CckGsfGLXtdtYJGtbrRrE208sDISrGQsPmAI6DI9hXmdhpeo6X4b8BaxPLqmkadpsuq2811Z2InksWlnfY5iZGwrKNu4Lkceor6UooA80+E1okuq+JdcgudZvotRmhUX+p26W63hjQjzI4lRSBghSxHzY9jUV3r2n+F/jB4gvtbsrsQXGnWscN3FZyTKWG4mLKqeW49uK9QorejVVLm5ldNW3t1T/QmUbni3hvSNRsLzwX9qsZ7beusXCwtGf9Gjl+aNGxwpwRx+FLbaRcwfA/wfcppc0yabewX+oWawnzJY1dtx2dWILBsY7V7Riiu15jNtPl63/GX/AMkZ+yR5roGr2fiL40y6ppFpcizGh+S15LaPCsziYHA3AE4Bx+fpXpVFFcNaqqjVlZJJb32NIqyCiiisSgooooAKKKKACiiigAooooAoXv8AyFtN/wB6T/0A1fqhef8AIW07/ek/9ANX6ACiiigAooooAKKKKACiiigAqjP/AMh2z/64y/zSr1UZ/wDkO2f/AFxl/mlAF6iiigAooooAKKKKACiiigAooooAoH/kYl/69G/9DFX6oH/kYl/69G/9DFX6ACiiigAooooAKKKKACiiigAqin/IwTf9esf/AKE9Xqop/wAh+b/r2j/9CegC9RRRQAUUUUAFFFFABRRRQAUUUUAUbX/kNX/+7F/I1eqha/8AIav/APdi/kav0AFFFFABRRRQAUUUUAFFFFABVGy/5CWo/wDXZP8A0WtXqo2X/IS1H/rsn/otaAL1FFFABRRRQAUUUUAFFFFABRRRQBQ0z799/wBfbf8AoK1fqhpn377/AK+2/wDQVq/QAUUUUAFFFFABRRRQAUUUUAFUdJ/495/+vqb/ANDNXqo6T/x7z/8AX1N/6GaALpOKTdSSHGKj3UAZ9w10dfP2Mwhvso3eaCf4z0xU+dV/v2f/AHw3+NRBv+Kgb/r1H/oZq9uoArZ1b+/Zf98v/jRnVv79l/3w/wDjVndRuoArZ1b+/Zf98P8A40Z1b+/Zf98P/jVndRuoArZ1b+/Zf98P/jRnVv79l/3w/wDjVndRuoArZ1b+/Zf98P8A40Z1b+/Zf98P/jVndRuoArZ1b+/Zf98P/jRnVv79l/3w/wDjVndRuoArZ1b+/Zf98P8A40Z1b+/Zf98P/jVndRuoArZ1b+/Zf98P/jRnVv79l/3w/wDjVndRuoArZ1b+/Zf98P8A40Z1b+/Zf98P/jVndRuoArZ1b+/Zf98P/jSZ1b+/Zf8AfD/41a3UbqAMm6Opf2nYb2tN+6TbhGx9zvzVzOrf37L/AL4f/Gorxv8Aibad/vSf+gGr+6gCtnVv79l/3w/+NGdV/v2f/fDf41Z3UbqAK2dV/v2f/fDf40Z1b+/Zf98P/jVndRuoArZ1b+/Zf98P/jRnVv79l/3w/wDjVndRuoArZ1b+/Zf98P8A40Z1b+/Zf98P/jVndRuoAq51b+/Zf98P/jVSY6l/bFrlrTf5Uu3CPjGUz3+lau6qU7f8Tuz/AOuMv80oAfnVv79l/wB8P/jRnVv79l/3w/8AjVrdRuoAq51b+/Zf98P/AI0Z1f8Av2X/AHw/+NWt1G6gCrnV/wC/Zf8AfD/40Z1f+/Zf98P/AI1a3UbqAKudX/v2X/fD/wCNGdX/AL9l/wB8P/jVrdRuoAq51f8Av2X/AHw/+NGdW/v2X/fD/wCNWt1G6gDKJ1H+3Fy9r5n2Y/wNjG4e9XM6r/fsv++G/wAahLf8VCv/AF6n/wBDFX91AFbOq/37L/vhv8aM6r/fsv8Avhv8as7qN1AFbOq/37L/AL4b/GjOq/37L/vhv8as7qN1AFbOq/37P/vhv8aM6r/fs/8Avhv8as7qN1AFbOq/37P/AL4b/GjOq/37P/vhv8as7qN1AFbOq/37P/vhv8apqdS/tqbD2nmfZ0z8rYxuf3+tau6qKN/xUE//AF7R/wDoT0ASZ1f+9Zf98v8A40Z1f+9Zf98v/jVrdRuoAq51f+9Zf98v/jRnV/71l/3y/wDjVrdRuoAq51f+9Zf98v8A40Z1f+9Zf98v/jVrdRuoAq51f+9Zf98v/jRnV/71l/3y/wDjVrdRuoAq51f+9Zf98v8A40Z1f+9Zf98v/jVrdRuoAybc6l/a17te037Y92UbHQ471dzq39+y/wC+H/xqG1b/AInV/wD7sX8jV/dQBWzq39+y/wC+H/xozq39+z/74b/GrO6jdQBWzq39+z/74b/GjOrf37P/AL4b/GrO6jdQBWzq39+z/wC+G/xozq39+z/74b/GrO6jdQBWzqv9+z/74b/GjOq/37P/AL4b/GrO6jdQBWzqv9+z/wC+G/xqnZnUvt1/te03eau7KN/zzX39K1d1UbJh/aOo/wDXVP8A0WtAEudV/v2f/fDf40Z1X+/Z/wDfD/41Z3UbqAK2dV/v2f8A3w3+NGdW/v2f/fDf41Z3UbqAK2dW/v2f/fDf40Z1b+/Z/wDfDf41Z3UbqAK2dW/v2f8A3w3+NGdW/v2f/fDf41Z3UbqAK2dW/v2f/fDf40Z1X+/Zf98N/jVndRuoAydPOpb7zy3tP+Plt2Ubrge9Xf8Aia/37P8A74b/ABqLTG+e+/6+m/8AQVq9uoArf8TX+/Z/98N/jR/xNf79n/3w3+NWd1G6gCt/xNf79n/3w3+NH/E1/v2f/fDf41Z3UbqAK3/E1/v2f/fDf40f8TX+/Z/98N/jVndRuoArf8TX+/Z/98N/jR/xNf79n/3w3+NWd1G6gCt/xNf79n/3w/8AjTNFZxZy+bt3/aZt23pneelXN1UdJbFvP/19Tf8Aow0AX7g42/jUO6pLs42fjVbdQBWDf8VA3/XqP/QzVfxFoFt4l09LO8ur62RJBIHsbp4HJAIwWUgkc9PpTw3/ABP2/wCvUf8AoRq9uoA8j+GnhKDUdS1y7vdZ16Z9G8Rz2tqj6rMUMcRUorLnDdTnPWqXgr4la5oXgC1v9X0G6vtFhv5YLrWZb9TIN9yyhljILMillXqORxwK73wJ4fv/AA83iT+0RGP7R125v4PLfdmKTbtz6Hg8Vy7fD/XD8BJPCIFt/arXJlA8393j7Z533sf3fbrQBuav8R7+PXNS0/wx4c/tlNIIW+ne/S2AcruMcYYEyMF5PQZ4zXV6Br9l4m8O2es6W7Na3kQlj3DDD1BHqDkH3FeW638N7+38W65qFl4V0DxNBrEguIZNTk8uSylK4YHKtvjyN2Bg9R716R4W0h9A8K2GlzG2MtvFtkNpAIYtxJLbUHAGSaAPP/B/j7VtI8D2d7q+jXVzo8Nw8Nzq0l2GkG6Zhv8ALIyUUkKTntwOK173xtB4au/E14llfXrw6pbWrQtd7lZpI1x5SkYQc/d7nnNY9t4S8ZS+CE8FXlrp0OnTSnztQS5LPHCZTIUEe3l+2c45rQ1TwRq93eau8C2/l3et2N7Ful/5ZQhA2eOvynA7178lg5VZOVrNvZ6NXVvnucy50lY1T45103ltpMXhXfrrRNc3Fn/aCeXbwhiqsZduCWIOFx9af8LtTutU0HVLq+NwsjaxdARXL7nhG7/V/wDAemBxSa1pGuaf41/4Sbw3bWuoNcWQsrqzuJzCflYsjq+D6kEEVY8AaNquh6Lex699n+2XWoz3bfZmLJiQg8ZANcVT2P1d8iSbt11vrdW7Gi5ubU524+IFr4XuPFFytrd3Nx/bsOnxRXN+BC0rxKQQzDEMeASc55+uB13hPxJqeufbIta0GTSZ7YoVdJxPb3KsCQ0UoADYxyMcZFcff+DPEIXxRJZW2lXi6lrMV4LK/UPHd24iVWjJIPltkZDYOCKt/DXwfqHhvVdYvprCDQtPvhGINFtrxrmOJlzuk3EAAtnoo6CvNNSDWfEfiJPjLe6PFA39kp4deYbbsKEJY/6RtxktuAj256fNnms3wL8R9asfCPhH+3fD1z/ZeomDT01eW9WSWSd/lV2ixu2MwPzE5745Geg17w7rknxLXXNLhtbixvNFfSrkSTGN4DvZw4GDuGSBj61TbwVrH/CuPBejKIPtmi39hcXQMnyhYWy+045NAEupfFa8iuNWuNF8NPqWjaLNJBe3v26OKRmjGZfKiYZkCeuRnBArvtO1G21XTLXULGQS211Cs0Lj+JGAIP5GvGrz4XalY6hrMGn+FfDmtpqV3Lc2mraiwEln5hyVkjKHzApzjB+vpXrukWQ0rRbKwXy8WsCRZiiEaHaoHyoOFHsOlAGjuo3VFuo3UAS7qN1RbqN1AFa7b/ibaf8A70n/AKBRrV8+n6JeXUWPMiiZkz644/Wortv+Jrp/+9J/6BUuo2q6hptxZu20Txsm70yOtAGGsNxo82j3aX1zO15KsN0s0pZX3qTkDtg+ldVurmILHVrufTo9Tjgih09g5eKTcZ2Awpxjgd66LdQBLuo3VFuo3UAS7qN1RbqN1AEu6jdUW6jdQBLuqlO3/E7s/wDrjL/NKsbqpTt/xOrT/rjL/NKALt1JOlnM1miSXCxsYkdtqs2OAT2Ge9cJ4Cn14+OfFNv4mv0urqNLR9kGRDBuRjsjU9h0z1PU13e6ub0fRr2y8e+I9WnEf2XUUtVtyr5b92hDZHbk100ZxVOpF21Xz3RElqmdTuo3VFuo3VzFku6jdUW6jdQBLuo3VFuo3UAS7qN1RbqN1AFYt/xUC/8AXqf/AEMVB4kvZ7PRJGtH2TSOkSOP4dzAZ/WnFv8AioF/69T/AOhik1uwbVNJktopBHLlXjc9AykEZ9uKAKEMb6J4ksrWK6uJre9icOtxKXw6gHcCemfSuj3Vz1ra6le61Bf6rFDbraxMkcUUm/c7Yy2ccDA4Fbm6gCXdRuqLdRuoAl3Ubqi3UbqAJd1G6ot1G6gCXdVFG/4n83/XtH/6E9Wd1UUb/ifzf9e0f/oT0AS61Lqkei3LeH4rabUtuLdLtysW7OMsV5wBk4HXGK4n4RXOrSQeKYfEGpPqV7a69NC85yFOEj4Rf4V9FFd/urlfBOgX2g3fiaW/8sLqetTXtv5b7v3bKgGfQ/KeKAOv3Ubqi3UbqAJd1G6ot1G6gCXdRuqLdRuoAl3Ubqi3UbqAKts3/E5v/wDdi/kazfF+j6r4gsLWw0rVn0uB7lTfzQMUmeAA5SNh91icc+mavWzf8Tm+/wB2L+RrmviXY+K9X8PRad4OMUbXEwF7I1wYX8juiNg7S3TPYfWgDM+H9w8HxE8RaVoWp32qeG7KGJWkvLhrgQXuTvijkbJYbcFhk4b0zXpe6uI8BWmuaParpN54b0rRNKtocW4sbxpiWz3BUdeSWJJJ+tdluoAl3Ubqi3UbqAJd1G6ot1G6gCXdRuqLdRuoAl3VRs2/4mWo/wDXVP8A0WtWd1UrNv8AiY6h/wBdU/8ARa0AReJjr76R5XhQ2aX8sioZ7zJSBDndIFH3mHZeAT1rm/gzeXl58L7KbU7ya9ujcXSyTzOWZyJ3Gefp07V226uV+G2gX3hbwRb6Vqnl/aY57iRvKfcuHmdxz9GFAHX7qN1RbqN1AEu6jdUW6jdQBLuo3VFuo3UAS7qN1RbqN1AFbTW/eX3/AF9N/wCgrVDWXkvNb0/SlmlhglSSaZoX2s4XAC5HIGTVrTW/eX3/AF9N/wCgrVfVrS6OoWepackcs9tuRopH2iRG64PYjGaADQJpYb3UtMlnknS0lUxPK25tjLnBPfFbe6sXRrK5glvL2/2Lc3kgZo0bIjUDCrnua1d1AEu6jdUW6jdQBLuo3VFuo3UAS7qN1RbqN1AEpaqOlt+4m/6+Zv8A0M1ZLVS0tv3E3/XzN/6GaANO+OPL/H+lVN1WNROPL/H+lUt1AFcN/wAT5v8Ar2H/AKEau7qzQ3/E+b/r2H/oRrl/imJ7bwpDrlm0gm0K9h1ArGxG+NWxIp9RsZjj2oA7rdRur5xufFmsQXuu6lbXMskXjmOW20UDd8jx3At0I9MxuXyPSuq0vwxo/iLxb4i0jxPcXEtv4ehtrTT7d7t4xbwiEEz8EZYnJ3nPSgD2TdVTVNSi0nR7zUbhWaKzged1QZYqiliB74FeEaNaN48l8B2fiS/vLy1ms9SExFw8Zu44pQsZcqQTwFOe+M1Zm0PS9e8PePtT1+5uItR0Se5s7Em7dPsNvFEBCFXdyHHUnO/J70Ae26RqkWs6JY6pbK6Q3tulxGsgAYK6hgDjvg1c3VzngVv+LeeHc8f8Su24/wC2S1vbqAJd1G6ot1G6gCXdRuqLdRuoAl3Ubqi3UbqAJd1G6ot1G6gCXdRuqLdRuoAl3Ubqi3UbqAK123/E00//AHpP/QavbqzLtv8AiaWH+9J/6DV7dQBLuo3VFuo3UAS7qN1RbqN1AEu6jdUW6jdQBLuo3VFuo3UAS7qpTt/xOrT/AK5S/wA0qxuqlM3/ABOrT/rlL/NKANLdRuqLdRuoAl3Ubqi3UbqAJd1G6ot1G6gCXdRuqLdRuoAl3Ubqi3UbqAKxb/ifr/17H/0MVe3VmFv+J8v/AF7H/wBCFXt1AEu6jdUW6jdQBLuo3VFuo3UAS7qN1RbqN1AEu6jdUW6jdQBLuqkjf8T6b/r2j/8AQnqxuqkjf8T6b/r2j/8AQnoA0t1G6ot1G6gCXdRuqLdRuoAl3Ubqi3UbqAJd1G6ot1G6gCXdRuqLdRuoArWzf8Ti+/3Yv5Gr26sy2b/icX3+7F/I1e3UAS7qN1RbqN1AEu6jdUW6jdQBLuo3VFuo3UAS7qN1RbqN1AEu6qVm3/Ew1D/rqn/otasbqpWbf8TDUP8Aron/AKLWgDS3Ubqi3UbqAJd1G6ot1G6gCXdRuqLdRuoAl3Ubqi3UbqAJd1G6ot1G6gCtprfPe/8AX038lq9urM044e8zx/pLfyFXDKM4HJoAn3Ubq57WPGnh/QWZNU1a2gkXrEXy4/4COaztN+KHhPVGZLfV4VcdFl+Td9M8UAdluo3Vmx61p0pQRXsDlzhQsgOT6VZiuI513ROrj1BoAs7qN1RbqN1AEu6jdUW6jdQBKWqlpbfuJv8Ar5m/9DNTlqp6Y37ib/r5m/8AQzQBs6p/yy/H+lZ9FFAFIf8AIeb/AK9h/wChGjWo0m0HUIpkWSN7aRWRhkMCpyCO4oooA4iHT7P+zvh+PskGIJAYh5Q/dny8/LxxyAeKxvjRplhNq2hzzWVvJNI5ieR4lLOgIwpOMkcnj3oooA7SWxtLfxxoC29rDEILCdIgkYXy1+T5Vx0HsK4j4laRptz8TNJNzp1rMbi1czGSBW83aG27sjnGBjPTFFFAHp3hyNIvC2lRxKqItnCqqowAAg4ArSoooAKKKKACiiigAooooAKKKKACiiigAooooApXf/IUsP8Aek/9Bq7RRQAUUUUAFFFFABRRRQAUUUUAFU5v+Qzaf9cpf5pRRQBcooooAKKKKACiiigAooooAKKKKAKR/wCQ8v8A17H/ANCFXaKKACiiigAooooAKKKKACiiigAqkn/Idm/69o//AEJ6KKALtFFFABRRRQAUUUUAFFFFABRRRQBStv8AkMX3+7H/ACNXaKKACiiigAooooAKKKKACiiigAqnaf8AIQv/APron/otaKKALlFFFABRRRQAUUUUAFFFFABSN0NFFADU6D61z/jieW28E6pLbyvFIqfK6MVI5HcUUUMaPlqUmbVG84mTPXfzVvyoxGpCKDyM4ooqSjT8OTSbJv3j8BsfMeMDivY/D0sh1GzzI3M5z83XMKk/rRRQhM9GTmNc+lLRRVEhRRRQAGqWmf6mb/r5m/8AQzRRQB//2Q==)"
      ],
      "metadata": {
        "id": "PFkn5BDzYriM"
      }
    },
    {
      "cell_type": "markdown",
      "source": [
        "Bag of words entails identifying all the unique words in the dataset, creating a document for each words as above and counting them.\n",
        "#limitation of creating bag of words\n",
        "1. There may be too many words in the dataset\n",
        "2. Some words may occur too frequently\n",
        "3. Some words may occur rarely or only once\n",
        "4. A single word may have many form e.g gone, going birds, bird, do, doing.\n",
        "\n",
        "#Hence the is a need to preprocess before creating the bag of words"
      ],
      "metadata": {
        "id": "LU2KWbmmZLjV"
      }
    },
    {
      "cell_type": "markdown",
      "source": [
        "#Tokenization\n",
        "Solitting a document into words and separators"
      ],
      "metadata": {
        "id": "U2a1G4pfa6Fa"
      }
    },
    {
      "cell_type": "code",
      "source": [
        "q0 =sincere_df.question_text.values[1]\n",
        "\n",
        "q0"
      ],
      "metadata": {
        "colab": {
          "base_uri": "https://localhost:8080/",
          "height": 53
        },
        "id": "3SF8qeefczJD",
        "outputId": "55d32879-c032-48b1-f82f-d4f991dfe4af"
      },
      "execution_count": 23,
      "outputs": [
        {
          "output_type": "execute_result",
          "data": {
            "text/plain": [
              "'Do you have an adopted dog, how would you encourage people to adopt and not shop?'"
            ],
            "application/vnd.google.colaboratory.intrinsic+json": {
              "type": "string"
            }
          },
          "metadata": {},
          "execution_count": 23
        }
      ]
    },
    {
      "cell_type": "code",
      "source": [
        "\n"
      ],
      "metadata": {
        "id": "x8cOfKiddXpp"
      },
      "execution_count": 23,
      "outputs": []
    },
    {
      "cell_type": "code",
      "source": [
        "q1=insincere_df.question_text.values[1]\n",
        "q1"
      ],
      "metadata": {
        "colab": {
          "base_uri": "https://localhost:8080/",
          "height": 53
        },
        "id": "FG_iFzj8dF_0",
        "outputId": "523ca2e8-c46b-428e-d751-ac34b2bdb1a7"
      },
      "execution_count": 24,
      "outputs": [
        {
          "output_type": "execute_result",
          "data": {
            "text/plain": [
              "'Which babies are more sweeter to their parents? Dark skin babies or light skin babies?'"
            ],
            "application/vnd.google.colaboratory.intrinsic+json": {
              "type": "string"
            }
          },
          "metadata": {},
          "execution_count": 24
        }
      ]
    },
    {
      "cell_type": "code",
      "source": [],
      "metadata": {
        "id": "vY4w0_21dW0p"
      },
      "execution_count": 24,
      "outputs": []
    },
    {
      "cell_type": "code",
      "source": [
        "#import nltk\n",
        "import nltk\n",
        "#import tokenization library\n",
        "from nltk.tokenize import word_tokenize\n"
      ],
      "metadata": {
        "id": "uJ3mlqYhWgQp"
      },
      "execution_count": 25,
      "outputs": []
    },
    {
      "cell_type": "code",
      "source": [
        "#download punk\n",
        "nltk.download('punkt')"
      ],
      "metadata": {
        "colab": {
          "base_uri": "https://localhost:8080/"
        },
        "id": "8KXgVYu7b3nI",
        "outputId": "8e862847-b3f8-4bd5-9310-4d7e731ada14"
      },
      "execution_count": 26,
      "outputs": [
        {
          "output_type": "stream",
          "name": "stderr",
          "text": [
            "[nltk_data] Downloading package punkt to /root/nltk_data...\n",
            "[nltk_data]   Unzipping tokenizers/punkt.zip.\n"
          ]
        },
        {
          "output_type": "execute_result",
          "data": {
            "text/plain": [
              "True"
            ]
          },
          "metadata": {},
          "execution_count": 26
        }
      ]
    },
    {
      "cell_type": "code",
      "source": [
        "word_tokenize(q0)"
      ],
      "metadata": {
        "colab": {
          "base_uri": "https://localhost:8080/"
        },
        "id": "cv68ysCZWgS9",
        "outputId": "6a0dd797-c725-4de5-de25-ad82308dd851"
      },
      "execution_count": 27,
      "outputs": [
        {
          "output_type": "execute_result",
          "data": {
            "text/plain": [
              "['Do',\n",
              " 'you',\n",
              " 'have',\n",
              " 'an',\n",
              " 'adopted',\n",
              " 'dog',\n",
              " ',',\n",
              " 'how',\n",
              " 'would',\n",
              " 'you',\n",
              " 'encourage',\n",
              " 'people',\n",
              " 'to',\n",
              " 'adopt',\n",
              " 'and',\n",
              " 'not',\n",
              " 'shop',\n",
              " '?']"
            ]
          },
          "metadata": {},
          "execution_count": 27
        }
      ]
    },
    {
      "cell_type": "code",
      "source": [
        "word_tokenize(q1)"
      ],
      "metadata": {
        "colab": {
          "base_uri": "https://localhost:8080/"
        },
        "id": "jnz8ZqJtWgVp",
        "outputId": "130f98d4-ec4a-4dd3-f714-3e524f874adf"
      },
      "execution_count": 28,
      "outputs": [
        {
          "output_type": "execute_result",
          "data": {
            "text/plain": [
              "['Which',\n",
              " 'babies',\n",
              " 'are',\n",
              " 'more',\n",
              " 'sweeter',\n",
              " 'to',\n",
              " 'their',\n",
              " 'parents',\n",
              " '?',\n",
              " 'Dark',\n",
              " 'skin',\n",
              " 'babies',\n",
              " 'or',\n",
              " 'light',\n",
              " 'skin',\n",
              " 'babies',\n",
              " '?']"
            ]
          },
          "metadata": {},
          "execution_count": 28
        }
      ]
    },
    {
      "cell_type": "code",
      "source": [
        "q0_tok = word_tokenize(q0)\n",
        "q1_tok = word_tokenize(q1)"
      ],
      "metadata": {
        "id": "1K01g4d2WgX8"
      },
      "execution_count": 29,
      "outputs": []
    },
    {
      "cell_type": "markdown",
      "source": [
        "##STOP WORDS REMOVAL\n",
        "\n",
        "Removing commonly occuring words eg. is, to , the ...."
      ],
      "metadata": {
        "id": "RQej2cdqgaqM"
      }
    },
    {
      "cell_type": "code",
      "source": [
        "from nltk.corpus import  stopwords"
      ],
      "metadata": {
        "id": "01kG4PXTWgbV"
      },
      "execution_count": 30,
      "outputs": []
    },
    {
      "cell_type": "code",
      "source": [
        "#downloading stopwords\n",
        "nltk.download('stopwords')"
      ],
      "metadata": {
        "colab": {
          "base_uri": "https://localhost:8080/"
        },
        "id": "GKGN3aLLhAHe",
        "outputId": "e52e74d4-ac81-4187-922f-7f982c84fc7a"
      },
      "execution_count": 31,
      "outputs": [
        {
          "output_type": "stream",
          "name": "stderr",
          "text": [
            "[nltk_data] Downloading package stopwords to /root/nltk_data...\n",
            "[nltk_data]   Unzipping corpora/stopwords.zip.\n"
          ]
        },
        {
          "output_type": "execute_result",
          "data": {
            "text/plain": [
              "True"
            ]
          },
          "metadata": {},
          "execution_count": 31
        }
      ]
    },
    {
      "cell_type": "code",
      "source": [
        "english_stopwords = stopwords.words('english')\n",
        "' '.join(english_stopwords)# to print the stopwords nicely"
      ],
      "metadata": {
        "colab": {
          "base_uri": "https://localhost:8080/",
          "height": 226
        },
        "id": "0fslev7phALZ",
        "outputId": "0063a8f2-8690-4132-afa7-5dbdd6301f5f"
      },
      "execution_count": 32,
      "outputs": [
        {
          "output_type": "execute_result",
          "data": {
            "text/plain": [
              "\"i me my myself we our ours ourselves you you're you've you'll you'd your yours yourself yourselves he him his himself she she's her hers herself it it's its itself they them their theirs themselves what which who whom this that that'll these those am is are was were be been being have has had having do does did doing a an the and but if or because as until while of at by for with about against between into through during before after above below to from up down in out on off over under again further then once here there when where why how all any both each few more most other some such no nor not only own same so than too very s t can will just don don't should should've now d ll m o re ve y ain aren aren't couldn couldn't didn didn't doesn doesn't hadn hadn't hasn hasn't haven haven't isn isn't ma mightn mightn't mustn mustn't needn needn't shan shan't shouldn shouldn't wasn wasn't weren weren't won won't wouldn wouldn't\""
            ],
            "application/vnd.google.colaboratory.intrinsic+json": {
              "type": "string"
            }
          },
          "metadata": {},
          "execution_count": 32
        }
      ]
    },
    {
      "cell_type": "markdown",
      "source": [
        "Note: For the purpose of text classifcation we may no need to worry about removing stopwords but for sentiment analysis, we may need it remove stopwords"
      ],
      "metadata": {
        "id": "QNDs9eh5iWRt"
      }
    },
    {
      "cell_type": "code",
      "source": [
        "def remove_stopwords(tokens):\n",
        "  return [word for word in tokens if word.lower() not in english_stopwords]"
      ],
      "metadata": {
        "id": "JEdgc_EziN4G"
      },
      "execution_count": 33,
      "outputs": []
    },
    {
      "cell_type": "code",
      "source": [
        "q0_tok"
      ],
      "metadata": {
        "colab": {
          "base_uri": "https://localhost:8080/"
        },
        "id": "YIlUvw1Qje_P",
        "outputId": "1c86bff7-b300-4bb6-b586-08208d1114f8"
      },
      "execution_count": 34,
      "outputs": [
        {
          "output_type": "execute_result",
          "data": {
            "text/plain": [
              "['Do',\n",
              " 'you',\n",
              " 'have',\n",
              " 'an',\n",
              " 'adopted',\n",
              " 'dog',\n",
              " ',',\n",
              " 'how',\n",
              " 'would',\n",
              " 'you',\n",
              " 'encourage',\n",
              " 'people',\n",
              " 'to',\n",
              " 'adopt',\n",
              " 'and',\n",
              " 'not',\n",
              " 'shop',\n",
              " '?']"
            ]
          },
          "metadata": {},
          "execution_count": 34
        }
      ]
    },
    {
      "cell_type": "code",
      "source": [
        "#Removing stopwords in q0\n",
        "q0_stp = remove_stopwords(q0_tok)\n",
        "q0_stp "
      ],
      "metadata": {
        "colab": {
          "base_uri": "https://localhost:8080/"
        },
        "id": "psIXsAlRjiw2",
        "outputId": "fa957f06-39a5-4f76-f0c6-9f903baa1d9e"
      },
      "execution_count": 35,
      "outputs": [
        {
          "output_type": "execute_result",
          "data": {
            "text/plain": [
              "['adopted', 'dog', ',', 'would', 'encourage', 'people', 'adopt', 'shop', '?']"
            ]
          },
          "metadata": {},
          "execution_count": 35
        }
      ]
    },
    {
      "cell_type": "code",
      "source": [
        "#Removing stopwords in q0\n",
        "q1_stp = remove_stopwords(q1_tok)\n",
        "q1_stp "
      ],
      "metadata": {
        "colab": {
          "base_uri": "https://localhost:8080/"
        },
        "id": "1elDb7V2kAZe",
        "outputId": "e05072fd-45f7-4bf6-ef29-8dcd34966f73"
      },
      "execution_count": 36,
      "outputs": [
        {
          "output_type": "execute_result",
          "data": {
            "text/plain": [
              "['babies',\n",
              " 'sweeter',\n",
              " 'parents',\n",
              " '?',\n",
              " 'Dark',\n",
              " 'skin',\n",
              " 'babies',\n",
              " 'light',\n",
              " 'skin',\n",
              " 'babies',\n",
              " '?']"
            ]
          },
          "metadata": {},
          "execution_count": 36
        }
      ]
    },
    {
      "cell_type": "markdown",
      "source": [
        "####STEMMING\n",
        "The process of making vocabularies into their root words e.g "
      ],
      "metadata": {
        "id": "H7WADfCxkMpT"
      }
    },
    {
      "cell_type": "code",
      "source": [
        "from nltk.stem.snowball import SnowballStemmer"
      ],
      "metadata": {
        "id": "dIiCHzDHpHKg"
      },
      "execution_count": 37,
      "outputs": []
    },
    {
      "cell_type": "code",
      "source": [
        "stemmer = SnowballStemmer(language='english')"
      ],
      "metadata": {
        "id": "QNxEQx1-pVSg"
      },
      "execution_count": 38,
      "outputs": []
    },
    {
      "cell_type": "code",
      "source": [
        "stemmer.stem('going')"
      ],
      "metadata": {
        "colab": {
          "base_uri": "https://localhost:8080/",
          "height": 35
        },
        "id": "YJCabFhVpVWE",
        "outputId": "174d9fe6-eefb-4f6c-dbe1-76f46d38c8d8"
      },
      "execution_count": 39,
      "outputs": [
        {
          "output_type": "execute_result",
          "data": {
            "text/plain": [
              "'go'"
            ],
            "application/vnd.google.colaboratory.intrinsic+json": {
              "type": "string"
            }
          },
          "metadata": {},
          "execution_count": 39
        }
      ]
    },
    {
      "cell_type": "code",
      "source": [
        "q0_stm = [stemmer.stem(word) for word in q0_stp]\n",
        "q0_stm"
      ],
      "metadata": {
        "colab": {
          "base_uri": "https://localhost:8080/"
        },
        "id": "hRm_jo27p7NL",
        "outputId": "4e8acd67-8122-4374-b3a0-0b2f46bbd707"
      },
      "execution_count": 40,
      "outputs": [
        {
          "output_type": "execute_result",
          "data": {
            "text/plain": [
              "['adopt', 'dog', ',', 'would', 'encourag', 'peopl', 'adopt', 'shop', '?']"
            ]
          },
          "metadata": {},
          "execution_count": 40
        }
      ]
    },
    {
      "cell_type": "markdown",
      "source": [
        "####LEMMATIZATION\n",
        "Lemmatization reduces the words into the meaningful root words by looking  at a dictionary.\n",
        "Note: lemmatization is better is better but not used in buliding bag of words"
      ],
      "metadata": {
        "id": "sZVnhnk9qfgD"
      }
    },
    {
      "cell_type": "code",
      "source": [],
      "metadata": {
        "id": "mpBrH-0Dq4_S"
      },
      "execution_count": 40,
      "outputs": []
    },
    {
      "cell_type": "markdown",
      "source": [
        "## Implement Bag of words\n",
        "1. Create a vacabulary using count Vectorizer\n",
        "2. Transform text to vector using count vectorizer\n",
        "3. Configure text preprocessing un Count Vectorizer\n"
      ],
      "metadata": {
        "id": "O0kq7RJHBkn1"
      }
    },
    {
      "cell_type": "markdown",
      "source": [
        "#### Create a vacabulary using count Vectorize\n",
        "\n",
        "Count vectorizer convert a collection of text documents to a matrix of token count"
      ],
      "metadata": {
        "id": "BXB0YH1Ms8Ya"
      }
    },
    {
      "cell_type": "code",
      "source": [],
      "metadata": {
        "id": "Zh_TiprrtV-O"
      },
      "execution_count": 40,
      "outputs": []
    },
    {
      "cell_type": "code",
      "source": [
        "small_df= sample_df[:5]"
      ],
      "metadata": {
        "id": "9ogFkxUmpUgu"
      },
      "execution_count": 41,
      "outputs": []
    },
    {
      "cell_type": "code",
      "source": [
        "small_df"
      ],
      "metadata": {
        "colab": {
          "base_uri": "https://localhost:8080/",
          "height": 268
        },
        "id": "K_znN3iDg_MQ",
        "outputId": "6adde063-b0b5-4a7d-ad84-27f3c90f17d1"
      },
      "execution_count": 42,
      "outputs": [
        {
          "output_type": "execute_result",
          "data": {
            "text/plain": [
              "                          qid  \\\n",
              "443046   56d324bb1e2c29f43b12   \n",
              "947549   b9ad893dc78c577f8a63   \n",
              "523769   6689ebaeeb65b209a412   \n",
              "949821   ba1e2c4a0fef09671516   \n",
              "1030397  c9ea2b69bf0d74626f46   \n",
              "\n",
              "                                             question_text  target  \n",
              "443046   What is the most effective classroom managemen...       0  \n",
              "947549   Can I study abroad after 10th class from Bangl...       0  \n",
              "523769         How can I make friends as a college junior?       0  \n",
              "949821   How do I download free APK Minecraft: Pocket E...       0  \n",
              "1030397  Like Kuvera, is \"Groww\" also a free online inv...       0  "
            ],
            "text/html": [
              "\n",
              "  <div id=\"df-b4830ad9-5061-43b5-8676-a6341b5fbe3f\">\n",
              "    <div class=\"colab-df-container\">\n",
              "      <div>\n",
              "<style scoped>\n",
              "    .dataframe tbody tr th:only-of-type {\n",
              "        vertical-align: middle;\n",
              "    }\n",
              "\n",
              "    .dataframe tbody tr th {\n",
              "        vertical-align: top;\n",
              "    }\n",
              "\n",
              "    .dataframe thead th {\n",
              "        text-align: right;\n",
              "    }\n",
              "</style>\n",
              "<table border=\"1\" class=\"dataframe\">\n",
              "  <thead>\n",
              "    <tr style=\"text-align: right;\">\n",
              "      <th></th>\n",
              "      <th>qid</th>\n",
              "      <th>question_text</th>\n",
              "      <th>target</th>\n",
              "    </tr>\n",
              "  </thead>\n",
              "  <tbody>\n",
              "    <tr>\n",
              "      <th>443046</th>\n",
              "      <td>56d324bb1e2c29f43b12</td>\n",
              "      <td>What is the most effective classroom managemen...</td>\n",
              "      <td>0</td>\n",
              "    </tr>\n",
              "    <tr>\n",
              "      <th>947549</th>\n",
              "      <td>b9ad893dc78c577f8a63</td>\n",
              "      <td>Can I study abroad after 10th class from Bangl...</td>\n",
              "      <td>0</td>\n",
              "    </tr>\n",
              "    <tr>\n",
              "      <th>523769</th>\n",
              "      <td>6689ebaeeb65b209a412</td>\n",
              "      <td>How can I make friends as a college junior?</td>\n",
              "      <td>0</td>\n",
              "    </tr>\n",
              "    <tr>\n",
              "      <th>949821</th>\n",
              "      <td>ba1e2c4a0fef09671516</td>\n",
              "      <td>How do I download free APK Minecraft: Pocket E...</td>\n",
              "      <td>0</td>\n",
              "    </tr>\n",
              "    <tr>\n",
              "      <th>1030397</th>\n",
              "      <td>c9ea2b69bf0d74626f46</td>\n",
              "      <td>Like Kuvera, is \"Groww\" also a free online inv...</td>\n",
              "      <td>0</td>\n",
              "    </tr>\n",
              "  </tbody>\n",
              "</table>\n",
              "</div>\n",
              "      <button class=\"colab-df-convert\" onclick=\"convertToInteractive('df-b4830ad9-5061-43b5-8676-a6341b5fbe3f')\"\n",
              "              title=\"Convert this dataframe to an interactive table.\"\n",
              "              style=\"display:none;\">\n",
              "        \n",
              "  <svg xmlns=\"http://www.w3.org/2000/svg\" height=\"24px\"viewBox=\"0 0 24 24\"\n",
              "       width=\"24px\">\n",
              "    <path d=\"M0 0h24v24H0V0z\" fill=\"none\"/>\n",
              "    <path d=\"M18.56 5.44l.94 2.06.94-2.06 2.06-.94-2.06-.94-.94-2.06-.94 2.06-2.06.94zm-11 1L8.5 8.5l.94-2.06 2.06-.94-2.06-.94L8.5 2.5l-.94 2.06-2.06.94zm10 10l.94 2.06.94-2.06 2.06-.94-2.06-.94-.94-2.06-.94 2.06-2.06.94z\"/><path d=\"M17.41 7.96l-1.37-1.37c-.4-.4-.92-.59-1.43-.59-.52 0-1.04.2-1.43.59L10.3 9.45l-7.72 7.72c-.78.78-.78 2.05 0 2.83L4 21.41c.39.39.9.59 1.41.59.51 0 1.02-.2 1.41-.59l7.78-7.78 2.81-2.81c.8-.78.8-2.07 0-2.86zM5.41 20L4 18.59l7.72-7.72 1.47 1.35L5.41 20z\"/>\n",
              "  </svg>\n",
              "      </button>\n",
              "      \n",
              "  <style>\n",
              "    .colab-df-container {\n",
              "      display:flex;\n",
              "      flex-wrap:wrap;\n",
              "      gap: 12px;\n",
              "    }\n",
              "\n",
              "    .colab-df-convert {\n",
              "      background-color: #E8F0FE;\n",
              "      border: none;\n",
              "      border-radius: 50%;\n",
              "      cursor: pointer;\n",
              "      display: none;\n",
              "      fill: #1967D2;\n",
              "      height: 32px;\n",
              "      padding: 0 0 0 0;\n",
              "      width: 32px;\n",
              "    }\n",
              "\n",
              "    .colab-df-convert:hover {\n",
              "      background-color: #E2EBFA;\n",
              "      box-shadow: 0px 1px 2px rgba(60, 64, 67, 0.3), 0px 1px 3px 1px rgba(60, 64, 67, 0.15);\n",
              "      fill: #174EA6;\n",
              "    }\n",
              "\n",
              "    [theme=dark] .colab-df-convert {\n",
              "      background-color: #3B4455;\n",
              "      fill: #D2E3FC;\n",
              "    }\n",
              "\n",
              "    [theme=dark] .colab-df-convert:hover {\n",
              "      background-color: #434B5C;\n",
              "      box-shadow: 0px 1px 3px 1px rgba(0, 0, 0, 0.15);\n",
              "      filter: drop-shadow(0px 1px 2px rgba(0, 0, 0, 0.3));\n",
              "      fill: #FFFFFF;\n",
              "    }\n",
              "  </style>\n",
              "\n",
              "      <script>\n",
              "        const buttonEl =\n",
              "          document.querySelector('#df-b4830ad9-5061-43b5-8676-a6341b5fbe3f button.colab-df-convert');\n",
              "        buttonEl.style.display =\n",
              "          google.colab.kernel.accessAllowed ? 'block' : 'none';\n",
              "\n",
              "        async function convertToInteractive(key) {\n",
              "          const element = document.querySelector('#df-b4830ad9-5061-43b5-8676-a6341b5fbe3f');\n",
              "          const dataTable =\n",
              "            await google.colab.kernel.invokeFunction('convertToInteractive',\n",
              "                                                     [key], {});\n",
              "          if (!dataTable) return;\n",
              "\n",
              "          const docLinkHtml = 'Like what you see? Visit the ' +\n",
              "            '<a target=\"_blank\" href=https://colab.research.google.com/notebooks/data_table.ipynb>data table notebook</a>'\n",
              "            + ' to learn more about interactive tables.';\n",
              "          element.innerHTML = '';\n",
              "          dataTable['output_type'] = 'display_data';\n",
              "          await google.colab.output.renderOutput(dataTable, element);\n",
              "          const docLink = document.createElement('div');\n",
              "          docLink.innerHTML = docLinkHtml;\n",
              "          element.appendChild(docLink);\n",
              "        }\n",
              "      </script>\n",
              "    </div>\n",
              "  </div>\n",
              "  "
            ]
          },
          "metadata": {},
          "execution_count": 42
        }
      ]
    },
    {
      "cell_type": "code",
      "source": [
        "small_df.question_text.values"
      ],
      "metadata": {
        "colab": {
          "base_uri": "https://localhost:8080/"
        },
        "id": "PyeAyjrKg_kk",
        "outputId": "0b8bab66-3ceb-4c1f-ed57-f735dbce9940"
      },
      "execution_count": 43,
      "outputs": [
        {
          "output_type": "execute_result",
          "data": {
            "text/plain": [
              "array(['What is the most effective classroom management skill/technique to create a good learning environment?',\n",
              "       'Can I study abroad after 10th class from Bangladesh?',\n",
              "       'How can I make friends as a college junior?',\n",
              "       'How do I download free APK Minecraft: Pocket Edition for iOS (iPhone)?',\n",
              "       'Like Kuvera, is \"Groww\" also a free online investment platform where I can invest in direct mutual funds?'],\n",
              "      dtype=object)"
            ]
          },
          "metadata": {},
          "execution_count": 43
        }
      ]
    },
    {
      "cell_type": "code",
      "source": [
        "from sklearn.feature_extraction.text import CountVectorizer"
      ],
      "metadata": {
        "id": "abPeE6GrIrPu"
      },
      "execution_count": 44,
      "outputs": []
    },
    {
      "cell_type": "code",
      "source": [
        "small_vect = CountVectorizer()"
      ],
      "metadata": {
        "id": "1CeBhu-oCA6R"
      },
      "execution_count": 45,
      "outputs": []
    },
    {
      "cell_type": "code",
      "source": [
        "small_vect.fit(small_df.question_text)"
      ],
      "metadata": {
        "colab": {
          "base_uri": "https://localhost:8080/"
        },
        "id": "JO3TQ0uiCA9s",
        "outputId": "8b39dd5b-9163-40aa-fd91-7aec951023c9"
      },
      "execution_count": 46,
      "outputs": [
        {
          "output_type": "execute_result",
          "data": {
            "text/plain": [
              "CountVectorizer()"
            ]
          },
          "metadata": {},
          "execution_count": 46
        }
      ]
    },
    {
      "cell_type": "code",
      "source": [
        "small_vect.vocabulary_"
      ],
      "metadata": {
        "colab": {
          "base_uri": "https://localhost:8080/"
        },
        "id": "QhI2GeR4CBvB",
        "outputId": "446501b3-6057-468f-aa10-0e42259191e2"
      },
      "execution_count": 47,
      "outputs": [
        {
          "output_type": "execute_result",
          "data": {
            "text/plain": [
              "{'what': 49,\n",
              " 'is': 31,\n",
              " 'the': 47,\n",
              " 'most': 39,\n",
              " 'effective': 16,\n",
              " 'classroom': 9,\n",
              " 'management': 37,\n",
              " 'skill': 44,\n",
              " 'technique': 46,\n",
              " 'to': 48,\n",
              " 'create': 11,\n",
              " 'good': 23,\n",
              " 'learning': 34,\n",
              " 'environment': 17,\n",
              " 'can': 7,\n",
              " 'study': 45,\n",
              " 'abroad': 1,\n",
              " 'after': 2,\n",
              " '10th': 0,\n",
              " 'class': 8,\n",
              " 'from': 21,\n",
              " 'bangladesh': 6,\n",
              " 'how': 25,\n",
              " 'make': 36,\n",
              " 'friends': 20,\n",
              " 'as': 5,\n",
              " 'college': 10,\n",
              " 'junior': 32,\n",
              " 'do': 13,\n",
              " 'download': 14,\n",
              " 'free': 19,\n",
              " 'apk': 4,\n",
              " 'minecraft': 38,\n",
              " 'pocket': 43,\n",
              " 'edition': 15,\n",
              " 'for': 18,\n",
              " 'ios': 29,\n",
              " 'iphone': 30,\n",
              " 'like': 35,\n",
              " 'kuvera': 33,\n",
              " 'groww': 24,\n",
              " 'also': 3,\n",
              " 'online': 41,\n",
              " 'investment': 28,\n",
              " 'platform': 42,\n",
              " 'where': 50,\n",
              " 'invest': 27,\n",
              " 'in': 26,\n",
              " 'direct': 12,\n",
              " 'mutual': 40,\n",
              " 'funds': 22}"
            ]
          },
          "metadata": {},
          "execution_count": 47
        }
      ]
    },
    {
      "cell_type": "code",
      "source": [
        "small_vect.get_feature_names_out()"
      ],
      "metadata": {
        "colab": {
          "base_uri": "https://localhost:8080/"
        },
        "id": "xdGIaGmljLEO",
        "outputId": "98232ced-e154-4c5e-8305-e5cf130deda3"
      },
      "execution_count": 48,
      "outputs": [
        {
          "output_type": "execute_result",
          "data": {
            "text/plain": [
              "array(['10th', 'abroad', 'after', 'also', 'apk', 'as', 'bangladesh',\n",
              "       'can', 'class', 'classroom', 'college', 'create', 'direct', 'do',\n",
              "       'download', 'edition', 'effective', 'environment', 'for', 'free',\n",
              "       'friends', 'from', 'funds', 'good', 'groww', 'how', 'in', 'invest',\n",
              "       'investment', 'ios', 'iphone', 'is', 'junior', 'kuvera',\n",
              "       'learning', 'like', 'make', 'management', 'minecraft', 'most',\n",
              "       'mutual', 'online', 'platform', 'pocket', 'skill', 'study',\n",
              "       'technique', 'the', 'to', 'what', 'where'], dtype=object)"
            ]
          },
          "metadata": {},
          "execution_count": 48
        }
      ]
    },
    {
      "cell_type": "markdown",
      "source": [
        "###Transform documents into Vector"
      ],
      "metadata": {
        "id": "Dj7J6wYYj7EM"
      }
    },
    {
      "cell_type": "code",
      "source": [
        "vectors=small_vect.transform(small_df.question_text)"
      ],
      "metadata": {
        "id": "DPCbKK3DkC-1"
      },
      "execution_count": 49,
      "outputs": []
    },
    {
      "cell_type": "code",
      "source": [
        "vectors"
      ],
      "metadata": {
        "colab": {
          "base_uri": "https://localhost:8080/"
        },
        "id": "uCGCxOeRkDCT",
        "outputId": "52c58581-10c4-4f25-eec9-2e6115901cd4"
      },
      "execution_count": 50,
      "outputs": [
        {
          "output_type": "execute_result",
          "data": {
            "text/plain": [
              "<5x51 sparse matrix of type '<class 'numpy.int64'>'\n",
              "\twith 56 stored elements in Compressed Sparse Row format>"
            ]
          },
          "metadata": {},
          "execution_count": 50
        }
      ]
    },
    {
      "cell_type": "code",
      "source": [
        "vectors.shape\n"
      ],
      "metadata": {
        "colab": {
          "base_uri": "https://localhost:8080/"
        },
        "id": "rd1BJ7KPkDIp",
        "outputId": "bc6f3321-dbe1-48c9-e69a-262ae253e6ed"
      },
      "execution_count": 51,
      "outputs": [
        {
          "output_type": "execute_result",
          "data": {
            "text/plain": [
              "(5, 51)"
            ]
          },
          "metadata": {},
          "execution_count": 51
        }
      ]
    },
    {
      "cell_type": "code",
      "source": [
        "vectors.toarray()"
      ],
      "metadata": {
        "colab": {
          "base_uri": "https://localhost:8080/"
        },
        "id": "JkSXOQhtkDLe",
        "outputId": "7317d61f-065c-4856-fa39-b88943ac618b"
      },
      "execution_count": 52,
      "outputs": [
        {
          "output_type": "execute_result",
          "data": {
            "text/plain": [
              "array([[0, 0, 0, 0, 0, 0, 0, 0, 0, 1, 0, 1, 0, 0, 0, 0, 1, 1, 0, 0, 0, 0,\n",
              "        0, 1, 0, 0, 0, 0, 0, 0, 0, 1, 0, 0, 1, 0, 0, 1, 0, 1, 0, 0, 0, 0,\n",
              "        1, 0, 1, 1, 1, 1, 0],\n",
              "       [1, 1, 1, 0, 0, 0, 1, 1, 1, 0, 0, 0, 0, 0, 0, 0, 0, 0, 0, 0, 0, 1,\n",
              "        0, 0, 0, 0, 0, 0, 0, 0, 0, 0, 0, 0, 0, 0, 0, 0, 0, 0, 0, 0, 0, 0,\n",
              "        0, 1, 0, 0, 0, 0, 0],\n",
              "       [0, 0, 0, 0, 0, 1, 0, 1, 0, 0, 1, 0, 0, 0, 0, 0, 0, 0, 0, 0, 1, 0,\n",
              "        0, 0, 0, 1, 0, 0, 0, 0, 0, 0, 1, 0, 0, 0, 1, 0, 0, 0, 0, 0, 0, 0,\n",
              "        0, 0, 0, 0, 0, 0, 0],\n",
              "       [0, 0, 0, 0, 1, 0, 0, 0, 0, 0, 0, 0, 0, 1, 1, 1, 0, 0, 1, 1, 0, 0,\n",
              "        0, 0, 0, 1, 0, 0, 0, 1, 1, 0, 0, 0, 0, 0, 0, 0, 1, 0, 0, 0, 0, 1,\n",
              "        0, 0, 0, 0, 0, 0, 0],\n",
              "       [0, 0, 0, 1, 0, 0, 0, 1, 0, 0, 0, 0, 1, 0, 0, 0, 0, 0, 0, 1, 0, 0,\n",
              "        1, 0, 1, 0, 1, 1, 1, 0, 0, 1, 0, 1, 0, 1, 0, 0, 0, 0, 1, 1, 1, 0,\n",
              "        0, 0, 0, 0, 0, 0, 1]])"
            ]
          },
          "metadata": {},
          "execution_count": 52
        }
      ]
    },
    {
      "cell_type": "markdown",
      "source": [
        "Configure Count Vectorizer Paramenters"
      ],
      "metadata": {
        "id": "qF-Kb9pAl0Ro"
      }
    },
    {
      "cell_type": "code",
      "source": [
        "stemmer = SnowballStemmer(language='english')"
      ],
      "metadata": {
        "id": "5_b2HxjYndab"
      },
      "execution_count": 53,
      "outputs": []
    },
    {
      "cell_type": "code",
      "source": [
        "def tokenize(text):\n",
        "  return [stemmer.stem(word) for word in word_tokenize(text) if word.lower() not in english_stopwords]"
      ],
      "metadata": {
        "id": "GUJa4ovEmVB-"
      },
      "execution_count": 54,
      "outputs": []
    },
    {
      "cell_type": "code",
      "source": [],
      "metadata": {
        "id": "aME82KNkms_3"
      },
      "execution_count": 54,
      "outputs": []
    },
    {
      "cell_type": "code",
      "source": [],
      "metadata": {
        "id": "aK6-7z56mtDi"
      },
      "execution_count": 54,
      "outputs": []
    },
    {
      "cell_type": "code",
      "source": [
        "vectorizer = CountVectorizer(lowercase =True,\n",
        "                             tokenizer=tokenize,\n",
        "                             stop_words=english_stopwords,\n",
        "                             max_features =1000)"
      ],
      "metadata": {
        "id": "k4wAp_hlkDN7"
      },
      "execution_count": 55,
      "outputs": []
    },
    {
      "cell_type": "code",
      "source": [
        "sample_df"
      ],
      "metadata": {
        "colab": {
          "base_uri": "https://localhost:8080/",
          "height": 485
        },
        "id": "NOfvBKw3kDQ_",
        "outputId": "5f0a4e71-c1b1-4266-80d8-9857315b8c6c"
      },
      "execution_count": 56,
      "outputs": [
        {
          "output_type": "execute_result",
          "data": {
            "text/plain": [
              "                          qid  \\\n",
              "443046   56d324bb1e2c29f43b12   \n",
              "947549   b9ad893dc78c577f8a63   \n",
              "523769   6689ebaeeb65b209a412   \n",
              "949821   ba1e2c4a0fef09671516   \n",
              "1030397  c9ea2b69bf0d74626f46   \n",
              "...                       ...   \n",
              "998930   c3c03a307a29c69971b4   \n",
              "66641    0d119aba95ee6684f506   \n",
              "90024    11a46cd148a104b271cf   \n",
              "130113   1973e6e2111a0c93193a   \n",
              "1137     0037ed037520d82393c0   \n",
              "\n",
              "                                             question_text  target  \n",
              "443046   What is the most effective classroom managemen...       0  \n",
              "947549   Can I study abroad after 10th class from Bangl...       0  \n",
              "523769         How can I make friends as a college junior?       0  \n",
              "949821   How do I download free APK Minecraft: Pocket E...       0  \n",
              "1030397  Like Kuvera, is \"Groww\" also a free online inv...       0  \n",
              "...                                                    ...     ...  \n",
              "998930   How do I research list of reliable charcoal im...       0  \n",
              "66641    What are petroleum products, and what is petro...       0  \n",
              "90024    What are some services that will let you quick...       0  \n",
              "130113   What credit card processors do online marketpl...       0  \n",
              "1137          On which number system does a computer work?       0  \n",
              "\n",
              "[100000 rows x 3 columns]"
            ],
            "text/html": [
              "\n",
              "  <div id=\"df-77b12920-2300-4ac9-ae75-965c5e2a5d9e\">\n",
              "    <div class=\"colab-df-container\">\n",
              "      <div>\n",
              "<style scoped>\n",
              "    .dataframe tbody tr th:only-of-type {\n",
              "        vertical-align: middle;\n",
              "    }\n",
              "\n",
              "    .dataframe tbody tr th {\n",
              "        vertical-align: top;\n",
              "    }\n",
              "\n",
              "    .dataframe thead th {\n",
              "        text-align: right;\n",
              "    }\n",
              "</style>\n",
              "<table border=\"1\" class=\"dataframe\">\n",
              "  <thead>\n",
              "    <tr style=\"text-align: right;\">\n",
              "      <th></th>\n",
              "      <th>qid</th>\n",
              "      <th>question_text</th>\n",
              "      <th>target</th>\n",
              "    </tr>\n",
              "  </thead>\n",
              "  <tbody>\n",
              "    <tr>\n",
              "      <th>443046</th>\n",
              "      <td>56d324bb1e2c29f43b12</td>\n",
              "      <td>What is the most effective classroom managemen...</td>\n",
              "      <td>0</td>\n",
              "    </tr>\n",
              "    <tr>\n",
              "      <th>947549</th>\n",
              "      <td>b9ad893dc78c577f8a63</td>\n",
              "      <td>Can I study abroad after 10th class from Bangl...</td>\n",
              "      <td>0</td>\n",
              "    </tr>\n",
              "    <tr>\n",
              "      <th>523769</th>\n",
              "      <td>6689ebaeeb65b209a412</td>\n",
              "      <td>How can I make friends as a college junior?</td>\n",
              "      <td>0</td>\n",
              "    </tr>\n",
              "    <tr>\n",
              "      <th>949821</th>\n",
              "      <td>ba1e2c4a0fef09671516</td>\n",
              "      <td>How do I download free APK Minecraft: Pocket E...</td>\n",
              "      <td>0</td>\n",
              "    </tr>\n",
              "    <tr>\n",
              "      <th>1030397</th>\n",
              "      <td>c9ea2b69bf0d74626f46</td>\n",
              "      <td>Like Kuvera, is \"Groww\" also a free online inv...</td>\n",
              "      <td>0</td>\n",
              "    </tr>\n",
              "    <tr>\n",
              "      <th>...</th>\n",
              "      <td>...</td>\n",
              "      <td>...</td>\n",
              "      <td>...</td>\n",
              "    </tr>\n",
              "    <tr>\n",
              "      <th>998930</th>\n",
              "      <td>c3c03a307a29c69971b4</td>\n",
              "      <td>How do I research list of reliable charcoal im...</td>\n",
              "      <td>0</td>\n",
              "    </tr>\n",
              "    <tr>\n",
              "      <th>66641</th>\n",
              "      <td>0d119aba95ee6684f506</td>\n",
              "      <td>What are petroleum products, and what is petro...</td>\n",
              "      <td>0</td>\n",
              "    </tr>\n",
              "    <tr>\n",
              "      <th>90024</th>\n",
              "      <td>11a46cd148a104b271cf</td>\n",
              "      <td>What are some services that will let you quick...</td>\n",
              "      <td>0</td>\n",
              "    </tr>\n",
              "    <tr>\n",
              "      <th>130113</th>\n",
              "      <td>1973e6e2111a0c93193a</td>\n",
              "      <td>What credit card processors do online marketpl...</td>\n",
              "      <td>0</td>\n",
              "    </tr>\n",
              "    <tr>\n",
              "      <th>1137</th>\n",
              "      <td>0037ed037520d82393c0</td>\n",
              "      <td>On which number system does a computer work?</td>\n",
              "      <td>0</td>\n",
              "    </tr>\n",
              "  </tbody>\n",
              "</table>\n",
              "<p>100000 rows × 3 columns</p>\n",
              "</div>\n",
              "      <button class=\"colab-df-convert\" onclick=\"convertToInteractive('df-77b12920-2300-4ac9-ae75-965c5e2a5d9e')\"\n",
              "              title=\"Convert this dataframe to an interactive table.\"\n",
              "              style=\"display:none;\">\n",
              "        \n",
              "  <svg xmlns=\"http://www.w3.org/2000/svg\" height=\"24px\"viewBox=\"0 0 24 24\"\n",
              "       width=\"24px\">\n",
              "    <path d=\"M0 0h24v24H0V0z\" fill=\"none\"/>\n",
              "    <path d=\"M18.56 5.44l.94 2.06.94-2.06 2.06-.94-2.06-.94-.94-2.06-.94 2.06-2.06.94zm-11 1L8.5 8.5l.94-2.06 2.06-.94-2.06-.94L8.5 2.5l-.94 2.06-2.06.94zm10 10l.94 2.06.94-2.06 2.06-.94-2.06-.94-.94-2.06-.94 2.06-2.06.94z\"/><path d=\"M17.41 7.96l-1.37-1.37c-.4-.4-.92-.59-1.43-.59-.52 0-1.04.2-1.43.59L10.3 9.45l-7.72 7.72c-.78.78-.78 2.05 0 2.83L4 21.41c.39.39.9.59 1.41.59.51 0 1.02-.2 1.41-.59l7.78-7.78 2.81-2.81c.8-.78.8-2.07 0-2.86zM5.41 20L4 18.59l7.72-7.72 1.47 1.35L5.41 20z\"/>\n",
              "  </svg>\n",
              "      </button>\n",
              "      \n",
              "  <style>\n",
              "    .colab-df-container {\n",
              "      display:flex;\n",
              "      flex-wrap:wrap;\n",
              "      gap: 12px;\n",
              "    }\n",
              "\n",
              "    .colab-df-convert {\n",
              "      background-color: #E8F0FE;\n",
              "      border: none;\n",
              "      border-radius: 50%;\n",
              "      cursor: pointer;\n",
              "      display: none;\n",
              "      fill: #1967D2;\n",
              "      height: 32px;\n",
              "      padding: 0 0 0 0;\n",
              "      width: 32px;\n",
              "    }\n",
              "\n",
              "    .colab-df-convert:hover {\n",
              "      background-color: #E2EBFA;\n",
              "      box-shadow: 0px 1px 2px rgba(60, 64, 67, 0.3), 0px 1px 3px 1px rgba(60, 64, 67, 0.15);\n",
              "      fill: #174EA6;\n",
              "    }\n",
              "\n",
              "    [theme=dark] .colab-df-convert {\n",
              "      background-color: #3B4455;\n",
              "      fill: #D2E3FC;\n",
              "    }\n",
              "\n",
              "    [theme=dark] .colab-df-convert:hover {\n",
              "      background-color: #434B5C;\n",
              "      box-shadow: 0px 1px 3px 1px rgba(0, 0, 0, 0.15);\n",
              "      filter: drop-shadow(0px 1px 2px rgba(0, 0, 0, 0.3));\n",
              "      fill: #FFFFFF;\n",
              "    }\n",
              "  </style>\n",
              "\n",
              "      <script>\n",
              "        const buttonEl =\n",
              "          document.querySelector('#df-77b12920-2300-4ac9-ae75-965c5e2a5d9e button.colab-df-convert');\n",
              "        buttonEl.style.display =\n",
              "          google.colab.kernel.accessAllowed ? 'block' : 'none';\n",
              "\n",
              "        async function convertToInteractive(key) {\n",
              "          const element = document.querySelector('#df-77b12920-2300-4ac9-ae75-965c5e2a5d9e');\n",
              "          const dataTable =\n",
              "            await google.colab.kernel.invokeFunction('convertToInteractive',\n",
              "                                                     [key], {});\n",
              "          if (!dataTable) return;\n",
              "\n",
              "          const docLinkHtml = 'Like what you see? Visit the ' +\n",
              "            '<a target=\"_blank\" href=https://colab.research.google.com/notebooks/data_table.ipynb>data table notebook</a>'\n",
              "            + ' to learn more about interactive tables.';\n",
              "          element.innerHTML = '';\n",
              "          dataTable['output_type'] = 'display_data';\n",
              "          await google.colab.output.renderOutput(dataTable, element);\n",
              "          const docLink = document.createElement('div');\n",
              "          docLink.innerHTML = docLinkHtml;\n",
              "          element.appendChild(docLink);\n",
              "        }\n",
              "      </script>\n",
              "    </div>\n",
              "  </div>\n",
              "  "
            ]
          },
          "metadata": {},
          "execution_count": 56
        }
      ]
    },
    {
      "cell_type": "code",
      "source": [
        "%%time\n",
        "vectorizer.fit(sample_df.question_text)"
      ],
      "metadata": {
        "colab": {
          "base_uri": "https://localhost:8080/"
        },
        "id": "PxKZhCipkDUt",
        "outputId": "c18d7979-991f-490d-8103-1760eea9c396"
      },
      "execution_count": 57,
      "outputs": [
        {
          "output_type": "stream",
          "name": "stderr",
          "text": [
            "/usr/local/lib/python3.7/dist-packages/sklearn/feature_extraction/text.py:517: UserWarning: The parameter 'token_pattern' will not be used since 'tokenizer' is not None'\n",
            "  \"The parameter 'token_pattern' will not be used\"\n",
            "/usr/local/lib/python3.7/dist-packages/sklearn/feature_extraction/text.py:401: UserWarning: Your stop_words may be inconsistent with your preprocessing. Tokenizing the stop words generated tokens [\"'d\", \"'s\", 'could', 'might', 'must', \"n't\", 'need', 'sha', 'wo', 'would'] not in stop_words.\n",
            "  % sorted(inconsistent)\n"
          ]
        },
        {
          "output_type": "stream",
          "name": "stdout",
          "text": [
            "CPU times: user 30.2 s, sys: 138 ms, total: 30.4 s\n",
            "Wall time: 30.6 s\n"
          ]
        },
        {
          "output_type": "execute_result",
          "data": {
            "text/plain": [
              "CountVectorizer(max_features=1000,\n",
              "                stop_words=['i', 'me', 'my', 'myself', 'we', 'our', 'ours',\n",
              "                            'ourselves', 'you', \"you're\", \"you've\", \"you'll\",\n",
              "                            \"you'd\", 'your', 'yours', 'yourself', 'yourselves',\n",
              "                            'he', 'him', 'his', 'himself', 'she', \"she's\",\n",
              "                            'her', 'hers', 'herself', 'it', \"it's\", 'its',\n",
              "                            'itself', ...],\n",
              "                tokenizer=<function tokenize at 0x7fefc8c5b4d0>)"
            ]
          },
          "metadata": {},
          "execution_count": 57
        }
      ]
    },
    {
      "cell_type": "code",
      "source": [
        "vectorizer.vocabulary_"
      ],
      "metadata": {
        "colab": {
          "base_uri": "https://localhost:8080/"
        },
        "id": "e-IbmiD8p6Mc",
        "outputId": "9cabf382-4a48-4f1e-9bb7-10995b7fe7e7"
      },
      "execution_count": 58,
      "outputs": [
        {
          "output_type": "execute_result",
          "data": {
            "text/plain": [
              "{'effect': 298,\n",
              " 'manag': 546,\n",
              " 'creat': 235,\n",
              " 'good': 400,\n",
              " 'learn': 508,\n",
              " '?': 31,\n",
              " 'studi': 872,\n",
              " 'abroad': 36,\n",
              " 'class': 194,\n",
              " 'make': 543,\n",
              " 'friend': 379,\n",
              " 'colleg': 202,\n",
              " 'download': 281,\n",
              " 'free': 377,\n",
              " ':': 30,\n",
              " '(': 8,\n",
              " 'iphon': 476,\n",
              " ')': 9,\n",
              " 'like': 521,\n",
              " ',': 10,\n",
              " '``': 34,\n",
              " \"''\": 5,\n",
              " 'also': 67,\n",
              " 'onlin': 635,\n",
              " 'invest': 474,\n",
              " 'platform': 677,\n",
              " 'direct': 273,\n",
              " 'fund': 382,\n",
              " 'record': 747,\n",
              " 'read': 738,\n",
              " 'term': 901,\n",
              " \"'s\": 7,\n",
              " 'role': 774,\n",
              " 'get': 392,\n",
              " 'univers': 938,\n",
              " 'germani': 391,\n",
              " 'new': 613,\n",
              " 'skill': 829,\n",
              " 'anyth': 81,\n",
              " 'old': 633,\n",
              " 'english': 310,\n",
              " 'militari': 578,\n",
              " 'capit': 159,\n",
              " 'way': 958,\n",
              " 'earn': 289,\n",
              " 'money': 588,\n",
              " 'use': 942,\n",
              " 'brand': 142,\n",
              " 'car': 160,\n",
              " 'alway': 69,\n",
              " 'prefer': 694,\n",
              " 'player': 679,\n",
              " 'india': 454,\n",
              " 'play': 678,\n",
              " 'need': 608,\n",
              " 'purchas': 721,\n",
              " 'insur': 465,\n",
              " 'educ': 297,\n",
              " 'technolog': 898,\n",
              " 'compani': 210,\n",
              " 'come': 204,\n",
              " 'economi': 296,\n",
              " 'pursu': 723,\n",
              " 'mba': 561,\n",
              " 'activ': 46,\n",
              " 'place': 672,\n",
              " 'citizen': 191,\n",
              " \"'\": 4,\n",
              " 'featur': 351,\n",
              " 'air': 62,\n",
              " 'intern': 469,\n",
              " 'applic': 87,\n",
              " 'countri': 231,\n",
              " 'one': 634,\n",
              " 'movi': 593,\n",
              " 'actual': 48,\n",
              " 'rich': 770,\n",
              " 'peopl': 660,\n",
              " \"n't\": 601,\n",
              " 'care': 162,\n",
              " 'world': 981,\n",
              " 'issu': 480,\n",
              " 'affect': 57,\n",
              " 'poor': 685,\n",
              " 'deal': 252,\n",
              " 'problem': 703,\n",
              " 'life': 519,\n",
              " 'mean': 562,\n",
              " 'fear': 350,\n",
              " 'achiev': 43,\n",
              " 'success': 876,\n",
              " 'busi': 148,\n",
              " 'say': 785,\n",
              " 'mass': 553,\n",
              " 'shoot': 815,\n",
              " 'look': 532,\n",
              " 'start': 858,\n",
              " 'program': 711,\n",
              " 'year': 990,\n",
              " '.': 12,\n",
              " 'job': 486,\n",
              " 'offer': 627,\n",
              " 'special': 850,\n",
              " 'iit': 444,\n",
              " 'time': 910,\n",
              " 'anyon': 80,\n",
              " 'part': 654,\n",
              " 'bodi': 135,\n",
              " 'social': 835,\n",
              " 'help': 426,\n",
              " 'consid': 218,\n",
              " 'document': 277,\n",
              " 'child': 184,\n",
              " 'media': 565,\n",
              " 'feel': 353,\n",
              " 'leav': 510,\n",
              " 'determin': 266,\n",
              " 'area': 90,\n",
              " 'water': 957,\n",
              " 'left': 511,\n",
              " 'month': 589,\n",
              " 'safe': 780,\n",
              " 'drink': 283,\n",
              " 'better': 123,\n",
              " 'tip': 911,\n",
              " 'write': 985,\n",
              " 'email': 303,\n",
              " 'japanes': 482,\n",
              " 'first': 364,\n",
              " 'charact': 177,\n",
              " 'civil': 192,\n",
              " 'select': 800,\n",
              " 'financi': 361,\n",
              " 'certif': 172,\n",
              " 'requir': 761,\n",
              " 'admiss': 52,\n",
              " '2018': 22,\n",
              " 'see': 797,\n",
              " 'quora': 727,\n",
              " 'app': 83,\n",
              " 'show': 818,\n",
              " 'question': 726,\n",
              " 'south': 847,\n",
              " 'indian': 455,\n",
              " 'men': 570,\n",
              " 'dark': 247,\n",
              " 'realli': 742,\n",
              " 'keep': 488,\n",
              " 'face': 336,\n",
              " 'day': 250,\n",
              " 'long': 531,\n",
              " 'institut': 464,\n",
              " 'market': 550,\n",
              " 'exist': 329,\n",
              " 'noth': 621,\n",
              " 'stop': 865,\n",
              " 'back': 108,\n",
              " 'ever': 320,\n",
              " 'pakistan': 650,\n",
              " 'becom': 117,\n",
              " 'state': 860,\n",
              " 'iq': 477,\n",
              " 'person': 666,\n",
              " 'known': 495,\n",
              " 'someon': 840,\n",
              " 'black': 129,\n",
              " 'video': 947,\n",
              " 'hand': 414,\n",
              " 'away': 105,\n",
              " 'someth': 841,\n",
              " 'normal': 619,\n",
              " 'fee': 352,\n",
              " 'win': 971,\n",
              " 'war': 955,\n",
              " 'gate': 386,\n",
              " 'import': 449,\n",
              " 'jew': 485,\n",
              " 'type': 933,\n",
              " 'measur': 563,\n",
              " 'current': 242,\n",
              " 'main': 541,\n",
              " 'advantag': 55,\n",
              " 'network': 611,\n",
              " 'secur': 796,\n",
              " 'moment': 587,\n",
              " 'young': 993,\n",
              " 'student': 871,\n",
              " 'would': 984,\n",
              " 'move': 592,\n",
              " 'school': 786,\n",
              " 'appli': 86,\n",
              " 'internship': 471,\n",
              " 'eat': 294,\n",
              " 'even': 318,\n",
              " 'though': 907,\n",
              " 'healthi': 422,\n",
              " 'facebook': 337,\n",
              " 'regard': 751,\n",
              " 'list': 525,\n",
              " 'detail': 265,\n",
              " 'relat': 752,\n",
              " 'adult': 53,\n",
              " 'thing': 905,\n",
              " 'girl': 393,\n",
              " 'fall': 342,\n",
              " 'love': 537,\n",
              " 'guy': 412,\n",
              " 'call': 154,\n",
              " 'russian': 779,\n",
              " 'attack': 98,\n",
              " 'internet': 470,\n",
              " 'work': 980,\n",
              " 'everi': 321,\n",
              " 'chang': 175,\n",
              " 'happen': 416,\n",
              " 'best': 122,\n",
              " 'scienc': 787,\n",
              " 'age': 60,\n",
              " 'electron': 301,\n",
              " 'middl': 576,\n",
              " 'east': 293,\n",
              " 'hard': 418,\n",
              " 'find': 362,\n",
              " 'true': 927,\n",
              " 'much': 595,\n",
              " 'spend': 853,\n",
              " 'energi': 308,\n",
              " 'ca': 151,\n",
              " 'machin': 539,\n",
              " 'instead': 463,\n",
              " 'level': 516,\n",
              " 'size': 828,\n",
              " 'googl': 401,\n",
              " '1': 13,\n",
              " 'number': 624,\n",
              " 'jee': 484,\n",
              " 'ball': 110,\n",
              " 'possibl': 689,\n",
              " 'cost': 229,\n",
              " 'light': 520,\n",
              " 'calcul': 152,\n",
              " 'big': 124,\n",
              " 'fast': 346,\n",
              " 'board': 134,\n",
              " 'exam': 326,\n",
              " 'process': 705,\n",
              " 'us': 940,\n",
              " 'bad': 109,\n",
              " 'law': 505,\n",
              " 'watch': 956,\n",
              " 'engin': 309,\n",
              " 'low': 538,\n",
              " 'power': 692,\n",
              " 'stock': 864,\n",
              " 'trade': 920,\n",
              " 'option': 640,\n",
              " 'differ': 270,\n",
              " 'muslim': 599,\n",
              " 'american': 72,\n",
              " 'women': 978,\n",
              " 'open': 636,\n",
              " 'rape': 732,\n",
              " 'tri': 926,\n",
              " 'want': 954,\n",
              " 'answer': 78,\n",
              " 'communic': 208,\n",
              " 'within': 974,\n",
              " 'could': 230,\n",
              " 'act': 44,\n",
              " 'sever': 811,\n",
              " 'star': 857,\n",
              " 'scientif': 788,\n",
              " 'procedur': 704,\n",
              " 'reduc': 749,\n",
              " 'worst': 982,\n",
              " 'high': 427,\n",
              " 'support': 882,\n",
              " 'softwar': 837,\n",
              " 'sourc': 846,\n",
              " 'reason': 743,\n",
              " 'wear': 960,\n",
              " 'real': 739,\n",
              " 'food': 371,\n",
              " 'whole': 969,\n",
              " 'data': 248,\n",
              " 'defin': 256,\n",
              " 'polit': 684,\n",
              " 'decis': 255,\n",
              " 'dream': 282,\n",
              " 'convert': 226,\n",
              " 'standard': 856,\n",
              " 'yes': 991,\n",
              " 'done': 280,\n",
              " 'pay': 659,\n",
              " 'tax': 891,\n",
              " 'cut': 244,\n",
              " 'without': 975,\n",
              " 'polic': 682,\n",
              " 'offic': 628,\n",
              " 'b': 106,\n",
              " 'commit': 206,\n",
              " 'crime': 237,\n",
              " 'common': 207,\n",
              " 'think': 906,\n",
              " 'late': 503,\n",
              " 'outsid': 644,\n",
              " 'mani': 547,\n",
              " 'die': 269,\n",
              " 'trump': 928,\n",
              " 'ask': 95,\n",
              " 'interview': 472,\n",
              " 'test': 902,\n",
              " 'check': 181,\n",
              " 'cancer': 157,\n",
              " 'interest': 468,\n",
              " 'rate': 733,\n",
              " 'full': 380,\n",
              " 'tv': 931,\n",
              " 'seri': 807,\n",
              " 'next': 615,\n",
              " 'generat': 389,\n",
              " 'order': 641,\n",
              " 'understand': 936,\n",
              " 'stori': 867,\n",
              " 'citi': 190,\n",
              " 'claim': 193,\n",
              " 'hire': 430,\n",
              " 'share': 814,\n",
              " 'candid': 158,\n",
              " 'tell': 900,\n",
              " 'famili': 343,\n",
              " 'improv': 450,\n",
              " 'parent': 653,\n",
              " 'boy': 138,\n",
              " 'almost': 64,\n",
              " 'appear': 84,\n",
              " 'gay': 387,\n",
              " 'hate': 419,\n",
              " 'carri': 164,\n",
              " 'usa': 941,\n",
              " 'non': 618,\n",
              " 'constant': 219,\n",
              " 'legal': 512,\n",
              " '7': 28,\n",
              " 'event': 319,\n",
              " 'sudden': 877,\n",
              " 'earth': 290,\n",
              " 'dead': 251,\n",
              " 'major': 542,\n",
              " 'sign': 820,\n",
              " 'take': 887,\n",
              " 'websit': 962,\n",
              " 'comput': 213,\n",
              " 'tamil': 890,\n",
              " 'compar': 211,\n",
              " 'fix': 366,\n",
              " 'teach': 892,\n",
              " 'speak': 849,\n",
              " 'eye': 335,\n",
              " 'right': 772,\n",
              " 'sexual': 813,\n",
              " 'abus': 37,\n",
              " 'atheist': 97,\n",
              " 'got': 402,\n",
              " 'function': 381,\n",
              " 'organ': 642,\n",
              " 'serv': 808,\n",
              " 'psycholog': 718,\n",
              " 'group': 408,\n",
              " 'mumbai': 597,\n",
              " 'score': 791,\n",
              " 'match': 555,\n",
              " 'motiv': 591,\n",
              " '&': 3,\n",
              " '$': 1,\n",
              " 'paid': 648,\n",
              " 'buy': 149,\n",
              " '8': 29,\n",
              " 'integr': 466,\n",
              " 'mechan': 564,\n",
              " 'relationship': 753,\n",
              " 'break': 143,\n",
              " 'end': 307,\n",
              " 'grade': 404,\n",
              " 'mark': 549,\n",
              " 'matter': 559,\n",
              " 'canada': 156,\n",
              " 'red': 748,\n",
              " 'drop': 285,\n",
              " 'form': 375,\n",
              " 'uk': 935,\n",
              " 'turn': 930,\n",
              " 'realiz': 741,\n",
              " 'hitler': 433,\n",
              " 'shop': 816,\n",
              " 'accomplish': 40,\n",
              " '’': 997,\n",
              " 'chanc': 174,\n",
              " 'father': 348,\n",
              " 'medic': 566,\n",
              " 'fit': 365,\n",
              " 'go': 398,\n",
              " 'rank': 731,\n",
              " 'expect': 330,\n",
              " 'advanc': 54,\n",
              " '2017': 21,\n",
              " 'actor': 47,\n",
              " 'model': 583,\n",
              " 'join': 487,\n",
              " 'week': 963,\n",
              " 'complet': 212,\n",
              " 'north': 620,\n",
              " 'lead': 506,\n",
              " 'taken': 888,\n",
              " 'kind': 492,\n",
              " 'asian': 94,\n",
              " 'give': 395,\n",
              " 'sleep': 831,\n",
              " 'realiti': 740,\n",
              " 'pleas': 680,\n",
              " 'foreign': 374,\n",
              " 'languag': 499,\n",
              " 'cours': 232,\n",
              " 'career': 163,\n",
              " 'opportun': 639,\n",
              " 'smoke': 834,\n",
              " 'singl': 824,\n",
              " 'exampl': 327,\n",
              " 'vs': 952,\n",
              " 'access': 39,\n",
              " 'mind': 580,\n",
              " 'lose': 533,\n",
              " 'result': 767,\n",
              " 'loss': 534,\n",
              " 'well': 965,\n",
              " 'correct': 228,\n",
              " 'french': 378,\n",
              " 'bring': 144,\n",
              " 'european': 317,\n",
              " 'kill': 491,\n",
              " '4': 25,\n",
              " 'australia': 101,\n",
              " 'system': 886,\n",
              " 'connect': 216,\n",
              " 'emot': 304,\n",
              " 'signific': 821,\n",
              " 'electr': 300,\n",
              " \"'m\": 6,\n",
              " 'wo': 976,\n",
              " '10': 14,\n",
              " '%': 2,\n",
              " 'includ': 451,\n",
              " 'past': 658,\n",
              " '5': 26,\n",
              " 'minor': 581,\n",
              " 'avail': 102,\n",
              " 'societi': 836,\n",
              " 'ok': 631,\n",
              " 'extrem': 334,\n",
              " 'phd': 667,\n",
              " 'produc': 706,\n",
              " 'conserv': 217,\n",
              " 'sinc': 823,\n",
              " 'choos': 188,\n",
              " 'condit': 215,\n",
              " 'focus': 369,\n",
              " 'anim': 76,\n",
              " 'bitcoin': 128,\n",
              " 'enjoy': 311,\n",
              " 'topic': 917,\n",
              " '“': 998,\n",
              " 'enough': 312,\n",
              " 'lie': 518,\n",
              " '”': 999,\n",
              " 'know': 493,\n",
              " 'let': 514,\n",
              " 'pictur': 671,\n",
              " 'ban': 111,\n",
              " 'kid': 490,\n",
              " 'arab': 89,\n",
              " 'africa': 58,\n",
              " 'govern': 403,\n",
              " 'must': 600,\n",
              " 'respect': 764,\n",
              " 'heart': 424,\n",
              " 'space': 848,\n",
              " 'secret': 795,\n",
              " 'wish': 973,\n",
              " 'describ': 262,\n",
              " 'devic': 268,\n",
              " 'fact': 338,\n",
              " 'mathemat': 558,\n",
              " 'never': 612,\n",
              " 'solv': 839,\n",
              " 'basic': 115,\n",
              " 'salari': 782,\n",
              " 'theori': 904,\n",
              " 'california': 153,\n",
              " 'math': 557,\n",
              " 'web': 961,\n",
              " 'design': 263,\n",
              " 'teacher': 893,\n",
              " 'home': 435,\n",
              " 'pressur': 699,\n",
              " 'invent': 473,\n",
              " 'product': 707,\n",
              " 'line': 523,\n",
              " 'wrong': 988,\n",
              " 'stay': 861,\n",
              " 'narcissist': 603,\n",
              " 'valu': 945,\n",
              " 'small': 832,\n",
              " 'usual': 944,\n",
              " 'similar': 822,\n",
              " 'experi': 332,\n",
              " 'visit': 950,\n",
              " 'intellig': 467,\n",
              " 'drive': 284,\n",
              " 'unit': 937,\n",
              " '2': 19,\n",
              " 'releas': 754,\n",
              " 'game': 385,\n",
              " 'inspir': 461,\n",
              " 'book': 136,\n",
              " 'master': 554,\n",
              " 'locat': 530,\n",
              " 'develop': 267,\n",
              " 'metal': 574,\n",
              " 'case': 165,\n",
              " 'bit': 127,\n",
              " 'summer': 881,\n",
              " 'china': 186,\n",
              " 'sometim': 842,\n",
              " 'korea': 496,\n",
              " 'russia': 778,\n",
              " 'present': 697,\n",
              " 'presid': 698,\n",
              " 'immigr': 447,\n",
              " 'per': 661,\n",
              " 'natur': 605,\n",
              " 'death': 253,\n",
              " 'exact': 325,\n",
              " 'idea': 442,\n",
              " 'god': 399,\n",
              " 'begin': 118,\n",
              " 'servic': 809,\n",
              " 'alreadi': 66,\n",
              " 'attract': 100,\n",
              " 'talk': 889,\n",
              " 'prevent': 700,\n",
              " 'opinion': 638,\n",
              " 'stand': 855,\n",
              " 'name': 602,\n",
              " 'point': 681,\n",
              " 'made': 540,\n",
              " 'side': 819,\n",
              " 'coach': 199,\n",
              " 'prepar': 696,\n",
              " 'korean': 497,\n",
              " 'son': 843,\n",
              " 'girlfriend': 394,\n",
              " 'base': 114,\n",
              " 'final': 359,\n",
              " 'recommend': 746,\n",
              " 'letter': 515,\n",
              " 'futur': 383,\n",
              " 'style': 874,\n",
              " 'might': 577,\n",
              " 'higher': 428,\n",
              " 'rather': 734,\n",
              " 'allow': 63,\n",
              " 'post': 690,\n",
              " 'save': 784,\n",
              " 'nation': 604,\n",
              " 'apart': 82,\n",
              " 'price': 701,\n",
              " 'self': 801,\n",
              " 'sound': 845,\n",
              " 'digit': 272,\n",
              " 'multipl': 596,\n",
              " 'account': 42,\n",
              " 'materi': 556,\n",
              " 'android': 75,\n",
              " 'purpos': 722,\n",
              " 'believ': 120,\n",
              " 'great': 406,\n",
              " 'placement': 673,\n",
              " 'drug': 286,\n",
              " 'marri': 551,\n",
              " 'delhi': 259,\n",
              " 'factor': 339,\n",
              " 'babi': 107,\n",
              " 'anxieti': 79,\n",
              " 'night': 616,\n",
              " 'alon': 65,\n",
              " 'certain': 171,\n",
              " 'yet': 992,\n",
              " 'expens': 331,\n",
              " 'techniqu': 897,\n",
              " 'novel': 622,\n",
              " 'degre': 257,\n",
              " 'privat': 702,\n",
              " 'limit': 522,\n",
              " 'word': 979,\n",
              " 'abl': 35,\n",
              " 'physic': 670,\n",
              " 'view': 948,\n",
              " 'advic': 56,\n",
              " 'man': 545,\n",
              " 'wife': 970,\n",
              " 'woman': 977,\n",
              " 'ex': 324,\n",
              " 'boyfriend': 139,\n",
              " 'fail': 340,\n",
              " 'subject': 875,\n",
              " 'sell': 802,\n",
              " 'bank': 113,\n",
              " 'beauti': 116,\n",
              " 'promot': 713,\n",
              " 'gun': 411,\n",
              " 'cultur': 241,\n",
              " 'less': 513,\n",
              " 'smart': 833,\n",
              " 'surviv': 884,\n",
              " 'lot': 536,\n",
              " 'distanc': 275,\n",
              " 'solut': 838,\n",
              " 'continu': 222,\n",
              " 'live': 528,\n",
              " 'treat': 924,\n",
              " 'page': 647,\n",
              " 'favorit': 349,\n",
              " 'least': 509,\n",
              " 'java': 483,\n",
              " 'perform': 664,\n",
              " 'accord': 41,\n",
              " 'health': 421,\n",
              " 'perfect': 663,\n",
              " '15': 18,\n",
              " 'chines': 187,\n",
              " 'speed': 852,\n",
              " 'said': 781,\n",
              " 'profil': 709,\n",
              " 'altern': 68,\n",
              " 'inform': 459,\n",
              " 'larg': 501,\n",
              " 'paper': 652,\n",
              " 'team': 894,\n",
              " 'follow': 370,\n",
              " 'overcom': 645,\n",
              " 'profession': 708,\n",
              " 'camera': 155,\n",
              " 'dog': 278,\n",
              " 'benefit': 121,\n",
              " 'control': 224,\n",
              " 'contact': 220,\n",
              " 'liber': 517,\n",
              " 'parti': 655,\n",
              " 'sure': 883,\n",
              " 'popul': 686,\n",
              " 'donald': 279,\n",
              " 'provid': 717,\n",
              " 'avoid': 104,\n",
              " 'necessari': 607,\n",
              " 'remov': 757,\n",
              " 'influenc': 458,\n",
              " 'blue': 133,\n",
              " '30': 24,\n",
              " 'branch': 141,\n",
              " '3': 23,\n",
              " 'famous': 344,\n",
              " 'bangalor': 112,\n",
              " 'room': 775,\n",
              " 'explain': 333,\n",
              " 'given': 396,\n",
              " 'tool': 915,\n",
              " 'hous': 438,\n",
              " 'footbal': 372,\n",
              " 'phone': 668,\n",
              " 'decid': 254,\n",
              " 'return': 768,\n",
              " 'destroy': 264,\n",
              " 'ignor': 443,\n",
              " 'two': 932,\n",
              " 'togeth': 913,\n",
              " 'replac': 758,\n",
              " 'rule': 776,\n",
              " 'build': 147,\n",
              " 'concept': 214,\n",
              " 'averag': 103,\n",
              " 'structur': 870,\n",
              " 'chemic': 182,\n",
              " 'properti': 714,\n",
              " 'found': 376,\n",
              " 'human': 439,\n",
              " 'around': 92,\n",
              " 'behind': 119,\n",
              " 'respons': 765,\n",
              " 'put': 724,\n",
              " 'public': 719,\n",
              " 'song': 844,\n",
              " 'today': 912,\n",
              " 'treatment': 925,\n",
              " 'approach': 88,\n",
              " 'trust': 929,\n",
              " 'illeg': 445,\n",
              " 'delet': 258,\n",
              " 'written': 987,\n",
              " 'set': 810,\n",
              " 'green': 407,\n",
              " 'card': 161,\n",
              " 'suffer': 878,\n",
              " 'seem': 798,\n",
              " 'photo': 669,\n",
              " 'histori': 431,\n",
              " 'sentenc': 805,\n",
              " 'mobil': 582,\n",
              " 'visa': 949,\n",
              " 'cell': 170,\n",
              " 'memori': 569,\n",
              " 'date': 249,\n",
              " 'hear': 423,\n",
              " 'thought': 908,\n",
              " 'recent': 745,\n",
              " 'color': 203,\n",
              " 'scope': 790,\n",
              " 'code': 200,\n",
              " 'charg': 179,\n",
              " 'posit': 688,\n",
              " 'near': 606,\n",
              " 'cat': 166,\n",
              " 'etc': 315,\n",
              " 'sex': 812,\n",
              " 'travel': 923,\n",
              " 'chemistri': 183,\n",
              " 'skin': 830,\n",
              " 'step': 862,\n",
              " 'version': 946,\n",
              " 'youtub': 994,\n",
              " 'graduat': 405,\n",
              " 'econom': 295,\n",
              " 'still': 863,\n",
              " 'field': 355,\n",
              " 'financ': 360,\n",
              " 'daili': 245,\n",
              " 'fight': 356,\n",
              " 'individu': 456,\n",
              " 'rais': 730,\n",
              " 'agre': 61,\n",
              " 'exercis': 328,\n",
              " 'worth': 983,\n",
              " 'due': 287,\n",
              " 'white': 968,\n",
              " 'film': 358,\n",
              " 'project': 712,\n",
              " 'often': 629,\n",
              " 'fake': 341,\n",
              " 'news': 614,\n",
              " 'resourc': 763,\n",
              " 'meet': 567,\n",
              " '6': 27,\n",
              " 'weight': 964,\n",
              " 'accept': 38,\n",
              " 'messag': 572,\n",
              " 'cold': 201,\n",
              " 'far': 345,\n",
              " '20': 20,\n",
              " 'scientist': 789,\n",
              " 'everyon': 322,\n",
              " 'appl': 85,\n",
              " 'impact': 448,\n",
              " 'handl': 415,\n",
              " 'period': 665,\n",
              " 'crack': 234,\n",
              " 'upsc': 939,\n",
              " '100': 15,\n",
              " 'train': 921,\n",
              " 'transfer': 922,\n",
              " 'contribut': 223,\n",
              " 'cbse': 168,\n",
              " 'x': 989,\n",
              " 'last': 502,\n",
              " 'negat': 610,\n",
              " 'file': 357,\n",
              " 'qualiti': 725,\n",
              " 'blood': 132,\n",
              " 'pass': 657,\n",
              " 'oper': 637,\n",
              " 'head': 420,\n",
              " 'insid': 460,\n",
              " 'potenti': 691,\n",
              " 'marriag': 552,\n",
              " 'music': 598,\n",
              " 'plan': 674,\n",
              " 'tech': 895,\n",
              " 'startup': 859,\n",
              " 'children': 185,\n",
              " 'fire': 363,\n",
              " 'amount': 73,\n",
              " 'mother': 590,\n",
              " 'percentag': 662,\n",
              " 'laptop': 500,\n",
              " 'three': 909,\n",
              " 'british': 145,\n",
              " 'member': 568,\n",
              " 'islam': 478,\n",
              " 'suggest': 879,\n",
              " 'obama': 625,\n",
              " 'art': 93,\n",
              " 'sens': 804,\n",
              " 'strong': 869,\n",
              " 'hit': 432,\n",
              " 'male': 544,\n",
              " 'mental': 571,\n",
              " 'may': 560,\n",
              " 'convers': 225,\n",
              " 'strategi': 868,\n",
              " 'instagram': 462,\n",
              " 'anoth': 77,\n",
              " 'refer': 750,\n",
              " 'seat': 793,\n",
              " 'general': 388,\n",
              " 'cover': 233,\n",
              " 'cloth': 198,\n",
              " 'top': 916,\n",
              " 'disord': 274,\n",
              " 'especi': 314,\n",
              " 'israel': 479,\n",
              " 'clean': 195,\n",
              " 'oil': 630,\n",
              " 'hair': 413,\n",
              " 'western': 967,\n",
              " 'danger': 246,\n",
              " 'increas': 453,\n",
              " 'plant': 676,\n",
              " 'forc': 373,\n",
              " 'gain': 384,\n",
              " 'million': 579,\n",
              " 'europ': 316,\n",
              " 'religi': 755,\n",
              " 'specif': 851,\n",
              " 'doctor': 276,\n",
              " 'send': 803,\n",
              " 'caus': 167,\n",
              " 'challeng': 173,\n",
              " 'hotel': 436,\n",
              " 'search': 792,\n",
              " 'attend': 99,\n",
              " 'site': 826,\n",
              " 'christian': 189,\n",
              " 'toward': 919,\n",
              " 'west': 966,\n",
              " 'knowledg': 494,\n",
              " 'address': 51,\n",
              " 'second': 794,\n",
              " 'okay': 632,\n",
              " 'democrat': 260,\n",
              " 'republican': 760,\n",
              " 'switch': 885,\n",
              " 'nuclear': 623,\n",
              " 'difficult': 271,\n",
              " 'prove': 716,\n",
              " 'everyth': 323,\n",
              " 'teenag': 899,\n",
              " 'brother': 146,\n",
              " 'german': 390,\n",
              " 'japan': 481,\n",
              " 'armi': 91,\n",
              " 'husband': 441,\n",
              " 'react': 736,\n",
              " 'global': 397,\n",
              " 'receiv': 744,\n",
              " 'close': 197,\n",
              " 'separ': 806,\n",
              " 'method': 575,\n",
              " 'pakistani': 651,\n",
              " 'rest': 766,\n",
              " 'total': 918,\n",
              " 'analysi': 74,\n",
              " 'industri': 457,\n",
              " 'equal': 313,\n",
              " 'manufactur': 548,\n",
              " 'run': 777,\n",
              " '-': 11,\n",
              " 'origin': 643,\n",
              " 'african': 59,\n",
              " 'femal': 354,\n",
              " 'custom': 243,\n",
              " 'depress': 261,\n",
              " 'modern': 584,\n",
              " 'partner': 656,\n",
              " 'vote': 951,\n",
              " '12': 16,\n",
              " 'employ': 305,\n",
              " 'amazon': 70,\n",
              " 'u.s.': 934,\n",
              " 'america': 71,\n",
              " 'characterist': 178,\n",
              " 'window': 972,\n",
              " 'hold': 434,\n",
              " 'cs': 239,\n",
              " 'leader': 507,\n",
              " 'neet': 609,\n",
              " 'review': 769,\n",
              " 'brain': 140,\n",
              " 'mom': 586,\n",
              " 'writer': 986,\n",
              " '[': 32,\n",
              " ']': 33,\n",
              " 'hour': 437,\n",
              " 'grow': 409,\n",
              " 'reaction': 737,\n",
              " 'elect': 299,\n",
              " 'bill': 126,\n",
              " 'c': 150,\n",
              " 'stupid': 873,\n",
              " 'text': 903,\n",
              " 'easi': 291,\n",
              " 'crush': 238,\n",
              " 'seen': 799,\n",
              " 'flight': 368,\n",
              " 'pregnant': 695,\n",
              " 'action': 45,\n",
              " 'clear': 196,\n",
              " 'cheat': 180,\n",
              " 'pain': 649,\n",
              " 'hurt': 440,\n",
              " 'modi': 585,\n",
              " 'technic': 896,\n",
              " 'employe': 306,\n",
              " 'blog': 131,\n",
              " 'object': 626,\n",
              " 'popular': 687,\n",
              " 'littl': 527,\n",
              " 'fli': 367,\n",
              " 'reach': 735,\n",
              " 'suicid': 880,\n",
              " 'block': 130,\n",
              " 'born': 137,\n",
              " 'later': 504,\n",
              " 'key': 489,\n",
              " 'protect': 715,\n",
              " 'walk': 953,\n",
              " 'hindi': 429,\n",
              " 'growth': 410,\n",
              " 'profit': 710,\n",
              " 'told': 914,\n",
              " 'easili': 292,\n",
              " 'research': 762,\n",
              " 'packag': 646,\n",
              " 'lost': 535,\n",
              " 'land': 498,\n",
              " 'racist': 729,\n",
              " 'sale': 783,\n",
              " 'celebr': 169,\n",
              " 'pune': 720,\n",
              " 'associ': 96,\n",
              " 'short': 817,\n",
              " 'race': 728,\n",
              " 'practic': 693,\n",
              " '12th': 17,\n",
              " 'add': 50,\n",
              " 'biggest': 125,\n",
              " 'met': 573,\n",
              " 'religion': 756,\n",
              " 'sister': 825,\n",
              " 'user': 943,\n",
              " 'store': 866,\n",
              " 'polici': 683,\n",
              " 'heat': 425,\n",
              " 'els': 302,\n",
              " 'risk': 773,\n",
              " 'rid': 771,\n",
              " 'happi': 417,\n",
              " 'situat': 827,\n",
              " 'content': 221,\n",
              " 'link': 524,\n",
              " 'weapon': 959,\n",
              " 'sport': 854,\n",
              " 'nit': 617,\n",
              " 'cse': 240,\n",
              " 'ms': 594,\n",
              " 'comment': 205,\n",
              " 'credit': 236,\n",
              " 'imag': 446,\n",
              " '!': 0,\n",
              " 'communiti': 209,\n",
              " 'ad': 49,\n",
              " 'channel': 176,\n",
              " '{': 995,\n",
              " '}': 996,\n",
              " 'fat': 347,\n",
              " 'incom': 452,\n",
              " 'earli': 288,\n",
              " 'listen': 526,\n",
              " 'loan': 529,\n",
              " 'report': 759,\n",
              " 'convinc': 227,\n",
              " 'involv': 475,\n",
              " 'planet': 675}"
            ]
          },
          "metadata": {},
          "execution_count": 58
        }
      ]
    },
    {
      "cell_type": "code",
      "source": [
        "vectorizer.get_feature_names_out()[:100]"
      ],
      "metadata": {
        "colab": {
          "base_uri": "https://localhost:8080/"
        },
        "id": "sCOrmaeSqDwX",
        "outputId": "645e5604-925f-4a02-b54a-5f65e2585d73"
      },
      "execution_count": 59,
      "outputs": [
        {
          "output_type": "execute_result",
          "data": {
            "text/plain": [
              "array(['!', '$', '%', '&', \"'\", \"''\", \"'m\", \"'s\", '(', ')', ',', '-', '.',\n",
              "       '1', '10', '100', '12', '12th', '15', '2', '20', '2017', '2018',\n",
              "       '3', '30', '4', '5', '6', '7', '8', ':', '?', '[', ']', '``',\n",
              "       'abl', 'abroad', 'abus', 'accept', 'access', 'accomplish',\n",
              "       'accord', 'account', 'achiev', 'act', 'action', 'activ', 'actor',\n",
              "       'actual', 'ad', 'add', 'address', 'admiss', 'adult', 'advanc',\n",
              "       'advantag', 'advic', 'affect', 'africa', 'african', 'age', 'agre',\n",
              "       'air', 'allow', 'almost', 'alon', 'alreadi', 'also', 'altern',\n",
              "       'alway', 'amazon', 'america', 'american', 'amount', 'analysi',\n",
              "       'android', 'anim', 'anoth', 'answer', 'anxieti', 'anyon', 'anyth',\n",
              "       'apart', 'app', 'appear', 'appl', 'appli', 'applic', 'approach',\n",
              "       'arab', 'area', 'armi', 'around', 'art', 'asian', 'ask', 'associ',\n",
              "       'atheist', 'attack', 'attend'], dtype=object)"
            ]
          },
          "metadata": {},
          "execution_count": 59
        }
      ]
    },
    {
      "cell_type": "code",
      "source": [
        "\n",
        "#Transformation into bag of words\n",
        "%%time\n",
        "inputs = vectorizer.transform(sample_df.question_text)"
      ],
      "metadata": {
        "colab": {
          "base_uri": "https://localhost:8080/"
        },
        "id": "exE1lCEfqSVB",
        "outputId": "28017753-1651-4b6d-a600-a89e39c13b26"
      },
      "execution_count": 60,
      "outputs": [
        {
          "output_type": "stream",
          "name": "stdout",
          "text": [
            "CPU times: user 28.8 s, sys: 103 ms, total: 28.9 s\n",
            "Wall time: 29 s\n"
          ]
        }
      ]
    },
    {
      "cell_type": "code",
      "source": [
        "inputs.shape"
      ],
      "metadata": {
        "colab": {
          "base_uri": "https://localhost:8080/"
        },
        "id": "vjOQBcVRq6qY",
        "outputId": "c7d79978-e3bf-45b0-adaa-cab8ae16bbdc"
      },
      "execution_count": 61,
      "outputs": [
        {
          "output_type": "execute_result",
          "data": {
            "text/plain": [
              "(100000, 1000)"
            ]
          },
          "metadata": {},
          "execution_count": 61
        }
      ]
    },
    {
      "cell_type": "code",
      "source": [
        "test_df"
      ],
      "metadata": {
        "colab": {
          "base_uri": "https://localhost:8080/",
          "height": 424
        },
        "id": "8OugGsvNu3fc",
        "outputId": "3d52e149-1784-4416-d6d8-f0673890fb10"
      },
      "execution_count": 62,
      "outputs": [
        {
          "output_type": "execute_result",
          "data": {
            "text/plain": [
              "                         qid  \\\n",
              "0       0000163e3ea7c7a74cd7   \n",
              "1       00002bd4fb5d505b9161   \n",
              "2       00007756b4a147d2b0b3   \n",
              "3       000086e4b7e1c7146103   \n",
              "4       0000c4c3fbe8785a3090   \n",
              "...                      ...   \n",
              "375801  ffff7fa746bd6d6197a9   \n",
              "375802  ffffa1be31c43046ab6b   \n",
              "375803  ffffae173b6ca6bfa563   \n",
              "375804  ffffb1f7f1a008620287   \n",
              "375805  fffff85473f4699474b0   \n",
              "\n",
              "                                            question_text  \n",
              "0       Why do so many women become so rude and arroga...  \n",
              "1       When should I apply for RV college of engineer...  \n",
              "2       What is it really like to be a nurse practitio...  \n",
              "3                                  Who are entrepreneurs?  \n",
              "4        Is education really making good people nowadays?  \n",
              "...                                                   ...  \n",
              "375801  How many countries listed in gold import in in...  \n",
              "375802  Is there an alternative to dresses on formal p...  \n",
              "375803  Where I can find best friendship quotes in Tel...  \n",
              "375804        What are the causes of refraction of light?  \n",
              "375805  Climate change is a worrying topic. How much t...  \n",
              "\n",
              "[375806 rows x 2 columns]"
            ],
            "text/html": [
              "\n",
              "  <div id=\"df-41c1fb6e-c054-4b00-a9b0-2b40107345aa\">\n",
              "    <div class=\"colab-df-container\">\n",
              "      <div>\n",
              "<style scoped>\n",
              "    .dataframe tbody tr th:only-of-type {\n",
              "        vertical-align: middle;\n",
              "    }\n",
              "\n",
              "    .dataframe tbody tr th {\n",
              "        vertical-align: top;\n",
              "    }\n",
              "\n",
              "    .dataframe thead th {\n",
              "        text-align: right;\n",
              "    }\n",
              "</style>\n",
              "<table border=\"1\" class=\"dataframe\">\n",
              "  <thead>\n",
              "    <tr style=\"text-align: right;\">\n",
              "      <th></th>\n",
              "      <th>qid</th>\n",
              "      <th>question_text</th>\n",
              "    </tr>\n",
              "  </thead>\n",
              "  <tbody>\n",
              "    <tr>\n",
              "      <th>0</th>\n",
              "      <td>0000163e3ea7c7a74cd7</td>\n",
              "      <td>Why do so many women become so rude and arroga...</td>\n",
              "    </tr>\n",
              "    <tr>\n",
              "      <th>1</th>\n",
              "      <td>00002bd4fb5d505b9161</td>\n",
              "      <td>When should I apply for RV college of engineer...</td>\n",
              "    </tr>\n",
              "    <tr>\n",
              "      <th>2</th>\n",
              "      <td>00007756b4a147d2b0b3</td>\n",
              "      <td>What is it really like to be a nurse practitio...</td>\n",
              "    </tr>\n",
              "    <tr>\n",
              "      <th>3</th>\n",
              "      <td>000086e4b7e1c7146103</td>\n",
              "      <td>Who are entrepreneurs?</td>\n",
              "    </tr>\n",
              "    <tr>\n",
              "      <th>4</th>\n",
              "      <td>0000c4c3fbe8785a3090</td>\n",
              "      <td>Is education really making good people nowadays?</td>\n",
              "    </tr>\n",
              "    <tr>\n",
              "      <th>...</th>\n",
              "      <td>...</td>\n",
              "      <td>...</td>\n",
              "    </tr>\n",
              "    <tr>\n",
              "      <th>375801</th>\n",
              "      <td>ffff7fa746bd6d6197a9</td>\n",
              "      <td>How many countries listed in gold import in in...</td>\n",
              "    </tr>\n",
              "    <tr>\n",
              "      <th>375802</th>\n",
              "      <td>ffffa1be31c43046ab6b</td>\n",
              "      <td>Is there an alternative to dresses on formal p...</td>\n",
              "    </tr>\n",
              "    <tr>\n",
              "      <th>375803</th>\n",
              "      <td>ffffae173b6ca6bfa563</td>\n",
              "      <td>Where I can find best friendship quotes in Tel...</td>\n",
              "    </tr>\n",
              "    <tr>\n",
              "      <th>375804</th>\n",
              "      <td>ffffb1f7f1a008620287</td>\n",
              "      <td>What are the causes of refraction of light?</td>\n",
              "    </tr>\n",
              "    <tr>\n",
              "      <th>375805</th>\n",
              "      <td>fffff85473f4699474b0</td>\n",
              "      <td>Climate change is a worrying topic. How much t...</td>\n",
              "    </tr>\n",
              "  </tbody>\n",
              "</table>\n",
              "<p>375806 rows × 2 columns</p>\n",
              "</div>\n",
              "      <button class=\"colab-df-convert\" onclick=\"convertToInteractive('df-41c1fb6e-c054-4b00-a9b0-2b40107345aa')\"\n",
              "              title=\"Convert this dataframe to an interactive table.\"\n",
              "              style=\"display:none;\">\n",
              "        \n",
              "  <svg xmlns=\"http://www.w3.org/2000/svg\" height=\"24px\"viewBox=\"0 0 24 24\"\n",
              "       width=\"24px\">\n",
              "    <path d=\"M0 0h24v24H0V0z\" fill=\"none\"/>\n",
              "    <path d=\"M18.56 5.44l.94 2.06.94-2.06 2.06-.94-2.06-.94-.94-2.06-.94 2.06-2.06.94zm-11 1L8.5 8.5l.94-2.06 2.06-.94-2.06-.94L8.5 2.5l-.94 2.06-2.06.94zm10 10l.94 2.06.94-2.06 2.06-.94-2.06-.94-.94-2.06-.94 2.06-2.06.94z\"/><path d=\"M17.41 7.96l-1.37-1.37c-.4-.4-.92-.59-1.43-.59-.52 0-1.04.2-1.43.59L10.3 9.45l-7.72 7.72c-.78.78-.78 2.05 0 2.83L4 21.41c.39.39.9.59 1.41.59.51 0 1.02-.2 1.41-.59l7.78-7.78 2.81-2.81c.8-.78.8-2.07 0-2.86zM5.41 20L4 18.59l7.72-7.72 1.47 1.35L5.41 20z\"/>\n",
              "  </svg>\n",
              "      </button>\n",
              "      \n",
              "  <style>\n",
              "    .colab-df-container {\n",
              "      display:flex;\n",
              "      flex-wrap:wrap;\n",
              "      gap: 12px;\n",
              "    }\n",
              "\n",
              "    .colab-df-convert {\n",
              "      background-color: #E8F0FE;\n",
              "      border: none;\n",
              "      border-radius: 50%;\n",
              "      cursor: pointer;\n",
              "      display: none;\n",
              "      fill: #1967D2;\n",
              "      height: 32px;\n",
              "      padding: 0 0 0 0;\n",
              "      width: 32px;\n",
              "    }\n",
              "\n",
              "    .colab-df-convert:hover {\n",
              "      background-color: #E2EBFA;\n",
              "      box-shadow: 0px 1px 2px rgba(60, 64, 67, 0.3), 0px 1px 3px 1px rgba(60, 64, 67, 0.15);\n",
              "      fill: #174EA6;\n",
              "    }\n",
              "\n",
              "    [theme=dark] .colab-df-convert {\n",
              "      background-color: #3B4455;\n",
              "      fill: #D2E3FC;\n",
              "    }\n",
              "\n",
              "    [theme=dark] .colab-df-convert:hover {\n",
              "      background-color: #434B5C;\n",
              "      box-shadow: 0px 1px 3px 1px rgba(0, 0, 0, 0.15);\n",
              "      filter: drop-shadow(0px 1px 2px rgba(0, 0, 0, 0.3));\n",
              "      fill: #FFFFFF;\n",
              "    }\n",
              "  </style>\n",
              "\n",
              "      <script>\n",
              "        const buttonEl =\n",
              "          document.querySelector('#df-41c1fb6e-c054-4b00-a9b0-2b40107345aa button.colab-df-convert');\n",
              "        buttonEl.style.display =\n",
              "          google.colab.kernel.accessAllowed ? 'block' : 'none';\n",
              "\n",
              "        async function convertToInteractive(key) {\n",
              "          const element = document.querySelector('#df-41c1fb6e-c054-4b00-a9b0-2b40107345aa');\n",
              "          const dataTable =\n",
              "            await google.colab.kernel.invokeFunction('convertToInteractive',\n",
              "                                                     [key], {});\n",
              "          if (!dataTable) return;\n",
              "\n",
              "          const docLinkHtml = 'Like what you see? Visit the ' +\n",
              "            '<a target=\"_blank\" href=https://colab.research.google.com/notebooks/data_table.ipynb>data table notebook</a>'\n",
              "            + ' to learn more about interactive tables.';\n",
              "          element.innerHTML = '';\n",
              "          dataTable['output_type'] = 'display_data';\n",
              "          await google.colab.output.renderOutput(dataTable, element);\n",
              "          const docLink = document.createElement('div');\n",
              "          docLink.innerHTML = docLinkHtml;\n",
              "          element.appendChild(docLink);\n",
              "        }\n",
              "      </script>\n",
              "    </div>\n",
              "  </div>\n",
              "  "
            ]
          },
          "metadata": {},
          "execution_count": 62
        }
      ]
    },
    {
      "cell_type": "code",
      "source": [
        "%%time\n",
        "test_inputs = vectorizer.transform(test_df.question_text)"
      ],
      "metadata": {
        "colab": {
          "base_uri": "https://localhost:8080/"
        },
        "id": "2fuWnbuPvQf2",
        "outputId": "7a454de7-16dd-4c49-fc6d-35dc7a7e57f2"
      },
      "execution_count": 63,
      "outputs": [
        {
          "output_type": "stream",
          "name": "stdout",
          "text": [
            "CPU times: user 1min 45s, sys: 312 ms, total: 1min 46s\n",
            "Wall time: 1min 46s\n"
          ]
        }
      ]
    },
    {
      "cell_type": "markdown",
      "source": [
        "## ML Models for Text Classification\n",
        "\n",
        "Outline:\n",
        "1. Create a training and validation set\n",
        "2. Train a logistic  regression model\n",
        "3. Make predictions on training, validation and test set"
      ],
      "metadata": {
        "id": "q2Mewv7dBk8W"
      }
    },
    {
      "cell_type": "markdown",
      "source": [
        "### Split into Training and Validation"
      ],
      "metadata": {
        "id": "AfudYqs3LVei"
      }
    },
    {
      "cell_type": "code",
      "source": [
        "sample_df\n"
      ],
      "metadata": {
        "colab": {
          "base_uri": "https://localhost:8080/",
          "height": 485
        },
        "id": "2rBBxcDmq58T",
        "outputId": "ebf10f28-23d8-4eff-8014-6a1d2c96f389"
      },
      "execution_count": 64,
      "outputs": [
        {
          "output_type": "execute_result",
          "data": {
            "text/plain": [
              "                          qid  \\\n",
              "443046   56d324bb1e2c29f43b12   \n",
              "947549   b9ad893dc78c577f8a63   \n",
              "523769   6689ebaeeb65b209a412   \n",
              "949821   ba1e2c4a0fef09671516   \n",
              "1030397  c9ea2b69bf0d74626f46   \n",
              "...                       ...   \n",
              "998930   c3c03a307a29c69971b4   \n",
              "66641    0d119aba95ee6684f506   \n",
              "90024    11a46cd148a104b271cf   \n",
              "130113   1973e6e2111a0c93193a   \n",
              "1137     0037ed037520d82393c0   \n",
              "\n",
              "                                             question_text  target  \n",
              "443046   What is the most effective classroom managemen...       0  \n",
              "947549   Can I study abroad after 10th class from Bangl...       0  \n",
              "523769         How can I make friends as a college junior?       0  \n",
              "949821   How do I download free APK Minecraft: Pocket E...       0  \n",
              "1030397  Like Kuvera, is \"Groww\" also a free online inv...       0  \n",
              "...                                                    ...     ...  \n",
              "998930   How do I research list of reliable charcoal im...       0  \n",
              "66641    What are petroleum products, and what is petro...       0  \n",
              "90024    What are some services that will let you quick...       0  \n",
              "130113   What credit card processors do online marketpl...       0  \n",
              "1137          On which number system does a computer work?       0  \n",
              "\n",
              "[100000 rows x 3 columns]"
            ],
            "text/html": [
              "\n",
              "  <div id=\"df-49284225-fcde-469c-9d3a-20fe7e0f937e\">\n",
              "    <div class=\"colab-df-container\">\n",
              "      <div>\n",
              "<style scoped>\n",
              "    .dataframe tbody tr th:only-of-type {\n",
              "        vertical-align: middle;\n",
              "    }\n",
              "\n",
              "    .dataframe tbody tr th {\n",
              "        vertical-align: top;\n",
              "    }\n",
              "\n",
              "    .dataframe thead th {\n",
              "        text-align: right;\n",
              "    }\n",
              "</style>\n",
              "<table border=\"1\" class=\"dataframe\">\n",
              "  <thead>\n",
              "    <tr style=\"text-align: right;\">\n",
              "      <th></th>\n",
              "      <th>qid</th>\n",
              "      <th>question_text</th>\n",
              "      <th>target</th>\n",
              "    </tr>\n",
              "  </thead>\n",
              "  <tbody>\n",
              "    <tr>\n",
              "      <th>443046</th>\n",
              "      <td>56d324bb1e2c29f43b12</td>\n",
              "      <td>What is the most effective classroom managemen...</td>\n",
              "      <td>0</td>\n",
              "    </tr>\n",
              "    <tr>\n",
              "      <th>947549</th>\n",
              "      <td>b9ad893dc78c577f8a63</td>\n",
              "      <td>Can I study abroad after 10th class from Bangl...</td>\n",
              "      <td>0</td>\n",
              "    </tr>\n",
              "    <tr>\n",
              "      <th>523769</th>\n",
              "      <td>6689ebaeeb65b209a412</td>\n",
              "      <td>How can I make friends as a college junior?</td>\n",
              "      <td>0</td>\n",
              "    </tr>\n",
              "    <tr>\n",
              "      <th>949821</th>\n",
              "      <td>ba1e2c4a0fef09671516</td>\n",
              "      <td>How do I download free APK Minecraft: Pocket E...</td>\n",
              "      <td>0</td>\n",
              "    </tr>\n",
              "    <tr>\n",
              "      <th>1030397</th>\n",
              "      <td>c9ea2b69bf0d74626f46</td>\n",
              "      <td>Like Kuvera, is \"Groww\" also a free online inv...</td>\n",
              "      <td>0</td>\n",
              "    </tr>\n",
              "    <tr>\n",
              "      <th>...</th>\n",
              "      <td>...</td>\n",
              "      <td>...</td>\n",
              "      <td>...</td>\n",
              "    </tr>\n",
              "    <tr>\n",
              "      <th>998930</th>\n",
              "      <td>c3c03a307a29c69971b4</td>\n",
              "      <td>How do I research list of reliable charcoal im...</td>\n",
              "      <td>0</td>\n",
              "    </tr>\n",
              "    <tr>\n",
              "      <th>66641</th>\n",
              "      <td>0d119aba95ee6684f506</td>\n",
              "      <td>What are petroleum products, and what is petro...</td>\n",
              "      <td>0</td>\n",
              "    </tr>\n",
              "    <tr>\n",
              "      <th>90024</th>\n",
              "      <td>11a46cd148a104b271cf</td>\n",
              "      <td>What are some services that will let you quick...</td>\n",
              "      <td>0</td>\n",
              "    </tr>\n",
              "    <tr>\n",
              "      <th>130113</th>\n",
              "      <td>1973e6e2111a0c93193a</td>\n",
              "      <td>What credit card processors do online marketpl...</td>\n",
              "      <td>0</td>\n",
              "    </tr>\n",
              "    <tr>\n",
              "      <th>1137</th>\n",
              "      <td>0037ed037520d82393c0</td>\n",
              "      <td>On which number system does a computer work?</td>\n",
              "      <td>0</td>\n",
              "    </tr>\n",
              "  </tbody>\n",
              "</table>\n",
              "<p>100000 rows × 3 columns</p>\n",
              "</div>\n",
              "      <button class=\"colab-df-convert\" onclick=\"convertToInteractive('df-49284225-fcde-469c-9d3a-20fe7e0f937e')\"\n",
              "              title=\"Convert this dataframe to an interactive table.\"\n",
              "              style=\"display:none;\">\n",
              "        \n",
              "  <svg xmlns=\"http://www.w3.org/2000/svg\" height=\"24px\"viewBox=\"0 0 24 24\"\n",
              "       width=\"24px\">\n",
              "    <path d=\"M0 0h24v24H0V0z\" fill=\"none\"/>\n",
              "    <path d=\"M18.56 5.44l.94 2.06.94-2.06 2.06-.94-2.06-.94-.94-2.06-.94 2.06-2.06.94zm-11 1L8.5 8.5l.94-2.06 2.06-.94-2.06-.94L8.5 2.5l-.94 2.06-2.06.94zm10 10l.94 2.06.94-2.06 2.06-.94-2.06-.94-.94-2.06-.94 2.06-2.06.94z\"/><path d=\"M17.41 7.96l-1.37-1.37c-.4-.4-.92-.59-1.43-.59-.52 0-1.04.2-1.43.59L10.3 9.45l-7.72 7.72c-.78.78-.78 2.05 0 2.83L4 21.41c.39.39.9.59 1.41.59.51 0 1.02-.2 1.41-.59l7.78-7.78 2.81-2.81c.8-.78.8-2.07 0-2.86zM5.41 20L4 18.59l7.72-7.72 1.47 1.35L5.41 20z\"/>\n",
              "  </svg>\n",
              "      </button>\n",
              "      \n",
              "  <style>\n",
              "    .colab-df-container {\n",
              "      display:flex;\n",
              "      flex-wrap:wrap;\n",
              "      gap: 12px;\n",
              "    }\n",
              "\n",
              "    .colab-df-convert {\n",
              "      background-color: #E8F0FE;\n",
              "      border: none;\n",
              "      border-radius: 50%;\n",
              "      cursor: pointer;\n",
              "      display: none;\n",
              "      fill: #1967D2;\n",
              "      height: 32px;\n",
              "      padding: 0 0 0 0;\n",
              "      width: 32px;\n",
              "    }\n",
              "\n",
              "    .colab-df-convert:hover {\n",
              "      background-color: #E2EBFA;\n",
              "      box-shadow: 0px 1px 2px rgba(60, 64, 67, 0.3), 0px 1px 3px 1px rgba(60, 64, 67, 0.15);\n",
              "      fill: #174EA6;\n",
              "    }\n",
              "\n",
              "    [theme=dark] .colab-df-convert {\n",
              "      background-color: #3B4455;\n",
              "      fill: #D2E3FC;\n",
              "    }\n",
              "\n",
              "    [theme=dark] .colab-df-convert:hover {\n",
              "      background-color: #434B5C;\n",
              "      box-shadow: 0px 1px 3px 1px rgba(0, 0, 0, 0.15);\n",
              "      filter: drop-shadow(0px 1px 2px rgba(0, 0, 0, 0.3));\n",
              "      fill: #FFFFFF;\n",
              "    }\n",
              "  </style>\n",
              "\n",
              "      <script>\n",
              "        const buttonEl =\n",
              "          document.querySelector('#df-49284225-fcde-469c-9d3a-20fe7e0f937e button.colab-df-convert');\n",
              "        buttonEl.style.display =\n",
              "          google.colab.kernel.accessAllowed ? 'block' : 'none';\n",
              "\n",
              "        async function convertToInteractive(key) {\n",
              "          const element = document.querySelector('#df-49284225-fcde-469c-9d3a-20fe7e0f937e');\n",
              "          const dataTable =\n",
              "            await google.colab.kernel.invokeFunction('convertToInteractive',\n",
              "                                                     [key], {});\n",
              "          if (!dataTable) return;\n",
              "\n",
              "          const docLinkHtml = 'Like what you see? Visit the ' +\n",
              "            '<a target=\"_blank\" href=https://colab.research.google.com/notebooks/data_table.ipynb>data table notebook</a>'\n",
              "            + ' to learn more about interactive tables.';\n",
              "          element.innerHTML = '';\n",
              "          dataTable['output_type'] = 'display_data';\n",
              "          await google.colab.output.renderOutput(dataTable, element);\n",
              "          const docLink = document.createElement('div');\n",
              "          docLink.innerHTML = docLinkHtml;\n",
              "          element.appendChild(docLink);\n",
              "        }\n",
              "      </script>\n",
              "    </div>\n",
              "  </div>\n",
              "  "
            ]
          },
          "metadata": {},
          "execution_count": 64
        }
      ]
    },
    {
      "cell_type": "code",
      "source": [
        "inputs.shape"
      ],
      "metadata": {
        "colab": {
          "base_uri": "https://localhost:8080/"
        },
        "id": "1V3uPMd1CETM",
        "outputId": "1f5a2037-6476-45cb-f5c5-762bc76aac36"
      },
      "execution_count": 65,
      "outputs": [
        {
          "output_type": "execute_result",
          "data": {
            "text/plain": [
              "(100000, 1000)"
            ]
          },
          "metadata": {},
          "execution_count": 65
        }
      ]
    },
    {
      "cell_type": "code",
      "source": [
        "from sklearn.model_selection import train_test_split"
      ],
      "metadata": {
        "id": "Km_woQtCCEWu"
      },
      "execution_count": 67,
      "outputs": []
    },
    {
      "cell_type": "code",
      "source": [
        "train_inputs, val_inputs,train_targets, val_targets = train_test_split(inputs, sample_df.target,test_size=0.3, random_state =42)"
      ],
      "metadata": {
        "id": "YRNnwT7zCFOC"
      },
      "execution_count": 69,
      "outputs": []
    },
    {
      "cell_type": "code",
      "source": [
        "train_targets.shape"
      ],
      "metadata": {
        "colab": {
          "base_uri": "https://localhost:8080/"
        },
        "id": "fbvC42jACFRs",
        "outputId": "8f7d0228-0809-4523-dd05-985727739b8f"
      },
      "execution_count": 70,
      "outputs": [
        {
          "output_type": "execute_result",
          "data": {
            "text/plain": [
              "(70000,)"
            ]
          },
          "metadata": {},
          "execution_count": 70
        }
      ]
    },
    {
      "cell_type": "code",
      "source": [
        "val_inputs.shape"
      ],
      "metadata": {
        "colab": {
          "base_uri": "https://localhost:8080/"
        },
        "id": "8gdFI5e5OlaF",
        "outputId": "a09eed7c-411b-4f58-ef70-aa925b85121a"
      },
      "execution_count": 71,
      "outputs": [
        {
          "output_type": "execute_result",
          "data": {
            "text/plain": [
              "(30000, 1000)"
            ]
          },
          "metadata": {},
          "execution_count": 71
        }
      ]
    },
    {
      "cell_type": "code",
      "source": [],
      "metadata": {
        "id": "uj3-13EdPSUz"
      },
      "execution_count": null,
      "outputs": []
    },
    {
      "cell_type": "markdown",
      "source": [
        "### Train a Logistic Regression Model"
      ],
      "metadata": {
        "id": "wFjoqFlvPijX"
      }
    },
    {
      "cell_type": "code",
      "source": [
        "from sklearn.linear_model import LogisticRegression"
      ],
      "metadata": {
        "id": "VnOiB2DfPkuw"
      },
      "execution_count": 72,
      "outputs": []
    },
    {
      "cell_type": "code",
      "source": [
        "model = LogisticRegression(max_iter=1000,solver='sag')#by defaulth the max iteration is set 100"
      ],
      "metadata": {
        "id": "Xhr3kRF-PsSG"
      },
      "execution_count": 75,
      "outputs": []
    },
    {
      "cell_type": "code",
      "source": [
        "model.fit(train_inputs, train_targets)"
      ],
      "metadata": {
        "colab": {
          "base_uri": "https://localhost:8080/"
        },
        "id": "W3ibucuXPyXH",
        "outputId": "956407f9-6ffe-4bc4-f34e-7cb7649b3dda"
      },
      "execution_count": 76,
      "outputs": [
        {
          "output_type": "stream",
          "name": "stderr",
          "text": [
            "/usr/local/lib/python3.7/dist-packages/sklearn/linear_model/_sag.py:354: ConvergenceWarning: The max_iter was reached which means the coef_ did not converge\n",
            "  ConvergenceWarning,\n"
          ]
        },
        {
          "output_type": "execute_result",
          "data": {
            "text/plain": [
              "LogisticRegression(max_iter=1000, solver='sag')"
            ]
          },
          "metadata": {},
          "execution_count": 76
        }
      ]
    },
    {
      "cell_type": "code",
      "source": [
        "train_preds = model.predict(train_inputs)\n",
        "train_preds"
      ],
      "metadata": {
        "colab": {
          "base_uri": "https://localhost:8080/"
        },
        "id": "JYdE_e5AREOK",
        "outputId": "a8bb5328-4957-449b-d6f3-fc144f78a2dc"
      },
      "execution_count": 77,
      "outputs": [
        {
          "output_type": "execute_result",
          "data": {
            "text/plain": [
              "array([0, 0, 0, ..., 0, 0, 0])"
            ]
          },
          "metadata": {},
          "execution_count": 77
        }
      ]
    },
    {
      "cell_type": "code",
      "source": [
        "pd.Series(train_preds).value_counts()"
      ],
      "metadata": {
        "colab": {
          "base_uri": "https://localhost:8080/"
        },
        "id": "dvcViJ3DRTzR",
        "outputId": "fa05d684-7230-494f-a6ae-5a26496b6836"
      },
      "execution_count": 78,
      "outputs": [
        {
          "output_type": "execute_result",
          "data": {
            "text/plain": [
              "0    68123\n",
              "1     1877\n",
              "dtype: int64"
            ]
          },
          "metadata": {},
          "execution_count": 78
        }
      ]
    },
    {
      "cell_type": "code",
      "source": [
        "pd.Series(train_targets).value_counts()"
      ],
      "metadata": {
        "colab": {
          "base_uri": "https://localhost:8080/"
        },
        "id": "xbVXFRAhRjcn",
        "outputId": "6f845a7f-6464-4e00-fa9c-1885e5ff7297"
      },
      "execution_count": 79,
      "outputs": [
        {
          "output_type": "execute_result",
          "data": {
            "text/plain": [
              "0    65784\n",
              "1     4216\n",
              "Name: target, dtype: int64"
            ]
          },
          "metadata": {},
          "execution_count": 79
        }
      ]
    },
    {
      "cell_type": "code",
      "source": [],
      "metadata": {
        "id": "OrIb59WmVvfm"
      },
      "execution_count": null,
      "outputs": []
    },
    {
      "cell_type": "code",
      "source": [],
      "metadata": {
        "id": "fbxzTLegVxH6"
      },
      "execution_count": null,
      "outputs": []
    },
    {
      "cell_type": "markdown",
      "source": [
        "Make predictions using the model"
      ],
      "metadata": {
        "id": "qKb47OiJVwX_"
      }
    },
    {
      "cell_type": "code",
      "source": [
        "# Checking how good the model is\n",
        "from sklearn.metrics import accuracy_score"
      ],
      "metadata": {
        "id": "Qu7G7tUJRzDi"
      },
      "execution_count": 80,
      "outputs": []
    },
    {
      "cell_type": "code",
      "source": [
        "accuracy_score(train_targets, train_preds)"
      ],
      "metadata": {
        "colab": {
          "base_uri": "https://localhost:8080/"
        },
        "id": "rgOMnuK2SnLk",
        "outputId": "2a5ef3df-5367-4751-d65b-96ffaa96fc41"
      },
      "execution_count": 82,
      "outputs": [
        {
          "output_type": "execute_result",
          "data": {
            "text/plain": [
              "0.9482714285714285"
            ]
          },
          "metadata": {},
          "execution_count": 82
        }
      ]
    },
    {
      "cell_type": "code",
      "source": [
        "#Using the F1 score which is better for checking the accuracy\n",
        "from sklearn.metrics import f1_score"
      ],
      "metadata": {
        "id": "7HkEXK4KTkuU"
      },
      "execution_count": 83,
      "outputs": []
    },
    {
      "cell_type": "code",
      "source": [
        "f1_score(train_targets, train_preds)"
      ],
      "metadata": {
        "colab": {
          "base_uri": "https://localhost:8080/"
        },
        "id": "NQE4NX62T3Pe",
        "outputId": "0930233c-d6d6-4567-91e3-68a6cc12737a"
      },
      "execution_count": 84,
      "outputs": [
        {
          "output_type": "execute_result",
          "data": {
            "text/plain": [
              "0.40571147218119147"
            ]
          },
          "metadata": {},
          "execution_count": 84
        }
      ]
    },
    {
      "cell_type": "code",
      "source": [
        "#Making Predictions on the validation set\n",
        "val_preds = model.predict(val_inputs)"
      ],
      "metadata": {
        "id": "DgHPSbXvUrCm"
      },
      "execution_count": 85,
      "outputs": []
    },
    {
      "cell_type": "code",
      "source": [
        "accuracy_score(val_targets, val_preds)"
      ],
      "metadata": {
        "colab": {
          "base_uri": "https://localhost:8080/"
        },
        "id": "wgqq6QxkVHcC",
        "outputId": "652d8c8a-50d9-4d53-de76-75746c5cc24c"
      },
      "execution_count": 86,
      "outputs": [
        {
          "output_type": "execute_result",
          "data": {
            "text/plain": [
              "0.945"
            ]
          },
          "metadata": {},
          "execution_count": 86
        }
      ]
    },
    {
      "cell_type": "code",
      "source": [
        "f1_score(val_targets, val_preds)"
      ],
      "metadata": {
        "colab": {
          "base_uri": "https://localhost:8080/"
        },
        "id": "YVPnh5QaVa04",
        "outputId": "106933d7-0b4e-4a97-b7e0-f080dfa2ae1d"
      },
      "execution_count": 87,
      "outputs": [
        {
          "output_type": "execute_result",
          "data": {
            "text/plain": [
              "0.3778280542986426"
            ]
          },
          "metadata": {},
          "execution_count": 87
        }
      ]
    },
    {
      "cell_type": "code",
      "source": [],
      "metadata": {
        "id": "3G7zpUVVWDdB"
      },
      "execution_count": null,
      "outputs": []
    },
    {
      "cell_type": "code",
      "source": [],
      "metadata": {
        "id": "COpVSGNTWHR3"
      },
      "execution_count": null,
      "outputs": []
    },
    {
      "cell_type": "code",
      "source": [
        "sincere_df.question_text.values[:10]"
      ],
      "metadata": {
        "colab": {
          "base_uri": "https://localhost:8080/"
        },
        "id": "T3Tt69rNWHUW",
        "outputId": "82b5d2ac-9317-4c78-e891-b2f4d51ad0dd"
      },
      "execution_count": 88,
      "outputs": [
        {
          "output_type": "execute_result",
          "data": {
            "text/plain": [
              "array(['How did Quebec nationalists see their province as a nation in the 1960s?',\n",
              "       'Do you have an adopted dog, how would you encourage people to adopt and not shop?',\n",
              "       'Why does velocity affect time? Does velocity affect space geometry?',\n",
              "       'How did Otto von Guericke used the Magdeburg hemispheres?',\n",
              "       'Can I convert montra helicon D to a mountain bike by just changing the tyres?',\n",
              "       'Is Gaza slowly becoming Auschwitz, Dachau or Treblinka for Palestinians?',\n",
              "       'Why does Quora automatically ban conservative opinions when reported, but does not do the same for liberal views?',\n",
              "       'Is it crazy if I wash or wipe my groceries off? Germs are everywhere.',\n",
              "       'Is there such a thing as dressing moderately, and if so, how is that different than dressing modestly?',\n",
              "       'Is it just me or have you ever been in this phase wherein you became ignorant to the people you once loved, completely disregarding their feelings/lives so you get to have something go your way and feel temporarily at ease. How did things change?'],\n",
              "      dtype=object)"
            ]
          },
          "metadata": {},
          "execution_count": 88
        }
      ]
    },
    {
      "cell_type": "code",
      "source": [
        "sincere_df.target.values[:10]"
      ],
      "metadata": {
        "colab": {
          "base_uri": "https://localhost:8080/"
        },
        "id": "WZgpMbOvWUHc",
        "outputId": "3db7c357-8ccd-42e5-972d-013a3ce6056b"
      },
      "execution_count": 89,
      "outputs": [
        {
          "output_type": "execute_result",
          "data": {
            "text/plain": [
              "array([0, 0, 0, 0, 0, 0, 0, 0, 0, 0])"
            ]
          },
          "metadata": {},
          "execution_count": 89
        }
      ]
    },
    {
      "cell_type": "code",
      "source": [
        "model.predict(vectorizer.transform(sincere_df.question_text.values[:10]))"
      ],
      "metadata": {
        "colab": {
          "base_uri": "https://localhost:8080/"
        },
        "id": "dCeiaCApWHXo",
        "outputId": "743e8aeb-35f9-404d-c1e2-7182495ee42f"
      },
      "execution_count": 90,
      "outputs": [
        {
          "output_type": "execute_result",
          "data": {
            "text/plain": [
              "array([0, 0, 0, 0, 0, 0, 1, 0, 0, 0])"
            ]
          },
          "metadata": {},
          "execution_count": 90
        }
      ]
    },
    {
      "cell_type": "markdown",
      "source": [
        "## Make Predictions"
      ],
      "metadata": {
        "id": "ROW6PrC3B2Co"
      }
    },
    {
      "cell_type": "code",
      "source": [
        "test_df"
      ],
      "metadata": {
        "colab": {
          "base_uri": "https://localhost:8080/",
          "height": 424
        },
        "id": "lcNtnSLdT2mE",
        "outputId": "850a9877-6ada-496a-cf17-8c2f55a57a02"
      },
      "execution_count": 91,
      "outputs": [
        {
          "output_type": "execute_result",
          "data": {
            "text/plain": [
              "                         qid  \\\n",
              "0       0000163e3ea7c7a74cd7   \n",
              "1       00002bd4fb5d505b9161   \n",
              "2       00007756b4a147d2b0b3   \n",
              "3       000086e4b7e1c7146103   \n",
              "4       0000c4c3fbe8785a3090   \n",
              "...                      ...   \n",
              "375801  ffff7fa746bd6d6197a9   \n",
              "375802  ffffa1be31c43046ab6b   \n",
              "375803  ffffae173b6ca6bfa563   \n",
              "375804  ffffb1f7f1a008620287   \n",
              "375805  fffff85473f4699474b0   \n",
              "\n",
              "                                            question_text  \n",
              "0       Why do so many women become so rude and arroga...  \n",
              "1       When should I apply for RV college of engineer...  \n",
              "2       What is it really like to be a nurse practitio...  \n",
              "3                                  Who are entrepreneurs?  \n",
              "4        Is education really making good people nowadays?  \n",
              "...                                                   ...  \n",
              "375801  How many countries listed in gold import in in...  \n",
              "375802  Is there an alternative to dresses on formal p...  \n",
              "375803  Where I can find best friendship quotes in Tel...  \n",
              "375804        What are the causes of refraction of light?  \n",
              "375805  Climate change is a worrying topic. How much t...  \n",
              "\n",
              "[375806 rows x 2 columns]"
            ],
            "text/html": [
              "\n",
              "  <div id=\"df-41535767-303c-4022-b426-4c5bd86fc283\">\n",
              "    <div class=\"colab-df-container\">\n",
              "      <div>\n",
              "<style scoped>\n",
              "    .dataframe tbody tr th:only-of-type {\n",
              "        vertical-align: middle;\n",
              "    }\n",
              "\n",
              "    .dataframe tbody tr th {\n",
              "        vertical-align: top;\n",
              "    }\n",
              "\n",
              "    .dataframe thead th {\n",
              "        text-align: right;\n",
              "    }\n",
              "</style>\n",
              "<table border=\"1\" class=\"dataframe\">\n",
              "  <thead>\n",
              "    <tr style=\"text-align: right;\">\n",
              "      <th></th>\n",
              "      <th>qid</th>\n",
              "      <th>question_text</th>\n",
              "    </tr>\n",
              "  </thead>\n",
              "  <tbody>\n",
              "    <tr>\n",
              "      <th>0</th>\n",
              "      <td>0000163e3ea7c7a74cd7</td>\n",
              "      <td>Why do so many women become so rude and arroga...</td>\n",
              "    </tr>\n",
              "    <tr>\n",
              "      <th>1</th>\n",
              "      <td>00002bd4fb5d505b9161</td>\n",
              "      <td>When should I apply for RV college of engineer...</td>\n",
              "    </tr>\n",
              "    <tr>\n",
              "      <th>2</th>\n",
              "      <td>00007756b4a147d2b0b3</td>\n",
              "      <td>What is it really like to be a nurse practitio...</td>\n",
              "    </tr>\n",
              "    <tr>\n",
              "      <th>3</th>\n",
              "      <td>000086e4b7e1c7146103</td>\n",
              "      <td>Who are entrepreneurs?</td>\n",
              "    </tr>\n",
              "    <tr>\n",
              "      <th>4</th>\n",
              "      <td>0000c4c3fbe8785a3090</td>\n",
              "      <td>Is education really making good people nowadays?</td>\n",
              "    </tr>\n",
              "    <tr>\n",
              "      <th>...</th>\n",
              "      <td>...</td>\n",
              "      <td>...</td>\n",
              "    </tr>\n",
              "    <tr>\n",
              "      <th>375801</th>\n",
              "      <td>ffff7fa746bd6d6197a9</td>\n",
              "      <td>How many countries listed in gold import in in...</td>\n",
              "    </tr>\n",
              "    <tr>\n",
              "      <th>375802</th>\n",
              "      <td>ffffa1be31c43046ab6b</td>\n",
              "      <td>Is there an alternative to dresses on formal p...</td>\n",
              "    </tr>\n",
              "    <tr>\n",
              "      <th>375803</th>\n",
              "      <td>ffffae173b6ca6bfa563</td>\n",
              "      <td>Where I can find best friendship quotes in Tel...</td>\n",
              "    </tr>\n",
              "    <tr>\n",
              "      <th>375804</th>\n",
              "      <td>ffffb1f7f1a008620287</td>\n",
              "      <td>What are the causes of refraction of light?</td>\n",
              "    </tr>\n",
              "    <tr>\n",
              "      <th>375805</th>\n",
              "      <td>fffff85473f4699474b0</td>\n",
              "      <td>Climate change is a worrying topic. How much t...</td>\n",
              "    </tr>\n",
              "  </tbody>\n",
              "</table>\n",
              "<p>375806 rows × 2 columns</p>\n",
              "</div>\n",
              "      <button class=\"colab-df-convert\" onclick=\"convertToInteractive('df-41535767-303c-4022-b426-4c5bd86fc283')\"\n",
              "              title=\"Convert this dataframe to an interactive table.\"\n",
              "              style=\"display:none;\">\n",
              "        \n",
              "  <svg xmlns=\"http://www.w3.org/2000/svg\" height=\"24px\"viewBox=\"0 0 24 24\"\n",
              "       width=\"24px\">\n",
              "    <path d=\"M0 0h24v24H0V0z\" fill=\"none\"/>\n",
              "    <path d=\"M18.56 5.44l.94 2.06.94-2.06 2.06-.94-2.06-.94-.94-2.06-.94 2.06-2.06.94zm-11 1L8.5 8.5l.94-2.06 2.06-.94-2.06-.94L8.5 2.5l-.94 2.06-2.06.94zm10 10l.94 2.06.94-2.06 2.06-.94-2.06-.94-.94-2.06-.94 2.06-2.06.94z\"/><path d=\"M17.41 7.96l-1.37-1.37c-.4-.4-.92-.59-1.43-.59-.52 0-1.04.2-1.43.59L10.3 9.45l-7.72 7.72c-.78.78-.78 2.05 0 2.83L4 21.41c.39.39.9.59 1.41.59.51 0 1.02-.2 1.41-.59l7.78-7.78 2.81-2.81c.8-.78.8-2.07 0-2.86zM5.41 20L4 18.59l7.72-7.72 1.47 1.35L5.41 20z\"/>\n",
              "  </svg>\n",
              "      </button>\n",
              "      \n",
              "  <style>\n",
              "    .colab-df-container {\n",
              "      display:flex;\n",
              "      flex-wrap:wrap;\n",
              "      gap: 12px;\n",
              "    }\n",
              "\n",
              "    .colab-df-convert {\n",
              "      background-color: #E8F0FE;\n",
              "      border: none;\n",
              "      border-radius: 50%;\n",
              "      cursor: pointer;\n",
              "      display: none;\n",
              "      fill: #1967D2;\n",
              "      height: 32px;\n",
              "      padding: 0 0 0 0;\n",
              "      width: 32px;\n",
              "    }\n",
              "\n",
              "    .colab-df-convert:hover {\n",
              "      background-color: #E2EBFA;\n",
              "      box-shadow: 0px 1px 2px rgba(60, 64, 67, 0.3), 0px 1px 3px 1px rgba(60, 64, 67, 0.15);\n",
              "      fill: #174EA6;\n",
              "    }\n",
              "\n",
              "    [theme=dark] .colab-df-convert {\n",
              "      background-color: #3B4455;\n",
              "      fill: #D2E3FC;\n",
              "    }\n",
              "\n",
              "    [theme=dark] .colab-df-convert:hover {\n",
              "      background-color: #434B5C;\n",
              "      box-shadow: 0px 1px 3px 1px rgba(0, 0, 0, 0.15);\n",
              "      filter: drop-shadow(0px 1px 2px rgba(0, 0, 0, 0.3));\n",
              "      fill: #FFFFFF;\n",
              "    }\n",
              "  </style>\n",
              "\n",
              "      <script>\n",
              "        const buttonEl =\n",
              "          document.querySelector('#df-41535767-303c-4022-b426-4c5bd86fc283 button.colab-df-convert');\n",
              "        buttonEl.style.display =\n",
              "          google.colab.kernel.accessAllowed ? 'block' : 'none';\n",
              "\n",
              "        async function convertToInteractive(key) {\n",
              "          const element = document.querySelector('#df-41535767-303c-4022-b426-4c5bd86fc283');\n",
              "          const dataTable =\n",
              "            await google.colab.kernel.invokeFunction('convertToInteractive',\n",
              "                                                     [key], {});\n",
              "          if (!dataTable) return;\n",
              "\n",
              "          const docLinkHtml = 'Like what you see? Visit the ' +\n",
              "            '<a target=\"_blank\" href=https://colab.research.google.com/notebooks/data_table.ipynb>data table notebook</a>'\n",
              "            + ' to learn more about interactive tables.';\n",
              "          element.innerHTML = '';\n",
              "          dataTable['output_type'] = 'display_data';\n",
              "          await google.colab.output.renderOutput(dataTable, element);\n",
              "          const docLink = document.createElement('div');\n",
              "          docLink.innerHTML = docLinkHtml;\n",
              "          element.appendChild(docLink);\n",
              "        }\n",
              "      </script>\n",
              "    </div>\n",
              "  </div>\n",
              "  "
            ]
          },
          "metadata": {},
          "execution_count": 91
        }
      ]
    },
    {
      "cell_type": "code",
      "source": [
        "test_inputs.shape"
      ],
      "metadata": {
        "colab": {
          "base_uri": "https://localhost:8080/"
        },
        "id": "RFzsmcCRCGkV",
        "outputId": "2e48dc04-64ea-463b-92e7-e9ef606b49b9"
      },
      "execution_count": 92,
      "outputs": [
        {
          "output_type": "execute_result",
          "data": {
            "text/plain": [
              "(375806, 1000)"
            ]
          },
          "metadata": {},
          "execution_count": 92
        }
      ]
    },
    {
      "cell_type": "code",
      "source": [
        "test_preds = model.predict(test_inputs)"
      ],
      "metadata": {
        "id": "S3w_w3ZyYEQG"
      },
      "execution_count": 93,
      "outputs": []
    },
    {
      "cell_type": "code",
      "source": [],
      "metadata": {
        "id": "tBZCKu7jCGmi"
      },
      "execution_count": 94,
      "outputs": []
    },
    {
      "cell_type": "code",
      "source": [],
      "metadata": {
        "id": "zIzO-ytvCGqC"
      },
      "execution_count": null,
      "outputs": []
    },
    {
      "cell_type": "code",
      "execution_count": null,
      "metadata": {
        "id": "QRIS_fs-_-sy"
      },
      "outputs": [],
      "source": [
        "print('Hello World')"
      ]
    }
  ],
  "metadata": {
    "kernelspec": {
      "display_name": "Python 3",
      "language": "python",
      "name": "python3"
    },
    "language_info": {
      "codemirror_mode": {
        "name": "ipython",
        "version": 3
      },
      "file_extension": ".py",
      "mimetype": "text/x-python",
      "name": "python",
      "nbconvert_exporter": "python",
      "pygments_lexer": "ipython3",
      "version": "3.7.6"
    },
    "colab": {
      "provenance": [],
      "include_colab_link": true
    }
  },
  "nbformat": 4,
  "nbformat_minor": 0
}