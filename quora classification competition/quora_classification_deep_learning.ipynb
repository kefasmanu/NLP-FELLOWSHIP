{
  "cells": [
    {
      "cell_type": "markdown",
      "metadata": {
        "id": "view-in-github",
        "colab_type": "text"
      },
      "source": [
        "<a href=\"https://colab.research.google.com/github/kefasmanu/NLP-FELLOWSHIP/blob/main/quora%20classification%20competition/quora_classification_deep_learning.ipynb\" target=\"_parent\"><img src=\"https://colab.research.google.com/assets/colab-badge.svg\" alt=\"Open In Colab\"/></a>"
      ]
    },
    {
      "cell_type": "markdown",
      "metadata": {
        "id": "EBzvLoH_3tOj"
      },
      "source": [
        "# quora insincere question classification-Deep Learning and Neural Networks\n",
        "\n",
        "Outline:\n",
        "1. Download the Data from Kaggle\n",
        "2. Prepare the data for modeling\n",
        "3. Train a deep learning model using Pytorch"
      ]
    },
    {
      "cell_type": "markdown",
      "source": [
        "## Download Data From Kaggle\n",
        "\n",
        "Get the Kaggle API key to download"
      ],
      "metadata": {
        "id": "n0QysDSo4p4Z"
      }
    },
    {
      "cell_type": "code",
      "execution_count": 1,
      "metadata": {
        "colab": {
          "base_uri": "https://localhost:8080/"
        },
        "id": "hfMbTN2B3tOq",
        "outputId": "a3c19ff5-2787-46d3-8689-f3d72d350e32"
      },
      "outputs": [
        {
          "output_type": "stream",
          "name": "stdout",
          "text": [
            "sample_data\n"
          ]
        }
      ],
      "source": [
        "!ls #list of files"
      ]
    },
    {
      "cell_type": "code",
      "source": [
        "!pwd# CORRENT WORRKING DIRECTORY"
      ],
      "metadata": {
        "colab": {
          "base_uri": "https://localhost:8080/"
        },
        "id": "qTYqtw_f4xFR",
        "outputId": "486877e2-9455-484b-d01f-814ac1cb813b"
      },
      "execution_count": 12,
      "outputs": [
        {
          "output_type": "stream",
          "name": "stdout",
          "text": [
            "/bin/bash: pwd#: command not found\n"
          ]
        }
      ]
    },
    {
      "cell_type": "code",
      "source": [
        "import os"
      ],
      "metadata": {
        "id": "hEqUze1Z52DY"
      },
      "execution_count": 13,
      "outputs": []
    },
    {
      "cell_type": "code",
      "source": [
        "os.environ['KAGGLE_CONFIG_DIR']='/content'"
      ],
      "metadata": {
        "id": "WU4QBmTG55iQ"
      },
      "execution_count": 14,
      "outputs": []
    },
    {
      "cell_type": "code",
      "source": [
        "#!chmod 600 /content/kaggle.json"
      ],
      "metadata": {
        "id": "007o_UGE6cfS"
      },
      "execution_count": 20,
      "outputs": []
    },
    {
      "cell_type": "code",
      "source": [
        "!kaggle competitions download -c quora-insincere-questions-classification -f train.csv\n",
        "!kaggle competitions download -c quora-insincere-questions-classification -f test.csv\n",
        "!kaggle competitions download -c quora-insincere-questions-classification -f sample_submission.csv"
      ],
      "metadata": {
        "colab": {
          "base_uri": "https://localhost:8080/"
        },
        "id": "QRKgfFEu4xIv",
        "outputId": "f3914f45-707b-4d01-f745-680f82204aa5"
      },
      "execution_count": 22,
      "outputs": [
        {
          "output_type": "stream",
          "name": "stdout",
          "text": [
            "train.csv.zip: Skipping, found more recently modified local copy (use --force to force download)\n",
            "test.csv.zip: Skipping, found more recently modified local copy (use --force to force download)\n",
            "Downloading sample_submission.csv.zip to /content\n",
            "  0% 0.00/4.09M [00:00<?, ?B/s]\n",
            "100% 4.09M/4.09M [00:00<00:00, 139MB/s]\n"
          ]
        }
      ]
    },
    {
      "cell_type": "code",
      "source": [
        "#Create some variables to store the files\n",
        "train_fname = './train.csv.zip'\n",
        "test_fname='./test.csv.zip'\n",
        "sub_fname ='./sample_submission.csv.zip'"
      ],
      "metadata": {
        "id": "jHMhGEtE4xPs"
      },
      "execution_count": 23,
      "outputs": []
    },
    {
      "cell_type": "code",
      "source": [
        "import pandas as pd"
      ],
      "metadata": {
        "id": "7Ps8vTuY4xTQ"
      },
      "execution_count": 24,
      "outputs": []
    },
    {
      "cell_type": "code",
      "source": [
        "#Reading the data into pandas dataframe\n",
        "raw_df = pd.read_csv(train_fname)\n",
        "test_df = pd.read_csv(test_fname)\n",
        "sub_df= pd.read_csv(sub_fname)"
      ],
      "metadata": {
        "id": "U7TQFSey4xry"
      },
      "execution_count": 27,
      "outputs": []
    },
    {
      "cell_type": "code",
      "source": [
        "raw_df"
      ],
      "metadata": {
        "colab": {
          "base_uri": "https://localhost:8080/",
          "height": 424
        },
        "id": "qIvkVigu_153",
        "outputId": "91cadd84-1dd0-49f0-99ae-f4def9ec273a"
      },
      "execution_count": 28,
      "outputs": [
        {
          "output_type": "execute_result",
          "data": {
            "text/plain": [
              "                          qid  \\\n",
              "0        00002165364db923c7e6   \n",
              "1        000032939017120e6e44   \n",
              "2        0000412ca6e4628ce2cf   \n",
              "3        000042bf85aa498cd78e   \n",
              "4        0000455dfa3e01eae3af   \n",
              "...                       ...   \n",
              "1306117  ffffcc4e2331aaf1e41e   \n",
              "1306118  ffffd431801e5a2f4861   \n",
              "1306119  ffffd48fb36b63db010c   \n",
              "1306120  ffffec519fa37cf60c78   \n",
              "1306121  ffffed09fedb5088744a   \n",
              "\n",
              "                                             question_text  target  \n",
              "0        How did Quebec nationalists see their province...       0  \n",
              "1        Do you have an adopted dog, how would you enco...       0  \n",
              "2        Why does velocity affect time? Does velocity a...       0  \n",
              "3        How did Otto von Guericke used the Magdeburg h...       0  \n",
              "4        Can I convert montra helicon D to a mountain b...       0  \n",
              "...                                                    ...     ...  \n",
              "1306117  What other technical skills do you need as a c...       0  \n",
              "1306118  Does MS in ECE have good job prospects in USA ...       0  \n",
              "1306119                          Is foam insulation toxic?       0  \n",
              "1306120  How can one start a research project based on ...       0  \n",
              "1306121  Who wins in a battle between a Wolverine and a...       0  \n",
              "\n",
              "[1306122 rows x 3 columns]"
            ],
            "text/html": [
              "\n",
              "  <div id=\"df-87e954f6-5edd-4b70-88dc-244bd3682f5e\">\n",
              "    <div class=\"colab-df-container\">\n",
              "      <div>\n",
              "<style scoped>\n",
              "    .dataframe tbody tr th:only-of-type {\n",
              "        vertical-align: middle;\n",
              "    }\n",
              "\n",
              "    .dataframe tbody tr th {\n",
              "        vertical-align: top;\n",
              "    }\n",
              "\n",
              "    .dataframe thead th {\n",
              "        text-align: right;\n",
              "    }\n",
              "</style>\n",
              "<table border=\"1\" class=\"dataframe\">\n",
              "  <thead>\n",
              "    <tr style=\"text-align: right;\">\n",
              "      <th></th>\n",
              "      <th>qid</th>\n",
              "      <th>question_text</th>\n",
              "      <th>target</th>\n",
              "    </tr>\n",
              "  </thead>\n",
              "  <tbody>\n",
              "    <tr>\n",
              "      <th>0</th>\n",
              "      <td>00002165364db923c7e6</td>\n",
              "      <td>How did Quebec nationalists see their province...</td>\n",
              "      <td>0</td>\n",
              "    </tr>\n",
              "    <tr>\n",
              "      <th>1</th>\n",
              "      <td>000032939017120e6e44</td>\n",
              "      <td>Do you have an adopted dog, how would you enco...</td>\n",
              "      <td>0</td>\n",
              "    </tr>\n",
              "    <tr>\n",
              "      <th>2</th>\n",
              "      <td>0000412ca6e4628ce2cf</td>\n",
              "      <td>Why does velocity affect time? Does velocity a...</td>\n",
              "      <td>0</td>\n",
              "    </tr>\n",
              "    <tr>\n",
              "      <th>3</th>\n",
              "      <td>000042bf85aa498cd78e</td>\n",
              "      <td>How did Otto von Guericke used the Magdeburg h...</td>\n",
              "      <td>0</td>\n",
              "    </tr>\n",
              "    <tr>\n",
              "      <th>4</th>\n",
              "      <td>0000455dfa3e01eae3af</td>\n",
              "      <td>Can I convert montra helicon D to a mountain b...</td>\n",
              "      <td>0</td>\n",
              "    </tr>\n",
              "    <tr>\n",
              "      <th>...</th>\n",
              "      <td>...</td>\n",
              "      <td>...</td>\n",
              "      <td>...</td>\n",
              "    </tr>\n",
              "    <tr>\n",
              "      <th>1306117</th>\n",
              "      <td>ffffcc4e2331aaf1e41e</td>\n",
              "      <td>What other technical skills do you need as a c...</td>\n",
              "      <td>0</td>\n",
              "    </tr>\n",
              "    <tr>\n",
              "      <th>1306118</th>\n",
              "      <td>ffffd431801e5a2f4861</td>\n",
              "      <td>Does MS in ECE have good job prospects in USA ...</td>\n",
              "      <td>0</td>\n",
              "    </tr>\n",
              "    <tr>\n",
              "      <th>1306119</th>\n",
              "      <td>ffffd48fb36b63db010c</td>\n",
              "      <td>Is foam insulation toxic?</td>\n",
              "      <td>0</td>\n",
              "    </tr>\n",
              "    <tr>\n",
              "      <th>1306120</th>\n",
              "      <td>ffffec519fa37cf60c78</td>\n",
              "      <td>How can one start a research project based on ...</td>\n",
              "      <td>0</td>\n",
              "    </tr>\n",
              "    <tr>\n",
              "      <th>1306121</th>\n",
              "      <td>ffffed09fedb5088744a</td>\n",
              "      <td>Who wins in a battle between a Wolverine and a...</td>\n",
              "      <td>0</td>\n",
              "    </tr>\n",
              "  </tbody>\n",
              "</table>\n",
              "<p>1306122 rows × 3 columns</p>\n",
              "</div>\n",
              "      <button class=\"colab-df-convert\" onclick=\"convertToInteractive('df-87e954f6-5edd-4b70-88dc-244bd3682f5e')\"\n",
              "              title=\"Convert this dataframe to an interactive table.\"\n",
              "              style=\"display:none;\">\n",
              "        \n",
              "  <svg xmlns=\"http://www.w3.org/2000/svg\" height=\"24px\"viewBox=\"0 0 24 24\"\n",
              "       width=\"24px\">\n",
              "    <path d=\"M0 0h24v24H0V0z\" fill=\"none\"/>\n",
              "    <path d=\"M18.56 5.44l.94 2.06.94-2.06 2.06-.94-2.06-.94-.94-2.06-.94 2.06-2.06.94zm-11 1L8.5 8.5l.94-2.06 2.06-.94-2.06-.94L8.5 2.5l-.94 2.06-2.06.94zm10 10l.94 2.06.94-2.06 2.06-.94-2.06-.94-.94-2.06-.94 2.06-2.06.94z\"/><path d=\"M17.41 7.96l-1.37-1.37c-.4-.4-.92-.59-1.43-.59-.52 0-1.04.2-1.43.59L10.3 9.45l-7.72 7.72c-.78.78-.78 2.05 0 2.83L4 21.41c.39.39.9.59 1.41.59.51 0 1.02-.2 1.41-.59l7.78-7.78 2.81-2.81c.8-.78.8-2.07 0-2.86zM5.41 20L4 18.59l7.72-7.72 1.47 1.35L5.41 20z\"/>\n",
              "  </svg>\n",
              "      </button>\n",
              "      \n",
              "  <style>\n",
              "    .colab-df-container {\n",
              "      display:flex;\n",
              "      flex-wrap:wrap;\n",
              "      gap: 12px;\n",
              "    }\n",
              "\n",
              "    .colab-df-convert {\n",
              "      background-color: #E8F0FE;\n",
              "      border: none;\n",
              "      border-radius: 50%;\n",
              "      cursor: pointer;\n",
              "      display: none;\n",
              "      fill: #1967D2;\n",
              "      height: 32px;\n",
              "      padding: 0 0 0 0;\n",
              "      width: 32px;\n",
              "    }\n",
              "\n",
              "    .colab-df-convert:hover {\n",
              "      background-color: #E2EBFA;\n",
              "      box-shadow: 0px 1px 2px rgba(60, 64, 67, 0.3), 0px 1px 3px 1px rgba(60, 64, 67, 0.15);\n",
              "      fill: #174EA6;\n",
              "    }\n",
              "\n",
              "    [theme=dark] .colab-df-convert {\n",
              "      background-color: #3B4455;\n",
              "      fill: #D2E3FC;\n",
              "    }\n",
              "\n",
              "    [theme=dark] .colab-df-convert:hover {\n",
              "      background-color: #434B5C;\n",
              "      box-shadow: 0px 1px 3px 1px rgba(0, 0, 0, 0.15);\n",
              "      filter: drop-shadow(0px 1px 2px rgba(0, 0, 0, 0.3));\n",
              "      fill: #FFFFFF;\n",
              "    }\n",
              "  </style>\n",
              "\n",
              "      <script>\n",
              "        const buttonEl =\n",
              "          document.querySelector('#df-87e954f6-5edd-4b70-88dc-244bd3682f5e button.colab-df-convert');\n",
              "        buttonEl.style.display =\n",
              "          google.colab.kernel.accessAllowed ? 'block' : 'none';\n",
              "\n",
              "        async function convertToInteractive(key) {\n",
              "          const element = document.querySelector('#df-87e954f6-5edd-4b70-88dc-244bd3682f5e');\n",
              "          const dataTable =\n",
              "            await google.colab.kernel.invokeFunction('convertToInteractive',\n",
              "                                                     [key], {});\n",
              "          if (!dataTable) return;\n",
              "\n",
              "          const docLinkHtml = 'Like what you see? Visit the ' +\n",
              "            '<a target=\"_blank\" href=https://colab.research.google.com/notebooks/data_table.ipynb>data table notebook</a>'\n",
              "            + ' to learn more about interactive tables.';\n",
              "          element.innerHTML = '';\n",
              "          dataTable['output_type'] = 'display_data';\n",
              "          await google.colab.output.renderOutput(dataTable, element);\n",
              "          const docLink = document.createElement('div');\n",
              "          docLink.innerHTML = docLinkHtml;\n",
              "          element.appendChild(docLink);\n",
              "        }\n",
              "      </script>\n",
              "    </div>\n",
              "  </div>\n",
              "  "
            ]
          },
          "metadata": {},
          "execution_count": 28
        }
      ]
    },
    {
      "cell_type": "code",
      "source": [
        "# we have to make prediction on this df\n",
        "test_df"
      ],
      "metadata": {
        "colab": {
          "base_uri": "https://localhost:8080/",
          "height": 424
        },
        "id": "qxTHOHXy_18g",
        "outputId": "a81df42d-b1a2-45f5-dac8-1e03597d54c0"
      },
      "execution_count": 30,
      "outputs": [
        {
          "output_type": "execute_result",
          "data": {
            "text/plain": [
              "                         qid  \\\n",
              "0       0000163e3ea7c7a74cd7   \n",
              "1       00002bd4fb5d505b9161   \n",
              "2       00007756b4a147d2b0b3   \n",
              "3       000086e4b7e1c7146103   \n",
              "4       0000c4c3fbe8785a3090   \n",
              "...                      ...   \n",
              "375801  ffff7fa746bd6d6197a9   \n",
              "375802  ffffa1be31c43046ab6b   \n",
              "375803  ffffae173b6ca6bfa563   \n",
              "375804  ffffb1f7f1a008620287   \n",
              "375805  fffff85473f4699474b0   \n",
              "\n",
              "                                            question_text  \n",
              "0       Why do so many women become so rude and arroga...  \n",
              "1       When should I apply for RV college of engineer...  \n",
              "2       What is it really like to be a nurse practitio...  \n",
              "3                                  Who are entrepreneurs?  \n",
              "4        Is education really making good people nowadays?  \n",
              "...                                                   ...  \n",
              "375801  How many countries listed in gold import in in...  \n",
              "375802  Is there an alternative to dresses on formal p...  \n",
              "375803  Where I can find best friendship quotes in Tel...  \n",
              "375804        What are the causes of refraction of light?  \n",
              "375805  Climate change is a worrying topic. How much t...  \n",
              "\n",
              "[375806 rows x 2 columns]"
            ],
            "text/html": [
              "\n",
              "  <div id=\"df-ed077f28-64a8-40e2-8ea5-e9e2d47836ff\">\n",
              "    <div class=\"colab-df-container\">\n",
              "      <div>\n",
              "<style scoped>\n",
              "    .dataframe tbody tr th:only-of-type {\n",
              "        vertical-align: middle;\n",
              "    }\n",
              "\n",
              "    .dataframe tbody tr th {\n",
              "        vertical-align: top;\n",
              "    }\n",
              "\n",
              "    .dataframe thead th {\n",
              "        text-align: right;\n",
              "    }\n",
              "</style>\n",
              "<table border=\"1\" class=\"dataframe\">\n",
              "  <thead>\n",
              "    <tr style=\"text-align: right;\">\n",
              "      <th></th>\n",
              "      <th>qid</th>\n",
              "      <th>question_text</th>\n",
              "    </tr>\n",
              "  </thead>\n",
              "  <tbody>\n",
              "    <tr>\n",
              "      <th>0</th>\n",
              "      <td>0000163e3ea7c7a74cd7</td>\n",
              "      <td>Why do so many women become so rude and arroga...</td>\n",
              "    </tr>\n",
              "    <tr>\n",
              "      <th>1</th>\n",
              "      <td>00002bd4fb5d505b9161</td>\n",
              "      <td>When should I apply for RV college of engineer...</td>\n",
              "    </tr>\n",
              "    <tr>\n",
              "      <th>2</th>\n",
              "      <td>00007756b4a147d2b0b3</td>\n",
              "      <td>What is it really like to be a nurse practitio...</td>\n",
              "    </tr>\n",
              "    <tr>\n",
              "      <th>3</th>\n",
              "      <td>000086e4b7e1c7146103</td>\n",
              "      <td>Who are entrepreneurs?</td>\n",
              "    </tr>\n",
              "    <tr>\n",
              "      <th>4</th>\n",
              "      <td>0000c4c3fbe8785a3090</td>\n",
              "      <td>Is education really making good people nowadays?</td>\n",
              "    </tr>\n",
              "    <tr>\n",
              "      <th>...</th>\n",
              "      <td>...</td>\n",
              "      <td>...</td>\n",
              "    </tr>\n",
              "    <tr>\n",
              "      <th>375801</th>\n",
              "      <td>ffff7fa746bd6d6197a9</td>\n",
              "      <td>How many countries listed in gold import in in...</td>\n",
              "    </tr>\n",
              "    <tr>\n",
              "      <th>375802</th>\n",
              "      <td>ffffa1be31c43046ab6b</td>\n",
              "      <td>Is there an alternative to dresses on formal p...</td>\n",
              "    </tr>\n",
              "    <tr>\n",
              "      <th>375803</th>\n",
              "      <td>ffffae173b6ca6bfa563</td>\n",
              "      <td>Where I can find best friendship quotes in Tel...</td>\n",
              "    </tr>\n",
              "    <tr>\n",
              "      <th>375804</th>\n",
              "      <td>ffffb1f7f1a008620287</td>\n",
              "      <td>What are the causes of refraction of light?</td>\n",
              "    </tr>\n",
              "    <tr>\n",
              "      <th>375805</th>\n",
              "      <td>fffff85473f4699474b0</td>\n",
              "      <td>Climate change is a worrying topic. How much t...</td>\n",
              "    </tr>\n",
              "  </tbody>\n",
              "</table>\n",
              "<p>375806 rows × 2 columns</p>\n",
              "</div>\n",
              "      <button class=\"colab-df-convert\" onclick=\"convertToInteractive('df-ed077f28-64a8-40e2-8ea5-e9e2d47836ff')\"\n",
              "              title=\"Convert this dataframe to an interactive table.\"\n",
              "              style=\"display:none;\">\n",
              "        \n",
              "  <svg xmlns=\"http://www.w3.org/2000/svg\" height=\"24px\"viewBox=\"0 0 24 24\"\n",
              "       width=\"24px\">\n",
              "    <path d=\"M0 0h24v24H0V0z\" fill=\"none\"/>\n",
              "    <path d=\"M18.56 5.44l.94 2.06.94-2.06 2.06-.94-2.06-.94-.94-2.06-.94 2.06-2.06.94zm-11 1L8.5 8.5l.94-2.06 2.06-.94-2.06-.94L8.5 2.5l-.94 2.06-2.06.94zm10 10l.94 2.06.94-2.06 2.06-.94-2.06-.94-.94-2.06-.94 2.06-2.06.94z\"/><path d=\"M17.41 7.96l-1.37-1.37c-.4-.4-.92-.59-1.43-.59-.52 0-1.04.2-1.43.59L10.3 9.45l-7.72 7.72c-.78.78-.78 2.05 0 2.83L4 21.41c.39.39.9.59 1.41.59.51 0 1.02-.2 1.41-.59l7.78-7.78 2.81-2.81c.8-.78.8-2.07 0-2.86zM5.41 20L4 18.59l7.72-7.72 1.47 1.35L5.41 20z\"/>\n",
              "  </svg>\n",
              "      </button>\n",
              "      \n",
              "  <style>\n",
              "    .colab-df-container {\n",
              "      display:flex;\n",
              "      flex-wrap:wrap;\n",
              "      gap: 12px;\n",
              "    }\n",
              "\n",
              "    .colab-df-convert {\n",
              "      background-color: #E8F0FE;\n",
              "      border: none;\n",
              "      border-radius: 50%;\n",
              "      cursor: pointer;\n",
              "      display: none;\n",
              "      fill: #1967D2;\n",
              "      height: 32px;\n",
              "      padding: 0 0 0 0;\n",
              "      width: 32px;\n",
              "    }\n",
              "\n",
              "    .colab-df-convert:hover {\n",
              "      background-color: #E2EBFA;\n",
              "      box-shadow: 0px 1px 2px rgba(60, 64, 67, 0.3), 0px 1px 3px 1px rgba(60, 64, 67, 0.15);\n",
              "      fill: #174EA6;\n",
              "    }\n",
              "\n",
              "    [theme=dark] .colab-df-convert {\n",
              "      background-color: #3B4455;\n",
              "      fill: #D2E3FC;\n",
              "    }\n",
              "\n",
              "    [theme=dark] .colab-df-convert:hover {\n",
              "      background-color: #434B5C;\n",
              "      box-shadow: 0px 1px 3px 1px rgba(0, 0, 0, 0.15);\n",
              "      filter: drop-shadow(0px 1px 2px rgba(0, 0, 0, 0.3));\n",
              "      fill: #FFFFFF;\n",
              "    }\n",
              "  </style>\n",
              "\n",
              "      <script>\n",
              "        const buttonEl =\n",
              "          document.querySelector('#df-ed077f28-64a8-40e2-8ea5-e9e2d47836ff button.colab-df-convert');\n",
              "        buttonEl.style.display =\n",
              "          google.colab.kernel.accessAllowed ? 'block' : 'none';\n",
              "\n",
              "        async function convertToInteractive(key) {\n",
              "          const element = document.querySelector('#df-ed077f28-64a8-40e2-8ea5-e9e2d47836ff');\n",
              "          const dataTable =\n",
              "            await google.colab.kernel.invokeFunction('convertToInteractive',\n",
              "                                                     [key], {});\n",
              "          if (!dataTable) return;\n",
              "\n",
              "          const docLinkHtml = 'Like what you see? Visit the ' +\n",
              "            '<a target=\"_blank\" href=https://colab.research.google.com/notebooks/data_table.ipynb>data table notebook</a>'\n",
              "            + ' to learn more about interactive tables.';\n",
              "          element.innerHTML = '';\n",
              "          dataTable['output_type'] = 'display_data';\n",
              "          await google.colab.output.renderOutput(dataTable, element);\n",
              "          const docLink = document.createElement('div');\n",
              "          docLink.innerHTML = docLinkHtml;\n",
              "          element.appendChild(docLink);\n",
              "        }\n",
              "      </script>\n",
              "    </div>\n",
              "  </div>\n",
              "  "
            ]
          },
          "metadata": {},
          "execution_count": 30
        }
      ]
    },
    {
      "cell_type": "code",
      "source": [
        "#Sample of submission file\n",
        "sub_df"
      ],
      "metadata": {
        "colab": {
          "base_uri": "https://localhost:8080/",
          "height": 424
        },
        "id": "bjBV68B5_2AQ",
        "outputId": "5679ec7f-e5cf-41bb-92ae-6cdba22eaed3"
      },
      "execution_count": 31,
      "outputs": [
        {
          "output_type": "execute_result",
          "data": {
            "text/plain": [
              "                         qid  prediction\n",
              "0       0000163e3ea7c7a74cd7           0\n",
              "1       00002bd4fb5d505b9161           0\n",
              "2       00007756b4a147d2b0b3           0\n",
              "3       000086e4b7e1c7146103           0\n",
              "4       0000c4c3fbe8785a3090           0\n",
              "...                      ...         ...\n",
              "375801  ffff7fa746bd6d6197a9           0\n",
              "375802  ffffa1be31c43046ab6b           0\n",
              "375803  ffffae173b6ca6bfa563           0\n",
              "375804  ffffb1f7f1a008620287           0\n",
              "375805  fffff85473f4699474b0           0\n",
              "\n",
              "[375806 rows x 2 columns]"
            ],
            "text/html": [
              "\n",
              "  <div id=\"df-aa5c0f17-3f9f-4726-959c-9f3143bbf53f\">\n",
              "    <div class=\"colab-df-container\">\n",
              "      <div>\n",
              "<style scoped>\n",
              "    .dataframe tbody tr th:only-of-type {\n",
              "        vertical-align: middle;\n",
              "    }\n",
              "\n",
              "    .dataframe tbody tr th {\n",
              "        vertical-align: top;\n",
              "    }\n",
              "\n",
              "    .dataframe thead th {\n",
              "        text-align: right;\n",
              "    }\n",
              "</style>\n",
              "<table border=\"1\" class=\"dataframe\">\n",
              "  <thead>\n",
              "    <tr style=\"text-align: right;\">\n",
              "      <th></th>\n",
              "      <th>qid</th>\n",
              "      <th>prediction</th>\n",
              "    </tr>\n",
              "  </thead>\n",
              "  <tbody>\n",
              "    <tr>\n",
              "      <th>0</th>\n",
              "      <td>0000163e3ea7c7a74cd7</td>\n",
              "      <td>0</td>\n",
              "    </tr>\n",
              "    <tr>\n",
              "      <th>1</th>\n",
              "      <td>00002bd4fb5d505b9161</td>\n",
              "      <td>0</td>\n",
              "    </tr>\n",
              "    <tr>\n",
              "      <th>2</th>\n",
              "      <td>00007756b4a147d2b0b3</td>\n",
              "      <td>0</td>\n",
              "    </tr>\n",
              "    <tr>\n",
              "      <th>3</th>\n",
              "      <td>000086e4b7e1c7146103</td>\n",
              "      <td>0</td>\n",
              "    </tr>\n",
              "    <tr>\n",
              "      <th>4</th>\n",
              "      <td>0000c4c3fbe8785a3090</td>\n",
              "      <td>0</td>\n",
              "    </tr>\n",
              "    <tr>\n",
              "      <th>...</th>\n",
              "      <td>...</td>\n",
              "      <td>...</td>\n",
              "    </tr>\n",
              "    <tr>\n",
              "      <th>375801</th>\n",
              "      <td>ffff7fa746bd6d6197a9</td>\n",
              "      <td>0</td>\n",
              "    </tr>\n",
              "    <tr>\n",
              "      <th>375802</th>\n",
              "      <td>ffffa1be31c43046ab6b</td>\n",
              "      <td>0</td>\n",
              "    </tr>\n",
              "    <tr>\n",
              "      <th>375803</th>\n",
              "      <td>ffffae173b6ca6bfa563</td>\n",
              "      <td>0</td>\n",
              "    </tr>\n",
              "    <tr>\n",
              "      <th>375804</th>\n",
              "      <td>ffffb1f7f1a008620287</td>\n",
              "      <td>0</td>\n",
              "    </tr>\n",
              "    <tr>\n",
              "      <th>375805</th>\n",
              "      <td>fffff85473f4699474b0</td>\n",
              "      <td>0</td>\n",
              "    </tr>\n",
              "  </tbody>\n",
              "</table>\n",
              "<p>375806 rows × 2 columns</p>\n",
              "</div>\n",
              "      <button class=\"colab-df-convert\" onclick=\"convertToInteractive('df-aa5c0f17-3f9f-4726-959c-9f3143bbf53f')\"\n",
              "              title=\"Convert this dataframe to an interactive table.\"\n",
              "              style=\"display:none;\">\n",
              "        \n",
              "  <svg xmlns=\"http://www.w3.org/2000/svg\" height=\"24px\"viewBox=\"0 0 24 24\"\n",
              "       width=\"24px\">\n",
              "    <path d=\"M0 0h24v24H0V0z\" fill=\"none\"/>\n",
              "    <path d=\"M18.56 5.44l.94 2.06.94-2.06 2.06-.94-2.06-.94-.94-2.06-.94 2.06-2.06.94zm-11 1L8.5 8.5l.94-2.06 2.06-.94-2.06-.94L8.5 2.5l-.94 2.06-2.06.94zm10 10l.94 2.06.94-2.06 2.06-.94-2.06-.94-.94-2.06-.94 2.06-2.06.94z\"/><path d=\"M17.41 7.96l-1.37-1.37c-.4-.4-.92-.59-1.43-.59-.52 0-1.04.2-1.43.59L10.3 9.45l-7.72 7.72c-.78.78-.78 2.05 0 2.83L4 21.41c.39.39.9.59 1.41.59.51 0 1.02-.2 1.41-.59l7.78-7.78 2.81-2.81c.8-.78.8-2.07 0-2.86zM5.41 20L4 18.59l7.72-7.72 1.47 1.35L5.41 20z\"/>\n",
              "  </svg>\n",
              "      </button>\n",
              "      \n",
              "  <style>\n",
              "    .colab-df-container {\n",
              "      display:flex;\n",
              "      flex-wrap:wrap;\n",
              "      gap: 12px;\n",
              "    }\n",
              "\n",
              "    .colab-df-convert {\n",
              "      background-color: #E8F0FE;\n",
              "      border: none;\n",
              "      border-radius: 50%;\n",
              "      cursor: pointer;\n",
              "      display: none;\n",
              "      fill: #1967D2;\n",
              "      height: 32px;\n",
              "      padding: 0 0 0 0;\n",
              "      width: 32px;\n",
              "    }\n",
              "\n",
              "    .colab-df-convert:hover {\n",
              "      background-color: #E2EBFA;\n",
              "      box-shadow: 0px 1px 2px rgba(60, 64, 67, 0.3), 0px 1px 3px 1px rgba(60, 64, 67, 0.15);\n",
              "      fill: #174EA6;\n",
              "    }\n",
              "\n",
              "    [theme=dark] .colab-df-convert {\n",
              "      background-color: #3B4455;\n",
              "      fill: #D2E3FC;\n",
              "    }\n",
              "\n",
              "    [theme=dark] .colab-df-convert:hover {\n",
              "      background-color: #434B5C;\n",
              "      box-shadow: 0px 1px 3px 1px rgba(0, 0, 0, 0.15);\n",
              "      filter: drop-shadow(0px 1px 2px rgba(0, 0, 0, 0.3));\n",
              "      fill: #FFFFFF;\n",
              "    }\n",
              "  </style>\n",
              "\n",
              "      <script>\n",
              "        const buttonEl =\n",
              "          document.querySelector('#df-aa5c0f17-3f9f-4726-959c-9f3143bbf53f button.colab-df-convert');\n",
              "        buttonEl.style.display =\n",
              "          google.colab.kernel.accessAllowed ? 'block' : 'none';\n",
              "\n",
              "        async function convertToInteractive(key) {\n",
              "          const element = document.querySelector('#df-aa5c0f17-3f9f-4726-959c-9f3143bbf53f');\n",
              "          const dataTable =\n",
              "            await google.colab.kernel.invokeFunction('convertToInteractive',\n",
              "                                                     [key], {});\n",
              "          if (!dataTable) return;\n",
              "\n",
              "          const docLinkHtml = 'Like what you see? Visit the ' +\n",
              "            '<a target=\"_blank\" href=https://colab.research.google.com/notebooks/data_table.ipynb>data table notebook</a>'\n",
              "            + ' to learn more about interactive tables.';\n",
              "          element.innerHTML = '';\n",
              "          dataTable['output_type'] = 'display_data';\n",
              "          await google.colab.output.renderOutput(dataTable, element);\n",
              "          const docLink = document.createElement('div');\n",
              "          docLink.innerHTML = docLinkHtml;\n",
              "          element.appendChild(docLink);\n",
              "        }\n",
              "      </script>\n",
              "    </div>\n",
              "  </div>\n",
              "  "
            ]
          },
          "metadata": {},
          "execution_count": 31
        }
      ]
    },
    {
      "cell_type": "code",
      "source": [
        "#picking a sample size for the training data so the model can run quickly\n",
        "SAMPLE_SIZE =100_000\n",
        "sample_df =raw_df.sample(SAMPLE_SIZE)\n",
        "sample_df"
      ],
      "metadata": {
        "colab": {
          "base_uri": "https://localhost:8080/",
          "height": 424
        },
        "id": "1P-MIPkU_2C3",
        "outputId": "2ffffdfc-c0e0-4312-dc0f-62c9041abd7f"
      },
      "execution_count": 33,
      "outputs": [
        {
          "output_type": "execute_result",
          "data": {
            "text/plain": [
              "                          qid  \\\n",
              "1280511  faf59149482da425775d   \n",
              "296220   39ffa85d3f9f9cc3969a   \n",
              "520210   65d874b519620bb0a49c   \n",
              "1139120  df3b10c456aa11123bc4   \n",
              "99975    13947d2002fae162f941   \n",
              "...                       ...   \n",
              "598188   752a7faddc12742a37e6   \n",
              "167804   20ca8369f16f4c23ffc5   \n",
              "563391   6e60a98bec27614f7773   \n",
              "528942   678f5b6806ea21f71499   \n",
              "1298246  fe7280719264389d446c   \n",
              "\n",
              "                                             question_text  target  \n",
              "1280511                Who live highest days in spaceship?       0  \n",
              "296220   How come everything created or invented by man...       0  \n",
              "520210           What does a high-arch pronation indicate?       0  \n",
              "1139120      How can I repair plaster walls over concrete?       0  \n",
              "99975       Does Google use SSDs or HDDs in their servers?       0  \n",
              "...                                                    ...     ...  \n",
              "598188   Is it possible to be both a monetarist and a k...       0  \n",
              "167804   What are the documents to be attested for empl...       0  \n",
              "563391   What’s the minimum hight requirement to become...       0  \n",
              "528942               How does malnutrition affect science?       0  \n",
              "1298246  What strategies do we use in Online Reputation...       0  \n",
              "\n",
              "[100000 rows x 3 columns]"
            ],
            "text/html": [
              "\n",
              "  <div id=\"df-1f6497d2-fa5f-4b29-98a7-1c864064154d\">\n",
              "    <div class=\"colab-df-container\">\n",
              "      <div>\n",
              "<style scoped>\n",
              "    .dataframe tbody tr th:only-of-type {\n",
              "        vertical-align: middle;\n",
              "    }\n",
              "\n",
              "    .dataframe tbody tr th {\n",
              "        vertical-align: top;\n",
              "    }\n",
              "\n",
              "    .dataframe thead th {\n",
              "        text-align: right;\n",
              "    }\n",
              "</style>\n",
              "<table border=\"1\" class=\"dataframe\">\n",
              "  <thead>\n",
              "    <tr style=\"text-align: right;\">\n",
              "      <th></th>\n",
              "      <th>qid</th>\n",
              "      <th>question_text</th>\n",
              "      <th>target</th>\n",
              "    </tr>\n",
              "  </thead>\n",
              "  <tbody>\n",
              "    <tr>\n",
              "      <th>1280511</th>\n",
              "      <td>faf59149482da425775d</td>\n",
              "      <td>Who live highest days in spaceship?</td>\n",
              "      <td>0</td>\n",
              "    </tr>\n",
              "    <tr>\n",
              "      <th>296220</th>\n",
              "      <td>39ffa85d3f9f9cc3969a</td>\n",
              "      <td>How come everything created or invented by man...</td>\n",
              "      <td>0</td>\n",
              "    </tr>\n",
              "    <tr>\n",
              "      <th>520210</th>\n",
              "      <td>65d874b519620bb0a49c</td>\n",
              "      <td>What does a high-arch pronation indicate?</td>\n",
              "      <td>0</td>\n",
              "    </tr>\n",
              "    <tr>\n",
              "      <th>1139120</th>\n",
              "      <td>df3b10c456aa11123bc4</td>\n",
              "      <td>How can I repair plaster walls over concrete?</td>\n",
              "      <td>0</td>\n",
              "    </tr>\n",
              "    <tr>\n",
              "      <th>99975</th>\n",
              "      <td>13947d2002fae162f941</td>\n",
              "      <td>Does Google use SSDs or HDDs in their servers?</td>\n",
              "      <td>0</td>\n",
              "    </tr>\n",
              "    <tr>\n",
              "      <th>...</th>\n",
              "      <td>...</td>\n",
              "      <td>...</td>\n",
              "      <td>...</td>\n",
              "    </tr>\n",
              "    <tr>\n",
              "      <th>598188</th>\n",
              "      <td>752a7faddc12742a37e6</td>\n",
              "      <td>Is it possible to be both a monetarist and a k...</td>\n",
              "      <td>0</td>\n",
              "    </tr>\n",
              "    <tr>\n",
              "      <th>167804</th>\n",
              "      <td>20ca8369f16f4c23ffc5</td>\n",
              "      <td>What are the documents to be attested for empl...</td>\n",
              "      <td>0</td>\n",
              "    </tr>\n",
              "    <tr>\n",
              "      <th>563391</th>\n",
              "      <td>6e60a98bec27614f7773</td>\n",
              "      <td>What’s the minimum hight requirement to become...</td>\n",
              "      <td>0</td>\n",
              "    </tr>\n",
              "    <tr>\n",
              "      <th>528942</th>\n",
              "      <td>678f5b6806ea21f71499</td>\n",
              "      <td>How does malnutrition affect science?</td>\n",
              "      <td>0</td>\n",
              "    </tr>\n",
              "    <tr>\n",
              "      <th>1298246</th>\n",
              "      <td>fe7280719264389d446c</td>\n",
              "      <td>What strategies do we use in Online Reputation...</td>\n",
              "      <td>0</td>\n",
              "    </tr>\n",
              "  </tbody>\n",
              "</table>\n",
              "<p>100000 rows × 3 columns</p>\n",
              "</div>\n",
              "      <button class=\"colab-df-convert\" onclick=\"convertToInteractive('df-1f6497d2-fa5f-4b29-98a7-1c864064154d')\"\n",
              "              title=\"Convert this dataframe to an interactive table.\"\n",
              "              style=\"display:none;\">\n",
              "        \n",
              "  <svg xmlns=\"http://www.w3.org/2000/svg\" height=\"24px\"viewBox=\"0 0 24 24\"\n",
              "       width=\"24px\">\n",
              "    <path d=\"M0 0h24v24H0V0z\" fill=\"none\"/>\n",
              "    <path d=\"M18.56 5.44l.94 2.06.94-2.06 2.06-.94-2.06-.94-.94-2.06-.94 2.06-2.06.94zm-11 1L8.5 8.5l.94-2.06 2.06-.94-2.06-.94L8.5 2.5l-.94 2.06-2.06.94zm10 10l.94 2.06.94-2.06 2.06-.94-2.06-.94-.94-2.06-.94 2.06-2.06.94z\"/><path d=\"M17.41 7.96l-1.37-1.37c-.4-.4-.92-.59-1.43-.59-.52 0-1.04.2-1.43.59L10.3 9.45l-7.72 7.72c-.78.78-.78 2.05 0 2.83L4 21.41c.39.39.9.59 1.41.59.51 0 1.02-.2 1.41-.59l7.78-7.78 2.81-2.81c.8-.78.8-2.07 0-2.86zM5.41 20L4 18.59l7.72-7.72 1.47 1.35L5.41 20z\"/>\n",
              "  </svg>\n",
              "      </button>\n",
              "      \n",
              "  <style>\n",
              "    .colab-df-container {\n",
              "      display:flex;\n",
              "      flex-wrap:wrap;\n",
              "      gap: 12px;\n",
              "    }\n",
              "\n",
              "    .colab-df-convert {\n",
              "      background-color: #E8F0FE;\n",
              "      border: none;\n",
              "      border-radius: 50%;\n",
              "      cursor: pointer;\n",
              "      display: none;\n",
              "      fill: #1967D2;\n",
              "      height: 32px;\n",
              "      padding: 0 0 0 0;\n",
              "      width: 32px;\n",
              "    }\n",
              "\n",
              "    .colab-df-convert:hover {\n",
              "      background-color: #E2EBFA;\n",
              "      box-shadow: 0px 1px 2px rgba(60, 64, 67, 0.3), 0px 1px 3px 1px rgba(60, 64, 67, 0.15);\n",
              "      fill: #174EA6;\n",
              "    }\n",
              "\n",
              "    [theme=dark] .colab-df-convert {\n",
              "      background-color: #3B4455;\n",
              "      fill: #D2E3FC;\n",
              "    }\n",
              "\n",
              "    [theme=dark] .colab-df-convert:hover {\n",
              "      background-color: #434B5C;\n",
              "      box-shadow: 0px 1px 3px 1px rgba(0, 0, 0, 0.15);\n",
              "      filter: drop-shadow(0px 1px 2px rgba(0, 0, 0, 0.3));\n",
              "      fill: #FFFFFF;\n",
              "    }\n",
              "  </style>\n",
              "\n",
              "      <script>\n",
              "        const buttonEl =\n",
              "          document.querySelector('#df-1f6497d2-fa5f-4b29-98a7-1c864064154d button.colab-df-convert');\n",
              "        buttonEl.style.display =\n",
              "          google.colab.kernel.accessAllowed ? 'block' : 'none';\n",
              "\n",
              "        async function convertToInteractive(key) {\n",
              "          const element = document.querySelector('#df-1f6497d2-fa5f-4b29-98a7-1c864064154d');\n",
              "          const dataTable =\n",
              "            await google.colab.kernel.invokeFunction('convertToInteractive',\n",
              "                                                     [key], {});\n",
              "          if (!dataTable) return;\n",
              "\n",
              "          const docLinkHtml = 'Like what you see? Visit the ' +\n",
              "            '<a target=\"_blank\" href=https://colab.research.google.com/notebooks/data_table.ipynb>data table notebook</a>'\n",
              "            + ' to learn more about interactive tables.';\n",
              "          element.innerHTML = '';\n",
              "          dataTable['output_type'] = 'display_data';\n",
              "          await google.colab.output.renderOutput(dataTable, element);\n",
              "          const docLink = document.createElement('div');\n",
              "          docLink.innerHTML = docLinkHtml;\n",
              "          element.appendChild(docLink);\n",
              "        }\n",
              "      </script>\n",
              "    </div>\n",
              "  </div>\n",
              "  "
            ]
          },
          "metadata": {},
          "execution_count": 33
        }
      ]
    },
    {
      "cell_type": "code",
      "source": [
        "#confirming if the sample df contains both sincere and insincere questions\n",
        "sample_df.target.value_counts(normalize=True)"
      ],
      "metadata": {
        "colab": {
          "base_uri": "https://localhost:8080/"
        },
        "id": "2GvzN0Qk_2GM",
        "outputId": "53b14a47-7444-4d8d-eaa4-13ddcb3911ad"
      },
      "execution_count": 34,
      "outputs": [
        {
          "output_type": "execute_result",
          "data": {
            "text/plain": [
              "0    0.93863\n",
              "1    0.06137\n",
              "Name: target, dtype: float64"
            ]
          },
          "metadata": {},
          "execution_count": 34
        }
      ]
    },
    {
      "cell_type": "markdown",
      "source": [
        "Something most be done to deal with the class imbalanced"
      ],
      "metadata": {
        "id": "fJAPerM4BkFF"
      }
    },
    {
      "cell_type": "markdown",
      "source": [
        "## Prepare Data For Training\n",
        "\n",
        "1. Convert the text to TF-IDF Vectors\n",
        "2. Convert vectors  to Pytorch tensors\n",
        "3. Create Pytorch Data Loaders"
      ],
      "metadata": {
        "id": "2nqxhFX_4ySw"
      }
    },
    {
      "cell_type": "markdown",
      "source": [
        "### Convert to TF-IDF Vectors"
      ],
      "metadata": {
        "id": "xQMxlphUCSWp"
      }
    },
    {
      "cell_type": "code",
      "source": [],
      "metadata": {
        "id": "Wrowg_YM47Ba"
      },
      "execution_count": null,
      "outputs": []
    },
    {
      "cell_type": "markdown",
      "source": [
        "![Bag of words.JPG](data:image/jpeg;base64,/9j/4AAQSkZJRgABAQEAYABgAAD/4RDcRXhpZgAATU0AKgAAAAgABAE7AAIAAAAGAAAISodpAAQAAAABAAAIUJydAAEAAAAMAAAQyOocAAcAAAgMAAAAPgAAAAAc6gAAAAgAAAAAAAAAAAAAAAAAAAAAAAAAAAAAAAAAAAAAAAAAAAAAAAAAAAAAAAAAAAAAAAAAAAAAAAAAAAAAAAAAAAAAAAAAAAAAAAAAAAAAAAAAAAAAAAAAAAAAAAAAAAAAAAAAAAAAAAAAAAAAAAAAAAAAAAAAAAAAAAAAAAAAAAAAAAAAAAAAAAAAAAAAAAAAAAAAAAAAAAAAAAAAAAAAAAAAAAAAAAAAAAAAAAAAAAAAAAAAAAAAAAAAAAAAAAAAAAAAAAAAAAAAAAAAAAAAAAAAAAAAAAAAAAAAAAAAAAAAAAAAAAAAAAAAAAAAAAAAAAAAAAAAAAAAAAAAAAAAAAAAAAAAAAAAAAAAAAAAAAAAAAAAAAAAAAAAAAAAAAAAAAAAAAAAAAAAAAAAAAAAAAAAAAAAAAAAAAAAAAAAAAAAAAAAAAAAAAAAAAAAAAAAAAAAAAAAAAAAAAAAAAAAAAAAAAAAAAAAAAAAAAAAAAAAAAAAAAAAAAAAAAAAAAAAAAAAAAAAAAAAAAAAAAAAAAAAAAAAAAAAAAAAAAAAAAAAAAAAAAAAAAAAAAAAAAAAAAAAAAAAAAAAAAAAAAAAAAAAAAAAAAAAAAAAAAAAAAAAAAAAAAAAAAAAAAAAAAAAAAAAAAAAAAAAAAAAAAAAAAAAAAAAAAAAAAAAAAAAAAAAAAAAAAAAAAAAAAAAAAAAAAAAAAAAAAAAAAAAAAAAAAAAAAAAAAAAAAAAAAAAAAAAAAAAAAAAAAAAAAAAAAAAAAAAAAAAAAAAAAAAAAAAAAAAAAAAAAAAAAAAAAAAAAAAAAAAAAAAAAAAAAAAAAAAAAAAAAAAAAAAAAAAAAAAAAAAAAAAAAAAAAAAAAAAAAAAAAAAAAAAAAAAAAAAAAAAAAAAAAAAAAAAAAAAAAAAAAAAAAAAAAAAAAAAAAAAAAAAAAAAAAAAAAAAAAAAAAAAAAAAAAAAAAAAAAAAAAAAAAAAAAAAAAAAAAAAAAAAAAAAAAAAAAAAAAAAAAAAAAAAAAAAAAAAAAAAAAAAAAAAAAAAAAAAAAAAAAAAAAAAAAAAAAAAAAAAAAAAAAAAAAAAAAAAAAAAAAAAAAAAAAAAAAAAAAAAAAAAAAAAAAAAAAAAAAAAAAAAAAAAAAAAAAAAAAAAAAAAAAAAAAAAAAAAAAAAAAAAAAAAAAAAAAAAAAAAAAAAAAAAAAAAAAAAAAAAAAAAAAAAAAAAAAAAAAAAAAAAAAAAAAAAAAAAAAAAAAAAAAAAAAAAAAAAAAAAAAAAAAAAAAAAAAAAAAAAAAAAAAAAAAAAAAAAAAAAAAAAAAAAAAAAAAAAAAAAAAAAAAAAAAAAAAAAAAAAAAAAAAAAAAAAAAAAAAAAAAAAAAAAAAAAAAAAAAAAAAAAAAAAAAAAAAAAAAAAAAAAAAAAAAAAAAAAAAAAAAAAAAAAAAAAAAAAAAAAAAAAAAAAAAAAAAAAAAAAAAAAAAAAAAAAAAAAAAAAAAAAAAAAAAAAAAAAAAAAAAAAAAAAAAAAAAAAAAAAAAAAAAAAAAAAAAAAAAAAAAAAAAAAAAAAAAAAAAAAAAAAAAAAAAAAAAAAAAAAAAAAAAAAAAAAAAAAAAAAAAAAAAAAAAAAAAAAAAAAAAAAAAAAAAAAAAAAAAAAAAAAAAAAAAAAAAAAAAAAAAAAAAAAAAAAAAAAAAAAAAAAAAAAAAAAAAAAAAAAAAAAAAAAAAAAAAAAAAAAAAAAAAAAAAAAAAAAAAAAAAAAAAAAAAAAAAAAAAAAAAAAAAAAAAAAAAAAAAAAAAAAAAAAAAAAAAAAAAAAAAAAAAAAAAAAAAAAAAAAAAAAAAAAAAAAAAAAAAAAAAAAAAAAAAAAAAAAAAAAAAAAAAAAAAAAAAAAAAAAAAAAAAAAAAAAAAAAAAAAAAAAAAAAAAAAAAAAAAAAAAAAAAAAAAAAAAAAAAAAAAAAAAAAAAAAAAAAAAAAAAAAAAAAAAAAAAAAAAAAAAAAAAAAAAAAAAAAAAAAAAAAAAAAAAAAAAAAAAAAAAAAAAAAAAAAAAAAAAAAAAAAAAAAAAAAAAAAAAAAAAAAAAAAAAAAAAAAAAAAAAAAAAAAAAAAAAAAAAAAAAAAAAAAAAAAAAAAAAAAAAAAAAAAAAAAAAAAAAAAAAAAAAAAAAAAAAAAAAAAAAAAAAAAAAAAAAAAAAAAAAAAAAAAAAAAAAAAAAAAAAAAAAAAAAAAAAAAAAAAAAAAAAAAAAAAAAAAAAAAAAAAAAAAAAAAAAAAAAAAAAAAAAAAAAAAAAAAAAAAAAAAAAAAAAAAAAAAAAAAAAAAAAAAAAAAAAAAAAAAAAAAAAAAAAAAAAAAAAAAAAAAAAAAAAAAAAAAAAAAAAAAAAAAAAAAAAAAAAAAAAAAAAAAAAAAAAAAAAAAAAAAAAAAAAAAAAAAAAAAAAAAAAAAAAAAAAAAAAAAAAAAAAAAAAAAAAAAAAAAAAAAAAAAAAAAAAAAAAAAAAAAAAAAAAAAAAAAAAAAAAAAAAAAAAAAAAAAAAAAAAAAAAAAAAAAAAAAAAAAAAAAAAAAAAAAAAAAAAAAAAAAAAAAAAAAAAAAAAAAAAAAAAAAAAAAAAAAAAAAAAAAAAAAAAAAAAAAAAAAAAAAAAAAAAAAAAAAAAAAAAAAAAAAAAAAAAAAAAAAAAAAAAAAAAAAAAAAAAAAAAAAAAAAAAAAAAAAAAAAAAAAAAAAAAAAAAAAAAAAAAAAAEFkbWluAAAFkAMAAgAAABQAABCekAQAAgAAABQAABCykpEAAgAAAAM4OAAAkpIAAgAAAAM4OAAA6hwABwAACAwAAAiSAAAAABzqAAAACAAAAAAAAAAAAAAAAAAAAAAAAAAAAAAAAAAAAAAAAAAAAAAAAAAAAAAAAAAAAAAAAAAAAAAAAAAAAAAAAAAAAAAAAAAAAAAAAAAAAAAAAAAAAAAAAAAAAAAAAAAAAAAAAAAAAAAAAAAAAAAAAAAAAAAAAAAAAAAAAAAAAAAAAAAAAAAAAAAAAAAAAAAAAAAAAAAAAAAAAAAAAAAAAAAAAAAAAAAAAAAAAAAAAAAAAAAAAAAAAAAAAAAAAAAAAAAAAAAAAAAAAAAAAAAAAAAAAAAAAAAAAAAAAAAAAAAAAAAAAAAAAAAAAAAAAAAAAAAAAAAAAAAAAAAAAAAAAAAAAAAAAAAAAAAAAAAAAAAAAAAAAAAAAAAAAAAAAAAAAAAAAAAAAAAAAAAAAAAAAAAAAAAAAAAAAAAAAAAAAAAAAAAAAAAAAAAAAAAAAAAAAAAAAAAAAAAAAAAAAAAAAAAAAAAAAAAAAAAAAAAAAAAAAAAAAAAAAAAAAAAAAAAAAAAAAAAAAAAAAAAAAAAAAAAAAAAAAAAAAAAAAAAAAAAAAAAAAAAAAAAAAAAAAAAAAAAAAAAAAAAAAAAAAAAAAAAAAAAAAAAAAAAAAAAAAAAAAAAAAAAAAAAAAAAAAAAAAAAAAAAAAAAAAAAAAAAAAAAAAAAAAAAAAAAAAAAAAAAAAAAAAAAAAAAAAAAAAAAAAAAAAAAAAAAAAAAAAAAAAAAAAAAAAAAAAAAAAAAAAAAAAAAAAAAAAAAAAAAAAAAAAAAAAAAAAAAAAAAAAAAAAAAAAAAAAAAAAAAAAAAAAAAAAAAAAAAAAAAAAAAAAAAAAAAAAAAAAAAAAAAAAAAAAAAAAAAAAAAAAAAAAAAAAAAAAAAAAAAAAAAAAAAAAAAAAAAAAAAAAAAAAAAAAAAAAAAAAAAAAAAAAAAAAAAAAAAAAAAAAAAAAAAAAAAAAAAAAAAAAAAAAAAAAAAAAAAAAAAAAAAAAAAAAAAAAAAAAAAAAAAAAAAAAAAAAAAAAAAAAAAAAAAAAAAAAAAAAAAAAAAAAAAAAAAAAAAAAAAAAAAAAAAAAAAAAAAAAAAAAAAAAAAAAAAAAAAAAAAAAAAAAAAAAAAAAAAAAAAAAAAAAAAAAAAAAAAAAAAAAAAAAAAAAAAAAAAAAAAAAAAAAAAAAAAAAAAAAAAAAAAAAAAAAAAAAAAAAAAAAAAAAAAAAAAAAAAAAAAAAAAAAAAAAAAAAAAAAAAAAAAAAAAAAAAAAAAAAAAAAAAAAAAAAAAAAAAAAAAAAAAAAAAAAAAAAAAAAAAAAAAAAAAAAAAAAAAAAAAAAAAAAAAAAAAAAAAAAAAAAAAAAAAAAAAAAAAAAAAAAAAAAAAAAAAAAAAAAAAAAAAAAAAAAAAAAAAAAAAAAAAAAAAAAAAAAAAAAAAAAAAAAAAAAAAAAAAAAAAAAAAAAAAAAAAAAAAAAAAAAAAAAAAAAAAAAAAAAAAAAAAAAAAAAAAAAAAAAAAAAAAAAAAAAAAAAAAAAAAAAAAAAAAAAAAAAAAAAAAAAAAAAAAAAAAAAAAAAAAAAAAAAAAAAAAAAAAAAAAAAAAAAAAAAAAAAAAAAAAAAAAAAAAAAAAAAAAAAAAAAAAAAAAAAAAAAAAAAAAAAAAAAAAAAAAAAAAAAAAAAAAAAAAAAAAAAAAAAAAAAAAAAAAAAAAAAAAAAAAAAAAAAAAAAAAAAAAAAAAAAAAAAAAAAAAAAAAAAAAAAAAAAAAAAAAAAAAAAAAAAAAAAAAAAAAAAAAAAAAAAAAAAAAAAAAAAAAAAAAAAAAAAAAAAAAAAAAAAAAAAAAAAAAAAAAAAAAAAAAAAAAAAAAAAAAAAAAAAAAAAAAAAAAAAAAAAAAAAAAAAAAAAAAAAAAAAAAAAAAAAAAAAAAAAAAAAAAAAAAAAAAAAAAAAAAAAAAAAAAAAAAAAAAAAAAAAAAAAAAAAAAAAAAAAAAAAAAAAAAAAAAAAAAAAAAAAAAAAAAAAAAAAAAAAAAAAAAAAAAAAAAAAAAAAAAAAAAAAAAAAAAAAAAAAAAAAAAAAAAAAAAAAAAAAAAAAAAAAAAAAAAAAAAAAAAAAAAAAAAAAAAAAAAAAAAAAAAAAAAAAAAAAAAAAAAAAAAAAAAAAAAAAAAAAAAAAAAAAAAAAAAAAAAAAAAAAAAAAAAAAAAAAAAAAAAAAAAAAAAAAAAAAAAAAAAAAAAAAAAAAAAAAAAAAAAAAAAAAAAAAAAAAAAAAAAAAAAAAAAAAAAAAAAAAAAAAAAAAAAAAAAAAAAAAAAAAAAAAAAAAAAAAAAAAAAAAAAAAAAAAAAAAAAAAAAAAAAAAAAAAAAAAAAAAAAAAAAAAAAAAAAAAAAAAAAAAAAAAAAAAAAAAAAAAAAAAAAAAAAAAAAAAAAAAAAAAAAAAAAAAAAAAAAAAAAAAAAAAAAAAAAAAAAAAAAAAAAAAAAAAAAAAAAAAAAAAAAAAAAAAAAAAAAAAAAAAAAAAAAAAAAAAAAAAAAAAAAAAAAAAAAAAAAAAAAAAAAAAAAAAAAAAAAAAAAAAAAAAAAAAAAAAAAAAAAAAAAAAAAAAAAAAAAAAAAAAAAAAAAAAAAAAAAAAAAAAAAAAAAAAAAAAAAAAAAAAAAAAAAAAAAAAAAAAAAAAAAAAAAAAAAAAAAAAAAAAAAAAAAAAAAAAAAAAAAAAAAAAAAAAAAAAAAAAAAAAAAAAAAAAAAAAAAAAAAAAAAAAAAAMjAyMjoxMTozMCAyMzoxMTo1NgAyMDIyOjExOjMwIDIzOjExOjU2AAAAQQBkAG0AaQBuAAAA/+ELGGh0dHA6Ly9ucy5hZG9iZS5jb20veGFwLzEuMC8APD94cGFja2V0IGJlZ2luPSfvu78nIGlkPSdXNU0wTXBDZWhpSHpyZVN6TlRjemtjOWQnPz4NCjx4OnhtcG1ldGEgeG1sbnM6eD0iYWRvYmU6bnM6bWV0YS8iPjxyZGY6UkRGIHhtbG5zOnJkZj0iaHR0cDovL3d3dy53My5vcmcvMTk5OS8wMi8yMi1yZGYtc3ludGF4LW5zIyI+PHJkZjpEZXNjcmlwdGlvbiByZGY6YWJvdXQ9InV1aWQ6ZmFmNWJkZDUtYmEzZC0xMWRhLWFkMzEtZDMzZDc1MTgyZjFiIiB4bWxuczpkYz0iaHR0cDovL3B1cmwub3JnL2RjL2VsZW1lbnRzLzEuMS8iLz48cmRmOkRlc2NyaXB0aW9uIHJkZjphYm91dD0idXVpZDpmYWY1YmRkNS1iYTNkLTExZGEtYWQzMS1kMzNkNzUxODJmMWIiIHhtbG5zOnhtcD0iaHR0cDovL25zLmFkb2JlLmNvbS94YXAvMS4wLyI+PHhtcDpDcmVhdGVEYXRlPjIwMjItMTEtMzBUMjM6MTE6NTYuODc1PC94bXA6Q3JlYXRlRGF0ZT48L3JkZjpEZXNjcmlwdGlvbj48cmRmOkRlc2NyaXB0aW9uIHJkZjphYm91dD0idXVpZDpmYWY1YmRkNS1iYTNkLTExZGEtYWQzMS1kMzNkNzUxODJmMWIiIHhtbG5zOmRjPSJodHRwOi8vcHVybC5vcmcvZGMvZWxlbWVudHMvMS4xLyI+PGRjOmNyZWF0b3I+PHJkZjpTZXEgeG1sbnM6cmRmPSJodHRwOi8vd3d3LnczLm9yZy8xOTk5LzAyLzIyLXJkZi1zeW50YXgtbnMjIj48cmRmOmxpPkFkbWluPC9yZGY6bGk+PC9yZGY6U2VxPg0KCQkJPC9kYzpjcmVhdG9yPjwvcmRmOkRlc2NyaXB0aW9uPjwvcmRmOlJERj48L3g6eG1wbWV0YT4NCiAgICAgICAgICAgICAgICAgICAgICAgICAgICAgICAgICAgICAgICAgICAgICAgICAgICAgICAgICAgICAgICAgICAgICAgICAgICAgICAgICAgICAgICAgICAgICAgICAgICAKICAgICAgICAgICAgICAgICAgICAgICAgICAgICAgICAgICAgICAgICAgICAgICAgICAgICAgICAgICAgICAgICAgICAgICAgICAgICAgICAgICAgICAgICAgICAgICAgICAgIAogICAgICAgICAgICAgICAgICAgICAgICAgICAgICAgICAgICAgICAgICAgICAgICAgICAgICAgICAgICAgICAgICAgICAgICAgICAgICAgICAgICAgICAgICAgICAgICAgICAgCiAgICAgICAgICAgICAgICAgICAgICAgICAgICAgICAgICAgICAgICAgICAgICAgICAgICAgICAgICAgICAgICAgICAgICAgICAgICAgICAgICAgICAgICAgICAgICAgICAgICAKICAgICAgICAgICAgICAgICAgICAgICAgICAgICAgICAgICAgICAgICAgICAgICAgICAgICAgICAgICAgICAgICAgICAgICAgICAgICAgICAgICAgICAgICAgICAgICAgICAgIAogICAgICAgICAgICAgICAgICAgICAgICAgICAgICAgICAgICAgICAgICAgICAgICAgICAgICAgICAgICAgICAgICAgICAgICAgICAgICAgICAgICAgICAgICAgICAgICAgICAgCiAgICAgICAgICAgICAgICAgICAgICAgICAgICAgICAgICAgICAgICAgICAgICAgICAgICAgICAgICAgICAgICAgICAgICAgICAgICAgICAgICAgICAgICAgICAgICAgICAgICAKICAgICAgICAgICAgICAgICAgICAgICAgICAgICAgICAgICAgICAgICAgICAgICAgICAgICAgICAgICAgICAgICAgICAgICAgICAgICAgICAgICAgICAgICAgICAgICAgICAgIAogICAgICAgICAgICAgICAgICAgICAgICAgICAgICAgICAgICAgICAgICAgICAgICAgICAgICAgICAgICAgICAgICAgICAgICAgICAgICAgICAgICAgICAgICAgICAgICAgICAgCiAgICAgICAgICAgICAgICAgICAgICAgICAgICAgICAgICAgICAgICAgICAgICAgICAgICAgICAgICAgICAgICAgICAgICAgICAgICAgICAgICAgICAgICAgICAgICAgICAgICAKICAgICAgICAgICAgICAgICAgICAgICAgICAgICAgICAgICAgICAgICAgICAgICAgICAgICAgICAgICAgICAgICAgICAgICAgICAgICAgICAgICAgICAgICAgICAgICAgICAgIAogICAgICAgICAgICAgICAgICAgICAgICAgICAgICAgICAgICAgICAgICAgICAgICAgICAgICAgICAgICAgICAgICAgICAgICAgICAgICAgICAgICAgICAgICAgICAgICAgICAgCiAgICAgICAgICAgICAgICAgICAgICAgICAgICAgICAgICAgICAgICAgICAgICAgICAgICAgICAgICAgICAgICAgICAgICAgICAgICAgICAgICAgICAgICAgICAgICAgICAgICAKICAgICAgICAgICAgICAgICAgICAgICAgICAgICAgICAgICAgICAgICAgICAgICAgICAgICAgICAgICAgICAgICAgICAgICAgICAgICAgICAgICAgICAgICAgICAgICAgICAgIAogICAgICAgICAgICAgICAgICAgICAgICAgICAgICAgICAgICAgICAgICAgICAgICAgICAgICAgICAgICAgICAgICAgICAgICAgICAgICAgICAgICAgICAgICAgICAgICAgICAgCiAgICAgICAgICAgICAgICAgICAgICAgICAgICAgICAgICAgICAgICAgICAgICAgICAgICAgICAgICAgICAgICAgICAgICAgICAgICAgICAgICAgICAgICAgICAgICAgICAgICAKICAgICAgICAgICAgICAgICAgICAgICAgICAgICAgICAgICAgICAgICAgICAgICAgICAgICAgICAgICAgICAgICAgICAgICAgICAgICAgICAgICAgICAgICAgICAgICAgICAgIAogICAgICAgICAgICAgICAgICAgICAgICAgICAgICAgICAgICAgICAgICAgICAgICAgICAgICAgICAgICAgICAgICAgICAgICAgICAgICAgICAgICAgICAgICAgICAgICAgICAgCiAgICAgICAgICAgICAgICAgICAgICAgICAgICAgICAgICAgICAgICAgICAgICAgICAgICAgICAgICAgICAgICAgICAgICAgICAgICAgICAgICAgICAgICAgICAgICAgICAgICAKICAgICAgICAgICAgICAgICAgICAgICAgICAgICAgICAgICAgICAgICAgICAgICAgICAgICAgICAgICAgICAgICAgICAgICAgICAgICAgICAgICAgICAgICAgICAgICAgICAgIAogICAgICAgICAgICAgICAgICAgICAgICAgICAgPD94cGFja2V0IGVuZD0ndyc/Pv/bAEMABwUFBgUEBwYFBggHBwgKEQsKCQkKFQ8QDBEYFRoZGBUYFxseJyEbHSUdFxgiLiIlKCkrLCsaIC8zLyoyJyorKv/bAEMBBwgICgkKFAsLFCocGBwqKioqKioqKioqKioqKioqKioqKioqKioqKioqKioqKioqKioqKioqKioqKioqKioqKv/AABEIANIDIAMBIgACEQEDEQH/xAAfAAABBQEBAQEBAQAAAAAAAAAAAQIDBAUGBwgJCgv/xAC1EAACAQMDAgQDBQUEBAAAAX0BAgMABBEFEiExQQYTUWEHInEUMoGRoQgjQrHBFVLR8CQzYnKCCQoWFxgZGiUmJygpKjQ1Njc4OTpDREVGR0hJSlNUVVZXWFlaY2RlZmdoaWpzdHV2d3h5eoOEhYaHiImKkpOUlZaXmJmaoqOkpaanqKmqsrO0tba3uLm6wsPExcbHyMnK0tPU1dbX2Nna4eLj5OXm5+jp6vHy8/T19vf4+fr/xAAfAQADAQEBAQEBAQEBAAAAAAAAAQIDBAUGBwgJCgv/xAC1EQACAQIEBAMEBwUEBAABAncAAQIDEQQFITEGEkFRB2FxEyIygQgUQpGhscEJIzNS8BVictEKFiQ04SXxFxgZGiYnKCkqNTY3ODk6Q0RFRkdISUpTVFVWV1hZWmNkZWZnaGlqc3R1dnd4eXqCg4SFhoeIiYqSk5SVlpeYmZqio6Slpqeoqaqys7S1tre4ubrCw8TFxsfIycrS09TV1tfY2dri4+Tl5ufo6ery8/T19vf4+fr/2gAMAwEAAhEDEQA/APom706yv9n26zt7nZnZ50Svtz1xkcdBVb/hHdF/6A9h/wCAqf4Vo0UAZ3/CO6L/ANAew/8AAVP8KP8AhHdF/wCgPYf+Aqf4Uy5tYbzXNlwGZVtgQA5AB3H0NS/2JYf88m/7+v8A40AN/wCEd0X/AKA9h/4Cp/hR/wAI7ov/AEB7D/wFT/Cnf2JYf88m/wC/r/40f2JYf88m/wC/r/40AN/4R3Rf+gPYf+Aqf4Uf8I7ov/QHsP8AwFT/AAp39iWH/PJv+/r/AONH9iWH/PJv+/r/AONADf8AhHdF/wCgPYf+Aqf4Uf8ACO6L/wBAew/8BU/wp39iWH/PJv8Av6/+NH9iWH/PJv8Av6/+NADf+Ed0X/oD2H/gKn+FH/CO6L/0B7D/AMBU/wAKd/Ylh/zyb/v6/wDjR/Ylh/zyb/v6/wDjQA3/AIR3Rf8AoD2H/gKn+FH/AAjui/8AQHsP/AVP8Kd/Ylh/zyb/AL+v/jR/Ylh/zyb/AL+v/jQA3/hHdF/6A9h/4Cp/hR/wjui/9Aew/wDAVP8ACnf2JYf88m/7+v8A40f2JYf88m/7+v8A40AN/wCEd0X/AKA9h/4Cp/hR/wAI7ov/AEB7D/wFT/Cnf2JYf88m/wC/r/40f2JYf88m/wC/r/40AN/4R3Rf+gPYf+Aqf4Uf8I7ov/QHsP8AwFT/AAp39iWH/PJv+/r/AONH9iWH/PJv+/r/AONADf8AhHdF/wCgPYf+Aqf4Uf8ACO6L/wBAew/8BU/wp39iWH/PJv8Av6/+NH9iWH/PJv8Av6/+NADf+Ed0X/oD2H/gKn+FH/CPaL/0B7D/AMBU/wAKq3Wk2aahZRrG4SRn3jzX5wpI71b/ALD0/wD54t/39f8AxoAT/hHtG/6BFh/4DJ/hR/wj2jf9Aiw/8Bk/wpf7C0//AJ4t/wB/n/xoGh6eOkL/APf5/wDGgBP+Ee0b/oEWH/gMn+FH/CPaN/0CLD/wGT/Cnf2JYf8APJ/+/wA/+NH9iWH/ADyf/v8AP/jQA3/hHtG/6BFh/wCAyf4Uf8I9o3/QIsP/AAGT/Cnf2JYf88n/AO/z/wCNH9iWH/PJ/wDv8/8AjQA3/hHtG/6BFh/4DJ/hR/wj2i/9Aiw/8BU/wp39iWH/ADyf/v8AP/jR/Ylh/wA8n/7/AD/40AN/4R7Rf+gRYf8AgKn+FH/CPaL/ANAiw/8AAVP8Kd/Ylh/zyf8A7/P/AI1Um0mzXVbaIRvseKQkec/JBXHf3NAFn/hHtF/6BFh/4Cp/hR/wj2i/9Aiw/wDAVP8ACl/sSx/55P8A9/n/AMaP7Esf+eT/APf5/wDGgBP+Ee0X/oEWH/gKn+FH/CPaL/0CLD/wFT/Cl/sSx/55P/3+f/Gj+xLH/nk//f5/8aAE/wCEe0X/AKBFh/4Cp/hR/wAI9ov/AECLD/wFT/Cl/sSx/wCeT/8Af5/8aP7Esf8Ank//AH+f/GgBP+Ee0X/oEWH/AICp/hR/wj2i/wDQIsP/AAFT/Cl/sSw/55P/AN/n/wAaX+xLD/nk/wD3+f8AxoAb/wAI9ov/AECLD/wFT/Cj/hHtF/6BFh/4Cp/hTv7EsP8Ank//AH+f/Gj+xLD/AJ5P/wB/n/xoAb/wj2i/9Aiw/wDAVP8ACj/hHtF/6BFh/wCAqf4VVOk2f9trB5b+X9nL481+u4DPWrf9h2H/ADyf/v8AP/jQAn/CPaL/ANAiw/8AAVP8KP8AhHtF/wCgRYf+Aqf4U7+xLD/nk/8A3+f/ABpP7DsP+eT/APf5/wDGgBP+Ee0X/oEWH/gKn+FH/CPaL/0CLD/wFT/Cnf2JYf8APJ/+/wA/+NH9iWH/ADyf/v8AP/jQA3/hHtF/6BFh/wCAqf4Uf8I9o3/QIsP/AAGT/Cnf2JYf88n/AO/z/wCNH9iWH/PFv+/r/wCNADf+Ee0b/oEWH/gMn+FH/CPaN/0CLD/wGT/Cnf2JYf8APFv+/r/40f2JYf8APFv+/r/40AN/4R7Rv+gRYf8AgMn+FH/CPaN/0CLD/wABk/wp39iWH/PFv+/r/wCNVF0mzOsSwmN/LWBGC+a/BLMCevsKALP/AAj2jf8AQIsP/AZP8KP+Ee0b/oEWH/gMn+FO/sSw/wCeTf8Af1/8aP7EsP8Ank3/AH9f/GgBv/CPaN/0CLD/AMBk/wAKP+Ee0X/oEWH/AIDJ/hTv7EsP+eT/APf5/wDGj+xLD/nk/wD3+f8AxoAb/wAI9ov/AEB7D/wFT/Cj/hHtF/6BFh/4Cp/hS/2HYf8APJ/+/wA/+NL/AGJYf88X/wC/z/40AN/4R7Rf+gRYf+Aqf4Uf8I9ov/QIsP8AwFT/AAp39iWH/PF/+/z/AONH9iWH/PF/+/z/AONADf8AhHtF/wCgRYf+Aqf4Uf8ACPaL/wBAiw/8BU/wp39iWH/PF/8Av8/+NH9iWH/PF/8Av8/+NADf+Ee0X/oEWH/gKn+FH/CPaL/0CLD/AMBU/wAKq2+lWb6peRMjlI1j2jzX4yDnvVz+xLD/AJ5P/wB/n/xoAb/wj2i/9Aiw/wDAVP8ACj/hHtF/6BFh/wCAqf4U7+xLD/nk/wD3+f8Axo/sSw/55P8A9/n/AMaAG/8ACPaL/wBAiw/8BU/wo/4R7Rf+gRYf+Aqf4U7+xLD/AJ5P/wB/n/xo/sSw/wCeT/8Af5/8aAG/8I9ov/QIsP8AwFT/AAo/4R7Rf+gRYf8AgKn+FO/sSw/55P8A9/n/AMaP7EsP+eT/APf5/wDGgBv/AAjui/8AQHsP/AVP8KP+Ed0X/oD2H/gKn+FO/sSw/wCeT/8Af5/8aP7EsP8Ank//AH+f/GgBv/CO6L/0B7D/AMBU/wAKP+Ed0X/oD2H/AICp/hTv7EsP+eT/APf5/wDGqlrpNnJe3yPG5WORQo81+BsU+vqTQBZ/4R3Rf+gPYf8AgKn+FH/CO6L/ANAew/8AAVP8Kd/Ylh/zyf8A7/P/AI0f2JYf88n/AO/z/wCNADf+Ed0X/oD2H/gKn+FH/CO6L/0B7D/wFT/Cnf2JYf8APJ/+/wA/+NH9iWH/ADyf/v8AP/jQA3/hHdF/6A9h/wCAqf4Uf8I7ov8A0B7D/wABU/wp39iWH/PJ/wDv8/8AjR/Ylh/zyf8A7/P/AI0AN/4R3Rf+gPYf+Aqf4Uf8I7ov/QHsP/AVP8Kd/Ylh/wA8n/7/AD/40f2JYf8APJ/+/wA/+NADf+Ed0X/oD2H/AICp/hR/wjui/wDQHsP/AAFT/Cnf2JYf88n/AO/z/wCNH9i2H/PJ/wDv8/8AjQA3/hHdF/6A9h/4Cp/hR/wjui/9Aew/8BU/wqrp+lWcr3nmI52XDIv71+Bgcdauf2JYf88n/wC/z/40AN/4R3Rf+gPYf+Aqf4Uf8I7ov/QHsP8AwFT/AAp39iWH/PJ/+/z/AONH9iWH/PJ/+/z/AONADf8AhHdF/wCgPYf+Aqf4Uf8ACO6L/wBAew/8BU/wp39iWH/PJ/8Av8/+NH9iWH/PJ/8Av8/+NADf+Ed0X/oD2H/gKn+FH/CO6L/0B7D/AMBU/wAKd/Ylh/zyf/v8/wDjR/Ylh/zyf/v8/wDjQA3/AIR3Rf8AoD2H/gKn+FH/AAjui/8AQHsP/AVP8Kd/Ylh/zyf/AL/P/jR/Ylh/zyf/AL/P/jQA3/hHdF/6A9h/4Cp/hR/wjui/9Aew/wDAVP8ACnf2JYf88n/7/P8A40mjKI7ORFztS4lVcsTgBzgZNAGhRRRQBR/5mBv+vUf+hmr1UR/yMDf9eo/9DNXqACiiigAooooAKKKKACiiigAooooAKKKKACiiigAooooAKKKKAKF5/wAhbTv96T/0A1fqhef8hbTv96T/ANANReJ9QGleFdTvjfw6d9ntZHF5NGZEgIU4coOWwew69KANSs/Rdc0/xDp7XukXH2i3WaSAvsZfnRirDBAPBBGa8V0LX9Y0/wAZeEXtr/xjcW2rXRt7yXxAqJbXeYyweGLO5ORkcAYwMmqWj6frWk/CrW/GWl+K9RtLjS9RvZ7bTw6/ZCiXDbo5I8fOX+bknIyuOnIB9D0V5TZpq/xJ8VeIc+JtV0Gz0loLeztNNkEbB2hWQyykgl+WwF4GB+NVfAfjTXPEev8Agx9SvSwvNJ1D7WkXEVxJDcLGsu0cZIUn8TigD1bUdUstJtluNSuo7aJpEiVpGxud2Cqo9SSQMVarwDxXPf8AiPTNZiu9Yv1Sx8eQWlv5EwXy4yYgAOD90klfQ171awfZrSGDzZJvKRU8yVsu+BjLHuT1NAEtFFFABVGf/kOWf/XGX+aVeqjP/wAhyz/64y/zSgB2r6tZaHpNxqeqTeRaWyb5ZNpbaPXAyatLIrRh1PyldwPtXJfFc4+FPiA8f8eh6/UVhJHq3hDxN4XVvEV9q0WuM9rdw3bhlDiEuJIgB8gBXGBxg120sMqlHnUtbvTvZJmcp2djv9H1ey13SYNS0uUzWlwCY5ChXcASDwQCOQanurqGys5rq5fZDBG0kjYztVRknj2FeNaRf+IPFFr4G05vEeoWP9p2V7Je3Ns4EsnluNuCRwegz6Zq69tq/ibSPGF5J4m1G1GivPp9rbq6+WywxDc864+cvkknjGeK3eXqMrSnZfP+blJ9rdaI9W0+/t9U023v7GTzLa5iWWJ8EblYZBweRwasVgeA/wDknvh/HA/s23/9Fit+vPqRUJuK6M1i7pMKKKKzGFFFFAFA/wDIxr/16H/0MUmu67p3hrR5dV1q4+zWULIry7GbBZgi8AE8swH40p/5GJf+vU/+hiuL+O4Y/BnWBGdrmW1CtjOD9piwaAPQ6K8i1C71j4ceNET/AISHU9etrrQr6+ng1KQOPOt1Dhk2gbAckbRxXM6D4g8Zva6D4ith4uu729ngkvlvfs66XPBKRuWJd+UwCNhAye45xQB9B0V4B4x8RapI3inU9I17xbfXGlzTG2n0iBLfS7IRf8spC5/fEY+cjOewroLdtd8Y/EmOCXxLqmmadBoNlqUttp0ix+bM5YkZIOFIByO/HpQB6frmuaf4b0WfVtZuPs1lb7fNl2ltu5go4AJ6kCtCvnLxFDrPiv4DXnjvUPE+oebfyh30pZF+xpD9qCLCqYyGXAO/OSRg9a+jaACiiigAqin/ACME/wD17R/+hPV6qKf8jBP/ANe0f/oT0AJrGuafoNrDcarOYYpriO2jIRm3SSNtRcKD1J69Kv1xfxP1W+0nQNLm026ltpJdasoHaI4LRvKAy/QjivO/EeseI9K8TavqGv6v4k0u2i1I/wBn6ppipeaXBbqwAS4gU7gcZDE856e4B7xRTYpFlhSSNg6uoZWXoQe4p1ABRRRQAUUUUAFFFFAFC1/5DV//ALsX8jUmoapY6VHC+o3UVstxOlvEZGx5krnCoPUk9qjtf+Q1f/7sX8jXA/GvTDqVp4SUX97Z58SWcObSUIRvYjfyD8y4yp7EnrQB3un67p2qalqNhY3Hm3OmSrDdpsYeW7KGAyRg8EHjNaFeHxeHNQ1Hxd8SLi08T6tpa6fLC8K2MqxmWZbRSHlO3LjgfLwDk/hUufG3iHxNeeGNKkPiBoJvDcOq3v8AwjQijuZ5nbZks7DbGMZ+XqWx06AHvdFcP8LNR1+80G/t/E0d35llfPDazXwjFxLBgFPNEZK+YMkH1wDXcUAFFFFABRRRQAVRsv8AkI6j/wBdk/8ARa1eqjZf8hHUf+uyf+i1oAvUVwnjvXLnwr4t8MazcX7waFJJPZajEW/d7miLxOR6hoyM/wC1Xm3h3x14q1HS08NalqM8Wu65rFlcW00b/vILC4Tz2257Ikbr7bsUAfQlFeIrceIfEPgPxB8Qo/Fup6fd2Mt5LY6dC6i0iit2YCOSMj5ywQ5JP8Qx05n0q/1zxt48uLuXX9U0zTrLRtO1X+zrCUIskskZcoSQTsIDAjvkelAHq+ua7p3hvSn1LWbj7PaI6RtJsZsM7BFGFBPLMBWhXzpr9prOv/BW18ban4p1CebUry2muNNDr9jEbXShYkjxlSpCndnJwc5zX0XQAUUUUAFFFFAFDS/9Zff9fbf+grV+qGl/6y+/6+2/9BWuT8a6ze+FvG3hjV5L2RNCvJX0y/hZv3aPIN0MuOx3KVJ9CKAO7orxCy8ReI/Esmg241q80y28a6rezwzRECW1sIEzHFHkEKzhdxbrzmoPFmu+IfBNl4y8PWviK/vo7PTrTUbG+uZA1zbeZcLG8bSY+YHkjIyAcUAe7UVxOv6rfW3xh8IabBdSR2d3aX73ECt8shRY9pI9snFdtQAUUUUAFFFFABVHSf8Aj3n/AOvqb/0M1eqjpP8Ax7z/APX1N/6GaAL1FFFAFEf8jC3/AF6j/wBDNXqy57u3tNfJuZo4g1qMF2Az85qf+2dM/wCf+3/7+igC7RVL+2tM/wCf+2/7+ij+2tM/5/7b/v6KALtFUv7a0z/n/tv+/oo/trTP+f8Atv8Av6KALtFUv7a0z/n/ALb/AL+ij+2tM/5/7b/v6KALtFUv7a0z/n/tv+/oo/trTP8An/tv+/ooAu0VS/trTP8An/tv+/oo/trTP+f+2/7+igC7RVL+2tM/5/7b/v6KP7a0z/n/ALb/AL+igC7RVL+2tM/5/wC2/wC/oo/trTP+f+2/7+igC7RVL+2tM/5/7b/v6KP7a0z/AJ/7b/v6KALtFUv7a0z/AJ/7b/v6KP7a0z/n/tv+/ooAbef8hbTv96T/ANANO1nSLLXtGu9K1SHz7O8haKaPJG5SPUcg+4qldarYPqlgy3tuVVpCxEg4+Q1d/tnTf+f+3/7+igDkrL4SaJbajpl/calreoXekzLJYyXuoNL5AAxsUdNp4zxk4HNV1+CvhhZHRp9WksJro3dxpr37m1uJS27c8fQ4OOOh2jOcV2v9s6b/AM/9v/39FH9s6b/z/wBv/wB/RQBzev8Awy0XXtbn1YXeqaXeXcSw3r6Zetbi8RRgLIB97A4zwccZp2p/DLw/fafpFtZfbNGbRkaOxuNLuWglhRhhl3c5DY5zkk/U10X9s6b/AM/9v/39FH9s6b/z/wBv/wB/RQBysfwl8Mw+F7/QYRfJa314t88v2tjMk424kWQ8hsqDk55JrsbK2FlYW9qJZpxBEsYlnffI+Bjczd2OMk9zUH9s6b/z/wBv/wB/RR/bOm/8/wDb/wDf0UAXaKpf2zpn/P8A23/f0Un9taZ/0ELb/v6KAL1UZ/8AkOWf/XGX+aUf21pn/QQtv+/oqpNq2nHWLRxfW+0RSgnzRxyn+FAFnXdFtPEWh3Wk6iHNrdp5cojbaxHse1Y2jfD3SNF1aLUEm1C8mtoTBaC+u2mW0jIwVjB+7xxnk44rc/trTP8An/tv+/oo/trTP+f+2/7+itY1qkIOEZWTJcU3dmRpPgTR9Gl0d7IXAOjQzQ2u+XPyynL7vXkcelVdZ+Guh61qF7dTSX9sNQUC+t7S7aKK7wMAyKOpx9M9810P9taZ/wA/9t/39FH9taZ/z/23/f0VSxFaMuZSd/8Ag3/PUOWNrWH6Xp0GkaTaadabvItIVhj3tk7VGBk9zxVqqP8AbWmf8/8Abf8Af0Uf21pn/QQtv+/orFtt3ZReoqj/AG1pn/QQtv8Av6KP7a0z/oIW3/f0UgL1FUf7a0z/AKCFt/39FL/bWmf8/wDb/wDf0UANP/IxL/16n/0MVB4m8OWHi3w/Po2reabSdo2fyn2tlHVxg/VRUZ1XT/7eWT7bb7fspGfMGM7xV3+2dNIz9vt/+/ooAq33hnTtS8R2Ot3aO91YwTW8Slv3ZSXAcMvf7ornLD4Q+G9Pv7SVJtUmsbG4+02elXF88lnbSZJDJGfQkkZJAya63+2dN/5/7f8A7+ij+2dN/wCf+3/7+igDj734PeHL99QjlutYTTtRlee40uLUHS1aVuS+wd93zYzjIHHFb+jeD9N0PVf7Rs2uGuP7Pg04mWTcDFDnaen3ueT3rQ/trTP+f+2/7+ij+2tM/wCghbf9/RQBxmpfBbwxqcl0ks+rQ2NzObltNgv3S1WYnJkWPoDn8PavQapf21pn/P8A2/8A38FH9s6b/wA/9v8A9/BQBdoql/bOm/8AP/b/APfwUf2zpv8Az/2//fwUAXaop/yME/8A17R/+hPS/wBtaZ/z/wBv/wB/RVNNW0/+3JpPttvsNugDeYMZ3Px+tAEniDw7Y+JbO3ttS83y7e6iu08p9p8yNty8+mRXN3/wk8PahqN7O1xqsFnqE/2m+0u3vmjtLqQnLM8Y/vEAnBGa6z+2dN/5/wC3/wC/oo/tnTf+f+3/AO/ooAtoixxqkahUUAKoGAB6U6qX9s6b/wA/9v8A9/RR/bOm/wDP/b/9/RQBdoql/bOm/wDP/b/9/RR/bOm/8/8Ab/8Af0UAXaKpf2zpv/P/AG//AH9FH9s6Z/z/ANv/AN/RQBdoql/bWmf9BC2/7+ij+2tM/wCf+3/7+igBtr/yGr//AHYv5Gqnivwpp3jHR107VWuI0jnS4hmtZTFLDKhyrqw6EUW+q6eurXztfW4VliwfNHPBq7/bOm/8/wDbf9/RQBm6f4O03Tf7YML3Mj6yFF48su5m2xCLIPYlRyfXmsq6+Fmgz6fo8FtPqOnXOjWwtbS/sbsw3CxYwUZwPmB9CPXGMmun/tnTf+f+3/7+ij+2dN/5/wC3/wC/ooAp+GPCul+ENJaw0aKRUklaeeWaQySzyt96R3PLMfWtmqX9s6b/AM/9v/39FH9s6b/z/wBv/wB/BQBdoql/bOm/8/8Ab/8AfwUf2zpv/P8A2/8A39FAF2iqX9s6Z/0ELb/v6KP7Z0z/AJ/7f/v6KALtUbL/AJCOo/8AXZP/AEWtL/bOm/8AP/b/APf0VTtNV09b+/Zr2ABpVKkyDn92ooATxb4U0zxr4bn0TXEd7OdlZvLbawKsGBB7dPyzVceBdDXxlZeJ0t2XUbGy+wwFWwixc449QCRn0Nav9sab/wA/1v8A9/BR/bWmf8/9t/39FAHJX/wh8N6hqN3M0uqQWd/P9ovdLt7547O6kzks8Q9SATgjOBXR2HhjTtN8R3+t2iOl1fQQwSqG/dhIgQgVe3Bq1/bWmf8AP/bf9/RR/bWmf8/9t/39FAHFXPwU8L3LtGbjVorD7T9qj0yK/cWsMu7cXSPoDnPHQbjgCvQqpf21pn/P/bf9/RR/bWmf8/8Abf8Af0UAXaKpf21pn/P/AG3/AH9FH9taZ/z/ANt/39FAF2iqX9taZ/z/ANt/39FH9s6Z/wA/9t/39FADdL/1l9/19t/6Ctcl8WNI1bxT4aXwtpWjLeRaq6pPfyTKsdgFdG3lSdzHAONvcc+h6LT9W09JL3ffW43XLEZkHIwvNXTrOmf8/wDbf9/RQBkav4E0TWfDun6PNHNbxaZ5ZsJ7WUxTWrIu1WRxyDjj0qnZfDDw7baLq+n3SXWpnWlC6hd39w0txcADCgv1G3tjGK6L+2tM/wCghbf9/RR/bWmf8/8Abf8Af0UAc1oXwv0bQ/EFprYv9Y1HUbOJ4YZ9Rv2nKxsMbMHgAc4xjknOa7OqP9taZ/z/ANt/39FH9taZ/wA/9t/39FAF6iqP9taZ/wA/9t/39FH9taZ/z/23/f0UAXqKo/21pn/P/bf9/RR/bWmf8/8Abf8Af0UAXqo6T/x7z/8AX1N/6GaP7a0z/n/tv+/opujSJLZyyRMHRrmYqynII3mgDQooooAoYz4hbP8Az6j/ANDNXtq/3R+VUR/yMTf9eo/9DNXzwKAE2r/dH5UbV/uj8q4rwJ8TbDx1q+r2NpaSWv2F91tJI+Rewb2QTJwPl3IR37c1o+HfGtlrt1qtvMI7GWw1abTI0lnXdcNGFO5Rx13dOelAHSbV/uj8qNq/3R+VQ3d9aWEQkvrqG2jJ2hppAgJ9MmpDPEGjUyoDL/qxuHz8Z49eKAHbV/uj8qNq/wB0flWJ4r8W6b4Q8N32s6ixkisgvmRQkGQliAowSOufyya1XvIEsWvDKhgWMyGQMCu0DOc9KAJtq/3R+VG1f7o/KuIsfihp2pf8InJa2ri28S/aCsksqqbURRmQ7wMjJA6Z4zXZW95bXdsLi0uIp4D0licMp/EcUAS7V/uj8qNq/wB0flUNpf2l/Gz2N1Bcop2s0MgcA+hxWVq3iaHSPEukaTPF8uprO32hpAqwiJAxznrnPtirhCU3aKv/AMATdjb2r/dH5UbV/uj8qzNU1eS10lL3SrVdU3yxoqRXCICrMAWDHg4BJx3xirpvbVZ1ga5hErEqsZkG5iOoA60uSVr2C6Jtq/3R+VG1f7o/KsDWvFtppN5pdtEEvJL/AFFLBhFMMwFlY7mHP93px1roKcoSik5LcLpibV/uj8qNq/3R+Vctqnj/AE7TdU13TViea70XSzqUq71USDDkRrzndhOeOMitTw/4is9f0mwuopIo7i7s4rtrTzVaSISIGAI68ZxnFQM1dq/3R+VG1f7o/KoH1CzjvUs5LuBbpxlYGkAdh6hepqxQBn3gH9racMDG6Tt/sGr2xf7o/KqV5/yFtO/3pP8A0A1eZlRCzkKqjJJOABQAbV/uj8qNo9B+Vcf4Y+JWj+L/ABhqWi6AftcGn26Stfo37uVi5UqnHzAY+8DgnOOma7GgBNo9B+VG0eg/KlooATaPQflRtHoPypaKAE2r/dH5UbF/uj8qWigBNi/3R+VUZ1A1uzAA/wBTL290q/VGf/kOWf8A1xl/mlAF3avoPyo2r/dH5VV1XUYdI0e81G6/1NpA8z/RVJP8q53w54s1vXbm0Nz4PvNOsbmLzReS3cTBQV3LlQd3PA6cZrWNGcoOa2XmhcyTsdZtX+6Pyo2r/dH5UtFZDE2r/dH5UbV/uj8qWigBNq/3R+VG1f7o/KlooATav90flRtX+6PypaKAM8gf8JEowMfZD2/2xV/avoPyqif+RjX/AK9D/wChiptRv4dL0+W8ud3lxjkKMknOAB7k0AWNq+g/Kjav90flWTYa5JPqK2OoWElhPJH5sIdw4kUdeR0I9K16AE2r/dH5UbV/uj8qWigBNq+g/Kjav90flS0UAJtX+6Pyo2r/AHR+VLRQAmxf7o/KqKKv9vz8D/j2j7f7T1fqin/IwT/9e0f/AKE9AF3av90flRtX+6PyqpqmpRaVYNcyqz8hUjT7zsTgKPqar6drD3V9JY31m9ldJGJRGzhw6HjII9DwaANPav8AdH5UbV/uj8qWigBNq/3R+VG1f7o/KlooATav90flRtX+6PypaKAE2r/dH5UbF/uj8qWigChagHWb8YH3Yu3savbV/uj8qo2v/Iav/wDdi/kazfGPi6Lwlp1rKLK41G9v7lbOxsrfAaeZgSBuPCjAJLHgAUAdBtX+6Pyo2r/dH5VyvhfxrNrWt3ug65os2h61ZwpcNavOs6SwsSBIki8EZGDwMGuroATaPQflRtHpS0UAJtHpRtHpS0UAJsX+6Pyo2r6D8qWigBNq/wB0flVGzA/tDUBgf65P/Ra1fqjZf8hHUf8Arsv/AKLWgC7tX0H5UbV/uj8qo6rqq6ZHCFha4uLiTy4YUIBduvU9AB3pul6t/aD3EE9u1rd2zASwMwbAPIII6g0AaGxf7o/KjYvoPypaKAE2L6D8qNi+g/KlooATYvoPyo2L6D8qWigBNi+g/KjYv90flS0UAZ+mKpkvsgH/AEpuo/2Vq/sX+6Pyqjpn+svv+vpv/QVpuqat/Z8lvBBbPdXdyxEUKMFzjkkk9AKANDYv90flRsX+6PyqjpWqrqccweFre4t5PLmgcglG69R1BHQ1foATYv8AdH5UbF/uj8qWigBNi/3R+VGxf7o/KlooATYv90flSbF/ur+VOooAbsX+6v5VS0ji2n/6+pv/AEYav1R0r/j3n/6+pv8A0Y1AF6iiigCgP+Rib/r1H/oZrm/ivr8+hfD+7TTj/wATTVHXTdPQNgtPMdgx7gEt/wABrpB/yMTf9eo/9DNT3NhZ3skEl5aQXD20nmwNLGGMT9Nyk9Dz1HNAHhc+n+Jfhrqng/xBrGnaPZ6Ro8a6LeS6fdSSO9vKQA8gZFGFk+fg9Wql9h8By2XxVvPExsBrEWq3flPOy+fCoUGFoc8gmTPK8kjBr6CvbK01GzktNQtobu2lADwzxh0fnPKng8gVnzeEvDlxeR3c+gaZJcxSGVJns4y6uerA4zngc+1AHj/h2PTtZ8cQr8WltZbiPwxYPYxauR5Z3ITcvh/l8zeBk9Rg+lZfhW8gsb/wLdz3Jj8P23iPVrfS7q5c7BamIrCNzdi24DPpXvWreH9G1+OOPXdJsdSSI7o1vLZJQh9RuBxT7zRNK1HSxpuoabZ3VioAFrNArxADphSMDHagD5+8bXGk6/p3xhvrR7bUIIptKaKdMSKrooRmU+o+dcj3r3Q2OjXXgeSy023sZ9IezZIoYFVoGTaeFA+UirUHh/RrWzmtLbSLGG2njEUsMdsipIgGArKBggA4ANWrKxtNNsorPTrWG0tYRtjggjCIg9Ao4FAHzn4a0nw3q+g/CKwuILCaznnvXv412hZJ1g3Ylx1bKoCG6jAPFL4xtTokPxG0Xw/HFYaMmr6UbmCPdHBDDLEDKSI+VQkKG29uK9q1/wCH3h/WvDd9pEWmWlgt4HLTWltGjozgB3U7fvEDBPcVb8NeHl0vw7FaamkV3eyW6Q31w48xrrau3MjkZfjj5s8cUAeXeBdPOnfF6y+x3nhO1MumSfabHwykxjniBGySTqisGPDEgkE9c10nxIh0a5+IXgmDxKYfsDyXW5bggRu+xditnggtjg8Hiu40nw7ougLIuhaRY6aJjmQWdskW8++0DNT3+k6dqihdTsLW8CqVAuIVkwD1AyO+Oa6MNWVGpzu+zWm+qaJkrqx4frAsIbPxXbeHzGNBi17SjbrAf3KTmRfOWPHAGduQOM1qjQYJ7j4l69Y2Sz69ZXcy6fMBmSBhbKcx+jfMenPSvWI9E0uLTksItNs0s42DJbLAojVgcghcYyDzn1qxDaW9tJM9tbxRPO/mSsiBTI2MbmI6nAAyfSvQlmXu2iv+D8O/ry6+pn7PueJfZPBdv/wrWfwybMX02oQb2hYebMmwlzL3JD45bkEmvabLU7HUXuUsLyG5a0mMFwIpAxikHVGx0IyOKrQeGtCtrxru30bT4rlpBIZktUDlx0bOM5680zRPDtpoVxqk9qztLql617cMwUfOVVcAKAMAKPcnJJJNcmKxCrtWvpffzdyoR5TybxRZ6La/Evx/JJb2MV/J4Taa2LIgkdzHMJGTuTtADEdutVrbwvovhzQfhJqui2ENpqN1fWiXF5GuJZ1mt2aQO3VgT2PToOK9qu9E0q/vY7y/0yzubqONoknmt0d1RgQyhiMgEEgjvk1I2mWDxWsb2Vs0dmytbIYlIgKjClBj5SBwMdBXEaHy6LKW/wDCniLUNdvPCdnqS6nMbu9vzOdVtZ1k+Ty9nIxhdqqMY/GvqLSzOdIszeP5lx5Cea+wrufaMnB5HPY1Vn8MaDd6wmrXWiadNqUZBS8ktEaZcdMORkY+talAFC8/5C2nf70n/oBq86LIjI6hlYYZSMgj0qje/wDIW07/AHpP/QKv0AeeaNbwWnx61e2tYo4IYvD1okcUahVRRNJgADgCvQ6gWytUvnvUtoVu5EEbziMCRkBJClupAJPHvU9ABRRRQAUUUUAFFFFABVGf/kOWf/XGX+aVeqjP/wAhyz/64y/zSgDK+IH2H/hX+sDWGu1sGtytw1kgaVUJAJAPHA6+2a4exg0nQvH3hWLwNrNzfDUUkF/btftcI9uIiRMwJIQhgoBGOuMV60yh1KsAQRggjg1Q07QNI0iSSTSdKsrF5f8AWNbW6xl/qVAzXbQxKp0nB31vp01VtfQzlG8rmhRQKK4jQKKKKACiiigAooooAoH/AJGNf+vQ/wDoYql4wU/8I68m0ssM0UrgD+FXBP6VdP8AyMa/9eh/9DFXmAZSrAEEYIPegDnri5h1DxjpP2KZZhDDLLI0ZyArAAZI9TXRVXtbC0sQwsrWG3DnLCKMLuPvirFABRRRQAUUUUAFFFFABVFP+Rgn/wCvaP8A9Cer1UU/5GCf/r2j/wDQnoAoeKz5dnY3Lf6m3vopJT/dXJGfwyKjE8V746ha0kWVbexbzXRshSzDaM+vGa33RZI2SRQ6sMFWGQRUVrZWtjGUsraK3UnJWJAoJ/CgCeiiigAooooAKKKKACiiigCha/8AIav/APdi/kaxvH/jjTfAfh9dR1CMXE80wgs7UOqGaZug3Nwg7ljwB+AOza/8hq//AN2L+RpdT0TStajjTWdMs9QSMlkW7t0lCE8EgMDigDifhxb2d1rGo+INT8Q6XrHijUYk+0RaddJLHYwKflhjAJO0E8sep/M+iVmaZ4b0PRZ3m0bRdP0+WRdjyWlqkTMuc4JUDIz2rToAKKKKACiiigAooooAKo2X/IR1H/rsv/otavVRsv8AkI6j/wBdl/8ARa0AZ+uyLa69ol3O2y3SWSNnPCqzJhcmk0qRLvxfq1zbMJIVhhhMinILjcSM+2RW3PBFcwtDcRJLG3DI6gg/gaLe2gtYRFawxwxjokahQPwFAElFFFABRRRQAUUUUAFFFFAFDTP9Zff9fTf+grWdqsiWvjHSbm5ZY4XimhDscAOcED8cVo6Z/rL7/r6b/wBBWrVxbQXkJhuoY5o26pIoYH8DQBi6A63Ova5dwMHt3mjjR15ViqYbB71v0yGCK2hWK3iSKNfuoigAfgKfQAUUUUAFFFFABRRRQAVR0r/j3n/6+pv/AEY1Xqo6V/x7z/8AX1N/6MagC9RRRQBQH/IxN/16j/0M1y3xeuZ7PwA09r5pljvrQqkTFWf9+nyg+/T8a6kf8jE3/XqP/QzWR4/8Pah4n8KNp2kTwW92LmCeOWfO1THIr54Bz93pXVhJRjiISntdXJndxdjHfxjqkVzeaL4u0OOwmudMnu7Q2t4ZFmVF+eMttBVwCORkelZ9h431aODw7onhTw4l5JdaHDfqLq/IEMf3SrOVJY9AD3Jq7J4U8TeINYl1TxM+m20lrp1xZWFvZSO6s8y7WldmUEDgAKAcetWvC3gzUdD1vSby7mtnjsvDsWlyCNmyZVcMWGR93A+vtXa3hYx1Sbttra+v/A+Zl77Zy/jbxrruteAfEt1o+iquhwrNaC/+2FZyyna0qIB9wNkdc969W0wk6TaEnJMCZJ/3RXmmo+BPF8PhfWfCWhXGkto2oPM8NzdPIs0KysWaIqqkHkkBs9D0rrtP1DWIvG/9hyWsTaTb6RHMbpEfcLjft2Fj8pBUEgDkY5xkZyxToqlGNK272ve1lv5lQ5r3ZgeOr/VbL4neEhodr9tuZbe9VbZ5zFETtT53ODwvJ6E+lVdW8Z/2hoklr4g0aS31LTdbs7W5tYL1lUM7qY5VkABZCDnaQM4INbvi7w/4gvPFmh694bewMmlxXCSQXruomEgUbQVBx9089jjg1iy/D7XdRs7y91K6sRq+o6vZ306RFvJhht2G2NTjLHbnkgZJ7V0UpYZ06bqW0Xne/M9/KxD57uxZPxH1FdV1yR9DjTQtAnmiv783XznYm4bI8fMTwCM/xDmsjU/EPibUvEHgh9Z0ZdJtbzVFmhMF4ZDtMT/u5RgYbBzxkcHuK6aHwLJcaF4v0rVJ0EPiC9nmjeAkmJHRVGQQPmBXOOnvWWvhjxvqOpeGRrk2jpZ6DdLM72zyGS7wjIGwVwpwfu5PJPPFFOWFTbikrd7/AMu687/oNqfUvfFm8ubDw1pdxZJLLMms2hWGF9rTHf8Acz79OeKqah4x1BLLXdF8X6IlpdDR576FbK9LJcwqpDoJNoZHGRzjvkVu+PvD2p+JNDtLfRLi2try11CC8SS5BKDy23dAOe3FYN34N8S+I7rVNT8QyabbXb6PPpdha2kjvGhlHzSO7KDyQowBwPesqLoPDxVS11f16W+Q5c3NoFv421g6npnh/wANeHo7s/2Ra3zyXN8VEMT/ACkFipLMMDB785rC8a+Ndd174eatqGmaKIdAkk+zwX63ZW4IWUL52wDhCRj72ec4rsvDnhG+0jxSNSupYHgGh2unFUJLeZEWLHkfd547+1cxeeAfGUfg678F6XdaSdGaVmt7ud5BOIjJ5nlFQpGc8bs9O1b0ZYRVU0o6Nb3+fzWliZKdjtPHzvH8M9feORo3XTZiHUkFTsPIIrnvDnjPW7KPw5b+JNCWz0/Vo47azukuvNkWXy8qJlwMbwpIwTjoa63xTpM2ueDdV0m2ZFmvLOS3RpCQoZlIGcZ45rk7Pwn4s1G68PW3iefS007QJUuFeyZ2kvJUTahIZQEAyScE5NctB0XQcalt367dPmXLm5tDN03xzc6boOjWvhvQGurjVtRv7eGC4v2bY8crZYuwJ2nk47DgVpXPjXxJfNqNppPhuC4bSrdV1Rvt23bO0e5oofl+cqD1OAelJofgDVNMuvDUs9xasNJv9QuZ9jN8y3BcoF46jcM5x7Zqxd+GfFOla7rk3hSXTJLPXWEsovndXtJtmxnXaDvBABwcciui+Ec9Er73d/5v/kdiPfsaHwslkm+Ffh6SaRpXazUs7sSW68kmutrC8E6HceG/BGk6NevHJcWVuIpGiJKkj0yAf0rdrzMTKMq83HZt2+82jflVyhef8hbTv96T/wBANX6oXn/IW07/AHpP/QDV+sCgooooAKKKKACiiigAooooAKoz/wDIcs/+uMv80q9VGf8A5Dln/wBcZf5pQBeooooAKKKKACiiigAooooAKKKKAKB/5GJf+vU/+hir9UD/AMjEv/Xqf/QxV+gAooooAKKKKACiiigAooooAKop/wAjBP8A9e0f/oT1eqin/IwT/wDXtH/6E9AF6iiigAooooAKKKKACiiigAooooAoWv8AyGr/AP3Yv5Gr9ULX/kNX/wDuxfyNX6ACiiigAooooAKKKKACiiigAqjZf8hHUf8Arsv/AKLWr1UbL/kI6j/12X/0WtAF6iiigAooooAKKKKACiiigAooooAoaZ/rL7/r6b/0Fav1Q0z/AFl9/wBfTf8AoK1foAKKKKACiiigAooooAKKKKACqOk/8e8//X1N/wCjDV6qGk/8e8//AF9Tf+jDQBfooooAoD/kYm/69R/6Gav1lXFqt14gKvJMgW1BBilZD98+hqb+yIf+fm9/8C5P8aAL9FUP7Ih/5+b3/wAC5P8AGgaRCP8Al4vf/AuT/GgC/RVH+yYv+fi8/wDAqT/Gj+yYv+fi8/8AAqT/ABoAvUVR/smL/n4vP/AqT/Gk/siH/n5vf/AuT/GgC/RVD+yIf+fm9/8AAuT/ABo/siH/AJ+b3/wLk/xoAv0VQ/siH/n5vf8AwLk/xo/siH/n5vf/AALk/wAaAL9FUP7Ih/5+b3/wLk/xo/siH/n4vf8AwLk/xoAv0VQ/siH/AJ+L3/wLk/xo/siH/n4vf/AuT/GgC/RVD+yIf+fi9/8AAuT/ABo/siH/AJ+L3/wLk/xoAv0VQ/siH/n4vf8AwLk/xo/siH/n5vf/AALk/wAaAC8/5C2nf70n/oBq/WHd6XEup2C+fdnc0nJunyPk+vFXf7Ji/wCfi9/8C5P8aAL9FUP7Ih/5+b3/AMC5P8aP7Ih/5+b3/wAC5P8AGgC/RVD+yIf+fm9/8C5P8aP7Ih/5+b3/AMC5P8aAL9FUP7Ih/wCfm9/8C5P8aP7Ih/5+b3/wLk/xoAv0VQ/siH/n5vf/AALk/wAaP7Ih/wCfm9/8C5P8aAL9UZ/+Q5Z/9cZf5pSf2RD/AM/N7/4Fyf41Tm0uIaxar592cxSnJunz1Tvn3oA26KoHSIv+fm9/8CpP8aP7Kh/5+L3/AMCpP8aAL9FUP7JhH/Lxe/8AgVJ/jS/2TD/z8Xn/AIFSf40AXqKo/wBkw/8APxef+BUn+NH9kw/8/F5/4FSf40AXqKo/2TD/AM/F5/4FSf40f2TD/wA/F5/4FSf40AXqKo/2TD/z8Xn/AIFSf40f2TD/AM/F5/4FSf40AIf+RiX/AK9T/wChir9Yh0yL+3FTzrvH2YnP2l8/fHfNXP7Jixj7Ref+BUn+NAF+iqA0mL/n4vP/AALk/wAaP7Ji/wCfi8/8C5P8aAL9FUP7Ji/5+bz/AMC5P8aP7Ji/5+bz/wAC5P8AGgC/RVD+yYv+fm9/8C5P8aP7Ih/5+L3/AMC5P8aAL9FUP7Ih/wCfi9/8C5P8aP7Ih/5+L3/wLk/xoAv1RT/kYJ/+vaP/ANCek/siH/n4vf8AwLk/xqmmmRnW5k8+7wLdDn7U+fvN3z7UAbdFUP7Ih/5+L3/wLk/xo/siH/n4vf8AwLk/xoAv0VQ/siH/AJ+L3/wLk/xo/siH/n4vf/AuT/GgC/RVD+yIf+fi9/8AAuT/ABo/siH/AJ+L3/wLk/xoAv0VQ/siH/n4vf8AwLk/xo/siH/n4vf/AALk/wAaAL9FUP7Ih/5+L3/wLk/xo/siH/n4vf8AwLk/xoALX/kNX/8AuxfyNX6xLfTIm1a9Tz7vCrHyLl8ng+9Xf7Ji/wCfi8/8C5P8aAL1FUf7Ji/5+Lz/AMC5P8aP7Ji/5+Lz/wAC5P8AGgC9RVH+yYv+fi8/8C5P8aP7Ji/5+Lz/AMC5P8aAL1FUf7Ji/wCfi8/8C5P8aP7Ji/5+Lz/wLk/xoAvUVQ/siH/n4vf/AALk/wAaP7Ih/wCfm9/8C5P8aAL9UbL/AJCOo/8AXZf/AEWtJ/ZEP/Pze/8AgXJ/jVO00uI39+PPuwFlUZF04z+7U880AbdFUDpER/5eb3/wLk/xo/seH/n5vf8AwLk/xoAv0VQ/siL/AJ+b3/wLk/xpf7Ji/wCfm9/8C5P8aAL1FUf7Ji/5+b3/AMC5P8aP7Ji/5+b3/wAC5P8AGgC9RVH+yYv+fm9/8C5P8aP7Ji/5+b3/AMC5P8aAL1FUf7Ji/wCfm9/8C5P8aT+yYf8An5vf/AuT/GgA0z/WX3/X03/oK1frD0/S4mkvMz3Y23LAYunGeF681e/siH/n4vf/AALk/wAaAL1FUTpMP/Pxef8AgXJ/jSf2RD/z8Xv/AIFyf40AX6Ko/wBkxf8APxe/+Bcn+NH9kw/8/F7/AOBcn+NAF6iqH9kw/wDPxe/+Bcn+NH9kw/8APxe/+Bcn+NAF+iqH9kw/8/F7/wCBcn+NL/ZMX/Pxe/8AgXJ/jQBeqhpP/HvP/wBfU3/ow0f2TD/z8Xv/AIFyf403RYxFZyoCzBbmYZZiSfnPUnrQBo0UUUAUR/yMLf8AXqP/AEM1HrXiDSvDsNvNrd4lnFczrbxySA7TI33VJAwM46nAqQf8jC3/AF6j/wBDNReI9AsPFPh290XV4vNtLyIxyDuO4YehBAIPqBQA7XNf0vw3pv2/W7xLS23rGHcE5ZjhVAAJJPoBWiDkZrwnw1DrV9NqN/42uItSg+G6TQ2cUef9MuY0LCeQH+IR7AOvzEnr1uS6n4w0LwHonxBuvFU1+95JazXulNBGLUwXDKBHEAu5WUSD5txzjn3APaqZNMlvBJNMwSONS7sewAyTXmFt4q1p/AHxNv2v3N1o+palDYSbFzAkUKsgHGDgknnNdha3U198Mobu6kMk8+jrLI5GNzNDkn8zQBsaZqdnrOl2+o6ZOtxaXUYkhlUEB1PQ881arwTwqfEvhjwB8PtbTxPczwX97ZWEultDGLdbaZtoC4XdvAwdxJyfao7rxv4u12XXtU0mfxPHc2V7PBpdppmkpNYlYmwFmYglmYjk5G3PHpQB7/RXjniDxTqmpaxZ20+s63p07aXBctonhvT/AD7uGZxljO7Iyqo6BcjPU475em+LPGHivQfh3Zx+IJtNvNbm1CC/u4bePe6QE4O0ghXwvboTQB7pLKkELyyttjjUszHsByTUGl6nZ6zpdvqWmTrcWd1GJIZVBAdT0PPNeURL4q8UTeKoIfF13ZR+GwNPtlWCI/a5VhDSS3GVO4OT0XbgdOevX/CUhfg94ZJOANOjJJ+lAHZVRsta0/UdQv7GyullutOdY7qMA5iZl3KD9Qc8V4Lq3j7XLbTX8Q6Z4o1rVrmG/RXez0wLoojMwQxh3QM3BxvDEk/nXQ2Hh/XNZ+JfxEk0fxRdaGsFzbmJbWKNvMm+zKQ0m9SSgH8IxnJ54oA9norxnw74v8Q/Ey90HS49Wl0CKTQhql/Pp6J508hmaEIhcMEXKFs4PXFJB4y8TWt3YaHe6r9puLDxlDpE96sSqby2eF5AHAGA3QErjoPfIB7Fc3MFlay3N3NHBBChkklkYKqKBkkk8AAd6dBNHc28c8DrJFIodHU5DKRkEfhXkHxK1LU76X4gaL/aU0Nha+GY7qOOJU+8TJvBJBOGCgH26Yr0XwRaS2XgbR4Z72e9f7HG3nXAXdgqCB8oAwM4HGcDnJ5oA3aKKKAKF7/yFtO/3pP/AECr9UL3/kLad/vSf+gVdlTzIXQOyFlI3KeV9x70AU49a06bXJtGiu431G3hWeW3U5aNGJCk9hnHTrV6vKvBHhmw8KfGvXLDTWuJA+iW00891O00txK0sm6R2PVjgeg9q9VoAKKKKACiiigAooooAKoz/wDIds/+uMv80q9VGf8A5Dtn/wBcZf5pQBeqlbaxp95qd5p1rdRy3dkENzEhyYt4JXPucHirF1AbmzmgEskJljZPMibDpkYyp7EdRXnvw+0Sz8O/ETxhpumrIIIo7Jt0shd3Zo2LOzHksSSSa6KVOE6c5N6xV196X6kybTSPR6KKK5ygooooAKKKKACiiigCgf8AkYl/69D/AOhir9UD/wAjEv8A16N/6GKk1Sx/tTSbqx+1XNn9oiaP7RaSbJY8jG5G5w3oaAGWOtadqV/fWdhdxz3GnyLFdInPlOV3BSemcenSr1eY/CjRbHw74u8d6TpMTRWltf2wjRnZzzbqSSzEkkkkkn1r06gAooooAKKKKACiiigAqin/ACME3/XrH/6E9Xqop/yME3/XrH/6E9AFqeeK2gea4kWOKMbmdjgAVX0/VrHVFc6fcpP5Zw23qv4Gs7xWA9rp8UnMMuoQrKD0K5PB/ECklUR+Prbyvl8ywfzAB1AcYzQBvUUUUAFFFFABRRRQAUUUUAULX/kNX/8AuxfyNX6oWv8AyGr/AP3Yv5GovEWgQeJdGl0u9uLuC2mZfO+yTGJ5EByULDkK3Q4xkEjNAEuk61puu2stxo93HdwxTPA8kRyodDhhnvg9xxV/FedfBO0gsPBmo2dnGIre31y+iijBJ2IsxAHPoBXotABijFFFABijFFFABRRRQAVRsf8AkI6l/wBdk/8ARa1eqjZ/8hHUf+uqf+i1oAnvL23sLZri8mWGJerMabY6haalb+dYzrNHnaSvY+h9DWVrQEviTQYpRmLzZXwehZU+X+tGnAR+NdXSIAI0EDuB/f8AmGfrigDeooooAKKKKACiiigAooooAoaWcyX/AP19t/6CtXZZY4YXlmdY40Us7ucBQOpJ7CqWmffvv+vtv/QVrN8aeF7HxXoZtdWkujZwlppLaCcxJc4U4WTbyy55xkcgUAauk6tY65pUGpaTcLc2dyu+KZQQHGcZ557Vcrh/gvz8GfDX/Xn/AOzNXcUAFFFFABRRRQAUUUUAFUdK/wCPef8A6+pv/Rhq9VHSv+Pef/r6m/8ARhoAvUUUUAUR/wAjC3/XqP8A0M1eqiP+Rhb/AK9R/wChmsD4meOE+H/gqfWfKSa482OGCGTcFdmYA5Kg4wu5u2duM5NAGjpHhPT9GuNblhMsw1u6a6uo5yGXcyBSoGB8uB0Oetc5YfB/R7K6s0k1XWLzSNPn+0WWjXN0HtYHByuBjcwU9AzED3qnJ8YdG03xlf22talBb6OdPtbvT3W3laabzQ5Y7QC2AFU/dGM811WoePfDGl+G7XXrzWbddNvCBbTJmQzk9AiqCzH2AyMHNAGDrPwh0rWL7VpP7Z1qysdYcy3+nWl0EgmlK4LkbSQTgEjOCQMjHFdjBpMFv4ej0dGkNvHai1DE/NsCbc59cVB4e8TaP4q0z+0PD9/He2wcxsyAqyOOqsrAMp6cEA8iuavviRY6D461bSvEV3Da2dvb28lsVid5HLBi5IUH5Rgc4GM81rSozqtqCvZXE5KO5on4f6UfCug6B5939l0K4t7i2feu9mgOV3HGCD3wB+FZWqfCLStQvNRNvrGs6dp+rSmbUdMsroJb3Ln75IKll3fxbSM1uTeJIpdb0Iafqmnvp+pQTzYO5pLhUUENEw+XAzls/hVe1+Jng68iu5bfXrZorOETzyEMFRCcDkjBOSBtHOT0p+wqtXUX93yDmRSvvhdpsutSajo+ratoJuLaK1uodMnWNLiOJdsYOVJUhflBUg4/On6J8LdD0BtB+wTXvl+H5rqWyjeUEL9ozvVuMkDPHf1JpNE+IFr4k8fDS9EuIbnTl0xrmRjG6SpMJQu0hsEDaQeR3zXa0qtKdJqM1Z7gmnscVr3ww03WtavdRg1XVtJOpxrFqcGn3IjjvVA2jeCpwdvy5XGRXQ6BoFp4d8MWWhWjSS2lnAIEMxBZlAxzgAfpWpRWQzzST4IaPNop0WXX9fbRo3L2un/a1EVs27cCvyZbB6BywGfXmr2q/Caw1HXdW1W21/XNMm1kqL9LK5VEmRUCBcFTjgHkc/MecHFd7RQBxep/C/RrkaVJo1zfeH7vSbf7Ja3WmTBHEH/PNtwYOueeQTnnNRt8J9BPhNdEjn1COVb4akNUFxm7N4P+W5cjBbt0xjtXcUUAcPp/wq0i0OtPe6jquqT67ZfYr+e9uAzyJ8wyMKNpw2BjgADjrno/DOgjw14fttJTUL3UUthtSe+kDyleykgDgDgcdBWrRQAUUUUAUL3/AJC2nf70n/oFX6oXv/IW03/ek/8AQDV+gDIg8N2cHjG78SJJMby6s47N0LDywiMzAgYznLHv2rXoooAKKKKACiiigAooooAKoz/8h2z/AOuMv80q9VGf/kO2f/XGX+aUAXqyrHw/a2HiPVNaheU3OqLCsyswKL5alV2jHHB5rVoqlJpNLqAUUUVIBRRRQAUUUUAFFFFAFA/8jEv/AF6N/wChir9UD/yMS/8AXo3/AKGKv0AZGk+G7PRtb1nVLWSZp9ZnjmuFkYFVKRhAFAHAwO+ea16KKACiiigAooooAKKKKACqKf8AIwTf9esf/oT1eqin/IwTf9esf/oT0ASajp8GqWL2t0G2Pg5U4ZSDkEHsQar6bosen3Mty9xPd3MihDNO2SFHRRjAArSooAKKKKACiiigAooooAKKKKAKFr/yGr//AHYv5Gr9UbX/AJDV/wD7sX8jV6gDH8N+GrPwvY3NrYSTSJc3k145mYEh5XLMBgDjJ4rYoooAKKKKACiiigAooooAKo2X/IS1H/rsn/otavVRsv8AkJaj/wBdk/8ARa0ALqmlw6rbokzSRPE4kilibDxsO4NJpmkxaYspWWWeadt0s8zZZyBgfgPSr1FABRRRQAUUUUAFFFFABRRRQBQ0z799/wBfbf8AoK1cmiWeCSJ87ZFKnHoRiqemffvv+vtv/QVq/QBleGPD1p4U8M2Oh6dJNJbWMXlxvMwLkZJ5IAHf0rVoooAKKKKACiiigAooooAKo6T/AMe8/wD19Tf+jDV6qOk/8e8//X1N/wChmgC9RRRQBRH/ACMLf9eo/wDQzXIfGy0ur34Q6xFY28txKrW8pjhUsxVLiNmIA64VSfwrrx/yMLf9eo/9DNXqAPN/CckGsfGLXtdtYJGtbrRrE208sDISrGQsPmAI6DI9hXmdhpeo6X4b8BaxPLqmkadpsuq2811Z2InksWlnfY5iZGwrKNu4Lkceor6UooA80+E1okuq+JdcgudZvotRmhUX+p26W63hjQjzI4lRSBghSxHzY9jUV3r2n+F/jB4gvtbsrsQXGnWscN3FZyTKWG4mLKqeW49uK9QorejVVLm5ldNW3t1T/QmUbni3hvSNRsLzwX9qsZ7beusXCwtGf9Gjl+aNGxwpwRx+FLbaRcwfA/wfcppc0yabewX+oWawnzJY1dtx2dWILBsY7V7Riiu15jNtPl63/GX/AMkZ+yR5roGr2fiL40y6ppFpcizGh+S15LaPCsziYHA3AE4Bx+fpXpVFFcNaqqjVlZJJb32NIqyCiiisSgooooAKKKKACiiigAooooAoXv8AyFtN/wB6T/0A1fqhef8AIW07/ek/9ANX6ACiiigAooooAKKKKACiiigAqjP/AMh2z/64y/zSr1UZ/wDkO2f/AFxl/mlAF6iiigAooooAKKKKACiiigAooooAoH/kYl/69G/9DFX6oH/kYl/69G/9DFX6ACiiigAooooAKKKKACiiigAqin/IwTf9esf/AKE9Xqop/wAh+b/r2j/9CegC9RRRQAUUUUAFFFFABRRRQAUUUUAUbX/kNX/+7F/I1eqha/8AIav/APdi/kav0AFFFFABRRRQAUUUUAFFFFABVGy/5CWo/wDXZP8A0WtXqo2X/IS1H/rsn/otaAL1FFFABRRRQAUUUUAFFFFABRRRQBQ0z799/wBfbf8AoK1fqhpn377/AK+2/wDQVq/QAUUUUAFFFFABRRRQAUUUUAFUdJ/495/+vqb/ANDNXqo6T/x7z/8AX1N/6GaALpOKTdSSHGKj3UAZ9w10dfP2Mwhvso3eaCf4z0xU+dV/v2f/AHw3+NRBv+Kgb/r1H/oZq9uoArZ1b+/Zf98v/jRnVv79l/3w/wDjVndRuoArZ1b+/Zf98P8A40Z1b+/Zf98P/jVndRuoArZ1b+/Zf98P/jRnVv79l/3w/wDjVndRuoArZ1b+/Zf98P8A40Z1b+/Zf98P/jVndRuoArZ1b+/Zf98P/jRnVv79l/3w/wDjVndRuoArZ1b+/Zf98P8A40Z1b+/Zf98P/jVndRuoArZ1b+/Zf98P/jRnVv79l/3w/wDjVndRuoArZ1b+/Zf98P8A40Z1b+/Zf98P/jVndRuoArZ1b+/Zf98P/jSZ1b+/Zf8AfD/41a3UbqAMm6Opf2nYb2tN+6TbhGx9zvzVzOrf37L/AL4f/Gorxv8Aibad/vSf+gGr+6gCtnVv79l/3w/+NGdV/v2f/fDf41Z3UbqAK2dV/v2f/fDf40Z1b+/Zf98P/jVndRuoArZ1b+/Zf98P/jRnVv79l/3w/wDjVndRuoArZ1b+/Zf98P8A40Z1b+/Zf98P/jVndRuoAq51b+/Zf98P/jVSY6l/bFrlrTf5Uu3CPjGUz3+lau6qU7f8Tuz/AOuMv80oAfnVv79l/wB8P/jRnVv79l/3w/8AjVrdRuoAq51b+/Zf98P/AI0Z1f8Av2X/AHw/+NWt1G6gCrnV/wC/Zf8AfD/40Z1f+/Zf98P/AI1a3UbqAKudX/v2X/fD/wCNGdX/AL9l/wB8P/jVrdRuoAq51f8Av2X/AHw/+NGdW/v2X/fD/wCNWt1G6gDKJ1H+3Fy9r5n2Y/wNjG4e9XM6r/fsv++G/wAahLf8VCv/AF6n/wBDFX91AFbOq/37L/vhv8aM6r/fsv8Avhv8as7qN1AFbOq/37L/AL4b/GjOq/37L/vhv8as7qN1AFbOq/37P/vhv8aM6r/fs/8Avhv8as7qN1AFbOq/37P/AL4b/GjOq/37P/vhv8as7qN1AFbOq/37P/vhv8apqdS/tqbD2nmfZ0z8rYxuf3+tau6qKN/xUE//AF7R/wDoT0ASZ1f+9Zf98v8A40Z1f+9Zf98v/jVrdRuoAq51f+9Zf98v/jRnV/71l/3y/wDjVrdRuoAq51f+9Zf98v8A40Z1f+9Zf98v/jVrdRuoAq51f+9Zf98v/jRnV/71l/3y/wDjVrdRuoAq51f+9Zf98v8A40Z1f+9Zf98v/jVrdRuoAybc6l/a17te037Y92UbHQ471dzq39+y/wC+H/xqG1b/AInV/wD7sX8jV/dQBWzq39+y/wC+H/xozq39+z/74b/GrO6jdQBWzq39+z/74b/GjOrf37P/AL4b/GrO6jdQBWzq39+z/wC+G/xozq39+z/74b/GrO6jdQBWzqv9+z/74b/GjOq/37P/AL4b/GrO6jdQBWzqv9+z/wC+G/xqnZnUvt1/te03eau7KN/zzX39K1d1UbJh/aOo/wDXVP8A0WtAEudV/v2f/fDf40Z1X+/Z/wDfD/41Z3UbqAK2dV/v2f8A3w3+NGdW/v2f/fDf41Z3UbqAK2dW/v2f/fDf40Z1b+/Z/wDfDf41Z3UbqAK2dW/v2f8A3w3+NGdW/v2f/fDf41Z3UbqAK2dW/v2f/fDf40Z1X+/Zf98N/jVndRuoAydPOpb7zy3tP+Plt2Ubrge9Xf8Aia/37P8A74b/ABqLTG+e+/6+m/8AQVq9uoArf8TX+/Z/98N/jR/xNf79n/3w3+NWd1G6gCt/xNf79n/3w3+NH/E1/v2f/fDf41Z3UbqAK3/E1/v2f/fDf40f8TX+/Z/98N/jVndRuoArf8TX+/Z/98N/jR/xNf79n/3w3+NWd1G6gCt/xNf79n/3w/8AjTNFZxZy+bt3/aZt23pneelXN1UdJbFvP/19Tf8Aow0AX7g42/jUO6pLs42fjVbdQBWDf8VA3/XqP/QzVfxFoFt4l09LO8ur62RJBIHsbp4HJAIwWUgkc9PpTw3/ABP2/wCvUf8AoRq9uoA8j+GnhKDUdS1y7vdZ16Z9G8Rz2tqj6rMUMcRUorLnDdTnPWqXgr4la5oXgC1v9X0G6vtFhv5YLrWZb9TIN9yyhljILMillXqORxwK73wJ4fv/AA83iT+0RGP7R125v4PLfdmKTbtz6Hg8Vy7fD/XD8BJPCIFt/arXJlA8393j7Z533sf3fbrQBuav8R7+PXNS0/wx4c/tlNIIW+ne/S2AcruMcYYEyMF5PQZ4zXV6Br9l4m8O2es6W7Na3kQlj3DDD1BHqDkH3FeW638N7+38W65qFl4V0DxNBrEguIZNTk8uSylK4YHKtvjyN2Bg9R716R4W0h9A8K2GlzG2MtvFtkNpAIYtxJLbUHAGSaAPP/B/j7VtI8D2d7q+jXVzo8Nw8Nzq0l2GkG6Zhv8ALIyUUkKTntwOK173xtB4au/E14llfXrw6pbWrQtd7lZpI1x5SkYQc/d7nnNY9t4S8ZS+CE8FXlrp0OnTSnztQS5LPHCZTIUEe3l+2c45rQ1TwRq93eau8C2/l3et2N7Ful/5ZQhA2eOvynA7178lg5VZOVrNvZ6NXVvnucy50lY1T45103ltpMXhXfrrRNc3Fn/aCeXbwhiqsZduCWIOFx9af8LtTutU0HVLq+NwsjaxdARXL7nhG7/V/wDAemBxSa1pGuaf41/4Sbw3bWuoNcWQsrqzuJzCflYsjq+D6kEEVY8AaNquh6Lex699n+2XWoz3bfZmLJiQg8ZANcVT2P1d8iSbt11vrdW7Gi5ubU524+IFr4XuPFFytrd3Nx/bsOnxRXN+BC0rxKQQzDEMeASc55+uB13hPxJqeufbIta0GTSZ7YoVdJxPb3KsCQ0UoADYxyMcZFcff+DPEIXxRJZW2lXi6lrMV4LK/UPHd24iVWjJIPltkZDYOCKt/DXwfqHhvVdYvprCDQtPvhGINFtrxrmOJlzuk3EAAtnoo6CvNNSDWfEfiJPjLe6PFA39kp4deYbbsKEJY/6RtxktuAj256fNnms3wL8R9asfCPhH+3fD1z/ZeomDT01eW9WSWSd/lV2ixu2MwPzE5745Geg17w7rknxLXXNLhtbixvNFfSrkSTGN4DvZw4GDuGSBj61TbwVrH/CuPBejKIPtmi39hcXQMnyhYWy+045NAEupfFa8iuNWuNF8NPqWjaLNJBe3v26OKRmjGZfKiYZkCeuRnBArvtO1G21XTLXULGQS211Cs0Lj+JGAIP5GvGrz4XalY6hrMGn+FfDmtpqV3Lc2mraiwEln5hyVkjKHzApzjB+vpXrukWQ0rRbKwXy8WsCRZiiEaHaoHyoOFHsOlAGjuo3VFuo3UAS7qN1RbqN1AFa7b/ibaf8A70n/AKBRrV8+n6JeXUWPMiiZkz644/Wortv+Jrp/+9J/6BUuo2q6hptxZu20Txsm70yOtAGGsNxo82j3aX1zO15KsN0s0pZX3qTkDtg+ldVurmILHVrufTo9Tjgih09g5eKTcZ2Awpxjgd66LdQBLuo3VFuo3UAS7qN1RbqN1AEu6jdUW6jdQBLuqlO3/E7s/wDrjL/NKsbqpTt/xOrT/rjL/NKALt1JOlnM1miSXCxsYkdtqs2OAT2Ge9cJ4Cn14+OfFNv4mv0urqNLR9kGRDBuRjsjU9h0z1PU13e6ub0fRr2y8e+I9WnEf2XUUtVtyr5b92hDZHbk100ZxVOpF21Xz3RElqmdTuo3VFuo3VzFku6jdUW6jdQBLuo3VFuo3UAS7qN1RbqN1AFYt/xUC/8AXqf/AEMVB4kvZ7PRJGtH2TSOkSOP4dzAZ/WnFv8AioF/69T/AOhik1uwbVNJktopBHLlXjc9AykEZ9uKAKEMb6J4ksrWK6uJre9icOtxKXw6gHcCemfSuj3Vz1ra6le61Bf6rFDbraxMkcUUm/c7Yy2ccDA4Fbm6gCXdRuqLdRuoAl3Ubqi3UbqAJd1G6ot1G6gCXdVFG/4n83/XtH/6E9Wd1UUb/ifzf9e0f/oT0AS61Lqkei3LeH4rabUtuLdLtysW7OMsV5wBk4HXGK4n4RXOrSQeKYfEGpPqV7a69NC85yFOEj4Rf4V9FFd/urlfBOgX2g3fiaW/8sLqetTXtv5b7v3bKgGfQ/KeKAOv3Ubqi3UbqAJd1G6ot1G6gCXdRuqLdRuoAl3Ubqi3UbqAKts3/E5v/wDdi/kazfF+j6r4gsLWw0rVn0uB7lTfzQMUmeAA5SNh91icc+mavWzf8Tm+/wB2L+RrmviXY+K9X8PRad4OMUbXEwF7I1wYX8juiNg7S3TPYfWgDM+H9w8HxE8RaVoWp32qeG7KGJWkvLhrgQXuTvijkbJYbcFhk4b0zXpe6uI8BWmuaParpN54b0rRNKtocW4sbxpiWz3BUdeSWJJJ+tdluoAl3Ubqi3UbqAJd1G6ot1G6gCXdRuqLdRuoAl3VRs2/4mWo/wDXVP8A0WtWd1UrNv8AiY6h/wBdU/8ARa0AReJjr76R5XhQ2aX8sioZ7zJSBDndIFH3mHZeAT1rm/gzeXl58L7KbU7ya9ujcXSyTzOWZyJ3Gefp07V226uV+G2gX3hbwRb6Vqnl/aY57iRvKfcuHmdxz9GFAHX7qN1RbqN1AEu6jdUW6jdQBLuo3VFuo3UAS7qN1RbqN1AFbTW/eX3/AF9N/wCgrVDWXkvNb0/SlmlhglSSaZoX2s4XAC5HIGTVrTW/eX3/AF9N/wCgrVfVrS6OoWepackcs9tuRopH2iRG64PYjGaADQJpYb3UtMlnknS0lUxPK25tjLnBPfFbe6sXRrK5glvL2/2Lc3kgZo0bIjUDCrnua1d1AEu6jdUW6jdQBLuo3VFuo3UAS7qN1RbqN1AEpaqOlt+4m/6+Zv8A0M1ZLVS0tv3E3/XzN/6GaANO+OPL/H+lVN1WNROPL/H+lUt1AFcN/wAT5v8Ar2H/AKEau7qzQ3/E+b/r2H/oRrl/imJ7bwpDrlm0gm0K9h1ArGxG+NWxIp9RsZjj2oA7rdRur5xufFmsQXuu6lbXMskXjmOW20UDd8jx3At0I9MxuXyPSuq0vwxo/iLxb4i0jxPcXEtv4ehtrTT7d7t4xbwiEEz8EZYnJ3nPSgD2TdVTVNSi0nR7zUbhWaKzged1QZYqiliB74FeEaNaN48l8B2fiS/vLy1ms9SExFw8Zu44pQsZcqQTwFOe+M1Zm0PS9e8PePtT1+5uItR0Se5s7Em7dPsNvFEBCFXdyHHUnO/J70Ae26RqkWs6JY6pbK6Q3tulxGsgAYK6hgDjvg1c3VzngVv+LeeHc8f8Su24/wC2S1vbqAJd1G6ot1G6gCXdRuqLdRuoAl3Ubqi3UbqAJd1G6ot1G6gCXdRuqLdRuoAl3Ubqi3UbqAK123/E00//AHpP/QavbqzLtv8AiaWH+9J/6DV7dQBLuo3VFuo3UAS7qN1RbqN1AEu6jdUW6jdQBLuo3VFuo3UAS7qpTt/xOrT/AK5S/wA0qxuqlM3/ABOrT/rlL/NKANLdRuqLdRuoAl3Ubqi3UbqAJd1G6ot1G6gCXdRuqLdRuoAl3Ubqi3UbqAKxb/ifr/17H/0MVe3VmFv+J8v/AF7H/wBCFXt1AEu6jdUW6jdQBLuo3VFuo3UAS7qN1RbqN1AEu6jdUW6jdQBLuqkjf8T6b/r2j/8AQnqxuqkjf8T6b/r2j/8AQnoA0t1G6ot1G6gCXdRuqLdRuoAl3Ubqi3UbqAJd1G6ot1G6gCXdRuqLdRuoArWzf8Ti+/3Yv5Gr26sy2b/icX3+7F/I1e3UAS7qN1RbqN1AEu6jdUW6jdQBLuo3VFuo3UAS7qN1RbqN1AEu6qVm3/Ew1D/rqn/otasbqpWbf8TDUP8Aron/AKLWgDS3Ubqi3UbqAJd1G6ot1G6gCXdRuqLdRuoAl3Ubqi3UbqAJd1G6ot1G6gCtprfPe/8AX038lq9urM044e8zx/pLfyFXDKM4HJoAn3Ubq57WPGnh/QWZNU1a2gkXrEXy4/4COaztN+KHhPVGZLfV4VcdFl+Td9M8UAdluo3Vmx61p0pQRXsDlzhQsgOT6VZiuI513ROrj1BoAs7qN1RbqN1AEu6jdUW6jdQBKWqlpbfuJv8Ar5m/9DNTlqp6Y37ib/r5m/8AQzQBs6p/yy/H+lZ9FFAFIf8AIeb/AK9h/wChGjWo0m0HUIpkWSN7aRWRhkMCpyCO4oooA4iHT7P+zvh+PskGIJAYh5Q/dny8/LxxyAeKxvjRplhNq2hzzWVvJNI5ieR4lLOgIwpOMkcnj3oooA7SWxtLfxxoC29rDEILCdIgkYXy1+T5Vx0HsK4j4laRptz8TNJNzp1rMbi1czGSBW83aG27sjnGBjPTFFFAHp3hyNIvC2lRxKqItnCqqowAAg4ArSoooAKKKKACiiigAooooAKKKKACiiigAooooApXf/IUsP8Aek/9Bq7RRQAUUUUAFFFFABRRRQAUUUUAFU5v+Qzaf9cpf5pRRQBcooooAKKKKACiiigAooooAKKKKAKR/wCQ8v8A17H/ANCFXaKKACiiigAooooAKKKKACiiigAqkn/Idm/69o//AEJ6KKALtFFFABRRRQAUUUUAFFFFABRRRQBStv8AkMX3+7H/ACNXaKKACiiigAooooAKKKKACiiigAqnaf8AIQv/APron/otaKKALlFFFABRRRQAUUUUAFFFFABSN0NFFADU6D61z/jieW28E6pLbyvFIqfK6MVI5HcUUUMaPlqUmbVG84mTPXfzVvyoxGpCKDyM4ooqSjT8OTSbJv3j8BsfMeMDivY/D0sh1GzzI3M5z83XMKk/rRRQhM9GTmNc+lLRRVEhRRRQAGqWmf6mb/r5m/8AQzRRQB//2Q==)![Capture.JPG](data:image/jpeg;base64,/9j/4AAQSkZJRgABAQEAYABgAAD/4RDcRXhpZgAATU0AKgAAAAgABAE7AAIAAAAGAAAISodpAAQAAAABAAAIUJydAAEAAAAMAAAQyOocAAcAAAgMAAAAPgAAAAAc6gAAAAgAAAAAAAAAAAAAAAAAAAAAAAAAAAAAAAAAAAAAAAAAAAAAAAAAAAAAAAAAAAAAAAAAAAAAAAAAAAAAAAAAAAAAAAAAAAAAAAAAAAAAAAAAAAAAAAAAAAAAAAAAAAAAAAAAAAAAAAAAAAAAAAAAAAAAAAAAAAAAAAAAAAAAAAAAAAAAAAAAAAAAAAAAAAAAAAAAAAAAAAAAAAAAAAAAAAAAAAAAAAAAAAAAAAAAAAAAAAAAAAAAAAAAAAAAAAAAAAAAAAAAAAAAAAAAAAAAAAAAAAAAAAAAAAAAAAAAAAAAAAAAAAAAAAAAAAAAAAAAAAAAAAAAAAAAAAAAAAAAAAAAAAAAAAAAAAAAAAAAAAAAAAAAAAAAAAAAAAAAAAAAAAAAAAAAAAAAAAAAAAAAAAAAAAAAAAAAAAAAAAAAAAAAAAAAAAAAAAAAAAAAAAAAAAAAAAAAAAAAAAAAAAAAAAAAAAAAAAAAAAAAAAAAAAAAAAAAAAAAAAAAAAAAAAAAAAAAAAAAAAAAAAAAAAAAAAAAAAAAAAAAAAAAAAAAAAAAAAAAAAAAAAAAAAAAAAAAAAAAAAAAAAAAAAAAAAAAAAAAAAAAAAAAAAAAAAAAAAAAAAAAAAAAAAAAAAAAAAAAAAAAAAAAAAAAAAAAAAAAAAAAAAAAAAAAAAAAAAAAAAAAAAAAAAAAAAAAAAAAAAAAAAAAAAAAAAAAAAAAAAAAAAAAAAAAAAAAAAAAAAAAAAAAAAAAAAAAAAAAAAAAAAAAAAAAAAAAAAAAAAAAAAAAAAAAAAAAAAAAAAAAAAAAAAAAAAAAAAAAAAAAAAAAAAAAAAAAAAAAAAAAAAAAAAAAAAAAAAAAAAAAAAAAAAAAAAAAAAAAAAAAAAAAAAAAAAAAAAAAAAAAAAAAAAAAAAAAAAAAAAAAAAAAAAAAAAAAAAAAAAAAAAAAAAAAAAAAAAAAAAAAAAAAAAAAAAAAAAAAAAAAAAAAAAAAAAAAAAAAAAAAAAAAAAAAAAAAAAAAAAAAAAAAAAAAAAAAAAAAAAAAAAAAAAAAAAAAAAAAAAAAAAAAAAAAAAAAAAAAAAAAAAAAAAAAAAAAAAAAAAAAAAAAAAAAAAAAAAAAAAAAAAAAAAAAAAAAAAAAAAAAAAAAAAAAAAAAAAAAAAAAAAAAAAAAAAAAAAAAAAAAAAAAAAAAAAAAAAAAAAAAAAAAAAAAAAAAAAAAAAAAAAAAAAAAAAAAAAAAAAAAAAAAAAAAAAAAAAAAAAAAAAAAAAAAAAAAAAAAAAAAAAAAAAAAAAAAAAAAAAAAAAAAAAAAAAAAAAAAAAAAAAAAAAAAAAAAAAAAAAAAAAAAAAAAAAAAAAAAAAAAAAAAAAAAAAAAAAAAAAAAAAAAAAAAAAAAAAAAAAAAAAAAAAAAAAAAAAAAAAAAAAAAAAAAAAAAAAAAAAAAAAAAAAAAAAAAAAAAAAAAAAAAAAAAAAAAAAAAAAAAAAAAAAAAAAAAAAAAAAAAAAAAAAAAAAAAAAAAAAAAAAAAAAAAAAAAAAAAAAAAAAAAAAAAAAAAAAAAAAAAAAAAAAAAAAAAAAAAAAAAAAAAAAAAAAAAAAAAAAAAAAAAAAAAAAAAAAAAAAAAAAAAAAAAAAAAAAAAAAAAAAAAAAAAAAAAAAAAAAAAAAAAAAAAAAAAAAAAAAAAAAAAAAAAAAAAAAAAAAAAAAAAAAAAAAAAAAAAAAAAAAAAAAAAAAAAAAAAAAAAAAAAAAAAAAAAAAAAAAAAAAAAAAAAAAAAAAAAAAAAAAAAAAAAAAAAAAAAAAAAAAAAAAAAAAAAAAAAAAAAAAAAAAAAAAAAAAAAAAAAAAAAAAAAAAAAAAAAAAAAAAAAAAAAAAAAAAAAAAAAAAAAAAAAAAAAAAAAAAAAAAAAAAAAAAAAAAAAAAAAAAAAAAAAAAAAAAAAAAAAAAAAAAAAAAAAAAAAAAAAAAAAAAAAAAAAAAAAAAAAAAAAAAAAAAAAAAAAAAAAAAAAAAAAAAAAAAAAAAAAAAAAAAAAAAAAAAAAAAAAAAAAAAAAAAAAAAAAAAAAAAAAAAAAAAAAAAAAAAAAAAAAAAAAAAAAAAAAAAAAAAAAAAAAAAAAAAAAAAAAAAAAAAAAAAAAAAAAAAAAAAAAAAAAAAAAAAAAAAAAAAAAAAAAAAAAAAAAAAAAAAAAAAAAAAAAAAAAAAAAAAAAAAAAAAAAAAAAAAAAAAAAAAAAAAAAAAAAAAAAAAAAAAAAAAAAAAAAAAAAAAAAAAAAAAAAAAAAAAAAAAAAAAAAAAAAAAAAAAAAAAAAAAAAAAAAAAAAAAAAAAAAAAAAAAAAAAAAAAAAAAAAAAAAAAAAAAAAAAAAAAAAAAAAAAAAAAAAAAAAAAAAAAAAAAAAAAAAAAAAAAAAAAAAAAAAAAAAAAAAAAAAAAAAAAAAAAAAAAAAAAAAAAAAAAAAAAAAAAAAAAAAAAAAAAAAAAAAAAAAAAAAAAAAAAAAAAAAAAAAAAAAAAAAAAAAAAAAAAAAAAAAAAAAAAAAAAAAAAAAAAAAAAAAAAAAAAAAAAAAAAAAAAAAAAAAAAAAAAAAAAAAAAAAAAAAAAAAAAAAAAAAAAAAAAAAAAAAAAAAAAAAAAAAAAAAAAAAAAAAAAAAAAAAAAAAAAAAAAAAAAAAAAAAAAAAAAAAAAAAAAAAAAAAAAAAAAAAAAAAAAAAAAAAAAAAAAAAAAAAAAAAAAAAAAAAAAAAAEFkbWluAAAFkAMAAgAAABQAABCekAQAAgAAABQAABCykpEAAgAAAAMwMgAAkpIAAgAAAAMwMgAA6hwABwAACAwAAAiSAAAAABzqAAAACAAAAAAAAAAAAAAAAAAAAAAAAAAAAAAAAAAAAAAAAAAAAAAAAAAAAAAAAAAAAAAAAAAAAAAAAAAAAAAAAAAAAAAAAAAAAAAAAAAAAAAAAAAAAAAAAAAAAAAAAAAAAAAAAAAAAAAAAAAAAAAAAAAAAAAAAAAAAAAAAAAAAAAAAAAAAAAAAAAAAAAAAAAAAAAAAAAAAAAAAAAAAAAAAAAAAAAAAAAAAAAAAAAAAAAAAAAAAAAAAAAAAAAAAAAAAAAAAAAAAAAAAAAAAAAAAAAAAAAAAAAAAAAAAAAAAAAAAAAAAAAAAAAAAAAAAAAAAAAAAAAAAAAAAAAAAAAAAAAAAAAAAAAAAAAAAAAAAAAAAAAAAAAAAAAAAAAAAAAAAAAAAAAAAAAAAAAAAAAAAAAAAAAAAAAAAAAAAAAAAAAAAAAAAAAAAAAAAAAAAAAAAAAAAAAAAAAAAAAAAAAAAAAAAAAAAAAAAAAAAAAAAAAAAAAAAAAAAAAAAAAAAAAAAAAAAAAAAAAAAAAAAAAAAAAAAAAAAAAAAAAAAAAAAAAAAAAAAAAAAAAAAAAAAAAAAAAAAAAAAAAAAAAAAAAAAAAAAAAAAAAAAAAAAAAAAAAAAAAAAAAAAAAAAAAAAAAAAAAAAAAAAAAAAAAAAAAAAAAAAAAAAAAAAAAAAAAAAAAAAAAAAAAAAAAAAAAAAAAAAAAAAAAAAAAAAAAAAAAAAAAAAAAAAAAAAAAAAAAAAAAAAAAAAAAAAAAAAAAAAAAAAAAAAAAAAAAAAAAAAAAAAAAAAAAAAAAAAAAAAAAAAAAAAAAAAAAAAAAAAAAAAAAAAAAAAAAAAAAAAAAAAAAAAAAAAAAAAAAAAAAAAAAAAAAAAAAAAAAAAAAAAAAAAAAAAAAAAAAAAAAAAAAAAAAAAAAAAAAAAAAAAAAAAAAAAAAAAAAAAAAAAAAAAAAAAAAAAAAAAAAAAAAAAAAAAAAAAAAAAAAAAAAAAAAAAAAAAAAAAAAAAAAAAAAAAAAAAAAAAAAAAAAAAAAAAAAAAAAAAAAAAAAAAAAAAAAAAAAAAAAAAAAAAAAAAAAAAAAAAAAAAAAAAAAAAAAAAAAAAAAAAAAAAAAAAAAAAAAAAAAAAAAAAAAAAAAAAAAAAAAAAAAAAAAAAAAAAAAAAAAAAAAAAAAAAAAAAAAAAAAAAAAAAAAAAAAAAAAAAAAAAAAAAAAAAAAAAAAAAAAAAAAAAAAAAAAAAAAAAAAAAAAAAAAAAAAAAAAAAAAAAAAAAAAAAAAAAAAAAAAAAAAAAAAAAAAAAAAAAAAAAAAAAAAAAAAAAAAAAAAAAAAAAAAAAAAAAAAAAAAAAAAAAAAAAAAAAAAAAAAAAAAAAAAAAAAAAAAAAAAAAAAAAAAAAAAAAAAAAAAAAAAAAAAAAAAAAAAAAAAAAAAAAAAAAAAAAAAAAAAAAAAAAAAAAAAAAAAAAAAAAAAAAAAAAAAAAAAAAAAAAAAAAAAAAAAAAAAAAAAAAAAAAAAAAAAAAAAAAAAAAAAAAAAAAAAAAAAAAAAAAAAAAAAAAAAAAAAAAAAAAAAAAAAAAAAAAAAAAAAAAAAAAAAAAAAAAAAAAAAAAAAAAAAAAAAAAAAAAAAAAAAAAAAAAAAAAAAAAAAAAAAAAAAAAAAAAAAAAAAAAAAAAAAAAAAAAAAAAAAAAAAAAAAAAAAAAAAAAAAAAAAAAAAAAAAAAAAAAAAAAAAAAAAAAAAAAAAAAAAAAAAAAAAAAAAAAAAAAAAAAAAAAAAAAAAAAAAAAAAAAAAAAAAAAAAAAAAAAAAAAAAAAAAAAAAAAAAAAAAAAAAAAAAAAAAAAAAAAAAAAAAAAAAAAAAAAAAAAAAAAAAAAAAAAAAAAAAAAAAAAAAAAAAAAAAAAAAAAAAAAAAAAAAAAAAAAAAAAAAAAAAAAAAAAAAAAAAAAAAAAAAAAAAAAAAAAAAAAAAAAAAAAAAAAAAAAAAAAAAAAAAAAAAAAAAAAAAAAAAAAAAAAAAAAAAAAAAAAAAAAAAAAAAAAAAAAAAAAAAAAAAAAAAAAAAAAAAAAAAAAAAAAAAAAAAAAAAAAAAAAAAAAAAAAAAAAAAAAAAAAAAAAAAAAAAAAAAAAAAAAAAAAAAAAAAAAAAAAAAAAAAAAAAAAAAAAAAAAAAAAAAAAAAAAAAAAAAAAAAAAAAAAAAAAAAAAAAAAAAAAAAAAAAAAAAAAAAAAAAAAAAAAAAAAAAAAAAAAAAAAAAAAAAAAAAAAAAAAAAAAAAAAAAAAAAAAAAAAAAAAAAAAAAAAAAAAAAAAAAAAAAAAAAAAAAAAAAAAAAAAAAAAAAAAAAAAAAAAAAAAAAAAAAAAAAAAAAAAAAAAAAAAAAAAAAAAAAAAAAAAAAAAAAAAAAAAAAAAAAAAAAAAAAAAAAAAAAAAAAAAAAAAAAAAAAAAAAAAAAAAAAAAAAAAAAAAAAAAAAAAAAAAAAAAAAAAAAAAAAAAAAAAAAAAAAAAAAAAAAAAAAAAAAAAAAAAAAAAAAAAAAAAAAAAAAAAAAAAAAAAAAAAAAAAAAAAAAAAAAAAAAAAAAAAAAAAAAAAAAAAAAAAAAAAAAAAAAAAAAAAAAAAAAAAAAAAAAAAAAAAAAAAAAAAAAAAAAAAAAAAAAAAAAAAAAAAAAAAAAAAAAAAAAAAAAAAAAAAAAAAAAAAAAAAAAAAAAAAAAAAAAAAAAAAAAAAAAAAAAAAAAAAAAAAAAAAAAAMjAyMjoxMjowNCAxNDoyODo0NQAyMDIyOjEyOjA0IDE0OjI4OjQ1AAAAQQBkAG0AaQBuAAAA/+ELGGh0dHA6Ly9ucy5hZG9iZS5jb20veGFwLzEuMC8APD94cGFja2V0IGJlZ2luPSfvu78nIGlkPSdXNU0wTXBDZWhpSHpyZVN6TlRjemtjOWQnPz4NCjx4OnhtcG1ldGEgeG1sbnM6eD0iYWRvYmU6bnM6bWV0YS8iPjxyZGY6UkRGIHhtbG5zOnJkZj0iaHR0cDovL3d3dy53My5vcmcvMTk5OS8wMi8yMi1yZGYtc3ludGF4LW5zIyI+PHJkZjpEZXNjcmlwdGlvbiByZGY6YWJvdXQ9InV1aWQ6ZmFmNWJkZDUtYmEzZC0xMWRhLWFkMzEtZDMzZDc1MTgyZjFiIiB4bWxuczpkYz0iaHR0cDovL3B1cmwub3JnL2RjL2VsZW1lbnRzLzEuMS8iLz48cmRmOkRlc2NyaXB0aW9uIHJkZjphYm91dD0idXVpZDpmYWY1YmRkNS1iYTNkLTExZGEtYWQzMS1kMzNkNzUxODJmMWIiIHhtbG5zOnhtcD0iaHR0cDovL25zLmFkb2JlLmNvbS94YXAvMS4wLyI+PHhtcDpDcmVhdGVEYXRlPjIwMjItMTItMDRUMTQ6Mjg6NDUuMDE3PC94bXA6Q3JlYXRlRGF0ZT48L3JkZjpEZXNjcmlwdGlvbj48cmRmOkRlc2NyaXB0aW9uIHJkZjphYm91dD0idXVpZDpmYWY1YmRkNS1iYTNkLTExZGEtYWQzMS1kMzNkNzUxODJmMWIiIHhtbG5zOmRjPSJodHRwOi8vcHVybC5vcmcvZGMvZWxlbWVudHMvMS4xLyI+PGRjOmNyZWF0b3I+PHJkZjpTZXEgeG1sbnM6cmRmPSJodHRwOi8vd3d3LnczLm9yZy8xOTk5LzAyLzIyLXJkZi1zeW50YXgtbnMjIj48cmRmOmxpPkFkbWluPC9yZGY6bGk+PC9yZGY6U2VxPg0KCQkJPC9kYzpjcmVhdG9yPjwvcmRmOkRlc2NyaXB0aW9uPjwvcmRmOlJERj48L3g6eG1wbWV0YT4NCiAgICAgICAgICAgICAgICAgICAgICAgICAgICAgICAgICAgICAgICAgICAgICAgICAgICAgICAgICAgICAgICAgICAgICAgICAgICAgICAgICAgICAgICAgICAgICAgICAgICAKICAgICAgICAgICAgICAgICAgICAgICAgICAgICAgICAgICAgICAgICAgICAgICAgICAgICAgICAgICAgICAgICAgICAgICAgICAgICAgICAgICAgICAgICAgICAgICAgICAgIAogICAgICAgICAgICAgICAgICAgICAgICAgICAgICAgICAgICAgICAgICAgICAgICAgICAgICAgICAgICAgICAgICAgICAgICAgICAgICAgICAgICAgICAgICAgICAgICAgICAgCiAgICAgICAgICAgICAgICAgICAgICAgICAgICAgICAgICAgICAgICAgICAgICAgICAgICAgICAgICAgICAgICAgICAgICAgICAgICAgICAgICAgICAgICAgICAgICAgICAgICAKICAgICAgICAgICAgICAgICAgICAgICAgICAgICAgICAgICAgICAgICAgICAgICAgICAgICAgICAgICAgICAgICAgICAgICAgICAgICAgICAgICAgICAgICAgICAgICAgICAgIAogICAgICAgICAgICAgICAgICAgICAgICAgICAgICAgICAgICAgICAgICAgICAgICAgICAgICAgICAgICAgICAgICAgICAgICAgICAgICAgICAgICAgICAgICAgICAgICAgICAgCiAgICAgICAgICAgICAgICAgICAgICAgICAgICAgICAgICAgICAgICAgICAgICAgICAgICAgICAgICAgICAgICAgICAgICAgICAgICAgICAgICAgICAgICAgICAgICAgICAgICAKICAgICAgICAgICAgICAgICAgICAgICAgICAgICAgICAgICAgICAgICAgICAgICAgICAgICAgICAgICAgICAgICAgICAgICAgICAgICAgICAgICAgICAgICAgICAgICAgICAgIAogICAgICAgICAgICAgICAgICAgICAgICAgICAgICAgICAgICAgICAgICAgICAgICAgICAgICAgICAgICAgICAgICAgICAgICAgICAgICAgICAgICAgICAgICAgICAgICAgICAgCiAgICAgICAgICAgICAgICAgICAgICAgICAgICAgICAgICAgICAgICAgICAgICAgICAgICAgICAgICAgICAgICAgICAgICAgICAgICAgICAgICAgICAgICAgICAgICAgICAgICAKICAgICAgICAgICAgICAgICAgICAgICAgICAgICAgICAgICAgICAgICAgICAgICAgICAgICAgICAgICAgICAgICAgICAgICAgICAgICAgICAgICAgICAgICAgICAgICAgICAgIAogICAgICAgICAgICAgICAgICAgICAgICAgICAgICAgICAgICAgICAgICAgICAgICAgICAgICAgICAgICAgICAgICAgICAgICAgICAgICAgICAgICAgICAgICAgICAgICAgICAgCiAgICAgICAgICAgICAgICAgICAgICAgICAgICAgICAgICAgICAgICAgICAgICAgICAgICAgICAgICAgICAgICAgICAgICAgICAgICAgICAgICAgICAgICAgICAgICAgICAgICAKICAgICAgICAgICAgICAgICAgICAgICAgICAgICAgICAgICAgICAgICAgICAgICAgICAgICAgICAgICAgICAgICAgICAgICAgICAgICAgICAgICAgICAgICAgICAgICAgICAgIAogICAgICAgICAgICAgICAgICAgICAgICAgICAgICAgICAgICAgICAgICAgICAgICAgICAgICAgICAgICAgICAgICAgICAgICAgICAgICAgICAgICAgICAgICAgICAgICAgICAgCiAgICAgICAgICAgICAgICAgICAgICAgICAgICAgICAgICAgICAgICAgICAgICAgICAgICAgICAgICAgICAgICAgICAgICAgICAgICAgICAgICAgICAgICAgICAgICAgICAgICAKICAgICAgICAgICAgICAgICAgICAgICAgICAgICAgICAgICAgICAgICAgICAgICAgICAgICAgICAgICAgICAgICAgICAgICAgICAgICAgICAgICAgICAgICAgICAgICAgICAgIAogICAgICAgICAgICAgICAgICAgICAgICAgICAgICAgICAgICAgICAgICAgICAgICAgICAgICAgICAgICAgICAgICAgICAgICAgICAgICAgICAgICAgICAgICAgICAgICAgICAgCiAgICAgICAgICAgICAgICAgICAgICAgICAgICAgICAgICAgICAgICAgICAgICAgICAgICAgICAgICAgICAgICAgICAgICAgICAgICAgICAgICAgICAgICAgICAgICAgICAgICAKICAgICAgICAgICAgICAgICAgICAgICAgICAgICAgICAgICAgICAgICAgICAgICAgICAgICAgICAgICAgICAgICAgICAgICAgICAgICAgICAgICAgICAgICAgICAgICAgICAgIAogICAgICAgICAgICAgICAgICAgICAgICAgICAgPD94cGFja2V0IGVuZD0ndyc/Pv/bAEMABwUFBgUEBwYFBggHBwgKEQsKCQkKFQ8QDBEYFRoZGBUYFxseJyEbHSUdFxgiLiIlKCkrLCsaIC8zLyoyJyorKv/bAEMBBwgICgkKFAsLFCocGBwqKioqKioqKioqKioqKioqKioqKioqKioqKioqKioqKioqKioqKioqKioqKioqKioqKv/AABEIAKwBtAMBIgACEQEDEQH/xAAfAAABBQEBAQEBAQAAAAAAAAAAAQIDBAUGBwgJCgv/xAC1EAACAQMDAgQDBQUEBAAAAX0BAgMABBEFEiExQQYTUWEHInEUMoGRoQgjQrHBFVLR8CQzYnKCCQoWFxgZGiUmJygpKjQ1Njc4OTpDREVGR0hJSlNUVVZXWFlaY2RlZmdoaWpzdHV2d3h5eoOEhYaHiImKkpOUlZaXmJmaoqOkpaanqKmqsrO0tba3uLm6wsPExcbHyMnK0tPU1dbX2Nna4eLj5OXm5+jp6vHy8/T19vf4+fr/xAAfAQADAQEBAQEBAQEBAAAAAAAAAQIDBAUGBwgJCgv/xAC1EQACAQIEBAMEBwUEBAABAncAAQIDEQQFITEGEkFRB2FxEyIygQgUQpGhscEJIzNS8BVictEKFiQ04SXxFxgZGiYnKCkqNTY3ODk6Q0RFRkdISUpTVFVWV1hZWmNkZWZnaGlqc3R1dnd4eXqCg4SFhoeIiYqSk5SVlpeYmZqio6Slpqeoqaqys7S1tre4ubrCw8TFxsfIycrS09TV1tfY2dri4+Tl5ufo6ery8/T19vf4+fr/2gAMAwEAAhEDEQA/APQv2f4Yn+C2jl4kY7puSoP/AC0avSfs1v8A88Iv++BXnH7PoP8AwpXR/wDem/8ARjV6Xg0AR/Zrf/nhF/3wKPs1v/zwi/74FSYNGDQBH9mt/wDnhF/3wKPs1v8A88Iv++BUmDRg0AR/Zrf/AJ4Rf98Cl+zQf88I/wDvgU/BowaAGfZ4P+eMf/fAo+zwf88Y/wDvgU/BowaAGfZ4P+eMf/fAo+zwf88Y/wDvgU/BowaAGfZ4P+eMf/fAo+zwf88Y/wDvgU/BowaAGfZ4P+eMf/fAo+zwf88Y/wDvgU/BowaAGfZ4P+eMf/fAo+zwf88Y/wDvgU/BowaAGfZ4P+eMf/fAo+zwf88Y/wDvgU/BowaAGfZ4P+eMf/fAo+zwf88Y/wDvgU/BowaAGfZ4P+eMf/fAo+zwf88Y/wDvgU/BowaAGfZ4P+eMf/fAo+zwf88Y/wDvgU/BowaAGfZ4P+eMf/fApPs0H/PCP/vgVJg0YNAEf2a3/wCeEX/fAo+zW/8Azwi/74FSYNGDQBH9mt/+eEX/AHwKPs1v/wA8Iv8AvgVJg0YNAEf2a3/54Rf98Cj7Nb/88Iv++BUmDRg0AR/Zrf8A54Rf98Cj7Nb/APPCL/vgVJg0YNAEf2a3/wCeEX/fAo+zW/8Azwi/74FSYNGDQBH9mt/+eEX/AHwKPs1v/wA8Iv8AvgVJg0YNAEf2a3/54Rf98Cj7Nb/88Iv++BUmDTZnEMDyv91FLH6AZoAb9mt/+eEX/fAo+zW//PCL/vgVxfgX4oab441G8sbe3ktLi2+ZUlI/epnG4YruMEelAEf2a3/54Rf98Cj7Nb/88Iv++BXNeC/HFv40k1MWlpLbrp9wYC0hGH9xiupwaAI/s1v/AM8Iv++BR9mg/wCeEX/fAqTBowaAGfZoP+eMf/fAo+zwf88Y/wDvgU/BowaAGfZ4P+eMf/fAo+zwf88Y/wDvgU/BowaAGfZ4P+eMf/fAo+zwf88Y/wDvgU/BowaAGfZ4P+eMf/fAop+DRQB5t+z5/wAkV0f/AHpv/RjV6XXmn7Pn/JFdH/3pv/RjV6XQAUUUUAFFFFABRRRQAUUUUAFFFFABRRRQAUUUUAFFFFABRRRQAUUUUAFFFFABRRRQAUUUUAFFFFABRRRQAUUUUAFFFFABRRRQAUUUx5o43RHdVZzhQTyaAH1meJbgWnhXVJyceXaSn/x01p1ynxPuvsfwy1yXOD9mKj8SB/WgDwLSNNv/AAt4T0L4haTvZo7qRLtB0KbsD8COPrivpG31y21Twj/bNk4aCW1aZSD0+XNcx8O9Btr34Labpd/GHgvLT94pH97nP17155oGsXfgS18VeBtYc7Y7aaWwkY8MCOg+oOfzoA6z4AQn/hDtQu2HzXOoSNn1xxXqteffBC2Fv8K9ObGDM0kh/FjXoNABRTFmjaVo1dS6/eUHkU+gAooooAKKKKACiiigAooFFAHmn7Pn/JFdH/3pv/RjV6XXmn7Pn/JFdH/3pv8A0Y1el0AFFFFABRRRQAUVx/hLx9H4m8Ta1oklk9nc6VJt+ZgfMXONw/T86r+J/iZZeGfG2l+Hp7ZpTe7fMmDACEMcDIoA7iisDxr4rg8GeF7jWLiFp/KIVIlOC7E4ArS0a/fVNEs7+WBrdrmFZTExyUyM4oAu0UUUAFFFFABRRRQAUUUUAFMimimUtDIsgBwSrZwfSsPxnrd5oHhya80/S59Tl+55UHVQf4voK8s+DHivUoLddLj0G8ura7v5Hk1BTmOIsckH6UAej+PfHdv4H063ke1kvLu7l8q3t4zgu3+FWvB+uavrunyza7oUujTI+1YpG3bxjqK8o+MuuXh8caJAdIuAmn3IkglPS7P91PevWvCOv3viLS3utS0a50iRZCghuPvMPWgDeooooAKKKKACiiqV/qtvpskC3ZZEmbYJMfKp9z2oAu0UA5GR0qk2rWw1ZdOQtJcFS7BBkIPc9qALtcjf+OlsviXY+E/sTObqAy/aN/C+2K66vIde/wCTl9E/68z/ACoA9eoqnq+rWeh6VPqOpzLDbW67nc9q83X4warfRte6J4K1O80xckXOMbgO4FAHqlFc74N8a6Z420trvTC6SRNsnt5Rh4m9CK57xr47udI8X6ZpegFb27QPJe6eqEtJGV+XaexzQB6HRXkF/wDGzVdIuIbfVvBd7azztiJHcDeewHvXpPhrV7rXNBgv77TZtMnkzutp/vJzQBqu6xxs7nCqMk+grkvDok8Q65ca7dZMELGKzjPRQOrfWtTxddNZ+FL+VDhvL2gj34p3hS1W08L2Ma94gx+p5oA2K4/4p6HqniPwBeaZocay3UzJ8rOFBUHJ5rsKKAMvw1pz6R4X07T5gBJbW6RsAeMgc1w/xg+HVz4vsba/0ONDqlsdhUsF82M9s+xr0yigDB8D6NN4f8E6Xpl2FWe3gVZApyA3fmt6iigDkvFkcujX1v4jsQcxsI7tB0kjPc/Supt50ubeOaI7kkUMpHcGqmuWy3eg3sD8hoW/QZrM8CXJuPCNrvOWjzH+RxQB0VFFFABRRRQAUUUUAAooFFAHmn7Pn/JFdH/3pv8A0Y1el15p+z5/yRXR/wDem/8ARjV6XQAUUUUAFFFFAHj96n/CLftIWdyPlt9etvLbsC/T+YWuL8YWUvijUvGviiHcf7FniityD/cPzfyNeifG3RL+70nS9Z0WCSa/0y6DKIlywU9/zxU3w78Jyj4TXdrq0DR3esGaa4SRcNl8gZH+etAHOfEDV/8AhM7XwJo1s2/+15Y7mYD0UAHP4k/lXtccaxRJHGMIihVHoBXgnwd8Na0/jaOfX7SeGHQ7V4LYzIQCSx6evUmvZ/Er6jBo73OkOBPARIUIz5ijqv5U0ruwpPlVzWormtD1m78R3y3trmDS4kwQw5mkI5+gFdLQ007MmElNXQUVm+IZbq30C6m099lxEm9TjPSsy41ye+j0i30qQCe+CyyPjOyMDLH+lNRbVxSqJOzOlPTjrWK1prxdiuqWwXJwPI6D862iMjFYz+FtPd2Ytc5YknE7VJoN+x+IP+grbf8AgP8A/XrTsUuY7ULfTJNNk5dF2g/hWb/wimnf3rr/AMCGrSsrKKwtRBAXKA5G9ix/M0AJqX/ILu/+uL/+gmvOPgGf+KBuP+v+X+lel3URns5oVODJGyg/UYrxz4b6rq3gW5l8Kar4c1CVpr5mju4UzHtY/eJ9KALfxm/5GrwZ/wBf1eu15Z8W9Kv9Q8T+EZLGzmuEhvcyNGuQg9T6V6dcpLJaypBJ5crKQj4ztPrQBLRXF6fr+r6o0ejxDytRt5MXtwV+VUB6j3NdmowoBOeOtVKLjuZwqKavEWikYEoQpwccH0rkrXxLcQ+G717xhJf21w1uoxjcxPy8Ukmxymo7nXVDdWsN7avb3UYkikGGU0zTluU06Bb5/MuNg8xgMZbvVbWbm+iijg0uDfcTnaJG+7EO7GkWjm7jVr3w/cHQ4Z0n34EFzI3/AB7g9n/pXS6PpEOlWxCMZZpTumnblpG9fpUdl4es7bTZbWdftLXHNxLJy0h9ar6Wl/pN+NNnV7myYE29x1KD+439DQBu15Drv/Jy+if9eZ/lXr1eSfEOy1XQ/ifpHjGy0ufUrOCExTx24y6/hQBL8fZn/wCEV0yzBIhur9Elx3H+TXpmmW0VppNrb26BIo4VVVUYAGK4bxTpc3xS+GYktbOfTb4P51tFdjaysp6H61j6f8UPEOj6VHp2t+DNTl1S3QR7oVzHIQMA5oAj8JRrpn7Q3iOzs8Jb3FuJXReBu6/1qlqmoJ8Ovjde674ghkbTdVi2w3KLu2H0xXQfDHwvrK63qvi7xVD9m1DUziO37xJ71yXju4v3+Mkdx4dji8RzxQhG05lLpbEDnPYH3oAl8e+KLP4oXWj6H4OguLuWO7WaS6MJVYVHua9wgjMVtHGx3FECk+uBXj9v8WL3w1MF8T+B5dIgJAee2QbR79K9b07ULbVdNgvrGQS29wgkjcdwaAMnxvC03g++CjJVQ361c8OSibw3YOpyDAv8qu3dsl5ZzW8v3JUKn8a5rwTcNaxXOh3Xy3FjIQoP8SE8GgDSk8NRSSs5v78FjnCz4A/Sm/8ACLw/9BDUP/Aj/wCtW3RQBif8IvD/ANBDUP8AwI/+tR/wi8P/AEENQ/8AAj/61bZ4rjvAHjebxp/azvZLbRWN2YI2V8+YB3PpQBrf8IvD/wBBDUP/AAI/+tSr4ZhVgf7Q1A4OcGf/AOtXIeIfiVq6+L7nw74M0H+1ruyQNcu8mxVPoK9A06a5uNMt5r+AW1y8YaWENnY2ORmgBupusOj3bseFgfn/AICaw/h7GU8IwMf43dh9M0vje+dNJXTLT5rvUHESKOoXua29KsV03Srazj6QxhfrQBbooooAKKKKACiiigAFFAooA80/Z8/5Iro/+9N/6MavS680/Z8/5Iro/wDvTf8Aoxq9LoAKKKKACiiigAooooAKx9esr/VBDY2riG0lP+kzBsNt/uj61sUU07O5MoqSszn9C0e50PVLu3twp0qUCSEbuYn7jHpUus6xdWesaVp+nwCaS7mPnEg4jiAyzfyrbpNq7t20bsYzjmhtt3YRioKyI7ny/skvnECPYdxPpiuT+H+ltFZS6jKxcSs0dqW/hhDHH511d5aRX1pJbXAJikXawBxkU+CGO2gSGFQkcahVUdgKalaLREqfNNSfQfRRRUmoUUUUAFFFFABVPVTfDTpBpaK1ywwm84C57/hVyigTV1Y5O28MXejalZXunS+fK2Vv/MbHm553fUGtjxJqr6NoNxeQR+bOoCwx4J3uTgDitSkZVbG5QcHIyKpyb3JhBQVkRWbTvYwPdqqTtGpkVegbHIrj7LS0vviFfTxsXs7ZlkdP4TPjH6Cu27VVsNNttNjdLSPYJHMjnOSzHqaFK1xThztX6FqiiipNAooooAKKKKACiiigArxXS9M8afDfxJrEun+H112x1CczCaJ8SDnv/hXtVFAHjviG+8e/EHSpNCh8KjR7S5IWe5vHBwuewr03wzoaeG/DNjpETmRbSER7z/ER1NatFABWfPotrPrEGp/NHcwgruQ43j0PrWhRQAVy/jbx3p/gqzhNzHJdXt0222tIRl5T/hXUV4/YbfEH7Sd+b4eYmkWu23RuQp45/nQBcl+I/jC2sZbvWPAtzb2BjJMsUm54xjglfSq3wXe6svhhqepWVobu5lupZYoQcGUjgDNd549vV07wBrVyzBdto6gk9yMD+dYPwei+wfCPTpGGCY3mP4kmgDzn4f8AiHxI3jzX9T07w017Nf3SpdL5uBac8gnvjP6V9CKSVG4YOORXlPwGTzdH13UD1udSc59gK9XoAzxott/bbapJukuCgRN5yIx/sjtmtCiigAooooAKKKKACiiigAFFAooA80/Z8/5Iro/+9N/6MavS680/Z8/5Iro/+9N/6MavS6ACiiigAooooAKKKKACiiigAooooAKKKKACiiigAooooAKKKKACiiigAooooAKKKKACiiigAooooAKKKKACiiigAooooAKKKKACiiigAryfxVoHiHwt8SG8Z+FdP/tOC6i8u8tVOG+o/KvWKKAPGPE8Pjb4m6BdQf2NJothbx+YsErfvLuQdF9h1rf8BXGsn4ZXGmXmhXFhNY2bQQiQjNw2w8gfWvSKKAOB+Deh3ug/D+KHVLZ7W6lnkleKQfMMtxn8Kfq+oX+i+JZtNsbkP/auDCZGz9mY8E/T0Fd024o2zAbHGfWuZfwclxpl0t5cGXUbl/MN3jlGB+Xb6AelXBpPUwrRlJLlN3TbIafp8VsJHlKDl3OSx7mrVQ2kc0VnFHcyCWVVAdwMbj61NUGy2CiiigYUUUUAFFFFAAKKBRQB5p+z5/yRXR/96b/0Y1el15p+z5/yRXR/96b/ANGNXpdABRRRQAUUUUAFFFFABRRRQAUUUUAFFFFABRRRQAUUUUAFFFFABRRRQAUUUUAFFHSgEEZByKACiiigAooooAKKKKACiiigAooooAKKKKACiiigAooooAKKKKACiiigAooooAKKKKACiiigAooooABRQKKAPNP2fP8Akiuj/wC9N/6MavS68y/Z9bHwV0f/AHpv/RjV6XuoAdRTd1G6gB1FN3UbqAMWfxTaQXEkLJIWjYqcDvTD4usx1il/KrOq2Vr/AGfcy+RH5mwndjnNZPhW2t7mG4M8SyEMANwzjivEqVMZHEKipLXyO2MaLpubT0Na58QW1tb28zJIROu5QB0qsPF1nnHly/lVHxYFjktEjUKqq2AO3SpoNW0NY40eAbwACfL71MsVX9vKlzqNrb9RxpQ9mpcrdzplYOgYdCMiqmpalHpluJZlZgWwAtWVcbRjpjisLxa3/Esj/wCugr0sVVlSoSnHdHNSip1FFmi2rwLpI1Aq3lkdMc9cVn/8JdZ94pfyqq7f8UMv0/8AZql8N2ltcaUWnhR23kZIrgeIxNSrGnTaV43OhU6cYOUl1sa2n6vaajxA/wA46owwaj1LW4NMlSOZHYuMjaK5rUIho/iCNrXKrkMAO3qKn8VOG1C2J6bM/rUTx9aNCd7KcXbyHGhBzXZmivi2yZgvlyDJx0rfByAa5qHVdDLRoLcb+AD5feujDcV34OpOpFuU1L0MK0Yxeia9R1FN3Ubq7jAdRTd1G6gB1FN3UbqAPNdb1LXrnw74ojmnt9sN8sEO0sCqEjIz+Neh6dAbbTbeEqiFIwpWPO0cds81kT+E7CeTUd8k/lag6yTQ7/lDgg7h6ZwKu3tzdxX1tFaqTC3Erbc7R2NAm7GnVTUtRi0y18+dWZdwGFxn9SKq6hqciWolsQXZZvKKlfvHpxVx4EuLdY7yNJuASGGRmgL62K1tqyalpdxcWaspRWA346gexNc54e1bUYNO0y2MCTT3aPPNK8pO1Q3J+vtXWx2tvDA8MMSRo4O4IMZzVS10Wzs5LZ4VbNrE0UeWz8pOTQMwbfx2JZGle1zaskjRlCSy7P73GBmrQ8T30Ecv26xiR1gSdNkmQQzBcfUZq5b+GrG2MqRtMbeVWBtjJ+7G7rgVUh8Kxx31wss0s1nNarBiSUllw2Rg9gOKAHan4rOnyXUQt1LxSxQxlmOGZ1zk+wqGLxVfXUdtHa2MbXM0ksZLsVT5ADuGRkg5q4PCun/Z5Y3a4keV0kaZ5SXDKMKwPYirUOj28TWzvJNNJbFyjyPkncOc0AZ9r4kvNTktodOso/NaATT+a+Ag3bcDHU8GpbfxI82pJp5tgLsXLxSIG+4ijO/8cin/APCM2SGFraS4tpIU2B4pSCy5ztPqM0tlo/k+KL3VpVTdJEkMWDk7QOSffNAEOq+I7qzvLtbSzSaCwRXuWZ8HB5wo9hzUeizXV54q1SebBt1WIQjeflBUHp071c1Dw7Y6ldvPMZkMqhZ0jkKrMB0DDvV22sLe0uLiaBSrXG3fzxwMDH4UAU7TW5brWZtOFuBJbsfObdwE/hI9z6VQv9ffTtUv1t7YyyrLBEA0mFJcdfbFa1tpFpaXKXEIYSqG3Pu5fPJ3etR3GhWN1dS3EqsZJZI5Gw3dPu03boTHmt7w3TNXuLyyvTPbql1ZyPGyI2VYgZGDUmmax/acwEMf7tYlaRs/dY/w/lU0FlFZfantV/eXDmVtzcFiKi0XTl0rTlhwvmMxeQr0LE5NGlgfNzK2xpUU3dRupFDqKbuo3UAOopu6jdQA6im7qN1ADqKbuo3UAOopu6jdQA4UU0NRQB5f8AGx8F9I/wB6X/0Y1elb68w+AbY+DWkf70v/AKMavSN9AE++jfUG+jfQBPvo31Bvo30ARaq3/Epuf+uZ/lWP4Pb/AEe4/wB4fyramRZ4Hik5Vxg1XsLCDTUZbfPznJyc1w1KE5YqNVbJG8aiVJw7mR4ub9/a/Rv6Vq2+j6e1vE5tULFQScd8UX+m22pNGbkEmPpg4q4mERVXgKMCohhP9onUmk07WHKr+7jGPQzr7R5ru7aWO9eJSAAg7VR123ez0GGGSVpSsn3mroN9Vb6yh1CERXGSoORg4or4KMoT9nvIUKzUlzbIyWb/AIodfp/WneHtVtLPTDHcTrG+8nBrSOnW500WWD5IHTPNU/8AhG9P/uv/AN9GsHhsRCrGpTtpG2pqqlOUXGV97mTeXH9t6/GLYEpkAE+g6mrHikj+0bYdtmP1rcs7C1sAfs0YUnqe5qO+0u2v5kkuAxZOmDiolgKkqMk3eUndjWIipq2yJIdI08Kji2TdgHOO9aG6oAQqgDoBil3169OnCmrRVjklJyepPvo31Bvo31oST76N9Qb6N9AE++jfUG+jfQBS1bxDaaU0KOyyyyzpD5SuNy7jjJHXFR6R4ij1jUNQt7eLEdlL5Rl8wHew6/KOQPeuBexkS68ifSriXVF1hZ3uxHkGLdwQ3pjjFdR4XtY9KfWZ7i3W182/dg5XG9eMH6UAdYdpxkA4OR7Uu/FY+qi7vdPU6VLhywO4OVyPrUNnBqEWiXUV85knZH2YkLHpxzQBuCdDnDqdvXB6UplUZyw46815+dHurfT1FnayLJJp4EwU8s4cHB98Ut3DearJdSpZ3SQyyWwCyDaWC/e4z0oA74XEbY2yKdwyMMOarabq1vqlqJ7ZvlJI2t1GDjpXIRaI1teyS29o0bR6mpiYH7sWOce1UtP067RoIrOwmtb5PPM07DCsrZ2jOecnFAHoonRs7XU7Tg4PSlEqsu5WBX1B4rzOz0u9bS7tRHcpP9mEcsQi2CRtwyd2eT15rqNYsJI/CgtNMhKhdheGM4LLkFgPc0Aa+pazb6ZYfapCZFLBFEZBLMTgAVcE6iJXkIQED7x6V5/LpjX0Nx9l06WOwa7gaKCRcHj7zY7CtvxHDvu9OkmtZLqxiZhLDEM8kDaSO4HNAG5Zarb31mtzG2yNmKjeccg4qy06Jje6ruOBk4zXnUFjLb2dn/aOmXEtmsMqLbqMmOQscEjPpjmrVjbT2t9avr9jPdr9ljSAqN/lODyDzwenNAHeeav94fnTTcxDOZEG3rlhxXDRLffbbS0Npc7oL+WWSTHybGB285561BaeHmKWP2ixclrKbz9x6yfw556+lAHoLTIpUM6qW4XJ60vnIGCl13HoM8mvM7rTdSkkgF6lxsa0iSF1i8xonB57/Ke+a0JNJuPtNzdC3la4XUYmjlJ58vADEe3XNAHbQ6jazxu8NxG6xuUchhhWHBFTGVVXcxAUc5J4rzmfS/J0u6iWzuI54tQlmRY4d6TZzt3DPIwfwrd1pLu50HTmmtGZElje7tYTyUwcgeoBxxQB0/2mLaG8xNrHAO4YNOaZFIDOoJOACetcJqMMEksco0m5k09rR44IFTBjlyeSueM8YPtUM2jXs1ndNeW8kt3HYQCJw2SJQTnHv0oA7xL+2lmmijnRpICBKoblMjPNEl4FERjUyrI+3chBC+59uK4me2ns5dcaHTPOmuvJfcUyHTaoY+5BycVFpNlfpsxBOsI1VZU3IExH5Rydo6DNAHfPcqqOVO9kXdsUjJpsd2rwxu/7ouBhHIBBPb61wUGkXUFnaSxWsqXDw3Sztnk5HyA/0ofRrmfTrlprSVp49NhWAk8iUZzjnr0oA9Ae5ijYK8iKx6AsATTvMGcZGcZ615le+TP4mmN+G+yx3cBN0ULFXCgeXnPA3e1dL4jiurqaE2MUhMKlpXRsb4z1jHuf89aaV3YmUuVXOoDgjIORS76qQFUgRY12KFAC+gqTfSKJg9FQh6KAPMvgM2Pg7pP+9L/6MavRt9eafAlsfB/Sf96X/wBGNXom+gCpPr9tb3f2aSOfzCTgCIndjritETKccgEjOD1rHuw7eINPdVJRUl3MBwOBWPHFO2tP9ocxzfa9yMImLMnGBu6YxxQB2HmDOMjP1oEqnGGBz0561yq2ZNguYX3y337zrkp5h/TFMFj5DSSQwOrx36+WQDwny5x7cmgDrvMGcZGaTzAe4rmPExupXhGnJL9ohBdnTgbOhX3J7VY1BNvh+GXT43zbbJoo8Hccc4I9adtLkKV5NG+ZQFJ64qBL+Mqgf93IyFxE33sCuW0+G8+2CGdJfLw15uOcbmGNn4elSWkGy406W4gbzPsjoHKkkNngH070izpba/jurNbiIEhl3Be9Sx3AeJHYeWWAO1uo9q5Kzs2t47Fo4HR3hlExAPPBwD+NL9je4jJnhkYpp6bQQeH/AMaAOvL4GSeKrwX8VxNPGhwYGCsT05Gax9R859CtN6yOoMZuFUfMV43VmeXzO0VvKtibtGdAhG5MenXGaAOy81du7cNvrnigSA9CDXH7SFVjDN/Zn2sny9p+7t67euN1WLi4SGYtbwzC3ktGSILGfvZ6Y7UAdQZQMZYDPTmgSA5wQcdea4+W0ee3lMkMjOlhGE68P7e9F3bXMENwljE6h7aNnAB+Y5+b8cUAdgJVIyGBHqDTHu4o9nmSKodtq5PU+lcnFbF7ciMs8MlzFmNImRVHfr+tLNaqkgD2zG3hvwyrtJCrgcgemaAOv8znrQHzXOeI5praO0vLQFpY5QoQHG7dxWnp8Bs7GOJm3PjLse7Hk07aXJUrysaG+jfUG+jfSKJ99QXlul7atBKT5b8MAeo9K8zj1W70e6167ubqR9Nu7maBixz9lkC/KQeynp9a7DRb82vgmyupiZClsrMWbk8epoDc34EFvbpEpyEG0E1JvrE0jXo9XaQRRhPLAP8ArA2fyrHtNd1RYmjkkhlnuL97eBmUhY1HrzzQB2e+jfXGPrmqT6hp8CyQxMt5JBchVJWQKM5HPFJL4onlvJLUFJbeeOYJLHGyhSq9mJ+b8KAO030b65uLUZrDwTFeRgSyxwKQHPU8Dn86hTxBfQ3BtruOBpBPEm6MEDa4z0PcUAdVvo31ycniK+lu1tbWOBXe7ltw8mSFCDOcDvVQeItQvNOb7SkCR3VpOV8rO5GQdc+9AHb76N9cPF4kvtI01FvUhn/0JJoTHn1C4b169anTxLqZt2X7PGZTNHHHM8TIjbh6HnigDsd9BfHU1h6pqV1ZpZW8PlG7upPLDsDsXjJOP6Vhz315qeq6VDP5KtBeSxzKASrlBwRzQB3G+jfXMa9qd6ZbuwsPJTy7JppXlzkgggBcfTrVKHX76DTmNssLRafbxNN5pJaXcATg9uDQB2m+jfXN2ms31/NdzwCCO0tWZCjAl3IXOc545qtL4puI7WCUQxEyWD3RGT95e30oA63fRvrjJfEesQG43pZsLeGO4bAb5lc429eo9aePFd3LqrxW1r5kMVwsDxiNixyOX3dBjPSgDsN9G+uPg8R6jL5LSJbrHdCZYwoOUZOhPPIPpUVp4g1S30rSZb5ozFcIGmuzGSqknhSAeM+vSgDtd9G+oA+QCDnNG+gCffRvqDfRvoArvo2myXpu3tIjMW3lsdW9frV/dUG+jfQBPvo31Bvo30AT76KqNMwb5cYooA86+BjY+EWlf70v/ow16Hvr5/8Ahn431LR/h/YWVrDatHGZMGRGJOXJ7MK6v/hZes/8+1j/AN+3/wDiqAPVN1G6vK/+Fl6z/wA+1j/37f8A+Ko/4WXrP/PtY/8Aft//AIqgD1XfRvryr/hZes/8+1j/AN+3/wDiqP8AhZes/wDPtY/9+3/+KoA9U3Uu6vKv+Fl6z/z7WP8A37f/AOKpD8TNZH/LtY/9+3/+KoA9W3Um6vK/+Fl6zj/j2sf+/b//ABVJ/wALM1n/AJ9rH/v2/wD8VQB6tuo315T/AMLM1n/n2sf+/b//ABVH/CzNZ/59rH/v2/8A8VQB6tvpN1eVf8LM1n/n2sf+/b//ABVH/CzNZ/59rH/v2/8A8VQB6ruo3V5V/wALM1n/AJ9rH/v2/wD8VR/wszWf+fax/wC/b/8AxVAHqu6l315T/wALM1n/AJ9rH/v2/wD8VR/wszWf+fax/wC/b/8AxVAHqu6jdXlX/CzNZ/59rH/v2/8A8VR/wszWf+fax/79v/8AFUAeoTQQzyxSSruaFtyex9am315T/wALM1n/AJ9rH/v2/wD8VR/wszWf+fax/wC/b/8AxVAHq2+jfXlP/CzNZ/59rH/v2/8A8VR/wszWf+fax/79v/8AFUAeiPoemyWN5ZyW6vb3zM86NyHLdatWtrBZ2MVnAgEESBEQ84A6CvMf+Fmaz/z7WP8A37f/AOKo/wCFmaz/AM+1j/37f/4qgD1NFjjz5aKueu1cVnyaFp0qzK0RAmk81sMRh/7w9D9K88/4WZrP/PtY/wDft/8A4ql/4WXrP/PtY/8Aft//AIqgD0NdD05beGFYdqwSeajBjuDdznqc1HF4d0uG58+O3+YbtoLEhd3UAds1wH/Cy9Z/59rH/v2//wAVR/wsvWf+fax/79v/APFUAejx6XZxaWdPWMm2P8DMT3zim3Oj2F2somhyZdu4gkH5fukHsRXnX/Cy9Z/59rH/AL9v/wDFUf8ACy9Z/wCfax/79v8A/FUAeiW2iafaGMwwYMTtIpJJO5up/GlXR9PSNI1gAWNHRRnoH+8Pxrzr/hZes/8APtY/9+3/APiqP+Fl6z/z7WP/AH7f/wCKoA9Ag8PaXbxzRpbArMgjYOS3y/3RnoKfBotjBEI1R3VZBIPMkLYYdOteef8ACy9Z/wCfax/79v8A/FUf8LL1n/n2sf8Av2//AMVQB6XfWNtqVuIbtNyqwZSDgqfUEdKit9IsbZbcQwgfZ2ZoznJBPUk9ya85/wCFl6z/AM+1j/37f/4qj/hZes/8+1j/AN+3/wDiqAPRdR0ex1SRXvItzKpTIYjKnqDjqPaopvD2lzvG0kH+rVVwGIDBegYd8e9ef/8ACy9Z/wCfax/79v8A/FUf8LL1n/n2sf8Av2//AMVQB6IdGsf7QN4sbJKTlgrkKxxjJHQ8VDF4b0qHfst870aM7mJwp6qPQVwP/Cy9Z/59rH/v2/8A8VR/wsvWf+fax/79v/8AFUAejyaTYy+b5kIPnRrE/PVV6Cozolh9uF2sbJLkE7HIViOASOhNeef8LL1n/n2sf+/b/wDxVH/Cy9Z/59rH/v2//wAVQB6PHpVjEIAkIAgZmj9i3Wq3/CN6Z5MUJjcxRNlY/MO3rnBHcZ7VwP8AwsvWf+fax/79v/8AFUf8LL1n/n2sf+/b/wDxVAHqgYAYHSl315V/wsvWf+fax/79v/8AFUf8LL1n/n2sf+/b/wDxVAHqu+jfXlP/AAszWf8An2sf+/b/APxVKPiXrJ/5drH/AL9v/wDFUAeq76N9eU/8LM1n/n2sf+/b/wDxVH/CzNZ/59rH/v2//wAVQB6tvphl9u+BXCeF/Guo65rQs7uG1SMxM+YkYHIx6sfWuxMjAkjsaALJcdyBRVYnLUUAf//Z)"
      ],
      "metadata": {
        "id": "NSL4OD_2HGLs"
      }
    },
    {
      "cell_type": "markdown",
      "source": [
        "The first is for bag of words while the second is for the TF-IDF"
      ],
      "metadata": {
        "id": "ocfucuhrHVL2"
      }
    },
    {
      "cell_type": "code",
      "source": [
        "#The document need to be tokenized\n",
        "import nltk\n",
        "from nltk.tokenize import word_tokenize\n",
        "from nltk.stem import SnowballStemmer\n",
        "from nltk.corpus import stopwords"
      ],
      "metadata": {
        "id": "-epcicDH47jk"
      },
      "execution_count": 42,
      "outputs": []
    },
    {
      "cell_type": "code",
      "source": [
        "nltk.download('punkt')"
      ],
      "metadata": {
        "colab": {
          "base_uri": "https://localhost:8080/"
        },
        "id": "OouWCFmo47mN",
        "outputId": "71862a9b-e0e5-4c7b-f47a-78dfabef4018"
      },
      "execution_count": 36,
      "outputs": [
        {
          "output_type": "stream",
          "name": "stderr",
          "text": [
            "[nltk_data] Downloading package punkt to /root/nltk_data...\n",
            "[nltk_data]   Unzipping tokenizers/punkt.zip.\n"
          ]
        },
        {
          "output_type": "execute_result",
          "data": {
            "text/plain": [
              "True"
            ]
          },
          "metadata": {},
          "execution_count": 36
        }
      ]
    },
    {
      "cell_type": "code",
      "source": [
        "nltk.download('stopwords')"
      ],
      "metadata": {
        "colab": {
          "base_uri": "https://localhost:8080/"
        },
        "id": "ZJNRiuBUTIHG",
        "outputId": "48bc5299-a504-4322-d567-3933b0256248"
      },
      "execution_count": 44,
      "outputs": [
        {
          "output_type": "stream",
          "name": "stderr",
          "text": [
            "[nltk_data] Downloading package stopwords to /root/nltk_data...\n",
            "[nltk_data]   Unzipping corpora/stopwords.zip.\n"
          ]
        },
        {
          "output_type": "execute_result",
          "data": {
            "text/plain": [
              "True"
            ]
          },
          "metadata": {},
          "execution_count": 44
        }
      ]
    },
    {
      "cell_type": "code",
      "source": [
        "english_stopwords = stopwords.words('english')\n",
        "', '.join(english_stopwords)"
      ],
      "metadata": {
        "colab": {
          "base_uri": "https://localhost:8080/",
          "height": 140
        },
        "id": "aGrA53jVS8c5",
        "outputId": "e32d0ade-eecf-4ff5-fb01-eb8dddb187e4"
      },
      "execution_count": 52,
      "outputs": [
        {
          "output_type": "execute_result",
          "data": {
            "text/plain": [
              "\"i, me, my, myself, we, our, ours, ourselves, you, you're, you've, you'll, you'd, your, yours, yourself, yourselves, he, him, his, himself, she, she's, her, hers, herself, it, it's, its, itself, they, them, their, theirs, themselves, what, which, who, whom, this, that, that'll, these, those, am, is, are, was, were, be, been, being, have, has, had, having, do, does, did, doing, a, an, the, and, but, if, or, because, as, until, while, of, at, by, for, with, about, against, between, into, through, during, before, after, above, below, to, from, up, down, in, out, on, off, over, under, again, further, then, once, here, there, when, where, why, how, all, any, both, each, few, more, most, other, some, such, no, nor, not, only, own, same, so, than, too, very, s, t, can, will, just, don, don't, should, should've, now, d, ll, m, o, re, ve, y, ain, aren, aren't, couldn, couldn't, didn, didn't, doesn, doesn't, hadn, hadn't, hasn, hasn't, haven, haven't, isn, isn't, ma, mightn, mightn't, mustn, mustn't, needn, needn't, shan, shan't, shouldn, shouldn't, wasn, wasn't, weren, weren't, won, won't, wouldn, wouldn't\""
            ],
            "application/vnd.google.colaboratory.intrinsic+json": {
              "type": "string"
            }
          },
          "metadata": {},
          "execution_count": 52
        }
      ]
    },
    {
      "cell_type": "code",
      "source": [
        "#Stemming\n",
        "stemmer = SnowballStemmer(language='english')\n",
        "\n"
      ],
      "metadata": {
        "id": "VVVkbyAfMrmE"
      },
      "execution_count": 46,
      "outputs": []
    },
    {
      "cell_type": "code",
      "source": [
        "def tokenize(text):\n",
        "  return  [stemmer.stem(token) for token in word_tokenize(text)]"
      ],
      "metadata": {
        "id": "M_8FME18TXho"
      },
      "execution_count": 47,
      "outputs": []
    },
    {
      "cell_type": "code",
      "source": [
        "stemmer.stem('Translation')"
      ],
      "metadata": {
        "colab": {
          "base_uri": "https://localhost:8080/",
          "height": 35
        },
        "id": "3oQHmC63MtG-",
        "outputId": "83e1d452-4e41-4958-eef0-91b4b1477a75"
      },
      "execution_count": 41,
      "outputs": [
        {
          "output_type": "execute_result",
          "data": {
            "text/plain": [
              "'translat'"
            ],
            "application/vnd.google.colaboratory.intrinsic+json": {
              "type": "string"
            }
          },
          "metadata": {},
          "execution_count": 41
        }
      ]
    },
    {
      "cell_type": "code",
      "source": [
        "#tonizing sentence\n",
        "word_tokenize('This just to try the tokenizer')"
      ],
      "metadata": {
        "colab": {
          "base_uri": "https://localhost:8080/"
        },
        "id": "giTViEj0KSp0",
        "outputId": "631a53d7-a390-4ef1-e412-3f8689909ed7"
      },
      "execution_count": 37,
      "outputs": [
        {
          "output_type": "execute_result",
          "data": {
            "text/plain": [
              "['This', 'just', 'to', 'try', 'the', 'tokenizer']"
            ]
          },
          "metadata": {},
          "execution_count": 37
        }
      ]
    },
    {
      "cell_type": "code",
      "source": [],
      "metadata": {
        "id": "vRa05kxvKSsC"
      },
      "execution_count": null,
      "outputs": []
    },
    {
      "cell_type": "code",
      "source": [],
      "metadata": {
        "id": "VMjDoD3iKSuc"
      },
      "execution_count": null,
      "outputs": []
    },
    {
      "cell_type": "code",
      "source": [],
      "metadata": {
        "id": "HEGa8TpwKSwy"
      },
      "execution_count": null,
      "outputs": []
    },
    {
      "cell_type": "code",
      "source": [],
      "metadata": {
        "id": "l6OfSVx2KS0H"
      },
      "execution_count": null,
      "outputs": []
    },
    {
      "cell_type": "code",
      "source": [
        "#we use tf_idf vectorizer from sklearn\n",
        "from sklearn.feature_extraction.text import TfidfVectorizer"
      ],
      "metadata": {
        "id": "yLaxFYPj47pE"
      },
      "execution_count": 54,
      "outputs": []
    },
    {
      "cell_type": "code",
      "source": [
        "from numpy.lib.function_base import vectorize\n",
        "vectorizer = TfidfVectorizer(tokenizer=tokenize, stop_words=english_stopwords, max_features=1000)\n",
        "#Max_features = 1000 will look at the most common 1000 vocabularies and create a vector out of it"
      ],
      "metadata": {
        "id": "E69YRJ4_47sS"
      },
      "execution_count": 59,
      "outputs": []
    },
    {
      "cell_type": "code",
      "source": [
        "#will fit into the vectorizer sample_df; it will stem, remove stopwords and tokenize the words\n",
        "sample_df.question_text"
      ],
      "metadata": {
        "colab": {
          "base_uri": "https://localhost:8080/"
        },
        "id": "gAiq_LNDW2s6",
        "outputId": "5f9ca241-52ac-4030-c314-f0a81e468550"
      },
      "execution_count": 60,
      "outputs": [
        {
          "output_type": "execute_result",
          "data": {
            "text/plain": [
              "1280511                  Who live highest days in spaceship?\n",
              "296220     How come everything created or invented by man...\n",
              "520210             What does a high-arch pronation indicate?\n",
              "1139120        How can I repair plaster walls over concrete?\n",
              "99975         Does Google use SSDs or HDDs in their servers?\n",
              "                                 ...                        \n",
              "598188     Is it possible to be both a monetarist and a k...\n",
              "167804     What are the documents to be attested for empl...\n",
              "563391     What’s the minimum hight requirement to become...\n",
              "528942                 How does malnutrition affect science?\n",
              "1298246    What strategies do we use in Online Reputation...\n",
              "Name: question_text, Length: 100000, dtype: object"
            ]
          },
          "metadata": {},
          "execution_count": 60
        }
      ]
    },
    {
      "cell_type": "code",
      "source": [
        "vectorizer.fit(sample_df.question_text)"
      ],
      "metadata": {
        "colab": {
          "base_uri": "https://localhost:8080/"
        },
        "id": "ndKofy8yW2vS",
        "outputId": "00ede8f1-8cdc-4b01-cd7d-7a6fc702db30"
      },
      "execution_count": 61,
      "outputs": [
        {
          "output_type": "stream",
          "name": "stderr",
          "text": [
            "/usr/local/lib/python3.8/dist-packages/sklearn/feature_extraction/text.py:516: UserWarning: The parameter 'token_pattern' will not be used since 'tokenizer' is not None'\n",
            "  warnings.warn(\n",
            "/usr/local/lib/python3.8/dist-packages/sklearn/feature_extraction/text.py:396: UserWarning: Your stop_words may be inconsistent with your preprocessing. Tokenizing the stop words generated tokens [\"'d\", \"'s\", 'abov', 'ani', 'becaus', 'befor', 'could', 'doe', 'dure', 'might', 'must', \"n't\", 'need', 'onc', 'onli', 'ourselv', 'sha', 'themselv', 'veri', 'whi', 'wo', 'would', 'yourselv'] not in stop_words.\n",
            "  warnings.warn(\n"
          ]
        },
        {
          "output_type": "execute_result",
          "data": {
            "text/plain": [
              "TfidfVectorizer(max_features=1000,\n",
              "                stop_words=['i', 'me', 'my', 'myself', 'we', 'our', 'ours',\n",
              "                            'ourselves', 'you', \"you're\", \"you've\", \"you'll\",\n",
              "                            \"you'd\", 'your', 'yours', 'yourself', 'yourselves',\n",
              "                            'he', 'him', 'his', 'himself', 'she', \"she's\",\n",
              "                            'her', 'hers', 'herself', 'it', \"it's\", 'its',\n",
              "                            'itself', ...],\n",
              "                tokenizer=<function tokenize at 0x7f7040ae0550>)"
            ]
          },
          "metadata": {},
          "execution_count": 61
        }
      ]
    },
    {
      "cell_type": "code",
      "source": [
        "#looking at the vocabulary eg first 100 words\n",
        "vectorizer.get_feature_names_out()[:100]\n"
      ],
      "metadata": {
        "colab": {
          "base_uri": "https://localhost:8080/"
        },
        "id": "7bVqAMzcW2yP",
        "outputId": "c6db4869-b4c5-4143-f42b-6a471b61f014"
      },
      "execution_count": 62,
      "outputs": [
        {
          "output_type": "execute_result",
          "data": {
            "text/plain": [
              "array(['!', '$', '%', '&', \"'\", \"''\", \"'m\", \"'s\", '(', ')', ',', '-', '.',\n",
              "       '1', '10', '100', '11', '12', '12th', '15', '2', '20', '2017',\n",
              "       '2018', '3', '30', '4', '5', '6', '7', '8', ':', '?', '[', ']',\n",
              "       '``', 'abl', 'abroad', 'abus', 'accept', 'accomplish', 'accord',\n",
              "       'account', 'achiev', 'acid', 'act', 'action', 'activ', 'actor',\n",
              "       'actual', 'ad', 'add', 'address', 'admiss', 'adult', 'advanc',\n",
              "       'advantag', 'advic', 'affect', 'africa', 'african', 'age', 'ago',\n",
              "       'air', 'allow', 'almost', 'alon', 'alreadi', 'also', 'altern',\n",
              "       'alway', 'amazon', 'america', 'american', 'amount', 'analysi',\n",
              "       'ancient', 'android', 'ani', 'anim', 'anoth', 'answer', 'anyon',\n",
              "       'anyth', 'apart', 'app', 'appear', 'appl', 'appli', 'applic',\n",
              "       'approach', 'arab', 'area', 'armi', 'around', 'art', 'asian',\n",
              "       'ask', 'associ', 'atheist'], dtype=object)"
            ]
          },
          "metadata": {},
          "execution_count": 62
        }
      ]
    },
    {
      "cell_type": "code",
      "source": [],
      "metadata": {
        "id": "8Yp0bgBrW217"
      },
      "execution_count": null,
      "outputs": []
    },
    {
      "cell_type": "markdown",
      "source": [
        "### Transform the questions into vectors"
      ],
      "metadata": {
        "id": "qs4ORcLuaJih"
      }
    },
    {
      "cell_type": "code",
      "source": [
        "%%time\n",
        "inputs = vectorizer.transform(sample_df.question_text)"
      ],
      "metadata": {
        "colab": {
          "base_uri": "https://localhost:8080/"
        },
        "id": "fHanVkX8aQZE",
        "outputId": "9eb33a1c-4d05-42c3-8683-8dfe5bfe7506"
      },
      "execution_count": 63,
      "outputs": [
        {
          "output_type": "stream",
          "name": "stdout",
          "text": [
            "CPU times: user 29.8 s, sys: 15.5 ms, total: 29.8 s\n",
            "Wall time: 29.9 s\n"
          ]
        }
      ]
    },
    {
      "cell_type": "code",
      "source": [
        "#checking\n",
        "inputs.shape"
      ],
      "metadata": {
        "colab": {
          "base_uri": "https://localhost:8080/"
        },
        "id": "OI0l6re0a8-o",
        "outputId": "a9f6d017-bc7d-4cee-b113-9dec6f355fa3"
      },
      "execution_count": 64,
      "outputs": [
        {
          "output_type": "execute_result",
          "data": {
            "text/plain": [
              "(100000, 1000)"
            ]
          },
          "metadata": {},
          "execution_count": 64
        }
      ]
    },
    {
      "cell_type": "code",
      "source": [
        "inputs.toarray()[:50]"
      ],
      "metadata": {
        "colab": {
          "base_uri": "https://localhost:8080/"
        },
        "id": "QzKBCW1obD0M",
        "outputId": "dd5a1453-f42a-430d-8795-8092133335eb"
      },
      "execution_count": 65,
      "outputs": [
        {
          "output_type": "execute_result",
          "data": {
            "text/plain": [
              "array([[0., 0., 0., ..., 0., 0., 0.],\n",
              "       [0., 0., 0., ..., 0., 0., 0.],\n",
              "       [0., 0., 0., ..., 0., 0., 0.],\n",
              "       ...,\n",
              "       [0., 0., 0., ..., 0., 0., 0.],\n",
              "       [0., 0., 0., ..., 0., 0., 0.],\n",
              "       [0., 0., 0., ..., 0., 0., 0.]])"
            ]
          },
          "metadata": {},
          "execution_count": 65
        }
      ]
    },
    {
      "cell_type": "code",
      "source": [],
      "metadata": {
        "id": "vRw5MuVea9FQ"
      },
      "execution_count": null,
      "outputs": []
    },
    {
      "cell_type": "code",
      "source": [
        "%%time\n",
        "test_inputs = vectorizer.transform(test_df.question_text) # this will transform the test input using the vocabularies we have trained "
      ],
      "metadata": {
        "colab": {
          "base_uri": "https://localhost:8080/"
        },
        "id": "L8_ngVyQaQcl",
        "outputId": "98d6496c-c2ca-48dc-a5a6-335c442c1561"
      },
      "execution_count": 66,
      "outputs": [
        {
          "output_type": "stream",
          "name": "stdout",
          "text": [
            "CPU times: user 2min 3s, sys: 312 ms, total: 2min 3s\n",
            "Wall time: 2min 9s\n"
          ]
        }
      ]
    },
    {
      "cell_type": "code",
      "source": [
        "test_inputs.shape"
      ],
      "metadata": {
        "colab": {
          "base_uri": "https://localhost:8080/"
        },
        "id": "b1doZJfjbgF8",
        "outputId": "b39792bb-a895-4bca-d91b-648c616c148b"
      },
      "execution_count": 67,
      "outputs": [
        {
          "output_type": "execute_result",
          "data": {
            "text/plain": [
              "(375806, 1000)"
            ]
          },
          "metadata": {},
          "execution_count": 67
        }
      ]
    },
    {
      "cell_type": "markdown",
      "source": [
        "### Split the data into training and validation set"
      ],
      "metadata": {
        "id": "6o74lcPAcUBB"
      }
    },
    {
      "cell_type": "code",
      "source": [
        "from sklearn.model_selection import train_test_split"
      ],
      "metadata": {
        "id": "vfCO_B7Tcbc2"
      },
      "execution_count": 68,
      "outputs": []
    },
    {
      "cell_type": "code",
      "source": [
        "targets = sample_df.target"
      ],
      "metadata": {
        "id": "DRBIcVgzdB5b"
      },
      "execution_count": 69,
      "outputs": []
    },
    {
      "cell_type": "code",
      "source": [
        "train_inputs, val_inputs, train_targets, val_targets = train_test_split(inputs, targets, test_size =0.3)"
      ],
      "metadata": {
        "id": "PyQSYatdcbmY"
      },
      "execution_count": 70,
      "outputs": []
    },
    {
      "cell_type": "code",
      "source": [
        "train_inputs.shape"
      ],
      "metadata": {
        "colab": {
          "base_uri": "https://localhost:8080/"
        },
        "id": "kjf6NPEWcbov",
        "outputId": "67c70f26-ef1d-4aea-92f1-2909228b67f3"
      },
      "execution_count": 71,
      "outputs": [
        {
          "output_type": "execute_result",
          "data": {
            "text/plain": [
              "(70000, 1000)"
            ]
          },
          "metadata": {},
          "execution_count": 71
        }
      ]
    },
    {
      "cell_type": "code",
      "source": [
        "val_inputs.shape"
      ],
      "metadata": {
        "colab": {
          "base_uri": "https://localhost:8080/"
        },
        "id": "6EjaY3CocbsM",
        "outputId": "afbaf30f-2172-4b99-f96d-bfba3e14920a"
      },
      "execution_count": 72,
      "outputs": [
        {
          "output_type": "execute_result",
          "data": {
            "text/plain": [
              "(30000, 1000)"
            ]
          },
          "metadata": {},
          "execution_count": 72
        }
      ]
    },
    {
      "cell_type": "code",
      "source": [
        "train_targets"
      ],
      "metadata": {
        "colab": {
          "base_uri": "https://localhost:8080/"
        },
        "id": "q8Qszb_Rg1VN",
        "outputId": "ca458d91-194f-42ff-a2ee-2696be43fc93"
      },
      "execution_count": 75,
      "outputs": [
        {
          "output_type": "execute_result",
          "data": {
            "text/plain": [
              "742997     0\n",
              "396778     0\n",
              "468690     0\n",
              "1191419    0\n",
              "307404     0\n",
              "          ..\n",
              "707165     0\n",
              "1018284    0\n",
              "305002     0\n",
              "459517     0\n",
              "388889     0\n",
              "Name: target, Length: 70000, dtype: int64"
            ]
          },
          "metadata": {},
          "execution_count": 75
        }
      ]
    },
    {
      "cell_type": "code",
      "source": [
        "val_targets"
      ],
      "metadata": {
        "colab": {
          "base_uri": "https://localhost:8080/"
        },
        "id": "giB1lsXeg1Yh",
        "outputId": "9aa434f3-cdfc-4a76-f806-b47c2fb2ed50"
      },
      "execution_count": 76,
      "outputs": [
        {
          "output_type": "execute_result",
          "data": {
            "text/plain": [
              "626928     1\n",
              "108814     0\n",
              "235396     0\n",
              "103611     1\n",
              "1063495    0\n",
              "          ..\n",
              "970624     0\n",
              "672102     0\n",
              "1086359    0\n",
              "622118     0\n",
              "354636     0\n",
              "Name: target, Length: 30000, dtype: int64"
            ]
          },
          "metadata": {},
          "execution_count": 76
        }
      ]
    },
    {
      "cell_type": "markdown",
      "source": [
        "### Convert into PyTorch Tensors"
      ],
      "metadata": {
        "id": "QoVMEpTch3Ho"
      }
    },
    {
      "cell_type": "code",
      "source": [
        "#this will be done using pytorch deeplearning library\n",
        "\n",
        "import torch\n"
      ],
      "metadata": {
        "id": "toYiEsAojOHs"
      },
      "execution_count": 77,
      "outputs": []
    },
    {
      "cell_type": "code",
      "source": [
        "train_inputs"
      ],
      "metadata": {
        "colab": {
          "base_uri": "https://localhost:8080/"
        },
        "id": "gbRmAYpvkJcX",
        "outputId": "fa2286df-08d1-4faf-e5b4-5d78ed1daf1d"
      },
      "execution_count": 79,
      "outputs": [
        {
          "output_type": "execute_result",
          "data": {
            "text/plain": [
              "<70000x1000 sparse matrix of type '<class 'numpy.float64'>'\n",
              "\twith 382877 stored elements in Compressed Sparse Row format>"
            ]
          },
          "metadata": {},
          "execution_count": 79
        }
      ]
    },
    {
      "cell_type": "code",
      "source": [
        "train_input_tensors = torch.tensor(train_inputs.toarray()).float() # has to be converted to a numpy array because its a sparse matrix\n",
        "val_input_tensors = torch.tensor(val_inputs.toarray()).float()"
      ],
      "metadata": {
        "id": "6IkpnRnqjOLR"
      },
      "execution_count": 81,
      "outputs": []
    },
    {
      "cell_type": "code",
      "source": [
        "train_input_tensors.shape"
      ],
      "metadata": {
        "colab": {
          "base_uri": "https://localhost:8080/"
        },
        "id": "IIjvubNyjOSN",
        "outputId": "610c0e04-6db8-46d4-d5ed-c7e3d4e21b60"
      },
      "execution_count": 82,
      "outputs": [
        {
          "output_type": "execute_result",
          "data": {
            "text/plain": [
              "torch.Size([70000, 1000])"
            ]
          },
          "metadata": {},
          "execution_count": 82
        }
      ]
    },
    {
      "cell_type": "code",
      "source": [
        "val_input_tensors.shape"
      ],
      "metadata": {
        "colab": {
          "base_uri": "https://localhost:8080/"
        },
        "id": "vCcFTDMZm2sq",
        "outputId": "fd28f46f-809c-46b9-939e-3fff065edb79"
      },
      "execution_count": 83,
      "outputs": [
        {
          "output_type": "execute_result",
          "data": {
            "text/plain": [
              "torch.Size([30000, 1000])"
            ]
          },
          "metadata": {},
          "execution_count": 83
        }
      ]
    },
    {
      "cell_type": "code",
      "source": [
        "train_targets#pandas series type"
      ],
      "metadata": {
        "colab": {
          "base_uri": "https://localhost:8080/"
        },
        "id": "SF_rO2tgnR7p",
        "outputId": "7826b781-5e4b-4b84-ea99-731e8e2c904d"
      },
      "execution_count": 85,
      "outputs": [
        {
          "output_type": "execute_result",
          "data": {
            "text/plain": [
              "742997     0\n",
              "396778     0\n",
              "468690     0\n",
              "1191419    0\n",
              "307404     0\n",
              "          ..\n",
              "707165     0\n",
              "1018284    0\n",
              "305002     0\n",
              "459517     0\n",
              "388889     0\n",
              "Name: target, Length: 70000, dtype: int64"
            ]
          },
          "metadata": {},
          "execution_count": 85
        }
      ]
    },
    {
      "cell_type": "code",
      "source": [
        "train_target_tensors = torch.tensor(train_targets.values).float()# using .values will give numpyarray\n",
        "val_target_tensors= torch.tensor(val_targets.values).float()"
      ],
      "metadata": {
        "id": "JOJuLHk1jOVp"
      },
      "execution_count": 86,
      "outputs": []
    },
    {
      "cell_type": "code",
      "source": [
        "#also converting the test inputs\n",
        "test_input_tensors= torch.tensor(test_inputs.toarray()).float()"
      ],
      "metadata": {
        "id": "-7UBcWA-noLI"
      },
      "execution_count": 89,
      "outputs": []
    },
    {
      "cell_type": "markdown",
      "source": [
        "NOTE: How pytorch works in deeplearning, because we are working with large models you often have to train the model not using the entire dataset but using a batch of the data.For example this Training set using PyTorch Data Loader.\n",
        "![Capture1.JPG](data:image/jpeg;base64,/9j/4AAQSkZJRgABAQEAYABgAAD/4RDcRXhpZgAATU0AKgAAAAgABAE7AAIAAAAGAAAISodpAAQAAAABAAAIUJydAAEAAAAMAAAQyOocAAcAAAgMAAAAPgAAAAAc6gAAAAgAAAAAAAAAAAAAAAAAAAAAAAAAAAAAAAAAAAAAAAAAAAAAAAAAAAAAAAAAAAAAAAAAAAAAAAAAAAAAAAAAAAAAAAAAAAAAAAAAAAAAAAAAAAAAAAAAAAAAAAAAAAAAAAAAAAAAAAAAAAAAAAAAAAAAAAAAAAAAAAAAAAAAAAAAAAAAAAAAAAAAAAAAAAAAAAAAAAAAAAAAAAAAAAAAAAAAAAAAAAAAAAAAAAAAAAAAAAAAAAAAAAAAAAAAAAAAAAAAAAAAAAAAAAAAAAAAAAAAAAAAAAAAAAAAAAAAAAAAAAAAAAAAAAAAAAAAAAAAAAAAAAAAAAAAAAAAAAAAAAAAAAAAAAAAAAAAAAAAAAAAAAAAAAAAAAAAAAAAAAAAAAAAAAAAAAAAAAAAAAAAAAAAAAAAAAAAAAAAAAAAAAAAAAAAAAAAAAAAAAAAAAAAAAAAAAAAAAAAAAAAAAAAAAAAAAAAAAAAAAAAAAAAAAAAAAAAAAAAAAAAAAAAAAAAAAAAAAAAAAAAAAAAAAAAAAAAAAAAAAAAAAAAAAAAAAAAAAAAAAAAAAAAAAAAAAAAAAAAAAAAAAAAAAAAAAAAAAAAAAAAAAAAAAAAAAAAAAAAAAAAAAAAAAAAAAAAAAAAAAAAAAAAAAAAAAAAAAAAAAAAAAAAAAAAAAAAAAAAAAAAAAAAAAAAAAAAAAAAAAAAAAAAAAAAAAAAAAAAAAAAAAAAAAAAAAAAAAAAAAAAAAAAAAAAAAAAAAAAAAAAAAAAAAAAAAAAAAAAAAAAAAAAAAAAAAAAAAAAAAAAAAAAAAAAAAAAAAAAAAAAAAAAAAAAAAAAAAAAAAAAAAAAAAAAAAAAAAAAAAAAAAAAAAAAAAAAAAAAAAAAAAAAAAAAAAAAAAAAAAAAAAAAAAAAAAAAAAAAAAAAAAAAAAAAAAAAAAAAAAAAAAAAAAAAAAAAAAAAAAAAAAAAAAAAAAAAAAAAAAAAAAAAAAAAAAAAAAAAAAAAAAAAAAAAAAAAAAAAAAAAAAAAAAAAAAAAAAAAAAAAAAAAAAAAAAAAAAAAAAAAAAAAAAAAAAAAAAAAAAAAAAAAAAAAAAAAAAAAAAAAAAAAAAAAAAAAAAAAAAAAAAAAAAAAAAAAAAAAAAAAAAAAAAAAAAAAAAAAAAAAAAAAAAAAAAAAAAAAAAAAAAAAAAAAAAAAAAAAAAAAAAAAAAAAAAAAAAAAAAAAAAAAAAAAAAAAAAAAAAAAAAAAAAAAAAAAAAAAAAAAAAAAAAAAAAAAAAAAAAAAAAAAAAAAAAAAAAAAAAAAAAAAAAAAAAAAAAAAAAAAAAAAAAAAAAAAAAAAAAAAAAAAAAAAAAAAAAAAAAAAAAAAAAAAAAAAAAAAAAAAAAAAAAAAAAAAAAAAAAAAAAAAAAAAAAAAAAAAAAAAAAAAAAAAAAAAAAAAAAAAAAAAAAAAAAAAAAAAAAAAAAAAAAAAAAAAAAAAAAAAAAAAAAAAAAAAAAAAAAAAAAAAAAAAAAAAAAAAAAAAAAAAAAAAAAAAAAAAAAAAAAAAAAAAAAAAAAAAAAAAAAAAAAAAAAAAAAAAAAAAAAAAAAAAAAAAAAAAAAAAAAAAAAAAAAAAAAAAAAAAAAAAAAAAAAAAAAAAAAAAAAAAAAAAAAAAAAAAAAAAAAAAAAAAAAAAAAAAAAAAAAAAAAAAAAAAAAAAAAAAAAAAAAAAAAAAAAAAAAAAAAAAAAAAAAAAAAAAAAAAAAAAAAAAAAAAAAAAAAAAAAAAAAAAAAAAAAAAAAAAAAAAAAAAAAAAAAAAAAAAAAAAAAAAAAAAAAAAAAAAAAAAAAAAAAAAAAAAAAAAAAAAAAAAAAAAAAAAAAAAAAAAAAAAAAAAAAAAAAAAAAAAAAAAAAAAAAAAAAAAAAAAAAAAAAAAAAAAAAAAAAAAAAAAAAAAAAAAAAAAAAAAAAAAAAAAAAAAAAAAAAAAAAAAAAAAAAAAAAAAAAAAAAAAAAAAAAAAAAAAAAAAAAAAAAAAAAAAAAAAAAAAAAAAAAAAAAAAAAAAAAAAAAAAAAAAAAAAAAAAAAAAAAAAAAAAAAAAAAAAAAAAAAAAAAAAAAAAAAAAAAAAAAAAAAAAAAAAAAAAAAAAAAAAAAAAAAAAAAAAAAAAAAAAAAAAAAAAAAAAAAAAAAAAAAAAAAAAAAAAAAAAAAAAAAAAAAAAAAAAAAAAAAAAAAAAAAAAAAAAAAAAAAAAAAAAAAAAAAAAAAAAAAAAAAAAAAAAAAAAAAAAAAAAAAAAAAAAAAAAAAAAAAAAAAAAAAAAAAAAAAAAAAAAAAAAAAAAAAAAAAAAAAAAAAAAAAAAAAAAAAAAAAAAAAAAAAAAAAAAAAAAAAAAAAAAAAAAAAAAAAAAAAAAAAAAAAAAAAAAAAAAAAAAAAAAAAAAAAAAAAAAAAAAAAAAAAAAAAAAAAAAAAAAAAAAAAAAAAAAAAAAAAAAAAAAAAAAAAAAAAAAAAAAAAAAAAAAAAAAAAAAAAAAAAAAAAAAAAAAAAAAAAAAAAAAAAAAAAAAAAAAAAAAAAAAAAAAAAAAAAAAAAAAAAAAAAAAAAAAAAAAAAAAAAAAAAAAAAAAAAAAAAAAAAAAAAAAAAAAAAAAAAAAAAAAAAAAAAAAAAAAAAAAAAAAAAAAAAAAAAAAAAAAAAAAAAAAAAAAAAAAAAAAAAAAAAAAAAAAAAAAAAAAAAAAAAAAAAAAAAAAAAAAAAAAAAAAAEFkbWluAAAFkAMAAgAAABQAABCekAQAAgAAABQAABCykpEAAgAAAAMxMwAAkpIAAgAAAAMxMwAA6hwABwAACAwAAAiSAAAAABzqAAAACAAAAAAAAAAAAAAAAAAAAAAAAAAAAAAAAAAAAAAAAAAAAAAAAAAAAAAAAAAAAAAAAAAAAAAAAAAAAAAAAAAAAAAAAAAAAAAAAAAAAAAAAAAAAAAAAAAAAAAAAAAAAAAAAAAAAAAAAAAAAAAAAAAAAAAAAAAAAAAAAAAAAAAAAAAAAAAAAAAAAAAAAAAAAAAAAAAAAAAAAAAAAAAAAAAAAAAAAAAAAAAAAAAAAAAAAAAAAAAAAAAAAAAAAAAAAAAAAAAAAAAAAAAAAAAAAAAAAAAAAAAAAAAAAAAAAAAAAAAAAAAAAAAAAAAAAAAAAAAAAAAAAAAAAAAAAAAAAAAAAAAAAAAAAAAAAAAAAAAAAAAAAAAAAAAAAAAAAAAAAAAAAAAAAAAAAAAAAAAAAAAAAAAAAAAAAAAAAAAAAAAAAAAAAAAAAAAAAAAAAAAAAAAAAAAAAAAAAAAAAAAAAAAAAAAAAAAAAAAAAAAAAAAAAAAAAAAAAAAAAAAAAAAAAAAAAAAAAAAAAAAAAAAAAAAAAAAAAAAAAAAAAAAAAAAAAAAAAAAAAAAAAAAAAAAAAAAAAAAAAAAAAAAAAAAAAAAAAAAAAAAAAAAAAAAAAAAAAAAAAAAAAAAAAAAAAAAAAAAAAAAAAAAAAAAAAAAAAAAAAAAAAAAAAAAAAAAAAAAAAAAAAAAAAAAAAAAAAAAAAAAAAAAAAAAAAAAAAAAAAAAAAAAAAAAAAAAAAAAAAAAAAAAAAAAAAAAAAAAAAAAAAAAAAAAAAAAAAAAAAAAAAAAAAAAAAAAAAAAAAAAAAAAAAAAAAAAAAAAAAAAAAAAAAAAAAAAAAAAAAAAAAAAAAAAAAAAAAAAAAAAAAAAAAAAAAAAAAAAAAAAAAAAAAAAAAAAAAAAAAAAAAAAAAAAAAAAAAAAAAAAAAAAAAAAAAAAAAAAAAAAAAAAAAAAAAAAAAAAAAAAAAAAAAAAAAAAAAAAAAAAAAAAAAAAAAAAAAAAAAAAAAAAAAAAAAAAAAAAAAAAAAAAAAAAAAAAAAAAAAAAAAAAAAAAAAAAAAAAAAAAAAAAAAAAAAAAAAAAAAAAAAAAAAAAAAAAAAAAAAAAAAAAAAAAAAAAAAAAAAAAAAAAAAAAAAAAAAAAAAAAAAAAAAAAAAAAAAAAAAAAAAAAAAAAAAAAAAAAAAAAAAAAAAAAAAAAAAAAAAAAAAAAAAAAAAAAAAAAAAAAAAAAAAAAAAAAAAAAAAAAAAAAAAAAAAAAAAAAAAAAAAAAAAAAAAAAAAAAAAAAAAAAAAAAAAAAAAAAAAAAAAAAAAAAAAAAAAAAAAAAAAAAAAAAAAAAAAAAAAAAAAAAAAAAAAAAAAAAAAAAAAAAAAAAAAAAAAAAAAAAAAAAAAAAAAAAAAAAAAAAAAAAAAAAAAAAAAAAAAAAAAAAAAAAAAAAAAAAAAAAAAAAAAAAAAAAAAAAAAAAAAAAAAAAAAAAAAAAAAAAAAAAAAAAAAAAAAAAAAAAAAAAAAAAAAAAAAAAAAAAAAAAAAAAAAAAAAAAAAAAAAAAAAAAAAAAAAAAAAAAAAAAAAAAAAAAAAAAAAAAAAAAAAAAAAAAAAAAAAAAAAAAAAAAAAAAAAAAAAAAAAAAAAAAAAAAAAAAAAAAAAAAAAAAAAAAAAAAAAAAAAAAAAAAAAAAAAAAAAAAAAAAAAAAAAAAAAAAAAAAAAAAAAAAAAAAAAAAAAAAAAAAAAAAAAAAAAAAAAAAAAAAAAAAAAAAAAAAAAAAAAAAAAAAAAAAAAAAAAAAAAAAAAAAAAAAAAAAAAAAAAAAAAAAAAAAAAAAAAAAAAAAAAAAAAAAAAAAAAAAAAAAAAAAAAAAAAAAAAAAAAAAAAAAAAAAAAAAAAAAAAAAAAAAAAAAAAAAAAAAAAAAAAAAAAAAAAAAAAAAAAAAAAAAAAAAAAAAAAAAAAAAAAAAAAAAAAAAAAAAAAAAAAAAAAAAAAAAAAAAAAAAAAAAAAAAAAAAAAAAAAAAAAAAAAAAAAAAAAAAAAAAAAAAAAAAAAAAAAAAAAAAAAAAAAAAAAAAAAAAAAAAAAAAAAAAAAAAAAAAAAAAAAAAAAAAAAAAAAAAAAAAAAAAAAAAAAAAAAAAAAAAAAAAAAAAAAAAAAAAAAAAAAAAAAAAAAAAAAAAAAAAAAAAAAAAAAAAAAAAAAAAAAAAAAAAAAAAAAAAAAAAAAAAAAAAAAAAAAAAAAAAAAAAAAAAAAAAAAAAAAAAAAAAAAAAAAAAAAAAAAAAAAAAAAAAAAAAAAAAAAAAAAAAAAAAAAAAAAAAAAAAAAAAAAAAAAAAAAAAAAAAAAAAAAAAAAAAAAAAAAAAAAAAAAAAAAAAAAAAAAAAAAAAAAAAAAAAAAAAAAAAAAAAAAAAAAAAAAAAAAAAAAAAAAAAAAAAAAAAAAAAAAAAAAAAAAAAAAAAAAAAAAAAAAAAAAAAAAAAAAAAAAAAAAAAAAAAAAAAAAAAAAAAAAAAAAAAAAAAAAAAAAAAAAAAAAAAAAAAAAAAAAAAAAAAAAAAAAAAAAAAAAAAAAAAAAAAAAAAAAAAAAAAAAAAAAAAAAAAAAAAAAAAAAAAAAAAAAAAAAAAAAAAAAAAAAAAAAAAAAAAAAAAAAAAAAAAAAAAAAAAAAAAAAAAAAAAAAAAAAAAAAAAAAAAAAAAAAAAAAAAAAAAAAAAAAAAAAAAAAAAAAAAAAAAAAAAAAAAAAAAAAAAAAAAAAAAAMjAyMjoxMjowNCAxNjo1ODowMQAyMDIyOjEyOjA0IDE2OjU4OjAxAAAAQQBkAG0AaQBuAAAA/+ELGGh0dHA6Ly9ucy5hZG9iZS5jb20veGFwLzEuMC8APD94cGFja2V0IGJlZ2luPSfvu78nIGlkPSdXNU0wTXBDZWhpSHpyZVN6TlRjemtjOWQnPz4NCjx4OnhtcG1ldGEgeG1sbnM6eD0iYWRvYmU6bnM6bWV0YS8iPjxyZGY6UkRGIHhtbG5zOnJkZj0iaHR0cDovL3d3dy53My5vcmcvMTk5OS8wMi8yMi1yZGYtc3ludGF4LW5zIyI+PHJkZjpEZXNjcmlwdGlvbiByZGY6YWJvdXQ9InV1aWQ6ZmFmNWJkZDUtYmEzZC0xMWRhLWFkMzEtZDMzZDc1MTgyZjFiIiB4bWxuczpkYz0iaHR0cDovL3B1cmwub3JnL2RjL2VsZW1lbnRzLzEuMS8iLz48cmRmOkRlc2NyaXB0aW9uIHJkZjphYm91dD0idXVpZDpmYWY1YmRkNS1iYTNkLTExZGEtYWQzMS1kMzNkNzUxODJmMWIiIHhtbG5zOnhtcD0iaHR0cDovL25zLmFkb2JlLmNvbS94YXAvMS4wLyI+PHhtcDpDcmVhdGVEYXRlPjIwMjItMTItMDRUMTY6NTg6MDEuMTI2PC94bXA6Q3JlYXRlRGF0ZT48L3JkZjpEZXNjcmlwdGlvbj48cmRmOkRlc2NyaXB0aW9uIHJkZjphYm91dD0idXVpZDpmYWY1YmRkNS1iYTNkLTExZGEtYWQzMS1kMzNkNzUxODJmMWIiIHhtbG5zOmRjPSJodHRwOi8vcHVybC5vcmcvZGMvZWxlbWVudHMvMS4xLyI+PGRjOmNyZWF0b3I+PHJkZjpTZXEgeG1sbnM6cmRmPSJodHRwOi8vd3d3LnczLm9yZy8xOTk5LzAyLzIyLXJkZi1zeW50YXgtbnMjIj48cmRmOmxpPkFkbWluPC9yZGY6bGk+PC9yZGY6U2VxPg0KCQkJPC9kYzpjcmVhdG9yPjwvcmRmOkRlc2NyaXB0aW9uPjwvcmRmOlJERj48L3g6eG1wbWV0YT4NCiAgICAgICAgICAgICAgICAgICAgICAgICAgICAgICAgICAgICAgICAgICAgICAgICAgICAgICAgICAgICAgICAgICAgICAgICAgICAgICAgICAgICAgICAgICAgICAgICAgICAKICAgICAgICAgICAgICAgICAgICAgICAgICAgICAgICAgICAgICAgICAgICAgICAgICAgICAgICAgICAgICAgICAgICAgICAgICAgICAgICAgICAgICAgICAgICAgICAgICAgIAogICAgICAgICAgICAgICAgICAgICAgICAgICAgICAgICAgICAgICAgICAgICAgICAgICAgICAgICAgICAgICAgICAgICAgICAgICAgICAgICAgICAgICAgICAgICAgICAgICAgCiAgICAgICAgICAgICAgICAgICAgICAgICAgICAgICAgICAgICAgICAgICAgICAgICAgICAgICAgICAgICAgICAgICAgICAgICAgICAgICAgICAgICAgICAgICAgICAgICAgICAKICAgICAgICAgICAgICAgICAgICAgICAgICAgICAgICAgICAgICAgICAgICAgICAgICAgICAgICAgICAgICAgICAgICAgICAgICAgICAgICAgICAgICAgICAgICAgICAgICAgIAogICAgICAgICAgICAgICAgICAgICAgICAgICAgICAgICAgICAgICAgICAgICAgICAgICAgICAgICAgICAgICAgICAgICAgICAgICAgICAgICAgICAgICAgICAgICAgICAgICAgCiAgICAgICAgICAgICAgICAgICAgICAgICAgICAgICAgICAgICAgICAgICAgICAgICAgICAgICAgICAgICAgICAgICAgICAgICAgICAgICAgICAgICAgICAgICAgICAgICAgICAKICAgICAgICAgICAgICAgICAgICAgICAgICAgICAgICAgICAgICAgICAgICAgICAgICAgICAgICAgICAgICAgICAgICAgICAgICAgICAgICAgICAgICAgICAgICAgICAgICAgIAogICAgICAgICAgICAgICAgICAgICAgICAgICAgICAgICAgICAgICAgICAgICAgICAgICAgICAgICAgICAgICAgICAgICAgICAgICAgICAgICAgICAgICAgICAgICAgICAgICAgCiAgICAgICAgICAgICAgICAgICAgICAgICAgICAgICAgICAgICAgICAgICAgICAgICAgICAgICAgICAgICAgICAgICAgICAgICAgICAgICAgICAgICAgICAgICAgICAgICAgICAKICAgICAgICAgICAgICAgICAgICAgICAgICAgICAgICAgICAgICAgICAgICAgICAgICAgICAgICAgICAgICAgICAgICAgICAgICAgICAgICAgICAgICAgICAgICAgICAgICAgIAogICAgICAgICAgICAgICAgICAgICAgICAgICAgICAgICAgICAgICAgICAgICAgICAgICAgICAgICAgICAgICAgICAgICAgICAgICAgICAgICAgICAgICAgICAgICAgICAgICAgCiAgICAgICAgICAgICAgICAgICAgICAgICAgICAgICAgICAgICAgICAgICAgICAgICAgICAgICAgICAgICAgICAgICAgICAgICAgICAgICAgICAgICAgICAgICAgICAgICAgICAKICAgICAgICAgICAgICAgICAgICAgICAgICAgICAgICAgICAgICAgICAgICAgICAgICAgICAgICAgICAgICAgICAgICAgICAgICAgICAgICAgICAgICAgICAgICAgICAgICAgIAogICAgICAgICAgICAgICAgICAgICAgICAgICAgICAgICAgICAgICAgICAgICAgICAgICAgICAgICAgICAgICAgICAgICAgICAgICAgICAgICAgICAgICAgICAgICAgICAgICAgCiAgICAgICAgICAgICAgICAgICAgICAgICAgICAgICAgICAgICAgICAgICAgICAgICAgICAgICAgICAgICAgICAgICAgICAgICAgICAgICAgICAgICAgICAgICAgICAgICAgICAKICAgICAgICAgICAgICAgICAgICAgICAgICAgICAgICAgICAgICAgICAgICAgICAgICAgICAgICAgICAgICAgICAgICAgICAgICAgICAgICAgICAgICAgICAgICAgICAgICAgIAogICAgICAgICAgICAgICAgICAgICAgICAgICAgICAgICAgICAgICAgICAgICAgICAgICAgICAgICAgICAgICAgICAgICAgICAgICAgICAgICAgICAgICAgICAgICAgICAgICAgCiAgICAgICAgICAgICAgICAgICAgICAgICAgICAgICAgICAgICAgICAgICAgICAgICAgICAgICAgICAgICAgICAgICAgICAgICAgICAgICAgICAgICAgICAgICAgICAgICAgICAKICAgICAgICAgICAgICAgICAgICAgICAgICAgICAgICAgICAgICAgICAgICAgICAgICAgICAgICAgICAgICAgICAgICAgICAgICAgICAgICAgICAgICAgICAgICAgICAgICAgIAogICAgICAgICAgICAgICAgICAgICAgICAgICAgPD94cGFja2V0IGVuZD0ndyc/Pv/bAEMABwUFBgUEBwYFBggHBwgKEQsKCQkKFQ8QDBEYFRoZGBUYFxseJyEbHSUdFxgiLiIlKCkrLCsaIC8zLyoyJyorKv/bAEMBBwgICgkKFAsLFCocGBwqKioqKioqKioqKioqKioqKioqKioqKioqKioqKioqKioqKioqKioqKioqKioqKioqKv/AABEIAOIBOwMBIgACEQEDEQH/xAAfAAABBQEBAQEBAQAAAAAAAAAAAQIDBAUGBwgJCgv/xAC1EAACAQMDAgQDBQUEBAAAAX0BAgMABBEFEiExQQYTUWEHInEUMoGRoQgjQrHBFVLR8CQzYnKCCQoWFxgZGiUmJygpKjQ1Njc4OTpDREVGR0hJSlNUVVZXWFlaY2RlZmdoaWpzdHV2d3h5eoOEhYaHiImKkpOUlZaXmJmaoqOkpaanqKmqsrO0tba3uLm6wsPExcbHyMnK0tPU1dbX2Nna4eLj5OXm5+jp6vHy8/T19vf4+fr/xAAfAQADAQEBAQEBAQEBAAAAAAAAAQIDBAUGBwgJCgv/xAC1EQACAQIEBAMEBwUEBAABAncAAQIDEQQFITEGEkFRB2FxEyIygQgUQpGhscEJIzNS8BVictEKFiQ04SXxFxgZGiYnKCkqNTY3ODk6Q0RFRkdISUpTVFVWV1hZWmNkZWZnaGlqc3R1dnd4eXqCg4SFhoeIiYqSk5SVlpeYmZqio6Slpqeoqaqys7S1tre4ubrCw8TFxsfIycrS09TV1tfY2dri4+Tl5ufo6ery8/T19vf4+fr/2gAMAwEAAhEDEQA/APn3Faei+Ita8OXRuNB1S70+Q/eNvKUDfUDg/jWbijFAHf8A/C8/iP5Hlf8ACTSbcYz9lg3f99bM/rXJa14i1rxHdC417VLvUJB903EpcL9AeB+FZuKMUAJijFLijFACYoxS4oxQAmKMUuKMUAJijFPSN5XCxIzsegUZNWU0nUpDhNPu2PtA3+FAFPFSGaVrdYGkYwoxdYyeAx4JHucCtKPwvr0uPK0XUHz6Wz/4VZTwN4qk+54e1H8bdh/OgDFe4mkt44HlZoYixjjJ4QnGcD3wPyqLFdGPh94tP/MAvR9UxTh8PPFh/wCYHcj64H9aAOaxRiuoHw58VnrpEi/70iD+tO/4Vv4n/isoU/3ryEf+zUAcrijFdV/wrjxH3hsh9dQg/wDi6X/hXHiLuunj66lB/wDF0AcpijFdaPhp4iP/AEDR/wBxOD/4ul/4Vn4i9dMH11OD/wCKoA5HFGK6DU/CVxpEcQvdS003E0qxJb290sz8/wAR2ZAA96ydSsJNL1W6sJ2VpLaVomZOhIPUUAVcUYq/o+mjVdUS1kuY7WPazyTSdEVRknHc46DvXT6Vo/he8sbi9ntdVj0y3UiTUZ7hIstjhUjCtuY/3c/WgDicUYpzY3Hbnbk4z1x2zSYoATFGKXFGKAExRilxRigBMUYpwBJwASfQUFSpwwIPoRigBuKMUuKMUAJijFLijFACYoxS4oxQAtFLikxQAUUuKMUAJRS4qxp1k+o6paWMP+sup0hXjuzAf1oArUVf1rTotK1u7sbe8ivooJCqXMX3ZB647HsR2INT+HdCbXtTMLzi1s7eNri8umXIt4V+82O56ADuSBQBDo2halr959m0m1ad1G52yFSNf7zMeFHua24fB+m3F2mm23izTZ9VkOyOCKOQxO/ZPO27cnpnpnvVXXvEwvbX+yNBhbTdBiP7u1DfPcEf8tJ2H32PXHQdBWFE7wyJJE2142DIw7EHINAGjo13relavJaaLJNa6hck2TKnyyZLAbQf4TuA5FSzeKvFEcrwzeIdVDxuVcfbX4IOD0NR6dqFxN4ytNTu333Et+k8r4A3OZAScD3o8VWq2fjPW7aMbUh1CdFHoPMOKAIZNf1qbPm6zqL5/vXch/rVSS7u5f8AW3dw/wDvTMf61HijFABuY/edz9XNJgHrk/8AAjS4oxQAwoh6qKPLT+6Pyp+KMUAM2J/cX8qXYn9xfyp2KMUAN2J/cX8qNkf9xfyp2KMUAX9AtRc+I9Ot0UZkuo14/wB4UviKb7R4p1Wbs97KR9N5rR8BQ+d480rPIjm80/RQT/SufkkM80krHmR2c/ic0Abfh/RLW7gn1XXJXh0eyYCUxj95cSH7sUf+0fXsOag13XrjXJ4wY0tLG3G21sof9XAv9WPdjya6Cawh1LwBoB/tO302wt3uBcNOGObjIP3VBJJTp9DWSumeGFH77xNO59IdNc/+hEUAc/ilKkYypGemR1rolTwVCf3lxr16fRIIoQfxLH+VWPFHiLTdW8MaLp2mwTRnT3lA+0yCSRYzjapYKBjOTjnFAHKVObG5GnC/MLfZDL5Imx8u/Gdv1xUOK6bSpPtHw416yI3NFdW1xEMfxFthx+BoAqeE9Ms9X1pbO8gurmSTAhgt2CBj3LufuKByTg1V8QxabB4hvYtDZ30+OUrCztuJA6nPcZzg+ldTfWVz4S0g6BpVrNPr1/Gp1G4ijLGCNhkQJjoSCCx/CsVfBupW8Qm1toNFt8Z3377GI/2Y/vN+AoAuadpHi/RNHs9T0e12waq4SC6t1SSQNnAXdyY8/hUXjy783V7azluVvr2xtxDeXgwfNlzkjI67emfrXb6Jfy+EtAg0rwXbTX2q6uRM7XI+VYB/y0ZM4jB5xk5xzxXm3ieLT4vE16mjlTaB/l2tuUNj5gp7qGzg0AZNFLijFACUUuKMUAJRS4oxQAE4BPpXV3P9h+F1is302HW9VMKS3Us8zC3gZ1DCNFTBYgMNzE4zkAcVylWLA2iahbnUkmeyEgM6QEB2TPIUngE+tAHSWUGl+Lorm0sdHXS9Wjgea2a1kd4bgopZo2VslSVBwQeoxjmuYW0unxttZjnpiM/4V6B4S8c6pceMrdbXyNK0qCKeX7FZxKqRxpC7fM2NzHgZYnk1yP8AwmHiWRAX17Uc4GQJyKANL/hXHiZLVbi6tbezjZti/aruOIlv7uGPX2pNC0jUNA+JGgW+sWklrJ/aFuyiQcOvmD5lPQj3FbPivTfEPi/VPtWkyf2no3lxpZiK5UqqKoA3qTxJnJYkZyTUcUi+HNL0zS9f1KCa5h1aC6ghjlE39mxKT5hLDON2V+QH+HOBQBzvinQNQ0LUw+pQeQL95bi3Un5jH5rAMR1GccZ6irugI934C8UWdl815m2uZEUZaS2jZvMA9QGKMR6DPauk+Immap408bahrlvq2i3VnI220KalENkK/cG0kEHuR6k1xhh1TwhqtpfW95bpdKS0b2twkuOxDbSRgg4weozQBjfSlBrqdTsLDxJplxr3h2BbS5tlD6ppS9IwTgzw+seTyvVc+lcrQBPbNsvLd/7sqH/x4VufENPL+JXiEdM38jfnz/WufU4kQj+8P5103xNGPidrn+1OrfnGp/rQBy1FGaM0AFFJuHqKNy+ooAWik3CnBSeik/hQAlFPEMp6RSH6IaeLS6b7trOfpE3+FAENFWl0vUX+5p9030gb/CrUXhnXp/8AU6Lfv9Ldv8KANTwAfK168uz0tNMupc+h8sgfqa5ZPuL9K7bQ9H1LQ/D/AIqutV0+5s/+JZ5KGeIpkvIq8Z9jXFUAdM4Nz8Koxb/N9j1Uvcgfwh0wjfTII/GuZrr7Czl0X4d61d6orQ/2wsdtYwSDDSlXDNIB/dUDr71yzWtwlol08Mi28jFElK/KzDqAe5oAhooooAKnhu7iG3lghmZIpSpkVf4ipyv5GoKKAN1/GnimS2+zt4i1LyvQXDAn8Rz+tYkhaaRpJnaSRvvO5LMfxPNNooA17rxTrV3p5spr91t2RUdIlEfmqowA5UZbA9TWRRRQAUUUUAFFFFABRRRQAUV00fw/137Os16lrpiMMgahdJCxH+6xzWZrHh7UNC8hr1YnguQTDcW8qyxSY6gMvGRxke9AFWzv7ixS6W2cJ9qga3lOMkxsQSB6ZwB9M1WoooATapOSBmlAAGAMCiigBNinqo/KgADoAPpS1c0nSb3XNUh0/S4DPczHCrnAA7sT2AHJJ6UAbPw/Ei+MracELa28csl6zfdFuEPmBvYrx9SK5lfujHA7V0+t6hYaPpknhzw5OtzG7A6lqSj/AI/HU8Rx+kSn/vojPTFczQAo+8PrXpfxF1DwzYeOrkyaHLql7JDBJcvNdtEiOYl+VVC8jGDnPevM66z4nc/ES9Prb2p/8l46AIf+Er0yP/j28GaMv/XV5pD/AOhClHjdk/1Phnw9GP8ArzZv5vXMUUAdT/wn9+PuaPoCfTTVP8zR/wALD1gf6uz0WP8A3dLi/wAK5aigDqP+FjeIh9xtOT/d0yD/AOJo/wCFk+Kh92/t0/3LCAf+yVy9FAHUH4leMD01yRP9yCJf5LTT8SPGZ/5mS9H0Kj+lczRQB0bfEPxi/wB7xNqX4T4qvJ418VS53+JdVP8A29uP5GsSigD0OTxPf6r8GtWt7yaZ4lvLWHdNO8ryvksWJY8cDoK5jTfFU2j2qx6Zpumx3C9byW386Un1+bKj8qvyDyfg7CB1utbJPuEiP/xVcpQBv2cer+O/E8Ud/fyXFxICZbm4bKwRLyzeiqB2FJ4q1q31G4gsNI3po2mqYbNX6vz80rD1Y8+wxV7w0kz+CPEy6Wpk1B1iWRE5cWucyEDuMgZ9q5P6UAFFFFABRRRQAUUUUAFFFFABRRRQAUUUUAFFFFAHb6x4D1DWPFkB0NxfQa3a/wBqWs93OoZYWOGEjMfvI3yn1xXdRfBPWIfh/BpV9OHnl1Q3gFihn2L5O3Axxk5z+ArkpfC0/iSz8EaXLKtsINPuY724Y5EEaXsik+/J2gdyRX0Fd2eoHSdV0LSdTVbDTNKSyhNs4a8W4AXDMxwqnaMY75zQB4rcfBqHS4PP1U38UWSN9xNb26kjt8z1VsfBngy6uha/brfz2O1UfWEyx/4Cprr9E8O6NBZ6yniq4+0aVaxGa/F9qH2t0YYwyhMhHzgcNkg4qjrHxB8Pf8IlqWp+FNGjQaZNbWsM8kAh81WVgFLcuSoXPBBx3oAwPGPg7SvAfhm/neyA1G7lGn2qyXa3KoCN8kgwBhgoAGf79eV16n4+0LxJq9poMVyIFFrp32hlllSEyTTfvXCKTk7V2L6/Ka8sByMigArr9Rm/4RLwrb6RaHZqesWy3WpTj70cD8xW4PbI+ZvXIFcefun6V1Hj4edr9nqKcw6jpdpPEf8AdiETD8GjYUAcxRRRQAV1vxOGPiBdf9etn/6TR1yXeut+KPHxFvhn7sFqv/kvHQByVFJuHqKVQW+6CfoM0AFFSrbXDfdt5m+kZqRdOvm+7Y3TfSFv8KAK1FX10LV3+5pV6fpbt/hU6eFtfk+5ot+f+3dqAMmitxfBXid/u6BqB/7YGpV8A+LX+74d1D/vyaAOeorp1+G/jFv+Zeux/vAD+tTL8L/GDf8AMHZf96VB/WgButfuPhf4Xh7zXV3Of/HFrlK9W8SfDbxTceFfDFva6Z5hsbKU3GJVwjPKT1z6AV5ZLG8MzxSja8bFWHoRwaAOn+GaGT4k6OqmRf3pyUOMDac5/wBn19q5m4GLucZU4lcZT7p+Y9Pau68I2cWh+G7jV76WSzvdVQ2mmyonmFlY7ZCgHRu2Tgc1yOvaT/YOv3mlees5tJPLMijAJwCR9RnB9xQBn0UUUAFFFFABRRRQAUUUUAFFFFABRRRQAUUUUAeseGFtdU0Hwl4akuTaXOqQQ+XLtJDxpfzu8eR0JO1genyV0PiL4g6fql1qSaBd6Baade3Bnk8+4kjlmfG0tIBgnp0zivMPDniWO28Q6HcXBFqukabcW0UpOcyFJmRvb55APwrk0GI1BHIAoA9Oh1jSka7t/E3iqzvdMu4Ps76fpttIixqHVwUwMA7kHJzkZ5qC/wDEfgl5dPgjTVJNM0+YSw6fBAkcbNkbndmOXY4wSR04FedUUAeqeJrbwp421C+1Pw1ML/Urx3Yx6lf+RJESTjYjDDKBjAB9q8zvrG6029ktL+JobiIgOjdRxmq5APUZpSSepJ+pzQAldLqpN38NfDty3LWl7eWWf9g+XKo/Nm/OuarqHGfg/ET/AA6+wH42/P8AIUAcvRRRQAq/eH1Fdx491KXSvi1qlzBDbzuiQx7LmISIR5EY6VxEYzKg9WH866n4of8AJUNd/wBmZF/KJB/SgBn/AAn2qqP3Njo0PumnJx+eaZ/wsHxL/wAsr23hHpFZQrj/AMdrmqKAOjbx/wCLD/zG51H+wiL/ACWoj458VN/zMF/+EuP5Vg0UAbLeMPEz/e8Q6mf+3phUR8TeIH669qZ/7e3/AMay6KANA69rL/e1nUG+t3J/jUbatqTfe1K9b63L/wCNU6KAJ2vbp/v3dw31mY/1qF5JCpzLIfq5/wAaSjG7AHc4oA7P4g3E9tNodjFPKkS6HbeZGshCsTubkd+tcZXW/E1seNjB/wA+9jaRY9MQr/jXJHpQB2nhq4k8N+GH8Q30jSDzimkWTklGuMYafb6ID+JxXGySyTSvLM7SSSMXd2PLMTkk/jXU68raz4Q0fU7F91vpduLG6th1t33Fg+P7r56+orlKACiiigAooooAKKKKACiiigAooooAKKKKACiiigAooooAKKKKACiiigArqr8fZ/hDosZ4N3rN3N9QkUaD9WNcrXW+Lf8AR/B3gmy6EafPdsPeW4YD9EFAHJUUUUAS2q7763X+9Kg/8eFdJ8TG3fFLxGfS+ZfyAFYejR+dr2nx/wB66iH/AI+K1PH8m/4keJHJ/wCYnOPycj+lAHPUUm4eo/OjcvqPzoAWikyPUfnRuX1H50ALRSbl9R+dG4Hoc/SgBaKekMsn+rhkf/dQmrCaTqUv+r068f8A3bdj/SgCpUtsnmXkCf3pFH6irqeG9cf7ujagf+3Zv8Kt6d4d1aDWdPa80u8ghN1ErPLCyqMsO5oAvfE5s/E3Wl7RypGP+AxqP6VyldF8QJvP+JHiGTr/AKfIPyOP6VztAHVeAlLX2red/wAeC6VcG8B6Fdvy5992Me9coudoz1xXY6qo8K+CYtFGBqmshbq/x1hgHMcR92PzH6CuPoAKKKKACiiigAooooAKKKKACiiigAooooAKKKKACiiigAooooAKKKKAEJwprrfiCdmoaFbf8+2gWSY9CyFz/wCh1yTcofpXV/Ejjxo0f/PHT7GP6Yto/wDGgDlaKKKANfwlH53jTRY8Z338I/8AHxVvXNUlsPiRrOo2yQySLqdyyrPGHQ5kYcqetL8PIvP+Jfh1O39oRE/g2f6Vj6rN9p1rUJxz5t1K/wCbk0Ab7eP755DJJo+hM7HJb+zwM/rSf8LA1D/oE6Hj/sHr/jXLUUAdT/wn16eujaCf+3Af40v/AAn9520XQR/24D/GuVooA6ofELU1/wBXpuip9NPWlPxI8QD/AFX9nQ/9c7CMf0rlKKAOoPxJ8Wn7mrmIf9MoI1/ktRt8QvFz/e8RXw/3XC/yFc3RQBvN438UMQW8QaieehuDW9o/jTxJ4t8b6BZ61qs9xbfboVFuDiMAMO3f8a4Oun+Gq7/if4fB5AvEb8uaAM7xTL5/jLXJR/HqM5/8iGqWnXUdlqVvdTW63KQuHMLnAfHY+1P1aTzda1B/711K35uap0AWdS1C51bU7i/v5PMuLiQySN7nsPYdBVaiigAooooAKKKKACiiigAooooAKKKKACiiigAooooAKKKKACiiigAooooAOtdT8S+PiNqy/wDPMwx/98wIP6VzEQ3TRj1cD9a6T4jtu+JniHPa+dfyAH9KAOZooooA7D4UqD8TtJdukJkmP/AI2b+lcerblLHqx3fnzXX/AAyJi8VXVyP+XfSb6X/yAw/rVG20jwzBbQvqHiaSRmjVmis7MsUJH3Sx4yKAOeorphJ4GgPEGu3h9TJHEKU6n4JX7vhvUH/39Qx/IUAcxRXUDWfBo/5lK4b66k3+FL/bvhAdPBjH/e1F6AOWorqh4j8Kr9zwRCf9+/kNOHizw8v+r8C6d/wO5kNAHJ0ZHrXW/wDCZ6QPueB9FH1Mh/rSjxvYr/q/BmgD6xMf60AchuX1H511nwuAb4naJgg4nz/46akHxBeM5tvDHh6I9j9j3fzNaHgrxBda98WNAmu4LSDZKUWO0gESjIPYdaAOGuzuv7k+szn/AMeNQ1NeDbfXA9JnH/jxqGgAooooAKKKKACiiigAooooAKKKKACiiigAooooAKKKKACiiigAooooAKKKKAHI2yRH/usD+RrpPiOm34ka245We4FxGf7ySIrqfxBrma66A2/jPR7Wxmnjt9f0+IQWzzMFS+gH3Yyx6SLnCk8EcdqAORorSuPDmt2k5huNIvkkBxjyGP6gYNUJoZbeZobiN4pUOGR1wy/UUAdZ8PPlm8SSDrH4evSPxTH9a5BeIwB6V2Hw9OX8TRD70vh68Cj1woP9K49eVBHSgAooooAKKKKACiiigAooooAK6f4ayCL4n+H2Y4BvFU/jxXMVo+H7z+z/ABNpl508i7jfP0YUARaxGYdd1CI8GO7mU/g5qnW541g+zePddjHT7fMw+jNuH86w6ACiiigAooooAKKKKACiiigAooooAKKKKACiiigAooooAKKKKACiiigAooooAKKKKAL8eu6vFF5UeqXix9lEzYFU5ZZJ5WkmdpJGOWdzkn6mmUUAbfhDXIPD/iaC8vlL2bpJb3Kr1MUiFGx74OfwrGmEMNxJFbzrNFG5VJQMb1B4bHbIq/o2uXug3Mk+nGESSRmNvNhWQY9geh960f8AhPPEWOLyMfS3T/CgDnQc9Bn6CnBHPSKQ/RDXQf8ACfeJu2plf92FB/Sg+PfFHbWZh9FUf0oAwltbhvu20x+kTf4VKumag/3NPu2+lu5/pWsfHnilv+Y5dD6MB/SmHxv4oPXXr3/v5QBSTQdZk+5o2oN9LV/8KmXwt4hb7ug6kf8At1f/AAp7eL/Ebfe12/8A+/5qJvE2vP8Ae1q/P/bw3+NAEo8IeJT08Pal/wCAzf4U4eC/FDdPD2pf+AzVVPiDWj11i+P/AG8N/jTf7e1j/oL33/gQ3+NAF3/hCPFX/Qu6l/4DtTx4G8WZBXw7qWRyP9HNZ/8Ab2sf9Be+/wDAhv8AGk/4SDVx11i9H/by3+NADtZ0/V7C+P8Ab9rdW91N8+blCGftnnrWfU9zqF3fbftl3NdbM7TLIX2/TNQUAFFFFABRRRQAUUUUAFFFFABRRRQAUUUUAFFFFABRRRQAmaM0UUAGaM0UUAGaM0UUAGaM0UUAGaM0UUAGavaRpU2s3r21s6I6QSzkv02xoXP44FUa0vD+sNoWtRXwhWdFV45YWOBJG6lWXPbIJoAzQ2VB7EZq6NG1Q6b/AGgNNuzZ/wDPx5LbMeucdPetaLW9A0tfM0XQWluh9yXU5RMsfphAACR75qqfF2vnVP7Q/te6FzjAIf5QP7u3pj2xQBjbh2IP40Zro28Z3M7Fr3SdGunPV5LFQx+uKT/hKrY/f8L6I30tyP5GgDns0ma6E+JNMf7/AIT0v/gLSL/I0n9vaG33vCVmP925lH9aAOfzRmuhGr+GX/1nhYr/ANc7+QfzNL/aHhI9dAvl/wB2/P8AUUAc7muo8N6h4gvvL07Q9KtL7yxjL2SPtHq7kYA9yaiGteHLVg1l4YEzjob67eRR/wABGAag1HxjrOo2v2MXC2dj2tLNBDH+IXr+NAG142uNLTSrWxK6bPrqSl7q40yERwxJj/VZHDtnnPQVxOaKKADNGaKKADNGaKKADNGaKKADNGaKKADNGaKKADNGaKKADNGaKKADNGaKKACikooAWikooAWikooAWikooAWikooAWikooAWikooAWr1/pM2n2Wn3buksF/EZI3ToCrYZD/tDj8xVCujmlL/DC1R+sWrv5XsGi+b9QtAHOEgdTS/16Ad69A8LWth/YenSOmmyWEjynW5bpl8yNRjaqg/NnHI29SaxPAlzBD4xhhY+XFd77dLh22vBu+64PQMOKAKNp4V1q9t0nt7L91IMo0kyJuHtuYVX1PQ9T0YRnU7KSBJDhJDhkY+gYEjPtW141ldo9NXUpYpNaSN/tphIIC5HlhivBfGc49q1vEEmk6P8L9O0u1uYLvUNRWO4m8mTd5eGLZb0bouPrQBwFFJRQAtFJRQAtFJRQAtFJRQAtFJRQAtFJRQAtFJRQAtFJRQAtFJRQAtFJRQAUUzzV9aPNX1oAfRTPNX1o81fWgB9FM81fWjzV9aAH0UzzV9aPNX1oAfRTPNX1o81fWgB9FM81fWjzV9aAH0Umc0ZoAWrs2omXQbXTRHtEE8k5fP3ywUdPbb+tUc0v8NACcUtJmjNAC0gGOlGaM0ALRSZozQAtFJmjNAC0UmaM0ALRSZozQAtFJmjNAC0UmaM0ALRSZozQAtFJmjNAC0UmaM0ALRSZozQBWooooAKKKKACiiigAooooAKKKKACiiigCwv3R9KWiigApf4aKKAEooooAKKKKACiiigAooooAKKKKACiiigAooooAKKKKACiiigAooooAKKKKACiiigD//Z)"
      ],
      "metadata": {
        "id": "pMZoqx6DoU-i"
      }
    },
    {
      "cell_type": "markdown",
      "source": [
        "### Create PyTorch Data Loader."
      ],
      "metadata": {
        "id": "PX5IP6dWqjiq"
      }
    },
    {
      "cell_type": "code",
      "source": [
        "from torch.utils.data import TensorDataset, DataLoader"
      ],
      "metadata": {
        "id": "zQ32iILRq2-n"
      },
      "execution_count": 90,
      "outputs": []
    },
    {
      "cell_type": "code",
      "source": [
        "#First creating a tensor dataset\n",
        "train_ds = TensorDataset(train_input_tensors, train_target_tensors)\n",
        "val_ds = TensorDataset(val_input_tensors, val_target_tensors)\n",
        "\n",
        "test_ds = TensorDataset(test_input_tensors)"
      ],
      "metadata": {
        "id": "4gBCyiYRrXG2"
      },
      "execution_count": 92,
      "outputs": []
    },
    {
      "cell_type": "code",
      "source": [
        "BATCH_SIZE =128"
      ],
      "metadata": {
        "id": "iE8blxe8sfG5"
      },
      "execution_count": 94,
      "outputs": []
    },
    {
      "cell_type": "code",
      "source": [
        "#Creating a data loader\n",
        "train_dl = DataLoader(train_ds, batch_size=BATCH_SIZE,shuffle=True)# Shuffle = True is just for the purpose of training\n",
        "val_dl = DataLoader(val_ds, batch_size =BATCH_SIZE)#No need shuffling because we are only using it for validation\n",
        "test_dl =DataLoader(test_ds, batch_size=BATCH_SIZE)\n",
        "\n"
      ],
      "metadata": {
        "id": "r7dsuU4qrXKU"
      },
      "execution_count": 95,
      "outputs": []
    },
    {
      "cell_type": "code",
      "source": [
        "#Using the batch\n",
        "\n",
        "for batch in train_dl:\n",
        "  batch_inputs = batch[0]\n",
        "  batch_targets = batch[1]\n",
        "  print(f'batch_inputs.shape{ batch_inputs.shape}')\n",
        "  print(f'batch_targets.shape{ batch_targets.shape}')\n",
        "  break # it will print only the first iteration batches"
      ],
      "metadata": {
        "colab": {
          "base_uri": "https://localhost:8080/"
        },
        "id": "Aq_AcMsmt2G8",
        "outputId": "5eb627c5-3cca-4fb0-d7ef-9c48b57e04be"
      },
      "execution_count": 96,
      "outputs": [
        {
          "output_type": "stream",
          "name": "stdout",
          "text": [
            "batch_inputs.shapetorch.Size([128, 1000])\n",
            "batch_targets.shapetorch.Size([128])\n"
          ]
        }
      ]
    },
    {
      "cell_type": "code",
      "source": [
        "#len of batches(the number of batches in the data)\n",
        "len(train_dl) "
      ],
      "metadata": {
        "colab": {
          "base_uri": "https://localhost:8080/"
        },
        "id": "wB0MF-e9vAyY",
        "outputId": "d7acd387-5c29-4acb-fc7d-8f5b4d3b8f16"
      },
      "execution_count": 98,
      "outputs": [
        {
          "output_type": "execute_result",
          "data": {
            "text/plain": [
              "547"
            ]
          },
          "metadata": {},
          "execution_count": 98
        }
      ]
    },
    {
      "cell_type": "code",
      "source": [
        "128*547"
      ],
      "metadata": {
        "colab": {
          "base_uri": "https://localhost:8080/"
        },
        "id": "FiTMKmVqwH-j",
        "outputId": "0e9d72a2-8465-4a16-ad9c-284edc96f7fd"
      },
      "execution_count": 99,
      "outputs": [
        {
          "output_type": "execute_result",
          "data": {
            "text/plain": [
              "70016"
            ]
          },
          "metadata": {},
          "execution_count": 99
        }
      ]
    },
    {
      "cell_type": "markdown",
      "source": [
        "## Train Deep Learning Model\n",
        "![ML walkflow.JPG](data:image/jpeg;base64,/9j/4AAQSkZJRgABAQEAYABgAAD/4RDcRXhpZgAATU0AKgAAAAgABAE7AAIAAAAGAAAISodpAAQAAAABAAAIUJydAAEAAAAMAAAQyOocAAcAAAgMAAAAPgAAAAAc6gAAAAgAAAAAAAAAAAAAAAAAAAAAAAAAAAAAAAAAAAAAAAAAAAAAAAAAAAAAAAAAAAAAAAAAAAAAAAAAAAAAAAAAAAAAAAAAAAAAAAAAAAAAAAAAAAAAAAAAAAAAAAAAAAAAAAAAAAAAAAAAAAAAAAAAAAAAAAAAAAAAAAAAAAAAAAAAAAAAAAAAAAAAAAAAAAAAAAAAAAAAAAAAAAAAAAAAAAAAAAAAAAAAAAAAAAAAAAAAAAAAAAAAAAAAAAAAAAAAAAAAAAAAAAAAAAAAAAAAAAAAAAAAAAAAAAAAAAAAAAAAAAAAAAAAAAAAAAAAAAAAAAAAAAAAAAAAAAAAAAAAAAAAAAAAAAAAAAAAAAAAAAAAAAAAAAAAAAAAAAAAAAAAAAAAAAAAAAAAAAAAAAAAAAAAAAAAAAAAAAAAAAAAAAAAAAAAAAAAAAAAAAAAAAAAAAAAAAAAAAAAAAAAAAAAAAAAAAAAAAAAAAAAAAAAAAAAAAAAAAAAAAAAAAAAAAAAAAAAAAAAAAAAAAAAAAAAAAAAAAAAAAAAAAAAAAAAAAAAAAAAAAAAAAAAAAAAAAAAAAAAAAAAAAAAAAAAAAAAAAAAAAAAAAAAAAAAAAAAAAAAAAAAAAAAAAAAAAAAAAAAAAAAAAAAAAAAAAAAAAAAAAAAAAAAAAAAAAAAAAAAAAAAAAAAAAAAAAAAAAAAAAAAAAAAAAAAAAAAAAAAAAAAAAAAAAAAAAAAAAAAAAAAAAAAAAAAAAAAAAAAAAAAAAAAAAAAAAAAAAAAAAAAAAAAAAAAAAAAAAAAAAAAAAAAAAAAAAAAAAAAAAAAAAAAAAAAAAAAAAAAAAAAAAAAAAAAAAAAAAAAAAAAAAAAAAAAAAAAAAAAAAAAAAAAAAAAAAAAAAAAAAAAAAAAAAAAAAAAAAAAAAAAAAAAAAAAAAAAAAAAAAAAAAAAAAAAAAAAAAAAAAAAAAAAAAAAAAAAAAAAAAAAAAAAAAAAAAAAAAAAAAAAAAAAAAAAAAAAAAAAAAAAAAAAAAAAAAAAAAAAAAAAAAAAAAAAAAAAAAAAAAAAAAAAAAAAAAAAAAAAAAAAAAAAAAAAAAAAAAAAAAAAAAAAAAAAAAAAAAAAAAAAAAAAAAAAAAAAAAAAAAAAAAAAAAAAAAAAAAAAAAAAAAAAAAAAAAAAAAAAAAAAAAAAAAAAAAAAAAAAAAAAAAAAAAAAAAAAAAAAAAAAAAAAAAAAAAAAAAAAAAAAAAAAAAAAAAAAAAAAAAAAAAAAAAAAAAAAAAAAAAAAAAAAAAAAAAAAAAAAAAAAAAAAAAAAAAAAAAAAAAAAAAAAAAAAAAAAAAAAAAAAAAAAAAAAAAAAAAAAAAAAAAAAAAAAAAAAAAAAAAAAAAAAAAAAAAAAAAAAAAAAAAAAAAAAAAAAAAAAAAAAAAAAAAAAAAAAAAAAAAAAAAAAAAAAAAAAAAAAAAAAAAAAAAAAAAAAAAAAAAAAAAAAAAAAAAAAAAAAAAAAAAAAAAAAAAAAAAAAAAAAAAAAAAAAAAAAAAAAAAAAAAAAAAAAAAAAAAAAAAAAAAAAAAAAAAAAAAAAAAAAAAAAAAAAAAAAAAAAAAAAAAAAAAAAAAAAAAAAAAAAAAAAAAAAAAAAAAAAAAAAAAAAAAAAAAAAAAAAAAAAAAAAAAAAAAAAAAAAAAAAAAAAAAAAAAAAAAAAAAAAAAAAAAAAAAAAAAAAAAAAAAAAAAAAAAAAAAAAAAAAAAAAAAAAAAAAAAAAAAAAAAAAAAAAAAAAAAAAAAAAAAAAAAAAAAAAAAAAAAAAAAAAAAAAAAAAAAAAAAAAAAAAAAAAAAAAAAAAAAAAAAAAAAAAAAAAAAAAAAAAAAAAAAAAAAAAAAAAAAAAAAAAAAAAAAAAAAAAAAAAAAAAAAAAAAAAAAAAAAAAAAAAAAAAAAAAAAAAAAAAAAAAAAAAAAAAAAAAAAAAAAAAAAAAAAAAAAAAAAAAAAAAAAAAAAAAAAAAAAAAAAAAAAAAAAAAAAAAAAAAAAAAAAAAAAAAAAAAAAAAAAAAAAAAAAAAAAAAAAAAAAAAAAAAAAAAAAAAAAAAAAAAAAAAAAAAAAAAAAAAAAAAAAAAAAAAAAAAAAAAAAAAAAAAAAAAAAAAAAAAAAAAAAAAAAAAAAAAAAAAAAAAAAAAAAAAAAAAAAAAAAAAAAAAAAAAAAAAAAAAAAAAAAAAAAAAAAAAAAAAAAAAAAAAAAAAAAAAAAAAAAAAAAAAAAAAAAAAAAAAAAAAAAAAAAAAAAAAAAAAAAAAAAAAAAAAAAAAAAAAAAAAAAAAAAAAAAAAAAAAAAAAAAAAAAAAAAAAAAAAAAAAAAAAAAAAAAAAAAAAAAAAAAAAAAAAAAAAAAAAAAAAAAAAAAAAAAAAAAAAAAAAAAAAAAAAAAAAAAAAAAAAAAAAAAAAAAAAAAAAAAAAAAAAAAAAAAAAAAAAAAAAAAAAAAAAAAAAAAAAAAAAAAAAAAAAAAAAAAAAAAAAAAAAAAAAAAAAAAAAAAAAAAAAAAAAAAAAAAAAAAAAAAAAAAAAAAAAAAAAAAAAAAAAAAAAAAAAAAAAAAAAAAAAAAAAAAAAAAAAAAAAAAAAAAAAAAAAAAAAAAAAAAAAAAAAAAAAAAAAAAAAAAAAAAAAAAAAAAAAAAAAAAAAAAAAAAAAAAAAAAAAAAAAAAAAAAAAAAAAAAAAAAAAAAAAAAAAAAAAAAAAAAAAAAAAAAAAAEFkbWluAAAFkAMAAgAAABQAABCekAQAAgAAABQAABCykpEAAgAAAAM1MwAAkpIAAgAAAAM1MwAA6hwABwAACAwAAAiSAAAAABzqAAAACAAAAAAAAAAAAAAAAAAAAAAAAAAAAAAAAAAAAAAAAAAAAAAAAAAAAAAAAAAAAAAAAAAAAAAAAAAAAAAAAAAAAAAAAAAAAAAAAAAAAAAAAAAAAAAAAAAAAAAAAAAAAAAAAAAAAAAAAAAAAAAAAAAAAAAAAAAAAAAAAAAAAAAAAAAAAAAAAAAAAAAAAAAAAAAAAAAAAAAAAAAAAAAAAAAAAAAAAAAAAAAAAAAAAAAAAAAAAAAAAAAAAAAAAAAAAAAAAAAAAAAAAAAAAAAAAAAAAAAAAAAAAAAAAAAAAAAAAAAAAAAAAAAAAAAAAAAAAAAAAAAAAAAAAAAAAAAAAAAAAAAAAAAAAAAAAAAAAAAAAAAAAAAAAAAAAAAAAAAAAAAAAAAAAAAAAAAAAAAAAAAAAAAAAAAAAAAAAAAAAAAAAAAAAAAAAAAAAAAAAAAAAAAAAAAAAAAAAAAAAAAAAAAAAAAAAAAAAAAAAAAAAAAAAAAAAAAAAAAAAAAAAAAAAAAAAAAAAAAAAAAAAAAAAAAAAAAAAAAAAAAAAAAAAAAAAAAAAAAAAAAAAAAAAAAAAAAAAAAAAAAAAAAAAAAAAAAAAAAAAAAAAAAAAAAAAAAAAAAAAAAAAAAAAAAAAAAAAAAAAAAAAAAAAAAAAAAAAAAAAAAAAAAAAAAAAAAAAAAAAAAAAAAAAAAAAAAAAAAAAAAAAAAAAAAAAAAAAAAAAAAAAAAAAAAAAAAAAAAAAAAAAAAAAAAAAAAAAAAAAAAAAAAAAAAAAAAAAAAAAAAAAAAAAAAAAAAAAAAAAAAAAAAAAAAAAAAAAAAAAAAAAAAAAAAAAAAAAAAAAAAAAAAAAAAAAAAAAAAAAAAAAAAAAAAAAAAAAAAAAAAAAAAAAAAAAAAAAAAAAAAAAAAAAAAAAAAAAAAAAAAAAAAAAAAAAAAAAAAAAAAAAAAAAAAAAAAAAAAAAAAAAAAAAAAAAAAAAAAAAAAAAAAAAAAAAAAAAAAAAAAAAAAAAAAAAAAAAAAAAAAAAAAAAAAAAAAAAAAAAAAAAAAAAAAAAAAAAAAAAAAAAAAAAAAAAAAAAAAAAAAAAAAAAAAAAAAAAAAAAAAAAAAAAAAAAAAAAAAAAAAAAAAAAAAAAAAAAAAAAAAAAAAAAAAAAAAAAAAAAAAAAAAAAAAAAAAAAAAAAAAAAAAAAAAAAAAAAAAAAAAAAAAAAAAAAAAAAAAAAAAAAAAAAAAAAAAAAAAAAAAAAAAAAAAAAAAAAAAAAAAAAAAAAAAAAAAAAAAAAAAAAAAAAAAAAAAAAAAAAAAAAAAAAAAAAAAAAAAAAAAAAAAAAAAAAAAAAAAAAAAAAAAAAAAAAAAAAAAAAAAAAAAAAAAAAAAAAAAAAAAAAAAAAAAAAAAAAAAAAAAAAAAAAAAAAAAAAAAAAAAAAAAAAAAAAAAAAAAAAAAAAAAAAAAAAAAAAAAAAAAAAAAAAAAAAAAAAAAAAAAAAAAAAAAAAAAAAAAAAAAAAAAAAAAAAAAAAAAAAAAAAAAAAAAAAAAAAAAAAAAAAAAAAAAAAAAAAAAAAAAAAAAAAAAAAAAAAAAAAAAAAAAAAAAAAAAAAAAAAAAAAAAAAAAAAAAAAAAAAAAAAAAAAAAAAAAAAAAAAAAAAAAAAAAAAAAAAAAAAAAAAAAAAAAAAAAAAAAAAAAAAAAAAAAAAAAAAAAAAAAAAAAAAAAAAAAAAAAAAAAAAAAAAAAAAAAAAAAAAAAAAAAAAAAAAAAAAAAAAAAAAAAAAAAAAAAAAAAAAAAAAAAAAAAAAAAAAAAAAAAAAAAAAAAAAAAAAAAAAAAAAAAAAAAAAAAAAAAAAAAAAAAAAAAAAAAAAAAAAAAAAAAAAAAAAAAAAAAAAAAAAAAAAAAAAAAAAAAAAAAAAAAAAAAAAAAAAAAAAAAAAAAAAAAAAAAAAAAAAAAAAAAAAAAAAAAAAAAAAAAAAAAAAAAAAAAAAAAAAAAAAAAAAAAAAAAAAAAAAAAAAAAAAAAAAAAAAAAAAAAAAAAAAAAAAAAAAAAAAAAAAAAAAAAAAAAAAAAAAAAAAAAAAAAAAAAAAAAAAAAAAAAAAAAAAAAAAAAAAAAAAAAAAAAAAAAAAAAAAAAAAAAAAAAAAAAAAAAAAAAAAAAAAAAAAAAAAAAAAAAAAAAAAAAAAAAAAAAAAAAAAAAAAAAAAAAAAAAAAAAAAAAAAAAAAAAAAAAAAAAAAAAAAAAAAAAAAAAAAAAAAAAAAAAAAAAAAAAAAAAAAAAAAAAAAAAAAAAAAAAAAAAAAAAAAAAAAAAAAAAAAAAAAAAAAAAAAAAAAAAAAAAAAAAAAAAAAAAAAAAAAAAAAAAAAAAAAAAAAAAAAAAAAAAAAAAAAAAAAAAAAAAAAAAAAAAAAAAAAAAAAAAAAAAAAAAAAAAAAAAAAAAAAAAAAAAAAAAAAAAAAAAAAAAAAAAAAAAAAAAAAAAAAAAAAAAAAAAAAAAAAAAAAAAAAAAAAAAAAAAAAAAAAAAAAAAAAAAAAAAAAAAAAAAAAAAAAAAAAAAAAAAAAAAAAAAAAAAAAAAAAAAAAAAAAAAAAAAAAAAAAAAAAAAAAAAAAAAAAAAAAAAAAAAAAAAAAAAAAAAAAAAAAAAAAAAAAAAAAAAAAAAAAAAAAAAAAAAAAAAAAAAAAAAAAAAAAAAAAAAAAAAAAAAAAAAAAAAAAAAAAAAAAAAAAAAAAAAAAAAAAAAAAAAAAAAAAAAAMjAyMjoxMjowNCAxNzozMzoxNwAyMDIyOjEyOjA0IDE3OjMzOjE3AAAAQQBkAG0AaQBuAAAA/+ELGGh0dHA6Ly9ucy5hZG9iZS5jb20veGFwLzEuMC8APD94cGFja2V0IGJlZ2luPSfvu78nIGlkPSdXNU0wTXBDZWhpSHpyZVN6TlRjemtjOWQnPz4NCjx4OnhtcG1ldGEgeG1sbnM6eD0iYWRvYmU6bnM6bWV0YS8iPjxyZGY6UkRGIHhtbG5zOnJkZj0iaHR0cDovL3d3dy53My5vcmcvMTk5OS8wMi8yMi1yZGYtc3ludGF4LW5zIyI+PHJkZjpEZXNjcmlwdGlvbiByZGY6YWJvdXQ9InV1aWQ6ZmFmNWJkZDUtYmEzZC0xMWRhLWFkMzEtZDMzZDc1MTgyZjFiIiB4bWxuczpkYz0iaHR0cDovL3B1cmwub3JnL2RjL2VsZW1lbnRzLzEuMS8iLz48cmRmOkRlc2NyaXB0aW9uIHJkZjphYm91dD0idXVpZDpmYWY1YmRkNS1iYTNkLTExZGEtYWQzMS1kMzNkNzUxODJmMWIiIHhtbG5zOnhtcD0iaHR0cDovL25zLmFkb2JlLmNvbS94YXAvMS4wLyI+PHhtcDpDcmVhdGVEYXRlPjIwMjItMTItMDRUMTc6MzM6MTcuNTMxPC94bXA6Q3JlYXRlRGF0ZT48L3JkZjpEZXNjcmlwdGlvbj48cmRmOkRlc2NyaXB0aW9uIHJkZjphYm91dD0idXVpZDpmYWY1YmRkNS1iYTNkLTExZGEtYWQzMS1kMzNkNzUxODJmMWIiIHhtbG5zOmRjPSJodHRwOi8vcHVybC5vcmcvZGMvZWxlbWVudHMvMS4xLyI+PGRjOmNyZWF0b3I+PHJkZjpTZXEgeG1sbnM6cmRmPSJodHRwOi8vd3d3LnczLm9yZy8xOTk5LzAyLzIyLXJkZi1zeW50YXgtbnMjIj48cmRmOmxpPkFkbWluPC9yZGY6bGk+PC9yZGY6U2VxPg0KCQkJPC9kYzpjcmVhdG9yPjwvcmRmOkRlc2NyaXB0aW9uPjwvcmRmOlJERj48L3g6eG1wbWV0YT4NCiAgICAgICAgICAgICAgICAgICAgICAgICAgICAgICAgICAgICAgICAgICAgICAgICAgICAgICAgICAgICAgICAgICAgICAgICAgICAgICAgICAgICAgICAgICAgICAgICAgICAKICAgICAgICAgICAgICAgICAgICAgICAgICAgICAgICAgICAgICAgICAgICAgICAgICAgICAgICAgICAgICAgICAgICAgICAgICAgICAgICAgICAgICAgICAgICAgICAgICAgIAogICAgICAgICAgICAgICAgICAgICAgICAgICAgICAgICAgICAgICAgICAgICAgICAgICAgICAgICAgICAgICAgICAgICAgICAgICAgICAgICAgICAgICAgICAgICAgICAgICAgCiAgICAgICAgICAgICAgICAgICAgICAgICAgICAgICAgICAgICAgICAgICAgICAgICAgICAgICAgICAgICAgICAgICAgICAgICAgICAgICAgICAgICAgICAgICAgICAgICAgICAKICAgICAgICAgICAgICAgICAgICAgICAgICAgICAgICAgICAgICAgICAgICAgICAgICAgICAgICAgICAgICAgICAgICAgICAgICAgICAgICAgICAgICAgICAgICAgICAgICAgIAogICAgICAgICAgICAgICAgICAgICAgICAgICAgICAgICAgICAgICAgICAgICAgICAgICAgICAgICAgICAgICAgICAgICAgICAgICAgICAgICAgICAgICAgICAgICAgICAgICAgCiAgICAgICAgICAgICAgICAgICAgICAgICAgICAgICAgICAgICAgICAgICAgICAgICAgICAgICAgICAgICAgICAgICAgICAgICAgICAgICAgICAgICAgICAgICAgICAgICAgICAKICAgICAgICAgICAgICAgICAgICAgICAgICAgICAgICAgICAgICAgICAgICAgICAgICAgICAgICAgICAgICAgICAgICAgICAgICAgICAgICAgICAgICAgICAgICAgICAgICAgIAogICAgICAgICAgICAgICAgICAgICAgICAgICAgICAgICAgICAgICAgICAgICAgICAgICAgICAgICAgICAgICAgICAgICAgICAgICAgICAgICAgICAgICAgICAgICAgICAgICAgCiAgICAgICAgICAgICAgICAgICAgICAgICAgICAgICAgICAgICAgICAgICAgICAgICAgICAgICAgICAgICAgICAgICAgICAgICAgICAgICAgICAgICAgICAgICAgICAgICAgICAKICAgICAgICAgICAgICAgICAgICAgICAgICAgICAgICAgICAgICAgICAgICAgICAgICAgICAgICAgICAgICAgICAgICAgICAgICAgICAgICAgICAgICAgICAgICAgICAgICAgIAogICAgICAgICAgICAgICAgICAgICAgICAgICAgICAgICAgICAgICAgICAgICAgICAgICAgICAgICAgICAgICAgICAgICAgICAgICAgICAgICAgICAgICAgICAgICAgICAgICAgCiAgICAgICAgICAgICAgICAgICAgICAgICAgICAgICAgICAgICAgICAgICAgICAgICAgICAgICAgICAgICAgICAgICAgICAgICAgICAgICAgICAgICAgICAgICAgICAgICAgICAKICAgICAgICAgICAgICAgICAgICAgICAgICAgICAgICAgICAgICAgICAgICAgICAgICAgICAgICAgICAgICAgICAgICAgICAgICAgICAgICAgICAgICAgICAgICAgICAgICAgIAogICAgICAgICAgICAgICAgICAgICAgICAgICAgICAgICAgICAgICAgICAgICAgICAgICAgICAgICAgICAgICAgICAgICAgICAgICAgICAgICAgICAgICAgICAgICAgICAgICAgCiAgICAgICAgICAgICAgICAgICAgICAgICAgICAgICAgICAgICAgICAgICAgICAgICAgICAgICAgICAgICAgICAgICAgICAgICAgICAgICAgICAgICAgICAgICAgICAgICAgICAKICAgICAgICAgICAgICAgICAgICAgICAgICAgICAgICAgICAgICAgICAgICAgICAgICAgICAgICAgICAgICAgICAgICAgICAgICAgICAgICAgICAgICAgICAgICAgICAgICAgIAogICAgICAgICAgICAgICAgICAgICAgICAgICAgICAgICAgICAgICAgICAgICAgICAgICAgICAgICAgICAgICAgICAgICAgICAgICAgICAgICAgICAgICAgICAgICAgICAgICAgCiAgICAgICAgICAgICAgICAgICAgICAgICAgICAgICAgICAgICAgICAgICAgICAgICAgICAgICAgICAgICAgICAgICAgICAgICAgICAgICAgICAgICAgICAgICAgICAgICAgICAKICAgICAgICAgICAgICAgICAgICAgICAgICAgICAgICAgICAgICAgICAgICAgICAgICAgICAgICAgICAgICAgICAgICAgICAgICAgICAgICAgICAgICAgICAgICAgICAgICAgIAogICAgICAgICAgICAgICAgICAgICAgICAgICAgPD94cGFja2V0IGVuZD0ndyc/Pv/bAEMABwUFBgUEBwYFBggHBwgKEQsKCQkKFQ8QDBEYFRoZGBUYFxseJyEbHSUdFxgiLiIlKCkrLCsaIC8zLyoyJyorKv/bAEMBBwgICgkKFAsLFCocGBwqKioqKioqKioqKioqKioqKioqKioqKioqKioqKioqKioqKioqKioqKioqKioqKioqKv/AABEIAVUCBgMBIgACEQEDEQH/xAAfAAABBQEBAQEBAQAAAAAAAAAAAQIDBAUGBwgJCgv/xAC1EAACAQMDAgQDBQUEBAAAAX0BAgMABBEFEiExQQYTUWEHInEUMoGRoQgjQrHBFVLR8CQzYnKCCQoWFxgZGiUmJygpKjQ1Njc4OTpDREVGR0hJSlNUVVZXWFlaY2RlZmdoaWpzdHV2d3h5eoOEhYaHiImKkpOUlZaXmJmaoqOkpaanqKmqsrO0tba3uLm6wsPExcbHyMnK0tPU1dbX2Nna4eLj5OXm5+jp6vHy8/T19vf4+fr/xAAfAQADAQEBAQEBAQEBAAAAAAAAAQIDBAUGBwgJCgv/xAC1EQACAQIEBAMEBwUEBAABAncAAQIDEQQFITEGEkFRB2FxEyIygQgUQpGhscEJIzNS8BVictEKFiQ04SXxFxgZGiYnKCkqNTY3ODk6Q0RFRkdISUpTVFVWV1hZWmNkZWZnaGlqc3R1dnd4eXqCg4SFhoeIiYqSk5SVlpeYmZqio6Slpqeoqaqys7S1tre4ubrCw8TFxsfIycrS09TV1tfY2dri4+Tl5ufo6ery8/T19vf4+fr/2gAMAwEAAhEDEQA/AOhHww8JKMf2FZnHHMQNL/wrLwl/0AbL/vyK7Ux5Jo8qgDiv+FZeEv8AoA2X/fkUf8Ky8Jf9AGy/78iu18qjyqAOK/4Vl4S/6ANl/wB+RR/wrLwl/wBAGy/78iu18qjyqAOK/wCFZeEv+gDZf9+RR/wrLwl/0AbL/vyK7XyqPKoA4r/hWXhL/oBWX/fkUf8ACsfCX/QCs/8Av0K7XyqPKoA4r/hWXhL/AKAVn/35FH/CsvCX/QCs/wDvyK7XyqPKoA4r/hWXhL/oBWf/AH5FH/CsvCX/AEArP/vyK7XyqPKoA4r/AIVl4S/6AVn/AN+RR/wrLwl/0ArP/vyK7XyqPKoA4r/hWXhL/oBWf/fkUf8ACsvCX/QCs/8AvyK7XyqPKoA4r/hWXhL/AKAVn/35FH/CsvCX/QCs/wDvyK7XyqPKoA4r/hWXhL/oBWf/AH5FH/CsvCX/AEArP/vyK7XyqPKoA4r/AIVl4S/6AVn/AN+RR/wrLwl/0ArP/vyK7XyqjkeCEgTTRxk9A7hc/nQBxv8AwrHwl/0ArP8A78ij/hWPhL/oBWf/AH5Fdf8AarP/AJ+7f/v8v+NJ9qs/+fu3/wC/y/407Acj/wAKx8Jf9AKz/wC/Io/4Vj4S/wCgFZ/9+RXXfarP/n7t/wDv8v8AjR9qs/8An7t/+/y/40WA5H/hWPhL/oBWf/fkUf8ACsfCX/QCs/8AvyK677VZ/wDP3b/9/l/xo+1Wf/P3b/8Af5f8aLCucj/wrHwl/wBAKz/78ij/AIVj4S/6AVn/AN+RXXfarP8A5+7f/v8AL/jR9qs/+fu3/wC/y/40WGcj/wAKx8Jf9AKz/wC/Ipf+FY+Ev+gFZ/8AfkV1v2qz/wCfu3/7/L/jR9qs/wDn7t/+/wAv+NFgOS/4Vl4S/wCgFZ/9+RR/wrLwl/0ArP8A78iut+02n/P3b/8Af1f8aPtNp/z92/8A39X/ABpAcl/wrLwl/wBAGz/78ij/AIVl4R/6ANn/AN+RXW/arT/n7t/+/q/40farP/n7t/8Av6v+NAro5L/hWXhH/oA2f/fkUf8ACsvCP/QBs/8AvyK637XZ/wDP3b/9/V/xoF1Z/wDP3b/9/V/xoC6OS/4Vl4R/6ANn/wB+RR/wrLwj/wBAGz/78iuzRUkUMjKynoVOQad5VAziv+FZeEf+gDZ/9+RR/wAKy8I/9AGz/wC/IrtfKo8qgDiv+FZeEf8AoA2f/fkUf8Ky8I/9AGz/AO/IrtfKo8qgDiv+FZeEf+gDZ/8AfkUf8Ky8I/8AQBs/+/IrtfKo8qgDiv8AhWXhH/oA2f8A35FH/CsvCP8A0AbP/vyK7XyqPKoA4r/hWXhH/oA2f/fkUf8ACsvCP/QBs/8AvyK7XyqPKoA4r/hWXhH/AKANn/35FH/CsvCP/QBs/wDvyK7XyqPKoA4r/hWXhL/oBWf/AH5FH/CsvCX/AEArL/vyK7XyqPKoA4r/AIVl4S/6AVl/35FH/CsvCX/QCsv+/IrtfKo8qgDiv+FZeEv+gFZf9+RR/wAKy8Jf9AGy/wC/IrtfKo8qgDi/+FZeEf8AoA2f/fkUf8Ky8I/9AGz/AO/IrtPKo8qgDi/+FZeEf+gDZ/8AfkVrweHtMtPDj6HbWEMVmz7gqDAXJBIx7kA1u+VR5VAGTqGlWWpX0N3cWEDSwwmFS6huCQW/MgUVreVRQBaKfMaNlTlPmP1NG2gCDZRsqfbRtoAg2UbKn20baAINlGyp9tG2gCDZRsqfbRsHegCDZRsrmP8AhJNcg8U3Gm32m6dHaWtut5LcR3Mjv5LOyjCBOX+XpWhJ4x0OKziuZLiZVluDapH9mk83zQu4oY9u4HHPSgDX2UbKyF8ZaC2pNYi7cSokkhdoHEW2P758wjadvQ89eKrXvjzR7SyiuY0vJ1e7itWjS1kWSMycqxUrnGBkcc9qAOg2UbKq6lrVhpFvDLfyOvnttijjiZ5JDjJwigscDk8cVEniXR5LY3EV6skK2Rvy6KSPIBKlunYgjHXigC/so2Vzy+PNHXUtXtroXFtFpSxNJdSQt5bq6ggg44+8B79RWjZ+J9HvmRba6Jke6FoI3iZHEpUsFKkAjIGQTwRQBobKNlYzeMdLOtWGnQLcztetOiyxwOURojhgTj14z26nrW3NNDb+X58ix+Y4jTccZY9BQA3ZRsqfbRtoAg2ViahBHL4khEsaOBaNjcoOPnHrXRbaxbxf+Kki/wCvRv8A0MUP4WNfEiH7Fbf8+0H/AH6Wj7Hbf8+8P/fpaubaNtct2dVkU/sVv/z7w/8AfpaPsdv/AM+8P/fpf8KubaNtF2FkU/sdv/z7w/8Afpf8KPsVt/z7w/8Afpf8KubaNtF2HKin9jt/+feH/v0v+FH2O3/594f+/S/4Vc20baLsLIp/Y7f/AJ94f+/S/wCFH2O3/wCfeH/v0tXNtG2i7CyKf2K2/wCfaH/v0tH2K2/59of+/S1c20baLsLIqfYrb/n3h/79ij7Fbf8APvD/AN+xVvbRtouwsip9itv+faH/AL9igWNtuH+jw/8Afsf4Vb20BeRRdhZEWgRgaLAAAAA2AB/tGtLZVTQF/wCJLB/wL/0I1pba6jjRBso2VPtpGCopZiAAMkk4xQMh2UbKp67rUGg6Wl7NDNcLJPFBHHAAWd5G2rjJA6mq9j4p0q7tppLmYadJBdPZzQ3rqjpMuMr1weoPBPWgDU2UbKji1LT57ieCG+tpJrcEzRrMpaPHXcM8fjWXb+K7C91S5tLDbdpbm3BnhnQoxlZgAOeo28jqc8UAbGyjZWfqfijRNJtrua71CDFmVWeOOQM8ZZgoyuc9SKtDVdNNzBbi/tjPcKGhj80bpAehA6npQBNso2Vnt4isD4gtdItporm4nMquIpVYwFF3HcOvPSrk2o2FvfRWU97bx3Uv+rgeVQ7/AEXrQBJso2U176zjj8x7mELuZc7xyyglh9Rg5FZ1j4s0HUNGg1WLU7aO0nBKPNIEPHUEE9Rkce9AGnso2U1r6zWN3a6hCxxiVz5gwqHoxPofWoLDWdO1O/vrKyuUluLGQRzoD90kA/lzj65oAs7KNlT7aNtAEGyjZU+2jbQBBso2VPto20AQbKNlT7aNtAEGyip9tFAEhHzH6mkxTyPmP1NGKAGYoxT8UYoAZijFPxRigBmKMU/FGKAGYoxT8UYoA5rWPC8+pahqV3balJZyXunR2StGp3RlJC+7ORwc4I44zzVbRvBUmmXtpcy3sTPDqb37JDCUX5ofL2LliRjrkk112KMUAeV6T4R1a5vr6x1TT5o7e7jvIZrmQ8WySOWXyDvIbccbvlHSuiHgm4/slo0urGDUBdQXMdxBaMEJhOVDqXJbOT0IxniuxxVe7v7WxC/aZNrvwkYBZ3+ijk0AZ2r6TfXd3YX+mX0VpqFkXCvLB5kbq6gOCoII6Agg1gyeALiHTltdM1gQebYTWV3JNbCQyCSRpGdQCAp3M3qMGujN/qFwD9lsFgXPD3cmCffauT+Zpix6s/MupRIfSK1GPzJNVyk3Oa8Q+D9S/s/Wn0q4886jDaKbfyfnEkOxQ6sTjG0ZKn86vy+EtRmuZdRl1iF9YN9DdpMLXEAESFFQpuyQQxJOc5rX+z6j/wBBVv8AwHSj7PqX/QVb/wABkpW8x3fYy9N8JXemtpkqanHLPZ3N1LK72+BMk5yygBvlIwMHn6Vpa/DHcJYxTIJI3vEDKe/ytT/I1L/oKt/4DpTGsbqaaB7u/aZIJRKE8lVyQCByPrTWjvcl3atYLW6ksJktL52eFztt7lz19Ec/3vQ9/rWtiqc0EdxC8U6B0cYZSODUFrcyWE6Wd+5aJ2229y56+iOf73oe/wBaNytjTxWNej/ipYv+vNv/AEMVuYrFvR/xU0X/AF5t/wChiofwsqPxIkxRil2k9AT9BRj2P5VynWJijFLtPocfSjacZwceuKAExRil2kdQfypDgDJ4HvQAYoxS49qMUAJijFLijGegJ+goATFGKXHtRigBMUYpcUbfagBMUAcilxSgcigA0Af8SWD/AIF/6Ea0cVQ0Af8AElg/4F/6Ea0GKopZyFVRkknAArs6nF0GsVRSzkKqjJJOAB61z2pu+safcv8AMmnrE5RehuCFPzH0T0Hfr0q0xOtsCwK6cpyqng3J9SOyeg7/AEq3cQC4tZYc7RIhTIHTIxTWgtWZPibQZfEXhezsIGVcXFpO+5ymUjYM2COQcdKd/wAInY2+uaTNZWdutnYtcyukgLs0kigB8tnLZBySc1bjttTjjRF1VMIoUf6IOgGPWneTqn/QVT/wEH/xVFl3C77HE2/w0vxpN7ZTXJWZ7S4t4Lv7YWQ+Y4bmLYCAcDOWPfFaMPhLVZtXub+4tdOsPOuNOkEFq5YAW7EuSdo5IPHFdL5Oqf8AQWT/AMBB/jR5WqjpqsZ+toP/AIqlZdwu+xzEXhDVU8G3WgNb6YzKreRelj5ly3niUF/l+XIGDyecUN4JvrjxbNql4N0F1c290Yor4otu0YA242HeARkYK9SCK6eObV4T+9Wzul/2S0Tf1FSw6zAZEivI5LGVzhVnHysfZhwafKPmOY0Pwlqen63pMtzb6csGmC6U3UTEz3Pm5wSMDHXkEnml1vwlqOpahqiQxWBttTuLec3sjHz7Xy9uVUY5+5lcEYLHNdxijFSM4uLwzq66vbI62R0621S5v/O8xjJIJlbC7MYGCxzyc1j2/h/WtLk8K2P9j6ffS6db3kRMjnyXBC7XY7DtY56EHgHmvTMUUAebz+B9dt/D8umac1jP9r0iHT5pZpGTyWjdmyoAO5SGIHTGBXX6Zp1zZa/rE7wQC1vpUnilRvnyI1QqVx/s5znvWzijFADMUYp+KMUAMxRin4oxQAzFGKfijFADMUYp+KMUAMxRT8UUABPzH6mjNBX5j9TRtoAM0Zo20baADNGaNtG2gAzRmjbRtoAM0Zo20baADNGaNtZ2qXEoMdlZNtubgH58Z8pB95/r2Hv9KaVxN2GXWoTT3D2emFfMTia4YZWE+mP4m9ug70WllDaMzpueZ/vzSHc7/U/0HFSW1rFaW6wwAqijgZyT6knuT61Jtp36ISXcM0Zo20bfrUlBmjNG360bfrQAZozRt+tG2gAzTJoo7iF4pkDxuNrK3cU/bVe8uRbKiRo01xKcRQqeXP8AQDue1NXExtldyWd3Hp147SrICbaYnLMB1VvcD+Lv9ajvT/xU0X/Xm3/oYq5p+nfZt89y4mvJR+8kHAUf3FHZR+vWqd6P+Kmi/wCvNv8A0MUStZjhe6PPviFPqD+ONDsbF754ZrG4kkt7TVDY7irqAxfocA9K57XNU1i38fXwtdQ1K2hh1Oyto7pr0m1t1ZAWSSLndu55x1r1TV/DGh+IHifXNKtr9oQVjM6ZKA9QKdL4d0eeG5im023eO7ZGuFZeJSmNhP0wMfSuW6OpxZ5bYatrP/Cx2xe6jFC/iO4thJPeFrWWJIw32VYv4XOeDx14p1peXP8AwiWh+Lhrl7Jrl9qsUctv9rJikDzFGgEPQAL+I616ifD+kMhVtOtypuvtpBX/AJeOP3v+9wOarw+D/DtvrR1eDR7WPUS5k+0KnzBj1YdgT607oXKzzHwxq2syfEK0WXUdSjguNXvoWkurwyW1xHHnECR87XHY8V3Xil/7W8U6D4cXJieU6je7TjEUP3VP+85H1wa3F8PaOgiC6bbgQ3Ju48J9yY9ZB/tc0lvoVvB4ivNZMkslzdQxwYcjbEiZOF+pOT70m0NJmJe6jNF8XtPtHvGjtJNHnkaFpdsbOJUAbGcE4zisa38f6zLdWl0LbT5bHUL65sba1VytwjRKxV3YnGCV5GBgGuy1TwxoeuXEM+s6XbXssAxE8y5KDOePx5qOPwj4ei1K41CPR7Rbu5VlmmCcuGGG/MdfWi6CzOHPxD19fDZu5Y7OO6t7ry9TBtJCdOTZuG6Pdlxn+NTjHNaHxDvryW18KDTJryVb++w8emXZt2uFMJbCvkYGeea6D/hAfCn2BbI6DaG2SXzljKnG/GM9cngY+la02mWVw1o09rG7WT+ZbEr/AKlsbcr6ccUXQrOxwt/44vfDemarbmzUSaTp1pPFHfXJkmd5XKsrvn5iMdRRJ491hNacm1sv7Ng1xNIkQB/OfegYODnAxnp3rrtS8KaDrF8t5q2k2t5crH5QkmTJ2Zzj/PSpjoGkszE6dBlrpbxjt6zqMCT/AHgAOaLodmed6n4w8VXngE+INPutJtI7i5iEMabjNCnn+XhjnBz34GMkCrN54t1LS/GGqadDHa/b7m60+0WaWaRraNpInZmCk8AbeAMbuM1148FeGlF8F0W0A1AYuwE/1oznn055471JL4S8Pz2k1tNpFq8M6xrKjJ98RjEeT/sjgGi6FaRx0XjzxBd3NnpVrDpY1CS7vrSW5beYSbZQd6AHJDZ6V2PhLWZPEPhPTNWnjWGW7hDvGhJVWyQcZ7cVNa+G9Gso7RLTTLeFbJXW2CJjyg4w+Pr3q3Y2Ntp1nDZ2ECW9tCNscUYwqDPQUtCtepY0A/8AElg/4F/6EarvL/bVxLG/y2VvKUeI8NK4/vDsvoO/XpVjQV/4kkH/AAL/ANCNPv8AT3aX7ZYbVu1GGDH5Z1H8Lf0Pb6V2Lc4nsSdKM1Da3Md3EWTcjK22SN+GjbupHrU2360mUGfejPvS7frRs+tIBM+9GaXZ9aNn1oATNNkRJY2jlRXRvvKwyD+FO20baAKCifSPmtfMuLIfet8lniHqh7j/AGfyrXguI7mBJoHEkbjKsvQiq+Pc1RUjStQVgdtldvhx2ilPRvox4Pvz3qtydjazRmjb9aNtSUGaM0baNtABmjNG2jbQAZozRto20AGaM0baNtABmjNG2jbQAZoo20UAKfvH6mig/eP1NFABRRRQAUUUUAFFFFABRRRQAhIAJJwO59KxtN/0kzajIpD3TfID/DEvCj+Z/GretyvDotyYeJHXy0PoWIX+tLHGsMKRJ92NQi/QcVWyF1H0lFQ3lwLSzluCu7y1yFH8R6AficCpG2Mub0QyrbwRNcXTjKwoeg/vMeij3NKllqcq5nvYbdj/AAQQ78f8Cbr+QqfTLL7JbFpfnupjvnk/vN6fQdAKu1V7bE2vuZh0u7/6C0v/AIDpR/Zd3/0Fpf8AwHStOijmY+VGZ/Zd3/0Fpf8AwHSq9zFd2FxZE6g06TXKxOjwqMgg9x9K26ydf84JZPbW73EiXaERrxnhup7D1NNNt2JaSVx15di2VEjQzXEpxFCvVz/QDue1Tafp5tma4uXE15KP3kgHCj+4voo/XrRp+nm2LT3LCa8lH7yTHCj+6voo/XrV6pv2Kt1YVi3v/Iyxf9ebf+hitqsW9/5GWL/rzb/0MVMvhZUfiRLRRRXKdgUUUUAFFFFABRRRQAUUUUAFFFFABRRRQAUo6ikpR1FAhdA/5Alv/wAC/wDQjWnWZoH/ACBbf/gX/oRrTrsZxIzr+wkab7ZYbUu1GGDcLOv91vf0Paq0l6J9Iupod0ckcbhkbh4nA6H3rarK1jSpLmGWbTisd40RjYN92ZSMbW/oe30pp33E9NhtvolvJaxO1xe5aNWP+lN1IBqT+wbb/n4vf/ApqvwIY7aJG6qiqfqABUlDkw5UZn9g23/Pe8P/AG8vR/YUGPlur5D6rctn9a06KXMx8qMiWK/05d4c6hbqPnBUCZR6jHD/AE4NWIZo7iFJYXDxuMqw7ir9Y4QWOuPbpxDdoZ0HZXBw4HpnIP509xbFyo7mCO6tZIJhlJFKmpKKkoTSLmS502NrgYnjJil92U4J/Hr+NXay9MJj1bUoP4SY51H+8uD+q1qU3uJbBRRRSGFFFFABRRRQAUUUUAFFFFABRRRQAH7x+pooP3j9TRQAUUUUAFFFFABRRRQAUUUUAZ2t/wDIOT3uIf8A0MVMetRa3/yD4/8Ar5h/9DFS0+gluxKo6t80Vqh+695Cre43Z/pV+qGq/wDLl/1/QfzNOO4pbG16/Wik9frS1JQUUUUAFFFFABRRRQAVi3v/ACM0X/Xm3/oYrarNv9Ja8vY7mG9ltZEjMZ8tVYMCc9xRa6aBOzTGUVH/AGHd/wDQauf+/Mf+FL/Yl1/0Gbn/AL8x/wCFZeyfc29quw+imHRLr/oM3P8A35j/AMKP7Eu/+gzc/wDfmP8Awo9k+4e1XYfRTP7Eu/8AoM3P/fmP/Cj+xLv/AKDNz/35j/wpeyfcParsPoqM6LdAZOtXIHr5Uf8AhUH2Mf8AQyN/5B/wp+xfcPbLsW6KrxabJOSIdflkI6hEibH5Cpf7Eu/+gzcf9+Y/8KPYvuHtl2H0Uz+xLr/oM3H/AH5j/wAKP7Euv+gzc/8AfmP/AAo9l5h7byH0Uz+xLv8A6DNx/wB+Y/8ACj+w7r/oNXP/AH5j/wAKPZeYe28h9KOoqP8AsO6/6DVz/wB+Y/8ACj+w7r/oNXP/AH5j/wAKPZeYe28ibQP+QLB/wL/0I1pVWsLRbCyjtldpBGMb2xluc54qzWzMQooopAFFFFABRRRQAVmah/yGNN/7bf8AoIrTrM1D/kL6b/22/wDQRTQnsWKSlPWkpDK1p/yMdz/16R/+htWrWXaf8jHcf9ecf/obVqU2JBRRRSGFFFFABRRRQAUUUUAFFFFABRRRQAH7x+pooP3j9TRQAUUUUAFFFFABRRRQAUUUUAZ2t/8AIPj/AOvmH/0MVMelQ63/AMeEf/XxD/6GKmPSn0F1AVQ1X/ly/wCv6H+Zq+Koar/y5f8AX9D/ADNOO4S2Nn1+tLSev1pakYUUUUAFFFFABRRRQAUUUmR6j86AFopM/wCc0Z/zmnZiuhaKTP8AnNGf85oswuhaKTP+c0Z/zmizC6MHVNfhUXGnmzvhcSRukYMGA5KkDBJwant9LsltYlksLfeEUNmIdcc1pzwQ3UJiuYkljPVXAIrOOk3FucadfmOMnmO4XzQg/wBk5z+ByKvpZEdbvUpXEttoWqLefY2S3a2aN3t4hgNvyAeR2rZsL5dQtxNHBcQoTwJ4thPvg9qht9JtoZhNMWu7gHImnIYr/ujov4Cr+fU/rSbuhq9xaKTI9R+dG4eo/OosXcWik3D1H50bh6j86LBdC0Um4eo/OjP0/OiwXQtFJn/OaXNABRRRQAUUUUAFFFFABWZqH/IX03/tt/6CK06zNQ/5C+m/9tv/AEEU0J7Fg9aSlPWkpDK9p/yMVx/15x/+htWpWXaf8jHcf9ecf/obVqU2SgooopFBRRRQAUUUUAFFFFABRRRQAUUUUAB+8fqaKD94/U0UAFFFFABRRRQAUUUUAFFFFAGdrf8AyD0/6+If/QxUxqHW/wDkHp/18Q/+hipj1pvYXUBVDVf+XL/r+h/maviqGq/8uX/X9D/M047hLY2fX60tJ6/WlqRhRRRQAUUUUAFFFFAAOorl7W0t7i41B7iBJX+3SrucZOBjArqO4+tc5p/+t1H/AK/5v6UpfCZz3RJ/Zlj/AM+kX/fNJ/Zlj/z6Rf8AfNWSwXG4gZOBnvTsH0P5Vz3l3JsVP7Msf+fSL/vmj+zLH/n0i/75q3g+h/KjH1/KneQWKn9mWP8Az6Rf980f2XY/8+kP/fNW8H0/SjafQ/lReQWKn9l2P/PpD/3zR/Zdj/z6Q/8AfNW8H0P5UYPofyo5mFip/Zdj/wA+kX/fNH9l2P8Az6Q/981ayN23PzYzjvilx7H8qOZ9wsVRplj/AM+kX/fNB0yx/wCfSH/vmrOD2BNLg+lHM+4WKn9mWP8Az6Q/980f2ZY/8+kP/fNW8N6H8qNp7g/lReXcLFT+zLH/AJ9If++aP7Msf+fOH/vmrR4BJ4A5JPalXkZXkHpjvReXcLFT+y7H/nzh/wC+aNLgit/E0iQRrGhsgxVeAT5nWrn1GPrVez/5Gp/+vH/2pWlNtvUOqNyiiitDYKKKKACiiigArM1D/kL6b/22/wDQRWnWZqH/ACF9N/7bf+gimhPYsHrSUp60lIZXtP8AkY7j/rzj/wDQ3rUFZdp/yMdx/wBecf8A6G9agpslBRRRSKCiiigAooooAKKKKACiiigAooooAD94/U0UH7x+pooAKKKKACiiigAooooAKKKKAM7W/wDkHp/18Q/+hipj1qHW/wDkHp/18Q/+hipj1pvYXUBVDVf+XL/r+h/maviqGq/8uX/X9D/M047hLY2fX60tJ6/WlqRhRRRQAUUUUAFFFFAB3H1rnNO/12o/9f8AN/7LXR9x9a5zTv8AXaj/ANf839KU/hM5bo821yPw9qHjHxaPHNzGjWVrCdMS4uDH5cZiJLxAEZbzMcjnNc//AGPr/irVbC3ltvM1j/hHLSQXdxePA9kxkOJto+8xUDINe2XWmaffTRy3tjbXMkX+reaFXKfQkcVY8uMTGby080rtMm0biPTPXHtWNxHmY8JaLH8YWje03umjfbmbzn+a5D4MuM9fbpXGWs91bweFtZt7iVn0bQzqDoJCfMjW7ZZR15+Qn8q9/wDKi87zfLTzduzftG7b6Z649qjFlaquFtYANhjwIlA2HqvTp7dKOYdzwq+uby8XxXrdxPKp1jw/JewxlyPLh88LEAO3yAH8a3VXwve/FWzmkurWwk0qGKe8lluisl5csg2RqpbkKBk4HJwK9ZaztWTa9rAy+X5RBiUgp/d6dPbpUT6Tpss3nS6bZPLnPmNbIW/MjNHMFzx3w7cjXPF8Vz4j0+9/srxc8scn2nckDsrb7YRsD/dXHbOaj8OabZ2XgPwTqVohS71DX4VuJfOY+dtlkCg5OOnFe2mCBkiRoIisJDRqUGEI6FR2I9qaLS1WKONbaERxNujQRLtRvUDHB9xRzBc8VT+y5PDEOrC53eO21rbj7Q32jf8AaNpjMefueX2xjHNUfEM9/o+n+KLuOSaWw1jVZ7Kfa5Itp45laNh6Bl3KfoK9zGmWC6gb8WNsLw9bnyV8w/8AAsZqVrS2eFontoWjdt7oY1Ks2c5IxgnPejmC5598UtPudWbw1Y2VxJBcyTXDwsjkHzUh3p9eR+tc5Y63ceK/GmjeKH823guFuLK3iLkD93Zs0px3zIT/AN8ivZ2ijeRHeNGeM5RioJQ+oPb8KYtpbIqBLaFRGSUAjUbSeuOOM9/WlcR4p4K0PRNV+GeoPdwaVNdppTXGbW/ke4DqjkNKm7CEH04q3punyaVZfDWTw1BAL6/L3Eq3MziOaQ2/LMcnt6V65Bptha7/ALLYWsHmLtfyrdE3D0OByPY1KLaAeViCIeRxFiMfu+MfLx8vHpT5h3PE7Cf7UulWXimdY9IufEWojUR57LA0qgGONnyPl3ZwDjNNuV0vbdWKzr/wiSeKbWOEtcHyFQoTMqvn7mffFe1TafZXFs9vPZ28sEjbnieJSrn1Ixgn3pP7NsPsa2n2G1Nsn3IDCpjX6LjFHMFzkvhzJD9q8R2+kXMlzoFveommyPI0igbAZFRj1QNnFdfZ/wDI1P8A9eH/ALUqWOOOGNY4Y0jRRhURQqr9AOBUVl/yNT/9eH/tSrp/ELqjdooorQ1CiiigAooooAKzNQ/5C+m/9tv/AEEVp1mah/yF9N/7bf8AoIpoT2LB60lKetJSGV7T/kY7j/rzj/8AQ3rUFZdp/wAjHcf9ecf/AKG9agpslBRRRSKCiiigAooooAKKKKACiiigAooooAD94/U0UH7x+pooAKKKKACiiigAooooAKKKKAM7W/8AkHp/18Q/+hipj1qHW/8AkHp/18Q/+hipj1pvYXUBVDVf+XL/AK/of5mr4qhqv/Ll/wBf0P8AM047hLY2fX60tJ6/WlqRhRRRQAUUUUAFFFFAB3H1rmrGWNJ9RDyIp+3zcFgD2rpagextJHLyWkDuerNEpJ/HFDSasTKNzN8+H/ntH/38X/Gjz4f+e0X/AH8X/GtD+zrH/nxtv+/K/wCFJ/Z1h/z423/flf8ACo9mieVlDz4f+e0X/fxf8aPPh/57R/8Afxf8av8A9nWH/Pjbf9+V/wAKX+zrH/nytv8Avyv+FHs0HKzP8+H/AJ7R/wDfxf8AGk+0Q/8APaP/AL+L/jWj/Z1j/wA+Nt/35X/Cj+zrH/nxtv8Avyv+FHs0HKzO+0Q/89o/+/i/40faIf8AntH/AN/B/jV24tdPtrWWd7C3KxIXIEK5wBn0rPWe3ZQw8NSYIyP3UP8AjTVJMTTRJ9oh/wCe0X/fwf40efD/AM9ov+/i/wCNFs9jPeLby6ILZnRnVpYY8HbjI4J9a0P7Osf+fG2/78r/AIUvZJAotmf58P8Az2i/7+L/AI0efD/z2i/7+L/jWh/Zth/z423/AH5X/Cj+zbD/AJ8bb/vyv+FHs13Hysz/AD4f+e0X/fxf8aPPh/57Rf8Afxf8a0P7NsP+fG2/78r/AIUf2bYf8+Nt/wB+V/wo9mu4crM/z4f+e0X/AH8X/Gjz4f8AntF/38X/ABrQ/s2w/wCfG2/78r/hR/Zth/z423/flf8ACj2a7hysz/Ph/wCe0X/fxf8AGobB1fxTJsZWxY87SD/y0rW/s2w/58bb/vyv+FSRWtvbkm3giiJ6+WgXP5VUYqOocruS0UUUzQKKKKACiiigArM1D/kL6b/22/8AQRWnWZqH/IX03/tt/wCgimhPYsHrSUp60lIZXtP+RjuP+vOP/wBDetQVl2n/ACMdx/15x/8Aob1qCmyUFFFFIoKKKKACiiigAooooAKKKKACiiigAP3j9TRQfvH6migAooooAKKKKACiiigAooooAztb/wCQen/XxD/6GKmPWoddONNDYJCzxM2ATgBxk4FQ/wBrWP8Az3P/AH6f/Cq3RN9S4Koar/y5f9f0P8zT/wC1rH/nuf8Av0/+FVby8gu5bKO2ZpHF5ExAjYYAJyeRRFO4SasdB6/WlpPX60tSUFFFFABRRRQAUUUUAFFH4H8qMH0P5UAFFGD6H8qMH0P5UAFFGD6H8qMH0P5UAFFGD6H8qMH0P5UAYN7rQvLe9sYLC9NwI2QoY1ByRjPLdPfpWigxEgPUKAfyqS906C+VfPjbzE5jlTKvGfUN2rPc6lp52T20l+hOEmgTDH0Dr0H+8OPpV6PYi9nqF3I9tqNtcrbTTxxxyq/kgErnbgnJHHBq3pmqR6pG7wQXEaIcbpU2hj/snJz9arppM16Q+scx9Vs4ydg/3j/Gf0rWC4ACrgAYAAxik7WGr3CijB9D+VGD6H8qkoKKXB/un8qTB9D+VABRRg+h/KjB9D+VABRRg+h/KjB9D+VABRRg+h/KigAooooAKKKKACszUP8AkL6b/wBtv/QRWnWRrFzBa6lpst1MkMeZRukYKM7R3pomWxcPWkqidc0rJ/4mVr/3+Wj+3NK/6CVr/wB/lp8rHzImtP8AkY7j/rzj/wDQ3rUFYul3dvea/dPaTxzotrGC0bBgDvbjitoUSFEKKKKkoKKKKACiiigAooooAKKKKACiiigAP3j9TRQfvH6migAowewrKvLSG91+3iuoxLGLSRgjZwDvUZ+tS/2Dpf8Az4w/kf8AGqsibs0MH0owfSs/+wdL/wCfGH8j/jR/YOl/8+MP5H/Gj3Q1NDB9KMH0rP8A7C0v/nxh/I/40f2Fpf8Az4w/kf8AGj3Q1NDB9KKz/wCwtL/58YfyP+NH9g6X/wA+MP6/40e6PU0Pzpct6t+dZv8AYOl/8+EP6/40f2DpX/PhD+v+NGgamlk+rfnRz6sfxrN/sHS/+fCH9f8AGl/sHS/+fCH9f8aWgtTQAorO/sHS/wDnwh/X/Gj+wdK/58If1/xp2Q9TRxRWPPplnZXmny2lukLm5ClkzyNrcda2KTQJhRRRSGFFFFAHOXFul1rl8LjzGEZjCASsoUFc9ARS/wBmWn92X/wIk/8AiqkP/Ic1H6x/+gVNXQtjn6lX+zbX0l/7/wAn/wAVR/Ztr6S/9/5P/iqtUUwsir/Ztr6S/wDf+T/4qj+zbX0l/wC/8n/xVWqKAsir/Ztr6S/9/wCT/wCKo/s219Jf+/8AJ/8AFVaooCyKv9m2vpL/AN/5P/iqP7Ntf7sv/f8Ak/8AiqtUUBZFX+zbX0l/7/yf/FUf2ba/3Zf+/wDJ/wDFVaooHYq/2baf3Jf+/wDJ/wDFUf2baf3Jf+/8n/xVWqKAKv8AZtr/AHZf+/8AJ/8AFUf2Zaf3Jf8Av/J/8VVqigCr/Zlp/cl/7/yf/FUf2Zaf3Jf+/wDJ/wDFVaooAq/2Zaf3Jf8Av/J/8VR/Zlp/cl/7/wAn/wAVVqigDNvrC3h065liEqvHC7K3nvwQDg9a6eAk28ZPdFJ/KsDUv+QRe/8AXvJ/6Ca3rf8A49ov9xf5VnULhuySiiisjQKKKKACkaMP99FYf7S5rKurSC98QRx3cSzRraswVicA78Zqb+wdL/58If1/xqtELVl37PF/zwj/AO/Yo+zxf88I/wDv2Ko/2Dpf/PhD+R/xo/sHS/8Anwh/I/40XXcWvY0FiVPuRqvrtUCnYPpWb/YOl/8APhD+R/xo/sHS/wDnwh/I/wCNGgamlg+lGD6Vm/2Dpf8Az4Q/kf8AGj+wdL/58IfyP+NGg9TSwfSjB9Kzf7B0v/nwh/I/40f2Dpf/AD4Q/kf8aNA1NHB9KKzv7B0vvYQ/kf8AGgaBpQ/5cIf1/wAaNA1NCiqH9g6V/wA+EP6/40f2DpX/AD4Q/r/jR7oal+iqH9g6V/z4Q/r/AI0f2DpX/PhD+v8AjR7oal+iqH9g6V/z4Q/r/jRTtENTQP3j9TRQfvH6mioGUG/5GSH/AK8pP/Ri1fFUG/5GSH/ryk/9GLV4U2JC0UUUhhVbUblrLSru6RQzQQPKFPQlVJx+lWagvbZb2wuLV2KrcRPEWHUBgRn9aAOItfixpUWh2Fzq8F0LqawhvrlLO2aSO3jkO3ezdlB4rRl+JOgxa62lkXrOl2llJcrasYI5XGUVpOgzniqkXwwsotJurBdSuNtxo0WkF/LXKojFg+PU56dKzrD4c6jceItVm1PUprfSW1eG+iso1RhdeUihGZvvJ8w5HtQBvT/EXRI9OhuoRdTm5N0kESQEtI9uGLrj/gJq/wCDfEg8W+E7HWRaTWZuYwzQyoRg/wCyT95fRu9YGnfDCOx1a3upNcu57a0mu5bazMKKsf2kMJAWHJ+8cGuj8K6FJ4Z8NWmjSag+oJZr5UMskSxsIh91SBwcDv3oA2KKKKACiiigCjqP+v0//r7H/oLVeqjqP+v0/wD6+x/6C1Xqp7CW4UUUVIwooooAwT/yHNR+sf8A6BU1Qn/kOaj9Y/8A0Cpq6FsYdWFFFFMAooooAKKKKACiiigAooooAKKKKACiiigAooooAKKKKAKup/8AIIvf+veT/wBBNb0H/HvF/uL/ACrB1P8A5BF7/wBe8n/oJreg/wCPaL/cX+VZzLhuySiiisjQKKKKAM//AJmUf9eZ/wDQxWhWf/zMo/68z/6GK0KbEgooopDCiiigAorlvFevanaa5omgaB9miv8AV2lYXN0heOCKJQXO0EbjyABms3QfHV1FrFx4f8UJHJqkOqJp6T2UZWKbfEZUcqSdvyg5HPNAHd0V5+nxSS88SaLZaXol9dWeotco86oN0bRPtJAzyo6sewIxU1n8WNHu1EradqdvbyWtxc29xNCoS4EH+sVOc5GO+M0Ad1RXBeKPihb6No91Ppum3N7dQ2Vre7CuEEU7hQWIORj+ZFdtZ3JvLGG4a3mtjKu4wTrtkj9mHY0AT0UUUAFFFFAADRRRTAD94/U0UhPzH6mjNICi3/IyQ/8AXlJ/6MWrwqgx/wCKkh/68pP/AEYtXgabEh1cr4rv9d0/VdFi0m/tYYdTv0sSk1p5hjJRmL53DP3cYrqd1UNS0m21S502e5aQNpt2LyEI2AXClRu9RhjxSGYdt4383Tbq6XS72WKzna1e5YxQxyyIxVyCzcAEd/XApr+PbJbAatGLiaxbTortYEhHmEvP5Q5zyc8Y6d81al8E6XJp8NoJblRBfS38b7lYiSQktkMpUjk4BHFMi8C6TFpUenrLdmGO2jtQTKNxRJvOBzjru/TigAj8XLcXMELW9zYTR6gbO5tp4lLA+S0gGQcAEAHIz6VBafEWwuLJrqfT9Qs4jZfboDNGubiLcE+XB4O4gYOOuelakvhmwm1SW/Z5/Olu/tjAONu/yTFgDHTaenrWVrPgeCfw4tlpcrie307+z4DPJ8pj8xXO7j73y4zjHsaANXRvEL6za6i506ewksJXhkjuHRiXVd3VSRjkViaR4j1pIfD95qz2t3a64pVUt4THJBJ5bOoHJDqQpHY5xWp4W0e90vTLu01IwrFLITBFEysYlK4bc4RQxJyfu8e9Q2fgewt4oIrm+1C+itbd7e0juJl226OpViu1R82043HJFAGfefERv7PuZNN0mWS7tbu2hlt3mjb5Zm2ghlYjPBGM8HrxWw3iyCLxNb6Jd2c1tPckrEzyRnc2zdjaG3AYBG4jGRVKD4f6Xb6fc20d1eA3At/3qmNGiMBzGVCoBkHqSDnvU8XgnTovEKax9pu3uEuTdFWZMNKU2Ek7d2Mfw5wD0FAHS0UmaM0AUtR/1+n/APX2P/QWq09xDG22SaNG9GcA1U1E/vtP/wCvof8AoLVnJa2txruqtcW8MrCSMAugYj5PersrakXsza+123/PxD/39X/Gj7Xbf8/EP/f1f8az/wCzdP8A+fG2/wC/K/4Un9m6f/z423/flf8ACl7pWpXsNXmhmna/kWWye6kjjnH/ACxw2ArY/h9G7dDW/WcsECQmFIo1iIIKBQFIPXiq9lO2n6hHppYzQSqWg5y0IHVW/wBn0P4U9JbCXu7kR/5Dmo/WP/0CpqgJ/wCJ5qP1j/8AQKmzWq2MurFopM0ZpgLRSZozQAtFcF8TPF+ueF5NITw9DbzyXTTvLHNHuLpEm8gehxmurj16xfwyuvGVRYm1+1l88BNu7r+lK47GlRXn/gHxrq+tR67N4oigtUsY4rmNIo9pjieMyYb1O3FLpV/438Xaamt6bf6bodjcZeytZrMzyPH0DSNkYzjOB0FLmCx39FcJbeONRk8B+JLu7toLfXvD4kiuIlBaIyKMq4H91hzioYdQ8f23hyDXhPpGrxNbLcyWCWjQyMhXcQr5I3Ae3OKdwseg0Vw+veMby68MeG9Q8JzQRNrl9FbrJdQ+YI1ZWzlQRyCuK29ItPE9lczv4g1awvYRE3lpbWJhYOOckknI9qLhY3aK5vwDrt34k8D2Gral5f2m4Mofyk2r8sjKMD6AV0eaYhaKTNGaAFopM0ZoAr6n/wAge9/693/9BNbSTRRW0PmyImY1xvcDPA9axNTP/Envf+vd/wD0E1NPBBc6tarcwxzKthkCRQ2DuHrUS1Kia32y2/5+YP8Av6v+NH2u2/5+YP8Av6v+NZ39mad/z4Wv/flf8KP7M07/AJ8LX/vyv+FZ+6X7xBJqdxDrV3JE4urGJYw8UeGZMgkuuOvuPyrbiljnhWWF1kjcZVlOQRVKCC3tlItoY4Q3JEahc/lVKSQ6NcLLB81rcShXt16h2P3kH81/GnpLYNVuXf8AmZR/15n/ANDFaFZ2f+KlH/Xmf/QxWhmpY0LRSZozSGLRSZrmvGesT6VFpSwXxsI7u9EM1wtt57Inlu3CYOeVFAFjxJ4Wi8QzWF0l7dadqGnSNJa3lqV3x7hhlwwIKkdQfSsg/DSzFggj1fUV1Qaj/aTaruQzvNtK5II242nAGMClsPGl7BHZWmr6bLJcmye+urgAQrFAsjKJGQnIJUBto55qKw+KGn6jaXMtvZyySRxxSQRQzJIZvNfYikg4RskZU9BQBJZ/DOy0xdJbTdUv4ZtLmuJUlJRmmExzIj5HQ46jBrJ8J/CprXR7ZPE9/c3E0NtdW0dmkqtDbCcncyMBkkqe/StKz8WX39sSrq6z2Krqr25tiI32Itr5pBYdRkFgRz2qW+8Y60um6Ze2Xh5o0vr+3hjFzcJ+8ilyQeM7WPHXpnvQBXi+FFiNKv7O71rU7x76xisWnmZN0ccTBo9oC4GMD6121nBJbWUMM9zJdSRoFeeUANIf7xA4z9K5lPFsyXs9ja2c+p37388MNsHjiCpGqljvPG0bgATySar3PxGijt/PttHu7mKOx+3XJDopt0EhRwQTywKngdcUAdpRTEkWSNJEOVdQyn1BGRTs0ALRSZozQAtFITxRTAjJ+Y/WjNRlvmP1NJupAVWP/FRw/wDXnJ/6MWrwNZrN/wAVFD/15yf+jFq8GpsSM7W9UOn3mkIHkUXV55LBApDDy3bBz0Hy9uaxLb4hxtYm71DSLu0hex+22371JGnXeE24B+VizLjPY10N9p1tqMtpJdKxazm86LDYw20rz68MaoP4T0eSyhtJbdpIIbM2So0h/wBUWDYz1zkA56jFIZm6j4m1PT9TsJdRsZLJFs72eezE6SeZ5aKykMOO5q7feMY7OV4UsJp7jyrVoY0dR5rzkhUyeBjByT2qZfC2mny/tP2m8aOKaHddTtIWSVQrgk+wGPSqyeCNHWGdHN5K0ywqZpbp2kXyjmMq38JXPGKAMzTvFWoDULsaok8Jj1K7jFruRwiRWyybCw6jOSCPXmrMHxCU6fLc32kXNmfsMV9bxvPG3nRyOEGSOEIYjOeg5q/B4Q0m3DbFuHZ5ZpneWdnZnlj8tySfVfyqprngu2v9IFvpz/Z547WGzjaVmK+TG4fYccgnGNw5oAs6d4nvNU8MapqMOmrDc2TTxxw/alkSVo1ySHHG3P54rOuPH82k+HdL1HW9Pije6t0mlSO+j3YOBlEPLHnOO3TOa1vD+kXOn6TcWepzRzpM7bIYyxSGNhgxgtyR1OT61Vm8C6LcWiW8xvXjS3+yn/Smy8IbcqMe4B6UANvPG7Wsl9jSZmgtb1bBbhrmNElnYjA5+6uDkseB0rNl+KMNvY28lzp3l3MyzyiE3sYHlROULK/RizA7VHXGc81qa94UXUNLlttOdI3m1Bb+VZ2bbKwHK5XlQcDpTNO8I7bSBtWvZnvoDIkU9pK0Zjhcg+RnqyjHU80AWNB8RX+r+JNRt2sVj02GGCa3nMo8wiRNw3J1BPp2xXSZrLg0m1ttWl1GFplmmiSKUGUlHCDCkjuwHGav7qAK2on99p//AF9D/wBBaqz2eoxaldz2n2Ro7hlYCVmBXC47CpdQb9/p/wD19D/0Fqu7qu9kTa7M/ZrP9zT/APv5J/hR5esf3NP/AO/kn+FaG6jNTddgsY0erTSReUIUe+aV4lhjY7TtOC5J6L7/AIVpWFiLNXeR/OuZeZZiMbvYDso7Co7LT7ewe4eBf3lxIZJHY5JJOcewHpVvdTbXQEn1MYn/AInmo/WP/wBAqfdVQn/ieah9Y/8A0Cp81stjLqP3UbqZmjNMB+6l3VHmjNAHGeMMN8R/AoYblNzdAg9x5XIrkI0n+0P8KWEnlf2n5/nAfKNO/wBbt+uflr1uaztbi6t7m4topZ7UkwSumWiJGCVPbI4pPsVp/aBv/skP20x+UbnYPMKZzt3dcZ7VNirnDQWb3/iD4lWNoMPPBDFEo9Tb4A/pWp8PvEml3Hw80xXvbe3lsbZba6ilkCNC8YwwYHkdM108VpbQXM9xBbRRT3JUzyogDS4GBuPfA4rLv/CHhvVL/wC26joOn3NySC0skALN9fX8aLAcGr/2n4O+JniKDP2LVN4tGIx5qRpt3j2Jrp4vF2i6F8N7Ca81CBpF06NEt45A8krmMAIqg5JzXUvaW0tk1nJbQtasnltAUGwr/d29Me1Z9h4W8PaXcCfTdB020mHSSG2UMPxosI84v9Dex+GfgTSdaL2zNq8bThZPLaLeJGxu/hIz+Feg6DpOjaLHex6Nfy3RlQlxNfm5IAB5GScda0NS0rTtZthb6vY299AG3iO4jDqG9cHvyar6b4b0LRp2n0jRrGxlddjSW8ARmX0J9KVmO5zfwl1Gzh+GWkwS3lukoeceW0yhsmZ8cZzXeZrn08FeFY7hZ4/DelrMrb1kFqu4NnOc+ua3NxPWqQh+6jdTM0ZpiH7qN1MzRmgCHUm/4lF7/wBe7/8AoJq5NbXjXFtc2Rtzi2ETLMWHUg5GAfSqGpH/AIlF7/17v/6Ca24G/cRf9c1/lWcmVHcp7NY/uaf/AN/JP8KNmsf3NP8A+/kn/wATWhuo3VF/Iu3mZA1SW2luItRSMSRFAi25LeYWGQADg5q3Y2cnnfbdQAN0RhEBysCnsPUnuf6Uq6fbjVH1AqWuHQICTwoHoOxPrVvdQ32BJ9Spn/ipF/68z/6HWhmsvd/xUg/68z/6HV/dSY0S7h60ZrlHOqa34l1S2tNYuNMg0sQqkdvEjGV3XeWfcDlewAx35qpe+NW/tW+0hUt932a68i4t7guyvFEWy42hV+gYkEc0hnbZqtdWUF3c2c827zLKbzoSrYw21l59eGNczpPiW/vEMdvYC5g0+3i+3XUtxtbzGgEnyrj5uMZOR14qrqfi6e58M77WF7Sa60YaikivkxHzEXaOOfvdaAOqm0eyuNWk1G4QyTyWhs3DNlWiLbiCPqetZ6eENNXSH01pr6S1ZUWNXuTmHYQyFCBlSCBg89KzLzxpNF4im0e2t7SWRlnWB0uWYiSOMviQbMKOOgJI7isyP4hX9loeknU7CCbUbvTxfSLHM4Vo+B8uEPzsei9B60AdRb+EdLglErG6uJftTXbSXFwXaSRo/KJbPUbTjHSmJ4P09NMSx+1ak0UMkUluzXjF7cxn5PLP8IH41g694q1K4h/4lNm8FrBqFlbz3Rm2SK0jxsyeXjptbaec5NX/ABFq2rWPjazg0mD7XGdMup5LZ5/KQlHXDZweQMgfWgDTm8J6dJMZ4pLy2uftElyLm3uCkivIoVwG9CFHHtSDwho4tJbZYpVimsP7PcCU5MW4sef7xLE7uvNZNn4+jv8AyEt7CTz7yS1+yRM4BkimXd5h9Nm1wfdfepfEvjG50G+u4rfSvtkNlYC/uJftAjIj3lSFBBy3GR2oA6yNViiSNM7UUIuT2AwKdmuOXxndCSaym0kLqf2iCG3txcgpIJkLozPt+XCqcjB6cZoj8ZXt3Oum2ejq2rrJcJcQNdBY4hEFLMH2/NkOuBgdeelAHY5ozXmul/EKe00PSIbi2e/u/sEVzdu8jeY+9iAECodz8E8kCun8L3tzdvrf2qZ5RDq9xDFuP3EXbhR7DJoA6PNFRbqKYEZbk/WjdUZb5j9TSbqQFVm/4qKH/rzk/wDRi1fDVmM3/FRQ/wDXnJ/6MWrwamxIl3Ubqi3UbqQyXdXLDxVfHUFk+w2/9lPqbaYr+c3n+YCRv2427dwxjOcc10m6s5dB0pdVOpLYxC7LmTzefvkY346bscZxmgDmbrxzqFz4atbiwt7eC6vtHu79XdyVhaI4wOOfX61JP4t16ytUjax0+4nt9GTVLpzO6Ky5OVUYzuIGeeAa3bfwvodrcPPb6ZBHI6SRkgEjY/31A6AH0HFUX8D6NJqSTy2yyW0VotrHauWKqA5fOc5IOcYPHFAEq+LGltJ7iG2G1Lyzt4w7YLCdY2yfQjzOntWTbeJvEdpoVxeXtvZ3IXVJ7bzl83ZbxIzDdIFUnaMAAgcZya6Kfw9pF1qC30+nwvcqyMJOR8yfcbHTIxwfwpsvhvRpvPElgmLiUzShXZQzngnAPfuO9AGtBOs9vHKjKyyIGDIcggjOQe4qTdUEapFEscShERQqqowFA4AFO3UAS7qN1RbqN1AFfUG/fWH/AF9D/wBBaru6s2/b9/Yf9fQ/9Baru6m9hLcl3Ubqi3UbqQyXdRuqLdRuoAxyf+J3qH1j/wDQKn3VULf8TrUPrH/6DU+a6FsYdR+6jdTM0ZoGP3UbqZmjNAD91G6mZozQA/dRupmaM0AP3UbqZmjNAD91G6mZozQA/dRupmaM0AP3UbqZmjNAD91G6mZozQBDqTf8Sm8/64P/AOgmtyBv9Hi/3F/lXP6kf+JVef8AXB//AEE1uQN/o8X+4v8AKomVDcsbqN1RbqN1ZGhLuo3VFuo3UAVc/wDFSD/rzP8A6HV/dWZu/wCKiH/Xmf8A0Or26mxIz7/w3pWp332y7gf7QUEbvFM8fmIDkK20jcB71EnhLRY7priK0KMxlIUStsUyrtkIXOBuB5xWruo3UhmdH4a0mK+S8itmSZERPllYK4Rdq7lBwxC8ZNV7bwZoNokiQWbBZIPsxUzOwEW4NsXJ+UAgEAVs7qN1AHO634OtrmyvZdGLWWqTCV7e4859kE0gw0gUHAJ74HNN8PeGLb/hHNLXU4JIb63t/LdoZXiK5+8gwxwmR93OPTFdJuo3UAZd14U0W9vvtlxas03mRSnErhWePGxyucFhgcmpdV8PaZrVzHcajC7zRxPCjpKyEIxyy5Ujg45q/uo3UAZKeGrWPxRY6rEsUcdhYNZ28CJjaCR39AowB7mrV9oWm6m1017b+Yby1+xzfMRuiyTt/M1c3UbqAKFz4c0q7adp7cl5/JLurlWBiGIypB4IB6ioW8JaK1vBD9kKiB3dHWVlcs/39zg5bd3yea1d1G6gDMh8LaRbLbLbQSW4tYVgj8md0zGpyFbB+YAk9fWr9nYWunm4NpH5f2mdriXnO6Rsbj+gqTdRuoAl3UVEGopiIy3J+tG6oi3zH60bqQyvcwXP2+O6tTCSsTRFZd3dgc8fSjzNT/uWX/fT/wCFWN1G6ncVivv1P+5Zf99Sf4Uu/U/7ll/30/8AhU+6jdRcLFffqf8Acsv++n/wo36n/csv++pP8KsbqN1FwsV9+p/3LL/vp/8ACjfqn9yy/wC+n/wqxuo3UXCxX36p/csv++n/AMKN+qf3LL/vp/8ACrGaM0XCxX36n/csv++n/wAKN+p/3LL/AL6f/CrGaM0XCxX36n/csv8Avp/8KN+p/wByy/76f/CrGaM0XCxUaK+nuLc3H2ZUhl8w+WWJPBGOR71obqi3UbqG7hYl3Ubqi3UbqQyXdRuqLdRuoAyC3/E6v/rH/wCg1PuqrydZv8Z6x/8AoNTfN6H8q3Wxh1JN1G6o/m9D+VHzeh/KmMk3Ubqj+b0P5UfN6H8qAJN1G6o/m9D+VHzeh/KgCTdRuqP5vQ/lR83ofyoAk3Ubqj+b0P5UfN6H8qAJN1G6o8t6H8qPm9D+VAEm6jdUfzeh/Kj5vQ/lQBJuo3VH83ofyo+b0P5UASbqN1R/N6H8qPm9D+VAEOpN/wASu7/64P8A+gmtuBv9Hi/3F/lWDqO7+y7vg/6h+3+ya2oW/wBHi/3F/lUTKjuWN1G6ot1G6sjQl3Ubqi3UbqAK9xDcjUFurUwn9yYispYfxZyMUb9T/uWX/fT/AOFWN1G6ncViv5mp/wByy/76f/CjzNS/u2X/AH0/+FWN1G6i4WK/man/AHLL/vp/8KPM1L+7Zf8AfT/4VY3UbqLhYr+ZqX92y/76f/CjzNT/ALll/wB9P/hVjdRuouFiv5mpf3bL/vp/8KPM1L+7Zf8AfT/4VY3UbqLhZFfzNS/u2X/fT/4UGTU/7lj/AN9P/hVjdRuouFiv5mp/3LH/AL7f/Cl36p/csv8Avt/8Kn3Ub6LhYr79T/552X/fT/4Ub9T/AOedl/30/wDhVjd7n86N3ufzouFiv5mp/wByy/76f/CirG40UXCxGW5P1o3Vxy/FPwUwyPENqM84KuD/AOg07/haPgv/AKGK0/J//iaQzr91G6uQ/wCFo+C/+hitPyf/AOJo/wCFo+C/+hitPyf/AOJoA6/dRurkP+Fo+C/+hitPyf8A+Jo/4Wj4L/6GK0/J/wD4mgDr91G6uP8A+Fo+C/8AoYrT8n/+Jo/4Wj4L/wChitPyf/4mgDsN1G6uP/4Wj4L/AOhitPyf/wCJo/4Wj4L/AOhitPyf/wCJoA7DdRurj/8AhaPgv/oYrT8n/wDiaD8UfBf/AEMVp+T/APxNAHYbqN1cf/wtHwX/ANDFafk//wATR/wtHwX/ANDFafk//wATQB2G6jdXH/8AC0fBf/QxWn5P/wDE0f8AC0fBf/QxWn5P/wDE0Adhuo3Vx/8AwtHwX/0MVp+T/wDxNH/C0fBf/QxWn5P/APE0Adhuo3Vx/wDwtHwX/wBDFafk/wD8TR/wtHwX/wBDFafk/wD8TQB2G6jdXH/8LR8F/wDQxWn5P/8AE0f8LR8F/wDQxWn5P/8AE0AdHPpVlc3DTywkyNjcwdlzjp0NM/sWw/55N/39f/Guf/4Wj4L/AOhitPyf/wCJo/4Wj4L/AOhitPyf/wCJp8zFyo6D+xbD/nk3/f5/8aP7FsP+eTf9/n/xrn/+Fo+C/wDoYrT8n/8AiaP+Fo+C/wDoYrT8n/8AiafMw5UdB/Yth/zyf/v8/wDjR/Yth/zyf/v8/wDjXP8A/C0fBf8A0MVp+T//ABNH/C0fBf8A0MVp+T//ABNHMw5UdB/Yth/zyf8A7/P/AI0f2LYf88n/AO/z/wCNc/8A8LR8F/8AQxWn5P8A/E0f8LR8F/8AQxWn5P8A/E0czDlR0H9i2H/PJ/8Av8/+NH9i2H/PJ/8Av8/+Nc//AMLR8F/9DFafk/8A8TR/wtHwX/0MVp+T/wDxNHMw5UdB/Yth/wA8n/7/AD/40f2LYf8APJ/+/wA/+Nc//wALR8F/9DFafk//AMTR/wALR8F/9DFafk//AMTRzMOVHQf2Jp3/ADyf/v8AP/jR/Ymnf88n/wC/z/41z/8AwtDwX/0Mdp+T/wDxNH/C0PBf/Qx2n5P/APE0czDlR0H9i6f/AM8n/wC/z/40f2Lp/wDzyf8A7/P/AI1z/wDwtHwV/wBDFafk/wD8TR/wtHwX/wBDFafk/wD8TRzMOVHQf2Lp/wDzyf8A7/P/AI0f2Lp//PJ/+/z/AONc/wD8LR8F/wDQxWn5P/8AE0f8LR8F/wDQxWn5P/8AE0czDlR0H9i6f/zyf/v8/wDjR/Yun/8APJ/+/wA/+Nc//wALR8F/9DFafk//AMTR/wALR8F/9DFafk//AMTRzMOVG+2h6cykNAzAjBBlc5/WtBSFUAcADAFch/wtHwX/ANDFafk//wATR/wtHwX/ANDFafk//wATSbb3CyR2G6jdXH/8LR8F/wDQxWn5P/8AE0f8LR8F/wDQxWn5P/8AE0hnYbqN1cf/AMLR8F/9DFafk/8A8TR/wtHwX/0MVp+T/wDxNAHYbqN1cf8A8LR8F/8AQxWn5P8A/E0f8LR8F/8AQxWn5P8A/E0Adhuo3Vx//C0fBf8A0MVp+T//ABNH/C0fBf8A0MVp+T//ABNAHYbqN1cf/wALR8F/9DFafk//AMTR/wALR8F/9DFafk//AMTQB2G6jdXH/wDC0fBf/QxWn5P/APE0f8LR8F/9DFafk/8A8TQB2G6jdXH/APC0fBf/AEMVp+T/APxNH/C0fBf/AEMVp+T/APxNAHYbqN1cf/wtHwX/ANDFafk//wATR/wtHwX/ANDFafk//wATQB2G6jdXH/8AC0fBf/QxWn5P/wDE0f8AC0fBf/QxWn5P/wDE0Adhuo3Vx/8AwtHwX/0MVp+T/wDxNH/C0vBf/QxWn5P/APE0AdhuorN8N6/o/ipJ5NFv47yKAhZGjDAKx6DkDsKKAPjDNGaKKADNGaKKADNGaKKADNGaKKADJozRRQAZozRRQAUUUUAFFFFABRRRQAUUUUAFFFFABRRRQAUUUUAGaM0UUAGaM0UUAGaM0UUAGaM0UUAFFFFABmjNFFABmjNFFABmjNFFABmjNFFABmjNFFABmjNFFABmjNFFABmjNFFABmjNFFABmjNFFABmjNFFABmjNFFABRmiigAzQKKs6baNqGqWtnGcPcTJEv1ZgP60AfVnwd0aPQPhppwZcT3wN5Nx1L/d/wDHAtFdVHEltbpbw/KkQCKMdAowP0FFAHxBRRRQAUUUUAFFFFABRRWl4bt4bvxTpVtdRiSGa9hjkQ9GUuAR+RoAziCOoNJX014z+E/huTwbqf8AYOjQ22opCZYHjLbty/NtGTjkAj8a+Z0jeSRUjUszEBVHUk9qAE2n0P5UlfU+ifCPwna6HYwano1vc3iQKLiZmbLyY+Y8H1zXy9dIEvZkQYVZGAHoM0AQ0Vbl0rUYLf7RNYXUcOM+Y8LBfzIxVSgAoq1b6Zf3cJltbK4njXq8cTMo/ECrnhVAfGWjK6gj7fACrDOf3i8EUAZNFe4/tCWSB/DsVjaqJJGuBshiGWP7vsBzXilzZ3NlJ5d5by274ztlQqcfQ0AQ4or1Pw9r/gy3+EN3p+oaE0+rtHMPN+ybjI5J2OJcfKF478YPBzz5ilrPLGZIoJGQdWVCQPXmgCKirK6devaG6SzuGt16zCJig/4FjFVqACirUGl39zAZ7ayuZoV6yRwsyj8QMVVIx1oAKCCOooFe4/GTwX4c8PeBbS90TSobO5kvY42kQsSVMbkjknuB+VAHh1FFOjjeWRUiRndjgKoySfpQA2irF1p97YlRe2k9uW+750RTP51XAz0oAKKtzaVqFvbieexuYoT0keFlX8yMVWjikmkCRIzseiqMmgBtFWYtNvp5Hjhs7iR413OqRMSo9SMcCo/s05h84QyeV137Dt/OgCKirL6dex2gupLO4S3bpM0TBD/wLGK7D4V6p4e0nxJPP4o083cRtysTG389Yn3Dkpz1HGccfjQBw1Fb3i2Wy1TxnqU3h3T5LWyklLQ2wi2lRgZO0fdBOTjtmsqHTr24naC3s7iWVeWjSJmYfUAUAVqKdJFJDI0cyNG6nDKwwQfcVLa2F3fMy2VrNcMoyRFGXI/KgCCipls7lt+23lOwkPhD8pHUH0qGgAwcZwaAM9K9u+FXhDw14t+HV59t0uCXVIZZYBOSwYZUMjdccZ/SuO+EXha18SePBbavai4tLWCSWeF8gE8KAcf7TZ/CgDgiMdaMHGcHFejfGnwpYeF/FVoNHtFtbK6tQwRM4DqxDdSe23866nx14N8OeFvg7a3Q0qFdYmjt4ftBLbvNIDOcZxnCtQB4hRU1tZ3N7L5dnbyzv12RIWP5Cmz209rKYrmGSGQdUkUqR+BoAjoqWO1nljLxQSOg6sqEgVueD7G4Txj4enntZBbS6lAqyPGdj/vBwCRg0Ac9RXtP7RNvBBdaALeGOLclxnYgXPKeleOCyujGJBbTFCMhvLOMeuaAIcUpQr94EfUV9AfCPw7pWg/D248V6npxnvts0uXi3PHHHkbUB6E4PPfIrf8AAfxHTx5q97p114eWwFtCJgZJPMLAtjBBQY60AfL9FdR8So0i+JeuJCioi3RAVFwBwO1YMWl6hcW5ngsbmWEdZEhZlH4gYoAq0U5UZ3CIpZicBQMkmnS280BAmikjJGQHUjP50AR0VJJbzRIryxSIr/dZlIDfSl+y3Hk+d5EnlYzv2Hb+dAEVFFFABXS/Dm3F18SNBjYZH22NsH/ZO7+lc1XVfDFtnxM0I5A/0nAJ+hoA+rXdSM9c+9FVTLiFVyDt7tRSA+MqKKKYBRRRQAUUUUAFa3hT/kc9F/7CEH/oxaya1vCpx4x0b/r/AIP/AEYtAH1NqevHTfH2i6fK58nVLe4RRngSxlWX81LD8q8f0TwF5Hx/lsDF/oFjKdRXjgx8NGP++mUfga6D46ahNpV54W1G0OJ7W5llQ+6+WcfpXb6jrWl2Hhi58awRqzvpyskh6uvLRp/30+PxoAs+HNdbWfEniJEkDW1hcR2keP7ypmQ/99MR/wABrwj4baz4f0PxXe3Ws6Ze6lqBl22EdrbiYockswUn73TGOnNegfAKZ5/C+rTzOXll1Es7E8sSikn9aofAiGw+0a/PhDqC3AXJ+8sXPT2LdfoKAOt8MeK/Fet+Jri11zwrJYaNKjmCWWMq646CTJIOR2AGDXnk/gDSrv8AaAk0dIRHpQQXslunA27QSgx0Useg6A4Fdp4T0/4hnxzc3nim826UnmBIlmQxyZ+5tVeQB1y2D+NY2oa1b6H+0est84hgu7JLYyOcBSy/KT7blAz70AXfGfxcTwR4qj0HTtHhktLRI/PCv5e0MM7UUDAwpHX1rnvHN74S1rxx4a1fw1e2819JqUKXawqQZF3qVduByORnryPSrPxI+Feu+I/Hb6npCwPbXixiV5JQnksqhTkHkjAB4z3rH8R+BdE8D+LPDENhqN1c31xqELPFNtwsYdfm4AIy3T6H0oA9H+KHjv8A4QdtMuLbS4Ly9ufNSOaY4EKDbuAxzzkdMdKz/Gs1p45+Bx124tFhnW3F1Dk7jE6thgD6EAj8q579oc5Ph763H/tOtW2P/GMpH/UPk/8ARhoAf4IYj9nC8Gf+XK+/m9S/BeSGP4R3huohNALi4MkZGd67FyPxHFV/BR/4x0vP+vK+/m9J8Ij/AMWc1D/rrc/+ixQBd+G/xTk8Y69Po0mkQWMEdqZLcQOSEVSq7CCMdGHQDp0rj7XwFpupftAalpTQKNLtD9teBRhSCqNs9l3P09Bis34DHHxDn/7B8n/oaV1cPiC10P8AaS1Zb6VYYr6CO2EjHAVzHGy5+pXH4igDpvEXjPxDoHiKLTPD/gu6vtLtlQSTQwuAwIziPaNuAOPrxxXE/HvwxY2q2PiGxhWCa6lMNyFXb5jbdysR/e4YE9+PSuw8Yw/EtNcMng++t5dOlUEQyJErQHGCCXHIPXOe+O1ecfFo+MbPTtMs/FesWt/DOfPCQxIhilUEEcAFhhvvdOaAPLhX0X8ezn4bWP8A1/xf+ipK+dB1r6h+KHhfUfF/g210/SBEZkuo5j5smwbQjDr9WFAHy9X0T8M9Bt/CPw1/4SSHTJNR1e6gM6pEm6QqeEjTgkAjBJHqeuBXnFz8FfFdpay3Ey2Xlwo0jYuecAZPb2r1X4e6zL4h+E0NpoF/HZ6rZW4ttzoH8p1+6Spz8rAdcevcUAW/Deqal470/UdJ8c+E5LCEqCvmxsEkB4wCwyHHUEfpXmHgWfQPA/jjVrTV9Nv9V1O2uWt7EWtssxUKTlgufvHjoOOfWuz020+MN1cSpqGr2NhEisVkaGGTe3YAKMgE9z0HY9KZ8FZo7648R6hqLwy65Je4uZE2n5MdivG0sG6cHA9qAOg8KeKPFeveILu08ReFm0/SZInMEkkZDDkYV9xIOQfQVxOg6NaeH/2mJbHTYxFaiN5I416Jvh3ED2yTj2rp/BVh8Qx4wur3xhd404I6pCsyFHYkbSqr0AHrg/rWOMj9qQkjANrke/8Ao9AGx49+KOneCtcm02HR2ury6hWS4mVxF1BVecEsQB+FO8JX9rpn7Ptre39ml9BbWkkrWz42ybZWIByD3x2NeXfHI5+JT/8AXpF/I13+nn/jGRh/1D5v/RjUAa/w3+IbfEOLVLPVNMghECplVJdJEfIKkN9Poc1yPwhsY9J+Lfiiwt8iK1imhj56Ks6gfpVf9ng41DXP+uUP/oTVofDg4+N/jL63H/o8UASeGm/4yY14/wDTCT/0GOr3iz4rL4Q+IMukWWiQOjSRPeXG/bJMWVeRgdlIHOenas7w0f8AjJXXT/0xk/lHXFfFo/8AF4bz62//AKLSgDt/j5oUFzJod9bRKt7cXBtGcDBkBAK59cHP510XiXXdP+D3gixs9GsEmlkby41Y7d7AZeVyOSen5jsKyvjtdmy0vQbpRuMGoiUD12rn+lXPiT4al+I/hLTNQ8NSx3DxkzQozhRKjqMjJ4DAgcH3oA1vCfihfGHw+1DVjYR2M8gminWM5EjLH97PXpgc88V8sGvpzwN4Zv8Awn8Mbyw1by1uZPPmKRvu2ApgAnoTx2r5jNAHsn7POq+XrGr6W7cTwJcID6o20/o4/Kul8EaWnhLUPH+tSKBHbXMixZ6BFUy4/J0ryj4Uan/ZfxK0p2bEc8htn996kD/x7bXs/wAYr+LR/hxqCQBYpdTnSEkdWY4LH/vhMUAY3jyz/wCE78IeCdXwplubuCKUKOFEwAf8Ay1W+Pl295deH9AtyN88rSlT6kiNP5tWt8Er+LVfh8LK5CyHTbxgitztBIkU/mW/KvOfivrxb4umdMyLpZgjQZ6lMOR/30xFAHpviLWNO+DPguxs9E0+Oe5uG8sF/l81lGXkcjknkce/GAKbazad8aPhvcy3ljHb6jbs8UbD5jDMFDKVYjO05GR9R2zUXxJ8Ny/ErwnpOpeF5YrloiZYkZwokRwARk8BgVHB9x1p/g7TT8K/hpfXXiGWNLhne4ZFfdhtoVIwe7Ejt6+1AEXwMMY+GN+LpQ0P26YSKRkFfLTIx9K5jU/ijZ+Mtf8ADWj6dpL2Vva61bSxO0o5RTtA2AYX7w7nGK6H4LuW+FmpFupvJyf+/SV4r4O/5HvQv+whb/8AoxaAPpDxj4Ei8ZeKtEuNSIOm6ckrzRA8zMxTansvBJP4d8jzb4qfE931RfDvh/aljp8yi5ZRtEzoR+7AHRFIwfUj0HPf+P8A4ht4K1vQoZYEksbySQ3cnJdEGB8oHoWz74x3rhfjT4LjlRPGGjKskMwX7Z5WCpzjbMPY8A/ge5oA9E0Pxxear8KZ/FUttAl1Hb3EohUtsJjLAD1521x/wo8V3PjD4kaxqt7BDBK+nIhSHO35XA7k1P4PP/GN92P+nK9/9CeuZ/Z7OPFGq/8AXkP/AEMUAWtN8K2nin9oDXhqkYls7GVriSJvuytlQqn2ycn1xit7xT8aV8L+Mm0Wz0mOaxsWWKdw5VjwMhAOBtzjnrjtWZ4a1620n9oLxDa3sixJqLtBGzHA8wFSo/HBH1xVXxt8Idd1rx9c3umGBrC/lErzPKFMBON2V6nnJGM0AX/i/olnpMuj+OtDiWKdbuNpjGNolP30cj1+UgnvkVb+MWif8JQ3hK5sSSt5dC1DjusoVlP4BWNVfjnrFnY+FdN8NQSB7jzEkZM8pEilQT6ZJ4+hrqfhhe2+v/DfRZrtVkl0xjGCx+48YKqf++GH50AVPjLosF/8NJfsYTdo0kciop5RcbSvt8rA/gKx/iPN/wAIx8DNJ0OMlZblIIHUcH5V3uf++gPzpvw48UweK/GHi7Tb/bNaamzTxRt0aNf3ZH/fGz8q534/6v8AafE2naZG2Us7YyMB2aQ//Eqv50AeTUUUUAFbPhC8/s/xpo90TgRXsRY+g3AH9KxqVGZHDISrKcgjsaAPsJZN0z7vlwSOaKy9B1EaroVlqKFf9KgSU7j3I5/XNFAHyhRRRQAUUUUAFFFFABUlvcS2tzFcW7mOaFw8br1Vgcgj8aKKANDWfE2teIFiXWtRnvRCSYxK2ducZx+QpJPEmszaEmjS6jO2mpjbbFvkGDkcfXmiigCTSPFmu6BbPb6NqlxZwyPvZImwC2MZ/ICqmnaxqGk6iL/TLya1uhn97E2Cc9QfUH0oooA2Ln4heLLu5guJ9duzJbkmIqwUKSME4AAJwSOfWsrVtb1LXrpbnWLyW8nRBGskpyQoJOPzJoooA1rH4ieLdOs1tLTXbpIVG1VYh9o9AWBIrFl1W/n1QalPdzS3okEguHcs+4HIOT6YFFFAFnWPEus+IPJ/trUZ73yN3lea2dmcZx9cD8qkXxZry6H/AGOuqXA07YY/s275NpOcY+tFFABa+LdestFbSbXVLiLT2V0a3VvlKtncPxyfzo07xZr2k6a+n6bqlxbWjli0MbYUlhg/pRRQBV0nWtR0K8N1pF5LaTshjMkRwSpwSP0FR6jqd5q+oSX2p3D3N1LjfLIclsAAfoAKKKANuw+Ini3TbNbWz126WFBhVYh9o9AWBIrE1DU73VrxrvU7qa7uH+9JM5Zj7c9vaiigCrXTj4keMAOPEN7/AN90UUAMl+Ini6aF4pdfvHjkUqyl+CCMEVj6Zq+oaLeC60m8ms5wMeZC5Ukeh9R7GiigDW1L4geKtXsmtNQ1u6kgcYeNSEDD0O0DI+tZOl6vqGi3y3mk3ktpcKMCSJsEj0PqPY0UUAa9z8QvFl3eQXU+u3Zlgz5ZVgoXIweAAOntVV/F+vvrSau+q3B1COPylud3zheeM/iaKKAKWq6vqGt3v2zVruS7uNoXzJDk4HQVcTxZr0eiHR01S4XTihj+zBvk2k5I/M0UUAQ6P4i1fw+8raLfzWTTACQxNjcB0z+Zp9l4n1rTtUudSsdSngvLrPnzo3zSZOTn8eaKKACDxRrdtrcusQalOmoTArJchvmYHHX8h+VVtQ1a/wBV1Fr/AFG6kuLtsbpnOWOBgflgUUUAW9Y8Va54ghjh1rU7i8jjbeiytkKcYzXqGn+HdY8O/D3SdU8P+Kb2y+2xrJPbGNXj3PyCoJ+XA4PXOM8dKKKAO6a3uPC/ws1Oe4vptUvGtJrqW4uDy7snpzgAYGPavl49aKKAHwTy21xHPbu0csTh0dTgqwOQR+NamseKtc8QQRw6zqdxeRxtvRJWyFOMZoooAZo3ibWfD6zDRdRnshMQZBE2N2M4z+Zqjd3lxf3kt1eStNPM5eSRzksx6k0UUAaWi+Lde8Oqy6LqlxaI5y0aNlCfXacjPvio9a8Ta14idG1vUp7zZ9xZG+Vfoo4FFFAEmmeLNe0Wwey0rVLi1tpGLNFG2ASRgn8gKzLa5ms7uG6tZGinhcSRyKeVYHII/GiigC9rHiPWPEDQtrWoTXpgz5fmtnZnGcfkPyqxD4z8RQaR/ZcWr3IsfKMP2fdldh4K4PbmiigBlt4s1600VtIttUuItPZGQ26t8pVs7h+OT+dV9H1/VdAnkm0a+ms5JF2O0RwWGc4oooAr3t9c6lfS3l9M09xM26SRzyx9a37b4keMLS0FtDr92IgNo3MGIH+8QT+tFFAHPXd3cX91Jc3s8lxPKdzyysWZj6knrWhpvinXNH0+Wx0vU7i1tZiWkijbAYkYJ/ICiigCrperX+i3y3mlXUlrcKCFkjOCARg03UtTvdYv5L3U7mS6uZMb5ZDknAwP0FFFAFWiiigAooooA99+DV9LeeBXhl6Wd08UZ6/KQHx+BJooooA//9k=)"
      ],
      "metadata": {
        "id": "MyG16tpf4785"
      }
    },
    {
      "cell_type": "code",
      "source": [
        "\n",
        "#libraries\n",
        "import torch.nn as nn\n",
        "import torch.nn.functional as F"
      ],
      "metadata": {
        "id": "fbuvFV8wt1ek"
      },
      "execution_count": 103,
      "outputs": []
    },
    {
      "cell_type": "code",
      "source": [
        "#create deep learning model\n",
        "\n",
        "class QuoraNet(nn.Module):\n",
        "\n",
        "  #setting up the layers of the module\n",
        "  def __init__(self):  \n",
        "    super().__init__()\n",
        "    #Starting with a thousand inputs and reducing it to 512\n",
        "    self.layer1 =nn.Linear(1000, 512)\n",
        "    self.layer2 = nn.Linear(512, 256)\n",
        "    self.layer3 = nn.Linear(256, 128)\n",
        "    self.layer4 = nn.Linear(128,1)\n",
        "    pass\n",
        "\n",
        "  def forward(self,inputs):\n",
        "    out= self.layer1(inputs)\n",
        "    out = F.relu(out)\n",
        "\n",
        "    out= self.layer2(out)\n",
        "    out = F.relu(out)\n",
        "\n",
        "    out= self.layer3(out)\n",
        "    out = F.relu(out)\n",
        "\n",
        "    out= self.layer4(out)#No activation to the final layer\n",
        "    \n",
        "    return out\n",
        "\n"
      ],
      "metadata": {
        "id": "F5KzwE8i5BNo"
      },
      "execution_count": 119,
      "outputs": []
    },
    {
      "cell_type": "code",
      "source": [
        "model = QuoraNet()"
      ],
      "metadata": {
        "id": "qw-GSce23AVZ"
      },
      "execution_count": 120,
      "outputs": []
    },
    {
      "cell_type": "code",
      "source": [
        "from sklearn.metrics import accuracy_score, f1_score"
      ],
      "metadata": {
        "id": "JRo3qBOtBboU"
      },
      "execution_count": 121,
      "outputs": []
    },
    {
      "cell_type": "code",
      "source": [
        "for batch in train_dl:\n",
        "  bi, bt = batch\n",
        "  print(f'inputs.shape {bi.shape}')\n",
        "  print(f'targets.shape{bt.shape}')\n",
        "\n",
        "  bo = model(bi)\n",
        "  print(f'bo.shape {bo.shape}')\n",
        "\n",
        "  #Convert outputs to probabilities\n",
        "  probs = torch.sigmoid(bo[:,0])\n",
        "  print('probs',probs[:10])\n",
        "\n",
        "  #convert probs to predictions\n",
        "  preds =(probs>0.5).int()\n",
        "  print('Preds', preds[:10])\n",
        "  print('targets',bt[:10])\n",
        "\n",
        "  #Check metrics\n",
        "  print(f'accuracy: {accuracy_score(bt, preds)}')\n",
        "  print(f'f1_score: : {f1_score(bt, preds)}')\n",
        "\n",
        "  #loss\n",
        "  print('loss', F.binary_cross_entropy(probs.float(), bt.float()))\n",
        "\n",
        "  break\n",
        "\n"
      ],
      "metadata": {
        "colab": {
          "base_uri": "https://localhost:8080/"
        },
        "id": "pJcGSEb03aVd",
        "outputId": "d476b1e3-cee6-4fb2-a8b4-7471a82cc0f2"
      },
      "execution_count": 243,
      "outputs": [
        {
          "output_type": "stream",
          "name": "stdout",
          "text": [
            "inputs.shape torch.Size([128, 1000])\n",
            "targets.shapetorch.Size([128])\n",
            "bo.shape torch.Size([128, 1])\n",
            "probs tensor([1.6614e-10, 3.9256e-03, 4.7118e-08, 2.3058e-03, 1.1338e-06, 1.4492e-07,\n",
            "        2.1598e-08, 1.0777e-07, 2.8760e-07, 1.7851e-05],\n",
            "       grad_fn=<SliceBackward0>)\n",
            "Preds tensor([0, 0, 0, 0, 0, 0, 0, 0, 0, 0], dtype=torch.int32)\n",
            "targets tensor([0, 0, 0, 0, 0, 0, 0, 0, 0, 0])\n",
            "accuracy: 0.9765625\n",
            "f1_score: : 0.5714285714285715\n",
            "loss tensor(0.0604, grad_fn=<BinaryCrossEntropyBackward0>)\n"
          ]
        }
      ]
    },
    {
      "cell_type": "code",
      "source": [
        "#Evaluate model performance\n",
        "def evaluate(model, dl):\n",
        "  losses, accs, f1s = [],[],[]\n",
        "  #loop over  batches\n",
        "  for batch in dl:\n",
        "\n",
        "    #Get inputs and targets\n",
        "    inputs, targets = batch\n",
        "\n",
        "    #pass the inputs through model\n",
        "    outputs = model(inputs)\n",
        "\n",
        "    #Convert to probabilities\n",
        "    probs = torch.sigmoid(outputs[:,0])\n",
        "\n",
        "    #compute loss\n",
        "    loss = F.binary_cross_entropy(probs.float(), targets.float(), weight=torch.tensor(20))# since 94% has class 0, we can give equal importance to class 1 and 0 by using torch.tensor(20) by applying a weight of 20 to the tow classes\n",
        "\n",
        "    #compute preds\n",
        "    preds = (probs > 0.5).int()\n",
        "\n",
        "    #compute accuracy and f1_score\n",
        "    acc = accuracy_score(targets, preds)\n",
        "    f_score = f1_score(targets,preds)\n",
        "\n",
        "    losses.append(loss.item())\n",
        "    accs.append(acc)\n",
        "    f1s.append(f_score)\n",
        "\n",
        "  return (torch.mean(torch.tensor(losses)).item(),\n",
        "         torch.mean(torch.tensor(accs)).item(),\n",
        "         torch.mean(torch.tensor(f1s)).item())\n"
      ],
      "metadata": {
        "id": "E3-Oh1QZ4FUR"
      },
      "execution_count": 176,
      "outputs": []
    },
    {
      "cell_type": "code",
      "source": [
        "evaluate(model, train_dl)"
      ],
      "metadata": {
        "colab": {
          "base_uri": "https://localhost:8080/"
        },
        "id": "9YOtD9zXIQmY",
        "outputId": "bb4bdda9-ae4a-407b-d4b6-dbc0967c106d"
      },
      "execution_count": 177,
      "outputs": [
        {
          "output_type": "execute_result",
          "data": {
            "text/plain": [
              "(0.31332680583000183, 0.995072554844607, 0.9578548111981019)"
            ]
          },
          "metadata": {},
          "execution_count": 177
        }
      ]
    },
    {
      "cell_type": "code",
      "source": [
        "evaluate(model, val_dl)"
      ],
      "metadata": {
        "colab": {
          "base_uri": "https://localhost:8080/"
        },
        "id": "Ox-_n8_QIQxE",
        "outputId": "19aca8b5-3cd1-4b05-a18a-029a95847e56"
      },
      "execution_count": 178,
      "outputs": [
        {
          "output_type": "execute_result",
          "data": {
            "text/plain": [
              "(7.724770545959473, 0.9356826241134751, 0.3905746226634179)"
            ]
          },
          "metadata": {},
          "execution_count": 178
        }
      ]
    },
    {
      "cell_type": "code",
      "source": [],
      "metadata": {
        "id": "V9GMIrXeQajC"
      },
      "execution_count": 178,
      "outputs": []
    },
    {
      "cell_type": "code",
      "source": [
        "from torch.optim import optimizer\n",
        "#Train the model batch by batch\n",
        "def fit(epochs, lr, model, train_dl, val_dl):\n",
        "  history = []\n",
        "\n",
        "  optimizer = torch.optim.Adam(model.parameters(), lr, weight_decay = 1e-5)\n",
        "  for epoch in range(epochs):\n",
        "\n",
        "    #for each epoch phase\n",
        "    for batch in train_dl:\n",
        "      #get inputs and targets\n",
        "      inputs, targets = batch\n",
        "\n",
        "      #Get model outputs\n",
        "      outputs = model(inputs)\n",
        "\n",
        "      #Get the probabilty\n",
        "      probs = torch.sigmoid(outputs[:,0])\n",
        "\n",
        "      #compute the loss\n",
        "      loss =F.binary_cross_entropy(probs.float(), targets.float())\n",
        "\n",
        "      #Perform the optimization\n",
        "      loss.backward()\n",
        "      optimizer.step()\n",
        "      optimizer.zero_grad()\n",
        "\n",
        "    #Evaluation phase\n",
        "    loss, acc, f1 = evaluate(model, val_dl)\n",
        "    print(f'Epoch: {epoch+1} Loss:{loss} Accuracy: {acc} F1 Score {f1}')\n",
        "    history.append([loss, acc, f1])\n",
        "  return history\n",
        "\n",
        "\n"
      ],
      "metadata": {
        "id": "SvrenrqmH5XJ"
      },
      "execution_count": 179,
      "outputs": []
    },
    {
      "cell_type": "code",
      "source": [
        "#starting the model afresh\n",
        "model = QuoraNet()"
      ],
      "metadata": {
        "id": "YDTa31YVafa-"
      },
      "execution_count": 180,
      "outputs": []
    },
    {
      "cell_type": "code",
      "source": [
        "history =[]"
      ],
      "metadata": {
        "id": "kWPGtCVnapB0"
      },
      "execution_count": 181,
      "outputs": []
    },
    {
      "cell_type": "code",
      "source": [
        "history.append(evaluate(model, val_dl))"
      ],
      "metadata": {
        "id": "xgrh_YuPapEk"
      },
      "execution_count": 182,
      "outputs": []
    },
    {
      "cell_type": "code",
      "source": [
        "history"
      ],
      "metadata": {
        "colab": {
          "base_uri": "https://localhost:8080/"
        },
        "id": "1oUPfw08apIH",
        "outputId": "ed0d9c3f-c7a8-4d8c-8051-8a2433772780"
      },
      "execution_count": 183,
      "outputs": [
        {
          "output_type": "execute_result",
          "data": {
            "text/plain": [
              "[(13.42508316040039, 0.9378989361702128, 0.0)]"
            ]
          },
          "metadata": {},
          "execution_count": 183
        }
      ]
    },
    {
      "cell_type": "code",
      "source": [
        "history +=fit(5,0.001, model, train_dl, val_dl)"
      ],
      "metadata": {
        "colab": {
          "base_uri": "https://localhost:8080/"
        },
        "id": "zoZ_Ub0ra8_U",
        "outputId": "4d52e772-3e28-4901-c305-0d54acd7f304"
      },
      "execution_count": 184,
      "outputs": [
        {
          "output_type": "stream",
          "name": "stdout",
          "text": [
            "Epoch: 1 Loss:3.034994602203369 Accuracy: 0.9450243794326241 F1 Score 0.38105850263738406\n",
            "Epoch: 2 Loss:2.955665111541748 Accuracy: 0.9467641843971631 F1 Score 0.4116574494782953\n",
            "Epoch: 3 Loss:2.9863927364349365 Accuracy: 0.9476174645390071 F1 Score 0.4347628552807251\n",
            "Epoch: 4 Loss:3.5377309322357178 Accuracy: 0.9441600177304964 F1 Score 0.4345452797328317\n",
            "Epoch: 5 Loss:4.720080852508545 Accuracy: 0.9427526595744681 F1 Score 0.390313704960947\n"
          ]
        }
      ]
    },
    {
      "cell_type": "code",
      "source": [
        "history +=fit(5, 0.0001, model, train_dl, val_dl)"
      ],
      "metadata": {
        "colab": {
          "base_uri": "https://localhost:8080/"
        },
        "id": "NHShoiGtXSB3",
        "outputId": "4a4a661f-8315-4f50-9e4b-739d990eb33b"
      },
      "execution_count": 185,
      "outputs": [
        {
          "output_type": "stream",
          "name": "stdout",
          "text": [
            "Epoch: 1 Loss:5.551537990570068 Accuracy: 0.9411679964539007 F1 Score 0.4027909560522695\n",
            "Epoch: 2 Loss:5.9990363121032715 Accuracy: 0.941899379432624 F1 Score 0.40268013452192475\n",
            "Epoch: 3 Loss:6.129576206207275 Accuracy: 0.9384973404255319 F1 Score 0.4162490080686167\n",
            "Epoch: 4 Loss:6.474095344543457 Accuracy: 0.939915780141844 F1 Score 0.39932635745020795\n",
            "Epoch: 5 Loss:6.893685817718506 Accuracy: 0.9414671985815602 F1 Score 0.38685509887359454\n"
          ]
        }
      ]
    },
    {
      "cell_type": "code",
      "source": [
        "history\n"
      ],
      "metadata": {
        "colab": {
          "base_uri": "https://localhost:8080/"
        },
        "id": "Cqjvvo81eB9U",
        "outputId": "356e406a-1df3-4982-d613-a088b4b3c51c"
      },
      "execution_count": 186,
      "outputs": [
        {
          "output_type": "execute_result",
          "data": {
            "text/plain": [
              "[(13.42508316040039, 0.9378989361702128, 0.0),\n",
              " [3.034994602203369, 0.9450243794326241, 0.38105850263738406],\n",
              " [2.955665111541748, 0.9467641843971631, 0.4116574494782953],\n",
              " [2.9863927364349365, 0.9476174645390071, 0.4347628552807251],\n",
              " [3.5377309322357178, 0.9441600177304964, 0.4345452797328317],\n",
              " [4.720080852508545, 0.9427526595744681, 0.390313704960947],\n",
              " [5.551537990570068, 0.9411679964539007, 0.4027909560522695],\n",
              " [5.9990363121032715, 0.941899379432624, 0.40268013452192475],\n",
              " [6.129576206207275, 0.9384973404255319, 0.4162490080686167],\n",
              " [6.474095344543457, 0.939915780141844, 0.39932635745020795],\n",
              " [6.893685817718506, 0.9414671985815602, 0.38685509887359454]]"
            ]
          },
          "metadata": {},
          "execution_count": 186
        }
      ]
    },
    {
      "cell_type": "code",
      "source": [
        "losses = [ item[0] for item in history ]\n",
        "accs =  [item[1] for item in history]\n",
        "f1s = [item[2] for item in history]\n"
      ],
      "metadata": {
        "id": "-PTTm8pQXdRr"
      },
      "execution_count": 188,
      "outputs": []
    },
    {
      "cell_type": "code",
      "source": [
        "import matplotlib.pyplot as plt\n"
      ],
      "metadata": {
        "id": "xvc4iQ6netCE"
      },
      "execution_count": 189,
      "outputs": []
    },
    {
      "cell_type": "code",
      "source": [
        "plt.title('loss')\n",
        "plt.plot(losses)"
      ],
      "metadata": {
        "colab": {
          "base_uri": "https://localhost:8080/",
          "height": 298
        },
        "id": "AKwss1dEfcNv",
        "outputId": "10ccfc94-1c25-4bdf-d9c4-df604023bef3"
      },
      "execution_count": 190,
      "outputs": [
        {
          "output_type": "execute_result",
          "data": {
            "text/plain": [
              "[<matplotlib.lines.Line2D at 0x7f6fc1ef9700>]"
            ]
          },
          "metadata": {},
          "execution_count": 190
        },
        {
          "output_type": "display_data",
          "data": {
            "text/plain": [
              "<Figure size 432x288 with 1 Axes>"
            ],
            "image/png": "[encoded data removed]"
          },
          "metadata": {
            "needs_background": "light"
          }
        }
      ]
    },
    {
      "cell_type": "code",
      "source": [
        "plt.title('Accuracy')\n",
        "plt.plot(accs)"
      ],
      "metadata": {
        "colab": {
          "base_uri": "https://localhost:8080/",
          "height": 298
        },
        "id": "-WFQ8PDkfcUo",
        "outputId": "7aff3521-ee77-412b-8411-e69a66963809"
      },
      "execution_count": 191,
      "outputs": [
        {
          "output_type": "execute_result",
          "data": {
            "text/plain": [
              "[<matplotlib.lines.Line2D at 0x7f6fc1ca4280>]"
            ]
          },
          "metadata": {},
          "execution_count": 191
        },
        {
          "output_type": "display_data",
          "data": {
            "text/plain": [
              "<Figure size 432x288 with 1 Axes>"
            ],
            "image/png": "[encoded data removed]"
          },
          "metadata": {
            "needs_background": "light"
          }
        }
      ]
    },
    {
      "cell_type": "code",
      "source": [
        "plt.title(\"F1 Score\")\n",
        "plt.plot(f1s)"
      ],
      "metadata": {
        "colab": {
          "base_uri": "https://localhost:8080/",
          "height": 298
        },
        "id": "sjXgKPyQgu5K",
        "outputId": "1a3ca5bd-b7f0-4341-bdad-9fd69c6529f6"
      },
      "execution_count": 192,
      "outputs": [
        {
          "output_type": "execute_result",
          "data": {
            "text/plain": [
              "[<matplotlib.lines.Line2D at 0x7f6fc13ce1f0>]"
            ]
          },
          "metadata": {},
          "execution_count": 192
        },
        {
          "output_type": "display_data",
          "data": {
            "text/plain": [
              "<Figure size 432x288 with 1 Axes>"
            ],
            "image/png": "[encoded data removed]"
          },
          "metadata": {
            "needs_background": "light"
          }
        }
      ]
    },
    {
      "cell_type": "code",
      "source": [],
      "metadata": {
        "id": "T6ib0c1wg3aq"
      },
      "execution_count": null,
      "outputs": []
    },
    {
      "cell_type": "markdown",
      "source": [
        "### Make Predictions on example data\n"
      ],
      "metadata": {
        "id": "guPLy6lLg5bA"
      }
    },
    {
      "cell_type": "code",
      "source": [
        "small_df = raw_df.sample(50)\n",
        "small_df"
      ],
      "metadata": {
        "colab": {
          "base_uri": "https://localhost:8080/",
          "height": 1000
        },
        "id": "Sw5Z05kkg-ny",
        "outputId": "9bc5ff68-4228-4895-a82b-6774790824a3"
      },
      "execution_count": 216,
      "outputs": [
        {
          "output_type": "execute_result",
          "data": {
            "text/plain": [
              "                          qid  \\\n",
              "1210912  ed556c54a124c4610983   \n",
              "909681   b23ed6a2ab5761d67565   \n",
              "155930   1e808825bf3efc284192   \n",
              "590336   73a4b3372b020af32672   \n",
              "799975   9cc0a6ef9d30d82232ff   \n",
              "1211105  ed5f99b0ed8a20547a31   \n",
              "948445   b9d9b28d7ce3d7d86754   \n",
              "696000   88502cc8423914ffe1a0   \n",
              "438991   560703dc9c40db8cdf82   \n",
              "657431   80c54b8132a7d2374c6d   \n",
              "567937   6f48ddbcb96d5f975a8e   \n",
              "331739   41085530295bf7477810   \n",
              "506108   63194a1bbc4ed4893f55   \n",
              "260789   330d9f8dac2071ff14ea   \n",
              "729975   8ef1093c43524b0c04ea   \n",
              "1177700  e6c77eb96c11680757f1   \n",
              "714131   8bcad6860a507044cdd5   \n",
              "1298648  fe8795e3deeb2a85b7c9   \n",
              "856590   a7d45d5db307f311aa45   \n",
              "1275340  f9ee3c3f89e8a3cc650e   \n",
              "459073   59eb2da6a761ec1b6330   \n",
              "917885   b3dd03a0053b446a9f16   \n",
              "1014072  c6b7ea655ad049d98682   \n",
              "1225613  f0342df65ae268261799   \n",
              "1283219  fb7d48d054320dfede44   \n",
              "519963   65cc24ad70a7a4096443   \n",
              "772298   974bf55c18742cbd92b1   \n",
              "59553    0bae70a97fcf61e9160c   \n",
              "1160682  e36cac0ca6283530dacf   \n",
              "1208939  ecf13ce07ddf259100dc   \n",
              "726559   8e44351ca87d0ad1ff4e   \n",
              "1018679  c79f5f7e0b2bddf4748e   \n",
              "409870   5052a220e80248c086bf   \n",
              "788936   9a92346e9f911ff8d23b   \n",
              "1178744  e6fb2b8b814d26b48571   \n",
              "686330   866bc1f6f2695a2b4b9c   \n",
              "438075   55d9488ddfb132eb2bbd   \n",
              "653189   7ff3389d717da0a06a86   \n",
              "164387   20239128124e8a89b3cd   \n",
              "245990   301c4534e28337d4df20   \n",
              "738509   90a1dce18fa1eba97943   \n",
              "317070   3e2450ff3813bef93d1b   \n",
              "551929   6c22a329592ceeef73de   \n",
              "400304   4e6c98304e332855ec81   \n",
              "1085062  d4a3ada41d6ae1716329   \n",
              "810109   9ec0c012259daf4841e1   \n",
              "502639   626a353a10bf6acae644   \n",
              "170655   215b16fd12887e671803   \n",
              "603284   7627424a062bcc30e0ae   \n",
              "1162011  e3aedad9b3cbead163f5   \n",
              "\n",
              "                                             question_text  target  \n",
              "1210912  What strategy should I opt to score 100 in phy...       0  \n",
              "909681   What is the average package at placements for ...       0  \n",
              "155930                     What are some sweet wine types?       0  \n",
              "590336                How can I stop crashing my knuckles?       0  \n",
              "799975                          What are the types of PLC?       0  \n",
              "1211105      Is penicillin bacteriostatic or bactericidal?       0  \n",
              "948445               What is embalming and how it is done?       0  \n",
              "696000              What is some good modern thrash metal?       0  \n",
              "438991   Is Shahid Kapoor & Mira Rajput a Bollywood ver...       1  \n",
              "657431   How frequent are apsrtc busses from Visakhapat...       0  \n",
              "567937   How could you show off your total skills to a ...       0  \n",
              "331739         Is Trump racist? If yes where is the proof?       0  \n",
              "506108   Is Liam Casey lying about his IQ? If not, then...       0  \n",
              "260789   Why do you use Quora and who advised you for u...       0  \n",
              "729975                         What has MapQuest achieved?       0  \n",
              "1177700  Why do people think that police brutality is e...       1  \n",
              "714131   How can I download Test Bank for Core Concepts...       0  \n",
              "1298648  How would you rank the job profiles of enginee...       0  \n",
              "856590   Why don't Indian Christians rise up against In...       1  \n",
              "1275340                Will we ever go to war with Canada?       0  \n",
              "459073   Is it normal to get a big boner everytime by s...       0  \n",
              "917885   Does swimming make a woman's shoulders and arm...       0  \n",
              "1014072  How does induced emf help in maintaining curre...       0  \n",
              "1225613             How can I contact with an actor in UK?       0  \n",
              "1283219        How do you remove the back part of a watch?       0  \n",
              "519963   Is GRE required for doing MS in Robotics in Ge...       0  \n",
              "772298                  What anime did you watch as a kid?       0  \n",
              "59553    How can you rehydrate your body quickly withou...       0  \n",
              "1160682  What is the probability of a having 2 heads if...       0  \n",
              "1208939                    How do I watch movies for free?       0  \n",
              "726559       How does the modern society reflect history？?       0  \n",
              "1018679  What locals of Andaman mainland knows about No...       0  \n",
              "409870             What causes low blood sugar and nausea?       0  \n",
              "788936                          What is the best PS2 game?       0  \n",
              "1178744  How would you describe the urban development i...       0  \n",
              "686330   What is the relationship of the quantum entang...       0  \n",
              "438075              How can I unblock my flipcart account?       0  \n",
              "653189                        Why do we take in substance?       0  \n",
              "164387               How do I become the Queen of England?       0  \n",
              "245990               Can a rajyapal become chief minister?       0  \n",
              "738509   As more & more jobs are lost to tech/automatio...       0  \n",
              "317070   If you believe in the karma is it possible to ...       0  \n",
              "551929   What are some examples of political correctnes...       0  \n",
              "400304              How can we find the empirical formula?       0  \n",
              "1085062  Why did trump pressure Romney to show his taxe...       0  \n",
              "810109   What commercial is so cheesy, embarrassing, di...       0  \n",
              "502639                                  What is Hyderabad?       0  \n",
              "170655   Why does redirected mail from and to Gmail dis...       0  \n",
              "603284   My rank in JEE Mains is 23,498. In which all c...       0  \n",
              "1162011                     How is Percocet mass produced?       0  "
            ],
            "text/html": [
              "\n",
              "  <div id=\"df-180a7ad6-fc31-43de-bac8-83cc4fb967cb\">\n",
              "    <div class=\"colab-df-container\">\n",
              "      <div>\n",
              "<style scoped>\n",
              "    .dataframe tbody tr th:only-of-type {\n",
              "        vertical-align: middle;\n",
              "    }\n",
              "\n",
              "    .dataframe tbody tr th {\n",
              "        vertical-align: top;\n",
              "    }\n",
              "\n",
              "    .dataframe thead th {\n",
              "        text-align: right;\n",
              "    }\n",
              "</style>\n",
              "<table border=\"1\" class=\"dataframe\">\n",
              "  <thead>\n",
              "    <tr style=\"text-align: right;\">\n",
              "      <th></th>\n",
              "      <th>qid</th>\n",
              "      <th>question_text</th>\n",
              "      <th>target</th>\n",
              "    </tr>\n",
              "  </thead>\n",
              "  <tbody>\n",
              "    <tr>\n",
              "      <th>1210912</th>\n",
              "      <td>ed556c54a124c4610983</td>\n",
              "      <td>What strategy should I opt to score 100 in phy...</td>\n",
              "      <td>0</td>\n",
              "    </tr>\n",
              "    <tr>\n",
              "      <th>909681</th>\n",
              "      <td>b23ed6a2ab5761d67565</td>\n",
              "      <td>What is the average package at placements for ...</td>\n",
              "      <td>0</td>\n",
              "    </tr>\n",
              "    <tr>\n",
              "      <th>155930</th>\n",
              "      <td>1e808825bf3efc284192</td>\n",
              "      <td>What are some sweet wine types?</td>\n",
              "      <td>0</td>\n",
              "    </tr>\n",
              "    <tr>\n",
              "      <th>590336</th>\n",
              "      <td>73a4b3372b020af32672</td>\n",
              "      <td>How can I stop crashing my knuckles?</td>\n",
              "      <td>0</td>\n",
              "    </tr>\n",
              "    <tr>\n",
              "      <th>799975</th>\n",
              "      <td>9cc0a6ef9d30d82232ff</td>\n",
              "      <td>What are the types of PLC?</td>\n",
              "      <td>0</td>\n",
              "    </tr>\n",
              "    <tr>\n",
              "      <th>1211105</th>\n",
              "      <td>ed5f99b0ed8a20547a31</td>\n",
              "      <td>Is penicillin bacteriostatic or bactericidal?</td>\n",
              "      <td>0</td>\n",
              "    </tr>\n",
              "    <tr>\n",
              "      <th>948445</th>\n",
              "      <td>b9d9b28d7ce3d7d86754</td>\n",
              "      <td>What is embalming and how it is done?</td>\n",
              "      <td>0</td>\n",
              "    </tr>\n",
              "    <tr>\n",
              "      <th>696000</th>\n",
              "      <td>88502cc8423914ffe1a0</td>\n",
              "      <td>What is some good modern thrash metal?</td>\n",
              "      <td>0</td>\n",
              "    </tr>\n",
              "    <tr>\n",
              "      <th>438991</th>\n",
              "      <td>560703dc9c40db8cdf82</td>\n",
              "      <td>Is Shahid Kapoor &amp; Mira Rajput a Bollywood ver...</td>\n",
              "      <td>1</td>\n",
              "    </tr>\n",
              "    <tr>\n",
              "      <th>657431</th>\n",
              "      <td>80c54b8132a7d2374c6d</td>\n",
              "      <td>How frequent are apsrtc busses from Visakhapat...</td>\n",
              "      <td>0</td>\n",
              "    </tr>\n",
              "    <tr>\n",
              "      <th>567937</th>\n",
              "      <td>6f48ddbcb96d5f975a8e</td>\n",
              "      <td>How could you show off your total skills to a ...</td>\n",
              "      <td>0</td>\n",
              "    </tr>\n",
              "    <tr>\n",
              "      <th>331739</th>\n",
              "      <td>41085530295bf7477810</td>\n",
              "      <td>Is Trump racist? If yes where is the proof?</td>\n",
              "      <td>0</td>\n",
              "    </tr>\n",
              "    <tr>\n",
              "      <th>506108</th>\n",
              "      <td>63194a1bbc4ed4893f55</td>\n",
              "      <td>Is Liam Casey lying about his IQ? If not, then...</td>\n",
              "      <td>0</td>\n",
              "    </tr>\n",
              "    <tr>\n",
              "      <th>260789</th>\n",
              "      <td>330d9f8dac2071ff14ea</td>\n",
              "      <td>Why do you use Quora and who advised you for u...</td>\n",
              "      <td>0</td>\n",
              "    </tr>\n",
              "    <tr>\n",
              "      <th>729975</th>\n",
              "      <td>8ef1093c43524b0c04ea</td>\n",
              "      <td>What has MapQuest achieved?</td>\n",
              "      <td>0</td>\n",
              "    </tr>\n",
              "    <tr>\n",
              "      <th>1177700</th>\n",
              "      <td>e6c77eb96c11680757f1</td>\n",
              "      <td>Why do people think that police brutality is e...</td>\n",
              "      <td>1</td>\n",
              "    </tr>\n",
              "    <tr>\n",
              "      <th>714131</th>\n",
              "      <td>8bcad6860a507044cdd5</td>\n",
              "      <td>How can I download Test Bank for Core Concepts...</td>\n",
              "      <td>0</td>\n",
              "    </tr>\n",
              "    <tr>\n",
              "      <th>1298648</th>\n",
              "      <td>fe8795e3deeb2a85b7c9</td>\n",
              "      <td>How would you rank the job profiles of enginee...</td>\n",
              "      <td>0</td>\n",
              "    </tr>\n",
              "    <tr>\n",
              "      <th>856590</th>\n",
              "      <td>a7d45d5db307f311aa45</td>\n",
              "      <td>Why don't Indian Christians rise up against In...</td>\n",
              "      <td>1</td>\n",
              "    </tr>\n",
              "    <tr>\n",
              "      <th>1275340</th>\n",
              "      <td>f9ee3c3f89e8a3cc650e</td>\n",
              "      <td>Will we ever go to war with Canada?</td>\n",
              "      <td>0</td>\n",
              "    </tr>\n",
              "    <tr>\n",
              "      <th>459073</th>\n",
              "      <td>59eb2da6a761ec1b6330</td>\n",
              "      <td>Is it normal to get a big boner everytime by s...</td>\n",
              "      <td>0</td>\n",
              "    </tr>\n",
              "    <tr>\n",
              "      <th>917885</th>\n",
              "      <td>b3dd03a0053b446a9f16</td>\n",
              "      <td>Does swimming make a woman's shoulders and arm...</td>\n",
              "      <td>0</td>\n",
              "    </tr>\n",
              "    <tr>\n",
              "      <th>1014072</th>\n",
              "      <td>c6b7ea655ad049d98682</td>\n",
              "      <td>How does induced emf help in maintaining curre...</td>\n",
              "      <td>0</td>\n",
              "    </tr>\n",
              "    <tr>\n",
              "      <th>1225613</th>\n",
              "      <td>f0342df65ae268261799</td>\n",
              "      <td>How can I contact with an actor in UK?</td>\n",
              "      <td>0</td>\n",
              "    </tr>\n",
              "    <tr>\n",
              "      <th>1283219</th>\n",
              "      <td>fb7d48d054320dfede44</td>\n",
              "      <td>How do you remove the back part of a watch?</td>\n",
              "      <td>0</td>\n",
              "    </tr>\n",
              "    <tr>\n",
              "      <th>519963</th>\n",
              "      <td>65cc24ad70a7a4096443</td>\n",
              "      <td>Is GRE required for doing MS in Robotics in Ge...</td>\n",
              "      <td>0</td>\n",
              "    </tr>\n",
              "    <tr>\n",
              "      <th>772298</th>\n",
              "      <td>974bf55c18742cbd92b1</td>\n",
              "      <td>What anime did you watch as a kid?</td>\n",
              "      <td>0</td>\n",
              "    </tr>\n",
              "    <tr>\n",
              "      <th>59553</th>\n",
              "      <td>0bae70a97fcf61e9160c</td>\n",
              "      <td>How can you rehydrate your body quickly withou...</td>\n",
              "      <td>0</td>\n",
              "    </tr>\n",
              "    <tr>\n",
              "      <th>1160682</th>\n",
              "      <td>e36cac0ca6283530dacf</td>\n",
              "      <td>What is the probability of a having 2 heads if...</td>\n",
              "      <td>0</td>\n",
              "    </tr>\n",
              "    <tr>\n",
              "      <th>1208939</th>\n",
              "      <td>ecf13ce07ddf259100dc</td>\n",
              "      <td>How do I watch movies for free?</td>\n",
              "      <td>0</td>\n",
              "    </tr>\n",
              "    <tr>\n",
              "      <th>726559</th>\n",
              "      <td>8e44351ca87d0ad1ff4e</td>\n",
              "      <td>How does the modern society reflect history？?</td>\n",
              "      <td>0</td>\n",
              "    </tr>\n",
              "    <tr>\n",
              "      <th>1018679</th>\n",
              "      <td>c79f5f7e0b2bddf4748e</td>\n",
              "      <td>What locals of Andaman mainland knows about No...</td>\n",
              "      <td>0</td>\n",
              "    </tr>\n",
              "    <tr>\n",
              "      <th>409870</th>\n",
              "      <td>5052a220e80248c086bf</td>\n",
              "      <td>What causes low blood sugar and nausea?</td>\n",
              "      <td>0</td>\n",
              "    </tr>\n",
              "    <tr>\n",
              "      <th>788936</th>\n",
              "      <td>9a92346e9f911ff8d23b</td>\n",
              "      <td>What is the best PS2 game?</td>\n",
              "      <td>0</td>\n",
              "    </tr>\n",
              "    <tr>\n",
              "      <th>1178744</th>\n",
              "      <td>e6fb2b8b814d26b48571</td>\n",
              "      <td>How would you describe the urban development i...</td>\n",
              "      <td>0</td>\n",
              "    </tr>\n",
              "    <tr>\n",
              "      <th>686330</th>\n",
              "      <td>866bc1f6f2695a2b4b9c</td>\n",
              "      <td>What is the relationship of the quantum entang...</td>\n",
              "      <td>0</td>\n",
              "    </tr>\n",
              "    <tr>\n",
              "      <th>438075</th>\n",
              "      <td>55d9488ddfb132eb2bbd</td>\n",
              "      <td>How can I unblock my flipcart account?</td>\n",
              "      <td>0</td>\n",
              "    </tr>\n",
              "    <tr>\n",
              "      <th>653189</th>\n",
              "      <td>7ff3389d717da0a06a86</td>\n",
              "      <td>Why do we take in substance?</td>\n",
              "      <td>0</td>\n",
              "    </tr>\n",
              "    <tr>\n",
              "      <th>164387</th>\n",
              "      <td>20239128124e8a89b3cd</td>\n",
              "      <td>How do I become the Queen of England?</td>\n",
              "      <td>0</td>\n",
              "    </tr>\n",
              "    <tr>\n",
              "      <th>245990</th>\n",
              "      <td>301c4534e28337d4df20</td>\n",
              "      <td>Can a rajyapal become chief minister?</td>\n",
              "      <td>0</td>\n",
              "    </tr>\n",
              "    <tr>\n",
              "      <th>738509</th>\n",
              "      <td>90a1dce18fa1eba97943</td>\n",
              "      <td>As more &amp; more jobs are lost to tech/automatio...</td>\n",
              "      <td>0</td>\n",
              "    </tr>\n",
              "    <tr>\n",
              "      <th>317070</th>\n",
              "      <td>3e2450ff3813bef93d1b</td>\n",
              "      <td>If you believe in the karma is it possible to ...</td>\n",
              "      <td>0</td>\n",
              "    </tr>\n",
              "    <tr>\n",
              "      <th>551929</th>\n",
              "      <td>6c22a329592ceeef73de</td>\n",
              "      <td>What are some examples of political correctnes...</td>\n",
              "      <td>0</td>\n",
              "    </tr>\n",
              "    <tr>\n",
              "      <th>400304</th>\n",
              "      <td>4e6c98304e332855ec81</td>\n",
              "      <td>How can we find the empirical formula?</td>\n",
              "      <td>0</td>\n",
              "    </tr>\n",
              "    <tr>\n",
              "      <th>1085062</th>\n",
              "      <td>d4a3ada41d6ae1716329</td>\n",
              "      <td>Why did trump pressure Romney to show his taxe...</td>\n",
              "      <td>0</td>\n",
              "    </tr>\n",
              "    <tr>\n",
              "      <th>810109</th>\n",
              "      <td>9ec0c012259daf4841e1</td>\n",
              "      <td>What commercial is so cheesy, embarrassing, di...</td>\n",
              "      <td>0</td>\n",
              "    </tr>\n",
              "    <tr>\n",
              "      <th>502639</th>\n",
              "      <td>626a353a10bf6acae644</td>\n",
              "      <td>What is Hyderabad?</td>\n",
              "      <td>0</td>\n",
              "    </tr>\n",
              "    <tr>\n",
              "      <th>170655</th>\n",
              "      <td>215b16fd12887e671803</td>\n",
              "      <td>Why does redirected mail from and to Gmail dis...</td>\n",
              "      <td>0</td>\n",
              "    </tr>\n",
              "    <tr>\n",
              "      <th>603284</th>\n",
              "      <td>7627424a062bcc30e0ae</td>\n",
              "      <td>My rank in JEE Mains is 23,498. In which all c...</td>\n",
              "      <td>0</td>\n",
              "    </tr>\n",
              "    <tr>\n",
              "      <th>1162011</th>\n",
              "      <td>e3aedad9b3cbead163f5</td>\n",
              "      <td>How is Percocet mass produced?</td>\n",
              "      <td>0</td>\n",
              "    </tr>\n",
              "  </tbody>\n",
              "</table>\n",
              "</div>\n",
              "      <button class=\"colab-df-convert\" onclick=\"convertToInteractive('df-180a7ad6-fc31-43de-bac8-83cc4fb967cb')\"\n",
              "              title=\"Convert this dataframe to an interactive table.\"\n",
              "              style=\"display:none;\">\n",
              "        \n",
              "  <svg xmlns=\"http://www.w3.org/2000/svg\" height=\"24px\"viewBox=\"0 0 24 24\"\n",
              "       width=\"24px\">\n",
              "    <path d=\"M0 0h24v24H0V0z\" fill=\"none\"/>\n",
              "    <path d=\"M18.56 5.44l.94 2.06.94-2.06 2.06-.94-2.06-.94-.94-2.06-.94 2.06-2.06.94zm-11 1L8.5 8.5l.94-2.06 2.06-.94-2.06-.94L8.5 2.5l-.94 2.06-2.06.94zm10 10l.94 2.06.94-2.06 2.06-.94-2.06-.94-.94-2.06-.94 2.06-2.06.94z\"/><path d=\"M17.41 7.96l-1.37-1.37c-.4-.4-.92-.59-1.43-.59-.52 0-1.04.2-1.43.59L10.3 9.45l-7.72 7.72c-.78.78-.78 2.05 0 2.83L4 21.41c.39.39.9.59 1.41.59.51 0 1.02-.2 1.41-.59l7.78-7.78 2.81-2.81c.8-.78.8-2.07 0-2.86zM5.41 20L4 18.59l7.72-7.72 1.47 1.35L5.41 20z\"/>\n",
              "  </svg>\n",
              "      </button>\n",
              "      \n",
              "  <style>\n",
              "    .colab-df-container {\n",
              "      display:flex;\n",
              "      flex-wrap:wrap;\n",
              "      gap: 12px;\n",
              "    }\n",
              "\n",
              "    .colab-df-convert {\n",
              "      background-color: #E8F0FE;\n",
              "      border: none;\n",
              "      border-radius: 50%;\n",
              "      cursor: pointer;\n",
              "      display: none;\n",
              "      fill: #1967D2;\n",
              "      height: 32px;\n",
              "      padding: 0 0 0 0;\n",
              "      width: 32px;\n",
              "    }\n",
              "\n",
              "    .colab-df-convert:hover {\n",
              "      background-color: #E2EBFA;\n",
              "      box-shadow: 0px 1px 2px rgba(60, 64, 67, 0.3), 0px 1px 3px 1px rgba(60, 64, 67, 0.15);\n",
              "      fill: #174EA6;\n",
              "    }\n",
              "\n",
              "    [theme=dark] .colab-df-convert {\n",
              "      background-color: #3B4455;\n",
              "      fill: #D2E3FC;\n",
              "    }\n",
              "\n",
              "    [theme=dark] .colab-df-convert:hover {\n",
              "      background-color: #434B5C;\n",
              "      box-shadow: 0px 1px 3px 1px rgba(0, 0, 0, 0.15);\n",
              "      filter: drop-shadow(0px 1px 2px rgba(0, 0, 0, 0.3));\n",
              "      fill: #FFFFFF;\n",
              "    }\n",
              "  </style>\n",
              "\n",
              "      <script>\n",
              "        const buttonEl =\n",
              "          document.querySelector('#df-180a7ad6-fc31-43de-bac8-83cc4fb967cb button.colab-df-convert');\n",
              "        buttonEl.style.display =\n",
              "          google.colab.kernel.accessAllowed ? 'block' : 'none';\n",
              "\n",
              "        async function convertToInteractive(key) {\n",
              "          const element = document.querySelector('#df-180a7ad6-fc31-43de-bac8-83cc4fb967cb');\n",
              "          const dataTable =\n",
              "            await google.colab.kernel.invokeFunction('convertToInteractive',\n",
              "                                                     [key], {});\n",
              "          if (!dataTable) return;\n",
              "\n",
              "          const docLinkHtml = 'Like what you see? Visit the ' +\n",
              "            '<a target=\"_blank\" href=https://colab.research.google.com/notebooks/data_table.ipynb>data table notebook</a>'\n",
              "            + ' to learn more about interactive tables.';\n",
              "          element.innerHTML = '';\n",
              "          dataTable['output_type'] = 'display_data';\n",
              "          await google.colab.output.renderOutput(dataTable, element);\n",
              "          const docLink = document.createElement('div');\n",
              "          docLink.innerHTML = docLinkHtml;\n",
              "          element.appendChild(docLink);\n",
              "        }\n",
              "      </script>\n",
              "    </div>\n",
              "  </div>\n",
              "  "
            ]
          },
          "metadata": {},
          "execution_count": 216
        }
      ]
    },
    {
      "cell_type": "code",
      "source": [
        "#Predicting a dataframe\n",
        "def predict_df(df):\n",
        "  inputs = vectorizer.transform(df.question_text)\n",
        "  input_tensors = torch.tensor(inputs.toarray()).float()\n",
        "  outputs = model(input_tensors)\n",
        "  probs = torch.sigmoid(outputs[:,0])\n",
        "  preds= (probs>0.5).int()\n",
        "  return preds"
      ],
      "metadata": {
        "id": "AV1YM22lhIYz"
      },
      "execution_count": 221,
      "outputs": []
    },
    {
      "cell_type": "markdown",
      "source": [],
      "metadata": {
        "id": "lEMER2d8nVBs"
      }
    },
    {
      "cell_type": "code",
      "source": [
        "small_df.target.values"
      ],
      "metadata": {
        "colab": {
          "base_uri": "https://localhost:8080/"
        },
        "id": "6BGJyD-GnvZX",
        "outputId": "3d6a5eb2-8c01-41cb-f197-6307edf1087a"
      },
      "execution_count": 222,
      "outputs": [
        {
          "output_type": "execute_result",
          "data": {
            "text/plain": [
              "array([0, 0, 0, 0, 0, 0, 0, 0, 1, 0, 0, 0, 0, 0, 0, 1, 0, 0, 1, 0, 0, 0,\n",
              "       0, 0, 0, 0, 0, 0, 0, 0, 0, 0, 0, 0, 0, 0, 0, 0, 0, 0, 0, 0, 0, 0,\n",
              "       0, 0, 0, 0, 0, 0])"
            ]
          },
          "metadata": {},
          "execution_count": 222
        }
      ]
    },
    {
      "cell_type": "code",
      "source": [
        "predict_df(small_df)"
      ],
      "metadata": {
        "colab": {
          "base_uri": "https://localhost:8080/"
        },
        "id": "WQS3H9Uun1yJ",
        "outputId": "cdd91e1e-7398-48bf-db80-d9d104442d55"
      },
      "execution_count": 223,
      "outputs": [
        {
          "output_type": "execute_result",
          "data": {
            "text/plain": [
              "tensor([0, 0, 0, 0, 0, 0, 0, 0, 0, 0, 0, 1, 0, 0, 0, 1, 0, 0, 1, 0, 0, 0, 0, 0,\n",
              "        0, 0, 0, 0, 0, 1, 0, 0, 0, 0, 0, 0, 0, 0, 0, 0, 0, 0, 0, 0, 0, 0, 0, 0,\n",
              "        0, 0], dtype=torch.int32)"
            ]
          },
          "metadata": {},
          "execution_count": 223
        }
      ]
    },
    {
      "cell_type": "code",
      "source": [
        "small_df.question_text.values"
      ],
      "metadata": {
        "colab": {
          "base_uri": "https://localhost:8080/"
        },
        "id": "IoaM7VdRn11n",
        "outputId": "539c3da6-8ad2-4857-a511-ada27337fd11"
      },
      "execution_count": 224,
      "outputs": [
        {
          "output_type": "execute_result",
          "data": {
            "text/plain": [
              "array(['What strategy should I opt to score 100 in physics in JEE Mains?',\n",
              "       'What is the average package at placements for MBA at MSRIM?',\n",
              "       'What are some sweet wine types?',\n",
              "       'How can I stop crashing my knuckles?',\n",
              "       'What are the types of PLC?',\n",
              "       'Is penicillin bacteriostatic or bactericidal?',\n",
              "       'What is embalming and how it is done?',\n",
              "       'What is some good modern thrash metal?',\n",
              "       'Is Shahid Kapoor & Mira Rajput a Bollywood version of 50 Shades of Grey with RSSB as a cover for their BDSM relationship?',\n",
              "       'How frequent are apsrtc busses from Visakhapatnam complex to vizianagaram and their timings?',\n",
              "       'How could you show off your total skills to a company?',\n",
              "       'Is Trump racist? If yes where is the proof?',\n",
              "       'Is Liam Casey lying about his IQ? If not, then which version of the IQ test did he take that went as high as 165?',\n",
              "       'Why do you use Quora and who advised you for using it?',\n",
              "       'What has MapQuest achieved?',\n",
              "       'Why do people think that police brutality is exclusive to black people?',\n",
              "       'How can I download Test Bank for Core Concepts in pharmacology 4th Edition by Holland?',\n",
              "       'How would you rank the job profiles of engineers (software and hardware) according to the blooms taxonomy of abilities?',\n",
              "       \"Why don't Indian Christians rise up against India?\",\n",
              "       'Will we ever go to war with Canada?',\n",
              "       'Is it normal to get a big boner everytime by seeing any young girl?',\n",
              "       \"Does swimming make a woman's shoulders and arms bigger?\",\n",
              "       'How does induced emf help in maintaining current in a circuit?',\n",
              "       'How can I contact with an actor in UK?',\n",
              "       'How do you remove the back part of a watch?',\n",
              "       'Is GRE required for doing MS in Robotics in Germany?',\n",
              "       'What anime did you watch as a kid?',\n",
              "       'How can you rehydrate your body quickly without making your stomach ache from drinking too much water?',\n",
              "       'What is the probability of a having 2 heads if a coin is tossed twice?',\n",
              "       'How do I watch movies for free?',\n",
              "       'How does the modern society reflect history？?',\n",
              "       'What locals of Andaman mainland knows about North Sentinel people?',\n",
              "       'What causes low blood sugar and nausea?',\n",
              "       'What is the best PS2 game?',\n",
              "       'How would you describe the urban development in Ramna Thana, Dhaka?',\n",
              "       'What is the relationship of the quantum entanglement of stars and planets within the black hole?',\n",
              "       'How can I unblock my flipcart account?',\n",
              "       'Why do we take in substance?',\n",
              "       'How do I become the Queen of England?',\n",
              "       'Can a rajyapal become chief minister?',\n",
              "       'As more & more jobs are lost to tech/automation, what are the people going to do for work?',\n",
              "       'If you believe in the karma is it possible to believe in the butterfly effect too?',\n",
              "       'What are some examples of political correctness gone wrong?',\n",
              "       'How can we find the empirical formula?',\n",
              "       'Why did trump pressure Romney to show his taxes when he was running for President?',\n",
              "       \"What commercial is so cheesy, embarrassing, disingenuous or just plain bad that it makes you want to buy the competitor's product?\",\n",
              "       'What is Hyderabad?',\n",
              "       'Why does redirected mail from and to Gmail disappear?',\n",
              "       'My rank in JEE Mains is 23,498. In which all colleges can I get CSE?',\n",
              "       'How is Percocet mass produced?'], dtype=object)"
            ]
          },
          "metadata": {},
          "execution_count": 224
        }
      ]
    },
    {
      "cell_type": "code",
      "source": [
        "#predicting a text\n",
        "def predict_text(text):\n",
        "  df = pd.DataFrame({'question_text': [text]})\n",
        "  inputs = vectorizer.transform(df.question_text)\n",
        "  input_tensors = torch.tensor(inputs.toarray()).float()\n",
        "  outputs = model(input_tensors)\n",
        "  probs = torch.sigmoid(outputs[:,0])\n",
        "  preds= (probs>0.5).int()\n",
        "  return preds"
      ],
      "metadata": {
        "id": "epG6d585iOcU"
      },
      "execution_count": 225,
      "outputs": []
    },
    {
      "cell_type": "code",
      "source": [
        "predict_text('What is your name')"
      ],
      "metadata": {
        "colab": {
          "base_uri": "https://localhost:8080/"
        },
        "id": "F9IFXTkWn0wk",
        "outputId": "6276f4a1-6d81-4837-abdd-1b96813a2caf"
      },
      "execution_count": 227,
      "outputs": [
        {
          "output_type": "execute_result",
          "data": {
            "text/plain": [
              "tensor([0], dtype=torch.int32)"
            ]
          },
          "metadata": {},
          "execution_count": 227
        }
      ]
    },
    {
      "cell_type": "code",
      "source": [
        "predict_text(\"Why can't you realize how stupid your ideas are\")"
      ],
      "metadata": {
        "colab": {
          "base_uri": "https://localhost:8080/"
        },
        "id": "5viQ2jKViphl",
        "outputId": "0cdd8ecb-a31a-4f75-fb1a-6efe37d7dc4e"
      },
      "execution_count": 230,
      "outputs": [
        {
          "output_type": "execute_result",
          "data": {
            "text/plain": [
              "tensor([1], dtype=torch.int32)"
            ]
          },
          "metadata": {},
          "execution_count": 230
        }
      ]
    },
    {
      "cell_type": "markdown",
      "source": [
        "## Generate Predictions for Test Set"
      ],
      "metadata": {
        "id": "WwQQSr2y4Bbr"
      }
    },
    {
      "cell_type": "code",
      "source": [
        "test_inputs"
      ],
      "metadata": {
        "colab": {
          "base_uri": "https://localhost:8080/"
        },
        "id": "LVMU9ldepr6f",
        "outputId": "4a784b2c-dd14-44d5-e833-240a9fda8211"
      },
      "execution_count": 231,
      "outputs": [
        {
          "output_type": "execute_result",
          "data": {
            "text/plain": [
              "<375806x1000 sparse matrix of type '<class 'numpy.float64'>'\n",
              "\twith 2056603 stored elements in Compressed Sparse Row format>"
            ]
          },
          "metadata": {},
          "execution_count": 231
        }
      ]
    },
    {
      "cell_type": "code",
      "source": [
        "import numpy as np\n",
        "def make_preds(dl):\n",
        "  all_preds=[]\n",
        "  for batch in dl:\n",
        "    inputs = batch[0]\n",
        "    outputs =model(inputs)\n",
        "    probs = torch.sigmoid(outputs[:,0])\n",
        "    preds =(probs > 0.5).int()\n",
        "    all_preds.append(preds.detach().numpy())\n",
        "  np.concatenate(all_preds)\n"
      ],
      "metadata": {
        "id": "6UvJ-84O4Kdn"
      },
      "execution_count": 250,
      "outputs": []
    },
    {
      "cell_type": "code",
      "source": [
        "test_dl"
      ],
      "metadata": {
        "colab": {
          "base_uri": "https://localhost:8080/"
        },
        "id": "hAILbhKDALti",
        "outputId": "25aa76ff-6b57-41fd-b34d-d9c7fd4c3a81"
      },
      "execution_count": 260,
      "outputs": [
        {
          "output_type": "execute_result",
          "data": {
            "text/plain": [
              "<torch.utils.data.dataloader.DataLoader at 0x7f703c2b58b0>"
            ]
          },
          "metadata": {},
          "execution_count": 260
        }
      ]
    },
    {
      "cell_type": "code",
      "source": [
        "test_preds = make_preds(test_dl)"
      ],
      "metadata": {
        "id": "isxe0iET5b-r"
      },
      "execution_count": 263,
      "outputs": []
    },
    {
      "cell_type": "code",
      "source": [
        "len(test_preds)"
      ],
      "metadata": {
        "id": "lfgD1kyb5inx"
      },
      "execution_count": 254,
      "outputs": []
    },
    {
      "cell_type": "code",
      "source": [
        "sub_df"
      ],
      "metadata": {
        "colab": {
          "base_uri": "https://localhost:8080/",
          "height": 424
        },
        "id": "Fcf_uVoc_k9a",
        "outputId": "d404433a-c506-49ff-d312-2627f8f16073"
      },
      "execution_count": 255,
      "outputs": [
        {
          "output_type": "execute_result",
          "data": {
            "text/plain": [
              "                         qid  prediction\n",
              "0       0000163e3ea7c7a74cd7           0\n",
              "1       00002bd4fb5d505b9161           0\n",
              "2       00007756b4a147d2b0b3           0\n",
              "3       000086e4b7e1c7146103           0\n",
              "4       0000c4c3fbe8785a3090           0\n",
              "...                      ...         ...\n",
              "375801  ffff7fa746bd6d6197a9           0\n",
              "375802  ffffa1be31c43046ab6b           0\n",
              "375803  ffffae173b6ca6bfa563           0\n",
              "375804  ffffb1f7f1a008620287           0\n",
              "375805  fffff85473f4699474b0           0\n",
              "\n",
              "[375806 rows x 2 columns]"
            ],
            "text/html": [
              "\n",
              "  <div id=\"df-ecae12cb-f9f1-4a96-a83a-a7c017c7f2b0\">\n",
              "    <div class=\"colab-df-container\">\n",
              "      <div>\n",
              "<style scoped>\n",
              "    .dataframe tbody tr th:only-of-type {\n",
              "        vertical-align: middle;\n",
              "    }\n",
              "\n",
              "    .dataframe tbody tr th {\n",
              "        vertical-align: top;\n",
              "    }\n",
              "\n",
              "    .dataframe thead th {\n",
              "        text-align: right;\n",
              "    }\n",
              "</style>\n",
              "<table border=\"1\" class=\"dataframe\">\n",
              "  <thead>\n",
              "    <tr style=\"text-align: right;\">\n",
              "      <th></th>\n",
              "      <th>qid</th>\n",
              "      <th>prediction</th>\n",
              "    </tr>\n",
              "  </thead>\n",
              "  <tbody>\n",
              "    <tr>\n",
              "      <th>0</th>\n",
              "      <td>0000163e3ea7c7a74cd7</td>\n",
              "      <td>0</td>\n",
              "    </tr>\n",
              "    <tr>\n",
              "      <th>1</th>\n",
              "      <td>00002bd4fb5d505b9161</td>\n",
              "      <td>0</td>\n",
              "    </tr>\n",
              "    <tr>\n",
              "      <th>2</th>\n",
              "      <td>00007756b4a147d2b0b3</td>\n",
              "      <td>0</td>\n",
              "    </tr>\n",
              "    <tr>\n",
              "      <th>3</th>\n",
              "      <td>000086e4b7e1c7146103</td>\n",
              "      <td>0</td>\n",
              "    </tr>\n",
              "    <tr>\n",
              "      <th>4</th>\n",
              "      <td>0000c4c3fbe8785a3090</td>\n",
              "      <td>0</td>\n",
              "    </tr>\n",
              "    <tr>\n",
              "      <th>...</th>\n",
              "      <td>...</td>\n",
              "      <td>...</td>\n",
              "    </tr>\n",
              "    <tr>\n",
              "      <th>375801</th>\n",
              "      <td>ffff7fa746bd6d6197a9</td>\n",
              "      <td>0</td>\n",
              "    </tr>\n",
              "    <tr>\n",
              "      <th>375802</th>\n",
              "      <td>ffffa1be31c43046ab6b</td>\n",
              "      <td>0</td>\n",
              "    </tr>\n",
              "    <tr>\n",
              "      <th>375803</th>\n",
              "      <td>ffffae173b6ca6bfa563</td>\n",
              "      <td>0</td>\n",
              "    </tr>\n",
              "    <tr>\n",
              "      <th>375804</th>\n",
              "      <td>ffffb1f7f1a008620287</td>\n",
              "      <td>0</td>\n",
              "    </tr>\n",
              "    <tr>\n",
              "      <th>375805</th>\n",
              "      <td>fffff85473f4699474b0</td>\n",
              "      <td>0</td>\n",
              "    </tr>\n",
              "  </tbody>\n",
              "</table>\n",
              "<p>375806 rows × 2 columns</p>\n",
              "</div>\n",
              "      <button class=\"colab-df-convert\" onclick=\"convertToInteractive('df-ecae12cb-f9f1-4a96-a83a-a7c017c7f2b0')\"\n",
              "              title=\"Convert this dataframe to an interactive table.\"\n",
              "              style=\"display:none;\">\n",
              "        \n",
              "  <svg xmlns=\"http://www.w3.org/2000/svg\" height=\"24px\"viewBox=\"0 0 24 24\"\n",
              "       width=\"24px\">\n",
              "    <path d=\"M0 0h24v24H0V0z\" fill=\"none\"/>\n",
              "    <path d=\"M18.56 5.44l.94 2.06.94-2.06 2.06-.94-2.06-.94-.94-2.06-.94 2.06-2.06.94zm-11 1L8.5 8.5l.94-2.06 2.06-.94-2.06-.94L8.5 2.5l-.94 2.06-2.06.94zm10 10l.94 2.06.94-2.06 2.06-.94-2.06-.94-.94-2.06-.94 2.06-2.06.94z\"/><path d=\"M17.41 7.96l-1.37-1.37c-.4-.4-.92-.59-1.43-.59-.52 0-1.04.2-1.43.59L10.3 9.45l-7.72 7.72c-.78.78-.78 2.05 0 2.83L4 21.41c.39.39.9.59 1.41.59.51 0 1.02-.2 1.41-.59l7.78-7.78 2.81-2.81c.8-.78.8-2.07 0-2.86zM5.41 20L4 18.59l7.72-7.72 1.47 1.35L5.41 20z\"/>\n",
              "  </svg>\n",
              "      </button>\n",
              "      \n",
              "  <style>\n",
              "    .colab-df-container {\n",
              "      display:flex;\n",
              "      flex-wrap:wrap;\n",
              "      gap: 12px;\n",
              "    }\n",
              "\n",
              "    .colab-df-convert {\n",
              "      background-color: #E8F0FE;\n",
              "      border: none;\n",
              "      border-radius: 50%;\n",
              "      cursor: pointer;\n",
              "      display: none;\n",
              "      fill: #1967D2;\n",
              "      height: 32px;\n",
              "      padding: 0 0 0 0;\n",
              "      width: 32px;\n",
              "    }\n",
              "\n",
              "    .colab-df-convert:hover {\n",
              "      background-color: #E2EBFA;\n",
              "      box-shadow: 0px 1px 2px rgba(60, 64, 67, 0.3), 0px 1px 3px 1px rgba(60, 64, 67, 0.15);\n",
              "      fill: #174EA6;\n",
              "    }\n",
              "\n",
              "    [theme=dark] .colab-df-convert {\n",
              "      background-color: #3B4455;\n",
              "      fill: #D2E3FC;\n",
              "    }\n",
              "\n",
              "    [theme=dark] .colab-df-convert:hover {\n",
              "      background-color: #434B5C;\n",
              "      box-shadow: 0px 1px 3px 1px rgba(0, 0, 0, 0.15);\n",
              "      filter: drop-shadow(0px 1px 2px rgba(0, 0, 0, 0.3));\n",
              "      fill: #FFFFFF;\n",
              "    }\n",
              "  </style>\n",
              "\n",
              "      <script>\n",
              "        const buttonEl =\n",
              "          document.querySelector('#df-ecae12cb-f9f1-4a96-a83a-a7c017c7f2b0 button.colab-df-convert');\n",
              "        buttonEl.style.display =\n",
              "          google.colab.kernel.accessAllowed ? 'block' : 'none';\n",
              "\n",
              "        async function convertToInteractive(key) {\n",
              "          const element = document.querySelector('#df-ecae12cb-f9f1-4a96-a83a-a7c017c7f2b0');\n",
              "          const dataTable =\n",
              "            await google.colab.kernel.invokeFunction('convertToInteractive',\n",
              "                                                     [key], {});\n",
              "          if (!dataTable) return;\n",
              "\n",
              "          const docLinkHtml = 'Like what you see? Visit the ' +\n",
              "            '<a target=\"_blank\" href=https://colab.research.google.com/notebooks/data_table.ipynb>data table notebook</a>'\n",
              "            + ' to learn more about interactive tables.';\n",
              "          element.innerHTML = '';\n",
              "          dataTable['output_type'] = 'display_data';\n",
              "          await google.colab.output.renderOutput(dataTable, element);\n",
              "          const docLink = document.createElement('div');\n",
              "          docLink.innerHTML = docLinkHtml;\n",
              "          element.appendChild(docLink);\n",
              "        }\n",
              "      </script>\n",
              "    </div>\n",
              "  </div>\n",
              "  "
            ]
          },
          "metadata": {},
          "execution_count": 255
        }
      ]
    },
    {
      "cell_type": "code",
      "source": [
        "sub_df.prediction =test_preds"
      ],
      "metadata": {
        "id": "awJEKt5w7SAX"
      },
      "execution_count": 256,
      "outputs": []
    },
    {
      "cell_type": "code",
      "source": [
        "sub_df.prediction.value_counts()"
      ],
      "metadata": {
        "colab": {
          "base_uri": "https://localhost:8080/"
        },
        "id": "In6QhEDX_tnU",
        "outputId": "dd7156d0-d22a-497f-cc6f-23fd6668413d"
      },
      "execution_count": 262,
      "outputs": [
        {
          "output_type": "execute_result",
          "data": {
            "text/plain": [
              "Series([], Name: prediction, dtype: int64)"
            ]
          },
          "metadata": {},
          "execution_count": 262
        }
      ]
    },
    {
      "cell_type": "code",
      "source": [
        "sub_df.to_csv('submission.csv', index=None)"
      ],
      "metadata": {
        "id": "epVFk4bn_ccq"
      },
      "execution_count": 261,
      "outputs": []
    },
    {
      "cell_type": "code",
      "source": [],
      "metadata": {
        "id": "nTRc8Vx4AbSb"
      },
      "execution_count": null,
      "outputs": []
    }
  ],
  "metadata": {
    "kernelspec": {
      "display_name": "Python 3",
      "language": "python",
      "name": "python3"
    },
    "language_info": {
      "codemirror_mode": {
        "name": "ipython",
        "version": 3
      },
      "file_extension": ".py",
      "mimetype": "text/x-python",
      "name": "python",
      "nbconvert_exporter": "python",
      "pygments_lexer": "ipython3",
      "version": "3.7.6"
    },
    "colab": {
      "provenance": [],
      "include_colab_link": true
    }
  },
  "nbformat": 4,
  "nbformat_minor": 0
}